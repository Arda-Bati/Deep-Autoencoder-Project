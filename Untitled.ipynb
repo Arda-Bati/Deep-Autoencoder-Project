{
 "cells": [
  {
   "cell_type": "code",
   "execution_count": 5,
   "metadata": {},
   "outputs": [],
   "source": [
    "import torch"
   ]
  },
  {
   "cell_type": "code",
   "execution_count": 2,
   "metadata": {},
   "outputs": [],
   "source": [
    "model=torch.load('encoder.pt')"
   ]
  },
  {
   "cell_type": "code",
   "execution_count": 3,
   "metadata": {},
   "outputs": [
    {
     "data": {
      "text/plain": [
       "<bound method Module.parameters of autoencoder(\n",
       "  (encoder): Sequential(\n",
       "    (0): Linear(in_features=1419, out_features=1024, bias=True)\n",
       "    (1): Sigmoid()\n",
       "    (2): Linear(in_features=1024, out_features=512, bias=True)\n",
       "    (3): Sigmoid()\n",
       "    (4): Linear(in_features=512, out_features=256, bias=True)\n",
       "  )\n",
       "  (decoder): Sequential(\n",
       "    (0): Linear(in_features=256, out_features=512, bias=True)\n",
       "    (1): Sigmoid()\n",
       "    (2): Linear(in_features=512, out_features=1024, bias=True)\n",
       "    (3): Sigmoid()\n",
       "    (4): Linear(in_features=1024, out_features=1419, bias=True)\n",
       "  )\n",
       ")>"
      ]
     },
     "execution_count": 3,
     "metadata": {},
     "output_type": "execute_result"
    }
   ],
   "source": [
    "model.parameters"
   ]
  },
  {
   "cell_type": "code",
   "execution_count": 4,
   "metadata": {},
   "outputs": [
    {
     "data": {
      "text/plain": [
       "Sequential(\n",
       "  (0): Linear(in_features=1419, out_features=1024, bias=True)\n",
       "  (1): Sigmoid()\n",
       "  (2): Linear(in_features=1024, out_features=512, bias=True)\n",
       "  (3): Sigmoid()\n",
       "  (4): Linear(in_features=512, out_features=256, bias=True)\n",
       ")"
      ]
     },
     "execution_count": 4,
     "metadata": {},
     "output_type": "execute_result"
    }
   ],
   "source": [
    "model.encoder"
   ]
  },
  {
   "cell_type": "code",
   "execution_count": 1,
   "metadata": {},
   "outputs": [],
   "source": [
    "from Model import NetWork"
   ]
  },
  {
   "cell_type": "code",
   "execution_count": 3,
   "metadata": {},
   "outputs": [],
   "source": [
    "from Model import autoencoder"
   ]
  },
  {
   "cell_type": "code",
   "execution_count": 38,
   "metadata": {},
   "outputs": [],
   "source": [
    "network=NetWork()"
   ]
  },
  {
   "cell_type": "code",
   "execution_count": 6,
   "metadata": {},
   "outputs": [],
   "source": [
    "model=torch.load('encoder.pt')"
   ]
  },
  {
   "cell_type": "code",
   "execution_count": 108,
   "metadata": {},
   "outputs": [],
   "source": [
    "file=r'F:\\ECE271B_Project\\Noise_Addition\\timit_128\\timit\\test\\DR1_FDAC1_SX394.wav'"
   ]
  },
  {
   "cell_type": "code",
   "execution_count": 120,
   "metadata": {},
   "outputs": [],
   "source": [
    "sample_rate, samples = wavfile.read(file)"
   ]
  },
  {
   "cell_type": "code",
   "execution_count": 125,
   "metadata": {},
   "outputs": [],
   "source": [
    "wavfile.read?"
   ]
  },
  {
   "cell_type": "code",
   "execution_count": 127,
   "metadata": {},
   "outputs": [],
   "source": [
    "wavfile.write()"
   ]
  },
  {
   "cell_type": "code",
   "execution_count": 121,
   "metadata": {},
   "outputs": [
    {
     "data": {
      "text/plain": [
       "8000"
      ]
     },
     "execution_count": 121,
     "metadata": {},
     "output_type": "execute_result"
    }
   ],
   "source": [
    "sample_rate"
   ]
  },
  {
   "cell_type": "code",
   "execution_count": 122,
   "metadata": {},
   "outputs": [
    {
     "data": {
      "text/plain": [
       "array([3, 3, 3, ..., 1, 6, 0], dtype=int16)"
      ]
     },
     "execution_count": 122,
     "metadata": {},
     "output_type": "execute_result"
    }
   ],
   "source": [
    "samples"
   ]
  },
  {
   "cell_type": "code",
   "execution_count": 124,
   "metadata": {
    "scrolled": true
   },
   "outputs": [
    {
     "data": {
      "text/plain": [
       "array([[ 1.2512518e+00+0.j        ,  2.2427967e+00+0.j        ,\n",
       "         2.2061143e+00+0.j        , ...,  2.6223786e+00+0.j        ,\n",
       "         1.9004284e+00+0.j        ,  1.5692577e-01+0.j        ],\n",
       "       [-7.6785731e-01+0.7369484j , -1.2368704e+00+0.1562425j ,\n",
       "        -1.1514157e+00+0.0269236j , ..., -1.3253990e+00+0.6363562j ,\n",
       "        -5.5815476e-01-0.798298j  ,  8.1743248e-02-0.13174844j],\n",
       "       [ 1.5973151e-01-0.67868555j,  3.2982925e-01-0.24736838j,\n",
       "         7.5557888e-02-0.00851616j, ..., -3.3641115e-01+0.427369j  ,\n",
       "        -1.0879649e+00-0.03256187j, -6.6539347e-02-0.13379832j],\n",
       "       ...,\n",
       "       [ 1.5356429e-02-0.01475165j, -6.9954628e-03-0.03714971j,\n",
       "         6.4887931e-03-0.05240222j, ...,  3.2522976e-02-0.04393731j,\n",
       "        -2.6730921e-02+0.00282398j, -4.6448754e-03+0.00256591j],\n",
       "       [-4.0077027e-03+0.00803395j,  1.1112359e-03-0.00322959j,\n",
       "        -3.3303738e-02+0.06222463j, ..., -1.8733738e-02+0.05183156j,\n",
       "         3.8076848e-02-0.03217351j,  1.7675473e-03+0.00558269j],\n",
       "       [ 3.2628800e-03+0.j        ,  2.1069739e-02+0.j        ,\n",
       "         4.1571599e-02+0.j        , ...,  2.2191955e-03+0.j        ,\n",
       "        -5.4888994e-02+0.j        ,  6.1371229e-03+0.j        ]],\n",
       "      dtype=complex64)"
      ]
     },
     "execution_count": 124,
     "metadata": {},
     "output_type": "execute_result"
    }
   ],
   "source": [
    "x[2]"
   ]
  },
  {
   "cell_type": "code",
   "execution_count": 118,
   "metadata": {},
   "outputs": [],
   "source": [
    "x=scipy.signal.stft(samples,sample_rate)\n",
    "D_a = np.abs(x[2])\n",
    "D_db = librosa.core.amplitude_to_db(D_a, ref=np.max)\n",
    "phase=np.angle(x[2])\n",
    "mean=np.mean(D_db,1)\n",
    "std=np.std(D_db,1)\n",
    "max_value=np.max(D_a)"
   ]
  },
  {
   "cell_type": "code",
   "execution_count": 119,
   "metadata": {},
   "outputs": [
    {
     "data": {
      "text/plain": [
       "526.5643"
      ]
     },
     "execution_count": 119,
     "metadata": {},
     "output_type": "execute_result"
    }
   ],
   "source": [
    "max_value\n"
   ]
  },
  {
   "cell_type": "code",
   "execution_count": 115,
   "metadata": {},
   "outputs": [
    {
     "data": {
      "text/plain": [
       "array([1.25125182e+00, 2.99549723e+00, 2.20611429e+00, 2.80069041e+00,\n",
       "       2.96420765e+00, 1.68709207e+00, 1.50707793e+00, 1.34204412e+00,\n",
       "       1.83793676e+00, 8.62157345e+00, 4.92885704e+01, 2.52858315e+01,\n",
       "       1.60250340e+01, 1.13566734e+02, 2.55761169e+02, 2.89844269e+02,\n",
       "       3.63151154e+02, 3.92821655e+02, 4.25016754e+02, 4.27940735e+02,\n",
       "       5.03831696e+02, 5.15606995e+02, 5.26564270e+02, 4.49761047e+02,\n",
       "       4.74983002e+02, 3.88771790e+02, 2.98514221e+02, 1.74370682e+02,\n",
       "       8.92702866e+01, 2.04331398e+01, 8.79581642e+00, 1.15563002e+01,\n",
       "       9.59905815e+00, 1.61571636e+01, 8.76550102e+00, 1.00559111e+01,\n",
       "       8.28055763e+00, 1.28786764e+01, 2.29297848e+01, 1.59546173e+02,\n",
       "       2.07442490e+02, 1.57813171e+02, 1.59142563e+02, 1.59366745e+02,\n",
       "       2.10235306e+02, 2.53768692e+02, 2.64073273e+02, 2.23569687e+02,\n",
       "       1.88088074e+02, 1.56067474e+02, 1.33147507e+02, 7.26242905e+01,\n",
       "       5.19170609e+01, 4.91711731e+01, 4.53161011e+01, 4.28379745e+01,\n",
       "       3.88086815e+01, 3.99208755e+01, 4.13743591e+01, 4.27348518e+01,\n",
       "       4.28075066e+01, 4.94560242e+01, 1.54701965e+02, 2.33435242e+02,\n",
       "       2.72755066e+02, 3.16239380e+02, 4.03427521e+02, 3.78914398e+02,\n",
       "       4.87851990e+02, 4.52150635e+02, 2.38256119e+02, 9.52346725e+01,\n",
       "       3.85886612e+01, 1.32424326e+01, 4.52908754e+00, 2.14350843e+00,\n",
       "       2.45367980e+00, 1.33392782e+01, 1.75985374e+01, 1.60984783e+01,\n",
       "       1.81605816e+01, 1.23985653e+01, 1.13584604e+01, 1.32833290e+01,\n",
       "       2.99416232e+00, 7.96108103e+00, 4.78413057e+00, 1.80539739e+00,\n",
       "       2.02602744e+00, 1.58380337e+01, 1.95911465e+01, 3.80045166e+01,\n",
       "       2.86053284e+02, 4.91073944e+02, 5.10763519e+02, 4.59404694e+02,\n",
       "       3.76831909e+02, 3.04220642e+02, 3.08398834e+02, 2.89465424e+02,\n",
       "       3.23380554e+02, 3.25651611e+02, 2.87489349e+02, 2.46923111e+02,\n",
       "       2.22289581e+02, 1.68909058e+02, 1.33751526e+02, 1.33403488e+02,\n",
       "       1.18730667e+02, 9.50402374e+01, 6.12780075e+01, 4.29749794e+01,\n",
       "       4.17232246e+01, 4.07780457e+01, 4.10871849e+01, 4.23570137e+01,\n",
       "       4.14323044e+01, 3.19363365e+01, 2.26926498e+01, 1.09494267e+01,\n",
       "       1.24739580e+01, 9.43321228e+00, 1.56004667e+01, 1.53487120e+01,\n",
       "       1.06245232e+01, 2.59118156e+01, 1.89301071e+01, 5.87035065e+01,\n",
       "       9.03489532e+01, 1.22795853e+02, 5.96783066e+01, 3.73754578e+01,\n",
       "       3.54975853e+01, 3.42308807e+01, 3.25023842e+01, 3.05786724e+01,\n",
       "       3.09934673e+01, 1.97056274e+01, 1.10719213e+01, 2.15343928e+00,\n",
       "       4.19354737e-01, 1.31135559e+00, 2.35525227e+00, 1.16447458e+01,\n",
       "       2.10374985e+01, 3.49148712e+01, 2.34166088e+01, 1.93181572e+01,\n",
       "       6.75331192e+01, 3.28926544e+02, 3.48513733e+02, 2.71719177e+02,\n",
       "       2.41180252e+02, 2.08844910e+02, 1.77870316e+02, 1.48877823e+02,\n",
       "       1.26217598e+02, 9.92708740e+01, 7.79145737e+01, 5.27322121e+01,\n",
       "       2.19899311e+01, 1.34691353e+01, 2.05300255e+01, 1.47288580e+01,\n",
       "       1.74540405e+01, 1.85742207e+01, 7.62536335e+00, 9.24753666e+00,\n",
       "       8.77220917e+00, 4.69747019e+00, 7.16597986e+00, 6.75847006e+00,\n",
       "       1.31252518e+01, 1.66713238e+01, 4.62304535e+01, 7.42119827e+01,\n",
       "       4.25402260e+01, 1.99819660e+01, 2.25009766e+01, 3.32738953e+01,\n",
       "       2.88231163e+01, 1.15232754e+01, 1.03023112e+00, 1.30758619e+00,\n",
       "       2.47402906e+00, 2.39779816e+01, 3.10146103e+01, 1.48334183e+02,\n",
       "       1.70485046e+02, 2.54347015e+02, 2.78994537e+02, 2.27743729e+02,\n",
       "       1.99139694e+02, 2.07158386e+02, 1.98867325e+02, 1.90174255e+02,\n",
       "       1.53447571e+02, 1.21457359e+02, 9.33931427e+01, 1.23964241e+02,\n",
       "       1.45511703e+02, 1.13772118e+02, 1.34840118e+02, 1.07065460e+02,\n",
       "       9.77634583e+01, 9.42803268e+01, 8.88285599e+01, 7.24093399e+01,\n",
       "       4.42852516e+01, 3.23373985e+01, 2.69537449e+01, 2.53998413e+01,\n",
       "       2.61719780e+01, 2.46820507e+01, 1.92733955e+01, 2.13192501e+01,\n",
       "       8.36373997e+00, 1.66732705e+00, 2.72946095e+00, 2.89715171e+00,\n",
       "       2.95540524e+00, 2.91613221e+00, 5.19536734e+00, 1.50058329e+00,\n",
       "       2.18717074e+00, 3.40804243e+00, 2.47462893e+00, 1.35491467e+00,\n",
       "       3.86815858e+00, 2.03624606e+00, 3.26871419e+00, 3.36875391e+00,\n",
       "       1.64648116e+00, 2.34857583e+00, 3.47771883e+00, 2.32722926e+00,\n",
       "       2.80581808e+00, 2.16852951e+00, 7.96525538e-01, 2.62237859e+00,\n",
       "       1.90042841e+00, 1.56925768e-01], dtype=float32)"
      ]
     },
     "execution_count": 115,
     "metadata": {},
     "output_type": "execute_result"
    }
   ],
   "source": [
    "np.max(D_a,axis=0)"
   ]
  },
  {
   "cell_type": "code",
   "execution_count": 45,
   "metadata": {},
   "outputs": [
    {
     "data": {
      "text/plain": [
       "Parameter containing:\n",
       "tensor([[ 0.1756,  0.1426,  0.1015,  ..., -0.1835, -0.0664, -0.0941],\n",
       "        [-0.1377,  0.0401,  0.0656,  ...,  0.0480,  0.0851,  0.0082],\n",
       "        [ 0.0068, -0.0047, -0.0070,  ...,  0.0597, -0.0999, -0.0398],\n",
       "        ...,\n",
       "        [-0.0860,  0.0161, -0.0364,  ..., -0.0068,  0.3103,  0.0019],\n",
       "        [-0.0031, -0.0235, -0.0056,  ..., -0.0242, -0.0229, -0.0086],\n",
       "        [-0.0529,  0.0085,  0.0471,  ...,  0.0550,  0.0027, -0.0361]],\n",
       "       device='cuda:0', requires_grad=True)"
      ]
     },
     "execution_count": 45,
     "metadata": {},
     "output_type": "execute_result"
    }
   ],
   "source": [
    "network.encoder[0].weight"
   ]
  },
  {
   "cell_type": "code",
   "execution_count": 27,
   "metadata": {},
   "outputs": [
    {
     "data": {
      "text/plain": [
       "<bound method Module.parameters of NetWork(\n",
       "  (encoder): Sequential(\n",
       "    (0): Linear(in_features=1419, out_features=1024, bias=True)\n",
       "    (1): Sigmoid()\n",
       "    (2): Linear(in_features=1024, out_features=512, bias=True)\n",
       "    (3): Sigmoid()\n",
       "    (4): Linear(in_features=512, out_features=256, bias=True)\n",
       "  )\n",
       "  (last): Sequential(\n",
       "    (0): Sigmoid()\n",
       "    (1): Linear(in_features=256, out_features=129, bias=True)\n",
       "  )\n",
       ")>"
      ]
     },
     "execution_count": 27,
     "metadata": {},
     "output_type": "execute_result"
    }
   ],
   "source": [
    "network.parameters\n"
   ]
  },
  {
   "cell_type": "code",
   "execution_count": 46,
   "metadata": {},
   "outputs": [],
   "source": [
    "import numpy as np"
   ]
  },
  {
   "cell_type": "code",
   "execution_count": 66,
   "metadata": {},
   "outputs": [],
   "source": [
    "import numpy as np\n",
    "import scipy\n",
    "import matplotlib.pyplot as plt\n",
    "from scipy import signal\n",
    "from scipy.io import wavfile\n",
    "import pandas as pd\n",
    "import librosa\n",
    "clean_train_folder = r'F:\\timit\\train'"
   ]
  },
  {
   "cell_type": "code",
   "execution_count": 63,
   "metadata": {},
   "outputs": [],
   "source": [
    "def saveConvert(file):\n",
    "    \"\"\"\n",
    "    input a wav file, return np array after stft\n",
    "    \"\"\"\n",
    "    sample_rate, samples = wavfile.read(file)\n",
    "    x=scipy.signal.stft(samples,sample_rate)\n",
    "    D_a = np.abs(x[2])\n",
    "\n",
    "    D_db = librosa.core.amplitude_to_db(D_a, ref=np.max)\n",
    "    return D_db"
   ]
  },
  {
   "cell_type": "code",
   "execution_count": 67,
   "metadata": {},
   "outputs": [],
   "source": [
    "test=saveConvert(clean_train_folder+'\\DR7_MBML0_SI539.wav')"
   ]
  },
  {
   "cell_type": "code",
   "execution_count": 68,
   "metadata": {},
   "outputs": [
    {
     "data": {
      "text/plain": [
       "array([[-64.1576  , -62.640335, -70.77627 , ..., -60.683735, -61.877804,\n",
       "        -80.      ],\n",
       "       [-65.48287 , -70.74596 , -80.      , ..., -65.522644, -65.26393 ,\n",
       "        -80.      ],\n",
       "       [-69.4141  , -70.93578 , -71.28757 , ..., -78.13616 , -72.9953  ,\n",
       "        -80.      ],\n",
       "       ...,\n",
       "       [-80.      , -80.      , -80.      , ..., -80.      , -80.      ,\n",
       "        -80.      ],\n",
       "       [-80.      , -80.      , -80.      , ..., -80.      , -80.      ,\n",
       "        -80.      ],\n",
       "       [-80.      , -80.      , -80.      , ..., -80.      , -80.      ,\n",
       "        -80.      ]], dtype=float32)"
      ]
     },
     "execution_count": 68,
     "metadata": {},
     "output_type": "execute_result"
    }
   ],
   "source": [
    "test"
   ]
  },
  {
   "cell_type": "code",
   "execution_count": 69,
   "metadata": {},
   "outputs": [
    {
     "data": {
      "text/plain": [
       "(129, 162)"
      ]
     },
     "execution_count": 69,
     "metadata": {},
     "output_type": "execute_result"
    }
   ],
   "source": [
    "test.shape"
   ]
  },
  {
   "cell_type": "code",
   "execution_count": 97,
   "metadata": {},
   "outputs": [],
   "source": [
    "test=np.load(r'F:\\testset_results_data\\babble\\0db\\DR1_MRJO0_SX194.wav.npy')"
   ]
  },
  {
   "cell_type": "code",
   "execution_count": 100,
   "metadata": {},
   "outputs": [
    {
     "data": {
      "text/plain": [
       "array([[ 0.        ,  3.1415927 ,  0.        , ...,  0.        ,\n",
       "         3.1415927 ,  3.1415927 ],\n",
       "       [ 0.23526457, -0.56090134,  2.7519042 , ..., -2.565992  ,\n",
       "        -0.02464431,  1.7316978 ],\n",
       "       [ 2.2102013 ,  2.126898  , -1.209005  , ..., -0.535654  ,\n",
       "        -2.55132   ,  0.44580814],\n",
       "       ...,\n",
       "       [-1.9652029 , -2.5031884 , -2.3287683 , ...,  0.73506486,\n",
       "         1.4289047 ,  1.5552986 ],\n",
       "       [ 0.4729838 , -1.1444457 ,  1.260133  , ...,  1.9614854 ,\n",
       "        -1.9517335 , -0.2554155 ],\n",
       "       [ 3.1415927 ,  0.        ,  3.1415927 , ...,  0.        ,\n",
       "         0.        ,  3.1415927 ]], dtype=float32)"
      ]
     },
     "execution_count": 100,
     "metadata": {},
     "output_type": "execute_result"
    }
   ],
   "source": [
    "test[()]['phase']"
   ]
  },
  {
   "cell_type": "code",
   "execution_count": 71,
   "metadata": {},
   "outputs": [
    {
     "ename": "TypeError",
     "evalue": "write() argument must be str, not bytes",
     "output_type": "error",
     "traceback": [
      "\u001b[1;31m---------------------------------------------------------------------------\u001b[0m",
      "\u001b[1;31mTypeError\u001b[0m                                 Traceback (most recent call last)",
      "\u001b[1;32m<ipython-input-71-8d0b254d6587>\u001b[0m in \u001b[0;36m<module>\u001b[1;34m()\u001b[0m\n\u001b[0;32m      1\u001b[0m \u001b[1;32mimport\u001b[0m \u001b[0mpickle\u001b[0m\u001b[1;33m\u001b[0m\u001b[0m\n\u001b[1;32m----> 2\u001b[1;33m \u001b[0mpickle\u001b[0m\u001b[1;33m.\u001b[0m\u001b[0mdump\u001b[0m\u001b[1;33m(\u001b[0m\u001b[0mtest\u001b[0m\u001b[1;33m,\u001b[0m\u001b[0mopen\u001b[0m\u001b[1;33m(\u001b[0m\u001b[1;34m\"test.data\"\u001b[0m\u001b[1;33m,\u001b[0m\u001b[1;34m\"w\"\u001b[0m\u001b[1;33m)\u001b[0m\u001b[1;33m)\u001b[0m\u001b[1;33m\u001b[0m\u001b[0m\n\u001b[0m",
      "\u001b[1;31mTypeError\u001b[0m: write() argument must be str, not bytes"
     ]
    }
   ],
   "source": [
    "import pickle\n",
    "pickle.dump(test,open(\"test.data\",\"w\"))"
   ]
  },
  {
   "cell_type": "code",
   "execution_count": 79,
   "metadata": {},
   "outputs": [],
   "source": [
    "testdict={}"
   ]
  },
  {
   "cell_type": "code",
   "execution_count": 80,
   "metadata": {},
   "outputs": [],
   "source": [
    "testdict[0]=test"
   ]
  },
  {
   "cell_type": "code",
   "execution_count": 81,
   "metadata": {},
   "outputs": [],
   "source": [
    "testdict[1]=test"
   ]
  },
  {
   "cell_type": "code",
   "execution_count": 86,
   "metadata": {},
   "outputs": [],
   "source": [
    "np.save('temp.npy',testdict)"
   ]
  },
  {
   "cell_type": "code",
   "execution_count": 87,
   "metadata": {},
   "outputs": [],
   "source": [
    "a=np.load('temp.npy')"
   ]
  },
  {
   "cell_type": "code",
   "execution_count": null,
   "metadata": {},
   "outputs": [],
   "source": [
    "'.npy'"
   ]
  },
  {
   "cell_type": "code",
   "execution_count": 95,
   "metadata": {},
   "outputs": [
    {
     "data": {
      "text/plain": [
       "array([[-64.1576  , -62.640335, -70.77627 , ..., -60.683735, -61.877804,\n",
       "        -80.      ],\n",
       "       [-65.48287 , -70.74596 , -80.      , ..., -65.522644, -65.26393 ,\n",
       "        -80.      ],\n",
       "       [-69.4141  , -70.93578 , -71.28757 , ..., -78.13616 , -72.9953  ,\n",
       "        -80.      ],\n",
       "       ...,\n",
       "       [-80.      , -80.      , -80.      , ..., -80.      , -80.      ,\n",
       "        -80.      ],\n",
       "       [-80.      , -80.      , -80.      , ..., -80.      , -80.      ,\n",
       "        -80.      ],\n",
       "       [-80.      , -80.      , -80.      , ..., -80.      , -80.      ,\n",
       "        -80.      ]], dtype=float32)"
      ]
     },
     "execution_count": 95,
     "metadata": {},
     "output_type": "execute_result"
    }
   ],
   "source": [
    "a[()][0]"
   ]
  },
  {
   "cell_type": "code",
   "execution_count": null,
   "metadata": {},
   "outputs": [],
   "source": []
  },
  {
   "cell_type": "code",
   "execution_count": 74,
   "metadata": {},
   "outputs": [],
   "source": [
    "np.savetxt('test.npy',test)"
   ]
  },
  {
   "cell_type": "code",
   "execution_count": 77,
   "metadata": {},
   "outputs": [
    {
     "data": {
      "text/plain": [
       "(129, 162)"
      ]
     },
     "execution_count": 77,
     "metadata": {},
     "output_type": "execute_result"
    }
   ],
   "source": []
  },
  {
   "cell_type": "code",
   "execution_count": 52,
   "metadata": {},
   "outputs": [
    {
     "data": {
      "text/plain": [
       "(129, 162)"
      ]
     },
     "execution_count": 52,
     "metadata": {},
     "output_type": "execute_result"
    }
   ],
   "source": [
    "test.shape"
   ]
  },
  {
   "cell_type": "code",
   "execution_count": 53,
   "metadata": {},
   "outputs": [
    {
     "data": {
      "text/plain": [
       "array([-0.03656582, -2.535667  , -1.5299611 ,  0.87836444, -0.04585996,\n",
       "        0.35934612, -0.23958333, -0.07769119,  0.15549895,  0.04010433,\n",
       "       -2.5088637 , -0.07452226,  0.6587854 ,  1.0691298 , -1.4052497 ,\n",
       "       -0.2830424 ,  0.6055895 , -3.1621776 ,  1.0266186 ,  0.5563508 ,\n",
       "        0.58330125, -0.12811314,  0.3850636 ,  0.6637577 ,  0.76478916,\n",
       "       -0.94084054,  0.4303257 , -0.54783964,  0.7878249 ,  0.74562496,\n",
       "        0.7737548 , -1.7951993 ,  0.16813812,  0.20221397,  0.33125418,\n",
       "       -0.45399693,  0.43335438, -0.02435123,  0.03263198,  0.08279745,\n",
       "       -0.38516104,  0.6944085 ,  0.93117857,  0.82762754, -0.97427535,\n",
       "        0.48143947, -0.15533331, -1.4485793 , -1.010757  , -0.06375363,\n",
       "        0.2020692 , -0.4974473 ,  1.0393062 ,  0.43489394, -1.7940433 ,\n",
       "        0.93463075,  0.6055641 ,  1.2190367 ,  0.67352515,  0.502207  ,\n",
       "       -0.04611957,  0.4857537 , -3.656241  , -0.61778986, -1.3411001 ,\n",
       "        0.5859381 ,  1.1994879 ,  0.3229898 ,  0.6022198 ,  1.1241168 ,\n",
       "        0.56328547, -0.51330656, -1.6428306 ,  0.3761307 , -0.11491509,\n",
       "        0.9744852 ,  1.2139815 ,  1.1127037 , -0.9580946 ,  0.8306023 ,\n",
       "       -0.4355374 ,  0.47580388, -1.2080477 , -2.0021384 ,  0.42887312,\n",
       "       -0.1383253 ,  0.46616176, -0.87896615,  0.2992058 , -0.743459  ,\n",
       "       -1.2678556 ,  0.09288678, -0.1912059 , -0.7744028 ,  0.25051203,\n",
       "        0.83759683,  1.018014  ,  0.29698485, -0.36677703,  0.4552647 ,\n",
       "       -1.3210133 ,  0.4440809 , -0.1689768 , -1.7726699 ,  1.3190043 ,\n",
       "        0.9536422 , -0.15202484,  0.52725106,  0.8893022 ,  0.43010437,\n",
       "        0.99829113, -0.5133295 ,  1.4418229 ,  1.1862662 ,  0.2880105 ,\n",
       "        0.07754712,  0.46251744, -0.9930467 , -0.7618649 , -0.11612336,\n",
       "        0.4030206 ,  0.0295772 ,  0.93167096,  0.7666917 ,  0.5171346 ,\n",
       "       -0.2396752 , -0.8061609 ,  0.3654814 ,  0.84748954, -0.12804458,\n",
       "       -0.7884573 ,  1.1283555 ,  0.5731239 ,  0.8471941 ,  0.90941715,\n",
       "        0.66723984, -0.49445587, -0.02961096,  0.8308953 , -0.55572754,\n",
       "       -3.6636925 ,  0.51862544,  0.6805033 ,  0.43943712, -0.1371327 ,\n",
       "       -0.6313634 , -3.5510533 , -0.16208285,  1.0510179 ,  0.10943402,\n",
       "        0.02615737, -0.05960159,  0.24419647,  0.62854385,  1.0841016 ,\n",
       "        0.6612827 ,  0.7312698 ,  0.24623507, -2.4286687 ,  0.9860873 ,\n",
       "        0.8881611 , -1.9329748 ], dtype=float32)"
      ]
     },
     "execution_count": 53,
     "metadata": {},
     "output_type": "execute_result"
    }
   ],
   "source": [
    "test[-1]"
   ]
  }
 ],
 "metadata": {
  "kernelspec": {
   "display_name": "Python 3",
   "language": "python",
   "name": "python3"
  },
  "language_info": {
   "codemirror_mode": {
    "name": "ipython",
    "version": 3
   },
   "file_extension": ".py",
   "mimetype": "text/x-python",
   "name": "python",
   "nbconvert_exporter": "python",
   "pygments_lexer": "ipython3",
   "version": "3.6.5"
  }
 },
 "nbformat": 4,
 "nbformat_minor": 2
}
