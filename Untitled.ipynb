{
 "cells": [
  {
   "cell_type": "code",
   "execution_count": 5,
   "metadata": {},
   "outputs": [],
   "source": [
    "import torch"
   ]
  },
  {
   "cell_type": "code",
   "execution_count": 2,
   "metadata": {},
   "outputs": [],
   "source": [
    "model=torch.load('encoder.pt')"
   ]
  },
  {
   "cell_type": "code",
   "execution_count": 3,
   "metadata": {},
   "outputs": [
    {
     "data": {
      "text/plain": [
       "<bound method Module.parameters of autoencoder(\n",
       "  (encoder): Sequential(\n",
       "    (0): Linear(in_features=1419, out_features=1024, bias=True)\n",
       "    (1): Sigmoid()\n",
       "    (2): Linear(in_features=1024, out_features=512, bias=True)\n",
       "    (3): Sigmoid()\n",
       "    (4): Linear(in_features=512, out_features=256, bias=True)\n",
       "  )\n",
       "  (decoder): Sequential(\n",
       "    (0): Linear(in_features=256, out_features=512, bias=True)\n",
       "    (1): Sigmoid()\n",
       "    (2): Linear(in_features=512, out_features=1024, bias=True)\n",
       "    (3): Sigmoid()\n",
       "    (4): Linear(in_features=1024, out_features=1419, bias=True)\n",
       "  )\n",
       ")>"
      ]
     },
     "execution_count": 3,
     "metadata": {},
     "output_type": "execute_result"
    }
   ],
   "source": [
    "model.parameters"
   ]
  },
  {
   "cell_type": "code",
   "execution_count": 4,
   "metadata": {},
   "outputs": [
    {
     "data": {
      "text/plain": [
       "Sequential(\n",
       "  (0): Linear(in_features=1419, out_features=1024, bias=True)\n",
       "  (1): Sigmoid()\n",
       "  (2): Linear(in_features=1024, out_features=512, bias=True)\n",
       "  (3): Sigmoid()\n",
       "  (4): Linear(in_features=512, out_features=256, bias=True)\n",
       ")"
      ]
     },
     "execution_count": 4,
     "metadata": {},
     "output_type": "execute_result"
    }
   ],
   "source": [
    "model.encoder"
   ]
  },
  {
   "cell_type": "code",
   "execution_count": 1,
   "metadata": {},
   "outputs": [],
   "source": [
    "from Model import NetWork"
   ]
  },
  {
   "cell_type": "code",
   "execution_count": 3,
   "metadata": {},
   "outputs": [],
   "source": [
    "from Model import autoencoder"
   ]
  },
  {
   "cell_type": "code",
   "execution_count": 38,
   "metadata": {},
   "outputs": [],
   "source": [
    "network=NetWork()"
   ]
  },
  {
   "cell_type": "code",
   "execution_count": 6,
   "metadata": {},
   "outputs": [],
   "source": [
    "model=torch.load('encoder.pt')"
   ]
  },
  {
   "cell_type": "code",
   "execution_count": 44,
   "metadata": {},
   "outputs": [],
   "source": [
    "network.encoder=model.encoder"
   ]
  },
  {
   "cell_type": "code",
   "execution_count": 43,
   "metadata": {},
   "outputs": [
    {
     "data": {
      "text/plain": [
       "Parameter containing:\n",
       "tensor([[ 0.1756,  0.1426,  0.1015,  ..., -0.1835, -0.0664, -0.0941],\n",
       "        [-0.1377,  0.0401,  0.0656,  ...,  0.0480,  0.0851,  0.0082],\n",
       "        [ 0.0068, -0.0047, -0.0070,  ...,  0.0597, -0.0999, -0.0398],\n",
       "        ...,\n",
       "        [-0.0860,  0.0161, -0.0364,  ..., -0.0068,  0.3103,  0.0019],\n",
       "        [-0.0031, -0.0235, -0.0056,  ..., -0.0242, -0.0229, -0.0086],\n",
       "        [-0.0529,  0.0085,  0.0471,  ...,  0.0550,  0.0027, -0.0361]],\n",
       "       device='cuda:0', requires_grad=True)"
      ]
     },
     "execution_count": 43,
     "metadata": {},
     "output_type": "execute_result"
    }
   ],
   "source": [
    "model.encoder[0].weight"
   ]
  },
  {
   "cell_type": "code",
   "execution_count": 45,
   "metadata": {},
   "outputs": [
    {
     "data": {
      "text/plain": [
       "Parameter containing:\n",
       "tensor([[ 0.1756,  0.1426,  0.1015,  ..., -0.1835, -0.0664, -0.0941],\n",
       "        [-0.1377,  0.0401,  0.0656,  ...,  0.0480,  0.0851,  0.0082],\n",
       "        [ 0.0068, -0.0047, -0.0070,  ...,  0.0597, -0.0999, -0.0398],\n",
       "        ...,\n",
       "        [-0.0860,  0.0161, -0.0364,  ..., -0.0068,  0.3103,  0.0019],\n",
       "        [-0.0031, -0.0235, -0.0056,  ..., -0.0242, -0.0229, -0.0086],\n",
       "        [-0.0529,  0.0085,  0.0471,  ...,  0.0550,  0.0027, -0.0361]],\n",
       "       device='cuda:0', requires_grad=True)"
      ]
     },
     "execution_count": 45,
     "metadata": {},
     "output_type": "execute_result"
    }
   ],
   "source": [
    "network.encoder[0].weight"
   ]
  },
  {
   "cell_type": "code",
   "execution_count": 27,
   "metadata": {},
   "outputs": [
    {
     "data": {
      "text/plain": [
       "<bound method Module.parameters of NetWork(\n",
       "  (encoder): Sequential(\n",
       "    (0): Linear(in_features=1419, out_features=1024, bias=True)\n",
       "    (1): Sigmoid()\n",
       "    (2): Linear(in_features=1024, out_features=512, bias=True)\n",
       "    (3): Sigmoid()\n",
       "    (4): Linear(in_features=512, out_features=256, bias=True)\n",
       "  )\n",
       "  (last): Sequential(\n",
       "    (0): Sigmoid()\n",
       "    (1): Linear(in_features=256, out_features=129, bias=True)\n",
       "  )\n",
       ")>"
      ]
     },
     "execution_count": 27,
     "metadata": {},
     "output_type": "execute_result"
    }
   ],
   "source": [
    "network.parameters\n"
   ]
  },
  {
   "cell_type": "code",
   "execution_count": 46,
   "metadata": {},
   "outputs": [],
   "source": [
    "import numpy as np"
   ]
  },
  {
   "cell_type": "code",
   "execution_count": 66,
   "metadata": {},
   "outputs": [],
   "source": [
    "import numpy as np\n",
    "import scipy\n",
    "import matplotlib.pyplot as plt\n",
    "from scipy import signal\n",
    "from scipy.io import wavfile\n",
    "import pandas as pd\n",
    "import librosa\n",
    "clean_train_folder = r'F:\\timit\\train'"
   ]
  },
  {
   "cell_type": "code",
   "execution_count": 63,
   "metadata": {},
   "outputs": [],
   "source": [
    "def saveConvert(file):\n",
    "    \"\"\"\n",
    "    input a wav file, return np array after stft\n",
    "    \"\"\"\n",
    "    sample_rate, samples = wavfile.read(file)\n",
    "    x=scipy.signal.stft(samples,sample_rate)\n",
    "    D_a = np.abs(x[2])\n",
    "\n",
    "    D_db = librosa.core.amplitude_to_db(D_a, ref=np.max)\n",
    "    return D_db"
   ]
  },
  {
   "cell_type": "code",
   "execution_count": 67,
   "metadata": {},
   "outputs": [],
   "source": [
    "test=saveConvert(clean_train_folder+'\\DR7_MBML0_SI539.wav')"
   ]
  },
  {
   "cell_type": "code",
   "execution_count": 68,
   "metadata": {},
   "outputs": [
    {
     "data": {
      "text/plain": [
       "array([[-64.1576  , -62.640335, -70.77627 , ..., -60.683735, -61.877804,\n",
       "        -80.      ],\n",
       "       [-65.48287 , -70.74596 , -80.      , ..., -65.522644, -65.26393 ,\n",
       "        -80.      ],\n",
       "       [-69.4141  , -70.93578 , -71.28757 , ..., -78.13616 , -72.9953  ,\n",
       "        -80.      ],\n",
       "       ...,\n",
       "       [-80.      , -80.      , -80.      , ..., -80.      , -80.      ,\n",
       "        -80.      ],\n",
       "       [-80.      , -80.      , -80.      , ..., -80.      , -80.      ,\n",
       "        -80.      ],\n",
       "       [-80.      , -80.      , -80.      , ..., -80.      , -80.      ,\n",
       "        -80.      ]], dtype=float32)"
      ]
     },
     "execution_count": 68,
     "metadata": {},
     "output_type": "execute_result"
    }
   ],
   "source": [
    "test"
   ]
  },
  {
   "cell_type": "code",
   "execution_count": 69,
   "metadata": {},
   "outputs": [
    {
     "data": {
      "text/plain": [
       "(129, 162)"
      ]
     },
     "execution_count": 69,
     "metadata": {},
     "output_type": "execute_result"
    }
   ],
   "source": [
    "test.shape"
   ]
  },
  {
   "cell_type": "code",
   "execution_count": 60,
   "metadata": {},
   "outputs": [],
   "source": [
    "test=np.load(r'F:\\train_np_results_clean\\clean\\DR7_MBML0_SI539.wav.npy')"
   ]
  },
  {
   "cell_type": "code",
   "execution_count": 58,
   "metadata": {},
   "outputs": [],
   "source": [
    "test=np.load(r'F:\\train_np_results_clean\\destroyerengine\\0db\\DR7_MBML0_SI539.wav.npy')"
   ]
  },
  {
   "cell_type": "code",
   "execution_count": 70,
   "metadata": {},
   "outputs": [
    {
     "data": {
      "text/plain": [
       "array([[-64.1576  , -62.640335, -70.77627 , ..., -60.683735, -61.877804,\n",
       "        -80.      ],\n",
       "       [-65.48287 , -70.74596 , -80.      , ..., -65.522644, -65.26393 ,\n",
       "        -80.      ],\n",
       "       [-69.4141  , -70.93578 , -71.28757 , ..., -78.13616 , -72.9953  ,\n",
       "        -80.      ],\n",
       "       ...,\n",
       "       [-80.      , -80.      , -80.      , ..., -80.      , -80.      ,\n",
       "        -80.      ],\n",
       "       [-80.      , -80.      , -80.      , ..., -80.      , -80.      ,\n",
       "        -80.      ],\n",
       "       [-80.      , -80.      , -80.      , ..., -80.      , -80.      ,\n",
       "        -80.      ]], dtype=float32)"
      ]
     },
     "execution_count": 70,
     "metadata": {},
     "output_type": "execute_result"
    }
   ],
   "source": [
    "test"
   ]
  },
  {
   "cell_type": "code",
   "execution_count": 71,
   "metadata": {},
   "outputs": [
    {
     "ename": "TypeError",
     "evalue": "write() argument must be str, not bytes",
     "output_type": "error",
     "traceback": [
      "\u001b[1;31m---------------------------------------------------------------------------\u001b[0m",
      "\u001b[1;31mTypeError\u001b[0m                                 Traceback (most recent call last)",
      "\u001b[1;32m<ipython-input-71-8d0b254d6587>\u001b[0m in \u001b[0;36m<module>\u001b[1;34m()\u001b[0m\n\u001b[0;32m      1\u001b[0m \u001b[1;32mimport\u001b[0m \u001b[0mpickle\u001b[0m\u001b[1;33m\u001b[0m\u001b[0m\n\u001b[1;32m----> 2\u001b[1;33m \u001b[0mpickle\u001b[0m\u001b[1;33m.\u001b[0m\u001b[0mdump\u001b[0m\u001b[1;33m(\u001b[0m\u001b[0mtest\u001b[0m\u001b[1;33m,\u001b[0m\u001b[0mopen\u001b[0m\u001b[1;33m(\u001b[0m\u001b[1;34m\"test.data\"\u001b[0m\u001b[1;33m,\u001b[0m\u001b[1;34m\"w\"\u001b[0m\u001b[1;33m)\u001b[0m\u001b[1;33m)\u001b[0m\u001b[1;33m\u001b[0m\u001b[0m\n\u001b[0m",
      "\u001b[1;31mTypeError\u001b[0m: write() argument must be str, not bytes"
     ]
    }
   ],
   "source": [
    "import pickle\n",
    "pickle.dump(test,open(\"test.data\",\"w\"))"
   ]
  },
  {
   "cell_type": "code",
   "execution_count": 79,
   "metadata": {},
   "outputs": [],
   "source": [
    "testdict={}"
   ]
  },
  {
   "cell_type": "code",
   "execution_count": 80,
   "metadata": {},
   "outputs": [],
   "source": [
    "testdict[0]=test"
   ]
  },
  {
   "cell_type": "code",
   "execution_count": 81,
   "metadata": {},
   "outputs": [],
   "source": [
    "testdict[1]=test"
   ]
  },
  {
   "cell_type": "code",
   "execution_count": 86,
   "metadata": {},
   "outputs": [],
   "source": [
    "np.save('temp.npy',testdict)"
   ]
  },
  {
   "cell_type": "code",
   "execution_count": 87,
   "metadata": {},
   "outputs": [],
   "source": [
    "a=np.load('temp.npy')"
   ]
  },
  {
   "cell_type": "code",
   "execution_count": null,
   "metadata": {},
   "outputs": [],
   "source": [
    "'.npy'"
   ]
  },
  {
   "cell_type": "code",
   "execution_count": 95,
   "metadata": {},
   "outputs": [
    {
     "data": {
      "text/plain": [
       "array([[-64.1576  , -62.640335, -70.77627 , ..., -60.683735, -61.877804,\n",
       "        -80.      ],\n",
       "       [-65.48287 , -70.74596 , -80.      , ..., -65.522644, -65.26393 ,\n",
       "        -80.      ],\n",
       "       [-69.4141  , -70.93578 , -71.28757 , ..., -78.13616 , -72.9953  ,\n",
       "        -80.      ],\n",
       "       ...,\n",
       "       [-80.      , -80.      , -80.      , ..., -80.      , -80.      ,\n",
       "        -80.      ],\n",
       "       [-80.      , -80.      , -80.      , ..., -80.      , -80.      ,\n",
       "        -80.      ],\n",
       "       [-80.      , -80.      , -80.      , ..., -80.      , -80.      ,\n",
       "        -80.      ]], dtype=float32)"
      ]
     },
     "execution_count": 95,
     "metadata": {},
     "output_type": "execute_result"
    }
   ],
   "source": [
    "a[()][0]"
   ]
  },
  {
   "cell_type": "code",
   "execution_count": null,
   "metadata": {},
   "outputs": [],
   "source": []
  },
  {
   "cell_type": "code",
   "execution_count": 74,
   "metadata": {},
   "outputs": [],
   "source": [
    "np.savetxt('test.npy',test)"
   ]
  },
  {
   "cell_type": "code",
   "execution_count": 77,
   "metadata": {},
   "outputs": [
    {
     "data": {
      "text/plain": [
       "(129, 162)"
      ]
     },
     "execution_count": 77,
     "metadata": {},
     "output_type": "execute_result"
    }
   ],
   "source": []
  },
  {
   "cell_type": "code",
   "execution_count": 52,
   "metadata": {},
   "outputs": [
    {
     "data": {
      "text/plain": [
       "(129, 162)"
      ]
     },
     "execution_count": 52,
     "metadata": {},
     "output_type": "execute_result"
    }
   ],
   "source": [
    "test.shape"
   ]
  },
  {
   "cell_type": "code",
   "execution_count": 53,
   "metadata": {},
   "outputs": [
    {
     "data": {
      "text/plain": [
       "array([-0.03656582, -2.535667  , -1.5299611 ,  0.87836444, -0.04585996,\n",
       "        0.35934612, -0.23958333, -0.07769119,  0.15549895,  0.04010433,\n",
       "       -2.5088637 , -0.07452226,  0.6587854 ,  1.0691298 , -1.4052497 ,\n",
       "       -0.2830424 ,  0.6055895 , -3.1621776 ,  1.0266186 ,  0.5563508 ,\n",
       "        0.58330125, -0.12811314,  0.3850636 ,  0.6637577 ,  0.76478916,\n",
       "       -0.94084054,  0.4303257 , -0.54783964,  0.7878249 ,  0.74562496,\n",
       "        0.7737548 , -1.7951993 ,  0.16813812,  0.20221397,  0.33125418,\n",
       "       -0.45399693,  0.43335438, -0.02435123,  0.03263198,  0.08279745,\n",
       "       -0.38516104,  0.6944085 ,  0.93117857,  0.82762754, -0.97427535,\n",
       "        0.48143947, -0.15533331, -1.4485793 , -1.010757  , -0.06375363,\n",
       "        0.2020692 , -0.4974473 ,  1.0393062 ,  0.43489394, -1.7940433 ,\n",
       "        0.93463075,  0.6055641 ,  1.2190367 ,  0.67352515,  0.502207  ,\n",
       "       -0.04611957,  0.4857537 , -3.656241  , -0.61778986, -1.3411001 ,\n",
       "        0.5859381 ,  1.1994879 ,  0.3229898 ,  0.6022198 ,  1.1241168 ,\n",
       "        0.56328547, -0.51330656, -1.6428306 ,  0.3761307 , -0.11491509,\n",
       "        0.9744852 ,  1.2139815 ,  1.1127037 , -0.9580946 ,  0.8306023 ,\n",
       "       -0.4355374 ,  0.47580388, -1.2080477 , -2.0021384 ,  0.42887312,\n",
       "       -0.1383253 ,  0.46616176, -0.87896615,  0.2992058 , -0.743459  ,\n",
       "       -1.2678556 ,  0.09288678, -0.1912059 , -0.7744028 ,  0.25051203,\n",
       "        0.83759683,  1.018014  ,  0.29698485, -0.36677703,  0.4552647 ,\n",
       "       -1.3210133 ,  0.4440809 , -0.1689768 , -1.7726699 ,  1.3190043 ,\n",
       "        0.9536422 , -0.15202484,  0.52725106,  0.8893022 ,  0.43010437,\n",
       "        0.99829113, -0.5133295 ,  1.4418229 ,  1.1862662 ,  0.2880105 ,\n",
       "        0.07754712,  0.46251744, -0.9930467 , -0.7618649 , -0.11612336,\n",
       "        0.4030206 ,  0.0295772 ,  0.93167096,  0.7666917 ,  0.5171346 ,\n",
       "       -0.2396752 , -0.8061609 ,  0.3654814 ,  0.84748954, -0.12804458,\n",
       "       -0.7884573 ,  1.1283555 ,  0.5731239 ,  0.8471941 ,  0.90941715,\n",
       "        0.66723984, -0.49445587, -0.02961096,  0.8308953 , -0.55572754,\n",
       "       -3.6636925 ,  0.51862544,  0.6805033 ,  0.43943712, -0.1371327 ,\n",
       "       -0.6313634 , -3.5510533 , -0.16208285,  1.0510179 ,  0.10943402,\n",
       "        0.02615737, -0.05960159,  0.24419647,  0.62854385,  1.0841016 ,\n",
       "        0.6612827 ,  0.7312698 ,  0.24623507, -2.4286687 ,  0.9860873 ,\n",
       "        0.8881611 , -1.9329748 ], dtype=float32)"
      ]
     },
     "execution_count": 53,
     "metadata": {},
     "output_type": "execute_result"
    }
   ],
   "source": [
    "test[-1]"
   ]
  }
 ],
 "metadata": {
  "kernelspec": {
   "display_name": "Python 3",
   "language": "python",
   "name": "python3"
  },
  "language_info": {
   "codemirror_mode": {
    "name": "ipython",
    "version": 3
   },
   "file_extension": ".py",
   "mimetype": "text/x-python",
   "name": "python",
   "nbconvert_exporter": "python",
   "pygments_lexer": "ipython3",
   "version": "3.6.5"
  }
 },
 "nbformat": 4,
 "nbformat_minor": 2
}
