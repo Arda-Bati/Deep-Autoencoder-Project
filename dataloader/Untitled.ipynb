{
 "cells": [
  {
   "cell_type": "code",
   "execution_count": 1,
   "metadata": {},
   "outputs": [],
   "source": [
    "import numpy as np\n",
    "import scipy\n",
    "import matplotlib.pyplot as plt\n",
    "from scipy import signal\n",
    "from scipy.io import wavfile\n",
    "\n"
   ]
  },
  {
   "cell_type": "code",
   "execution_count": 33,
   "metadata": {},
   "outputs": [],
   "source": [
    "import librosa"
   ]
  },
  {
   "cell_type": "code",
   "execution_count": 2,
   "metadata": {},
   "outputs": [],
   "source": [
    "test=np.load('idxs.npy')"
   ]
  },
  {
   "cell_type": "code",
   "execution_count": 3,
   "metadata": {},
   "outputs": [
    {
     "data": {
      "text/plain": [
       "array([249, 228, 312, ..., 143, 183, 161])"
      ]
     },
     "execution_count": 3,
     "metadata": {},
     "output_type": "execute_result"
    }
   ],
   "source": [
    "test"
   ]
  },
  {
   "cell_type": "code",
   "execution_count": 3,
   "metadata": {},
   "outputs": [
    {
     "data": {
      "text/plain": [
       "array([[3.1212901e-05, 6.5022963e-05, 9.0654059e-05, ..., 1.2469797e-04,\n",
       "        9.3303242e-05, 8.6591863e-05],\n",
       "       [3.1212901e-05, 6.5022963e-05, 9.0654059e-05, ..., 1.2469797e-04,\n",
       "        9.3303242e-05, 8.6591863e-05]], dtype=float32)"
      ]
     },
     "execution_count": 3,
     "metadata": {},
     "output_type": "execute_result"
    }
   ],
   "source": [
    "test"
   ]
  },
  {
   "cell_type": "code",
   "execution_count": 5,
   "metadata": {},
   "outputs": [
    {
     "name": "stdout",
     "output_type": "stream",
     "text": [
      "[[3.1212901e-05 6.5022963e-05 9.0654059e-05 ... 1.2469797e-04\n",
      "  9.3303242e-05 8.6591863e-05]\n",
      " [3.1212901e-05 6.5022963e-05 9.0654059e-05 ... 1.2469797e-04\n",
      "  9.3303242e-05 8.6591863e-05]]\n"
     ]
    }
   ],
   "source": [
    "print(test)"
   ]
  },
  {
   "cell_type": "code",
   "execution_count": 6,
   "metadata": {
    "scrolled": true
   },
   "outputs": [
    {
     "data": {
      "text/plain": [
       "(2, 16384)"
      ]
     },
     "execution_count": 6,
     "metadata": {},
     "output_type": "execute_result"
    }
   ],
   "source": [
    "test.shape"
   ]
  },
  {
   "cell_type": "code",
   "execution_count": 7,
   "metadata": {},
   "outputs": [],
   "source": [
    "sample_rate, samples = wavfile.read(r'F:\\timit\\train\\DR1_FCJF0_SA2.wav')"
   ]
  },
  {
   "cell_type": "code",
   "execution_count": 12,
   "metadata": {},
   "outputs": [],
   "source": [
    "import torch"
   ]
  },
  {
   "cell_type": "code",
   "execution_count": 21,
   "metadata": {},
   "outputs": [],
   "source": [
    "test=torch.from_numpy(samples)"
   ]
  },
  {
   "cell_type": "code",
   "execution_count": 25,
   "metadata": {},
   "outputs": [],
   "source": [
    "x=scipy.signal.stft(samples,sample_rate)"
   ]
  },
  {
   "cell_type": "code",
   "execution_count": 26,
   "metadata": {},
   "outputs": [
    {
     "data": {
      "text/plain": [
       "array([   0.  ,   31.25,   62.5 ,   93.75,  125.  ,  156.25,  187.5 ,\n",
       "        218.75,  250.  ,  281.25,  312.5 ,  343.75,  375.  ,  406.25,\n",
       "        437.5 ,  468.75,  500.  ,  531.25,  562.5 ,  593.75,  625.  ,\n",
       "        656.25,  687.5 ,  718.75,  750.  ,  781.25,  812.5 ,  843.75,\n",
       "        875.  ,  906.25,  937.5 ,  968.75, 1000.  , 1031.25, 1062.5 ,\n",
       "       1093.75, 1125.  , 1156.25, 1187.5 , 1218.75, 1250.  , 1281.25,\n",
       "       1312.5 , 1343.75, 1375.  , 1406.25, 1437.5 , 1468.75, 1500.  ,\n",
       "       1531.25, 1562.5 , 1593.75, 1625.  , 1656.25, 1687.5 , 1718.75,\n",
       "       1750.  , 1781.25, 1812.5 , 1843.75, 1875.  , 1906.25, 1937.5 ,\n",
       "       1968.75, 2000.  , 2031.25, 2062.5 , 2093.75, 2125.  , 2156.25,\n",
       "       2187.5 , 2218.75, 2250.  , 2281.25, 2312.5 , 2343.75, 2375.  ,\n",
       "       2406.25, 2437.5 , 2468.75, 2500.  , 2531.25, 2562.5 , 2593.75,\n",
       "       2625.  , 2656.25, 2687.5 , 2718.75, 2750.  , 2781.25, 2812.5 ,\n",
       "       2843.75, 2875.  , 2906.25, 2937.5 , 2968.75, 3000.  , 3031.25,\n",
       "       3062.5 , 3093.75, 3125.  , 3156.25, 3187.5 , 3218.75, 3250.  ,\n",
       "       3281.25, 3312.5 , 3343.75, 3375.  , 3406.25, 3437.5 , 3468.75,\n",
       "       3500.  , 3531.25, 3562.5 , 3593.75, 3625.  , 3656.25, 3687.5 ,\n",
       "       3718.75, 3750.  , 3781.25, 3812.5 , 3843.75, 3875.  , 3906.25,\n",
       "       3937.5 , 3968.75, 4000.  ])"
      ]
     },
     "execution_count": 26,
     "metadata": {},
     "output_type": "execute_result"
    }
   ],
   "source": [
    "x[0]"
   ]
  },
  {
   "cell_type": "code",
   "execution_count": 28,
   "metadata": {},
   "outputs": [
    {
     "data": {
      "text/plain": [
       "(17255,)"
      ]
     },
     "execution_count": 28,
     "metadata": {},
     "output_type": "execute_result"
    }
   ],
   "source": [
    "samples.shape"
   ]
  },
  {
   "cell_type": "code",
   "execution_count": 30,
   "metadata": {},
   "outputs": [
    {
     "data": {
      "text/plain": [
       "(129, 136)"
      ]
     },
     "execution_count": 30,
     "metadata": {},
     "output_type": "execute_result"
    }
   ],
   "source": [
    "x[2].shape"
   ]
  },
  {
   "cell_type": "code",
   "execution_count": 41,
   "metadata": {},
   "outputs": [],
   "source": [
    "\n",
    "D_a = np.abs(x[2])\n",
    "\n",
    "D_db = librosa.core.amplitude_to_db(D_a, ref=np.max)"
   ]
  },
  {
   "cell_type": "code",
   "execution_count": 42,
   "metadata": {},
   "outputs": [
    {
     "data": {
      "text/plain": [
       "(129, 136)"
      ]
     },
     "execution_count": 42,
     "metadata": {},
     "output_type": "execute_result"
    }
   ],
   "source": [
    "D_db.shape"
   ]
  },
  {
   "cell_type": "code",
   "execution_count": 43,
   "metadata": {},
   "outputs": [
    {
     "data": {
      "text/plain": [
       "array([[-49.701756, -43.284813, -41.128014, ..., -43.58718 , -47.0867  ,\n",
       "        -57.694298],\n",
       "       [-51.28433 , -51.2974  , -47.058647, ..., -50.245087, -56.447983,\n",
       "        -58.544426],\n",
       "       [-56.056465, -58.830482, -64.88718 , ..., -80.      , -54.12892 ,\n",
       "        -61.3187  ],\n",
       "       ...,\n",
       "       [-80.      , -78.81491 , -80.      , ..., -79.224075, -80.      ,\n",
       "        -80.      ],\n",
       "       [-80.      , -80.      , -80.      , ..., -76.690216, -80.      ,\n",
       "        -80.      ],\n",
       "       [-80.      , -80.      , -76.04899 , ..., -78.263214, -80.      ,\n",
       "        -80.      ]], dtype=float32)"
      ]
     },
     "execution_count": 43,
     "metadata": {},
     "output_type": "execute_result"
    }
   ],
   "source": [
    "D_db"
   ]
  },
  {
   "cell_type": "code",
   "execution_count": 45,
   "metadata": {},
   "outputs": [
    {
     "data": {
      "text/plain": [
       "[1, 2, 3]"
      ]
     },
     "execution_count": 45,
     "metadata": {},
     "output_type": "execute_result"
    }
   ],
   "source": [
    "[x for x in (1,2,3)]"
   ]
  },
  {
   "cell_type": "code",
   "execution_count": 44,
   "metadata": {},
   "outputs": [
    {
     "data": {
      "image/png": "[encoded data removed]",
      "text/plain": [
       "<Figure size 432x288 with 2 Axes>"
      ]
     },
     "metadata": {},
     "output_type": "display_data"
    }
   ],
   "source": [
    "plt.figure()\n",
    "librosa.display.specshow(D_db, y_axis='log', x_axis='time')\n",
    "plt.title('Power spectrogram')\n",
    "plt.colorbar(format='%+2.0f dB')\n",
    "plt.tight_layout()"
   ]
  },
  {
   "cell_type": "code",
   "execution_count": 39,
   "metadata": {},
   "outputs": [],
   "source": [
    "import librosa.display"
   ]
  },
  {
   "cell_type": "code",
   "execution_count": 47,
   "metadata": {},
   "outputs": [
    {
     "data": {
      "text/plain": [
       "136"
      ]
     },
     "execution_count": 47,
     "metadata": {},
     "output_type": "execute_result"
    }
   ],
   "source": [
    "x[2].shape[1]"
   ]
  },
  {
   "cell_type": "code",
   "execution_count": 15,
   "metadata": {},
   "outputs": [],
   "source": [
    "wavfile.read?"
   ]
  },
  {
   "cell_type": "code",
   "execution_count": null,
   "metadata": {},
   "outputs": [],
   "source": []
  }
 ],
 "metadata": {
  "kernelspec": {
   "display_name": "Python 3",
   "language": "python",
   "name": "python3"
  },
  "language_info": {
   "codemirror_mode": {
    "name": "ipython",
    "version": 3
   },
   "file_extension": ".py",
   "mimetype": "text/x-python",
   "name": "python",
   "nbconvert_exporter": "python",
   "pygments_lexer": "ipython3",
   "version": "3.6.5"
  }
 },
 "nbformat": 4,
 "nbformat_minor": 2
}
