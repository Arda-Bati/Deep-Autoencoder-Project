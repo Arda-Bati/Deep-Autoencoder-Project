{
 "cells": [
  {
   "cell_type": "code",
   "execution_count": 5,
   "metadata": {},
   "outputs": [],
   "source": [
    "# -*- coding: utf-8 -*-\n",
    "\"\"\"\n",
    "Created on Thu Feb 28 19:55:26 2019\n",
    "\n",
    "@author: ericl\n",
    "\"\"\"\n",
    "\n",
    "import os\n",
    "import librosa\n",
    "import numpy as np\n",
    "import scipy\n",
    "import matplotlib.pyplot as plt\n",
    "from scipy import signal\n",
    "from scipy.io import wavfile\n",
    "import pandas as pd\n",
    "from tqdm import tqdm\n",
    "\n",
    "#These two dir are used to track the name of the files we want to convert, as only 200 test audios were selected, we track them from\n",
    "# the ones generated with matlab\n",
    "clean_train_folder = r'.\\Noise_Addition\\timit_128\\timit\\train'\n",
    "clean_test_folder=r'.\\Noise_Addition\\results\\test\\babble\\0db'\n",
    "\n",
    "#These are the folders where we have our noisy data stored\n",
    "noisy_test_folder = r'.\\Noise_Addition\\results\\test'\n",
    "noisy_train_folder = r'.\\Noise_Addition\\results\\train'\n",
    "\n",
    "#output stft features in numpy form and save in below dirs\n",
    "output_test_folder=r'.\\features\\test'\n",
    "output_train_folder=r'.\\features\\train'\n",
    "\n",
    "#the type of noise and SNR we want to deal with, add in dirs to ensure consistency\n",
    "noisy_types=[r'\\babble',r'\\white',r'\\factory1',r'\\hfchannel']\n",
    "SNRs=[r'\\5db',r'\\10db',r'\\15db',r'\\20db',r'\\0db',r'\\-5db']\n",
    "#SNRs=[r'\\5db']\n",
    "#noisy_types=[r'\\babble']\n",
    "\n",
    "\n",
    "window_size = 2 ** 14  # about 1 second of samples\n",
    "#sample_rate = 16000\n",
    "\n",
    "\n",
    "def saveConvert_info(file):\n",
    "    \"\"\"\n",
    "    input a wav file, return np array after stft\n",
    "    \"\"\"\n",
    "    \n",
    "    y, fs = librosa.load(file, sr=8000)\n",
    "    D = librosa.core.stft(y, n_fft = 128)\n",
    "    #sample_rate, samples = wavfile.read(file)\n",
    "    #x=scipy.signal.stft(samples,sample_rate)\n",
    "    D_a = np.abs(D)\n",
    "    D_db = librosa.core.amplitude_to_db(D_a, ref=np.max)\n",
    "    phase=np.angle(D)\n",
    "    mean=np.mean(D_db,1)\n",
    "    std=np.std(D_db,1)\n",
    "    max_value=np.max(D_a)\n",
    "    return [phase,mean,std,max_value]\n",
    "\n",
    "def saveConvert_data(file):\n",
    "    \"\"\"\n",
    "    input a wav file, return np array after stft\n",
    "    \"\"\"\n",
    "    sample_rate, samples = wavfile.read(file)\n",
    "    x=scipy.signal.stft(samples,sample_rate)\n",
    "    D_a = np.abs(x[2])\n",
    "\n",
    "    D_db = librosa.core.amplitude_to_db(D_a, ref=np.max)\n",
    "    return D_db\n",
    "    \n",
    "\n",
    "def normalize(data):\n",
    "    \"\"\"\n",
    "    normalize data by each row\n",
    "    \n",
    "    intype: np array 129*n\n",
    "    rtype: np array 129*n\n",
    "    \n",
    "    \"\"\"\n",
    "    #this function should not be utilized until we get the mean and std of our data\n",
    "    return (data-np.mean(data,axis=1).reshape(129,1))/np.std(data,axis=1).reshape(129,1)\n",
    "\n",
    "test_dict={}\n",
    "def processData(data_type):\n",
    "    \"\"\"\n",
    "    Serialize, down-sample the sliced signals and save on separate folder.\n",
    "    \"\"\"\n",
    "    mean=np.array([])\n",
    "    count=0\n",
    "    \n",
    "    for snr in SNRs:\n",
    "        for noise in noisy_types:\n",
    "            #max_idxs=[]\n",
    "            \n",
    "            if data_type == 'train':\n",
    "                clean_folder = clean_train_folder\n",
    "                noisy_folder = noisy_train_folder+noise+snr\n",
    "                serialized_folder = output_train_folder+noise+snr\n",
    "            else:\n",
    "                clean_folder = clean_test_folder\n",
    "                noisy_folder = noisy_test_folder+noise+snr\n",
    "                serialized_folder = output_test_folder+noise+snr\n",
    "            if not os.path.exists(serialized_folder):\n",
    "                os.makedirs(serialized_folder)\n",
    "            \n",
    "            #clean_folder = clean_test_folder\n",
    "            #noisy_folder = noisy_test_folder+noise+snr\n",
    "            \n",
    "            \"\"\"\n",
    "            #this piece of code is used to generate converted data along with their phases,angle,etc.\n",
    "            for root, dirs, files in os.walk(clean_folder):\n",
    "                if len(files) == 0:\n",
    "                    continue\n",
    "                #print('current folder',dirs)\n",
    "                for filename in tqdm(files, desc='Converting {} audios'.format(data_type)):\n",
    "                    noisy_file = os.path.join(noisy_folder, filename)\n",
    "                    if '.wav' in filename:\n",
    "                    #[phase,mean,std,max_value]\n",
    "\n",
    "\n",
    "                        data=saveConvert_data(noisy_file)\n",
    "                        data=normalize(data)\n",
    "                        (a,b,c,d)=saveConvert_info(noisy_file)\n",
    "                        test_dict['phase']=a\n",
    "                        test_dict['mean']=b\n",
    "                        test_dict['std']=c\n",
    "                        test_dict['max_value']=d\n",
    "                        test_dict['data']=data\n",
    "                        np.save(os.path.join(serialized_folder, '{}'.format(filename)),test_dict)\n",
    "                        #np.save(os.path.join(serialized_folder, '{}'.format(filename)), arr=test_dict)\n",
    "                        #print(noisy_file)\n",
    "\n",
    "                        \n",
    "            \"\"\"\n",
    "            \n",
    "            for root, dirs, files in os.walk(clean_folder):\n",
    "                for filename in tqdm(files, desc='Converting {} audios'.format(data_type)):\n",
    "                    if '.wav' in filename:\n",
    "                        noisy_file = os.path.join(noisy_folder, filename)\n",
    "                        converted_noisy=saveConvert_data(noisy_file)\n",
    "                        \n",
    "                        #get the mean\n",
    "                        if len(mean)==0:\n",
    "                            mean=np.sum(converted_noisy,axis=1)\n",
    "                        else:\n",
    "                            mean+=np.sum(converted_noisy,axis=1)\n",
    "                        \n",
    "                        count+=len(converted_noisy[0])\n",
    "                            \n",
    "                        #normalization of data will be performed at the training stage\n",
    "                        #test=normalize(converted_noisy)\n",
    "                        np.save(os.path.join(serialized_folder, '{}'.format(filename)), arr=converted_noisy)\n",
    "                        #print('saving dir',serialized_folder)\n",
    "            \n",
    "\n",
    "                    #print(np.sum(np.isnan(converted_noisy)))\n",
    "                    #max_idxs.append((filename,converted_noisy.shape[1]))\n",
    "            mean=mean/count\n",
    "            np.save('test_mean.npy',mean)\n",
    "            #print(serialized_folder)\n",
    "            \n",
    "    "
   ]
  },
  {
   "cell_type": "code",
   "execution_count": 6,
   "metadata": {
    "scrolled": true
   },
   "outputs": [
    {
     "name": "stderr",
     "output_type": "stream",
     "text": [
      "\r",
      "Converting train audios:   0%|                                                                | 0/4620 [00:00<?, ?it/s]"
     ]
    },
    {
     "name": "stdout",
     "output_type": "stream",
     "text": [
      "saving dir .\\features\\train\\babble\\5db\n",
      "saving dir .\\features\\train\\babble\\5db\n",
      "saving dir .\\features\\train\\babble\\5db\n",
      "saving dir .\\features\\train\\babble\\5db\n",
      "saving dir .\\features\\train\\babble\\5db\n",
      "saving dir .\\features\\train\\babble\\5db\n",
      "saving dir .\\features\\train\\babble\\5db\n",
      "saving dir .\\features\\train\\babble\\5db\n",
      "saving dir .\\features\\train\\babble\\5db\n",
      "saving dir .\\features\\train\\babble\\5db\n",
      "saving dir .\\features\\train\\babble\\5db\n",
      "saving dir .\\features\\train\\babble\\5db\n",
      "saving dir .\\features\\train\\babble\\5db\n"
     ]
    },
    {
     "name": "stderr",
     "output_type": "stream",
     "text": [
      "\r",
      "Converting train audios:   0%|▏                                                     | 13/4620 [00:00<00:36, 125.36it/s]"
     ]
    },
    {
     "name": "stdout",
     "output_type": "stream",
     "text": [
      "saving dir .\\features\\train\\babble\\5db\n",
      "saving dir .\\features\\train\\babble\\5db\n",
      "saving dir .\\features\\train\\babble\\5db\n",
      "saving dir .\\features\\train\\babble\\5db\n",
      "saving dir .\\features\\train\\babble\\5db\n",
      "saving dir .\\features\\train\\babble\\5db\n",
      "saving dir .\\features\\train\\babble\\5db\n",
      "saving dir .\\features\\train\\babble\\5db\n",
      "saving dir .\\features\\train\\babble\\5db\n",
      "saving dir .\\features\\train\\babble\\5db\n",
      "saving dir .\\features\\train\\babble\\5db\n"
     ]
    },
    {
     "name": "stderr",
     "output_type": "stream",
     "text": [
      "\r",
      "Converting train audios:   1%|▎                                                     | 24/4620 [00:00<00:38, 119.26it/s]"
     ]
    },
    {
     "name": "stdout",
     "output_type": "stream",
     "text": [
      "saving dir .\\features\\train\\babble\\5db\n",
      "saving dir .\\features\\train\\babble\\5db\n",
      "saving dir .\\features\\train\\babble\\5db\n",
      "saving dir .\\features\\train\\babble\\5db\n",
      "saving dir .\\features\\train\\babble\\5db\n",
      "saving dir .\\features\\train\\babble\\5db\n",
      "saving dir .\\features\\train\\babble\\5db\n",
      "saving dir .\\features\\train\\babble\\5db\n",
      "saving dir .\\features\\train\\babble\\5db\n",
      "saving dir .\\features\\train\\babble\\5db\n",
      "saving dir .\\features\\train\\babble\\5db\n"
     ]
    },
    {
     "name": "stderr",
     "output_type": "stream",
     "text": [
      "\r",
      "Converting train audios:   1%|▍                                                     | 35/4620 [00:00<00:39, 116.05it/s]"
     ]
    },
    {
     "name": "stdout",
     "output_type": "stream",
     "text": [
      "saving dir .\\features\\train\\babble\\5db\n",
      "saving dir .\\features\\train\\babble\\5db\n",
      "saving dir .\\features\\train\\babble\\5db\n",
      "saving dir .\\features\\train\\babble\\5db\n",
      "saving dir .\\features\\train\\babble\\5db\n",
      "saving dir .\\features\\train\\babble\\5db\n",
      "saving dir .\\features\\train\\babble\\5db\n",
      "saving dir .\\features\\train\\babble\\5db\n",
      "saving dir .\\features\\train\\babble\\5db\n",
      "saving dir .\\features\\train\\babble\\5db\n",
      "saving dir .\\features\\train\\babble\\5db\n",
      "saving dir .\\features\\train\\babble\\5db\n"
     ]
    },
    {
     "name": "stderr",
     "output_type": "stream",
     "text": [
      "\r",
      "Converting train audios:   1%|▌                                                     | 47/4620 [00:00<00:39, 116.61it/s]"
     ]
    },
    {
     "name": "stdout",
     "output_type": "stream",
     "text": [
      "saving dir .\\features\\train\\babble\\5db\n",
      "saving dir .\\features\\train\\babble\\5db\n",
      "saving dir .\\features\\train\\babble\\5db\n",
      "saving dir .\\features\\train\\babble\\5db\n",
      "saving dir .\\features\\train\\babble\\5db\n",
      "saving dir .\\features\\train\\babble\\5db\n",
      "saving dir .\\features\\train\\babble\\5db\n",
      "saving dir .\\features\\train\\babble\\5db\n",
      "saving dir .\\features\\train\\babble\\5db\n",
      "saving dir .\\features\\train\\babble\\5db\n",
      "saving dir .\\features\\train\\babble\\5db\n",
      "saving dir .\\features\\train\\babble\\5db\n",
      "saving dir .\\features\\train\\babble\\5db\n"
     ]
    },
    {
     "name": "stderr",
     "output_type": "stream",
     "text": [
      "\r",
      "Converting train audios:   1%|▋                                                     | 60/4620 [00:00<00:38, 118.12it/s]"
     ]
    },
    {
     "name": "stdout",
     "output_type": "stream",
     "text": [
      "saving dir .\\features\\train\\babble\\5db\n",
      "saving dir .\\features\\train\\babble\\5db\n",
      "saving dir .\\features\\train\\babble\\5db\n",
      "saving dir .\\features\\train\\babble\\5db\n",
      "saving dir .\\features\\train\\babble\\5db\n",
      "saving dir .\\features\\train\\babble\\5db\n",
      "saving dir .\\features\\train\\babble\\5db\n",
      "saving dir .\\features\\train\\babble\\5db\n",
      "saving dir .\\features\\train\\babble\\5db\n",
      "saving dir .\\features\\train\\babble\\5db\n",
      "saving dir .\\features\\train\\babble\\5db\n",
      "saving dir .\\features\\train\\babble\\5db\n"
     ]
    },
    {
     "name": "stderr",
     "output_type": "stream",
     "text": [
      "\r",
      "Converting train audios:   2%|▊                                                     | 72/4620 [00:00<00:38, 117.39it/s]"
     ]
    },
    {
     "name": "stdout",
     "output_type": "stream",
     "text": [
      "saving dir .\\features\\train\\babble\\5db\n",
      "saving dir .\\features\\train\\babble\\5db\n",
      "saving dir .\\features\\train\\babble\\5db\n",
      "saving dir .\\features\\train\\babble\\5db\n",
      "saving dir .\\features\\train\\babble\\5db\n",
      "saving dir .\\features\\train\\babble\\5db\n",
      "saving dir .\\features\\train\\babble\\5db\n",
      "saving dir .\\features\\train\\babble\\5db\n",
      "saving dir .\\features\\train\\babble\\5db\n",
      "saving dir .\\features\\train\\babble\\5db\n",
      "saving dir .\\features\\train\\babble\\5db\n"
     ]
    },
    {
     "name": "stderr",
     "output_type": "stream",
     "text": [
      "\r",
      "Converting train audios:   2%|▉                                                      | 83/4620 [00:00<00:52, 87.07it/s]"
     ]
    },
    {
     "name": "stdout",
     "output_type": "stream",
     "text": [
      "saving dir .\\features\\train\\babble\\5db\n",
      "saving dir .\\features\\train\\babble\\5db\n",
      "saving dir .\\features\\train\\babble\\5db\n",
      "saving dir .\\features\\train\\babble\\5db\n",
      "saving dir .\\features\\train\\babble\\5db\n",
      "saving dir .\\features\\train\\babble\\5db\n",
      "saving dir .\\features\\train\\babble\\5db\n",
      "saving dir .\\features\\train\\babble\\5db\n",
      "saving dir .\\features\\train\\babble\\5db\n",
      "saving dir .\\features\\train\\babble\\5db\n",
      "saving dir .\\features\\train\\babble\\5db\n",
      "saving dir .\\features\\train\\babble\\5db\n"
     ]
    },
    {
     "name": "stderr",
     "output_type": "stream",
     "text": [
      "\r",
      "Converting train audios:   2%|█▏                                                     | 95/4620 [00:00<00:48, 94.27it/s]"
     ]
    },
    {
     "name": "stdout",
     "output_type": "stream",
     "text": [
      "saving dir .\\features\\train\\babble\\5db\n",
      "saving dir .\\features\\train\\babble\\5db\n",
      "saving dir .\\features\\train\\babble\\5db\n",
      "saving dir .\\features\\train\\babble\\5db\n",
      "saving dir .\\features\\train\\babble\\5db\n",
      "saving dir .\\features\\train\\babble\\5db\n",
      "saving dir .\\features\\train\\babble\\5db\n",
      "saving dir .\\features\\train\\babble\\5db\n",
      "saving dir .\\features\\train\\babble\\5db\n",
      "saving dir .\\features\\train\\babble\\5db\n",
      "saving dir .\\features\\train\\babble\\5db\n",
      "saving dir .\\features\\train\\babble\\5db\n"
     ]
    },
    {
     "name": "stderr",
     "output_type": "stream",
     "text": [
      "\r",
      "Converting train audios:   2%|█▏                                                   | 107/4620 [00:01<00:45, 100.07it/s]"
     ]
    },
    {
     "name": "stdout",
     "output_type": "stream",
     "text": [
      "saving dir .\\features\\train\\babble\\5db\n",
      "saving dir .\\features\\train\\babble\\5db\n",
      "saving dir .\\features\\train\\babble\\5db\n",
      "saving dir .\\features\\train\\babble\\5db\n",
      "saving dir .\\features\\train\\babble\\5db\n",
      "saving dir .\\features\\train\\babble\\5db\n",
      "saving dir .\\features\\train\\babble\\5db\n",
      "saving dir .\\features\\train\\babble\\5db\n",
      "saving dir .\\features\\train\\babble\\5db\n",
      "saving dir .\\features\\train\\babble\\5db\n",
      "saving dir .\\features\\train\\babble\\5db\n"
     ]
    },
    {
     "name": "stderr",
     "output_type": "stream",
     "text": [
      "\r",
      "Converting train audios:   3%|█▍                                                    | 118/4620 [00:01<00:55, 81.49it/s]"
     ]
    },
    {
     "name": "stdout",
     "output_type": "stream",
     "text": [
      "saving dir .\\features\\train\\babble\\5db\n",
      "saving dir .\\features\\train\\babble\\5db\n",
      "saving dir .\\features\\train\\babble\\5db\n",
      "saving dir .\\features\\train\\babble\\5db\n",
      "saving dir .\\features\\train\\babble\\5db\n",
      "saving dir .\\features\\train\\babble\\5db\n",
      "saving dir .\\features\\train\\babble\\5db\n",
      "saving dir .\\features\\train\\babble\\5db\n",
      "saving dir .\\features\\train\\babble\\5db\n",
      "saving dir .\\features\\train\\babble\\5db\n",
      "saving dir .\\features\\train\\babble\\5db\n",
      "saving dir .\\features\\train\\babble\\5db\n"
     ]
    },
    {
     "name": "stderr",
     "output_type": "stream",
     "text": [
      "\r",
      "Converting train audios:   3%|█▌                                                    | 130/4620 [00:01<00:50, 89.42it/s]"
     ]
    },
    {
     "name": "stdout",
     "output_type": "stream",
     "text": [
      "saving dir .\\features\\train\\babble\\5db\n",
      "saving dir .\\features\\train\\babble\\5db\n",
      "saving dir .\\features\\train\\babble\\5db\n",
      "saving dir .\\features\\train\\babble\\5db\n",
      "saving dir .\\features\\train\\babble\\5db\n",
      "saving dir .\\features\\train\\babble\\5db\n",
      "saving dir .\\features\\train\\babble\\5db\n",
      "saving dir .\\features\\train\\babble\\5db\n",
      "saving dir .\\features\\train\\babble\\5db\n",
      "saving dir .\\features\\train\\babble\\5db\n",
      "saving dir .\\features\\train\\babble\\5db\n",
      "saving dir .\\features\\train\\babble\\5db\n",
      "saving dir .\\features\\train\\babble\\5db\n"
     ]
    },
    {
     "name": "stderr",
     "output_type": "stream",
     "text": [
      "\r",
      "Converting train audios:   3%|█▋                                                    | 143/4620 [00:01<00:45, 98.26it/s]"
     ]
    },
    {
     "name": "stdout",
     "output_type": "stream",
     "text": [
      "saving dir .\\features\\train\\babble\\5db\n",
      "saving dir .\\features\\train\\babble\\5db\n",
      "saving dir .\\features\\train\\babble\\5db\n",
      "saving dir .\\features\\train\\babble\\5db\n",
      "saving dir .\\features\\train\\babble\\5db\n",
      "saving dir .\\features\\train\\babble\\5db\n",
      "saving dir .\\features\\train\\babble\\5db\n",
      "saving dir .\\features\\train\\babble\\5db\n",
      "saving dir .\\features\\train\\babble\\5db\n",
      "saving dir .\\features\\train\\babble\\5db\n",
      "saving dir .\\features\\train\\babble\\5db\n"
     ]
    },
    {
     "name": "stderr",
     "output_type": "stream",
     "text": [
      "\r",
      "Converting train audios:   3%|█▊                                                   | 154/4620 [00:01<00:44, 101.04it/s]"
     ]
    },
    {
     "name": "stdout",
     "output_type": "stream",
     "text": [
      "saving dir .\\features\\train\\babble\\5db\n",
      "saving dir .\\features\\train\\babble\\5db\n",
      "saving dir .\\features\\train\\babble\\5db\n",
      "saving dir .\\features\\train\\babble\\5db\n",
      "saving dir .\\features\\train\\babble\\5db\n",
      "saving dir .\\features\\train\\babble\\5db\n",
      "saving dir .\\features\\train\\babble\\5db\n",
      "saving dir .\\features\\train\\babble\\5db\n",
      "saving dir .\\features\\train\\babble\\5db\n",
      "saving dir .\\features\\train\\babble\\5db\n",
      "saving dir .\\features\\train\\babble\\5db\n"
     ]
    },
    {
     "name": "stderr",
     "output_type": "stream",
     "text": [
      "\r",
      "Converting train audios:   4%|█▉                                                   | 165/4620 [00:01<00:43, 102.21it/s]"
     ]
    },
    {
     "name": "stdout",
     "output_type": "stream",
     "text": [
      "saving dir .\\features\\train\\babble\\5db\n",
      "saving dir .\\features\\train\\babble\\5db\n",
      "saving dir .\\features\\train\\babble\\5db\n",
      "saving dir .\\features\\train\\babble\\5db\n",
      "saving dir .\\features\\train\\babble\\5db\n",
      "saving dir .\\features\\train\\babble\\5db\n",
      "saving dir .\\features\\train\\babble\\5db\n",
      "saving dir .\\features\\train\\babble\\5db\n",
      "saving dir .\\features\\train\\babble\\5db\n",
      "saving dir .\\features\\train\\babble\\5db\n",
      "saving dir .\\features\\train\\babble\\5db\n",
      "saving dir .\\features\\train\\babble\\5db\n",
      "saving dir .\\features\\train\\babble\\5db\n"
     ]
    },
    {
     "name": "stderr",
     "output_type": "stream",
     "text": [
      "\r",
      "Converting train audios:   4%|██                                                   | 178/4620 [00:01<00:40, 108.74it/s]"
     ]
    },
    {
     "name": "stdout",
     "output_type": "stream",
     "text": [
      "saving dir .\\features\\train\\babble\\5db\n",
      "saving dir .\\features\\train\\babble\\5db\n",
      "saving dir .\\features\\train\\babble\\5db\n",
      "saving dir .\\features\\train\\babble\\5db\n",
      "saving dir .\\features\\train\\babble\\5db\n",
      "saving dir .\\features\\train\\babble\\5db\n",
      "saving dir .\\features\\train\\babble\\5db\n",
      "saving dir .\\features\\train\\babble\\5db\n",
      "saving dir .\\features\\train\\babble\\5db\n",
      "saving dir .\\features\\train\\babble\\5db\n",
      "saving dir .\\features\\train\\babble\\5db\n",
      "saving dir .\\features\\train\\babble\\5db\n",
      "saving dir .\\features\\train\\babble\\5db\n"
     ]
    },
    {
     "name": "stderr",
     "output_type": "stream",
     "text": [
      "\r",
      "Converting train audios:   4%|██▏                                                  | 191/4620 [00:01<00:39, 111.49it/s]"
     ]
    },
    {
     "name": "stdout",
     "output_type": "stream",
     "text": [
      "saving dir .\\features\\train\\babble\\5db\n",
      "saving dir .\\features\\train\\babble\\5db\n",
      "saving dir .\\features\\train\\babble\\5db\n",
      "saving dir .\\features\\train\\babble\\5db\n",
      "saving dir .\\features\\train\\babble\\5db\n",
      "saving dir .\\features\\train\\babble\\5db\n",
      "saving dir .\\features\\train\\babble\\5db\n",
      "saving dir .\\features\\train\\babble\\5db\n",
      "saving dir .\\features\\train\\babble\\5db\n",
      "saving dir .\\features\\train\\babble\\5db\n",
      "saving dir .\\features\\train\\babble\\5db\n",
      "saving dir .\\features\\train\\babble\\5db\n",
      "saving dir .\\features\\train\\babble\\5db\n"
     ]
    },
    {
     "name": "stderr",
     "output_type": "stream",
     "text": [
      "\r",
      "Converting train audios:   4%|██▎                                                  | 204/4620 [00:01<00:38, 115.60it/s]"
     ]
    },
    {
     "name": "stdout",
     "output_type": "stream",
     "text": [
      "saving dir .\\features\\train\\babble\\5db\n",
      "saving dir .\\features\\train\\babble\\5db\n",
      "saving dir .\\features\\train\\babble\\5db\n",
      "saving dir .\\features\\train\\babble\\5db\n",
      "saving dir .\\features\\train\\babble\\5db\n",
      "saving dir .\\features\\train\\babble\\5db\n",
      "saving dir .\\features\\train\\babble\\5db\n",
      "saving dir .\\features\\train\\babble\\5db\n",
      "saving dir .\\features\\train\\babble\\5db\n",
      "saving dir .\\features\\train\\babble\\5db\n",
      "saving dir .\\features\\train\\babble\\5db\n",
      "saving dir .\\features\\train\\babble\\5db\n"
     ]
    },
    {
     "name": "stderr",
     "output_type": "stream",
     "text": [
      "\r",
      "Converting train audios:   5%|██▍                                                  | 216/4620 [00:02<00:37, 116.32it/s]"
     ]
    },
    {
     "name": "stdout",
     "output_type": "stream",
     "text": [
      "saving dir .\\features\\train\\babble\\5db\n",
      "saving dir .\\features\\train\\babble\\5db\n",
      "saving dir .\\features\\train\\babble\\5db\n",
      "saving dir .\\features\\train\\babble\\5db\n",
      "saving dir .\\features\\train\\babble\\5db\n",
      "saving dir .\\features\\train\\babble\\5db\n",
      "saving dir .\\features\\train\\babble\\5db\n",
      "saving dir .\\features\\train\\babble\\5db\n",
      "saving dir .\\features\\train\\babble\\5db\n",
      "saving dir .\\features\\train\\babble\\5db\n",
      "saving dir .\\features\\train\\babble\\5db\n",
      "saving dir .\\features\\train\\babble\\5db\n"
     ]
    },
    {
     "name": "stderr",
     "output_type": "stream",
     "text": [
      "\r",
      "Converting train audios:   5%|██▌                                                  | 228/4620 [00:02<00:37, 116.81it/s]"
     ]
    },
    {
     "name": "stdout",
     "output_type": "stream",
     "text": [
      "saving dir .\\features\\train\\babble\\5db\n",
      "saving dir .\\features\\train\\babble\\5db\n",
      "saving dir .\\features\\train\\babble\\5db\n",
      "saving dir .\\features\\train\\babble\\5db\n",
      "saving dir .\\features\\train\\babble\\5db\n",
      "saving dir .\\features\\train\\babble\\5db\n",
      "saving dir .\\features\\train\\babble\\5db\n",
      "saving dir .\\features\\train\\babble\\5db\n",
      "saving dir .\\features\\train\\babble\\5db\n",
      "saving dir .\\features\\train\\babble\\5db\n",
      "saving dir .\\features\\train\\babble\\5db\n",
      "saving dir .\\features\\train\\babble\\5db\n",
      "saving dir .\\features\\train\\babble\\5db\n"
     ]
    },
    {
     "name": "stderr",
     "output_type": "stream",
     "text": [
      "\r",
      "Converting train audios:   5%|██▊                                                  | 241/4620 [00:02<00:37, 117.95it/s]"
     ]
    },
    {
     "name": "stdout",
     "output_type": "stream",
     "text": [
      "saving dir .\\features\\train\\babble\\5db\n",
      "saving dir .\\features\\train\\babble\\5db\n",
      "saving dir .\\features\\train\\babble\\5db\n",
      "saving dir .\\features\\train\\babble\\5db\n",
      "saving dir .\\features\\train\\babble\\5db\n",
      "saving dir .\\features\\train\\babble\\5db\n",
      "saving dir .\\features\\train\\babble\\5db\n",
      "saving dir .\\features\\train\\babble\\5db\n",
      "saving dir .\\features\\train\\babble\\5db\n",
      "saving dir .\\features\\train\\babble\\5db\n",
      "saving dir .\\features\\train\\babble\\5db\n",
      "saving dir .\\features\\train\\babble\\5db\n"
     ]
    },
    {
     "name": "stderr",
     "output_type": "stream",
     "text": [
      "\r",
      "Converting train audios:   5%|██▉                                                  | 253/4620 [00:02<00:37, 115.24it/s]"
     ]
    },
    {
     "name": "stdout",
     "output_type": "stream",
     "text": [
      "saving dir .\\features\\train\\babble\\5db\n",
      "saving dir .\\features\\train\\babble\\5db\n",
      "saving dir .\\features\\train\\babble\\5db\n",
      "saving dir .\\features\\train\\babble\\5db\n",
      "saving dir .\\features\\train\\babble\\5db\n",
      "saving dir .\\features\\train\\babble\\5db\n",
      "saving dir .\\features\\train\\babble\\5db\n",
      "saving dir .\\features\\train\\babble\\5db\n",
      "saving dir .\\features\\train\\babble\\5db\n",
      "saving dir .\\features\\train\\babble\\5db\n",
      "saving dir .\\features\\train\\babble\\5db\n",
      "saving dir .\\features\\train\\babble\\5db\n",
      "saving dir .\\features\\train\\babble\\5db\n"
     ]
    },
    {
     "name": "stderr",
     "output_type": "stream",
     "text": [
      "\r",
      "Converting train audios:   6%|███                                                  | 266/4620 [00:02<00:37, 117.45it/s]"
     ]
    },
    {
     "name": "stdout",
     "output_type": "stream",
     "text": [
      "saving dir .\\features\\train\\babble\\5db\n",
      "saving dir .\\features\\train\\babble\\5db\n",
      "saving dir .\\features\\train\\babble\\5db\n",
      "saving dir .\\features\\train\\babble\\5db\n",
      "saving dir .\\features\\train\\babble\\5db\n",
      "saving dir .\\features\\train\\babble\\5db\n",
      "saving dir .\\features\\train\\babble\\5db\n",
      "saving dir .\\features\\train\\babble\\5db\n",
      "saving dir .\\features\\train\\babble\\5db\n",
      "saving dir .\\features\\train\\babble\\5db\n",
      "saving dir .\\features\\train\\babble\\5db\n",
      "saving dir .\\features\\train\\babble\\5db\n",
      "saving dir .\\features\\train\\babble\\5db\n"
     ]
    },
    {
     "name": "stderr",
     "output_type": "stream",
     "text": [
      "\r",
      "Converting train audios:   6%|███▏                                                 | 279/4620 [00:02<00:36, 119.71it/s]"
     ]
    },
    {
     "name": "stdout",
     "output_type": "stream",
     "text": [
      "saving dir .\\features\\train\\babble\\5db\n",
      "saving dir .\\features\\train\\babble\\5db\n",
      "saving dir .\\features\\train\\babble\\5db\n",
      "saving dir .\\features\\train\\babble\\5db\n",
      "saving dir .\\features\\train\\babble\\5db\n",
      "saving dir .\\features\\train\\babble\\5db\n",
      "saving dir .\\features\\train\\babble\\5db\n",
      "saving dir .\\features\\train\\babble\\5db\n",
      "saving dir .\\features\\train\\babble\\5db\n",
      "saving dir .\\features\\train\\babble\\5db\n",
      "saving dir .\\features\\train\\babble\\5db\n",
      "saving dir .\\features\\train\\babble\\5db\n",
      "saving dir .\\features\\train\\babble\\5db\n"
     ]
    },
    {
     "name": "stderr",
     "output_type": "stream",
     "text": [
      "\r",
      "Converting train audios:   6%|███▎                                                 | 292/4620 [00:02<00:37, 114.92it/s]"
     ]
    },
    {
     "name": "stdout",
     "output_type": "stream",
     "text": [
      "saving dir .\\features\\train\\babble\\5db\n",
      "saving dir .\\features\\train\\babble\\5db\n",
      "saving dir .\\features\\train\\babble\\5db\n",
      "saving dir .\\features\\train\\babble\\5db\n",
      "saving dir .\\features\\train\\babble\\5db\n",
      "saving dir .\\features\\train\\babble\\5db\n",
      "saving dir .\\features\\train\\babble\\5db\n",
      "saving dir .\\features\\train\\babble\\5db\n",
      "saving dir .\\features\\train\\babble\\5db\n",
      "saving dir .\\features\\train\\babble\\5db\n",
      "saving dir .\\features\\train\\babble\\5db\n",
      "saving dir .\\features\\train\\babble\\5db\n"
     ]
    },
    {
     "name": "stderr",
     "output_type": "stream",
     "text": [
      "\r",
      "Converting train audios:   7%|███▍                                                 | 304/4620 [00:02<00:37, 114.82it/s]"
     ]
    },
    {
     "name": "stdout",
     "output_type": "stream",
     "text": [
      "saving dir .\\features\\train\\babble\\5db\n",
      "saving dir .\\features\\train\\babble\\5db\n",
      "saving dir .\\features\\train\\babble\\5db\n",
      "saving dir .\\features\\train\\babble\\5db\n",
      "saving dir .\\features\\train\\babble\\5db\n",
      "saving dir .\\features\\train\\babble\\5db\n",
      "saving dir .\\features\\train\\babble\\5db\n",
      "saving dir .\\features\\train\\babble\\5db\n",
      "saving dir .\\features\\train\\babble\\5db\n",
      "saving dir .\\features\\train\\babble\\5db\n",
      "saving dir .\\features\\train\\babble\\5db\n",
      "saving dir .\\features\\train\\babble\\5db\n"
     ]
    },
    {
     "name": "stderr",
     "output_type": "stream",
     "text": [
      "\r",
      "Converting train audios:   7%|███▋                                                 | 316/4620 [00:02<00:38, 111.57it/s]"
     ]
    },
    {
     "name": "stdout",
     "output_type": "stream",
     "text": [
      "saving dir .\\features\\train\\babble\\5db\n",
      "saving dir .\\features\\train\\babble\\5db\n",
      "saving dir .\\features\\train\\babble\\5db\n",
      "saving dir .\\features\\train\\babble\\5db\n",
      "saving dir .\\features\\train\\babble\\5db\n",
      "saving dir .\\features\\train\\babble\\5db\n",
      "saving dir .\\features\\train\\babble\\5db\n",
      "saving dir .\\features\\train\\babble\\5db\n",
      "saving dir .\\features\\train\\babble\\5db\n",
      "saving dir .\\features\\train\\babble\\5db\n",
      "saving dir .\\features\\train\\babble\\5db\n",
      "saving dir .\\features\\train\\babble\\5db\n"
     ]
    },
    {
     "name": "stderr",
     "output_type": "stream",
     "text": [
      "\r",
      "Converting train audios:   7%|███▊                                                 | 328/4620 [00:03<00:37, 113.72it/s]"
     ]
    },
    {
     "name": "stdout",
     "output_type": "stream",
     "text": [
      "saving dir .\\features\\train\\babble\\5db\n",
      "saving dir .\\features\\train\\babble\\5db\n",
      "saving dir .\\features\\train\\babble\\5db\n",
      "saving dir .\\features\\train\\babble\\5db\n",
      "saving dir .\\features\\train\\babble\\5db\n",
      "saving dir .\\features\\train\\babble\\5db\n",
      "saving dir .\\features\\train\\babble\\5db\n",
      "saving dir .\\features\\train\\babble\\5db\n",
      "saving dir .\\features\\train\\babble\\5db\n",
      "saving dir .\\features\\train\\babble\\5db\n",
      "saving dir .\\features\\train\\babble\\5db\n",
      "saving dir .\\features\\train\\babble\\5db\n"
     ]
    },
    {
     "name": "stderr",
     "output_type": "stream",
     "text": [
      "\r",
      "Converting train audios:   7%|███▉                                                 | 340/4620 [00:03<00:38, 109.93it/s]"
     ]
    },
    {
     "name": "stdout",
     "output_type": "stream",
     "text": [
      "saving dir .\\features\\train\\babble\\5db\n",
      "saving dir .\\features\\train\\babble\\5db\n",
      "saving dir .\\features\\train\\babble\\5db\n",
      "saving dir .\\features\\train\\babble\\5db\n",
      "saving dir .\\features\\train\\babble\\5db\n",
      "saving dir .\\features\\train\\babble\\5db\n",
      "saving dir .\\features\\train\\babble\\5db\n",
      "saving dir .\\features\\train\\babble\\5db\n",
      "saving dir .\\features\\train\\babble\\5db\n",
      "saving dir .\\features\\train\\babble\\5db\n",
      "saving dir .\\features\\train\\babble\\5db\n",
      "saving dir .\\features\\train\\babble\\5db\n"
     ]
    },
    {
     "name": "stderr",
     "output_type": "stream",
     "text": [
      "\r",
      "Converting train audios:   8%|████                                                 | 352/4620 [00:03<00:39, 107.99it/s]"
     ]
    },
    {
     "name": "stdout",
     "output_type": "stream",
     "text": [
      "saving dir .\\features\\train\\babble\\5db\n",
      "saving dir .\\features\\train\\babble\\5db\n",
      "saving dir .\\features\\train\\babble\\5db\n",
      "saving dir .\\features\\train\\babble\\5db\n",
      "saving dir .\\features\\train\\babble\\5db\n",
      "saving dir .\\features\\train\\babble\\5db\n",
      "saving dir .\\features\\train\\babble\\5db\n",
      "saving dir .\\features\\train\\babble\\5db\n",
      "saving dir .\\features\\train\\babble\\5db\n",
      "saving dir .\\features\\train\\babble\\5db\n",
      "saving dir .\\features\\train\\babble\\5db\n"
     ]
    },
    {
     "name": "stderr",
     "output_type": "stream",
     "text": [
      "\r",
      "Converting train audios:   8%|████▏                                                | 363/4620 [00:03<00:40, 105.85it/s]"
     ]
    },
    {
     "name": "stdout",
     "output_type": "stream",
     "text": [
      "saving dir .\\features\\train\\babble\\5db\n",
      "saving dir .\\features\\train\\babble\\5db\n",
      "saving dir .\\features\\train\\babble\\5db\n",
      "saving dir .\\features\\train\\babble\\5db\n",
      "saving dir .\\features\\train\\babble\\5db\n",
      "saving dir .\\features\\train\\babble\\5db\n",
      "saving dir .\\features\\train\\babble\\5db\n",
      "saving dir .\\features\\train\\babble\\5db\n",
      "saving dir .\\features\\train\\babble\\5db\n",
      "saving dir .\\features\\train\\babble\\5db\n",
      "saving dir .\\features\\train\\babble\\5db\n",
      "saving dir .\\features\\train\\babble\\5db\n"
     ]
    },
    {
     "name": "stderr",
     "output_type": "stream",
     "text": [
      "\r",
      "Converting train audios:   8%|████▎                                                | 375/4620 [00:03<00:38, 108.92it/s]"
     ]
    },
    {
     "name": "stdout",
     "output_type": "stream",
     "text": [
      "saving dir .\\features\\train\\babble\\5db\n",
      "saving dir .\\features\\train\\babble\\5db\n",
      "saving dir .\\features\\train\\babble\\5db\n",
      "saving dir .\\features\\train\\babble\\5db\n",
      "saving dir .\\features\\train\\babble\\5db\n",
      "saving dir .\\features\\train\\babble\\5db\n",
      "saving dir .\\features\\train\\babble\\5db\n",
      "saving dir .\\features\\train\\babble\\5db\n",
      "saving dir .\\features\\train\\babble\\5db\n",
      "saving dir .\\features\\train\\babble\\5db\n",
      "saving dir .\\features\\train\\babble\\5db\n"
     ]
    },
    {
     "name": "stderr",
     "output_type": "stream",
     "text": [
      "\r",
      "Converting train audios:   8%|████▍                                                | 386/4620 [00:03<00:39, 108.05it/s]"
     ]
    },
    {
     "name": "stdout",
     "output_type": "stream",
     "text": [
      "saving dir .\\features\\train\\babble\\5db\n",
      "saving dir .\\features\\train\\babble\\5db\n",
      "saving dir .\\features\\train\\babble\\5db\n",
      "saving dir .\\features\\train\\babble\\5db\n",
      "saving dir .\\features\\train\\babble\\5db\n",
      "saving dir .\\features\\train\\babble\\5db\n",
      "saving dir .\\features\\train\\babble\\5db\n",
      "saving dir .\\features\\train\\babble\\5db\n",
      "saving dir .\\features\\train\\babble\\5db\n",
      "saving dir .\\features\\train\\babble\\5db\n",
      "saving dir .\\features\\train\\babble\\5db\n",
      "saving dir .\\features\\train\\babble\\5db\n"
     ]
    },
    {
     "name": "stderr",
     "output_type": "stream",
     "text": [
      "\r",
      "Converting train audios:   9%|████▌                                                | 398/4620 [00:03<00:38, 109.32it/s]"
     ]
    },
    {
     "name": "stdout",
     "output_type": "stream",
     "text": [
      "saving dir .\\features\\train\\babble\\5db\n",
      "saving dir .\\features\\train\\babble\\5db\n",
      "saving dir .\\features\\train\\babble\\5db\n",
      "saving dir .\\features\\train\\babble\\5db\n",
      "saving dir .\\features\\train\\babble\\5db\n",
      "saving dir .\\features\\train\\babble\\5db\n",
      "saving dir .\\features\\train\\babble\\5db\n",
      "saving dir .\\features\\train\\babble\\5db\n",
      "saving dir .\\features\\train\\babble\\5db\n",
      "saving dir .\\features\\train\\babble\\5db\n",
      "saving dir .\\features\\train\\babble\\5db\n",
      "saving dir .\\features\\train\\babble\\5db\n"
     ]
    },
    {
     "name": "stderr",
     "output_type": "stream",
     "text": [
      "\r",
      "Converting train audios:   9%|████▋                                                | 410/4620 [00:03<00:37, 111.79it/s]"
     ]
    },
    {
     "name": "stdout",
     "output_type": "stream",
     "text": [
      "saving dir .\\features\\train\\babble\\5db\n",
      "saving dir .\\features\\train\\babble\\5db\n",
      "saving dir .\\features\\train\\babble\\5db\n",
      "saving dir .\\features\\train\\babble\\5db\n",
      "saving dir .\\features\\train\\babble\\5db\n",
      "saving dir .\\features\\train\\babble\\5db\n",
      "saving dir .\\features\\train\\babble\\5db\n",
      "saving dir .\\features\\train\\babble\\5db\n",
      "saving dir .\\features\\train\\babble\\5db\n",
      "saving dir .\\features\\train\\babble\\5db\n",
      "saving dir .\\features\\train\\babble\\5db\n",
      "saving dir .\\features\\train\\babble\\5db\n"
     ]
    },
    {
     "name": "stderr",
     "output_type": "stream",
     "text": [
      "\r",
      "Converting train audios:   9%|████▊                                                | 422/4620 [00:03<00:38, 109.54it/s]"
     ]
    },
    {
     "name": "stdout",
     "output_type": "stream",
     "text": [
      "saving dir .\\features\\train\\babble\\5db\n",
      "saving dir .\\features\\train\\babble\\5db\n",
      "saving dir .\\features\\train\\babble\\5db\n",
      "saving dir .\\features\\train\\babble\\5db\n",
      "saving dir .\\features\\train\\babble\\5db\n",
      "saving dir .\\features\\train\\babble\\5db\n",
      "saving dir .\\features\\train\\babble\\5db\n",
      "saving dir .\\features\\train\\babble\\5db\n",
      "saving dir .\\features\\train\\babble\\5db\n",
      "saving dir .\\features\\train\\babble\\5db\n",
      "saving dir .\\features\\train\\babble\\5db\n"
     ]
    },
    {
     "name": "stderr",
     "output_type": "stream",
     "text": [
      "\r",
      "Converting train audios:   9%|████▉                                                | 433/4620 [00:03<00:38, 109.44it/s]"
     ]
    },
    {
     "name": "stdout",
     "output_type": "stream",
     "text": [
      "saving dir .\\features\\train\\babble\\5db\n",
      "saving dir .\\features\\train\\babble\\5db\n",
      "saving dir .\\features\\train\\babble\\5db\n",
      "saving dir .\\features\\train\\babble\\5db\n",
      "saving dir .\\features\\train\\babble\\5db\n",
      "saving dir .\\features\\train\\babble\\5db\n",
      "saving dir .\\features\\train\\babble\\5db\n",
      "saving dir .\\features\\train\\babble\\5db\n",
      "saving dir .\\features\\train\\babble\\5db\n",
      "saving dir .\\features\\train\\babble\\5db\n",
      "saving dir .\\features\\train\\babble\\5db\n",
      "saving dir .\\features\\train\\babble\\5db\n"
     ]
    },
    {
     "name": "stderr",
     "output_type": "stream",
     "text": [
      "\r",
      "Converting train audios:  10%|█████                                                | 445/4620 [00:04<00:37, 111.54it/s]"
     ]
    },
    {
     "name": "stdout",
     "output_type": "stream",
     "text": [
      "saving dir .\\features\\train\\babble\\5db\n",
      "saving dir .\\features\\train\\babble\\5db\n",
      "saving dir .\\features\\train\\babble\\5db\n",
      "saving dir .\\features\\train\\babble\\5db\n",
      "saving dir .\\features\\train\\babble\\5db\n",
      "saving dir .\\features\\train\\babble\\5db\n",
      "saving dir .\\features\\train\\babble\\5db\n",
      "saving dir .\\features\\train\\babble\\5db\n",
      "saving dir .\\features\\train\\babble\\5db\n",
      "saving dir .\\features\\train\\babble\\5db\n",
      "saving dir .\\features\\train\\babble\\5db\n",
      "saving dir .\\features\\train\\babble\\5db\n"
     ]
    },
    {
     "name": "stderr",
     "output_type": "stream",
     "text": [
      "\r",
      "Converting train audios:  10%|█████▏                                               | 457/4620 [00:04<00:40, 102.40it/s]"
     ]
    },
    {
     "name": "stdout",
     "output_type": "stream",
     "text": [
      "saving dir .\\features\\train\\babble\\5db\n",
      "saving dir .\\features\\train\\babble\\5db\n",
      "saving dir .\\features\\train\\babble\\5db\n",
      "saving dir .\\features\\train\\babble\\5db\n",
      "saving dir .\\features\\train\\babble\\5db\n",
      "saving dir .\\features\\train\\babble\\5db\n",
      "saving dir .\\features\\train\\babble\\5db\n",
      "saving dir .\\features\\train\\babble\\5db\n",
      "saving dir .\\features\\train\\babble\\5db\n",
      "saving dir .\\features\\train\\babble\\5db\n",
      "saving dir .\\features\\train\\babble\\5db\n",
      "saving dir .\\features\\train\\babble\\5db\n",
      "saving dir .\\features\\train\\babble\\5db\n"
     ]
    },
    {
     "name": "stderr",
     "output_type": "stream",
     "text": [
      "\r",
      "Converting train audios:  10%|█████▍                                               | 470/4620 [00:04<00:38, 108.35it/s]"
     ]
    },
    {
     "name": "stdout",
     "output_type": "stream",
     "text": [
      "saving dir .\\features\\train\\babble\\5db\n",
      "saving dir .\\features\\train\\babble\\5db\n",
      "saving dir .\\features\\train\\babble\\5db\n",
      "saving dir .\\features\\train\\babble\\5db\n",
      "saving dir .\\features\\train\\babble\\5db\n",
      "saving dir .\\features\\train\\babble\\5db\n",
      "saving dir .\\features\\train\\babble\\5db\n",
      "saving dir .\\features\\train\\babble\\5db\n",
      "saving dir .\\features\\train\\babble\\5db\n",
      "saving dir .\\features\\train\\babble\\5db\n",
      "saving dir .\\features\\train\\babble\\5db\n",
      "saving dir .\\features\\train\\babble\\5db\n"
     ]
    },
    {
     "name": "stderr",
     "output_type": "stream",
     "text": [
      "\r",
      "Converting train audios:  10%|█████▌                                               | 482/4620 [00:04<00:38, 108.07it/s]"
     ]
    },
    {
     "name": "stdout",
     "output_type": "stream",
     "text": [
      "saving dir .\\features\\train\\babble\\5db\n",
      "saving dir .\\features\\train\\babble\\5db\n",
      "saving dir .\\features\\train\\babble\\5db\n",
      "saving dir .\\features\\train\\babble\\5db\n",
      "saving dir .\\features\\train\\babble\\5db\n",
      "saving dir .\\features\\train\\babble\\5db\n",
      "saving dir .\\features\\train\\babble\\5db\n",
      "saving dir .\\features\\train\\babble\\5db\n",
      "saving dir .\\features\\train\\babble\\5db\n",
      "saving dir .\\features\\train\\babble\\5db\n",
      "saving dir .\\features\\train\\babble\\5db\n"
     ]
    },
    {
     "name": "stderr",
     "output_type": "stream",
     "text": [
      "\r",
      "Converting train audios:  11%|█████▊                                                | 493/4620 [00:04<00:55, 74.25it/s]"
     ]
    },
    {
     "name": "stdout",
     "output_type": "stream",
     "text": [
      "saving dir .\\features\\train\\babble\\5db\n",
      "saving dir .\\features\\train\\babble\\5db\n",
      "saving dir .\\features\\train\\babble\\5db\n",
      "saving dir .\\features\\train\\babble\\5db\n",
      "saving dir .\\features\\train\\babble\\5db\n",
      "saving dir .\\features\\train\\babble\\5db\n",
      "saving dir .\\features\\train\\babble\\5db\n",
      "saving dir .\\features\\train\\babble\\5db\n",
      "saving dir .\\features\\train\\babble\\5db\n",
      "saving dir .\\features\\train\\babble\\5db\n",
      "saving dir .\\features\\train\\babble\\5db\n",
      "saving dir .\\features\\train\\babble\\5db\n"
     ]
    },
    {
     "name": "stderr",
     "output_type": "stream",
     "text": [
      "\r",
      "Converting train audios:  11%|█████▉                                                | 505/4620 [00:04<00:49, 82.51it/s]"
     ]
    },
    {
     "name": "stdout",
     "output_type": "stream",
     "text": [
      "saving dir .\\features\\train\\babble\\5db\n",
      "saving dir .\\features\\train\\babble\\5db\n",
      "saving dir .\\features\\train\\babble\\5db\n",
      "saving dir .\\features\\train\\babble\\5db\n",
      "saving dir .\\features\\train\\babble\\5db\n",
      "saving dir .\\features\\train\\babble\\5db\n",
      "saving dir .\\features\\train\\babble\\5db\n",
      "saving dir .\\features\\train\\babble\\5db\n",
      "saving dir .\\features\\train\\babble\\5db\n",
      "saving dir .\\features\\train\\babble\\5db\n",
      "saving dir .\\features\\train\\babble\\5db\n",
      "saving dir .\\features\\train\\babble\\5db\n",
      "saving dir .\\features\\train\\babble\\5db\n"
     ]
    },
    {
     "name": "stderr",
     "output_type": "stream",
     "text": [
      "\r",
      "Converting train audios:  11%|██████                                                | 518/4620 [00:04<00:44, 92.52it/s]"
     ]
    },
    {
     "name": "stdout",
     "output_type": "stream",
     "text": [
      "saving dir .\\features\\train\\babble\\5db\n",
      "saving dir .\\features\\train\\babble\\5db\n",
      "saving dir .\\features\\train\\babble\\5db\n",
      "saving dir .\\features\\train\\babble\\5db\n",
      "saving dir .\\features\\train\\babble\\5db\n",
      "saving dir .\\features\\train\\babble\\5db\n",
      "saving dir .\\features\\train\\babble\\5db\n",
      "saving dir .\\features\\train\\babble\\5db\n",
      "saving dir .\\features\\train\\babble\\5db\n",
      "saving dir .\\features\\train\\babble\\5db\n",
      "saving dir .\\features\\train\\babble\\5db\n"
     ]
    },
    {
     "name": "stderr",
     "output_type": "stream",
     "text": [
      "\r",
      "Converting train audios:  11%|██████▏                                               | 529/4620 [00:05<00:42, 96.96it/s]"
     ]
    },
    {
     "name": "stdout",
     "output_type": "stream",
     "text": [
      "saving dir .\\features\\train\\babble\\5db\n",
      "saving dir .\\features\\train\\babble\\5db\n",
      "saving dir .\\features\\train\\babble\\5db\n",
      "saving dir .\\features\\train\\babble\\5db\n",
      "saving dir .\\features\\train\\babble\\5db\n",
      "saving dir .\\features\\train\\babble\\5db\n",
      "saving dir .\\features\\train\\babble\\5db\n",
      "saving dir .\\features\\train\\babble\\5db\n",
      "saving dir .\\features\\train\\babble\\5db\n",
      "saving dir .\\features\\train\\babble\\5db\n",
      "saving dir .\\features\\train\\babble\\5db\n",
      "saving dir .\\features\\train\\babble\\5db\n"
     ]
    },
    {
     "name": "stderr",
     "output_type": "stream",
     "text": [
      "\r",
      "Converting train audios:  12%|██████▏                                              | 541/4620 [00:05<00:39, 102.44it/s]"
     ]
    },
    {
     "name": "stdout",
     "output_type": "stream",
     "text": [
      "saving dir .\\features\\train\\babble\\5db\n",
      "saving dir .\\features\\train\\babble\\5db\n",
      "saving dir .\\features\\train\\babble\\5db\n",
      "saving dir .\\features\\train\\babble\\5db\n",
      "saving dir .\\features\\train\\babble\\5db\n",
      "saving dir .\\features\\train\\babble\\5db\n",
      "saving dir .\\features\\train\\babble\\5db\n",
      "saving dir .\\features\\train\\babble\\5db\n",
      "saving dir .\\features\\train\\babble\\5db\n",
      "saving dir .\\features\\train\\babble\\5db\n",
      "saving dir .\\features\\train\\babble\\5db\n",
      "saving dir .\\features\\train\\babble\\5db\n"
     ]
    },
    {
     "name": "stderr",
     "output_type": "stream",
     "text": [
      "\r",
      "Converting train audios:  12%|██████▍                                               | 553/4620 [00:05<00:50, 81.01it/s]"
     ]
    },
    {
     "name": "stdout",
     "output_type": "stream",
     "text": [
      "saving dir .\\features\\train\\babble\\5db\n",
      "saving dir .\\features\\train\\babble\\5db\n",
      "saving dir .\\features\\train\\babble\\5db\n",
      "saving dir .\\features\\train\\babble\\5db\n",
      "saving dir .\\features\\train\\babble\\5db\n",
      "saving dir .\\features\\train\\babble\\5db\n",
      "saving dir .\\features\\train\\babble\\5db\n",
      "saving dir .\\features\\train\\babble\\5db\n",
      "saving dir .\\features\\train\\babble\\5db\n",
      "saving dir .\\features\\train\\babble\\5db\n",
      "saving dir .\\features\\train\\babble\\5db\n",
      "saving dir .\\features\\train\\babble\\5db\n",
      "saving dir .\\features\\train\\babble\\5db\n"
     ]
    },
    {
     "name": "stderr",
     "output_type": "stream",
     "text": [
      "\r",
      "Converting train audios:  12%|██████▌                                               | 566/4620 [00:05<00:45, 89.69it/s]"
     ]
    },
    {
     "name": "stdout",
     "output_type": "stream",
     "text": [
      "saving dir .\\features\\train\\babble\\5db\n",
      "saving dir .\\features\\train\\babble\\5db\n",
      "saving dir .\\features\\train\\babble\\5db\n",
      "saving dir .\\features\\train\\babble\\5db\n",
      "saving dir .\\features\\train\\babble\\5db\n",
      "saving dir .\\features\\train\\babble\\5db\n",
      "saving dir .\\features\\train\\babble\\5db\n",
      "saving dir .\\features\\train\\babble\\5db\n",
      "saving dir .\\features\\train\\babble\\5db\n",
      "saving dir .\\features\\train\\babble\\5db\n",
      "saving dir .\\features\\train\\babble\\5db\n"
     ]
    },
    {
     "name": "stderr",
     "output_type": "stream",
     "text": [
      "\r",
      "Converting train audios:  12%|██████▋                                               | 577/4620 [00:05<01:03, 63.95it/s]"
     ]
    },
    {
     "name": "stdout",
     "output_type": "stream",
     "text": [
      "saving dir .\\features\\train\\babble\\5db\n",
      "saving dir .\\features\\train\\babble\\5db\n",
      "saving dir .\\features\\train\\babble\\5db\n",
      "saving dir .\\features\\train\\babble\\5db\n",
      "saving dir .\\features\\train\\babble\\5db\n",
      "saving dir .\\features\\train\\babble\\5db\n",
      "saving dir .\\features\\train\\babble\\5db\n",
      "saving dir .\\features\\train\\babble\\5db\n",
      "saving dir .\\features\\train\\babble\\5db\n",
      "saving dir .\\features\\train\\babble\\5db\n",
      "saving dir .\\features\\train\\babble\\5db\n",
      "saving dir .\\features\\train\\babble\\5db\n"
     ]
    },
    {
     "name": "stderr",
     "output_type": "stream",
     "text": [
      "\r",
      "Converting train audios:  13%|██████▉                                               | 589/4620 [00:05<00:54, 73.32it/s]"
     ]
    },
    {
     "name": "stdout",
     "output_type": "stream",
     "text": [
      "saving dir .\\features\\train\\babble\\5db\n",
      "saving dir .\\features\\train\\babble\\5db\n",
      "saving dir .\\features\\train\\babble\\5db\n",
      "saving dir .\\features\\train\\babble\\5db\n",
      "saving dir .\\features\\train\\babble\\5db\n",
      "saving dir .\\features\\train\\babble\\5db\n",
      "saving dir .\\features\\train\\babble\\5db\n",
      "saving dir .\\features\\train\\babble\\5db\n",
      "saving dir .\\features\\train\\babble\\5db\n",
      "saving dir .\\features\\train\\babble\\5db\n",
      "saving dir .\\features\\train\\babble\\5db\n",
      "saving dir .\\features\\train\\babble\\5db\n"
     ]
    },
    {
     "name": "stderr",
     "output_type": "stream",
     "text": [
      "\r",
      "Converting train audios:  13%|███████                                               | 601/4620 [00:05<00:48, 82.70it/s]"
     ]
    },
    {
     "name": "stdout",
     "output_type": "stream",
     "text": [
      "saving dir .\\features\\train\\babble\\5db\n",
      "saving dir .\\features\\train\\babble\\5db\n",
      "saving dir .\\features\\train\\babble\\5db\n",
      "saving dir .\\features\\train\\babble\\5db\n",
      "saving dir .\\features\\train\\babble\\5db\n",
      "saving dir .\\features\\train\\babble\\5db\n",
      "saving dir .\\features\\train\\babble\\5db\n",
      "saving dir .\\features\\train\\babble\\5db\n",
      "saving dir .\\features\\train\\babble\\5db\n",
      "saving dir .\\features\\train\\babble\\5db\n"
     ]
    },
    {
     "name": "stderr",
     "output_type": "stream",
     "text": [
      "\r",
      "Converting train audios:  13%|███████▏                                              | 611/4620 [00:06<00:46, 85.51it/s]"
     ]
    },
    {
     "name": "stdout",
     "output_type": "stream",
     "text": [
      "saving dir .\\features\\train\\babble\\5db\n",
      "saving dir .\\features\\train\\babble\\5db\n",
      "saving dir .\\features\\train\\babble\\5db\n",
      "saving dir .\\features\\train\\babble\\5db\n",
      "saving dir .\\features\\train\\babble\\5db\n",
      "saving dir .\\features\\train\\babble\\5db\n",
      "saving dir .\\features\\train\\babble\\5db\n",
      "saving dir .\\features\\train\\babble\\5db\n",
      "saving dir .\\features\\train\\babble\\5db\n",
      "saving dir .\\features\\train\\babble\\5db\n"
     ]
    },
    {
     "name": "stderr",
     "output_type": "stream",
     "text": [
      "\r",
      "Converting train audios:  13%|███████▎                                              | 621/4620 [00:06<00:49, 80.80it/s]"
     ]
    },
    {
     "name": "stdout",
     "output_type": "stream",
     "text": [
      "saving dir .\\features\\train\\babble\\5db\n",
      "saving dir .\\features\\train\\babble\\5db\n",
      "saving dir .\\features\\train\\babble\\5db\n",
      "saving dir .\\features\\train\\babble\\5db\n",
      "saving dir .\\features\\train\\babble\\5db\n",
      "saving dir .\\features\\train\\babble\\5db\n",
      "saving dir .\\features\\train\\babble\\5db\n",
      "saving dir .\\features\\train\\babble\\5db\n",
      "saving dir .\\features\\train\\babble\\5db\n",
      "saving dir .\\features\\train\\babble\\5db\n",
      "saving dir .\\features\\train\\babble\\5db\n",
      "saving dir .\\features\\train\\babble\\5db\n",
      "saving dir .\\features\\train\\babble\\5db\n"
     ]
    },
    {
     "name": "stderr",
     "output_type": "stream",
     "text": [
      "\r",
      "Converting train audios:  14%|███████▍                                              | 634/4620 [00:06<00:44, 89.70it/s]"
     ]
    },
    {
     "name": "stdout",
     "output_type": "stream",
     "text": [
      "saving dir .\\features\\train\\babble\\5db\n",
      "saving dir .\\features\\train\\babble\\5db\n",
      "saving dir .\\features\\train\\babble\\5db\n",
      "saving dir .\\features\\train\\babble\\5db\n",
      "saving dir .\\features\\train\\babble\\5db\n",
      "saving dir .\\features\\train\\babble\\5db\n",
      "saving dir .\\features\\train\\babble\\5db\n",
      "saving dir .\\features\\train\\babble\\5db\n",
      "saving dir .\\features\\train\\babble\\5db\n",
      "saving dir .\\features\\train\\babble\\5db\n",
      "saving dir .\\features\\train\\babble\\5db\n"
     ]
    },
    {
     "name": "stderr",
     "output_type": "stream",
     "text": [
      "\r",
      "Converting train audios:  14%|███████▌                                              | 645/4620 [00:06<00:42, 93.34it/s]"
     ]
    },
    {
     "name": "stdout",
     "output_type": "stream",
     "text": [
      "saving dir .\\features\\train\\babble\\5db\n",
      "saving dir .\\features\\train\\babble\\5db\n",
      "saving dir .\\features\\train\\babble\\5db\n",
      "saving dir .\\features\\train\\babble\\5db\n",
      "saving dir .\\features\\train\\babble\\5db\n",
      "saving dir .\\features\\train\\babble\\5db\n",
      "saving dir .\\features\\train\\babble\\5db\n",
      "saving dir .\\features\\train\\babble\\5db\n",
      "saving dir .\\features\\train\\babble\\5db\n",
      "saving dir .\\features\\train\\babble\\5db\n",
      "saving dir .\\features\\train\\babble\\5db\n",
      "saving dir .\\features\\train\\babble\\5db\n"
     ]
    },
    {
     "name": "stderr",
     "output_type": "stream",
     "text": [
      "\r",
      "Converting train audios:  14%|███████▋                                              | 657/4620 [00:06<00:39, 99.82it/s]"
     ]
    },
    {
     "name": "stdout",
     "output_type": "stream",
     "text": [
      "saving dir .\\features\\train\\babble\\5db\n",
      "saving dir .\\features\\train\\babble\\5db\n",
      "saving dir .\\features\\train\\babble\\5db\n",
      "saving dir .\\features\\train\\babble\\5db\n",
      "saving dir .\\features\\train\\babble\\5db\n",
      "saving dir .\\features\\train\\babble\\5db\n",
      "saving dir .\\features\\train\\babble\\5db\n",
      "saving dir .\\features\\train\\babble\\5db\n",
      "saving dir .\\features\\train\\babble\\5db\n",
      "saving dir .\\features\\train\\babble\\5db\n",
      "saving dir .\\features\\train\\babble\\5db\n",
      "saving dir .\\features\\train\\babble\\5db\n"
     ]
    },
    {
     "name": "stderr",
     "output_type": "stream",
     "text": [
      "\r",
      "Converting train audios:  14%|███████▋                                             | 669/4620 [00:06<00:37, 104.92it/s]"
     ]
    },
    {
     "name": "stdout",
     "output_type": "stream",
     "text": [
      "saving dir .\\features\\train\\babble\\5db\n",
      "saving dir .\\features\\train\\babble\\5db\n",
      "saving dir .\\features\\train\\babble\\5db\n",
      "saving dir .\\features\\train\\babble\\5db\n",
      "saving dir .\\features\\train\\babble\\5db\n",
      "saving dir .\\features\\train\\babble\\5db\n",
      "saving dir .\\features\\train\\babble\\5db\n",
      "saving dir .\\features\\train\\babble\\5db\n",
      "saving dir .\\features\\train\\babble\\5db\n",
      "saving dir .\\features\\train\\babble\\5db\n",
      "saving dir .\\features\\train\\babble\\5db\n",
      "saving dir .\\features\\train\\babble\\5db\n"
     ]
    },
    {
     "name": "stderr",
     "output_type": "stream",
     "text": [
      "\r",
      "Converting train audios:  15%|███████▊                                             | 681/4620 [00:06<00:36, 108.51it/s]"
     ]
    },
    {
     "name": "stdout",
     "output_type": "stream",
     "text": [
      "saving dir .\\features\\train\\babble\\5db\n",
      "saving dir .\\features\\train\\babble\\5db\n",
      "saving dir .\\features\\train\\babble\\5db\n",
      "saving dir .\\features\\train\\babble\\5db\n",
      "saving dir .\\features\\train\\babble\\5db\n",
      "saving dir .\\features\\train\\babble\\5db\n",
      "saving dir .\\features\\train\\babble\\5db\n",
      "saving dir .\\features\\train\\babble\\5db\n",
      "saving dir .\\features\\train\\babble\\5db\n",
      "saving dir .\\features\\train\\babble\\5db\n",
      "saving dir .\\features\\train\\babble\\5db\n",
      "saving dir .\\features\\train\\babble\\5db\n",
      "saving dir .\\features\\train\\babble\\5db\n"
     ]
    },
    {
     "name": "stderr",
     "output_type": "stream",
     "text": [
      "\r",
      "Converting train audios:  15%|███████▉                                             | 694/4620 [00:06<00:34, 113.37it/s]"
     ]
    },
    {
     "name": "stdout",
     "output_type": "stream",
     "text": [
      "saving dir .\\features\\train\\babble\\5db\n",
      "saving dir .\\features\\train\\babble\\5db\n",
      "saving dir .\\features\\train\\babble\\5db\n",
      "saving dir .\\features\\train\\babble\\5db\n",
      "saving dir .\\features\\train\\babble\\5db\n",
      "saving dir .\\features\\train\\babble\\5db\n",
      "saving dir .\\features\\train\\babble\\5db\n",
      "saving dir .\\features\\train\\babble\\5db\n",
      "saving dir .\\features\\train\\babble\\5db\n",
      "saving dir .\\features\\train\\babble\\5db\n",
      "saving dir .\\features\\train\\babble\\5db\n",
      "saving dir .\\features\\train\\babble\\5db\n",
      "saving dir .\\features\\train\\babble\\5db\n"
     ]
    },
    {
     "name": "stderr",
     "output_type": "stream",
     "text": [
      "\r",
      "Converting train audios:  15%|████████                                             | 707/4620 [00:06<00:33, 117.02it/s]"
     ]
    },
    {
     "name": "stdout",
     "output_type": "stream",
     "text": [
      "saving dir .\\features\\train\\babble\\5db\n",
      "saving dir .\\features\\train\\babble\\5db\n",
      "saving dir .\\features\\train\\babble\\5db\n",
      "saving dir .\\features\\train\\babble\\5db\n",
      "saving dir .\\features\\train\\babble\\5db\n",
      "saving dir .\\features\\train\\babble\\5db\n",
      "saving dir .\\features\\train\\babble\\5db\n",
      "saving dir .\\features\\train\\babble\\5db\n",
      "saving dir .\\features\\train\\babble\\5db\n",
      "saving dir .\\features\\train\\babble\\5db\n",
      "saving dir .\\features\\train\\babble\\5db\n",
      "saving dir .\\features\\train\\babble\\5db\n"
     ]
    },
    {
     "name": "stderr",
     "output_type": "stream",
     "text": [
      "\r",
      "Converting train audios:  16%|████████▏                                            | 719/4620 [00:07<00:33, 116.61it/s]"
     ]
    },
    {
     "name": "stdout",
     "output_type": "stream",
     "text": [
      "saving dir .\\features\\train\\babble\\5db\n",
      "saving dir .\\features\\train\\babble\\5db\n",
      "saving dir .\\features\\train\\babble\\5db\n",
      "saving dir .\\features\\train\\babble\\5db\n",
      "saving dir .\\features\\train\\babble\\5db\n",
      "saving dir .\\features\\train\\babble\\5db\n",
      "saving dir .\\features\\train\\babble\\5db\n",
      "saving dir .\\features\\train\\babble\\5db\n",
      "saving dir .\\features\\train\\babble\\5db\n",
      "saving dir .\\features\\train\\babble\\5db\n",
      "saving dir .\\features\\train\\babble\\5db\n",
      "saving dir .\\features\\train\\babble\\5db\n",
      "saving dir .\\features\\train\\babble\\5db\n"
     ]
    },
    {
     "name": "stderr",
     "output_type": "stream",
     "text": [
      "\r",
      "Converting train audios:  16%|████████▍                                            | 732/4620 [00:07<00:32, 119.11it/s]"
     ]
    },
    {
     "name": "stdout",
     "output_type": "stream",
     "text": [
      "saving dir .\\features\\train\\babble\\5db\n",
      "saving dir .\\features\\train\\babble\\5db\n",
      "saving dir .\\features\\train\\babble\\5db\n",
      "saving dir .\\features\\train\\babble\\5db\n",
      "saving dir .\\features\\train\\babble\\5db\n",
      "saving dir .\\features\\train\\babble\\5db\n",
      "saving dir .\\features\\train\\babble\\5db\n",
      "saving dir .\\features\\train\\babble\\5db\n",
      "saving dir .\\features\\train\\babble\\5db\n",
      "saving dir .\\features\\train\\babble\\5db\n",
      "saving dir .\\features\\train\\babble\\5db\n",
      "saving dir .\\features\\train\\babble\\5db\n",
      "saving dir .\\features\\train\\babble\\5db\n"
     ]
    },
    {
     "name": "stderr",
     "output_type": "stream",
     "text": [
      "\r",
      "Converting train audios:  16%|████████▌                                            | 745/4620 [00:07<00:32, 120.57it/s]"
     ]
    },
    {
     "name": "stdout",
     "output_type": "stream",
     "text": [
      "saving dir .\\features\\train\\babble\\5db\n",
      "saving dir .\\features\\train\\babble\\5db\n",
      "saving dir .\\features\\train\\babble\\5db\n",
      "saving dir .\\features\\train\\babble\\5db\n",
      "saving dir .\\features\\train\\babble\\5db\n",
      "saving dir .\\features\\train\\babble\\5db\n",
      "saving dir .\\features\\train\\babble\\5db\n",
      "saving dir .\\features\\train\\babble\\5db\n",
      "saving dir .\\features\\train\\babble\\5db\n",
      "saving dir .\\features\\train\\babble\\5db\n",
      "saving dir .\\features\\train\\babble\\5db\n",
      "saving dir .\\features\\train\\babble\\5db\n",
      "saving dir .\\features\\train\\babble\\5db\n"
     ]
    },
    {
     "name": "stderr",
     "output_type": "stream",
     "text": [
      "\r",
      "Converting train audios:  16%|████████▋                                            | 758/4620 [00:07<00:32, 119.29it/s]"
     ]
    },
    {
     "name": "stdout",
     "output_type": "stream",
     "text": [
      "saving dir .\\features\\train\\babble\\5db\n",
      "saving dir .\\features\\train\\babble\\5db\n",
      "saving dir .\\features\\train\\babble\\5db\n",
      "saving dir .\\features\\train\\babble\\5db\n",
      "saving dir .\\features\\train\\babble\\5db\n",
      "saving dir .\\features\\train\\babble\\5db\n",
      "saving dir .\\features\\train\\babble\\5db\n",
      "saving dir .\\features\\train\\babble\\5db\n",
      "saving dir .\\features\\train\\babble\\5db\n",
      "saving dir .\\features\\train\\babble\\5db\n",
      "saving dir .\\features\\train\\babble\\5db\n",
      "saving dir .\\features\\train\\babble\\5db\n",
      "saving dir .\\features\\train\\babble\\5db\n"
     ]
    },
    {
     "name": "stderr",
     "output_type": "stream",
     "text": [
      "\r",
      "Converting train audios:  17%|█████████                                             | 771/4620 [00:07<00:40, 95.08it/s]"
     ]
    },
    {
     "name": "stdout",
     "output_type": "stream",
     "text": [
      "saving dir .\\features\\train\\babble\\5db\n",
      "saving dir .\\features\\train\\babble\\5db\n",
      "saving dir .\\features\\train\\babble\\5db\n",
      "saving dir .\\features\\train\\babble\\5db\n",
      "saving dir .\\features\\train\\babble\\5db\n",
      "saving dir .\\features\\train\\babble\\5db\n",
      "saving dir .\\features\\train\\babble\\5db\n",
      "saving dir .\\features\\train\\babble\\5db\n",
      "saving dir .\\features\\train\\babble\\5db\n",
      "saving dir .\\features\\train\\babble\\5db\n",
      "saving dir .\\features\\train\\babble\\5db\n",
      "saving dir .\\features\\train\\babble\\5db\n",
      "saving dir .\\features\\train\\babble\\5db\n"
     ]
    },
    {
     "name": "stderr",
     "output_type": "stream",
     "text": [
      "\r",
      "Converting train audios:  17%|████████▉                                            | 784/4620 [00:07<00:37, 101.78it/s]"
     ]
    },
    {
     "name": "stdout",
     "output_type": "stream",
     "text": [
      "saving dir .\\features\\train\\babble\\5db\n",
      "saving dir .\\features\\train\\babble\\5db\n",
      "saving dir .\\features\\train\\babble\\5db\n",
      "saving dir .\\features\\train\\babble\\5db\n",
      "saving dir .\\features\\train\\babble\\5db\n",
      "saving dir .\\features\\train\\babble\\5db\n",
      "saving dir .\\features\\train\\babble\\5db\n",
      "saving dir .\\features\\train\\babble\\5db\n",
      "saving dir .\\features\\train\\babble\\5db\n",
      "saving dir .\\features\\train\\babble\\5db\n",
      "saving dir .\\features\\train\\babble\\5db\n",
      "saving dir .\\features\\train\\babble\\5db\n",
      "saving dir .\\features\\train\\babble\\5db\n"
     ]
    },
    {
     "name": "stderr",
     "output_type": "stream",
     "text": [
      "\r",
      "Converting train audios:  17%|█████████▏                                           | 797/4620 [00:07<00:35, 107.33it/s]"
     ]
    },
    {
     "name": "stdout",
     "output_type": "stream",
     "text": [
      "saving dir .\\features\\train\\babble\\5db\n",
      "saving dir .\\features\\train\\babble\\5db\n",
      "saving dir .\\features\\train\\babble\\5db\n",
      "saving dir .\\features\\train\\babble\\5db\n",
      "saving dir .\\features\\train\\babble\\5db\n",
      "saving dir .\\features\\train\\babble\\5db\n",
      "saving dir .\\features\\train\\babble\\5db\n",
      "saving dir .\\features\\train\\babble\\5db\n",
      "saving dir .\\features\\train\\babble\\5db\n",
      "saving dir .\\features\\train\\babble\\5db\n",
      "saving dir .\\features\\train\\babble\\5db\n",
      "saving dir .\\features\\train\\babble\\5db\n"
     ]
    },
    {
     "name": "stderr",
     "output_type": "stream",
     "text": [
      "\r",
      "Converting train audios:  18%|█████████▎                                           | 809/4620 [00:07<00:34, 109.41it/s]"
     ]
    },
    {
     "name": "stdout",
     "output_type": "stream",
     "text": [
      "saving dir .\\features\\train\\babble\\5db\n",
      "saving dir .\\features\\train\\babble\\5db\n",
      "saving dir .\\features\\train\\babble\\5db\n",
      "saving dir .\\features\\train\\babble\\5db\n",
      "saving dir .\\features\\train\\babble\\5db\n",
      "saving dir .\\features\\train\\babble\\5db\n",
      "saving dir .\\features\\train\\babble\\5db\n",
      "saving dir .\\features\\train\\babble\\5db\n",
      "saving dir .\\features\\train\\babble\\5db\n",
      "saving dir .\\features\\train\\babble\\5db\n",
      "saving dir .\\features\\train\\babble\\5db\n",
      "saving dir .\\features\\train\\babble\\5db\n"
     ]
    },
    {
     "name": "stderr",
     "output_type": "stream",
     "text": [
      "\r",
      "Converting train audios:  18%|█████████▍                                           | 821/4620 [00:07<00:33, 111.84it/s]"
     ]
    },
    {
     "name": "stdout",
     "output_type": "stream",
     "text": [
      "saving dir .\\features\\train\\babble\\5db\n",
      "saving dir .\\features\\train\\babble\\5db\n",
      "saving dir .\\features\\train\\babble\\5db\n",
      "saving dir .\\features\\train\\babble\\5db\n",
      "saving dir .\\features\\train\\babble\\5db\n",
      "saving dir .\\features\\train\\babble\\5db\n",
      "saving dir .\\features\\train\\babble\\5db\n",
      "saving dir .\\features\\train\\babble\\5db\n",
      "saving dir .\\features\\train\\babble\\5db\n",
      "saving dir .\\features\\train\\babble\\5db\n",
      "saving dir .\\features\\train\\babble\\5db\n",
      "saving dir .\\features\\train\\babble\\5db\n",
      "saving dir .\\features\\train\\babble\\5db\n"
     ]
    },
    {
     "name": "stderr",
     "output_type": "stream",
     "text": [
      "\r",
      "Converting train audios:  18%|█████████▌                                           | 834/4620 [00:08<00:32, 116.19it/s]"
     ]
    },
    {
     "name": "stdout",
     "output_type": "stream",
     "text": [
      "saving dir .\\features\\train\\babble\\5db\n",
      "saving dir .\\features\\train\\babble\\5db\n",
      "saving dir .\\features\\train\\babble\\5db\n",
      "saving dir .\\features\\train\\babble\\5db\n",
      "saving dir .\\features\\train\\babble\\5db\n",
      "saving dir .\\features\\train\\babble\\5db\n",
      "saving dir .\\features\\train\\babble\\5db\n",
      "saving dir .\\features\\train\\babble\\5db\n",
      "saving dir .\\features\\train\\babble\\5db\n",
      "saving dir .\\features\\train\\babble\\5db\n",
      "saving dir .\\features\\train\\babble\\5db\n",
      "saving dir .\\features\\train\\babble\\5db\n",
      "saving dir .\\features\\train\\babble\\5db\n"
     ]
    },
    {
     "name": "stderr",
     "output_type": "stream",
     "text": [
      "\r",
      "Converting train audios:  18%|█████████▋                                           | 847/4620 [00:08<00:31, 118.47it/s]"
     ]
    },
    {
     "name": "stdout",
     "output_type": "stream",
     "text": [
      "saving dir .\\features\\train\\babble\\5db\n",
      "saving dir .\\features\\train\\babble\\5db\n",
      "saving dir .\\features\\train\\babble\\5db\n",
      "saving dir .\\features\\train\\babble\\5db\n",
      "saving dir .\\features\\train\\babble\\5db\n",
      "saving dir .\\features\\train\\babble\\5db\n",
      "saving dir .\\features\\train\\babble\\5db\n",
      "saving dir .\\features\\train\\babble\\5db\n",
      "saving dir .\\features\\train\\babble\\5db\n",
      "saving dir .\\features\\train\\babble\\5db\n",
      "saving dir .\\features\\train\\babble\\5db\n",
      "saving dir .\\features\\train\\babble\\5db\n",
      "saving dir .\\features\\train\\babble\\5db\n"
     ]
    },
    {
     "name": "stderr",
     "output_type": "stream",
     "text": [
      "\r",
      "Converting train audios:  19%|█████████▊                                           | 860/4620 [00:08<00:33, 110.63it/s]"
     ]
    },
    {
     "name": "stdout",
     "output_type": "stream",
     "text": [
      "saving dir .\\features\\train\\babble\\5db\n",
      "saving dir .\\features\\train\\babble\\5db\n",
      "saving dir .\\features\\train\\babble\\5db\n",
      "saving dir .\\features\\train\\babble\\5db\n",
      "saving dir .\\features\\train\\babble\\5db\n",
      "saving dir .\\features\\train\\babble\\5db\n",
      "saving dir .\\features\\train\\babble\\5db\n",
      "saving dir .\\features\\train\\babble\\5db\n",
      "saving dir .\\features\\train\\babble\\5db\n",
      "saving dir .\\features\\train\\babble\\5db\n",
      "saving dir .\\features\\train\\babble\\5db\n",
      "saving dir .\\features\\train\\babble\\5db\n"
     ]
    },
    {
     "name": "stderr",
     "output_type": "stream",
     "text": [
      "\r",
      "Converting train audios:  19%|██████████                                           | 872/4620 [00:08<00:33, 110.56it/s]"
     ]
    },
    {
     "name": "stdout",
     "output_type": "stream",
     "text": [
      "saving dir .\\features\\train\\babble\\5db\n",
      "saving dir .\\features\\train\\babble\\5db\n",
      "saving dir .\\features\\train\\babble\\5db\n",
      "saving dir .\\features\\train\\babble\\5db\n",
      "saving dir .\\features\\train\\babble\\5db\n",
      "saving dir .\\features\\train\\babble\\5db\n",
      "saving dir .\\features\\train\\babble\\5db\n",
      "saving dir .\\features\\train\\babble\\5db\n",
      "saving dir .\\features\\train\\babble\\5db\n",
      "saving dir .\\features\\train\\babble\\5db\n",
      "saving dir .\\features\\train\\babble\\5db\n",
      "saving dir .\\features\\train\\babble\\5db\n"
     ]
    },
    {
     "name": "stderr",
     "output_type": "stream",
     "text": [
      "\r",
      "Converting train audios:  19%|██████████▏                                          | 884/4620 [00:08<00:33, 110.80it/s]"
     ]
    },
    {
     "name": "stdout",
     "output_type": "stream",
     "text": [
      "saving dir .\\features\\train\\babble\\5db\n",
      "saving dir .\\features\\train\\babble\\5db\n",
      "saving dir .\\features\\train\\babble\\5db\n",
      "saving dir .\\features\\train\\babble\\5db\n",
      "saving dir .\\features\\train\\babble\\5db\n",
      "saving dir .\\features\\train\\babble\\5db\n",
      "saving dir .\\features\\train\\babble\\5db\n",
      "saving dir .\\features\\train\\babble\\5db\n",
      "saving dir .\\features\\train\\babble\\5db\n",
      "saving dir .\\features\\train\\babble\\5db\n",
      "saving dir .\\features\\train\\babble\\5db\n",
      "saving dir .\\features\\train\\babble\\5db\n",
      "saving dir .\\features\\train\\babble\\5db\n"
     ]
    },
    {
     "name": "stderr",
     "output_type": "stream",
     "text": [
      "\r",
      "Converting train audios:  19%|██████████▎                                          | 897/4620 [00:08<00:32, 114.19it/s]"
     ]
    },
    {
     "name": "stdout",
     "output_type": "stream",
     "text": [
      "saving dir .\\features\\train\\babble\\5db\n",
      "saving dir .\\features\\train\\babble\\5db\n",
      "saving dir .\\features\\train\\babble\\5db\n",
      "saving dir .\\features\\train\\babble\\5db\n",
      "saving dir .\\features\\train\\babble\\5db\n",
      "saving dir .\\features\\train\\babble\\5db\n",
      "saving dir .\\features\\train\\babble\\5db\n",
      "saving dir .\\features\\train\\babble\\5db\n",
      "saving dir .\\features\\train\\babble\\5db\n",
      "saving dir .\\features\\train\\babble\\5db\n",
      "saving dir .\\features\\train\\babble\\5db\n",
      "saving dir .\\features\\train\\babble\\5db\n",
      "saving dir .\\features\\train\\babble\\5db\n",
      "saving dir .\\features\\train\\babble\\5db\n"
     ]
    },
    {
     "name": "stderr",
     "output_type": "stream",
     "text": [
      "\r",
      "Converting train audios:  20%|██████████▍                                          | 911/4620 [00:08<00:31, 117.62it/s]"
     ]
    },
    {
     "name": "stdout",
     "output_type": "stream",
     "text": [
      "saving dir .\\features\\train\\babble\\5db\n",
      "saving dir .\\features\\train\\babble\\5db\n",
      "saving dir .\\features\\train\\babble\\5db\n",
      "saving dir .\\features\\train\\babble\\5db\n",
      "saving dir .\\features\\train\\babble\\5db\n",
      "saving dir .\\features\\train\\babble\\5db\n",
      "saving dir .\\features\\train\\babble\\5db\n",
      "saving dir .\\features\\train\\babble\\5db\n",
      "saving dir .\\features\\train\\babble\\5db\n",
      "saving dir .\\features\\train\\babble\\5db\n",
      "saving dir .\\features\\train\\babble\\5db\n",
      "saving dir .\\features\\train\\babble\\5db\n",
      "saving dir .\\features\\train\\babble\\5db\n"
     ]
    },
    {
     "name": "stderr",
     "output_type": "stream",
     "text": [
      "\r",
      "Converting train audios:  20%|██████████▌                                          | 924/4620 [00:08<00:31, 118.53it/s]"
     ]
    },
    {
     "name": "stdout",
     "output_type": "stream",
     "text": [
      "saving dir .\\features\\train\\babble\\5db\n",
      "saving dir .\\features\\train\\babble\\5db\n",
      "saving dir .\\features\\train\\babble\\5db\n",
      "saving dir .\\features\\train\\babble\\5db\n",
      "saving dir .\\features\\train\\babble\\5db\n",
      "saving dir .\\features\\train\\babble\\5db\n",
      "saving dir .\\features\\train\\babble\\5db\n",
      "saving dir .\\features\\train\\babble\\5db\n",
      "saving dir .\\features\\train\\babble\\5db\n",
      "saving dir .\\features\\train\\babble\\5db\n",
      "saving dir .\\features\\train\\babble\\5db\n",
      "saving dir .\\features\\train\\babble\\5db\n",
      "saving dir .\\features\\train\\babble\\5db\n",
      "saving dir .\\features\\train\\babble\\5db\n"
     ]
    },
    {
     "name": "stderr",
     "output_type": "stream",
     "text": [
      "\r",
      "Converting train audios:  20%|██████████▊                                          | 938/4620 [00:08<00:30, 122.06it/s]"
     ]
    },
    {
     "name": "stdout",
     "output_type": "stream",
     "text": [
      "saving dir .\\features\\train\\babble\\5db\n",
      "saving dir .\\features\\train\\babble\\5db\n",
      "saving dir .\\features\\train\\babble\\5db\n",
      "saving dir .\\features\\train\\babble\\5db\n",
      "saving dir .\\features\\train\\babble\\5db\n",
      "saving dir .\\features\\train\\babble\\5db\n",
      "saving dir .\\features\\train\\babble\\5db\n",
      "saving dir .\\features\\train\\babble\\5db\n",
      "saving dir .\\features\\train\\babble\\5db\n",
      "saving dir .\\features\\train\\babble\\5db\n",
      "saving dir .\\features\\train\\babble\\5db\n",
      "saving dir .\\features\\train\\babble\\5db\n",
      "saving dir .\\features\\train\\babble\\5db\n"
     ]
    },
    {
     "name": "stderr",
     "output_type": "stream",
     "text": [
      "\r",
      "Converting train audios:  21%|██████████▉                                          | 951/4620 [00:09<00:30, 121.31it/s]"
     ]
    },
    {
     "name": "stdout",
     "output_type": "stream",
     "text": [
      "saving dir .\\features\\train\\babble\\5db\n",
      "saving dir .\\features\\train\\babble\\5db\n",
      "saving dir .\\features\\train\\babble\\5db\n",
      "saving dir .\\features\\train\\babble\\5db\n",
      "saving dir .\\features\\train\\babble\\5db\n",
      "saving dir .\\features\\train\\babble\\5db\n",
      "saving dir .\\features\\train\\babble\\5db\n",
      "saving dir .\\features\\train\\babble\\5db\n",
      "saving dir .\\features\\train\\babble\\5db\n",
      "saving dir .\\features\\train\\babble\\5db\n",
      "saving dir .\\features\\train\\babble\\5db\n",
      "saving dir .\\features\\train\\babble\\5db\n",
      "saving dir .\\features\\train\\babble\\5db\n"
     ]
    },
    {
     "name": "stderr",
     "output_type": "stream",
     "text": [
      "\r",
      "Converting train audios:  21%|███████████                                          | 964/4620 [00:09<00:30, 119.79it/s]"
     ]
    },
    {
     "name": "stdout",
     "output_type": "stream",
     "text": [
      "saving dir .\\features\\train\\babble\\5db\n",
      "saving dir .\\features\\train\\babble\\5db\n",
      "saving dir .\\features\\train\\babble\\5db\n",
      "saving dir .\\features\\train\\babble\\5db\n",
      "saving dir .\\features\\train\\babble\\5db\n",
      "saving dir .\\features\\train\\babble\\5db\n",
      "saving dir .\\features\\train\\babble\\5db\n",
      "saving dir .\\features\\train\\babble\\5db\n",
      "saving dir .\\features\\train\\babble\\5db\n",
      "saving dir .\\features\\train\\babble\\5db\n",
      "saving dir .\\features\\train\\babble\\5db\n",
      "saving dir .\\features\\train\\babble\\5db\n",
      "saving dir .\\features\\train\\babble\\5db\n"
     ]
    },
    {
     "name": "stderr",
     "output_type": "stream",
     "text": [
      "\r",
      "Converting train audios:  21%|███████████▏                                         | 977/4620 [00:09<00:31, 114.67it/s]"
     ]
    },
    {
     "name": "stdout",
     "output_type": "stream",
     "text": [
      "saving dir .\\features\\train\\babble\\5db\n",
      "saving dir .\\features\\train\\babble\\5db\n",
      "saving dir .\\features\\train\\babble\\5db\n",
      "saving dir .\\features\\train\\babble\\5db\n",
      "saving dir .\\features\\train\\babble\\5db\n",
      "saving dir .\\features\\train\\babble\\5db\n",
      "saving dir .\\features\\train\\babble\\5db\n",
      "saving dir .\\features\\train\\babble\\5db\n",
      "saving dir .\\features\\train\\babble\\5db\n",
      "saving dir .\\features\\train\\babble\\5db\n",
      "saving dir .\\features\\train\\babble\\5db\n",
      "saving dir .\\features\\train\\babble\\5db\n"
     ]
    },
    {
     "name": "stderr",
     "output_type": "stream",
     "text": [
      "\r",
      "Converting train audios:  21%|███████████▎                                         | 989/4620 [00:09<00:31, 114.65it/s]"
     ]
    },
    {
     "name": "stdout",
     "output_type": "stream",
     "text": [
      "saving dir .\\features\\train\\babble\\5db\n",
      "saving dir .\\features\\train\\babble\\5db\n",
      "saving dir .\\features\\train\\babble\\5db\n",
      "saving dir .\\features\\train\\babble\\5db\n",
      "saving dir .\\features\\train\\babble\\5db\n",
      "saving dir .\\features\\train\\babble\\5db\n",
      "saving dir .\\features\\train\\babble\\5db\n",
      "saving dir .\\features\\train\\babble\\5db\n",
      "saving dir .\\features\\train\\babble\\5db\n",
      "saving dir .\\features\\train\\babble\\5db\n",
      "saving dir .\\features\\train\\babble\\5db\n",
      "saving dir .\\features\\train\\babble\\5db\n"
     ]
    },
    {
     "name": "stderr",
     "output_type": "stream",
     "text": [
      "\r",
      "Converting train audios:  22%|███████████▎                                        | 1001/4620 [00:09<00:31, 115.95it/s]"
     ]
    },
    {
     "name": "stdout",
     "output_type": "stream",
     "text": [
      "saving dir .\\features\\train\\babble\\5db\n",
      "saving dir .\\features\\train\\babble\\5db\n",
      "saving dir .\\features\\train\\babble\\5db\n",
      "saving dir .\\features\\train\\babble\\5db\n",
      "saving dir .\\features\\train\\babble\\5db\n",
      "saving dir .\\features\\train\\babble\\5db\n",
      "saving dir .\\features\\train\\babble\\5db\n",
      "saving dir .\\features\\train\\babble\\5db\n",
      "saving dir .\\features\\train\\babble\\5db\n",
      "saving dir .\\features\\train\\babble\\5db\n",
      "saving dir .\\features\\train\\babble\\5db\n",
      "saving dir .\\features\\train\\babble\\5db\n"
     ]
    },
    {
     "name": "stderr",
     "output_type": "stream",
     "text": [
      "\r",
      "Converting train audios:  22%|███████████▍                                        | 1013/4620 [00:09<00:30, 116.88it/s]"
     ]
    },
    {
     "name": "stdout",
     "output_type": "stream",
     "text": [
      "saving dir .\\features\\train\\babble\\5db\n",
      "saving dir .\\features\\train\\babble\\5db\n",
      "saving dir .\\features\\train\\babble\\5db\n",
      "saving dir .\\features\\train\\babble\\5db\n",
      "saving dir .\\features\\train\\babble\\5db\n",
      "saving dir .\\features\\train\\babble\\5db\n",
      "saving dir .\\features\\train\\babble\\5db\n",
      "saving dir .\\features\\train\\babble\\5db\n",
      "saving dir .\\features\\train\\babble\\5db\n",
      "saving dir .\\features\\train\\babble\\5db\n",
      "saving dir .\\features\\train\\babble\\5db\n",
      "saving dir .\\features\\train\\babble\\5db\n",
      "saving dir .\\features\\train\\babble\\5db\n"
     ]
    },
    {
     "name": "stderr",
     "output_type": "stream",
     "text": [
      "\r",
      "Converting train audios:  22%|███████████▌                                        | 1026/4620 [00:09<00:29, 119.96it/s]"
     ]
    },
    {
     "name": "stdout",
     "output_type": "stream",
     "text": [
      "saving dir .\\features\\train\\babble\\5db\n",
      "saving dir .\\features\\train\\babble\\5db\n",
      "saving dir .\\features\\train\\babble\\5db\n",
      "saving dir .\\features\\train\\babble\\5db\n",
      "saving dir .\\features\\train\\babble\\5db\n",
      "saving dir .\\features\\train\\babble\\5db\n",
      "saving dir .\\features\\train\\babble\\5db\n",
      "saving dir .\\features\\train\\babble\\5db\n",
      "saving dir .\\features\\train\\babble\\5db\n",
      "saving dir .\\features\\train\\babble\\5db\n",
      "saving dir .\\features\\train\\babble\\5db\n",
      "saving dir .\\features\\train\\babble\\5db\n",
      "saving dir .\\features\\train\\babble\\5db\n"
     ]
    },
    {
     "name": "stderr",
     "output_type": "stream",
     "text": [
      "\r",
      "Converting train audios:  22%|███████████▋                                        | 1039/4620 [00:09<00:29, 121.18it/s]"
     ]
    },
    {
     "name": "stdout",
     "output_type": "stream",
     "text": [
      "saving dir .\\features\\train\\babble\\5db\n",
      "saving dir .\\features\\train\\babble\\5db\n",
      "saving dir .\\features\\train\\babble\\5db\n",
      "saving dir .\\features\\train\\babble\\5db\n",
      "saving dir .\\features\\train\\babble\\5db\n",
      "saving dir .\\features\\train\\babble\\5db\n",
      "saving dir .\\features\\train\\babble\\5db\n",
      "saving dir .\\features\\train\\babble\\5db\n",
      "saving dir .\\features\\train\\babble\\5db\n",
      "saving dir .\\features\\train\\babble\\5db\n",
      "saving dir .\\features\\train\\babble\\5db\n",
      "saving dir .\\features\\train\\babble\\5db\n",
      "saving dir .\\features\\train\\babble\\5db\n"
     ]
    },
    {
     "name": "stderr",
     "output_type": "stream",
     "text": [
      "\r",
      "Converting train audios:  23%|███████████▊                                        | 1052/4620 [00:09<00:30, 117.44it/s]"
     ]
    },
    {
     "name": "stdout",
     "output_type": "stream",
     "text": [
      "saving dir .\\features\\train\\babble\\5db\n",
      "saving dir .\\features\\train\\babble\\5db\n",
      "saving dir .\\features\\train\\babble\\5db\n",
      "saving dir .\\features\\train\\babble\\5db\n",
      "saving dir .\\features\\train\\babble\\5db\n",
      "saving dir .\\features\\train\\babble\\5db\n",
      "saving dir .\\features\\train\\babble\\5db\n",
      "saving dir .\\features\\train\\babble\\5db\n",
      "saving dir .\\features\\train\\babble\\5db\n",
      "saving dir .\\features\\train\\babble\\5db\n",
      "saving dir .\\features\\train\\babble\\5db\n",
      "saving dir .\\features\\train\\babble\\5db\n",
      "saving dir .\\features\\train\\babble\\5db\n"
     ]
    },
    {
     "name": "stderr",
     "output_type": "stream",
     "text": [
      "\r",
      "Converting train audios:  23%|███████████▉                                        | 1065/4620 [00:10<00:29, 119.05it/s]"
     ]
    },
    {
     "name": "stdout",
     "output_type": "stream",
     "text": [
      "saving dir .\\features\\train\\babble\\5db\n",
      "saving dir .\\features\\train\\babble\\5db\n",
      "saving dir .\\features\\train\\babble\\5db\n",
      "saving dir .\\features\\train\\babble\\5db\n",
      "saving dir .\\features\\train\\babble\\5db\n",
      "saving dir .\\features\\train\\babble\\5db\n",
      "saving dir .\\features\\train\\babble\\5db\n",
      "saving dir .\\features\\train\\babble\\5db\n",
      "saving dir .\\features\\train\\babble\\5db\n",
      "saving dir .\\features\\train\\babble\\5db\n",
      "saving dir .\\features\\train\\babble\\5db\n",
      "saving dir .\\features\\train\\babble\\5db\n",
      "saving dir .\\features\\train\\babble\\5db\n",
      "saving dir .\\features\\train\\babble\\5db\n"
     ]
    },
    {
     "name": "stderr",
     "output_type": "stream",
     "text": [
      "\r",
      "Converting train audios:  23%|████████████▏                                       | 1079/4620 [00:10<00:28, 123.09it/s]"
     ]
    },
    {
     "name": "stdout",
     "output_type": "stream",
     "text": [
      "saving dir .\\features\\train\\babble\\5db\n",
      "saving dir .\\features\\train\\babble\\5db\n",
      "saving dir .\\features\\train\\babble\\5db\n",
      "saving dir .\\features\\train\\babble\\5db\n",
      "saving dir .\\features\\train\\babble\\5db\n",
      "saving dir .\\features\\train\\babble\\5db\n",
      "saving dir .\\features\\train\\babble\\5db\n",
      "saving dir .\\features\\train\\babble\\5db\n",
      "saving dir .\\features\\train\\babble\\5db\n",
      "saving dir .\\features\\train\\babble\\5db\n",
      "saving dir .\\features\\train\\babble\\5db\n",
      "saving dir .\\features\\train\\babble\\5db\n",
      "saving dir .\\features\\train\\babble\\5db\n"
     ]
    },
    {
     "name": "stderr",
     "output_type": "stream",
     "text": [
      "\r",
      "Converting train audios:  24%|████████████▌                                        | 1092/4620 [00:10<00:37, 94.23it/s]"
     ]
    },
    {
     "name": "stdout",
     "output_type": "stream",
     "text": [
      "saving dir .\\features\\train\\babble\\5db\n",
      "saving dir .\\features\\train\\babble\\5db\n",
      "saving dir .\\features\\train\\babble\\5db\n",
      "saving dir .\\features\\train\\babble\\5db\n",
      "saving dir .\\features\\train\\babble\\5db\n",
      "saving dir .\\features\\train\\babble\\5db\n",
      "saving dir .\\features\\train\\babble\\5db\n",
      "saving dir .\\features\\train\\babble\\5db\n",
      "saving dir .\\features\\train\\babble\\5db\n",
      "saving dir .\\features\\train\\babble\\5db\n",
      "saving dir .\\features\\train\\babble\\5db\n",
      "saving dir .\\features\\train\\babble\\5db\n",
      "saving dir .\\features\\train\\babble\\5db\n"
     ]
    },
    {
     "name": "stderr",
     "output_type": "stream",
     "text": [
      "\r",
      "Converting train audios:  24%|████████████▍                                       | 1105/4620 [00:10<00:34, 101.34it/s]"
     ]
    },
    {
     "name": "stdout",
     "output_type": "stream",
     "text": [
      "saving dir .\\features\\train\\babble\\5db\n",
      "saving dir .\\features\\train\\babble\\5db\n",
      "saving dir .\\features\\train\\babble\\5db\n",
      "saving dir .\\features\\train\\babble\\5db\n",
      "saving dir .\\features\\train\\babble\\5db\n",
      "saving dir .\\features\\train\\babble\\5db\n",
      "saving dir .\\features\\train\\babble\\5db\n",
      "saving dir .\\features\\train\\babble\\5db\n",
      "saving dir .\\features\\train\\babble\\5db\n",
      "saving dir .\\features\\train\\babble\\5db\n",
      "saving dir .\\features\\train\\babble\\5db\n",
      "saving dir .\\features\\train\\babble\\5db\n"
     ]
    },
    {
     "name": "stderr",
     "output_type": "stream",
     "text": [
      "\r",
      "Converting train audios:  24%|████████████▌                                       | 1117/4620 [00:10<00:33, 104.98it/s]"
     ]
    },
    {
     "name": "stdout",
     "output_type": "stream",
     "text": [
      "saving dir .\\features\\train\\babble\\5db\n",
      "saving dir .\\features\\train\\babble\\5db\n",
      "saving dir .\\features\\train\\babble\\5db\n",
      "saving dir .\\features\\train\\babble\\5db\n",
      "saving dir .\\features\\train\\babble\\5db\n",
      "saving dir .\\features\\train\\babble\\5db\n",
      "saving dir .\\features\\train\\babble\\5db\n",
      "saving dir .\\features\\train\\babble\\5db\n",
      "saving dir .\\features\\train\\babble\\5db\n",
      "saving dir .\\features\\train\\babble\\5db\n",
      "saving dir .\\features\\train\\babble\\5db\n",
      "saving dir .\\features\\train\\babble\\5db\n"
     ]
    },
    {
     "name": "stderr",
     "output_type": "stream",
     "text": [
      "\r",
      "Converting train audios:  24%|████████████▋                                       | 1129/4620 [00:10<00:32, 105.98it/s]"
     ]
    },
    {
     "name": "stdout",
     "output_type": "stream",
     "text": [
      "saving dir .\\features\\train\\babble\\5db\n",
      "saving dir .\\features\\train\\babble\\5db\n",
      "saving dir .\\features\\train\\babble\\5db\n",
      "saving dir .\\features\\train\\babble\\5db\n",
      "saving dir .\\features\\train\\babble\\5db\n",
      "saving dir .\\features\\train\\babble\\5db\n",
      "saving dir .\\features\\train\\babble\\5db\n",
      "saving dir .\\features\\train\\babble\\5db\n",
      "saving dir .\\features\\train\\babble\\5db\n",
      "saving dir .\\features\\train\\babble\\5db\n",
      "saving dir .\\features\\train\\babble\\5db\n",
      "saving dir .\\features\\train\\babble\\5db\n"
     ]
    },
    {
     "name": "stderr",
     "output_type": "stream",
     "text": [
      "\r",
      "Converting train audios:  25%|████████████▊                                       | 1141/4620 [00:10<00:32, 108.13it/s]"
     ]
    },
    {
     "name": "stdout",
     "output_type": "stream",
     "text": [
      "saving dir .\\features\\train\\babble\\5db\n",
      "saving dir .\\features\\train\\babble\\5db\n",
      "saving dir .\\features\\train\\babble\\5db\n",
      "saving dir .\\features\\train\\babble\\5db\n",
      "saving dir .\\features\\train\\babble\\5db\n",
      "saving dir .\\features\\train\\babble\\5db\n",
      "saving dir .\\features\\train\\babble\\5db\n",
      "saving dir .\\features\\train\\babble\\5db\n",
      "saving dir .\\features\\train\\babble\\5db\n",
      "saving dir .\\features\\train\\babble\\5db\n",
      "saving dir .\\features\\train\\babble\\5db\n",
      "saving dir .\\features\\train\\babble\\5db\n"
     ]
    },
    {
     "name": "stderr",
     "output_type": "stream",
     "text": [
      "\r",
      "Converting train audios:  25%|████████████▉                                       | 1153/4620 [00:10<00:31, 109.08it/s]"
     ]
    },
    {
     "name": "stdout",
     "output_type": "stream",
     "text": [
      "saving dir .\\features\\train\\babble\\5db\n",
      "saving dir .\\features\\train\\babble\\5db\n",
      "saving dir .\\features\\train\\babble\\5db\n",
      "saving dir .\\features\\train\\babble\\5db\n",
      "saving dir .\\features\\train\\babble\\5db\n",
      "saving dir .\\features\\train\\babble\\5db\n",
      "saving dir .\\features\\train\\babble\\5db\n",
      "saving dir .\\features\\train\\babble\\5db\n",
      "saving dir .\\features\\train\\babble\\5db\n",
      "saving dir .\\features\\train\\babble\\5db\n",
      "saving dir .\\features\\train\\babble\\5db\n",
      "saving dir .\\features\\train\\babble\\5db\n",
      "saving dir .\\features\\train\\babble\\5db\n"
     ]
    },
    {
     "name": "stderr",
     "output_type": "stream",
     "text": [
      "\r",
      "Converting train audios:  25%|█████████████                                       | 1166/4620 [00:10<00:30, 113.21it/s]"
     ]
    },
    {
     "name": "stdout",
     "output_type": "stream",
     "text": [
      "saving dir .\\features\\train\\babble\\5db\n",
      "saving dir .\\features\\train\\babble\\5db\n",
      "saving dir .\\features\\train\\babble\\5db\n",
      "saving dir .\\features\\train\\babble\\5db\n",
      "saving dir .\\features\\train\\babble\\5db\n",
      "saving dir .\\features\\train\\babble\\5db\n",
      "saving dir .\\features\\train\\babble\\5db\n",
      "saving dir .\\features\\train\\babble\\5db\n",
      "saving dir .\\features\\train\\babble\\5db\n",
      "saving dir .\\features\\train\\babble\\5db\n",
      "saving dir .\\features\\train\\babble\\5db\n",
      "saving dir .\\features\\train\\babble\\5db\n"
     ]
    },
    {
     "name": "stderr",
     "output_type": "stream",
     "text": [
      "\r",
      "Converting train audios:  25%|█████████████▎                                      | 1178/4620 [00:11<00:30, 113.29it/s]"
     ]
    },
    {
     "name": "stdout",
     "output_type": "stream",
     "text": [
      "saving dir .\\features\\train\\babble\\5db\n",
      "saving dir .\\features\\train\\babble\\5db\n",
      "saving dir .\\features\\train\\babble\\5db\n",
      "saving dir .\\features\\train\\babble\\5db\n",
      "saving dir .\\features\\train\\babble\\5db\n",
      "saving dir .\\features\\train\\babble\\5db\n",
      "saving dir .\\features\\train\\babble\\5db\n",
      "saving dir .\\features\\train\\babble\\5db\n",
      "saving dir .\\features\\train\\babble\\5db\n",
      "saving dir .\\features\\train\\babble\\5db\n",
      "saving dir .\\features\\train\\babble\\5db\n",
      "saving dir .\\features\\train\\babble\\5db\n",
      "saving dir .\\features\\train\\babble\\5db\n"
     ]
    },
    {
     "name": "stderr",
     "output_type": "stream",
     "text": [
      "\r",
      "Converting train audios:  26%|█████████████▍                                      | 1191/4620 [00:11<00:29, 115.12it/s]"
     ]
    },
    {
     "name": "stdout",
     "output_type": "stream",
     "text": [
      "saving dir .\\features\\train\\babble\\5db\n",
      "saving dir .\\features\\train\\babble\\5db\n",
      "saving dir .\\features\\train\\babble\\5db\n",
      "saving dir .\\features\\train\\babble\\5db\n",
      "saving dir .\\features\\train\\babble\\5db\n",
      "saving dir .\\features\\train\\babble\\5db\n",
      "saving dir .\\features\\train\\babble\\5db\n",
      "saving dir .\\features\\train\\babble\\5db\n",
      "saving dir .\\features\\train\\babble\\5db\n",
      "saving dir .\\features\\train\\babble\\5db\n",
      "saving dir .\\features\\train\\babble\\5db\n",
      "saving dir .\\features\\train\\babble\\5db\n"
     ]
    },
    {
     "name": "stderr",
     "output_type": "stream",
     "text": [
      "\r",
      "Converting train audios:  26%|█████████████▌                                      | 1203/4620 [00:11<00:30, 111.14it/s]"
     ]
    },
    {
     "name": "stdout",
     "output_type": "stream",
     "text": [
      "saving dir .\\features\\train\\babble\\5db\n",
      "saving dir .\\features\\train\\babble\\5db\n",
      "saving dir .\\features\\train\\babble\\5db\n",
      "saving dir .\\features\\train\\babble\\5db\n",
      "saving dir .\\features\\train\\babble\\5db\n",
      "saving dir .\\features\\train\\babble\\5db\n",
      "saving dir .\\features\\train\\babble\\5db\n",
      "saving dir .\\features\\train\\babble\\5db\n",
      "saving dir .\\features\\train\\babble\\5db\n",
      "saving dir .\\features\\train\\babble\\5db\n",
      "saving dir .\\features\\train\\babble\\5db\n",
      "saving dir .\\features\\train\\babble\\5db\n"
     ]
    },
    {
     "name": "stderr",
     "output_type": "stream",
     "text": [
      "\r",
      "Converting train audios:  26%|█████████████▋                                      | 1215/4620 [00:11<00:30, 110.29it/s]"
     ]
    },
    {
     "name": "stdout",
     "output_type": "stream",
     "text": [
      "saving dir .\\features\\train\\babble\\5db\n",
      "saving dir .\\features\\train\\babble\\5db\n",
      "saving dir .\\features\\train\\babble\\5db\n",
      "saving dir .\\features\\train\\babble\\5db\n",
      "saving dir .\\features\\train\\babble\\5db\n",
      "saving dir .\\features\\train\\babble\\5db\n",
      "saving dir .\\features\\train\\babble\\5db\n",
      "saving dir .\\features\\train\\babble\\5db\n",
      "saving dir .\\features\\train\\babble\\5db\n",
      "saving dir .\\features\\train\\babble\\5db\n",
      "saving dir .\\features\\train\\babble\\5db\n",
      "saving dir .\\features\\train\\babble\\5db\n",
      "saving dir .\\features\\train\\babble\\5db\n"
     ]
    },
    {
     "name": "stderr",
     "output_type": "stream",
     "text": [
      "\r",
      "Converting train audios:  27%|█████████████▊                                      | 1228/4620 [00:11<00:29, 114.55it/s]"
     ]
    },
    {
     "name": "stdout",
     "output_type": "stream",
     "text": [
      "saving dir .\\features\\train\\babble\\5db\n",
      "saving dir .\\features\\train\\babble\\5db\n",
      "saving dir .\\features\\train\\babble\\5db\n",
      "saving dir .\\features\\train\\babble\\5db\n",
      "saving dir .\\features\\train\\babble\\5db\n",
      "saving dir .\\features\\train\\babble\\5db\n",
      "saving dir .\\features\\train\\babble\\5db\n",
      "saving dir .\\features\\train\\babble\\5db\n",
      "saving dir .\\features\\train\\babble\\5db\n",
      "saving dir .\\features\\train\\babble\\5db\n",
      "saving dir .\\features\\train\\babble\\5db\n",
      "saving dir .\\features\\train\\babble\\5db\n"
     ]
    },
    {
     "name": "stderr",
     "output_type": "stream",
     "text": [
      "\r",
      "Converting train audios:  27%|█████████████▉                                      | 1240/4620 [00:11<00:29, 115.88it/s]"
     ]
    },
    {
     "name": "stdout",
     "output_type": "stream",
     "text": [
      "saving dir .\\features\\train\\babble\\5db\n",
      "saving dir .\\features\\train\\babble\\5db\n",
      "saving dir .\\features\\train\\babble\\5db\n",
      "saving dir .\\features\\train\\babble\\5db\n",
      "saving dir .\\features\\train\\babble\\5db\n",
      "saving dir .\\features\\train\\babble\\5db\n",
      "saving dir .\\features\\train\\babble\\5db\n",
      "saving dir .\\features\\train\\babble\\5db\n",
      "saving dir .\\features\\train\\babble\\5db\n",
      "saving dir .\\features\\train\\babble\\5db\n",
      "saving dir .\\features\\train\\babble\\5db\n",
      "saving dir .\\features\\train\\babble\\5db\n"
     ]
    },
    {
     "name": "stderr",
     "output_type": "stream",
     "text": [
      "\r",
      "Converting train audios:  27%|██████████████                                      | 1252/4620 [00:11<00:28, 116.51it/s]"
     ]
    },
    {
     "name": "stdout",
     "output_type": "stream",
     "text": [
      "saving dir .\\features\\train\\babble\\5db\n",
      "saving dir .\\features\\train\\babble\\5db\n",
      "saving dir .\\features\\train\\babble\\5db\n",
      "saving dir .\\features\\train\\babble\\5db\n",
      "saving dir .\\features\\train\\babble\\5db\n",
      "saving dir .\\features\\train\\babble\\5db\n",
      "saving dir .\\features\\train\\babble\\5db\n",
      "saving dir .\\features\\train\\babble\\5db\n",
      "saving dir .\\features\\train\\babble\\5db\n",
      "saving dir .\\features\\train\\babble\\5db\n",
      "saving dir .\\features\\train\\babble\\5db\n",
      "saving dir .\\features\\train\\babble\\5db\n"
     ]
    },
    {
     "name": "stderr",
     "output_type": "stream",
     "text": [
      "\r",
      "Converting train audios:  27%|██████████████▏                                     | 1264/4620 [00:11<00:29, 112.98it/s]"
     ]
    },
    {
     "name": "stdout",
     "output_type": "stream",
     "text": [
      "saving dir .\\features\\train\\babble\\5db\n",
      "saving dir .\\features\\train\\babble\\5db\n",
      "saving dir .\\features\\train\\babble\\5db\n",
      "saving dir .\\features\\train\\babble\\5db\n",
      "saving dir .\\features\\train\\babble\\5db\n",
      "saving dir .\\features\\train\\babble\\5db\n",
      "saving dir .\\features\\train\\babble\\5db\n",
      "saving dir .\\features\\train\\babble\\5db\n",
      "saving dir .\\features\\train\\babble\\5db\n",
      "saving dir .\\features\\train\\babble\\5db\n",
      "saving dir .\\features\\train\\babble\\5db\n",
      "saving dir .\\features\\train\\babble\\5db\n"
     ]
    },
    {
     "name": "stderr",
     "output_type": "stream",
     "text": [
      "\r",
      "Converting train audios:  28%|██████████████▎                                     | 1276/4620 [00:11<00:30, 109.74it/s]"
     ]
    },
    {
     "name": "stdout",
     "output_type": "stream",
     "text": [
      "saving dir .\\features\\train\\babble\\5db\n",
      "saving dir .\\features\\train\\babble\\5db\n",
      "saving dir .\\features\\train\\babble\\5db\n",
      "saving dir .\\features\\train\\babble\\5db\n",
      "saving dir .\\features\\train\\babble\\5db\n",
      "saving dir .\\features\\train\\babble\\5db\n",
      "saving dir .\\features\\train\\babble\\5db\n",
      "saving dir .\\features\\train\\babble\\5db\n",
      "saving dir .\\features\\train\\babble\\5db\n",
      "saving dir .\\features\\train\\babble\\5db\n",
      "saving dir .\\features\\train\\babble\\5db\n",
      "saving dir .\\features\\train\\babble\\5db\n",
      "saving dir .\\features\\train\\babble\\5db\n"
     ]
    },
    {
     "name": "stderr",
     "output_type": "stream",
     "text": [
      "\r",
      "Converting train audios:  28%|██████████████▌                                     | 1289/4620 [00:12<00:29, 113.69it/s]"
     ]
    },
    {
     "name": "stdout",
     "output_type": "stream",
     "text": [
      "saving dir .\\features\\train\\babble\\5db\n",
      "saving dir .\\features\\train\\babble\\5db\n",
      "saving dir .\\features\\train\\babble\\5db\n",
      "saving dir .\\features\\train\\babble\\5db\n",
      "saving dir .\\features\\train\\babble\\5db\n",
      "saving dir .\\features\\train\\babble\\5db\n",
      "saving dir .\\features\\train\\babble\\5db\n",
      "saving dir .\\features\\train\\babble\\5db\n",
      "saving dir .\\features\\train\\babble\\5db\n",
      "saving dir .\\features\\train\\babble\\5db\n",
      "saving dir .\\features\\train\\babble\\5db\n",
      "saving dir .\\features\\train\\babble\\5db\n"
     ]
    },
    {
     "name": "stderr",
     "output_type": "stream",
     "text": [
      "\r",
      "Converting train audios:  28%|██████████████▋                                     | 1301/4620 [00:12<00:30, 109.90it/s]"
     ]
    },
    {
     "name": "stdout",
     "output_type": "stream",
     "text": [
      "saving dir .\\features\\train\\babble\\5db\n",
      "saving dir .\\features\\train\\babble\\5db\n",
      "saving dir .\\features\\train\\babble\\5db\n",
      "saving dir .\\features\\train\\babble\\5db\n",
      "saving dir .\\features\\train\\babble\\5db\n",
      "saving dir .\\features\\train\\babble\\5db\n",
      "saving dir .\\features\\train\\babble\\5db\n",
      "saving dir .\\features\\train\\babble\\5db\n",
      "saving dir .\\features\\train\\babble\\5db\n",
      "saving dir .\\features\\train\\babble\\5db\n",
      "saving dir .\\features\\train\\babble\\5db\n",
      "saving dir .\\features\\train\\babble\\5db\n"
     ]
    },
    {
     "name": "stderr",
     "output_type": "stream",
     "text": [
      "\r",
      "Converting train audios:  28%|██████████████▊                                     | 1313/4620 [00:12<00:30, 107.97it/s]"
     ]
    },
    {
     "name": "stdout",
     "output_type": "stream",
     "text": [
      "saving dir .\\features\\train\\babble\\5db\n",
      "saving dir .\\features\\train\\babble\\5db\n",
      "saving dir .\\features\\train\\babble\\5db\n",
      "saving dir .\\features\\train\\babble\\5db\n",
      "saving dir .\\features\\train\\babble\\5db\n",
      "saving dir .\\features\\train\\babble\\5db\n",
      "saving dir .\\features\\train\\babble\\5db\n",
      "saving dir .\\features\\train\\babble\\5db\n",
      "saving dir .\\features\\train\\babble\\5db\n",
      "saving dir .\\features\\train\\babble\\5db\n",
      "saving dir .\\features\\train\\babble\\5db\n",
      "saving dir .\\features\\train\\babble\\5db\n"
     ]
    },
    {
     "name": "stderr",
     "output_type": "stream",
     "text": [
      "\r",
      "Converting train audios:  29%|██████████████▉                                     | 1325/4620 [00:12<00:29, 109.88it/s]"
     ]
    },
    {
     "name": "stdout",
     "output_type": "stream",
     "text": [
      "saving dir .\\features\\train\\babble\\5db\n",
      "saving dir .\\features\\train\\babble\\5db\n",
      "saving dir .\\features\\train\\babble\\5db\n",
      "saving dir .\\features\\train\\babble\\5db\n",
      "saving dir .\\features\\train\\babble\\5db\n",
      "saving dir .\\features\\train\\babble\\5db\n",
      "saving dir .\\features\\train\\babble\\5db\n",
      "saving dir .\\features\\train\\babble\\5db\n",
      "saving dir .\\features\\train\\babble\\5db\n",
      "saving dir .\\features\\train\\babble\\5db\n",
      "saving dir .\\features\\train\\babble\\5db\n",
      "saving dir .\\features\\train\\babble\\5db\n"
     ]
    },
    {
     "name": "stderr",
     "output_type": "stream",
     "text": [
      "\r",
      "Converting train audios:  29%|███████████████▎                                     | 1337/4620 [00:12<00:40, 80.45it/s]"
     ]
    },
    {
     "name": "stdout",
     "output_type": "stream",
     "text": [
      "saving dir .\\features\\train\\babble\\5db\n",
      "saving dir .\\features\\train\\babble\\5db\n",
      "saving dir .\\features\\train\\babble\\5db\n",
      "saving dir .\\features\\train\\babble\\5db\n",
      "saving dir .\\features\\train\\babble\\5db\n",
      "saving dir .\\features\\train\\babble\\5db\n",
      "saving dir .\\features\\train\\babble\\5db\n",
      "saving dir .\\features\\train\\babble\\5db\n",
      "saving dir .\\features\\train\\babble\\5db\n",
      "saving dir .\\features\\train\\babble\\5db\n",
      "saving dir .\\features\\train\\babble\\5db\n",
      "saving dir .\\features\\train\\babble\\5db\n"
     ]
    },
    {
     "name": "stderr",
     "output_type": "stream",
     "text": [
      "\r",
      "Converting train audios:  29%|███████████████▍                                     | 1349/4620 [00:12<00:37, 88.35it/s]"
     ]
    },
    {
     "name": "stdout",
     "output_type": "stream",
     "text": [
      "saving dir .\\features\\train\\babble\\5db\n",
      "saving dir .\\features\\train\\babble\\5db\n",
      "saving dir .\\features\\train\\babble\\5db\n",
      "saving dir .\\features\\train\\babble\\5db\n",
      "saving dir .\\features\\train\\babble\\5db\n",
      "saving dir .\\features\\train\\babble\\5db\n",
      "saving dir .\\features\\train\\babble\\5db\n",
      "saving dir .\\features\\train\\babble\\5db\n",
      "saving dir .\\features\\train\\babble\\5db\n",
      "saving dir .\\features\\train\\babble\\5db\n",
      "saving dir .\\features\\train\\babble\\5db\n",
      "saving dir .\\features\\train\\babble\\5db\n"
     ]
    },
    {
     "name": "stderr",
     "output_type": "stream",
     "text": [
      "\r",
      "Converting train audios:  29%|███████████████▌                                     | 1361/4620 [00:12<00:34, 95.08it/s]"
     ]
    },
    {
     "name": "stdout",
     "output_type": "stream",
     "text": [
      "saving dir .\\features\\train\\babble\\5db\n",
      "saving dir .\\features\\train\\babble\\5db\n",
      "saving dir .\\features\\train\\babble\\5db\n",
      "saving dir .\\features\\train\\babble\\5db\n",
      "saving dir .\\features\\train\\babble\\5db\n",
      "saving dir .\\features\\train\\babble\\5db\n",
      "saving dir .\\features\\train\\babble\\5db\n",
      "saving dir .\\features\\train\\babble\\5db\n",
      "saving dir .\\features\\train\\babble\\5db\n",
      "saving dir .\\features\\train\\babble\\5db\n",
      "saving dir .\\features\\train\\babble\\5db\n",
      "saving dir .\\features\\train\\babble\\5db\n",
      "saving dir .\\features\\train\\babble\\5db\n"
     ]
    },
    {
     "name": "stderr",
     "output_type": "stream",
     "text": [
      "\r",
      "Converting train audios:  30%|███████████████▍                                    | 1374/4620 [00:12<00:31, 102.51it/s]"
     ]
    },
    {
     "name": "stdout",
     "output_type": "stream",
     "text": [
      "saving dir .\\features\\train\\babble\\5db\n",
      "saving dir .\\features\\train\\babble\\5db\n",
      "saving dir .\\features\\train\\babble\\5db\n",
      "saving dir .\\features\\train\\babble\\5db\n",
      "saving dir .\\features\\train\\babble\\5db\n",
      "saving dir .\\features\\train\\babble\\5db\n",
      "saving dir .\\features\\train\\babble\\5db\n",
      "saving dir .\\features\\train\\babble\\5db\n",
      "saving dir .\\features\\train\\babble\\5db\n",
      "saving dir .\\features\\train\\babble\\5db\n",
      "saving dir .\\features\\train\\babble\\5db\n",
      "saving dir .\\features\\train\\babble\\5db\n",
      "saving dir .\\features\\train\\babble\\5db\n"
     ]
    },
    {
     "name": "stderr",
     "output_type": "stream",
     "text": [
      "\r",
      "Converting train audios:  30%|███████████████▌                                    | 1387/4620 [00:13<00:30, 106.31it/s]"
     ]
    },
    {
     "name": "stdout",
     "output_type": "stream",
     "text": [
      "saving dir .\\features\\train\\babble\\5db\n",
      "saving dir .\\features\\train\\babble\\5db\n",
      "saving dir .\\features\\train\\babble\\5db\n",
      "saving dir .\\features\\train\\babble\\5db\n",
      "saving dir .\\features\\train\\babble\\5db\n",
      "saving dir .\\features\\train\\babble\\5db\n",
      "saving dir .\\features\\train\\babble\\5db\n",
      "saving dir .\\features\\train\\babble\\5db\n",
      "saving dir .\\features\\train\\babble\\5db\n",
      "saving dir .\\features\\train\\babble\\5db\n",
      "saving dir .\\features\\train\\babble\\5db\n",
      "saving dir .\\features\\train\\babble\\5db\n"
     ]
    },
    {
     "name": "stderr",
     "output_type": "stream",
     "text": [
      "\r",
      "Converting train audios:  30%|███████████████▋                                    | 1399/4620 [00:13<00:29, 108.96it/s]"
     ]
    },
    {
     "name": "stdout",
     "output_type": "stream",
     "text": [
      "saving dir .\\features\\train\\babble\\5db\n",
      "saving dir .\\features\\train\\babble\\5db\n",
      "saving dir .\\features\\train\\babble\\5db\n",
      "saving dir .\\features\\train\\babble\\5db\n",
      "saving dir .\\features\\train\\babble\\5db\n",
      "saving dir .\\features\\train\\babble\\5db\n",
      "saving dir .\\features\\train\\babble\\5db\n",
      "saving dir .\\features\\train\\babble\\5db\n",
      "saving dir .\\features\\train\\babble\\5db\n",
      "saving dir .\\features\\train\\babble\\5db\n",
      "saving dir .\\features\\train\\babble\\5db\n",
      "saving dir .\\features\\train\\babble\\5db\n"
     ]
    },
    {
     "name": "stderr",
     "output_type": "stream",
     "text": [
      "\r",
      "Converting train audios:  31%|████████████████▏                                    | 1411/4620 [00:13<00:36, 88.21it/s]"
     ]
    },
    {
     "name": "stdout",
     "output_type": "stream",
     "text": [
      "saving dir .\\features\\train\\babble\\5db\n",
      "saving dir .\\features\\train\\babble\\5db\n",
      "saving dir .\\features\\train\\babble\\5db\n",
      "saving dir .\\features\\train\\babble\\5db\n",
      "saving dir .\\features\\train\\babble\\5db\n",
      "saving dir .\\features\\train\\babble\\5db\n",
      "saving dir .\\features\\train\\babble\\5db\n",
      "saving dir .\\features\\train\\babble\\5db\n",
      "saving dir .\\features\\train\\babble\\5db\n",
      "saving dir .\\features\\train\\babble\\5db\n",
      "saving dir .\\features\\train\\babble\\5db\n",
      "saving dir .\\features\\train\\babble\\5db\n",
      "saving dir .\\features\\train\\babble\\5db\n"
     ]
    },
    {
     "name": "stderr",
     "output_type": "stream",
     "text": [
      "\r",
      "Converting train audios:  31%|████████████████▎                                    | 1424/4620 [00:13<00:32, 97.47it/s]"
     ]
    },
    {
     "name": "stdout",
     "output_type": "stream",
     "text": [
      "saving dir .\\features\\train\\babble\\5db\n",
      "saving dir .\\features\\train\\babble\\5db\n",
      "saving dir .\\features\\train\\babble\\5db\n",
      "saving dir .\\features\\train\\babble\\5db\n",
      "saving dir .\\features\\train\\babble\\5db\n",
      "saving dir .\\features\\train\\babble\\5db\n",
      "saving dir .\\features\\train\\babble\\5db\n",
      "saving dir .\\features\\train\\babble\\5db\n",
      "saving dir .\\features\\train\\babble\\5db\n",
      "saving dir .\\features\\train\\babble\\5db\n",
      "saving dir .\\features\\train\\babble\\5db\n",
      "saving dir .\\features\\train\\babble\\5db\n",
      "saving dir .\\features\\train\\babble\\5db\n"
     ]
    },
    {
     "name": "stderr",
     "output_type": "stream",
     "text": [
      "\r",
      "Converting train audios:  31%|████████████████▏                                   | 1437/4620 [00:13<00:30, 103.93it/s]"
     ]
    },
    {
     "name": "stdout",
     "output_type": "stream",
     "text": [
      "saving dir .\\features\\train\\babble\\5db\n",
      "saving dir .\\features\\train\\babble\\5db\n",
      "saving dir .\\features\\train\\babble\\5db\n",
      "saving dir .\\features\\train\\babble\\5db\n",
      "saving dir .\\features\\train\\babble\\5db\n",
      "saving dir .\\features\\train\\babble\\5db\n",
      "saving dir .\\features\\train\\babble\\5db\n",
      "saving dir .\\features\\train\\babble\\5db\n",
      "saving dir .\\features\\train\\babble\\5db\n",
      "saving dir .\\features\\train\\babble\\5db\n",
      "saving dir .\\features\\train\\babble\\5db\n",
      "saving dir .\\features\\train\\babble\\5db\n",
      "saving dir .\\features\\train\\babble\\5db\n"
     ]
    },
    {
     "name": "stderr",
     "output_type": "stream",
     "text": [
      "\r",
      "Converting train audios:  31%|████████████████▎                                   | 1450/4620 [00:13<00:29, 109.27it/s]"
     ]
    },
    {
     "name": "stdout",
     "output_type": "stream",
     "text": [
      "saving dir .\\features\\train\\babble\\5db\n",
      "saving dir .\\features\\train\\babble\\5db\n",
      "saving dir .\\features\\train\\babble\\5db\n",
      "saving dir .\\features\\train\\babble\\5db\n",
      "saving dir .\\features\\train\\babble\\5db\n",
      "saving dir .\\features\\train\\babble\\5db\n",
      "saving dir .\\features\\train\\babble\\5db\n",
      "saving dir .\\features\\train\\babble\\5db\n",
      "saving dir .\\features\\train\\babble\\5db\n",
      "saving dir .\\features\\train\\babble\\5db\n",
      "saving dir .\\features\\train\\babble\\5db\n",
      "saving dir .\\features\\train\\babble\\5db\n",
      "saving dir .\\features\\train\\babble\\5db\n",
      "saving dir .\\features\\train\\babble\\5db\n"
     ]
    },
    {
     "name": "stderr",
     "output_type": "stream",
     "text": [
      "\r",
      "Converting train audios:  32%|████████████████▍                                   | 1464/4620 [00:13<00:27, 115.32it/s]"
     ]
    },
    {
     "name": "stdout",
     "output_type": "stream",
     "text": [
      "saving dir .\\features\\train\\babble\\5db\n",
      "saving dir .\\features\\train\\babble\\5db\n",
      "saving dir .\\features\\train\\babble\\5db\n",
      "saving dir .\\features\\train\\babble\\5db\n",
      "saving dir .\\features\\train\\babble\\5db\n",
      "saving dir .\\features\\train\\babble\\5db\n",
      "saving dir .\\features\\train\\babble\\5db\n",
      "saving dir .\\features\\train\\babble\\5db\n",
      "saving dir .\\features\\train\\babble\\5db\n",
      "saving dir .\\features\\train\\babble\\5db\n",
      "saving dir .\\features\\train\\babble\\5db\n",
      "saving dir .\\features\\train\\babble\\5db\n",
      "saving dir .\\features\\train\\babble\\5db\n"
     ]
    },
    {
     "name": "stderr",
     "output_type": "stream",
     "text": [
      "\r",
      "Converting train audios:  32%|████████████████▌                                   | 1477/4620 [00:13<00:27, 116.26it/s]"
     ]
    },
    {
     "name": "stdout",
     "output_type": "stream",
     "text": [
      "saving dir .\\features\\train\\babble\\5db\n",
      "saving dir .\\features\\train\\babble\\5db\n",
      "saving dir .\\features\\train\\babble\\5db\n",
      "saving dir .\\features\\train\\babble\\5db\n",
      "saving dir .\\features\\train\\babble\\5db\n",
      "saving dir .\\features\\train\\babble\\5db\n",
      "saving dir .\\features\\train\\babble\\5db\n",
      "saving dir .\\features\\train\\babble\\5db\n",
      "saving dir .\\features\\train\\babble\\5db\n",
      "saving dir .\\features\\train\\babble\\5db\n",
      "saving dir .\\features\\train\\babble\\5db\n",
      "saving dir .\\features\\train\\babble\\5db\n"
     ]
    },
    {
     "name": "stderr",
     "output_type": "stream",
     "text": [
      "\r",
      "Converting train audios:  32%|████████████████▊                                   | 1489/4620 [00:14<00:28, 108.55it/s]"
     ]
    },
    {
     "name": "stdout",
     "output_type": "stream",
     "text": [
      "saving dir .\\features\\train\\babble\\5db\n",
      "saving dir .\\features\\train\\babble\\5db\n",
      "saving dir .\\features\\train\\babble\\5db\n",
      "saving dir .\\features\\train\\babble\\5db\n",
      "saving dir .\\features\\train\\babble\\5db\n",
      "saving dir .\\features\\train\\babble\\5db\n",
      "saving dir .\\features\\train\\babble\\5db\n",
      "saving dir .\\features\\train\\babble\\5db\n",
      "saving dir .\\features\\train\\babble\\5db\n",
      "saving dir .\\features\\train\\babble\\5db\n",
      "saving dir .\\features\\train\\babble\\5db\n",
      "saving dir .\\features\\train\\babble\\5db\n"
     ]
    },
    {
     "name": "stderr",
     "output_type": "stream",
     "text": [
      "\r",
      "Converting train audios:  32%|████████████████▉                                   | 1501/4620 [00:14<00:28, 109.68it/s]"
     ]
    },
    {
     "name": "stdout",
     "output_type": "stream",
     "text": [
      "saving dir .\\features\\train\\babble\\5db\n",
      "saving dir .\\features\\train\\babble\\5db\n",
      "saving dir .\\features\\train\\babble\\5db\n",
      "saving dir .\\features\\train\\babble\\5db\n",
      "saving dir .\\features\\train\\babble\\5db\n",
      "saving dir .\\features\\train\\babble\\5db\n",
      "saving dir .\\features\\train\\babble\\5db\n",
      "saving dir .\\features\\train\\babble\\5db\n",
      "saving dir .\\features\\train\\babble\\5db\n",
      "saving dir .\\features\\train\\babble\\5db\n",
      "saving dir .\\features\\train\\babble\\5db\n",
      "saving dir .\\features\\train\\babble\\5db\n",
      "saving dir .\\features\\train\\babble\\5db\n"
     ]
    },
    {
     "name": "stderr",
     "output_type": "stream",
     "text": [
      "\r",
      "Converting train audios:  33%|█████████████████                                   | 1514/4620 [00:14<00:27, 113.36it/s]"
     ]
    },
    {
     "name": "stdout",
     "output_type": "stream",
     "text": [
      "saving dir .\\features\\train\\babble\\5db\n",
      "saving dir .\\features\\train\\babble\\5db\n",
      "saving dir .\\features\\train\\babble\\5db\n",
      "saving dir .\\features\\train\\babble\\5db\n",
      "saving dir .\\features\\train\\babble\\5db\n",
      "saving dir .\\features\\train\\babble\\5db\n",
      "saving dir .\\features\\train\\babble\\5db\n",
      "saving dir .\\features\\train\\babble\\5db\n",
      "saving dir .\\features\\train\\babble\\5db\n",
      "saving dir .\\features\\train\\babble\\5db\n",
      "saving dir .\\features\\train\\babble\\5db\n",
      "saving dir .\\features\\train\\babble\\5db\n"
     ]
    },
    {
     "name": "stderr",
     "output_type": "stream",
     "text": [
      "\r",
      "Converting train audios:  33%|█████████████████▏                                  | 1526/4620 [00:14<00:27, 113.72it/s]"
     ]
    },
    {
     "name": "stdout",
     "output_type": "stream",
     "text": [
      "saving dir .\\features\\train\\babble\\5db\n",
      "saving dir .\\features\\train\\babble\\5db\n",
      "saving dir .\\features\\train\\babble\\5db\n",
      "saving dir .\\features\\train\\babble\\5db\n",
      "saving dir .\\features\\train\\babble\\5db\n",
      "saving dir .\\features\\train\\babble\\5db\n",
      "saving dir .\\features\\train\\babble\\5db\n",
      "saving dir .\\features\\train\\babble\\5db\n",
      "saving dir .\\features\\train\\babble\\5db\n",
      "saving dir .\\features\\train\\babble\\5db\n",
      "saving dir .\\features\\train\\babble\\5db\n",
      "saving dir .\\features\\train\\babble\\5db\n"
     ]
    },
    {
     "name": "stderr",
     "output_type": "stream",
     "text": [
      "\r",
      "Converting train audios:  33%|█████████████████▎                                  | 1538/4620 [00:14<00:26, 115.29it/s]"
     ]
    },
    {
     "name": "stdout",
     "output_type": "stream",
     "text": [
      "saving dir .\\features\\train\\babble\\5db\n",
      "saving dir .\\features\\train\\babble\\5db\n",
      "saving dir .\\features\\train\\babble\\5db\n",
      "saving dir .\\features\\train\\babble\\5db\n",
      "saving dir .\\features\\train\\babble\\5db\n",
      "saving dir .\\features\\train\\babble\\5db\n",
      "saving dir .\\features\\train\\babble\\5db\n",
      "saving dir .\\features\\train\\babble\\5db\n",
      "saving dir .\\features\\train\\babble\\5db\n",
      "saving dir .\\features\\train\\babble\\5db\n",
      "saving dir .\\features\\train\\babble\\5db\n",
      "saving dir .\\features\\train\\babble\\5db\n",
      "saving dir .\\features\\train\\babble\\5db\n"
     ]
    },
    {
     "name": "stderr",
     "output_type": "stream",
     "text": [
      "\r",
      "Converting train audios:  34%|█████████████████▍                                  | 1551/4620 [00:14<00:26, 117.18it/s]"
     ]
    },
    {
     "name": "stdout",
     "output_type": "stream",
     "text": [
      "saving dir .\\features\\train\\babble\\5db\n",
      "saving dir .\\features\\train\\babble\\5db\n",
      "saving dir .\\features\\train\\babble\\5db\n",
      "saving dir .\\features\\train\\babble\\5db\n",
      "saving dir .\\features\\train\\babble\\5db\n",
      "saving dir .\\features\\train\\babble\\5db\n",
      "saving dir .\\features\\train\\babble\\5db\n",
      "saving dir .\\features\\train\\babble\\5db\n",
      "saving dir .\\features\\train\\babble\\5db\n",
      "saving dir .\\features\\train\\babble\\5db\n",
      "saving dir .\\features\\train\\babble\\5db\n",
      "saving dir .\\features\\train\\babble\\5db\n",
      "saving dir .\\features\\train\\babble\\5db\n"
     ]
    },
    {
     "name": "stderr",
     "output_type": "stream",
     "text": [
      "\r",
      "Converting train audios:  34%|█████████████████▌                                  | 1564/4620 [00:14<00:25, 119.19it/s]"
     ]
    },
    {
     "name": "stdout",
     "output_type": "stream",
     "text": [
      "saving dir .\\features\\train\\babble\\5db\n",
      "saving dir .\\features\\train\\babble\\5db\n",
      "saving dir .\\features\\train\\babble\\5db\n",
      "saving dir .\\features\\train\\babble\\5db\n",
      "saving dir .\\features\\train\\babble\\5db\n",
      "saving dir .\\features\\train\\babble\\5db\n",
      "saving dir .\\features\\train\\babble\\5db\n",
      "saving dir .\\features\\train\\babble\\5db\n",
      "saving dir .\\features\\train\\babble\\5db\n",
      "saving dir .\\features\\train\\babble\\5db\n",
      "saving dir .\\features\\train\\babble\\5db\n",
      "saving dir .\\features\\train\\babble\\5db\n"
     ]
    },
    {
     "name": "stderr",
     "output_type": "stream",
     "text": [
      "\r",
      "Converting train audios:  34%|█████████████████▋                                  | 1576/4620 [00:14<00:27, 110.32it/s]"
     ]
    },
    {
     "name": "stdout",
     "output_type": "stream",
     "text": [
      "saving dir .\\features\\train\\babble\\5db\n",
      "saving dir .\\features\\train\\babble\\5db\n",
      "saving dir .\\features\\train\\babble\\5db\n",
      "saving dir .\\features\\train\\babble\\5db\n",
      "saving dir .\\features\\train\\babble\\5db\n",
      "saving dir .\\features\\train\\babble\\5db\n",
      "saving dir .\\features\\train\\babble\\5db\n",
      "saving dir .\\features\\train\\babble\\5db\n",
      "saving dir .\\features\\train\\babble\\5db\n",
      "saving dir .\\features\\train\\babble\\5db\n",
      "saving dir .\\features\\train\\babble\\5db\n",
      "saving dir .\\features\\train\\babble\\5db\n",
      "saving dir .\\features\\train\\babble\\5db\n"
     ]
    },
    {
     "name": "stderr",
     "output_type": "stream",
     "text": [
      "\r",
      "Converting train audios:  34%|█████████████████▉                                  | 1589/4620 [00:14<00:26, 113.53it/s]"
     ]
    },
    {
     "name": "stdout",
     "output_type": "stream",
     "text": [
      "saving dir .\\features\\train\\babble\\5db\n",
      "saving dir .\\features\\train\\babble\\5db\n",
      "saving dir .\\features\\train\\babble\\5db\n",
      "saving dir .\\features\\train\\babble\\5db\n",
      "saving dir .\\features\\train\\babble\\5db\n",
      "saving dir .\\features\\train\\babble\\5db\n",
      "saving dir .\\features\\train\\babble\\5db\n",
      "saving dir .\\features\\train\\babble\\5db\n",
      "saving dir .\\features\\train\\babble\\5db\n",
      "saving dir .\\features\\train\\babble\\5db\n",
      "saving dir .\\features\\train\\babble\\5db\n",
      "saving dir .\\features\\train\\babble\\5db\n"
     ]
    },
    {
     "name": "stderr",
     "output_type": "stream",
     "text": [
      "\r",
      "Converting train audios:  35%|██████████████████                                  | 1601/4620 [00:14<00:26, 114.49it/s]"
     ]
    },
    {
     "name": "stdout",
     "output_type": "stream",
     "text": [
      "saving dir .\\features\\train\\babble\\5db\n",
      "saving dir .\\features\\train\\babble\\5db\n",
      "saving dir .\\features\\train\\babble\\5db\n",
      "saving dir .\\features\\train\\babble\\5db\n",
      "saving dir .\\features\\train\\babble\\5db\n",
      "saving dir .\\features\\train\\babble\\5db\n",
      "saving dir .\\features\\train\\babble\\5db\n",
      "saving dir .\\features\\train\\babble\\5db\n",
      "saving dir .\\features\\train\\babble\\5db\n",
      "saving dir .\\features\\train\\babble\\5db\n",
      "saving dir .\\features\\train\\babble\\5db\n",
      "saving dir .\\features\\train\\babble\\5db\n"
     ]
    },
    {
     "name": "stderr",
     "output_type": "stream",
     "text": [
      "\r",
      "Converting train audios:  35%|██████████████████▏                                 | 1613/4620 [00:15<00:26, 113.88it/s]"
     ]
    },
    {
     "name": "stdout",
     "output_type": "stream",
     "text": [
      "saving dir .\\features\\train\\babble\\5db\n",
      "saving dir .\\features\\train\\babble\\5db\n",
      "saving dir .\\features\\train\\babble\\5db\n",
      "saving dir .\\features\\train\\babble\\5db\n",
      "saving dir .\\features\\train\\babble\\5db\n",
      "saving dir .\\features\\train\\babble\\5db\n",
      "saving dir .\\features\\train\\babble\\5db\n",
      "saving dir .\\features\\train\\babble\\5db\n",
      "saving dir .\\features\\train\\babble\\5db\n",
      "saving dir .\\features\\train\\babble\\5db\n",
      "saving dir .\\features\\train\\babble\\5db\n",
      "saving dir .\\features\\train\\babble\\5db\n"
     ]
    },
    {
     "name": "stderr",
     "output_type": "stream",
     "text": [
      "\r",
      "Converting train audios:  35%|██████████████████▎                                 | 1625/4620 [00:15<00:26, 113.77it/s]"
     ]
    },
    {
     "name": "stdout",
     "output_type": "stream",
     "text": [
      "saving dir .\\features\\train\\babble\\5db\n",
      "saving dir .\\features\\train\\babble\\5db\n",
      "saving dir .\\features\\train\\babble\\5db\n",
      "saving dir .\\features\\train\\babble\\5db\n",
      "saving dir .\\features\\train\\babble\\5db\n",
      "saving dir .\\features\\train\\babble\\5db\n",
      "saving dir .\\features\\train\\babble\\5db\n",
      "saving dir .\\features\\train\\babble\\5db\n",
      "saving dir .\\features\\train\\babble\\5db\n",
      "saving dir .\\features\\train\\babble\\5db\n",
      "saving dir .\\features\\train\\babble\\5db\n",
      "saving dir .\\features\\train\\babble\\5db\n",
      "saving dir .\\features\\train\\babble\\5db\n"
     ]
    },
    {
     "name": "stderr",
     "output_type": "stream",
     "text": [
      "\r",
      "Converting train audios:  35%|██████████████████▍                                 | 1638/4620 [00:15<00:25, 116.06it/s]"
     ]
    },
    {
     "name": "stdout",
     "output_type": "stream",
     "text": [
      "saving dir .\\features\\train\\babble\\5db\n",
      "saving dir .\\features\\train\\babble\\5db\n",
      "saving dir .\\features\\train\\babble\\5db\n",
      "saving dir .\\features\\train\\babble\\5db\n",
      "saving dir .\\features\\train\\babble\\5db\n",
      "saving dir .\\features\\train\\babble\\5db\n",
      "saving dir .\\features\\train\\babble\\5db\n",
      "saving dir .\\features\\train\\babble\\5db\n",
      "saving dir .\\features\\train\\babble\\5db\n",
      "saving dir .\\features\\train\\babble\\5db\n",
      "saving dir .\\features\\train\\babble\\5db\n",
      "saving dir .\\features\\train\\babble\\5db\n",
      "saving dir .\\features\\train\\babble\\5db\n"
     ]
    },
    {
     "name": "stderr",
     "output_type": "stream",
     "text": [
      "\r",
      "Converting train audios:  36%|██████████████████▌                                 | 1651/4620 [00:15<00:25, 117.74it/s]"
     ]
    },
    {
     "name": "stdout",
     "output_type": "stream",
     "text": [
      "saving dir .\\features\\train\\babble\\5db\n",
      "saving dir .\\features\\train\\babble\\5db\n",
      "saving dir .\\features\\train\\babble\\5db\n",
      "saving dir .\\features\\train\\babble\\5db\n",
      "saving dir .\\features\\train\\babble\\5db\n",
      "saving dir .\\features\\train\\babble\\5db\n",
      "saving dir .\\features\\train\\babble\\5db\n",
      "saving dir .\\features\\train\\babble\\5db\n",
      "saving dir .\\features\\train\\babble\\5db\n",
      "saving dir .\\features\\train\\babble\\5db\n",
      "saving dir .\\features\\train\\babble\\5db\n",
      "saving dir .\\features\\train\\babble\\5db\n"
     ]
    },
    {
     "name": "stderr",
     "output_type": "stream",
     "text": [
      "\r",
      "Converting train audios:  36%|██████████████████▋                                 | 1663/4620 [00:15<00:25, 116.78it/s]"
     ]
    },
    {
     "name": "stdout",
     "output_type": "stream",
     "text": [
      "saving dir .\\features\\train\\babble\\5db\n",
      "saving dir .\\features\\train\\babble\\5db\n",
      "saving dir .\\features\\train\\babble\\5db\n",
      "saving dir .\\features\\train\\babble\\5db\n",
      "saving dir .\\features\\train\\babble\\5db\n",
      "saving dir .\\features\\train\\babble\\5db\n",
      "saving dir .\\features\\train\\babble\\5db\n",
      "saving dir .\\features\\train\\babble\\5db\n",
      "saving dir .\\features\\train\\babble\\5db\n",
      "saving dir .\\features\\train\\babble\\5db\n",
      "saving dir .\\features\\train\\babble\\5db\n",
      "saving dir .\\features\\train\\babble\\5db\n"
     ]
    },
    {
     "name": "stderr",
     "output_type": "stream",
     "text": [
      "\r",
      "Converting train audios:  36%|██████████████████▊                                 | 1675/4620 [00:15<00:25, 117.13it/s]"
     ]
    },
    {
     "name": "stdout",
     "output_type": "stream",
     "text": [
      "saving dir .\\features\\train\\babble\\5db\n",
      "saving dir .\\features\\train\\babble\\5db\n",
      "saving dir .\\features\\train\\babble\\5db\n",
      "saving dir .\\features\\train\\babble\\5db\n",
      "saving dir .\\features\\train\\babble\\5db\n",
      "saving dir .\\features\\train\\babble\\5db\n",
      "saving dir .\\features\\train\\babble\\5db\n",
      "saving dir .\\features\\train\\babble\\5db\n",
      "saving dir .\\features\\train\\babble\\5db\n",
      "saving dir .\\features\\train\\babble\\5db\n",
      "saving dir .\\features\\train\\babble\\5db\n",
      "saving dir .\\features\\train\\babble\\5db\n",
      "saving dir .\\features\\train\\babble\\5db\n"
     ]
    },
    {
     "name": "stderr",
     "output_type": "stream",
     "text": [
      "\r",
      "Converting train audios:  37%|██████████████████▉                                 | 1688/4620 [00:15<00:24, 119.48it/s]"
     ]
    },
    {
     "name": "stdout",
     "output_type": "stream",
     "text": [
      "saving dir .\\features\\train\\babble\\5db\n",
      "saving dir .\\features\\train\\babble\\5db\n",
      "saving dir .\\features\\train\\babble\\5db\n",
      "saving dir .\\features\\train\\babble\\5db\n",
      "saving dir .\\features\\train\\babble\\5db\n",
      "saving dir .\\features\\train\\babble\\5db\n",
      "saving dir .\\features\\train\\babble\\5db\n",
      "saving dir .\\features\\train\\babble\\5db\n",
      "saving dir .\\features\\train\\babble\\5db\n",
      "saving dir .\\features\\train\\babble\\5db\n",
      "saving dir .\\features\\train\\babble\\5db\n",
      "saving dir .\\features\\train\\babble\\5db\n"
     ]
    },
    {
     "name": "stderr",
     "output_type": "stream",
     "text": [
      "\r",
      "Converting train audios:  37%|███████████████████▌                                 | 1700/4620 [00:15<00:35, 82.86it/s]"
     ]
    },
    {
     "name": "stdout",
     "output_type": "stream",
     "text": [
      "saving dir .\\features\\train\\babble\\5db\n",
      "saving dir .\\features\\train\\babble\\5db\n",
      "saving dir .\\features\\train\\babble\\5db\n",
      "saving dir .\\features\\train\\babble\\5db\n",
      "saving dir .\\features\\train\\babble\\5db\n",
      "saving dir .\\features\\train\\babble\\5db\n",
      "saving dir .\\features\\train\\babble\\5db\n",
      "saving dir .\\features\\train\\babble\\5db\n",
      "saving dir .\\features\\train\\babble\\5db\n",
      "saving dir .\\features\\train\\babble\\5db\n",
      "saving dir .\\features\\train\\babble\\5db\n",
      "saving dir .\\features\\train\\babble\\5db\n"
     ]
    },
    {
     "name": "stderr",
     "output_type": "stream",
     "text": [
      "\r",
      "Converting train audios:  37%|███████████████████▋                                 | 1712/4620 [00:16<00:32, 89.86it/s]"
     ]
    },
    {
     "name": "stdout",
     "output_type": "stream",
     "text": [
      "saving dir .\\features\\train\\babble\\5db\n",
      "saving dir .\\features\\train\\babble\\5db\n",
      "saving dir .\\features\\train\\babble\\5db\n",
      "saving dir .\\features\\train\\babble\\5db\n",
      "saving dir .\\features\\train\\babble\\5db\n",
      "saving dir .\\features\\train\\babble\\5db\n",
      "saving dir .\\features\\train\\babble\\5db\n",
      "saving dir .\\features\\train\\babble\\5db\n",
      "saving dir .\\features\\train\\babble\\5db\n",
      "saving dir .\\features\\train\\babble\\5db\n",
      "saving dir .\\features\\train\\babble\\5db\n",
      "saving dir .\\features\\train\\babble\\5db\n",
      "saving dir .\\features\\train\\babble\\5db\n"
     ]
    },
    {
     "name": "stderr",
     "output_type": "stream",
     "text": [
      "\r",
      "Converting train audios:  37%|███████████████████▊                                 | 1725/4620 [00:16<00:29, 97.97it/s]"
     ]
    },
    {
     "name": "stdout",
     "output_type": "stream",
     "text": [
      "saving dir .\\features\\train\\babble\\5db\n",
      "saving dir .\\features\\train\\babble\\5db\n",
      "saving dir .\\features\\train\\babble\\5db\n",
      "saving dir .\\features\\train\\babble\\5db\n",
      "saving dir .\\features\\train\\babble\\5db\n",
      "saving dir .\\features\\train\\babble\\5db\n",
      "saving dir .\\features\\train\\babble\\5db\n",
      "saving dir .\\features\\train\\babble\\5db\n",
      "saving dir .\\features\\train\\babble\\5db\n",
      "saving dir .\\features\\train\\babble\\5db\n",
      "saving dir .\\features\\train\\babble\\5db\n",
      "saving dir .\\features\\train\\babble\\5db\n"
     ]
    },
    {
     "name": "stderr",
     "output_type": "stream",
     "text": [
      "\r",
      "Converting train audios:  38%|███████████████████▌                                | 1737/4620 [00:16<00:28, 102.43it/s]"
     ]
    },
    {
     "name": "stdout",
     "output_type": "stream",
     "text": [
      "saving dir .\\features\\train\\babble\\5db\n",
      "saving dir .\\features\\train\\babble\\5db\n",
      "saving dir .\\features\\train\\babble\\5db\n",
      "saving dir .\\features\\train\\babble\\5db\n",
      "saving dir .\\features\\train\\babble\\5db\n",
      "saving dir .\\features\\train\\babble\\5db\n",
      "saving dir .\\features\\train\\babble\\5db\n",
      "saving dir .\\features\\train\\babble\\5db\n",
      "saving dir .\\features\\train\\babble\\5db\n",
      "saving dir .\\features\\train\\babble\\5db\n",
      "saving dir .\\features\\train\\babble\\5db\n",
      "saving dir .\\features\\train\\babble\\5db\n"
     ]
    },
    {
     "name": "stderr",
     "output_type": "stream",
     "text": [
      "\r",
      "Converting train audios:  38%|███████████████████▋                                | 1749/4620 [00:16<00:27, 105.53it/s]"
     ]
    },
    {
     "name": "stdout",
     "output_type": "stream",
     "text": [
      "saving dir .\\features\\train\\babble\\5db\n",
      "saving dir .\\features\\train\\babble\\5db\n",
      "saving dir .\\features\\train\\babble\\5db\n",
      "saving dir .\\features\\train\\babble\\5db\n",
      "saving dir .\\features\\train\\babble\\5db\n",
      "saving dir .\\features\\train\\babble\\5db\n",
      "saving dir .\\features\\train\\babble\\5db\n",
      "saving dir .\\features\\train\\babble\\5db\n",
      "saving dir .\\features\\train\\babble\\5db\n",
      "saving dir .\\features\\train\\babble\\5db\n",
      "saving dir .\\features\\train\\babble\\5db\n",
      "saving dir .\\features\\train\\babble\\5db\n",
      "saving dir .\\features\\train\\babble\\5db\n"
     ]
    },
    {
     "name": "stderr",
     "output_type": "stream",
     "text": [
      "\r",
      "Converting train audios:  38%|███████████████████▊                                | 1762/4620 [00:16<00:25, 110.50it/s]"
     ]
    },
    {
     "name": "stdout",
     "output_type": "stream",
     "text": [
      "saving dir .\\features\\train\\babble\\5db\n",
      "saving dir .\\features\\train\\babble\\5db\n",
      "saving dir .\\features\\train\\babble\\5db\n",
      "saving dir .\\features\\train\\babble\\5db\n",
      "saving dir .\\features\\train\\babble\\5db\n",
      "saving dir .\\features\\train\\babble\\5db\n",
      "saving dir .\\features\\train\\babble\\5db\n",
      "saving dir .\\features\\train\\babble\\5db\n",
      "saving dir .\\features\\train\\babble\\5db\n",
      "saving dir .\\features\\train\\babble\\5db\n",
      "saving dir .\\features\\train\\babble\\5db\n",
      "saving dir .\\features\\train\\babble\\5db\n"
     ]
    },
    {
     "name": "stderr",
     "output_type": "stream",
     "text": [
      "\r",
      "Converting train audios:  38%|███████████████████▉                                | 1774/4620 [00:16<00:25, 112.32it/s]"
     ]
    },
    {
     "name": "stdout",
     "output_type": "stream",
     "text": [
      "saving dir .\\features\\train\\babble\\5db\n",
      "saving dir .\\features\\train\\babble\\5db\n",
      "saving dir .\\features\\train\\babble\\5db\n",
      "saving dir .\\features\\train\\babble\\5db\n",
      "saving dir .\\features\\train\\babble\\5db\n",
      "saving dir .\\features\\train\\babble\\5db\n",
      "saving dir .\\features\\train\\babble\\5db\n",
      "saving dir .\\features\\train\\babble\\5db\n",
      "saving dir .\\features\\train\\babble\\5db\n",
      "saving dir .\\features\\train\\babble\\5db\n",
      "saving dir .\\features\\train\\babble\\5db\n",
      "saving dir .\\features\\train\\babble\\5db\n"
     ]
    },
    {
     "name": "stderr",
     "output_type": "stream",
     "text": [
      "\r",
      "Converting train audios:  39%|████████████████████▍                                | 1786/4620 [00:16<00:32, 88.15it/s]"
     ]
    },
    {
     "name": "stdout",
     "output_type": "stream",
     "text": [
      "saving dir .\\features\\train\\babble\\5db\n",
      "saving dir .\\features\\train\\babble\\5db\n",
      "saving dir .\\features\\train\\babble\\5db\n",
      "saving dir .\\features\\train\\babble\\5db\n",
      "saving dir .\\features\\train\\babble\\5db\n",
      "saving dir .\\features\\train\\babble\\5db\n",
      "saving dir .\\features\\train\\babble\\5db\n",
      "saving dir .\\features\\train\\babble\\5db\n",
      "saving dir .\\features\\train\\babble\\5db\n",
      "saving dir .\\features\\train\\babble\\5db\n",
      "saving dir .\\features\\train\\babble\\5db\n",
      "saving dir .\\features\\train\\babble\\5db\n"
     ]
    },
    {
     "name": "stderr",
     "output_type": "stream",
     "text": [
      "\r",
      "Converting train audios:  39%|████████████████████▋                                | 1798/4620 [00:16<00:29, 94.49it/s]"
     ]
    },
    {
     "name": "stdout",
     "output_type": "stream",
     "text": [
      "saving dir .\\features\\train\\babble\\5db\n",
      "saving dir .\\features\\train\\babble\\5db\n",
      "saving dir .\\features\\train\\babble\\5db\n",
      "saving dir .\\features\\train\\babble\\5db\n",
      "saving dir .\\features\\train\\babble\\5db\n",
      "saving dir .\\features\\train\\babble\\5db\n",
      "saving dir .\\features\\train\\babble\\5db\n",
      "saving dir .\\features\\train\\babble\\5db\n",
      "saving dir .\\features\\train\\babble\\5db\n",
      "saving dir .\\features\\train\\babble\\5db\n",
      "saving dir .\\features\\train\\babble\\5db\n",
      "saving dir .\\features\\train\\babble\\5db\n",
      "saving dir .\\features\\train\\babble\\5db\n"
     ]
    },
    {
     "name": "stderr",
     "output_type": "stream",
     "text": [
      "\r",
      "Converting train audios:  39%|████████████████████▍                               | 1811/4620 [00:17<00:27, 101.07it/s]"
     ]
    },
    {
     "name": "stdout",
     "output_type": "stream",
     "text": [
      "saving dir .\\features\\train\\babble\\5db\n",
      "saving dir .\\features\\train\\babble\\5db\n",
      "saving dir .\\features\\train\\babble\\5db\n",
      "saving dir .\\features\\train\\babble\\5db\n",
      "saving dir .\\features\\train\\babble\\5db\n",
      "saving dir .\\features\\train\\babble\\5db\n",
      "saving dir .\\features\\train\\babble\\5db\n",
      "saving dir .\\features\\train\\babble\\5db\n",
      "saving dir .\\features\\train\\babble\\5db\n",
      "saving dir .\\features\\train\\babble\\5db\n",
      "saving dir .\\features\\train\\babble\\5db\n"
     ]
    },
    {
     "name": "stderr",
     "output_type": "stream",
     "text": [
      "\r",
      "Converting train audios:  39%|████████████████████▉                                | 1822/4620 [00:17<00:30, 91.31it/s]"
     ]
    },
    {
     "name": "stdout",
     "output_type": "stream",
     "text": [
      "saving dir .\\features\\train\\babble\\5db\n",
      "saving dir .\\features\\train\\babble\\5db\n",
      "saving dir .\\features\\train\\babble\\5db\n",
      "saving dir .\\features\\train\\babble\\5db\n",
      "saving dir .\\features\\train\\babble\\5db\n",
      "saving dir .\\features\\train\\babble\\5db\n",
      "saving dir .\\features\\train\\babble\\5db\n",
      "saving dir .\\features\\train\\babble\\5db\n",
      "saving dir .\\features\\train\\babble\\5db\n",
      "saving dir .\\features\\train\\babble\\5db\n",
      "saving dir .\\features\\train\\babble\\5db\n",
      "saving dir .\\features\\train\\babble\\5db\n"
     ]
    },
    {
     "name": "stderr",
     "output_type": "stream",
     "text": [
      "\r",
      "Converting train audios:  40%|█████████████████████                                | 1834/4620 [00:17<00:28, 97.71it/s]"
     ]
    },
    {
     "name": "stdout",
     "output_type": "stream",
     "text": [
      "saving dir .\\features\\train\\babble\\5db\n",
      "saving dir .\\features\\train\\babble\\5db\n",
      "saving dir .\\features\\train\\babble\\5db\n",
      "saving dir .\\features\\train\\babble\\5db\n",
      "saving dir .\\features\\train\\babble\\5db\n",
      "saving dir .\\features\\train\\babble\\5db\n",
      "saving dir .\\features\\train\\babble\\5db\n",
      "saving dir .\\features\\train\\babble\\5db\n",
      "saving dir .\\features\\train\\babble\\5db\n",
      "saving dir .\\features\\train\\babble\\5db\n",
      "saving dir .\\features\\train\\babble\\5db\n",
      "saving dir .\\features\\train\\babble\\5db\n",
      "saving dir .\\features\\train\\babble\\5db\n"
     ]
    },
    {
     "name": "stderr",
     "output_type": "stream",
     "text": [
      "\r",
      "Converting train audios:  40%|████████████████████▊                               | 1847/4620 [00:17<00:26, 104.38it/s]"
     ]
    },
    {
     "name": "stdout",
     "output_type": "stream",
     "text": [
      "saving dir .\\features\\train\\babble\\5db\n",
      "saving dir .\\features\\train\\babble\\5db\n",
      "saving dir .\\features\\train\\babble\\5db\n",
      "saving dir .\\features\\train\\babble\\5db\n",
      "saving dir .\\features\\train\\babble\\5db\n",
      "saving dir .\\features\\train\\babble\\5db\n",
      "saving dir .\\features\\train\\babble\\5db\n",
      "saving dir .\\features\\train\\babble\\5db\n",
      "saving dir .\\features\\train\\babble\\5db\n",
      "saving dir .\\features\\train\\babble\\5db\n",
      "saving dir .\\features\\train\\babble\\5db\n",
      "saving dir .\\features\\train\\babble\\5db\n",
      "saving dir .\\features\\train\\babble\\5db\n"
     ]
    },
    {
     "name": "stderr",
     "output_type": "stream",
     "text": [
      "\r",
      "Converting train audios:  40%|████████████████████▉                               | 1860/4620 [00:17<00:25, 109.62it/s]"
     ]
    },
    {
     "name": "stdout",
     "output_type": "stream",
     "text": [
      "saving dir .\\features\\train\\babble\\5db\n",
      "saving dir .\\features\\train\\babble\\5db\n",
      "saving dir .\\features\\train\\babble\\5db\n",
      "saving dir .\\features\\train\\babble\\5db\n",
      "saving dir .\\features\\train\\babble\\5db\n",
      "saving dir .\\features\\train\\babble\\5db\n",
      "saving dir .\\features\\train\\babble\\5db\n",
      "saving dir .\\features\\train\\babble\\5db\n",
      "saving dir .\\features\\train\\babble\\5db\n",
      "saving dir .\\features\\train\\babble\\5db\n",
      "saving dir .\\features\\train\\babble\\5db\n",
      "saving dir .\\features\\train\\babble\\5db\n",
      "saving dir .\\features\\train\\babble\\5db\n"
     ]
    },
    {
     "name": "stderr",
     "output_type": "stream",
     "text": [
      "\r",
      "Converting train audios:  41%|█████████████████████                               | 1873/4620 [00:17<00:24, 113.89it/s]"
     ]
    },
    {
     "name": "stdout",
     "output_type": "stream",
     "text": [
      "saving dir .\\features\\train\\babble\\5db\n",
      "saving dir .\\features\\train\\babble\\5db\n",
      "saving dir .\\features\\train\\babble\\5db\n",
      "saving dir .\\features\\train\\babble\\5db\n",
      "saving dir .\\features\\train\\babble\\5db\n",
      "saving dir .\\features\\train\\babble\\5db\n",
      "saving dir .\\features\\train\\babble\\5db\n",
      "saving dir .\\features\\train\\babble\\5db\n",
      "saving dir .\\features\\train\\babble\\5db\n",
      "saving dir .\\features\\train\\babble\\5db\n",
      "saving dir .\\features\\train\\babble\\5db\n",
      "saving dir .\\features\\train\\babble\\5db\n"
     ]
    },
    {
     "name": "stderr",
     "output_type": "stream",
     "text": [
      "\r",
      "Converting train audios:  41%|█████████████████████▏                              | 1885/4620 [00:17<00:25, 107.66it/s]"
     ]
    },
    {
     "name": "stdout",
     "output_type": "stream",
     "text": [
      "saving dir .\\features\\train\\babble\\5db\n",
      "saving dir .\\features\\train\\babble\\5db\n",
      "saving dir .\\features\\train\\babble\\5db\n",
      "saving dir .\\features\\train\\babble\\5db\n",
      "saving dir .\\features\\train\\babble\\5db\n",
      "saving dir .\\features\\train\\babble\\5db\n",
      "saving dir .\\features\\train\\babble\\5db\n",
      "saving dir .\\features\\train\\babble\\5db\n",
      "saving dir .\\features\\train\\babble\\5db\n",
      "saving dir .\\features\\train\\babble\\5db\n",
      "saving dir .\\features\\train\\babble\\5db\n",
      "saving dir .\\features\\train\\babble\\5db\n"
     ]
    },
    {
     "name": "stderr",
     "output_type": "stream",
     "text": [
      "\r",
      "Converting train audios:  41%|█████████████████████▎                              | 1897/4620 [00:17<00:24, 110.68it/s]"
     ]
    },
    {
     "name": "stdout",
     "output_type": "stream",
     "text": [
      "saving dir .\\features\\train\\babble\\5db\n",
      "saving dir .\\features\\train\\babble\\5db\n",
      "saving dir .\\features\\train\\babble\\5db\n",
      "saving dir .\\features\\train\\babble\\5db\n",
      "saving dir .\\features\\train\\babble\\5db\n",
      "saving dir .\\features\\train\\babble\\5db\n",
      "saving dir .\\features\\train\\babble\\5db\n",
      "saving dir .\\features\\train\\babble\\5db\n",
      "saving dir .\\features\\train\\babble\\5db\n",
      "saving dir .\\features\\train\\babble\\5db\n",
      "saving dir .\\features\\train\\babble\\5db\n",
      "saving dir .\\features\\train\\babble\\5db\n"
     ]
    },
    {
     "name": "stderr",
     "output_type": "stream",
     "text": [
      "\r",
      "Converting train audios:  41%|█████████████████████▉                               | 1909/4620 [00:18<00:32, 83.72it/s]"
     ]
    },
    {
     "name": "stdout",
     "output_type": "stream",
     "text": [
      "saving dir .\\features\\train\\babble\\5db\n",
      "saving dir .\\features\\train\\babble\\5db\n",
      "saving dir .\\features\\train\\babble\\5db\n",
      "saving dir .\\features\\train\\babble\\5db\n",
      "saving dir .\\features\\train\\babble\\5db\n",
      "saving dir .\\features\\train\\babble\\5db\n",
      "saving dir .\\features\\train\\babble\\5db\n",
      "saving dir .\\features\\train\\babble\\5db\n",
      "saving dir .\\features\\train\\babble\\5db\n",
      "saving dir .\\features\\train\\babble\\5db\n",
      "saving dir .\\features\\train\\babble\\5db\n",
      "saving dir .\\features\\train\\babble\\5db\n",
      "saving dir .\\features\\train\\babble\\5db\n"
     ]
    },
    {
     "name": "stderr",
     "output_type": "stream",
     "text": [
      "\r",
      "Converting train audios:  42%|██████████████████████                               | 1922/4620 [00:18<00:29, 92.98it/s]"
     ]
    },
    {
     "name": "stdout",
     "output_type": "stream",
     "text": [
      "saving dir .\\features\\train\\babble\\5db\n",
      "saving dir .\\features\\train\\babble\\5db\n",
      "saving dir .\\features\\train\\babble\\5db\n",
      "saving dir .\\features\\train\\babble\\5db\n",
      "saving dir .\\features\\train\\babble\\5db\n",
      "saving dir .\\features\\train\\babble\\5db\n",
      "saving dir .\\features\\train\\babble\\5db\n",
      "saving dir .\\features\\train\\babble\\5db\n",
      "saving dir .\\features\\train\\babble\\5db\n",
      "saving dir .\\features\\train\\babble\\5db\n",
      "saving dir .\\features\\train\\babble\\5db\n",
      "saving dir .\\features\\train\\babble\\5db\n"
     ]
    },
    {
     "name": "stderr",
     "output_type": "stream",
     "text": [
      "\r",
      "Converting train audios:  42%|██████████████████████▏                              | 1934/4620 [00:18<00:27, 99.05it/s]"
     ]
    },
    {
     "name": "stdout",
     "output_type": "stream",
     "text": [
      "saving dir .\\features\\train\\babble\\5db\n",
      "saving dir .\\features\\train\\babble\\5db\n",
      "saving dir .\\features\\train\\babble\\5db\n",
      "saving dir .\\features\\train\\babble\\5db\n",
      "saving dir .\\features\\train\\babble\\5db\n",
      "saving dir .\\features\\train\\babble\\5db\n",
      "saving dir .\\features\\train\\babble\\5db\n",
      "saving dir .\\features\\train\\babble\\5db\n",
      "saving dir .\\features\\train\\babble\\5db\n",
      "saving dir .\\features\\train\\babble\\5db\n",
      "saving dir .\\features\\train\\babble\\5db\n",
      "saving dir .\\features\\train\\babble\\5db\n",
      "saving dir .\\features\\train\\babble\\5db\n"
     ]
    },
    {
     "name": "stderr",
     "output_type": "stream",
     "text": [
      "\r",
      "Converting train audios:  42%|█████████████████████▉                              | 1947/4620 [00:18<00:25, 105.95it/s]"
     ]
    },
    {
     "name": "stdout",
     "output_type": "stream",
     "text": [
      "saving dir .\\features\\train\\babble\\5db\n",
      "saving dir .\\features\\train\\babble\\5db\n",
      "saving dir .\\features\\train\\babble\\5db\n",
      "saving dir .\\features\\train\\babble\\5db\n",
      "saving dir .\\features\\train\\babble\\5db\n",
      "saving dir .\\features\\train\\babble\\5db\n",
      "saving dir .\\features\\train\\babble\\5db\n",
      "saving dir .\\features\\train\\babble\\5db\n",
      "saving dir .\\features\\train\\babble\\5db\n",
      "saving dir .\\features\\train\\babble\\5db\n",
      "saving dir .\\features\\train\\babble\\5db\n",
      "saving dir .\\features\\train\\babble\\5db\n"
     ]
    },
    {
     "name": "stderr",
     "output_type": "stream",
     "text": [
      "\r",
      "Converting train audios:  42%|██████████████████████                              | 1959/4620 [00:18<00:24, 108.70it/s]"
     ]
    },
    {
     "name": "stdout",
     "output_type": "stream",
     "text": [
      "saving dir .\\features\\train\\babble\\5db\n",
      "saving dir .\\features\\train\\babble\\5db\n",
      "saving dir .\\features\\train\\babble\\5db\n",
      "saving dir .\\features\\train\\babble\\5db\n",
      "saving dir .\\features\\train\\babble\\5db\n",
      "saving dir .\\features\\train\\babble\\5db\n",
      "saving dir .\\features\\train\\babble\\5db\n",
      "saving dir .\\features\\train\\babble\\5db\n",
      "saving dir .\\features\\train\\babble\\5db\n",
      "saving dir .\\features\\train\\babble\\5db\n",
      "saving dir .\\features\\train\\babble\\5db\n",
      "saving dir .\\features\\train\\babble\\5db\n"
     ]
    },
    {
     "name": "stderr",
     "output_type": "stream",
     "text": [
      "\r",
      "Converting train audios:  43%|██████████████████████▏                             | 1971/4620 [00:18<00:23, 111.63it/s]"
     ]
    },
    {
     "name": "stdout",
     "output_type": "stream",
     "text": [
      "saving dir .\\features\\train\\babble\\5db\n",
      "saving dir .\\features\\train\\babble\\5db\n",
      "saving dir .\\features\\train\\babble\\5db\n",
      "saving dir .\\features\\train\\babble\\5db\n",
      "saving dir .\\features\\train\\babble\\5db\n",
      "saving dir .\\features\\train\\babble\\5db\n",
      "saving dir .\\features\\train\\babble\\5db\n",
      "saving dir .\\features\\train\\babble\\5db\n",
      "saving dir .\\features\\train\\babble\\5db\n",
      "saving dir .\\features\\train\\babble\\5db\n",
      "saving dir .\\features\\train\\babble\\5db\n",
      "saving dir .\\features\\train\\babble\\5db\n"
     ]
    },
    {
     "name": "stderr",
     "output_type": "stream",
     "text": [
      "\r",
      "Converting train audios:  43%|██████████████████████▎                             | 1983/4620 [00:18<00:23, 112.50it/s]"
     ]
    },
    {
     "name": "stdout",
     "output_type": "stream",
     "text": [
      "saving dir .\\features\\train\\babble\\5db\n",
      "saving dir .\\features\\train\\babble\\5db\n",
      "saving dir .\\features\\train\\babble\\5db\n",
      "saving dir .\\features\\train\\babble\\5db\n",
      "saving dir .\\features\\train\\babble\\5db\n",
      "saving dir .\\features\\train\\babble\\5db\n",
      "saving dir .\\features\\train\\babble\\5db\n",
      "saving dir .\\features\\train\\babble\\5db\n",
      "saving dir .\\features\\train\\babble\\5db\n",
      "saving dir .\\features\\train\\babble\\5db\n",
      "saving dir .\\features\\train\\babble\\5db\n",
      "saving dir .\\features\\train\\babble\\5db\n"
     ]
    },
    {
     "name": "stderr",
     "output_type": "stream",
     "text": [
      "\r",
      "Converting train audios:  43%|██████████████████████▍                             | 1995/4620 [00:18<00:22, 114.41it/s]"
     ]
    },
    {
     "name": "stdout",
     "output_type": "stream",
     "text": [
      "saving dir .\\features\\train\\babble\\5db\n",
      "saving dir .\\features\\train\\babble\\5db\n",
      "saving dir .\\features\\train\\babble\\5db\n",
      "saving dir .\\features\\train\\babble\\5db\n",
      "saving dir .\\features\\train\\babble\\5db\n",
      "saving dir .\\features\\train\\babble\\5db\n",
      "saving dir .\\features\\train\\babble\\5db\n",
      "saving dir .\\features\\train\\babble\\5db\n",
      "saving dir .\\features\\train\\babble\\5db\n",
      "saving dir .\\features\\train\\babble\\5db\n",
      "saving dir .\\features\\train\\babble\\5db\n",
      "saving dir .\\features\\train\\babble\\5db\n",
      "saving dir .\\features\\train\\babble\\5db\n"
     ]
    },
    {
     "name": "stderr",
     "output_type": "stream",
     "text": [
      "\r",
      "Converting train audios:  43%|██████████████████████▌                             | 2008/4620 [00:18<00:22, 118.44it/s]"
     ]
    },
    {
     "name": "stdout",
     "output_type": "stream",
     "text": [
      "saving dir .\\features\\train\\babble\\5db\n",
      "saving dir .\\features\\train\\babble\\5db\n",
      "saving dir .\\features\\train\\babble\\5db\n",
      "saving dir .\\features\\train\\babble\\5db\n",
      "saving dir .\\features\\train\\babble\\5db\n",
      "saving dir .\\features\\train\\babble\\5db\n",
      "saving dir .\\features\\train\\babble\\5db\n",
      "saving dir .\\features\\train\\babble\\5db\n",
      "saving dir .\\features\\train\\babble\\5db\n",
      "saving dir .\\features\\train\\babble\\5db\n",
      "saving dir .\\features\\train\\babble\\5db\n",
      "saving dir .\\features\\train\\babble\\5db\n",
      "saving dir .\\features\\train\\babble\\5db\n"
     ]
    },
    {
     "name": "stderr",
     "output_type": "stream",
     "text": [
      "\r",
      "Converting train audios:  44%|██████████████████████▋                             | 2021/4620 [00:18<00:23, 111.19it/s]"
     ]
    },
    {
     "name": "stdout",
     "output_type": "stream",
     "text": [
      "saving dir .\\features\\train\\babble\\5db\n",
      "saving dir .\\features\\train\\babble\\5db\n",
      "saving dir .\\features\\train\\babble\\5db\n",
      "saving dir .\\features\\train\\babble\\5db\n",
      "saving dir .\\features\\train\\babble\\5db\n",
      "saving dir .\\features\\train\\babble\\5db\n",
      "saving dir .\\features\\train\\babble\\5db\n",
      "saving dir .\\features\\train\\babble\\5db\n",
      "saving dir .\\features\\train\\babble\\5db\n",
      "saving dir .\\features\\train\\babble\\5db\n",
      "saving dir .\\features\\train\\babble\\5db\n",
      "saving dir .\\features\\train\\babble\\5db\n"
     ]
    },
    {
     "name": "stderr",
     "output_type": "stream",
     "text": [
      "\r",
      "Converting train audios:  44%|██████████████████████▉                             | 2033/4620 [00:19<00:22, 112.82it/s]"
     ]
    },
    {
     "name": "stdout",
     "output_type": "stream",
     "text": [
      "saving dir .\\features\\train\\babble\\5db\n",
      "saving dir .\\features\\train\\babble\\5db\n",
      "saving dir .\\features\\train\\babble\\5db\n",
      "saving dir .\\features\\train\\babble\\5db\n",
      "saving dir .\\features\\train\\babble\\5db\n",
      "saving dir .\\features\\train\\babble\\5db\n",
      "saving dir .\\features\\train\\babble\\5db\n",
      "saving dir .\\features\\train\\babble\\5db\n",
      "saving dir .\\features\\train\\babble\\5db\n",
      "saving dir .\\features\\train\\babble\\5db\n",
      "saving dir .\\features\\train\\babble\\5db\n",
      "saving dir .\\features\\train\\babble\\5db\n"
     ]
    },
    {
     "name": "stderr",
     "output_type": "stream",
     "text": [
      "\r",
      "Converting train audios:  44%|███████████████████████▍                             | 2045/4620 [00:19<00:34, 73.75it/s]"
     ]
    },
    {
     "name": "stdout",
     "output_type": "stream",
     "text": [
      "saving dir .\\features\\train\\babble\\5db\n",
      "saving dir .\\features\\train\\babble\\5db\n",
      "saving dir .\\features\\train\\babble\\5db\n",
      "saving dir .\\features\\train\\babble\\5db\n",
      "saving dir .\\features\\train\\babble\\5db\n",
      "saving dir .\\features\\train\\babble\\5db\n",
      "saving dir .\\features\\train\\babble\\5db\n",
      "saving dir .\\features\\train\\babble\\5db\n",
      "saving dir .\\features\\train\\babble\\5db\n",
      "saving dir .\\features\\train\\babble\\5db\n",
      "saving dir .\\features\\train\\babble\\5db\n",
      "saving dir .\\features\\train\\babble\\5db\n"
     ]
    },
    {
     "name": "stderr",
     "output_type": "stream",
     "text": [
      "\r",
      "Converting train audios:  45%|███████████████████████▌                             | 2057/4620 [00:19<00:30, 83.07it/s]"
     ]
    },
    {
     "name": "stdout",
     "output_type": "stream",
     "text": [
      "saving dir .\\features\\train\\babble\\5db\n",
      "saving dir .\\features\\train\\babble\\5db\n",
      "saving dir .\\features\\train\\babble\\5db\n",
      "saving dir .\\features\\train\\babble\\5db\n",
      "saving dir .\\features\\train\\babble\\5db\n",
      "saving dir .\\features\\train\\babble\\5db\n",
      "saving dir .\\features\\train\\babble\\5db\n",
      "saving dir .\\features\\train\\babble\\5db\n",
      "saving dir .\\features\\train\\babble\\5db\n",
      "saving dir .\\features\\train\\babble\\5db\n",
      "saving dir .\\features\\train\\babble\\5db\n",
      "saving dir .\\features\\train\\babble\\5db\n"
     ]
    },
    {
     "name": "stderr",
     "output_type": "stream",
     "text": [
      "\r",
      "Converting train audios:  45%|███████████████████████▋                             | 2069/4620 [00:19<00:27, 91.16it/s]"
     ]
    },
    {
     "name": "stdout",
     "output_type": "stream",
     "text": [
      "saving dir .\\features\\train\\babble\\5db\n",
      "saving dir .\\features\\train\\babble\\5db\n",
      "saving dir .\\features\\train\\babble\\5db\n",
      "saving dir .\\features\\train\\babble\\5db\n",
      "saving dir .\\features\\train\\babble\\5db\n",
      "saving dir .\\features\\train\\babble\\5db\n",
      "saving dir .\\features\\train\\babble\\5db\n",
      "saving dir .\\features\\train\\babble\\5db\n",
      "saving dir .\\features\\train\\babble\\5db\n",
      "saving dir .\\features\\train\\babble\\5db\n",
      "saving dir .\\features\\train\\babble\\5db\n",
      "saving dir .\\features\\train\\babble\\5db\n"
     ]
    },
    {
     "name": "stderr",
     "output_type": "stream",
     "text": [
      "\r",
      "Converting train audios:  45%|███████████████████████▊                             | 2081/4620 [00:19<00:25, 98.07it/s]"
     ]
    },
    {
     "name": "stdout",
     "output_type": "stream",
     "text": [
      "saving dir .\\features\\train\\babble\\5db\n",
      "saving dir .\\features\\train\\babble\\5db\n",
      "saving dir .\\features\\train\\babble\\5db\n",
      "saving dir .\\features\\train\\babble\\5db\n",
      "saving dir .\\features\\train\\babble\\5db\n",
      "saving dir .\\features\\train\\babble\\5db\n",
      "saving dir .\\features\\train\\babble\\5db\n",
      "saving dir .\\features\\train\\babble\\5db\n",
      "saving dir .\\features\\train\\babble\\5db\n",
      "saving dir .\\features\\train\\babble\\5db\n",
      "saving dir .\\features\\train\\babble\\5db\n",
      "saving dir .\\features\\train\\babble\\5db\n"
     ]
    },
    {
     "name": "stderr",
     "output_type": "stream",
     "text": [
      "\r",
      "Converting train audios:  45%|███████████████████████▌                            | 2093/4620 [00:19<00:24, 102.24it/s]"
     ]
    },
    {
     "name": "stdout",
     "output_type": "stream",
     "text": [
      "saving dir .\\features\\train\\babble\\5db\n",
      "saving dir .\\features\\train\\babble\\5db\n",
      "saving dir .\\features\\train\\babble\\5db\n",
      "saving dir .\\features\\train\\babble\\5db\n",
      "saving dir .\\features\\train\\babble\\5db\n",
      "saving dir .\\features\\train\\babble\\5db\n",
      "saving dir .\\features\\train\\babble\\5db\n",
      "saving dir .\\features\\train\\babble\\5db\n",
      "saving dir .\\features\\train\\babble\\5db\n",
      "saving dir .\\features\\train\\babble\\5db\n",
      "saving dir .\\features\\train\\babble\\5db\n",
      "saving dir .\\features\\train\\babble\\5db\n"
     ]
    },
    {
     "name": "stderr",
     "output_type": "stream",
     "text": [
      "\r",
      "Converting train audios:  46%|███████████████████████▋                            | 2105/4620 [00:19<00:23, 105.38it/s]"
     ]
    },
    {
     "name": "stdout",
     "output_type": "stream",
     "text": [
      "saving dir .\\features\\train\\babble\\5db\n",
      "saving dir .\\features\\train\\babble\\5db\n",
      "saving dir .\\features\\train\\babble\\5db\n",
      "saving dir .\\features\\train\\babble\\5db\n",
      "saving dir .\\features\\train\\babble\\5db\n",
      "saving dir .\\features\\train\\babble\\5db\n",
      "saving dir .\\features\\train\\babble\\5db\n",
      "saving dir .\\features\\train\\babble\\5db\n",
      "saving dir .\\features\\train\\babble\\5db\n",
      "saving dir .\\features\\train\\babble\\5db\n",
      "saving dir .\\features\\train\\babble\\5db\n",
      "saving dir .\\features\\train\\babble\\5db\n"
     ]
    },
    {
     "name": "stderr",
     "output_type": "stream",
     "text": [
      "\r",
      "Converting train audios:  46%|███████████████████████▊                            | 2117/4620 [00:20<00:23, 108.27it/s]"
     ]
    },
    {
     "name": "stdout",
     "output_type": "stream",
     "text": [
      "saving dir .\\features\\train\\babble\\5db\n",
      "saving dir .\\features\\train\\babble\\5db\n",
      "saving dir .\\features\\train\\babble\\5db\n",
      "saving dir .\\features\\train\\babble\\5db\n",
      "saving dir .\\features\\train\\babble\\5db\n",
      "saving dir .\\features\\train\\babble\\5db\n",
      "saving dir .\\features\\train\\babble\\5db\n",
      "saving dir .\\features\\train\\babble\\5db\n",
      "saving dir .\\features\\train\\babble\\5db\n",
      "saving dir .\\features\\train\\babble\\5db\n",
      "saving dir .\\features\\train\\babble\\5db\n",
      "saving dir .\\features\\train\\babble\\5db\n",
      "saving dir .\\features\\train\\babble\\5db\n"
     ]
    },
    {
     "name": "stderr",
     "output_type": "stream",
     "text": [
      "\r",
      "Converting train audios:  46%|███████████████████████▉                            | 2130/4620 [00:20<00:22, 112.59it/s]"
     ]
    },
    {
     "name": "stdout",
     "output_type": "stream",
     "text": [
      "saving dir .\\features\\train\\babble\\5db\n",
      "saving dir .\\features\\train\\babble\\5db\n",
      "saving dir .\\features\\train\\babble\\5db\n",
      "saving dir .\\features\\train\\babble\\5db\n",
      "saving dir .\\features\\train\\babble\\5db\n",
      "saving dir .\\features\\train\\babble\\5db\n",
      "saving dir .\\features\\train\\babble\\5db\n",
      "saving dir .\\features\\train\\babble\\5db\n",
      "saving dir .\\features\\train\\babble\\5db\n",
      "saving dir .\\features\\train\\babble\\5db\n",
      "saving dir .\\features\\train\\babble\\5db\n",
      "saving dir .\\features\\train\\babble\\5db\n"
     ]
    },
    {
     "name": "stderr",
     "output_type": "stream",
     "text": [
      "\r",
      "Converting train audios:  46%|████████████████████████                            | 2142/4620 [00:20<00:21, 114.15it/s]"
     ]
    },
    {
     "name": "stdout",
     "output_type": "stream",
     "text": [
      "saving dir .\\features\\train\\babble\\5db\n",
      "saving dir .\\features\\train\\babble\\5db\n",
      "saving dir .\\features\\train\\babble\\5db\n",
      "saving dir .\\features\\train\\babble\\5db\n",
      "saving dir .\\features\\train\\babble\\5db\n",
      "saving dir .\\features\\train\\babble\\5db\n",
      "saving dir .\\features\\train\\babble\\5db\n",
      "saving dir .\\features\\train\\babble\\5db\n",
      "saving dir .\\features\\train\\babble\\5db\n",
      "saving dir .\\features\\train\\babble\\5db\n",
      "saving dir .\\features\\train\\babble\\5db\n",
      "saving dir .\\features\\train\\babble\\5db\n"
     ]
    },
    {
     "name": "stderr",
     "output_type": "stream",
     "text": [
      "\r",
      "Converting train audios:  47%|████████████████████████▏                           | 2154/4620 [00:20<00:21, 114.28it/s]"
     ]
    },
    {
     "name": "stdout",
     "output_type": "stream",
     "text": [
      "saving dir .\\features\\train\\babble\\5db\n",
      "saving dir .\\features\\train\\babble\\5db\n",
      "saving dir .\\features\\train\\babble\\5db\n",
      "saving dir .\\features\\train\\babble\\5db\n",
      "saving dir .\\features\\train\\babble\\5db\n",
      "saving dir .\\features\\train\\babble\\5db\n",
      "saving dir .\\features\\train\\babble\\5db\n",
      "saving dir .\\features\\train\\babble\\5db\n",
      "saving dir .\\features\\train\\babble\\5db\n",
      "saving dir .\\features\\train\\babble\\5db\n",
      "saving dir .\\features\\train\\babble\\5db\n",
      "saving dir .\\features\\train\\babble\\5db\n"
     ]
    },
    {
     "name": "stderr",
     "output_type": "stream",
     "text": [
      "\r",
      "Converting train audios:  47%|████████████████████████▍                           | 2166/4620 [00:20<00:21, 115.69it/s]"
     ]
    },
    {
     "name": "stdout",
     "output_type": "stream",
     "text": [
      "saving dir .\\features\\train\\babble\\5db\n",
      "saving dir .\\features\\train\\babble\\5db\n",
      "saving dir .\\features\\train\\babble\\5db\n",
      "saving dir .\\features\\train\\babble\\5db\n",
      "saving dir .\\features\\train\\babble\\5db\n",
      "saving dir .\\features\\train\\babble\\5db\n",
      "saving dir .\\features\\train\\babble\\5db\n",
      "saving dir .\\features\\train\\babble\\5db\n",
      "saving dir .\\features\\train\\babble\\5db\n",
      "saving dir .\\features\\train\\babble\\5db\n",
      "saving dir .\\features\\train\\babble\\5db\n",
      "saving dir .\\features\\train\\babble\\5db\n"
     ]
    },
    {
     "name": "stderr",
     "output_type": "stream",
     "text": [
      "\r",
      "Converting train audios:  47%|████████████████████████▌                           | 2178/4620 [00:20<00:20, 116.37it/s]"
     ]
    },
    {
     "name": "stdout",
     "output_type": "stream",
     "text": [
      "saving dir .\\features\\train\\babble\\5db\n",
      "saving dir .\\features\\train\\babble\\5db\n",
      "saving dir .\\features\\train\\babble\\5db\n",
      "saving dir .\\features\\train\\babble\\5db\n",
      "saving dir .\\features\\train\\babble\\5db\n",
      "saving dir .\\features\\train\\babble\\5db\n",
      "saving dir .\\features\\train\\babble\\5db\n",
      "saving dir .\\features\\train\\babble\\5db\n",
      "saving dir .\\features\\train\\babble\\5db\n",
      "saving dir .\\features\\train\\babble\\5db\n",
      "saving dir .\\features\\train\\babble\\5db\n",
      "saving dir .\\features\\train\\babble\\5db\n"
     ]
    },
    {
     "name": "stderr",
     "output_type": "stream",
     "text": [
      "\r",
      "Converting train audios:  47%|████████████████████████▋                           | 2190/4620 [00:20<00:21, 112.58it/s]"
     ]
    },
    {
     "name": "stdout",
     "output_type": "stream",
     "text": [
      "saving dir .\\features\\train\\babble\\5db\n",
      "saving dir .\\features\\train\\babble\\5db\n",
      "saving dir .\\features\\train\\babble\\5db\n",
      "saving dir .\\features\\train\\babble\\5db\n",
      "saving dir .\\features\\train\\babble\\5db\n",
      "saving dir .\\features\\train\\babble\\5db\n",
      "saving dir .\\features\\train\\babble\\5db\n",
      "saving dir .\\features\\train\\babble\\5db\n",
      "saving dir .\\features\\train\\babble\\5db\n",
      "saving dir .\\features\\train\\babble\\5db\n",
      "saving dir .\\features\\train\\babble\\5db\n",
      "saving dir .\\features\\train\\babble\\5db\n"
     ]
    },
    {
     "name": "stderr",
     "output_type": "stream",
     "text": [
      "\r",
      "Converting train audios:  48%|████████████████████████▊                           | 2202/4620 [00:20<00:21, 114.14it/s]"
     ]
    },
    {
     "name": "stdout",
     "output_type": "stream",
     "text": [
      "saving dir .\\features\\train\\babble\\5db\n",
      "saving dir .\\features\\train\\babble\\5db\n",
      "saving dir .\\features\\train\\babble\\5db\n",
      "saving dir .\\features\\train\\babble\\5db\n",
      "saving dir .\\features\\train\\babble\\5db\n",
      "saving dir .\\features\\train\\babble\\5db\n",
      "saving dir .\\features\\train\\babble\\5db\n",
      "saving dir .\\features\\train\\babble\\5db\n",
      "saving dir .\\features\\train\\babble\\5db\n",
      "saving dir .\\features\\train\\babble\\5db\n",
      "saving dir .\\features\\train\\babble\\5db\n",
      "saving dir .\\features\\train\\babble\\5db\n",
      "saving dir .\\features\\train\\babble\\5db\n"
     ]
    },
    {
     "name": "stderr",
     "output_type": "stream",
     "text": [
      "\r",
      "Converting train audios:  48%|████████████████████████▉                           | 2215/4620 [00:20<00:20, 114.80it/s]"
     ]
    },
    {
     "name": "stdout",
     "output_type": "stream",
     "text": [
      "saving dir .\\features\\train\\babble\\5db\n",
      "saving dir .\\features\\train\\babble\\5db\n",
      "saving dir .\\features\\train\\babble\\5db\n",
      "saving dir .\\features\\train\\babble\\5db\n",
      "saving dir .\\features\\train\\babble\\5db\n",
      "saving dir .\\features\\train\\babble\\5db\n",
      "saving dir .\\features\\train\\babble\\5db\n",
      "saving dir .\\features\\train\\babble\\5db\n",
      "saving dir .\\features\\train\\babble\\5db\n",
      "saving dir .\\features\\train\\babble\\5db\n",
      "saving dir .\\features\\train\\babble\\5db\n",
      "saving dir .\\features\\train\\babble\\5db\n"
     ]
    },
    {
     "name": "stderr",
     "output_type": "stream",
     "text": [
      "\r",
      "Converting train audios:  48%|█████████████████████████                           | 2227/4620 [00:20<00:20, 114.74it/s]"
     ]
    },
    {
     "name": "stdout",
     "output_type": "stream",
     "text": [
      "saving dir .\\features\\train\\babble\\5db\n",
      "saving dir .\\features\\train\\babble\\5db\n",
      "saving dir .\\features\\train\\babble\\5db\n",
      "saving dir .\\features\\train\\babble\\5db\n",
      "saving dir .\\features\\train\\babble\\5db\n",
      "saving dir .\\features\\train\\babble\\5db\n",
      "saving dir .\\features\\train\\babble\\5db\n",
      "saving dir .\\features\\train\\babble\\5db\n",
      "saving dir .\\features\\train\\babble\\5db\n",
      "saving dir .\\features\\train\\babble\\5db\n",
      "saving dir .\\features\\train\\babble\\5db\n",
      "saving dir .\\features\\train\\babble\\5db\n"
     ]
    },
    {
     "name": "stderr",
     "output_type": "stream",
     "text": [
      "\r",
      "Converting train audios:  48%|█████████████████████████▏                          | 2239/4620 [00:21<00:20, 115.35it/s]"
     ]
    },
    {
     "name": "stdout",
     "output_type": "stream",
     "text": [
      "saving dir .\\features\\train\\babble\\5db\n",
      "saving dir .\\features\\train\\babble\\5db\n",
      "saving dir .\\features\\train\\babble\\5db\n",
      "saving dir .\\features\\train\\babble\\5db\n",
      "saving dir .\\features\\train\\babble\\5db\n",
      "saving dir .\\features\\train\\babble\\5db\n",
      "saving dir .\\features\\train\\babble\\5db\n",
      "saving dir .\\features\\train\\babble\\5db\n",
      "saving dir .\\features\\train\\babble\\5db\n",
      "saving dir .\\features\\train\\babble\\5db\n",
      "saving dir .\\features\\train\\babble\\5db\n",
      "saving dir .\\features\\train\\babble\\5db\n"
     ]
    },
    {
     "name": "stderr",
     "output_type": "stream",
     "text": [
      "\r",
      "Converting train audios:  49%|█████████████████████████▊                           | 2251/4620 [00:21<00:24, 96.32it/s]"
     ]
    },
    {
     "name": "stdout",
     "output_type": "stream",
     "text": [
      "saving dir .\\features\\train\\babble\\5db\n",
      "saving dir .\\features\\train\\babble\\5db\n",
      "saving dir .\\features\\train\\babble\\5db\n",
      "saving dir .\\features\\train\\babble\\5db\n",
      "saving dir .\\features\\train\\babble\\5db\n",
      "saving dir .\\features\\train\\babble\\5db\n",
      "saving dir .\\features\\train\\babble\\5db\n",
      "saving dir .\\features\\train\\babble\\5db\n",
      "saving dir .\\features\\train\\babble\\5db\n",
      "saving dir .\\features\\train\\babble\\5db\n",
      "saving dir .\\features\\train\\babble\\5db\n",
      "saving dir .\\features\\train\\babble\\5db\n"
     ]
    },
    {
     "name": "stderr",
     "output_type": "stream",
     "text": [
      "\r",
      "Converting train audios:  49%|█████████████████████████▍                          | 2263/4620 [00:21<00:23, 101.93it/s]"
     ]
    },
    {
     "name": "stdout",
     "output_type": "stream",
     "text": [
      "saving dir .\\features\\train\\babble\\5db\n",
      "saving dir .\\features\\train\\babble\\5db\n",
      "saving dir .\\features\\train\\babble\\5db\n",
      "saving dir .\\features\\train\\babble\\5db\n",
      "saving dir .\\features\\train\\babble\\5db\n",
      "saving dir .\\features\\train\\babble\\5db\n",
      "saving dir .\\features\\train\\babble\\5db\n",
      "saving dir .\\features\\train\\babble\\5db\n",
      "saving dir .\\features\\train\\babble\\5db\n",
      "saving dir .\\features\\train\\babble\\5db\n",
      "saving dir .\\features\\train\\babble\\5db\n",
      "saving dir .\\features\\train\\babble\\5db\n"
     ]
    },
    {
     "name": "stderr",
     "output_type": "stream",
     "text": [
      "\r",
      "Converting train audios:  49%|█████████████████████████▌                          | 2275/4620 [00:21<00:22, 104.60it/s]"
     ]
    },
    {
     "name": "stdout",
     "output_type": "stream",
     "text": [
      "saving dir .\\features\\train\\babble\\5db\n",
      "saving dir .\\features\\train\\babble\\5db\n",
      "saving dir .\\features\\train\\babble\\5db\n",
      "saving dir .\\features\\train\\babble\\5db\n",
      "saving dir .\\features\\train\\babble\\5db\n",
      "saving dir .\\features\\train\\babble\\5db\n",
      "saving dir .\\features\\train\\babble\\5db\n",
      "saving dir .\\features\\train\\babble\\5db\n",
      "saving dir .\\features\\train\\babble\\5db\n",
      "saving dir .\\features\\train\\babble\\5db\n",
      "saving dir .\\features\\train\\babble\\5db\n"
     ]
    },
    {
     "name": "stderr",
     "output_type": "stream",
     "text": [
      "\r",
      "Converting train audios:  49%|██████████████████████████▏                          | 2286/4620 [00:21<00:24, 96.49it/s]"
     ]
    },
    {
     "name": "stdout",
     "output_type": "stream",
     "text": [
      "saving dir .\\features\\train\\babble\\5db\n",
      "saving dir .\\features\\train\\babble\\5db\n",
      "saving dir .\\features\\train\\babble\\5db\n",
      "saving dir .\\features\\train\\babble\\5db\n",
      "saving dir .\\features\\train\\babble\\5db\n",
      "saving dir .\\features\\train\\babble\\5db\n",
      "saving dir .\\features\\train\\babble\\5db\n",
      "saving dir .\\features\\train\\babble\\5db\n",
      "saving dir .\\features\\train\\babble\\5db\n",
      "saving dir .\\features\\train\\babble\\5db\n",
      "saving dir .\\features\\train\\babble\\5db\n"
     ]
    },
    {
     "name": "stderr",
     "output_type": "stream",
     "text": [
      "\r",
      "Converting train audios:  50%|██████████████████████████▎                          | 2297/4620 [00:21<00:27, 84.18it/s]"
     ]
    },
    {
     "name": "stdout",
     "output_type": "stream",
     "text": [
      "saving dir .\\features\\train\\babble\\5db\n",
      "saving dir .\\features\\train\\babble\\5db\n",
      "saving dir .\\features\\train\\babble\\5db\n",
      "saving dir .\\features\\train\\babble\\5db\n",
      "saving dir .\\features\\train\\babble\\5db\n",
      "saving dir .\\features\\train\\babble\\5db\n",
      "saving dir .\\features\\train\\babble\\5db\n",
      "saving dir .\\features\\train\\babble\\5db\n",
      "saving dir .\\features\\train\\babble\\5db\n",
      "saving dir .\\features\\train\\babble\\5db\n",
      "saving dir .\\features\\train\\babble\\5db\n",
      "saving dir .\\features\\train\\babble\\5db\n",
      "saving dir .\\features\\train\\babble\\5db\n"
     ]
    },
    {
     "name": "stderr",
     "output_type": "stream",
     "text": [
      "\r",
      "Converting train audios:  50%|██████████████████████████▌                          | 2310/4620 [00:21<00:24, 92.59it/s]"
     ]
    },
    {
     "name": "stdout",
     "output_type": "stream",
     "text": [
      "saving dir .\\features\\train\\babble\\5db\n",
      "saving dir .\\features\\train\\babble\\5db\n",
      "saving dir .\\features\\train\\babble\\5db\n",
      "saving dir .\\features\\train\\babble\\5db\n",
      "saving dir .\\features\\train\\babble\\5db\n",
      "saving dir .\\features\\train\\babble\\5db\n",
      "saving dir .\\features\\train\\babble\\5db\n",
      "saving dir .\\features\\train\\babble\\5db\n",
      "saving dir .\\features\\train\\babble\\5db\n",
      "saving dir .\\features\\train\\babble\\5db\n"
     ]
    },
    {
     "name": "stderr",
     "output_type": "stream",
     "text": [
      "\r",
      "Converting train audios:  50%|██████████████████████████▌                          | 2320/4620 [00:21<00:26, 87.56it/s]"
     ]
    },
    {
     "name": "stdout",
     "output_type": "stream",
     "text": [
      "saving dir .\\features\\train\\babble\\5db\n",
      "saving dir .\\features\\train\\babble\\5db\n",
      "saving dir .\\features\\train\\babble\\5db\n",
      "saving dir .\\features\\train\\babble\\5db\n",
      "saving dir .\\features\\train\\babble\\5db\n",
      "saving dir .\\features\\train\\babble\\5db\n",
      "saving dir .\\features\\train\\babble\\5db\n",
      "saving dir .\\features\\train\\babble\\5db\n",
      "saving dir .\\features\\train\\babble\\5db\n",
      "saving dir .\\features\\train\\babble\\5db\n",
      "saving dir .\\features\\train\\babble\\5db\n",
      "saving dir .\\features\\train\\babble\\5db\n"
     ]
    },
    {
     "name": "stderr",
     "output_type": "stream",
     "text": [
      "\r",
      "Converting train audios:  50%|██████████████████████████▊                          | 2332/4620 [00:22<00:24, 93.35it/s]"
     ]
    },
    {
     "name": "stdout",
     "output_type": "stream",
     "text": [
      "saving dir .\\features\\train\\babble\\5db\n",
      "saving dir .\\features\\train\\babble\\5db\n",
      "saving dir .\\features\\train\\babble\\5db\n",
      "saving dir .\\features\\train\\babble\\5db\n",
      "saving dir .\\features\\train\\babble\\5db\n",
      "saving dir .\\features\\train\\babble\\5db\n",
      "saving dir .\\features\\train\\babble\\5db\n",
      "saving dir .\\features\\train\\babble\\5db\n",
      "saving dir .\\features\\train\\babble\\5db\n",
      "saving dir .\\features\\train\\babble\\5db\n",
      "saving dir .\\features\\train\\babble\\5db\n"
     ]
    },
    {
     "name": "stderr",
     "output_type": "stream",
     "text": [
      "\r",
      "Converting train audios:  51%|██████████████████████████▉                          | 2343/4620 [00:22<00:23, 95.82it/s]"
     ]
    },
    {
     "name": "stdout",
     "output_type": "stream",
     "text": [
      "saving dir .\\features\\train\\babble\\5db\n",
      "saving dir .\\features\\train\\babble\\5db\n",
      "saving dir .\\features\\train\\babble\\5db\n",
      "saving dir .\\features\\train\\babble\\5db\n",
      "saving dir .\\features\\train\\babble\\5db\n",
      "saving dir .\\features\\train\\babble\\5db\n",
      "saving dir .\\features\\train\\babble\\5db\n",
      "saving dir .\\features\\train\\babble\\5db\n",
      "saving dir .\\features\\train\\babble\\5db\n",
      "saving dir .\\features\\train\\babble\\5db\n"
     ]
    },
    {
     "name": "stderr",
     "output_type": "stream",
     "text": [
      "\r",
      "Converting train audios:  51%|██████████████████████████▉                          | 2353/4620 [00:22<00:23, 96.56it/s]"
     ]
    },
    {
     "name": "stdout",
     "output_type": "stream",
     "text": [
      "saving dir .\\features\\train\\babble\\5db\n",
      "saving dir .\\features\\train\\babble\\5db\n",
      "saving dir .\\features\\train\\babble\\5db\n",
      "saving dir .\\features\\train\\babble\\5db\n",
      "saving dir .\\features\\train\\babble\\5db\n",
      "saving dir .\\features\\train\\babble\\5db\n",
      "saving dir .\\features\\train\\babble\\5db\n",
      "saving dir .\\features\\train\\babble\\5db\n",
      "saving dir .\\features\\train\\babble\\5db\n",
      "saving dir .\\features\\train\\babble\\5db\n",
      "saving dir .\\features\\train\\babble\\5db\n",
      "saving dir .\\features\\train\\babble\\5db\n"
     ]
    },
    {
     "name": "stderr",
     "output_type": "stream",
     "text": [
      "\r",
      "Converting train audios:  51%|██████████████████████████▌                         | 2365/4620 [00:22<00:22, 102.11it/s]"
     ]
    },
    {
     "name": "stdout",
     "output_type": "stream",
     "text": [
      "saving dir .\\features\\train\\babble\\5db\n",
      "saving dir .\\features\\train\\babble\\5db\n",
      "saving dir .\\features\\train\\babble\\5db\n",
      "saving dir .\\features\\train\\babble\\5db\n",
      "saving dir .\\features\\train\\babble\\5db\n",
      "saving dir .\\features\\train\\babble\\5db\n",
      "saving dir .\\features\\train\\babble\\5db\n",
      "saving dir .\\features\\train\\babble\\5db\n",
      "saving dir .\\features\\train\\babble\\5db\n",
      "saving dir .\\features\\train\\babble\\5db\n",
      "saving dir .\\features\\train\\babble\\5db\n",
      "saving dir .\\features\\train\\babble\\5db\n"
     ]
    },
    {
     "name": "stderr",
     "output_type": "stream",
     "text": [
      "\r",
      "Converting train audios:  51%|██████████████████████████▊                         | 2377/4620 [00:22<00:21, 106.12it/s]"
     ]
    },
    {
     "name": "stdout",
     "output_type": "stream",
     "text": [
      "saving dir .\\features\\train\\babble\\5db\n",
      "saving dir .\\features\\train\\babble\\5db\n",
      "saving dir .\\features\\train\\babble\\5db\n",
      "saving dir .\\features\\train\\babble\\5db\n",
      "saving dir .\\features\\train\\babble\\5db\n",
      "saving dir .\\features\\train\\babble\\5db\n",
      "saving dir .\\features\\train\\babble\\5db\n",
      "saving dir .\\features\\train\\babble\\5db\n",
      "saving dir .\\features\\train\\babble\\5db\n",
      "saving dir .\\features\\train\\babble\\5db\n",
      "saving dir .\\features\\train\\babble\\5db\n"
     ]
    },
    {
     "name": "stderr",
     "output_type": "stream",
     "text": [
      "\r",
      "Converting train audios:  52%|███████████████████████████▍                         | 2388/4620 [00:22<00:29, 76.19it/s]"
     ]
    },
    {
     "name": "stdout",
     "output_type": "stream",
     "text": [
      "saving dir .\\features\\train\\babble\\5db\n",
      "saving dir .\\features\\train\\babble\\5db\n",
      "saving dir .\\features\\train\\babble\\5db\n",
      "saving dir .\\features\\train\\babble\\5db\n",
      "saving dir .\\features\\train\\babble\\5db\n",
      "saving dir .\\features\\train\\babble\\5db\n",
      "saving dir .\\features\\train\\babble\\5db\n",
      "saving dir .\\features\\train\\babble\\5db\n",
      "saving dir .\\features\\train\\babble\\5db\n",
      "saving dir .\\features\\train\\babble\\5db\n",
      "saving dir .\\features\\train\\babble\\5db\n",
      "saving dir .\\features\\train\\babble\\5db\n"
     ]
    },
    {
     "name": "stderr",
     "output_type": "stream",
     "text": [
      "\r",
      "Converting train audios:  52%|███████████████████████████▌                         | 2400/4620 [00:22<00:26, 85.07it/s]"
     ]
    },
    {
     "name": "stdout",
     "output_type": "stream",
     "text": [
      "saving dir .\\features\\train\\babble\\5db\n",
      "saving dir .\\features\\train\\babble\\5db\n",
      "saving dir .\\features\\train\\babble\\5db\n",
      "saving dir .\\features\\train\\babble\\5db\n",
      "saving dir .\\features\\train\\babble\\5db\n",
      "saving dir .\\features\\train\\babble\\5db\n",
      "saving dir .\\features\\train\\babble\\5db\n",
      "saving dir .\\features\\train\\babble\\5db\n",
      "saving dir .\\features\\train\\babble\\5db\n",
      "saving dir .\\features\\train\\babble\\5db\n",
      "saving dir .\\features\\train\\babble\\5db\n",
      "saving dir .\\features\\train\\babble\\5db\n",
      "saving dir .\\features\\train\\babble\\5db\n"
     ]
    },
    {
     "name": "stderr",
     "output_type": "stream",
     "text": [
      "\r",
      "Converting train audios:  52%|███████████████████████████▋                         | 2413/4620 [00:22<00:23, 93.13it/s]"
     ]
    },
    {
     "name": "stdout",
     "output_type": "stream",
     "text": [
      "saving dir .\\features\\train\\babble\\5db\n",
      "saving dir .\\features\\train\\babble\\5db\n",
      "saving dir .\\features\\train\\babble\\5db\n",
      "saving dir .\\features\\train\\babble\\5db\n",
      "saving dir .\\features\\train\\babble\\5db\n",
      "saving dir .\\features\\train\\babble\\5db\n",
      "saving dir .\\features\\train\\babble\\5db\n",
      "saving dir .\\features\\train\\babble\\5db\n",
      "saving dir .\\features\\train\\babble\\5db\n",
      "saving dir .\\features\\train\\babble\\5db\n",
      "saving dir .\\features\\train\\babble\\5db\n",
      "saving dir .\\features\\train\\babble\\5db\n",
      "saving dir .\\features\\train\\babble\\5db\n",
      "saving dir .\\features\\train\\babble\\5db\n"
     ]
    },
    {
     "name": "stderr",
     "output_type": "stream",
     "text": [
      "\r",
      "Converting train audios:  53%|███████████████████████████▎                        | 2427/4620 [00:23<00:21, 102.01it/s]"
     ]
    },
    {
     "name": "stdout",
     "output_type": "stream",
     "text": [
      "saving dir .\\features\\train\\babble\\5db\n",
      "saving dir .\\features\\train\\babble\\5db\n",
      "saving dir .\\features\\train\\babble\\5db\n",
      "saving dir .\\features\\train\\babble\\5db\n",
      "saving dir .\\features\\train\\babble\\5db\n",
      "saving dir .\\features\\train\\babble\\5db\n",
      "saving dir .\\features\\train\\babble\\5db\n",
      "saving dir .\\features\\train\\babble\\5db\n",
      "saving dir .\\features\\train\\babble\\5db\n",
      "saving dir .\\features\\train\\babble\\5db\n",
      "saving dir .\\features\\train\\babble\\5db\n",
      "saving dir .\\features\\train\\babble\\5db\n"
     ]
    },
    {
     "name": "stderr",
     "output_type": "stream",
     "text": [
      "\r",
      "Converting train audios:  53%|███████████████████████████▍                        | 2439/4620 [00:23<00:21, 101.23it/s]"
     ]
    },
    {
     "name": "stdout",
     "output_type": "stream",
     "text": [
      "saving dir .\\features\\train\\babble\\5db\n",
      "saving dir .\\features\\train\\babble\\5db\n",
      "saving dir .\\features\\train\\babble\\5db\n",
      "saving dir .\\features\\train\\babble\\5db\n",
      "saving dir .\\features\\train\\babble\\5db\n",
      "saving dir .\\features\\train\\babble\\5db\n",
      "saving dir .\\features\\train\\babble\\5db\n",
      "saving dir .\\features\\train\\babble\\5db\n",
      "saving dir .\\features\\train\\babble\\5db\n",
      "saving dir .\\features\\train\\babble\\5db\n",
      "saving dir .\\features\\train\\babble\\5db\n",
      "saving dir .\\features\\train\\babble\\5db\n",
      "saving dir .\\features\\train\\babble\\5db\n"
     ]
    },
    {
     "name": "stderr",
     "output_type": "stream",
     "text": [
      "\r",
      "Converting train audios:  53%|███████████████████████████▌                        | 2452/4620 [00:23<00:20, 106.37it/s]"
     ]
    },
    {
     "name": "stdout",
     "output_type": "stream",
     "text": [
      "saving dir .\\features\\train\\babble\\5db\n",
      "saving dir .\\features\\train\\babble\\5db\n",
      "saving dir .\\features\\train\\babble\\5db\n",
      "saving dir .\\features\\train\\babble\\5db\n",
      "saving dir .\\features\\train\\babble\\5db\n",
      "saving dir .\\features\\train\\babble\\5db\n",
      "saving dir .\\features\\train\\babble\\5db\n",
      "saving dir .\\features\\train\\babble\\5db\n",
      "saving dir .\\features\\train\\babble\\5db\n",
      "saving dir .\\features\\train\\babble\\5db\n",
      "saving dir .\\features\\train\\babble\\5db\n",
      "saving dir .\\features\\train\\babble\\5db\n",
      "saving dir .\\features\\train\\babble\\5db\n"
     ]
    },
    {
     "name": "stderr",
     "output_type": "stream",
     "text": [
      "\r",
      "Converting train audios:  53%|███████████████████████████▋                        | 2465/4620 [00:23<00:19, 111.15it/s]"
     ]
    },
    {
     "name": "stdout",
     "output_type": "stream",
     "text": [
      "saving dir .\\features\\train\\babble\\5db\n",
      "saving dir .\\features\\train\\babble\\5db\n",
      "saving dir .\\features\\train\\babble\\5db\n",
      "saving dir .\\features\\train\\babble\\5db\n",
      "saving dir .\\features\\train\\babble\\5db\n",
      "saving dir .\\features\\train\\babble\\5db\n",
      "saving dir .\\features\\train\\babble\\5db\n",
      "saving dir .\\features\\train\\babble\\5db\n",
      "saving dir .\\features\\train\\babble\\5db\n",
      "saving dir .\\features\\train\\babble\\5db\n",
      "saving dir .\\features\\train\\babble\\5db\n",
      "saving dir .\\features\\train\\babble\\5db\n",
      "saving dir .\\features\\train\\babble\\5db\n"
     ]
    },
    {
     "name": "stderr",
     "output_type": "stream",
     "text": [
      "\r",
      "Converting train audios:  54%|███████████████████████████▉                        | 2478/4620 [00:23<00:18, 114.45it/s]"
     ]
    },
    {
     "name": "stdout",
     "output_type": "stream",
     "text": [
      "saving dir .\\features\\train\\babble\\5db\n",
      "saving dir .\\features\\train\\babble\\5db\n",
      "saving dir .\\features\\train\\babble\\5db\n",
      "saving dir .\\features\\train\\babble\\5db\n",
      "saving dir .\\features\\train\\babble\\5db\n",
      "saving dir .\\features\\train\\babble\\5db\n",
      "saving dir .\\features\\train\\babble\\5db\n",
      "saving dir .\\features\\train\\babble\\5db\n",
      "saving dir .\\features\\train\\babble\\5db\n",
      "saving dir .\\features\\train\\babble\\5db\n",
      "saving dir .\\features\\train\\babble\\5db\n",
      "saving dir .\\features\\train\\babble\\5db\n",
      "saving dir .\\features\\train\\babble\\5db\n"
     ]
    },
    {
     "name": "stderr",
     "output_type": "stream",
     "text": [
      "\r",
      "Converting train audios:  54%|████████████████████████████                        | 2491/4620 [00:23<00:18, 116.25it/s]"
     ]
    },
    {
     "name": "stdout",
     "output_type": "stream",
     "text": [
      "saving dir .\\features\\train\\babble\\5db\n",
      "saving dir .\\features\\train\\babble\\5db\n",
      "saving dir .\\features\\train\\babble\\5db\n",
      "saving dir .\\features\\train\\babble\\5db\n",
      "saving dir .\\features\\train\\babble\\5db\n",
      "saving dir .\\features\\train\\babble\\5db\n",
      "saving dir .\\features\\train\\babble\\5db\n",
      "saving dir .\\features\\train\\babble\\5db\n",
      "saving dir .\\features\\train\\babble\\5db\n",
      "saving dir .\\features\\train\\babble\\5db\n",
      "saving dir .\\features\\train\\babble\\5db\n",
      "saving dir .\\features\\train\\babble\\5db\n"
     ]
    },
    {
     "name": "stderr",
     "output_type": "stream",
     "text": [
      "\r",
      "Converting train audios:  54%|████████████████████████████▋                        | 2503/4620 [00:23<00:23, 88.63it/s]"
     ]
    },
    {
     "name": "stdout",
     "output_type": "stream",
     "text": [
      "saving dir .\\features\\train\\babble\\5db\n",
      "saving dir .\\features\\train\\babble\\5db\n",
      "saving dir .\\features\\train\\babble\\5db\n",
      "saving dir .\\features\\train\\babble\\5db\n",
      "saving dir .\\features\\train\\babble\\5db\n",
      "saving dir .\\features\\train\\babble\\5db\n",
      "saving dir .\\features\\train\\babble\\5db\n",
      "saving dir .\\features\\train\\babble\\5db\n",
      "saving dir .\\features\\train\\babble\\5db\n",
      "saving dir .\\features\\train\\babble\\5db\n",
      "saving dir .\\features\\train\\babble\\5db\n",
      "saving dir .\\features\\train\\babble\\5db\n",
      "saving dir .\\features\\train\\babble\\5db\n"
     ]
    },
    {
     "name": "stderr",
     "output_type": "stream",
     "text": [
      "\r",
      "Converting train audios:  54%|████████████████████████████▊                        | 2516/4620 [00:23<00:22, 95.25it/s]"
     ]
    },
    {
     "name": "stdout",
     "output_type": "stream",
     "text": [
      "saving dir .\\features\\train\\babble\\5db\n",
      "saving dir .\\features\\train\\babble\\5db\n",
      "saving dir .\\features\\train\\babble\\5db\n",
      "saving dir .\\features\\train\\babble\\5db\n",
      "saving dir .\\features\\train\\babble\\5db\n",
      "saving dir .\\features\\train\\babble\\5db\n",
      "saving dir .\\features\\train\\babble\\5db\n",
      "saving dir .\\features\\train\\babble\\5db\n",
      "saving dir .\\features\\train\\babble\\5db\n",
      "saving dir .\\features\\train\\babble\\5db\n",
      "saving dir .\\features\\train\\babble\\5db\n"
     ]
    },
    {
     "name": "stderr",
     "output_type": "stream",
     "text": [
      "\r",
      "Converting train audios:  55%|████████████████████████████▉                        | 2527/4620 [00:24<00:21, 97.99it/s]"
     ]
    },
    {
     "name": "stdout",
     "output_type": "stream",
     "text": [
      "saving dir .\\features\\train\\babble\\5db\n",
      "saving dir .\\features\\train\\babble\\5db\n",
      "saving dir .\\features\\train\\babble\\5db\n",
      "saving dir .\\features\\train\\babble\\5db\n",
      "saving dir .\\features\\train\\babble\\5db\n",
      "saving dir .\\features\\train\\babble\\5db\n",
      "saving dir .\\features\\train\\babble\\5db\n",
      "saving dir .\\features\\train\\babble\\5db\n",
      "saving dir .\\features\\train\\babble\\5db\n",
      "saving dir .\\features\\train\\babble\\5db\n",
      "saving dir .\\features\\train\\babble\\5db\n",
      "saving dir .\\features\\train\\babble\\5db\n"
     ]
    },
    {
     "name": "stderr",
     "output_type": "stream",
     "text": [
      "\r",
      "Converting train audios:  55%|████████████████████████████▌                       | 2539/4620 [00:24<00:20, 102.97it/s]"
     ]
    },
    {
     "name": "stdout",
     "output_type": "stream",
     "text": [
      "saving dir .\\features\\train\\babble\\5db\n",
      "saving dir .\\features\\train\\babble\\5db\n",
      "saving dir .\\features\\train\\babble\\5db\n",
      "saving dir .\\features\\train\\babble\\5db\n",
      "saving dir .\\features\\train\\babble\\5db\n",
      "saving dir .\\features\\train\\babble\\5db\n",
      "saving dir .\\features\\train\\babble\\5db\n",
      "saving dir .\\features\\train\\babble\\5db\n",
      "saving dir .\\features\\train\\babble\\5db\n",
      "saving dir .\\features\\train\\babble\\5db\n",
      "saving dir .\\features\\train\\babble\\5db\n"
     ]
    },
    {
     "name": "stderr",
     "output_type": "stream",
     "text": [
      "\r",
      "Converting train audios:  55%|█████████████████████████████▎                       | 2550/4620 [00:24<00:25, 81.35it/s]"
     ]
    },
    {
     "name": "stdout",
     "output_type": "stream",
     "text": [
      "saving dir .\\features\\train\\babble\\5db\n",
      "saving dir .\\features\\train\\babble\\5db\n",
      "saving dir .\\features\\train\\babble\\5db\n",
      "saving dir .\\features\\train\\babble\\5db\n",
      "saving dir .\\features\\train\\babble\\5db\n",
      "saving dir .\\features\\train\\babble\\5db\n",
      "saving dir .\\features\\train\\babble\\5db\n",
      "saving dir .\\features\\train\\babble\\5db\n",
      "saving dir .\\features\\train\\babble\\5db\n",
      "saving dir .\\features\\train\\babble\\5db\n",
      "saving dir .\\features\\train\\babble\\5db\n",
      "saving dir .\\features\\train\\babble\\5db\n"
     ]
    },
    {
     "name": "stderr",
     "output_type": "stream",
     "text": [
      "\r",
      "Converting train audios:  55%|█████████████████████████████▍                       | 2562/4620 [00:24<00:23, 85.86it/s]"
     ]
    },
    {
     "name": "stdout",
     "output_type": "stream",
     "text": [
      "saving dir .\\features\\train\\babble\\5db\n",
      "saving dir .\\features\\train\\babble\\5db\n",
      "saving dir .\\features\\train\\babble\\5db\n",
      "saving dir .\\features\\train\\babble\\5db\n",
      "saving dir .\\features\\train\\babble\\5db\n",
      "saving dir .\\features\\train\\babble\\5db\n",
      "saving dir .\\features\\train\\babble\\5db\n",
      "saving dir .\\features\\train\\babble\\5db\n",
      "saving dir .\\features\\train\\babble\\5db\n",
      "saving dir .\\features\\train\\babble\\5db\n",
      "saving dir .\\features\\train\\babble\\5db\n",
      "saving dir .\\features\\train\\babble\\5db\n"
     ]
    },
    {
     "name": "stderr",
     "output_type": "stream",
     "text": [
      "\r",
      "Converting train audios:  56%|█████████████████████████████▌                       | 2574/4620 [00:24<00:22, 92.42it/s]"
     ]
    },
    {
     "name": "stdout",
     "output_type": "stream",
     "text": [
      "saving dir .\\features\\train\\babble\\5db\n",
      "saving dir .\\features\\train\\babble\\5db\n",
      "saving dir .\\features\\train\\babble\\5db\n",
      "saving dir .\\features\\train\\babble\\5db\n",
      "saving dir .\\features\\train\\babble\\5db\n",
      "saving dir .\\features\\train\\babble\\5db\n",
      "saving dir .\\features\\train\\babble\\5db\n",
      "saving dir .\\features\\train\\babble\\5db\n",
      "saving dir .\\features\\train\\babble\\5db\n",
      "saving dir .\\features\\train\\babble\\5db\n",
      "saving dir .\\features\\train\\babble\\5db\n",
      "saving dir .\\features\\train\\babble\\5db\n"
     ]
    },
    {
     "name": "stderr",
     "output_type": "stream",
     "text": [
      "\r",
      "Converting train audios:  56%|█████████████████████████████▋                       | 2586/4620 [00:24<00:20, 98.60it/s]"
     ]
    },
    {
     "name": "stdout",
     "output_type": "stream",
     "text": [
      "saving dir .\\features\\train\\babble\\5db\n",
      "saving dir .\\features\\train\\babble\\5db\n",
      "saving dir .\\features\\train\\babble\\5db\n",
      "saving dir .\\features\\train\\babble\\5db\n",
      "saving dir .\\features\\train\\babble\\5db\n",
      "saving dir .\\features\\train\\babble\\5db\n",
      "saving dir .\\features\\train\\babble\\5db\n",
      "saving dir .\\features\\train\\babble\\5db\n",
      "saving dir .\\features\\train\\babble\\5db\n",
      "saving dir .\\features\\train\\babble\\5db\n",
      "saving dir .\\features\\train\\babble\\5db\n",
      "saving dir .\\features\\train\\babble\\5db\n"
     ]
    },
    {
     "name": "stderr",
     "output_type": "stream",
     "text": [
      "\r",
      "Converting train audios:  56%|█████████████████████████████▏                      | 2598/4620 [00:24<00:19, 103.97it/s]"
     ]
    },
    {
     "name": "stdout",
     "output_type": "stream",
     "text": [
      "saving dir .\\features\\train\\babble\\5db\n",
      "saving dir .\\features\\train\\babble\\5db\n",
      "saving dir .\\features\\train\\babble\\5db\n",
      "saving dir .\\features\\train\\babble\\5db\n",
      "saving dir .\\features\\train\\babble\\5db\n",
      "saving dir .\\features\\train\\babble\\5db\n",
      "saving dir .\\features\\train\\babble\\5db\n",
      "saving dir .\\features\\train\\babble\\5db\n",
      "saving dir .\\features\\train\\babble\\5db\n",
      "saving dir .\\features\\train\\babble\\5db\n",
      "saving dir .\\features\\train\\babble\\5db\n",
      "saving dir .\\features\\train\\babble\\5db\n"
     ]
    },
    {
     "name": "stderr",
     "output_type": "stream",
     "text": [
      "\r",
      "Converting train audios:  56%|█████████████████████████████▍                      | 2610/4620 [00:24<00:18, 107.23it/s]"
     ]
    },
    {
     "name": "stdout",
     "output_type": "stream",
     "text": [
      "saving dir .\\features\\train\\babble\\5db\n",
      "saving dir .\\features\\train\\babble\\5db\n",
      "saving dir .\\features\\train\\babble\\5db\n",
      "saving dir .\\features\\train\\babble\\5db\n",
      "saving dir .\\features\\train\\babble\\5db\n",
      "saving dir .\\features\\train\\babble\\5db\n",
      "saving dir .\\features\\train\\babble\\5db\n",
      "saving dir .\\features\\train\\babble\\5db\n",
      "saving dir .\\features\\train\\babble\\5db\n",
      "saving dir .\\features\\train\\babble\\5db\n",
      "saving dir .\\features\\train\\babble\\5db\n",
      "saving dir .\\features\\train\\babble\\5db\n"
     ]
    },
    {
     "name": "stderr",
     "output_type": "stream",
     "text": [
      "\r",
      "Converting train audios:  57%|█████████████████████████████▌                      | 2622/4620 [00:24<00:18, 106.44it/s]"
     ]
    },
    {
     "name": "stdout",
     "output_type": "stream",
     "text": [
      "saving dir .\\features\\train\\babble\\5db\n",
      "saving dir .\\features\\train\\babble\\5db\n",
      "saving dir .\\features\\train\\babble\\5db\n",
      "saving dir .\\features\\train\\babble\\5db\n",
      "saving dir .\\features\\train\\babble\\5db\n",
      "saving dir .\\features\\train\\babble\\5db\n",
      "saving dir .\\features\\train\\babble\\5db\n",
      "saving dir .\\features\\train\\babble\\5db\n",
      "saving dir .\\features\\train\\babble\\5db\n",
      "saving dir .\\features\\train\\babble\\5db\n",
      "saving dir .\\features\\train\\babble\\5db\n"
     ]
    },
    {
     "name": "stderr",
     "output_type": "stream",
     "text": [
      "\r",
      "Converting train audios:  57%|█████████████████████████████▋                      | 2633/4620 [00:25<00:18, 106.63it/s]"
     ]
    },
    {
     "name": "stdout",
     "output_type": "stream",
     "text": [
      "saving dir .\\features\\train\\babble\\5db\n",
      "saving dir .\\features\\train\\babble\\5db\n",
      "saving dir .\\features\\train\\babble\\5db\n",
      "saving dir .\\features\\train\\babble\\5db\n",
      "saving dir .\\features\\train\\babble\\5db\n",
      "saving dir .\\features\\train\\babble\\5db\n",
      "saving dir .\\features\\train\\babble\\5db\n",
      "saving dir .\\features\\train\\babble\\5db\n",
      "saving dir .\\features\\train\\babble\\5db\n",
      "saving dir .\\features\\train\\babble\\5db\n",
      "saving dir .\\features\\train\\babble\\5db\n",
      "saving dir .\\features\\train\\babble\\5db\n"
     ]
    },
    {
     "name": "stderr",
     "output_type": "stream",
     "text": [
      "\r",
      "Converting train audios:  57%|█████████████████████████████▊                      | 2645/4620 [00:25<00:18, 109.20it/s]"
     ]
    },
    {
     "name": "stdout",
     "output_type": "stream",
     "text": [
      "saving dir .\\features\\train\\babble\\5db\n",
      "saving dir .\\features\\train\\babble\\5db\n",
      "saving dir .\\features\\train\\babble\\5db\n",
      "saving dir .\\features\\train\\babble\\5db\n",
      "saving dir .\\features\\train\\babble\\5db\n",
      "saving dir .\\features\\train\\babble\\5db\n",
      "saving dir .\\features\\train\\babble\\5db\n",
      "saving dir .\\features\\train\\babble\\5db\n",
      "saving dir .\\features\\train\\babble\\5db\n",
      "saving dir .\\features\\train\\babble\\5db\n",
      "saving dir .\\features\\train\\babble\\5db\n",
      "saving dir .\\features\\train\\babble\\5db\n",
      "saving dir .\\features\\train\\babble\\5db\n"
     ]
    },
    {
     "name": "stderr",
     "output_type": "stream",
     "text": [
      "\r",
      "Converting train audios:  58%|█████████████████████████████▉                      | 2658/4620 [00:25<00:17, 113.58it/s]"
     ]
    },
    {
     "name": "stdout",
     "output_type": "stream",
     "text": [
      "saving dir .\\features\\train\\babble\\5db\n",
      "saving dir .\\features\\train\\babble\\5db\n",
      "saving dir .\\features\\train\\babble\\5db\n",
      "saving dir .\\features\\train\\babble\\5db\n",
      "saving dir .\\features\\train\\babble\\5db\n",
      "saving dir .\\features\\train\\babble\\5db\n",
      "saving dir .\\features\\train\\babble\\5db\n",
      "saving dir .\\features\\train\\babble\\5db\n",
      "saving dir .\\features\\train\\babble\\5db\n",
      "saving dir .\\features\\train\\babble\\5db\n",
      "saving dir .\\features\\train\\babble\\5db\n",
      "saving dir .\\features\\train\\babble\\5db\n"
     ]
    },
    {
     "name": "stderr",
     "output_type": "stream",
     "text": [
      "\r",
      "Converting train audios:  58%|██████████████████████████████                      | 2670/4620 [00:25<00:17, 113.56it/s]"
     ]
    },
    {
     "name": "stdout",
     "output_type": "stream",
     "text": [
      "saving dir .\\features\\train\\babble\\5db\n",
      "saving dir .\\features\\train\\babble\\5db\n",
      "saving dir .\\features\\train\\babble\\5db\n",
      "saving dir .\\features\\train\\babble\\5db\n",
      "saving dir .\\features\\train\\babble\\5db\n",
      "saving dir .\\features\\train\\babble\\5db\n",
      "saving dir .\\features\\train\\babble\\5db\n",
      "saving dir .\\features\\train\\babble\\5db\n",
      "saving dir .\\features\\train\\babble\\5db\n",
      "saving dir .\\features\\train\\babble\\5db\n",
      "saving dir .\\features\\train\\babble\\5db\n",
      "saving dir .\\features\\train\\babble\\5db\n"
     ]
    },
    {
     "name": "stderr",
     "output_type": "stream",
     "text": [
      "\r",
      "Converting train audios:  58%|██████████████████████████████▏                     | 2682/4620 [00:25<00:17, 110.12it/s]"
     ]
    },
    {
     "name": "stdout",
     "output_type": "stream",
     "text": [
      "saving dir .\\features\\train\\babble\\5db\n",
      "saving dir .\\features\\train\\babble\\5db\n",
      "saving dir .\\features\\train\\babble\\5db\n",
      "saving dir .\\features\\train\\babble\\5db\n",
      "saving dir .\\features\\train\\babble\\5db\n",
      "saving dir .\\features\\train\\babble\\5db\n",
      "saving dir .\\features\\train\\babble\\5db\n",
      "saving dir .\\features\\train\\babble\\5db\n",
      "saving dir .\\features\\train\\babble\\5db\n",
      "saving dir .\\features\\train\\babble\\5db\n",
      "saving dir .\\features\\train\\babble\\5db\n",
      "saving dir .\\features\\train\\babble\\5db\n",
      "saving dir .\\features\\train\\babble\\5db\n"
     ]
    },
    {
     "name": "stderr",
     "output_type": "stream",
     "text": [
      "\r",
      "Converting train audios:  58%|██████████████████████████████▎                     | 2695/4620 [00:25<00:16, 113.68it/s]"
     ]
    },
    {
     "name": "stdout",
     "output_type": "stream",
     "text": [
      "saving dir .\\features\\train\\babble\\5db\n",
      "saving dir .\\features\\train\\babble\\5db\n",
      "saving dir .\\features\\train\\babble\\5db\n",
      "saving dir .\\features\\train\\babble\\5db\n",
      "saving dir .\\features\\train\\babble\\5db\n",
      "saving dir .\\features\\train\\babble\\5db\n",
      "saving dir .\\features\\train\\babble\\5db\n",
      "saving dir .\\features\\train\\babble\\5db\n",
      "saving dir .\\features\\train\\babble\\5db\n",
      "saving dir .\\features\\train\\babble\\5db\n",
      "saving dir .\\features\\train\\babble\\5db\n",
      "saving dir .\\features\\train\\babble\\5db\n"
     ]
    },
    {
     "name": "stderr",
     "output_type": "stream",
     "text": [
      "\r",
      "Converting train audios:  59%|██████████████████████████████▍                     | 2707/4620 [00:25<00:16, 113.63it/s]"
     ]
    },
    {
     "name": "stdout",
     "output_type": "stream",
     "text": [
      "saving dir .\\features\\train\\babble\\5db\n",
      "saving dir .\\features\\train\\babble\\5db\n",
      "saving dir .\\features\\train\\babble\\5db\n",
      "saving dir .\\features\\train\\babble\\5db\n",
      "saving dir .\\features\\train\\babble\\5db\n",
      "saving dir .\\features\\train\\babble\\5db\n",
      "saving dir .\\features\\train\\babble\\5db\n",
      "saving dir .\\features\\train\\babble\\5db\n",
      "saving dir .\\features\\train\\babble\\5db\n",
      "saving dir .\\features\\train\\babble\\5db\n",
      "saving dir .\\features\\train\\babble\\5db\n",
      "saving dir .\\features\\train\\babble\\5db\n"
     ]
    },
    {
     "name": "stderr",
     "output_type": "stream",
     "text": [
      "\r",
      "Converting train audios:  59%|███████████████████████████████▏                     | 2719/4620 [00:25<00:21, 86.80it/s]"
     ]
    },
    {
     "name": "stdout",
     "output_type": "stream",
     "text": [
      "saving dir .\\features\\train\\babble\\5db\n",
      "saving dir .\\features\\train\\babble\\5db\n",
      "saving dir .\\features\\train\\babble\\5db\n",
      "saving dir .\\features\\train\\babble\\5db\n",
      "saving dir .\\features\\train\\babble\\5db\n",
      "saving dir .\\features\\train\\babble\\5db\n",
      "saving dir .\\features\\train\\babble\\5db\n",
      "saving dir .\\features\\train\\babble\\5db\n",
      "saving dir .\\features\\train\\babble\\5db\n",
      "saving dir .\\features\\train\\babble\\5db\n",
      "saving dir .\\features\\train\\babble\\5db\n",
      "saving dir .\\features\\train\\babble\\5db\n",
      "saving dir .\\features\\train\\babble\\5db\n"
     ]
    },
    {
     "name": "stderr",
     "output_type": "stream",
     "text": [
      "\r",
      "Converting train audios:  59%|███████████████████████████████▎                     | 2732/4620 [00:26<00:19, 94.99it/s]"
     ]
    },
    {
     "name": "stdout",
     "output_type": "stream",
     "text": [
      "saving dir .\\features\\train\\babble\\5db\n",
      "saving dir .\\features\\train\\babble\\5db\n",
      "saving dir .\\features\\train\\babble\\5db\n",
      "saving dir .\\features\\train\\babble\\5db\n",
      "saving dir .\\features\\train\\babble\\5db\n",
      "saving dir .\\features\\train\\babble\\5db\n",
      "saving dir .\\features\\train\\babble\\5db\n",
      "saving dir .\\features\\train\\babble\\5db\n",
      "saving dir .\\features\\train\\babble\\5db\n",
      "saving dir .\\features\\train\\babble\\5db\n",
      "saving dir .\\features\\train\\babble\\5db\n"
     ]
    },
    {
     "name": "stderr",
     "output_type": "stream",
     "text": [
      "\r",
      "Converting train audios:  59%|███████████████████████████████▍                     | 2743/4620 [00:26<00:19, 98.32it/s]"
     ]
    },
    {
     "name": "stdout",
     "output_type": "stream",
     "text": [
      "saving dir .\\features\\train\\babble\\5db\n",
      "saving dir .\\features\\train\\babble\\5db\n",
      "saving dir .\\features\\train\\babble\\5db\n",
      "saving dir .\\features\\train\\babble\\5db\n",
      "saving dir .\\features\\train\\babble\\5db\n",
      "saving dir .\\features\\train\\babble\\5db\n",
      "saving dir .\\features\\train\\babble\\5db\n",
      "saving dir .\\features\\train\\babble\\5db\n",
      "saving dir .\\features\\train\\babble\\5db\n",
      "saving dir .\\features\\train\\babble\\5db\n",
      "saving dir .\\features\\train\\babble\\5db\n",
      "saving dir .\\features\\train\\babble\\5db\n",
      "saving dir .\\features\\train\\babble\\5db\n"
     ]
    },
    {
     "name": "stderr",
     "output_type": "stream",
     "text": [
      "\r",
      "Converting train audios:  60%|███████████████████████████████                     | 2756/4620 [00:26<00:17, 104.86it/s]"
     ]
    },
    {
     "name": "stdout",
     "output_type": "stream",
     "text": [
      "saving dir .\\features\\train\\babble\\5db\n",
      "saving dir .\\features\\train\\babble\\5db\n",
      "saving dir .\\features\\train\\babble\\5db\n",
      "saving dir .\\features\\train\\babble\\5db\n",
      "saving dir .\\features\\train\\babble\\5db\n",
      "saving dir .\\features\\train\\babble\\5db\n",
      "saving dir .\\features\\train\\babble\\5db\n",
      "saving dir .\\features\\train\\babble\\5db\n",
      "saving dir .\\features\\train\\babble\\5db\n",
      "saving dir .\\features\\train\\babble\\5db\n",
      "saving dir .\\features\\train\\babble\\5db\n",
      "saving dir .\\features\\train\\babble\\5db\n"
     ]
    },
    {
     "name": "stderr",
     "output_type": "stream",
     "text": [
      "\r",
      "Converting train audios:  60%|███████████████████████████████▏                    | 2768/4620 [00:26<00:18, 100.34it/s]"
     ]
    },
    {
     "name": "stdout",
     "output_type": "stream",
     "text": [
      "saving dir .\\features\\train\\babble\\5db\n",
      "saving dir .\\features\\train\\babble\\5db\n",
      "saving dir .\\features\\train\\babble\\5db\n",
      "saving dir .\\features\\train\\babble\\5db\n",
      "saving dir .\\features\\train\\babble\\5db\n",
      "saving dir .\\features\\train\\babble\\5db\n",
      "saving dir .\\features\\train\\babble\\5db\n",
      "saving dir .\\features\\train\\babble\\5db\n",
      "saving dir .\\features\\train\\babble\\5db\n",
      "saving dir .\\features\\train\\babble\\5db\n",
      "saving dir .\\features\\train\\babble\\5db\n",
      "saving dir .\\features\\train\\babble\\5db\n",
      "saving dir .\\features\\train\\babble\\5db\n"
     ]
    },
    {
     "name": "stderr",
     "output_type": "stream",
     "text": [
      "\r",
      "Converting train audios:  60%|███████████████████████████████▎                    | 2781/4620 [00:26<00:17, 105.68it/s]"
     ]
    },
    {
     "name": "stdout",
     "output_type": "stream",
     "text": [
      "saving dir .\\features\\train\\babble\\5db\n",
      "saving dir .\\features\\train\\babble\\5db\n",
      "saving dir .\\features\\train\\babble\\5db\n",
      "saving dir .\\features\\train\\babble\\5db\n",
      "saving dir .\\features\\train\\babble\\5db\n",
      "saving dir .\\features\\train\\babble\\5db\n",
      "saving dir .\\features\\train\\babble\\5db\n",
      "saving dir .\\features\\train\\babble\\5db\n",
      "saving dir .\\features\\train\\babble\\5db\n",
      "saving dir .\\features\\train\\babble\\5db\n",
      "saving dir .\\features\\train\\babble\\5db\n",
      "saving dir .\\features\\train\\babble\\5db\n"
     ]
    },
    {
     "name": "stderr",
     "output_type": "stream",
     "text": [
      "\r",
      "Converting train audios:  60%|███████████████████████████████▍                    | 2793/4620 [00:26<00:16, 107.92it/s]"
     ]
    },
    {
     "name": "stdout",
     "output_type": "stream",
     "text": [
      "saving dir .\\features\\train\\babble\\5db\n",
      "saving dir .\\features\\train\\babble\\5db\n",
      "saving dir .\\features\\train\\babble\\5db\n",
      "saving dir .\\features\\train\\babble\\5db\n",
      "saving dir .\\features\\train\\babble\\5db\n",
      "saving dir .\\features\\train\\babble\\5db\n",
      "saving dir .\\features\\train\\babble\\5db\n",
      "saving dir .\\features\\train\\babble\\5db\n",
      "saving dir .\\features\\train\\babble\\5db\n",
      "saving dir .\\features\\train\\babble\\5db\n",
      "saving dir .\\features\\train\\babble\\5db\n",
      "saving dir .\\features\\train\\babble\\5db\n"
     ]
    },
    {
     "name": "stderr",
     "output_type": "stream",
     "text": [
      "\r",
      "Converting train audios:  61%|███████████████████████████████▌                    | 2805/4620 [00:26<00:16, 107.48it/s]"
     ]
    },
    {
     "name": "stdout",
     "output_type": "stream",
     "text": [
      "saving dir .\\features\\train\\babble\\5db\n",
      "saving dir .\\features\\train\\babble\\5db\n",
      "saving dir .\\features\\train\\babble\\5db\n",
      "saving dir .\\features\\train\\babble\\5db\n",
      "saving dir .\\features\\train\\babble\\5db\n",
      "saving dir .\\features\\train\\babble\\5db\n",
      "saving dir .\\features\\train\\babble\\5db\n",
      "saving dir .\\features\\train\\babble\\5db\n",
      "saving dir .\\features\\train\\babble\\5db\n",
      "saving dir .\\features\\train\\babble\\5db\n",
      "saving dir .\\features\\train\\babble\\5db\n"
     ]
    },
    {
     "name": "stderr",
     "output_type": "stream",
     "text": [
      "\r",
      "Converting train audios:  61%|███████████████████████████████▋                    | 2816/4620 [00:26<00:17, 105.07it/s]"
     ]
    },
    {
     "name": "stdout",
     "output_type": "stream",
     "text": [
      "saving dir .\\features\\train\\babble\\5db\n",
      "saving dir .\\features\\train\\babble\\5db\n",
      "saving dir .\\features\\train\\babble\\5db\n",
      "saving dir .\\features\\train\\babble\\5db\n",
      "saving dir .\\features\\train\\babble\\5db\n",
      "saving dir .\\features\\train\\babble\\5db\n",
      "saving dir .\\features\\train\\babble\\5db\n",
      "saving dir .\\features\\train\\babble\\5db\n",
      "saving dir .\\features\\train\\babble\\5db\n",
      "saving dir .\\features\\train\\babble\\5db\n",
      "saving dir .\\features\\train\\babble\\5db\n",
      "saving dir .\\features\\train\\babble\\5db\n"
     ]
    },
    {
     "name": "stderr",
     "output_type": "stream",
     "text": [
      "\r",
      "Converting train audios:  61%|███████████████████████████████▊                    | 2828/4620 [00:26<00:16, 107.46it/s]"
     ]
    },
    {
     "name": "stdout",
     "output_type": "stream",
     "text": [
      "saving dir .\\features\\train\\babble\\5db\n",
      "saving dir .\\features\\train\\babble\\5db\n",
      "saving dir .\\features\\train\\babble\\5db\n",
      "saving dir .\\features\\train\\babble\\5db\n",
      "saving dir .\\features\\train\\babble\\5db\n",
      "saving dir .\\features\\train\\babble\\5db\n",
      "saving dir .\\features\\train\\babble\\5db\n",
      "saving dir .\\features\\train\\babble\\5db\n",
      "saving dir .\\features\\train\\babble\\5db\n",
      "saving dir .\\features\\train\\babble\\5db\n",
      "saving dir .\\features\\train\\babble\\5db\n",
      "saving dir .\\features\\train\\babble\\5db\n"
     ]
    },
    {
     "name": "stderr",
     "output_type": "stream",
     "text": [
      "\r",
      "Converting train audios:  61%|███████████████████████████████▉                    | 2840/4620 [00:27<00:16, 109.81it/s]"
     ]
    },
    {
     "name": "stdout",
     "output_type": "stream",
     "text": [
      "saving dir .\\features\\train\\babble\\5db\n",
      "saving dir .\\features\\train\\babble\\5db\n",
      "saving dir .\\features\\train\\babble\\5db\n",
      "saving dir .\\features\\train\\babble\\5db\n",
      "saving dir .\\features\\train\\babble\\5db\n",
      "saving dir .\\features\\train\\babble\\5db\n",
      "saving dir .\\features\\train\\babble\\5db\n",
      "saving dir .\\features\\train\\babble\\5db\n",
      "saving dir .\\features\\train\\babble\\5db\n",
      "saving dir .\\features\\train\\babble\\5db\n",
      "saving dir .\\features\\train\\babble\\5db\n",
      "saving dir .\\features\\train\\babble\\5db\n",
      "saving dir .\\features\\train\\babble\\5db\n"
     ]
    },
    {
     "name": "stderr",
     "output_type": "stream",
     "text": [
      "\r",
      "Converting train audios:  62%|████████████████████████████████                    | 2853/4620 [00:27<00:15, 114.96it/s]"
     ]
    },
    {
     "name": "stdout",
     "output_type": "stream",
     "text": [
      "saving dir .\\features\\train\\babble\\5db\n",
      "saving dir .\\features\\train\\babble\\5db\n",
      "saving dir .\\features\\train\\babble\\5db\n",
      "saving dir .\\features\\train\\babble\\5db\n",
      "saving dir .\\features\\train\\babble\\5db\n",
      "saving dir .\\features\\train\\babble\\5db\n",
      "saving dir .\\features\\train\\babble\\5db\n",
      "saving dir .\\features\\train\\babble\\5db\n",
      "saving dir .\\features\\train\\babble\\5db\n",
      "saving dir .\\features\\train\\babble\\5db\n",
      "saving dir .\\features\\train\\babble\\5db\n",
      "saving dir .\\features\\train\\babble\\5db\n",
      "saving dir .\\features\\train\\babble\\5db\n"
     ]
    },
    {
     "name": "stderr",
     "output_type": "stream",
     "text": [
      "\r",
      "Converting train audios:  62%|████████████████████████████████▎                   | 2866/4620 [00:27<00:14, 118.85it/s]"
     ]
    },
    {
     "name": "stdout",
     "output_type": "stream",
     "text": [
      "saving dir .\\features\\train\\babble\\5db\n",
      "saving dir .\\features\\train\\babble\\5db\n",
      "saving dir .\\features\\train\\babble\\5db\n",
      "saving dir .\\features\\train\\babble\\5db\n",
      "saving dir .\\features\\train\\babble\\5db\n",
      "saving dir .\\features\\train\\babble\\5db\n",
      "saving dir .\\features\\train\\babble\\5db\n",
      "saving dir .\\features\\train\\babble\\5db\n",
      "saving dir .\\features\\train\\babble\\5db\n",
      "saving dir .\\features\\train\\babble\\5db\n",
      "saving dir .\\features\\train\\babble\\5db\n",
      "saving dir .\\features\\train\\babble\\5db\n",
      "saving dir .\\features\\train\\babble\\5db\n"
     ]
    },
    {
     "name": "stderr",
     "output_type": "stream",
     "text": [
      "\r",
      "Converting train audios:  62%|████████████████████████████████▍                   | 2879/4620 [00:27<00:15, 113.77it/s]"
     ]
    },
    {
     "name": "stdout",
     "output_type": "stream",
     "text": [
      "saving dir .\\features\\train\\babble\\5db\n",
      "saving dir .\\features\\train\\babble\\5db\n",
      "saving dir .\\features\\train\\babble\\5db\n",
      "saving dir .\\features\\train\\babble\\5db\n",
      "saving dir .\\features\\train\\babble\\5db\n",
      "saving dir .\\features\\train\\babble\\5db\n",
      "saving dir .\\features\\train\\babble\\5db\n",
      "saving dir .\\features\\train\\babble\\5db\n",
      "saving dir .\\features\\train\\babble\\5db\n",
      "saving dir .\\features\\train\\babble\\5db\n",
      "saving dir .\\features\\train\\babble\\5db\n",
      "saving dir .\\features\\train\\babble\\5db\n"
     ]
    },
    {
     "name": "stderr",
     "output_type": "stream",
     "text": [
      "\r",
      "Converting train audios:  63%|████████████████████████████████▌                   | 2891/4620 [00:27<00:15, 113.05it/s]"
     ]
    },
    {
     "name": "stdout",
     "output_type": "stream",
     "text": [
      "saving dir .\\features\\train\\babble\\5db\n",
      "saving dir .\\features\\train\\babble\\5db\n",
      "saving dir .\\features\\train\\babble\\5db\n",
      "saving dir .\\features\\train\\babble\\5db\n",
      "saving dir .\\features\\train\\babble\\5db\n",
      "saving dir .\\features\\train\\babble\\5db\n",
      "saving dir .\\features\\train\\babble\\5db\n",
      "saving dir .\\features\\train\\babble\\5db\n",
      "saving dir .\\features\\train\\babble\\5db\n",
      "saving dir .\\features\\train\\babble\\5db\n",
      "saving dir .\\features\\train\\babble\\5db\n",
      "saving dir .\\features\\train\\babble\\5db\n"
     ]
    },
    {
     "name": "stderr",
     "output_type": "stream",
     "text": [
      "\r",
      "Converting train audios:  63%|████████████████████████████████▋                   | 2903/4620 [00:27<00:15, 111.61it/s]"
     ]
    },
    {
     "name": "stdout",
     "output_type": "stream",
     "text": [
      "saving dir .\\features\\train\\babble\\5db\n",
      "saving dir .\\features\\train\\babble\\5db\n",
      "saving dir .\\features\\train\\babble\\5db\n",
      "saving dir .\\features\\train\\babble\\5db\n",
      "saving dir .\\features\\train\\babble\\5db\n",
      "saving dir .\\features\\train\\babble\\5db\n",
      "saving dir .\\features\\train\\babble\\5db\n",
      "saving dir .\\features\\train\\babble\\5db\n",
      "saving dir .\\features\\train\\babble\\5db\n",
      "saving dir .\\features\\train\\babble\\5db\n",
      "saving dir .\\features\\train\\babble\\5db\n",
      "saving dir .\\features\\train\\babble\\5db\n"
     ]
    },
    {
     "name": "stderr",
     "output_type": "stream",
     "text": [
      "\r",
      "Converting train audios:  63%|████████████████████████████████▊                   | 2915/4620 [00:27<00:15, 110.32it/s]"
     ]
    },
    {
     "name": "stdout",
     "output_type": "stream",
     "text": [
      "saving dir .\\features\\train\\babble\\5db\n",
      "saving dir .\\features\\train\\babble\\5db\n",
      "saving dir .\\features\\train\\babble\\5db\n",
      "saving dir .\\features\\train\\babble\\5db\n",
      "saving dir .\\features\\train\\babble\\5db\n",
      "saving dir .\\features\\train\\babble\\5db\n",
      "saving dir .\\features\\train\\babble\\5db\n",
      "saving dir .\\features\\train\\babble\\5db\n",
      "saving dir .\\features\\train\\babble\\5db\n",
      "saving dir .\\features\\train\\babble\\5db\n",
      "saving dir .\\features\\train\\babble\\5db\n",
      "saving dir .\\features\\train\\babble\\5db\n"
     ]
    },
    {
     "name": "stderr",
     "output_type": "stream",
     "text": [
      "\r",
      "Converting train audios:  63%|████████████████████████████████▉                   | 2927/4620 [00:27<00:15, 110.95it/s]"
     ]
    },
    {
     "name": "stdout",
     "output_type": "stream",
     "text": [
      "saving dir .\\features\\train\\babble\\5db\n",
      "saving dir .\\features\\train\\babble\\5db\n",
      "saving dir .\\features\\train\\babble\\5db\n",
      "saving dir .\\features\\train\\babble\\5db\n",
      "saving dir .\\features\\train\\babble\\5db\n",
      "saving dir .\\features\\train\\babble\\5db\n",
      "saving dir .\\features\\train\\babble\\5db\n",
      "saving dir .\\features\\train\\babble\\5db\n",
      "saving dir .\\features\\train\\babble\\5db\n",
      "saving dir .\\features\\train\\babble\\5db\n",
      "saving dir .\\features\\train\\babble\\5db\n",
      "saving dir .\\features\\train\\babble\\5db\n"
     ]
    },
    {
     "name": "stderr",
     "output_type": "stream",
     "text": [
      "\r",
      "Converting train audios:  64%|█████████████████████████████████                   | 2939/4620 [00:27<00:15, 111.71it/s]"
     ]
    },
    {
     "name": "stdout",
     "output_type": "stream",
     "text": [
      "saving dir .\\features\\train\\babble\\5db\n",
      "saving dir .\\features\\train\\babble\\5db\n",
      "saving dir .\\features\\train\\babble\\5db\n",
      "saving dir .\\features\\train\\babble\\5db\n",
      "saving dir .\\features\\train\\babble\\5db\n",
      "saving dir .\\features\\train\\babble\\5db\n",
      "saving dir .\\features\\train\\babble\\5db\n",
      "saving dir .\\features\\train\\babble\\5db\n",
      "saving dir .\\features\\train\\babble\\5db\n",
      "saving dir .\\features\\train\\babble\\5db\n",
      "saving dir .\\features\\train\\babble\\5db\n",
      "saving dir .\\features\\train\\babble\\5db\n",
      "saving dir .\\features\\train\\babble\\5db\n"
     ]
    },
    {
     "name": "stderr",
     "output_type": "stream",
     "text": [
      "\r",
      "Converting train audios:  64%|█████████████████████████████████▏                  | 2952/4620 [00:28<00:14, 115.47it/s]"
     ]
    },
    {
     "name": "stdout",
     "output_type": "stream",
     "text": [
      "saving dir .\\features\\train\\babble\\5db\n",
      "saving dir .\\features\\train\\babble\\5db\n",
      "saving dir .\\features\\train\\babble\\5db\n",
      "saving dir .\\features\\train\\babble\\5db\n",
      "saving dir .\\features\\train\\babble\\5db\n",
      "saving dir .\\features\\train\\babble\\5db\n",
      "saving dir .\\features\\train\\babble\\5db\n",
      "saving dir .\\features\\train\\babble\\5db\n",
      "saving dir .\\features\\train\\babble\\5db\n",
      "saving dir .\\features\\train\\babble\\5db\n",
      "saving dir .\\features\\train\\babble\\5db\n",
      "saving dir .\\features\\train\\babble\\5db\n"
     ]
    },
    {
     "name": "stderr",
     "output_type": "stream",
     "text": [
      "\r",
      "Converting train audios:  64%|█████████████████████████████████▎                  | 2964/4620 [00:28<00:15, 106.35it/s]"
     ]
    },
    {
     "name": "stdout",
     "output_type": "stream",
     "text": [
      "saving dir .\\features\\train\\babble\\5db\n",
      "saving dir .\\features\\train\\babble\\5db\n",
      "saving dir .\\features\\train\\babble\\5db\n",
      "saving dir .\\features\\train\\babble\\5db\n",
      "saving dir .\\features\\train\\babble\\5db\n",
      "saving dir .\\features\\train\\babble\\5db\n",
      "saving dir .\\features\\train\\babble\\5db\n",
      "saving dir .\\features\\train\\babble\\5db\n",
      "saving dir .\\features\\train\\babble\\5db\n",
      "saving dir .\\features\\train\\babble\\5db\n",
      "saving dir .\\features\\train\\babble\\5db\n",
      "saving dir .\\features\\train\\babble\\5db\n"
     ]
    },
    {
     "name": "stderr",
     "output_type": "stream",
     "text": [
      "\r",
      "Converting train audios:  64%|█████████████████████████████████▍                  | 2976/4620 [00:28<00:14, 109.89it/s]"
     ]
    },
    {
     "name": "stdout",
     "output_type": "stream",
     "text": [
      "saving dir .\\features\\train\\babble\\5db\n",
      "saving dir .\\features\\train\\babble\\5db\n",
      "saving dir .\\features\\train\\babble\\5db\n",
      "saving dir .\\features\\train\\babble\\5db\n",
      "saving dir .\\features\\train\\babble\\5db\n",
      "saving dir .\\features\\train\\babble\\5db\n",
      "saving dir .\\features\\train\\babble\\5db\n",
      "saving dir .\\features\\train\\babble\\5db\n",
      "saving dir .\\features\\train\\babble\\5db\n",
      "saving dir .\\features\\train\\babble\\5db\n",
      "saving dir .\\features\\train\\babble\\5db\n",
      "saving dir .\\features\\train\\babble\\5db\n"
     ]
    },
    {
     "name": "stderr",
     "output_type": "stream",
     "text": [
      "\r",
      "Converting train audios:  65%|█████████████████████████████████▋                  | 2988/4620 [00:28<00:14, 110.95it/s]"
     ]
    },
    {
     "name": "stdout",
     "output_type": "stream",
     "text": [
      "saving dir .\\features\\train\\babble\\5db\n",
      "saving dir .\\features\\train\\babble\\5db\n",
      "saving dir .\\features\\train\\babble\\5db\n",
      "saving dir .\\features\\train\\babble\\5db\n",
      "saving dir .\\features\\train\\babble\\5db\n",
      "saving dir .\\features\\train\\babble\\5db\n",
      "saving dir .\\features\\train\\babble\\5db\n",
      "saving dir .\\features\\train\\babble\\5db\n",
      "saving dir .\\features\\train\\babble\\5db\n",
      "saving dir .\\features\\train\\babble\\5db\n",
      "saving dir .\\features\\train\\babble\\5db\n",
      "saving dir .\\features\\train\\babble\\5db\n",
      "saving dir .\\features\\train\\babble\\5db\n"
     ]
    },
    {
     "name": "stderr",
     "output_type": "stream",
     "text": [
      "\r",
      "Converting train audios:  65%|█████████████████████████████████▊                  | 3001/4620 [00:28<00:14, 114.60it/s]"
     ]
    },
    {
     "name": "stdout",
     "output_type": "stream",
     "text": [
      "saving dir .\\features\\train\\babble\\5db\n",
      "saving dir .\\features\\train\\babble\\5db\n",
      "saving dir .\\features\\train\\babble\\5db\n",
      "saving dir .\\features\\train\\babble\\5db\n",
      "saving dir .\\features\\train\\babble\\5db\n",
      "saving dir .\\features\\train\\babble\\5db\n",
      "saving dir .\\features\\train\\babble\\5db\n",
      "saving dir .\\features\\train\\babble\\5db\n",
      "saving dir .\\features\\train\\babble\\5db\n",
      "saving dir .\\features\\train\\babble\\5db\n",
      "saving dir .\\features\\train\\babble\\5db\n",
      "saving dir .\\features\\train\\babble\\5db\n"
     ]
    },
    {
     "name": "stderr",
     "output_type": "stream",
     "text": [
      "\r",
      "Converting train audios:  65%|█████████████████████████████████▉                  | 3013/4620 [00:28<00:14, 111.11it/s]"
     ]
    },
    {
     "name": "stdout",
     "output_type": "stream",
     "text": [
      "saving dir .\\features\\train\\babble\\5db\n",
      "saving dir .\\features\\train\\babble\\5db\n",
      "saving dir .\\features\\train\\babble\\5db\n",
      "saving dir .\\features\\train\\babble\\5db\n",
      "saving dir .\\features\\train\\babble\\5db\n",
      "saving dir .\\features\\train\\babble\\5db\n",
      "saving dir .\\features\\train\\babble\\5db\n",
      "saving dir .\\features\\train\\babble\\5db\n",
      "saving dir .\\features\\train\\babble\\5db\n",
      "saving dir .\\features\\train\\babble\\5db\n",
      "saving dir .\\features\\train\\babble\\5db\n",
      "saving dir .\\features\\train\\babble\\5db\n",
      "saving dir .\\features\\train\\babble\\5db\n"
     ]
    },
    {
     "name": "stderr",
     "output_type": "stream",
     "text": [
      "\r",
      "Converting train audios:  65%|██████████████████████████████████                  | 3026/4620 [00:28<00:13, 114.12it/s]"
     ]
    },
    {
     "name": "stdout",
     "output_type": "stream",
     "text": [
      "saving dir .\\features\\train\\babble\\5db\n",
      "saving dir .\\features\\train\\babble\\5db\n",
      "saving dir .\\features\\train\\babble\\5db\n",
      "saving dir .\\features\\train\\babble\\5db\n",
      "saving dir .\\features\\train\\babble\\5db\n",
      "saving dir .\\features\\train\\babble\\5db\n",
      "saving dir .\\features\\train\\babble\\5db\n",
      "saving dir .\\features\\train\\babble\\5db\n",
      "saving dir .\\features\\train\\babble\\5db\n",
      "saving dir .\\features\\train\\babble\\5db\n",
      "saving dir .\\features\\train\\babble\\5db\n",
      "saving dir .\\features\\train\\babble\\5db\n"
     ]
    },
    {
     "name": "stderr",
     "output_type": "stream",
     "text": [
      "\r",
      "Converting train audios:  66%|██████████████████████████████████▏                 | 3038/4620 [00:28<00:14, 112.34it/s]"
     ]
    },
    {
     "name": "stdout",
     "output_type": "stream",
     "text": [
      "saving dir .\\features\\train\\babble\\5db\n",
      "saving dir .\\features\\train\\babble\\5db\n",
      "saving dir .\\features\\train\\babble\\5db\n",
      "saving dir .\\features\\train\\babble\\5db\n",
      "saving dir .\\features\\train\\babble\\5db\n",
      "saving dir .\\features\\train\\babble\\5db\n",
      "saving dir .\\features\\train\\babble\\5db\n",
      "saving dir .\\features\\train\\babble\\5db\n",
      "saving dir .\\features\\train\\babble\\5db\n",
      "saving dir .\\features\\train\\babble\\5db\n",
      "saving dir .\\features\\train\\babble\\5db\n",
      "saving dir .\\features\\train\\babble\\5db\n",
      "saving dir .\\features\\train\\babble\\5db\n"
     ]
    },
    {
     "name": "stderr",
     "output_type": "stream",
     "text": [
      "\r",
      "Converting train audios:  66%|██████████████████████████████████▎                 | 3051/4620 [00:28<00:13, 115.33it/s]"
     ]
    },
    {
     "name": "stdout",
     "output_type": "stream",
     "text": [
      "saving dir .\\features\\train\\babble\\5db\n",
      "saving dir .\\features\\train\\babble\\5db\n",
      "saving dir .\\features\\train\\babble\\5db\n",
      "saving dir .\\features\\train\\babble\\5db\n",
      "saving dir .\\features\\train\\babble\\5db\n",
      "saving dir .\\features\\train\\babble\\5db\n",
      "saving dir .\\features\\train\\babble\\5db\n",
      "saving dir .\\features\\train\\babble\\5db\n",
      "saving dir .\\features\\train\\babble\\5db\n",
      "saving dir .\\features\\train\\babble\\5db\n",
      "saving dir .\\features\\train\\babble\\5db\n",
      "saving dir .\\features\\train\\babble\\5db\n",
      "saving dir .\\features\\train\\babble\\5db\n"
     ]
    },
    {
     "name": "stderr",
     "output_type": "stream",
     "text": [
      "\r",
      "Converting train audios:  66%|██████████████████████████████████▍                 | 3064/4620 [00:29<00:13, 117.52it/s]"
     ]
    },
    {
     "name": "stdout",
     "output_type": "stream",
     "text": [
      "saving dir .\\features\\train\\babble\\5db\n",
      "saving dir .\\features\\train\\babble\\5db\n",
      "saving dir .\\features\\train\\babble\\5db\n",
      "saving dir .\\features\\train\\babble\\5db\n",
      "saving dir .\\features\\train\\babble\\5db\n",
      "saving dir .\\features\\train\\babble\\5db\n",
      "saving dir .\\features\\train\\babble\\5db\n",
      "saving dir .\\features\\train\\babble\\5db\n",
      "saving dir .\\features\\train\\babble\\5db\n",
      "saving dir .\\features\\train\\babble\\5db\n",
      "saving dir .\\features\\train\\babble\\5db\n",
      "saving dir .\\features\\train\\babble\\5db\n"
     ]
    },
    {
     "name": "stderr",
     "output_type": "stream",
     "text": [
      "\r",
      "Converting train audios:  67%|██████████████████████████████████▌                 | 3076/4620 [00:29<00:13, 116.63it/s]"
     ]
    },
    {
     "name": "stdout",
     "output_type": "stream",
     "text": [
      "saving dir .\\features\\train\\babble\\5db\n",
      "saving dir .\\features\\train\\babble\\5db\n",
      "saving dir .\\features\\train\\babble\\5db\n",
      "saving dir .\\features\\train\\babble\\5db\n",
      "saving dir .\\features\\train\\babble\\5db\n",
      "saving dir .\\features\\train\\babble\\5db\n",
      "saving dir .\\features\\train\\babble\\5db\n",
      "saving dir .\\features\\train\\babble\\5db\n",
      "saving dir .\\features\\train\\babble\\5db\n",
      "saving dir .\\features\\train\\babble\\5db\n",
      "saving dir .\\features\\train\\babble\\5db\n",
      "saving dir .\\features\\train\\babble\\5db\n"
     ]
    },
    {
     "name": "stderr",
     "output_type": "stream",
     "text": [
      "\r",
      "Converting train audios:  67%|██████████████████████████████████▊                 | 3088/4620 [00:29<00:13, 112.12it/s]"
     ]
    },
    {
     "name": "stdout",
     "output_type": "stream",
     "text": [
      "saving dir .\\features\\train\\babble\\5db\n",
      "saving dir .\\features\\train\\babble\\5db\n",
      "saving dir .\\features\\train\\babble\\5db\n",
      "saving dir .\\features\\train\\babble\\5db\n",
      "saving dir .\\features\\train\\babble\\5db\n",
      "saving dir .\\features\\train\\babble\\5db\n",
      "saving dir .\\features\\train\\babble\\5db\n",
      "saving dir .\\features\\train\\babble\\5db\n",
      "saving dir .\\features\\train\\babble\\5db\n",
      "saving dir .\\features\\train\\babble\\5db\n",
      "saving dir .\\features\\train\\babble\\5db\n",
      "saving dir .\\features\\train\\babble\\5db\n"
     ]
    },
    {
     "name": "stderr",
     "output_type": "stream",
     "text": [
      "\r",
      "Converting train audios:  67%|██████████████████████████████████▉                 | 3100/4620 [00:29<00:13, 110.36it/s]"
     ]
    },
    {
     "name": "stdout",
     "output_type": "stream",
     "text": [
      "saving dir .\\features\\train\\babble\\5db\n",
      "saving dir .\\features\\train\\babble\\5db\n",
      "saving dir .\\features\\train\\babble\\5db\n",
      "saving dir .\\features\\train\\babble\\5db\n",
      "saving dir .\\features\\train\\babble\\5db\n",
      "saving dir .\\features\\train\\babble\\5db\n",
      "saving dir .\\features\\train\\babble\\5db\n",
      "saving dir .\\features\\train\\babble\\5db\n",
      "saving dir .\\features\\train\\babble\\5db\n",
      "saving dir .\\features\\train\\babble\\5db\n",
      "saving dir .\\features\\train\\babble\\5db\n",
      "saving dir .\\features\\train\\babble\\5db\n",
      "saving dir .\\features\\train\\babble\\5db\n"
     ]
    },
    {
     "name": "stderr",
     "output_type": "stream",
     "text": [
      "\r",
      "Converting train audios:  67%|███████████████████████████████████                 | 3113/4620 [00:29<00:13, 115.07it/s]"
     ]
    },
    {
     "name": "stdout",
     "output_type": "stream",
     "text": [
      "saving dir .\\features\\train\\babble\\5db\n",
      "saving dir .\\features\\train\\babble\\5db\n",
      "saving dir .\\features\\train\\babble\\5db\n",
      "saving dir .\\features\\train\\babble\\5db\n",
      "saving dir .\\features\\train\\babble\\5db\n",
      "saving dir .\\features\\train\\babble\\5db\n",
      "saving dir .\\features\\train\\babble\\5db\n",
      "saving dir .\\features\\train\\babble\\5db\n",
      "saving dir .\\features\\train\\babble\\5db\n",
      "saving dir .\\features\\train\\babble\\5db\n",
      "saving dir .\\features\\train\\babble\\5db\n",
      "saving dir .\\features\\train\\babble\\5db\n"
     ]
    },
    {
     "name": "stderr",
     "output_type": "stream",
     "text": [
      "\r",
      "Converting train audios:  68%|███████████████████████████████████▏                | 3125/4620 [00:29<00:13, 112.03it/s]"
     ]
    },
    {
     "name": "stdout",
     "output_type": "stream",
     "text": [
      "saving dir .\\features\\train\\babble\\5db\n",
      "saving dir .\\features\\train\\babble\\5db\n",
      "saving dir .\\features\\train\\babble\\5db\n",
      "saving dir .\\features\\train\\babble\\5db\n",
      "saving dir .\\features\\train\\babble\\5db\n",
      "saving dir .\\features\\train\\babble\\5db\n",
      "saving dir .\\features\\train\\babble\\5db\n",
      "saving dir .\\features\\train\\babble\\5db\n",
      "saving dir .\\features\\train\\babble\\5db\n",
      "saving dir .\\features\\train\\babble\\5db\n",
      "saving dir .\\features\\train\\babble\\5db\n",
      "saving dir .\\features\\train\\babble\\5db\n",
      "saving dir .\\features\\train\\babble\\5db\n"
     ]
    },
    {
     "name": "stderr",
     "output_type": "stream",
     "text": [
      "\r",
      "Converting train audios:  68%|███████████████████████████████████▎                | 3138/4620 [00:29<00:12, 116.02it/s]"
     ]
    },
    {
     "name": "stdout",
     "output_type": "stream",
     "text": [
      "saving dir .\\features\\train\\babble\\5db\n",
      "saving dir .\\features\\train\\babble\\5db\n",
      "saving dir .\\features\\train\\babble\\5db\n",
      "saving dir .\\features\\train\\babble\\5db\n",
      "saving dir .\\features\\train\\babble\\5db\n",
      "saving dir .\\features\\train\\babble\\5db\n",
      "saving dir .\\features\\train\\babble\\5db\n",
      "saving dir .\\features\\train\\babble\\5db\n",
      "saving dir .\\features\\train\\babble\\5db\n",
      "saving dir .\\features\\train\\babble\\5db\n",
      "saving dir .\\features\\train\\babble\\5db\n",
      "saving dir .\\features\\train\\babble\\5db\n"
     ]
    },
    {
     "name": "stderr",
     "output_type": "stream",
     "text": [
      "\r",
      "Converting train audios:  68%|███████████████████████████████████▍                | 3150/4620 [00:29<00:12, 115.59it/s]"
     ]
    },
    {
     "name": "stdout",
     "output_type": "stream",
     "text": [
      "saving dir .\\features\\train\\babble\\5db\n",
      "saving dir .\\features\\train\\babble\\5db\n",
      "saving dir .\\features\\train\\babble\\5db\n",
      "saving dir .\\features\\train\\babble\\5db\n",
      "saving dir .\\features\\train\\babble\\5db\n",
      "saving dir .\\features\\train\\babble\\5db\n",
      "saving dir .\\features\\train\\babble\\5db\n",
      "saving dir .\\features\\train\\babble\\5db\n",
      "saving dir .\\features\\train\\babble\\5db\n",
      "saving dir .\\features\\train\\babble\\5db\n",
      "saving dir .\\features\\train\\babble\\5db\n",
      "saving dir .\\features\\train\\babble\\5db\n"
     ]
    },
    {
     "name": "stderr",
     "output_type": "stream",
     "text": [
      "\r",
      "Converting train audios:  68%|███████████████████████████████████▌                | 3162/4620 [00:29<00:12, 116.63it/s]"
     ]
    },
    {
     "name": "stdout",
     "output_type": "stream",
     "text": [
      "saving dir .\\features\\train\\babble\\5db\n",
      "saving dir .\\features\\train\\babble\\5db\n",
      "saving dir .\\features\\train\\babble\\5db\n",
      "saving dir .\\features\\train\\babble\\5db\n",
      "saving dir .\\features\\train\\babble\\5db\n",
      "saving dir .\\features\\train\\babble\\5db\n",
      "saving dir .\\features\\train\\babble\\5db\n",
      "saving dir .\\features\\train\\babble\\5db\n",
      "saving dir .\\features\\train\\babble\\5db\n",
      "saving dir .\\features\\train\\babble\\5db\n",
      "saving dir .\\features\\train\\babble\\5db\n",
      "saving dir .\\features\\train\\babble\\5db\n",
      "saving dir .\\features\\train\\babble\\5db\n"
     ]
    },
    {
     "name": "stderr",
     "output_type": "stream",
     "text": [
      "\r",
      "Converting train audios:  69%|███████████████████████████████████▋                | 3175/4620 [00:29<00:12, 119.44it/s]"
     ]
    },
    {
     "name": "stdout",
     "output_type": "stream",
     "text": [
      "saving dir .\\features\\train\\babble\\5db\n",
      "saving dir .\\features\\train\\babble\\5db\n",
      "saving dir .\\features\\train\\babble\\5db\n",
      "saving dir .\\features\\train\\babble\\5db\n",
      "saving dir .\\features\\train\\babble\\5db\n",
      "saving dir .\\features\\train\\babble\\5db\n",
      "saving dir .\\features\\train\\babble\\5db\n",
      "saving dir .\\features\\train\\babble\\5db\n",
      "saving dir .\\features\\train\\babble\\5db\n",
      "saving dir .\\features\\train\\babble\\5db\n",
      "saving dir .\\features\\train\\babble\\5db\n",
      "saving dir .\\features\\train\\babble\\5db\n"
     ]
    },
    {
     "name": "stderr",
     "output_type": "stream",
     "text": [
      "\r",
      "Converting train audios:  69%|███████████████████████████████████▊                | 3187/4620 [00:30<00:12, 119.35it/s]"
     ]
    },
    {
     "name": "stdout",
     "output_type": "stream",
     "text": [
      "saving dir .\\features\\train\\babble\\5db\n",
      "saving dir .\\features\\train\\babble\\5db\n",
      "saving dir .\\features\\train\\babble\\5db\n",
      "saving dir .\\features\\train\\babble\\5db\n",
      "saving dir .\\features\\train\\babble\\5db\n",
      "saving dir .\\features\\train\\babble\\5db\n",
      "saving dir .\\features\\train\\babble\\5db\n",
      "saving dir .\\features\\train\\babble\\5db\n",
      "saving dir .\\features\\train\\babble\\5db\n",
      "saving dir .\\features\\train\\babble\\5db\n",
      "saving dir .\\features\\train\\babble\\5db\n",
      "saving dir .\\features\\train\\babble\\5db\n"
     ]
    },
    {
     "name": "stderr",
     "output_type": "stream",
     "text": [
      "\r",
      "Converting train audios:  69%|████████████████████████████████████▋                | 3199/4620 [00:30<00:18, 78.60it/s]"
     ]
    },
    {
     "name": "stdout",
     "output_type": "stream",
     "text": [
      "saving dir .\\features\\train\\babble\\5db\n",
      "saving dir .\\features\\train\\babble\\5db\n",
      "saving dir .\\features\\train\\babble\\5db\n",
      "saving dir .\\features\\train\\babble\\5db\n",
      "saving dir .\\features\\train\\babble\\5db\n",
      "saving dir .\\features\\train\\babble\\5db\n",
      "saving dir .\\features\\train\\babble\\5db\n",
      "saving dir .\\features\\train\\babble\\5db\n",
      "saving dir .\\features\\train\\babble\\5db\n",
      "saving dir .\\features\\train\\babble\\5db\n",
      "saving dir .\\features\\train\\babble\\5db\n",
      "saving dir .\\features\\train\\babble\\5db\n"
     ]
    },
    {
     "name": "stderr",
     "output_type": "stream",
     "text": [
      "\r",
      "Converting train audios:  70%|████████████████████████████████████▊                | 3211/4620 [00:30<00:16, 86.04it/s]"
     ]
    },
    {
     "name": "stdout",
     "output_type": "stream",
     "text": [
      "saving dir .\\features\\train\\babble\\5db\n",
      "saving dir .\\features\\train\\babble\\5db\n",
      "saving dir .\\features\\train\\babble\\5db\n",
      "saving dir .\\features\\train\\babble\\5db\n",
      "saving dir .\\features\\train\\babble\\5db\n",
      "saving dir .\\features\\train\\babble\\5db\n",
      "saving dir .\\features\\train\\babble\\5db\n",
      "saving dir .\\features\\train\\babble\\5db\n",
      "saving dir .\\features\\train\\babble\\5db\n",
      "saving dir .\\features\\train\\babble\\5db\n",
      "saving dir .\\features\\train\\babble\\5db\n",
      "saving dir .\\features\\train\\babble\\5db\n"
     ]
    },
    {
     "name": "stderr",
     "output_type": "stream",
     "text": [
      "\r",
      "Converting train audios:  70%|████████████████████████████████████▉                | 3223/4620 [00:30<00:14, 93.20it/s]"
     ]
    },
    {
     "name": "stdout",
     "output_type": "stream",
     "text": [
      "saving dir .\\features\\train\\babble\\5db\n",
      "saving dir .\\features\\train\\babble\\5db\n",
      "saving dir .\\features\\train\\babble\\5db\n",
      "saving dir .\\features\\train\\babble\\5db\n",
      "saving dir .\\features\\train\\babble\\5db\n",
      "saving dir .\\features\\train\\babble\\5db\n",
      "saving dir .\\features\\train\\babble\\5db\n",
      "saving dir .\\features\\train\\babble\\5db\n",
      "saving dir .\\features\\train\\babble\\5db\n",
      "saving dir .\\features\\train\\babble\\5db\n",
      "saving dir .\\features\\train\\babble\\5db\n",
      "saving dir .\\features\\train\\babble\\5db\n",
      "saving dir .\\features\\train\\babble\\5db\n"
     ]
    },
    {
     "name": "stderr",
     "output_type": "stream",
     "text": [
      "\r",
      "Converting train audios:  70%|█████████████████████████████████████                | 3236/4620 [00:30<00:13, 99.35it/s]"
     ]
    },
    {
     "name": "stdout",
     "output_type": "stream",
     "text": [
      "saving dir .\\features\\train\\babble\\5db\n",
      "saving dir .\\features\\train\\babble\\5db\n",
      "saving dir .\\features\\train\\babble\\5db\n",
      "saving dir .\\features\\train\\babble\\5db\n",
      "saving dir .\\features\\train\\babble\\5db\n",
      "saving dir .\\features\\train\\babble\\5db\n",
      "saving dir .\\features\\train\\babble\\5db\n",
      "saving dir .\\features\\train\\babble\\5db\n",
      "saving dir .\\features\\train\\babble\\5db\n",
      "saving dir .\\features\\train\\babble\\5db\n",
      "saving dir .\\features\\train\\babble\\5db\n",
      "saving dir .\\features\\train\\babble\\5db\n",
      "saving dir .\\features\\train\\babble\\5db\n"
     ]
    },
    {
     "name": "stderr",
     "output_type": "stream",
     "text": [
      "\r",
      "Converting train audios:  70%|████████████████████████████████████▌               | 3249/4620 [00:30<00:13, 105.17it/s]"
     ]
    },
    {
     "name": "stdout",
     "output_type": "stream",
     "text": [
      "saving dir .\\features\\train\\babble\\5db\n",
      "saving dir .\\features\\train\\babble\\5db\n",
      "saving dir .\\features\\train\\babble\\5db\n",
      "saving dir .\\features\\train\\babble\\5db\n",
      "saving dir .\\features\\train\\babble\\5db\n",
      "saving dir .\\features\\train\\babble\\5db\n",
      "saving dir .\\features\\train\\babble\\5db\n",
      "saving dir .\\features\\train\\babble\\5db\n",
      "saving dir .\\features\\train\\babble\\5db\n",
      "saving dir .\\features\\train\\babble\\5db\n",
      "saving dir .\\features\\train\\babble\\5db\n",
      "saving dir .\\features\\train\\babble\\5db\n"
     ]
    },
    {
     "name": "stderr",
     "output_type": "stream",
     "text": [
      "\r",
      "Converting train audios:  71%|████████████████████████████████████▋               | 3261/4620 [00:30<00:12, 107.54it/s]"
     ]
    },
    {
     "name": "stdout",
     "output_type": "stream",
     "text": [
      "saving dir .\\features\\train\\babble\\5db\n",
      "saving dir .\\features\\train\\babble\\5db\n",
      "saving dir .\\features\\train\\babble\\5db\n",
      "saving dir .\\features\\train\\babble\\5db\n",
      "saving dir .\\features\\train\\babble\\5db\n",
      "saving dir .\\features\\train\\babble\\5db\n",
      "saving dir .\\features\\train\\babble\\5db\n",
      "saving dir .\\features\\train\\babble\\5db\n",
      "saving dir .\\features\\train\\babble\\5db\n",
      "saving dir .\\features\\train\\babble\\5db\n",
      "saving dir .\\features\\train\\babble\\5db\n",
      "saving dir .\\features\\train\\babble\\5db\n"
     ]
    },
    {
     "name": "stderr",
     "output_type": "stream",
     "text": [
      "\r",
      "Converting train audios:  71%|████████████████████████████████████▊               | 3273/4620 [00:30<00:12, 110.77it/s]"
     ]
    },
    {
     "name": "stdout",
     "output_type": "stream",
     "text": [
      "saving dir .\\features\\train\\babble\\5db\n",
      "saving dir .\\features\\train\\babble\\5db\n",
      "saving dir .\\features\\train\\babble\\5db\n",
      "saving dir .\\features\\train\\babble\\5db\n",
      "saving dir .\\features\\train\\babble\\5db\n",
      "saving dir .\\features\\train\\babble\\5db\n",
      "saving dir .\\features\\train\\babble\\5db\n",
      "saving dir .\\features\\train\\babble\\5db\n",
      "saving dir .\\features\\train\\babble\\5db\n",
      "saving dir .\\features\\train\\babble\\5db\n",
      "saving dir .\\features\\train\\babble\\5db\n",
      "saving dir .\\features\\train\\babble\\5db\n"
     ]
    },
    {
     "name": "stderr",
     "output_type": "stream",
     "text": [
      "\r",
      "Converting train audios:  71%|████████████████████████████████████▉               | 3285/4620 [00:31<00:11, 111.58it/s]"
     ]
    },
    {
     "name": "stdout",
     "output_type": "stream",
     "text": [
      "saving dir .\\features\\train\\babble\\5db\n",
      "saving dir .\\features\\train\\babble\\5db\n",
      "saving dir .\\features\\train\\babble\\5db\n",
      "saving dir .\\features\\train\\babble\\5db\n",
      "saving dir .\\features\\train\\babble\\5db\n",
      "saving dir .\\features\\train\\babble\\5db\n",
      "saving dir .\\features\\train\\babble\\5db\n",
      "saving dir .\\features\\train\\babble\\5db\n",
      "saving dir .\\features\\train\\babble\\5db\n",
      "saving dir .\\features\\train\\babble\\5db\n",
      "saving dir .\\features\\train\\babble\\5db\n",
      "saving dir .\\features\\train\\babble\\5db\n"
     ]
    },
    {
     "name": "stderr",
     "output_type": "stream",
     "text": [
      "\r",
      "Converting train audios:  71%|█████████████████████████████████████               | 3297/4620 [00:31<00:11, 112.15it/s]"
     ]
    },
    {
     "name": "stdout",
     "output_type": "stream",
     "text": [
      "saving dir .\\features\\train\\babble\\5db\n",
      "saving dir .\\features\\train\\babble\\5db\n",
      "saving dir .\\features\\train\\babble\\5db\n",
      "saving dir .\\features\\train\\babble\\5db\n",
      "saving dir .\\features\\train\\babble\\5db\n",
      "saving dir .\\features\\train\\babble\\5db\n",
      "saving dir .\\features\\train\\babble\\5db\n",
      "saving dir .\\features\\train\\babble\\5db\n",
      "saving dir .\\features\\train\\babble\\5db\n",
      "saving dir .\\features\\train\\babble\\5db\n",
      "saving dir .\\features\\train\\babble\\5db\n",
      "saving dir .\\features\\train\\babble\\5db\n"
     ]
    },
    {
     "name": "stderr",
     "output_type": "stream",
     "text": [
      "\r",
      "Converting train audios:  72%|█████████████████████████████████████▏              | 3309/4620 [00:31<00:11, 111.31it/s]"
     ]
    },
    {
     "name": "stdout",
     "output_type": "stream",
     "text": [
      "saving dir .\\features\\train\\babble\\5db\n",
      "saving dir .\\features\\train\\babble\\5db\n",
      "saving dir .\\features\\train\\babble\\5db\n",
      "saving dir .\\features\\train\\babble\\5db\n",
      "saving dir .\\features\\train\\babble\\5db\n",
      "saving dir .\\features\\train\\babble\\5db\n",
      "saving dir .\\features\\train\\babble\\5db\n",
      "saving dir .\\features\\train\\babble\\5db\n",
      "saving dir .\\features\\train\\babble\\5db\n",
      "saving dir .\\features\\train\\babble\\5db\n",
      "saving dir .\\features\\train\\babble\\5db\n",
      "saving dir .\\features\\train\\babble\\5db\n"
     ]
    },
    {
     "name": "stderr",
     "output_type": "stream",
     "text": [
      "\r",
      "Converting train audios:  72%|█████████████████████████████████████▍              | 3321/4620 [00:31<00:12, 106.04it/s]"
     ]
    },
    {
     "name": "stdout",
     "output_type": "stream",
     "text": [
      "saving dir .\\features\\train\\babble\\5db\n",
      "saving dir .\\features\\train\\babble\\5db\n",
      "saving dir .\\features\\train\\babble\\5db\n",
      "saving dir .\\features\\train\\babble\\5db\n",
      "saving dir .\\features\\train\\babble\\5db\n",
      "saving dir .\\features\\train\\babble\\5db\n",
      "saving dir .\\features\\train\\babble\\5db\n",
      "saving dir .\\features\\train\\babble\\5db\n",
      "saving dir .\\features\\train\\babble\\5db\n",
      "saving dir .\\features\\train\\babble\\5db\n",
      "saving dir .\\features\\train\\babble\\5db\n",
      "saving dir .\\features\\train\\babble\\5db\n",
      "saving dir .\\features\\train\\babble\\5db\n"
     ]
    },
    {
     "name": "stderr",
     "output_type": "stream",
     "text": [
      "\r",
      "Converting train audios:  72%|█████████████████████████████████████▌              | 3334/4620 [00:31<00:11, 110.33it/s]"
     ]
    },
    {
     "name": "stdout",
     "output_type": "stream",
     "text": [
      "saving dir .\\features\\train\\babble\\5db\n",
      "saving dir .\\features\\train\\babble\\5db\n",
      "saving dir .\\features\\train\\babble\\5db\n",
      "saving dir .\\features\\train\\babble\\5db\n",
      "saving dir .\\features\\train\\babble\\5db\n",
      "saving dir .\\features\\train\\babble\\5db\n",
      "saving dir .\\features\\train\\babble\\5db\n",
      "saving dir .\\features\\train\\babble\\5db\n",
      "saving dir .\\features\\train\\babble\\5db\n",
      "saving dir .\\features\\train\\babble\\5db\n",
      "saving dir .\\features\\train\\babble\\5db\n",
      "saving dir .\\features\\train\\babble\\5db\n"
     ]
    },
    {
     "name": "stderr",
     "output_type": "stream",
     "text": [
      "\r",
      "Converting train audios:  72%|█████████████████████████████████████▋              | 3346/4620 [00:31<00:11, 112.83it/s]"
     ]
    },
    {
     "name": "stdout",
     "output_type": "stream",
     "text": [
      "saving dir .\\features\\train\\babble\\5db\n",
      "saving dir .\\features\\train\\babble\\5db\n",
      "saving dir .\\features\\train\\babble\\5db\n",
      "saving dir .\\features\\train\\babble\\5db\n",
      "saving dir .\\features\\train\\babble\\5db\n",
      "saving dir .\\features\\train\\babble\\5db\n",
      "saving dir .\\features\\train\\babble\\5db\n",
      "saving dir .\\features\\train\\babble\\5db\n",
      "saving dir .\\features\\train\\babble\\5db\n",
      "saving dir .\\features\\train\\babble\\5db\n",
      "saving dir .\\features\\train\\babble\\5db\n",
      "saving dir .\\features\\train\\babble\\5db\n"
     ]
    },
    {
     "name": "stderr",
     "output_type": "stream",
     "text": [
      "\r",
      "Converting train audios:  73%|█████████████████████████████████████▊              | 3358/4620 [00:31<00:11, 113.35it/s]"
     ]
    },
    {
     "name": "stdout",
     "output_type": "stream",
     "text": [
      "saving dir .\\features\\train\\babble\\5db\n",
      "saving dir .\\features\\train\\babble\\5db\n",
      "saving dir .\\features\\train\\babble\\5db\n",
      "saving dir .\\features\\train\\babble\\5db\n",
      "saving dir .\\features\\train\\babble\\5db\n",
      "saving dir .\\features\\train\\babble\\5db\n",
      "saving dir .\\features\\train\\babble\\5db\n",
      "saving dir .\\features\\train\\babble\\5db\n",
      "saving dir .\\features\\train\\babble\\5db\n",
      "saving dir .\\features\\train\\babble\\5db\n",
      "saving dir .\\features\\train\\babble\\5db\n",
      "saving dir .\\features\\train\\babble\\5db\n"
     ]
    },
    {
     "name": "stderr",
     "output_type": "stream",
     "text": [
      "\r",
      "Converting train audios:  73%|█████████████████████████████████████▉              | 3370/4620 [00:31<00:10, 114.70it/s]"
     ]
    },
    {
     "name": "stdout",
     "output_type": "stream",
     "text": [
      "saving dir .\\features\\train\\babble\\5db\n",
      "saving dir .\\features\\train\\babble\\5db\n",
      "saving dir .\\features\\train\\babble\\5db\n",
      "saving dir .\\features\\train\\babble\\5db\n",
      "saving dir .\\features\\train\\babble\\5db\n",
      "saving dir .\\features\\train\\babble\\5db\n",
      "saving dir .\\features\\train\\babble\\5db\n",
      "saving dir .\\features\\train\\babble\\5db\n",
      "saving dir .\\features\\train\\babble\\5db\n",
      "saving dir .\\features\\train\\babble\\5db\n",
      "saving dir .\\features\\train\\babble\\5db\n",
      "saving dir .\\features\\train\\babble\\5db\n",
      "saving dir .\\features\\train\\babble\\5db\n"
     ]
    },
    {
     "name": "stderr",
     "output_type": "stream",
     "text": [
      "\r",
      "Converting train audios:  73%|██████████████████████████████████████              | 3383/4620 [00:31<00:10, 117.06it/s]"
     ]
    },
    {
     "name": "stdout",
     "output_type": "stream",
     "text": [
      "saving dir .\\features\\train\\babble\\5db\n",
      "saving dir .\\features\\train\\babble\\5db\n",
      "saving dir .\\features\\train\\babble\\5db\n",
      "saving dir .\\features\\train\\babble\\5db\n",
      "saving dir .\\features\\train\\babble\\5db\n",
      "saving dir .\\features\\train\\babble\\5db\n",
      "saving dir .\\features\\train\\babble\\5db\n",
      "saving dir .\\features\\train\\babble\\5db\n",
      "saving dir .\\features\\train\\babble\\5db\n",
      "saving dir .\\features\\train\\babble\\5db\n",
      "saving dir .\\features\\train\\babble\\5db\n",
      "saving dir .\\features\\train\\babble\\5db\n"
     ]
    },
    {
     "name": "stderr",
     "output_type": "stream",
     "text": [
      "\r",
      "Converting train audios:  73%|██████████████████████████████████████▏             | 3395/4620 [00:32<00:10, 115.64it/s]"
     ]
    },
    {
     "name": "stdout",
     "output_type": "stream",
     "text": [
      "saving dir .\\features\\train\\babble\\5db\n",
      "saving dir .\\features\\train\\babble\\5db\n",
      "saving dir .\\features\\train\\babble\\5db\n",
      "saving dir .\\features\\train\\babble\\5db\n",
      "saving dir .\\features\\train\\babble\\5db\n",
      "saving dir .\\features\\train\\babble\\5db\n",
      "saving dir .\\features\\train\\babble\\5db\n",
      "saving dir .\\features\\train\\babble\\5db\n",
      "saving dir .\\features\\train\\babble\\5db\n",
      "saving dir .\\features\\train\\babble\\5db\n",
      "saving dir .\\features\\train\\babble\\5db\n",
      "saving dir .\\features\\train\\babble\\5db\n",
      "saving dir .\\features\\train\\babble\\5db\n"
     ]
    },
    {
     "name": "stderr",
     "output_type": "stream",
     "text": [
      "\r",
      "Converting train audios:  74%|██████████████████████████████████████▎             | 3408/4620 [00:32<00:10, 118.71it/s]"
     ]
    },
    {
     "name": "stdout",
     "output_type": "stream",
     "text": [
      "saving dir .\\features\\train\\babble\\5db\n",
      "saving dir .\\features\\train\\babble\\5db\n",
      "saving dir .\\features\\train\\babble\\5db\n",
      "saving dir .\\features\\train\\babble\\5db\n",
      "saving dir .\\features\\train\\babble\\5db\n",
      "saving dir .\\features\\train\\babble\\5db\n",
      "saving dir .\\features\\train\\babble\\5db\n",
      "saving dir .\\features\\train\\babble\\5db\n",
      "saving dir .\\features\\train\\babble\\5db\n",
      "saving dir .\\features\\train\\babble\\5db\n",
      "saving dir .\\features\\train\\babble\\5db\n",
      "saving dir .\\features\\train\\babble\\5db\n",
      "saving dir .\\features\\train\\babble\\5db\n"
     ]
    },
    {
     "name": "stderr",
     "output_type": "stream",
     "text": [
      "\r",
      "Converting train audios:  74%|██████████████████████████████████████▌             | 3421/4620 [00:32<00:10, 118.97it/s]"
     ]
    },
    {
     "name": "stdout",
     "output_type": "stream",
     "text": [
      "saving dir .\\features\\train\\babble\\5db\n",
      "saving dir .\\features\\train\\babble\\5db\n",
      "saving dir .\\features\\train\\babble\\5db\n",
      "saving dir .\\features\\train\\babble\\5db\n",
      "saving dir .\\features\\train\\babble\\5db\n",
      "saving dir .\\features\\train\\babble\\5db\n",
      "saving dir .\\features\\train\\babble\\5db\n",
      "saving dir .\\features\\train\\babble\\5db\n",
      "saving dir .\\features\\train\\babble\\5db\n",
      "saving dir .\\features\\train\\babble\\5db\n",
      "saving dir .\\features\\train\\babble\\5db\n",
      "saving dir .\\features\\train\\babble\\5db\n"
     ]
    },
    {
     "name": "stderr",
     "output_type": "stream",
     "text": [
      "\r",
      "Converting train audios:  74%|██████████████████████████████████████▋             | 3433/4620 [00:32<00:10, 118.67it/s]"
     ]
    },
    {
     "name": "stdout",
     "output_type": "stream",
     "text": [
      "saving dir .\\features\\train\\babble\\5db\n",
      "saving dir .\\features\\train\\babble\\5db\n",
      "saving dir .\\features\\train\\babble\\5db\n",
      "saving dir .\\features\\train\\babble\\5db\n",
      "saving dir .\\features\\train\\babble\\5db\n",
      "saving dir .\\features\\train\\babble\\5db\n",
      "saving dir .\\features\\train\\babble\\5db\n",
      "saving dir .\\features\\train\\babble\\5db\n",
      "saving dir .\\features\\train\\babble\\5db\n",
      "saving dir .\\features\\train\\babble\\5db\n",
      "saving dir .\\features\\train\\babble\\5db\n",
      "saving dir .\\features\\train\\babble\\5db\n",
      "saving dir .\\features\\train\\babble\\5db\n"
     ]
    },
    {
     "name": "stderr",
     "output_type": "stream",
     "text": [
      "\r",
      "Converting train audios:  75%|██████████████████████████████████████▊             | 3446/4620 [00:32<00:09, 119.59it/s]"
     ]
    },
    {
     "name": "stdout",
     "output_type": "stream",
     "text": [
      "saving dir .\\features\\train\\babble\\5db\n",
      "saving dir .\\features\\train\\babble\\5db\n",
      "saving dir .\\features\\train\\babble\\5db\n",
      "saving dir .\\features\\train\\babble\\5db\n",
      "saving dir .\\features\\train\\babble\\5db\n",
      "saving dir .\\features\\train\\babble\\5db\n",
      "saving dir .\\features\\train\\babble\\5db\n",
      "saving dir .\\features\\train\\babble\\5db\n",
      "saving dir .\\features\\train\\babble\\5db\n",
      "saving dir .\\features\\train\\babble\\5db\n",
      "saving dir .\\features\\train\\babble\\5db\n",
      "saving dir .\\features\\train\\babble\\5db\n"
     ]
    },
    {
     "name": "stderr",
     "output_type": "stream",
     "text": [
      "\r",
      "Converting train audios:  75%|██████████████████████████████████████▉             | 3458/4620 [00:32<00:09, 118.05it/s]"
     ]
    },
    {
     "name": "stdout",
     "output_type": "stream",
     "text": [
      "saving dir .\\features\\train\\babble\\5db\n",
      "saving dir .\\features\\train\\babble\\5db\n",
      "saving dir .\\features\\train\\babble\\5db\n",
      "saving dir .\\features\\train\\babble\\5db\n",
      "saving dir .\\features\\train\\babble\\5db\n",
      "saving dir .\\features\\train\\babble\\5db\n",
      "saving dir .\\features\\train\\babble\\5db\n",
      "saving dir .\\features\\train\\babble\\5db\n",
      "saving dir .\\features\\train\\babble\\5db\n",
      "saving dir .\\features\\train\\babble\\5db\n",
      "saving dir .\\features\\train\\babble\\5db\n",
      "saving dir .\\features\\train\\babble\\5db\n",
      "saving dir .\\features\\train\\babble\\5db\n"
     ]
    },
    {
     "name": "stderr",
     "output_type": "stream",
     "text": [
      "\r",
      "Converting train audios:  75%|███████████████████████████████████████             | 3471/4620 [00:32<00:09, 120.81it/s]"
     ]
    },
    {
     "name": "stdout",
     "output_type": "stream",
     "text": [
      "saving dir .\\features\\train\\babble\\5db\n",
      "saving dir .\\features\\train\\babble\\5db\n",
      "saving dir .\\features\\train\\babble\\5db\n",
      "saving dir .\\features\\train\\babble\\5db\n",
      "saving dir .\\features\\train\\babble\\5db\n",
      "saving dir .\\features\\train\\babble\\5db\n",
      "saving dir .\\features\\train\\babble\\5db\n",
      "saving dir .\\features\\train\\babble\\5db\n",
      "saving dir .\\features\\train\\babble\\5db\n",
      "saving dir .\\features\\train\\babble\\5db\n",
      "saving dir .\\features\\train\\babble\\5db\n",
      "saving dir .\\features\\train\\babble\\5db\n",
      "saving dir .\\features\\train\\babble\\5db\n"
     ]
    },
    {
     "name": "stderr",
     "output_type": "stream",
     "text": [
      "\r",
      "Converting train audios:  75%|███████████████████████████████████████▏            | 3484/4620 [00:32<00:09, 121.11it/s]"
     ]
    },
    {
     "name": "stdout",
     "output_type": "stream",
     "text": [
      "saving dir .\\features\\train\\babble\\5db\n",
      "saving dir .\\features\\train\\babble\\5db\n",
      "saving dir .\\features\\train\\babble\\5db\n",
      "saving dir .\\features\\train\\babble\\5db\n",
      "saving dir .\\features\\train\\babble\\5db\n",
      "saving dir .\\features\\train\\babble\\5db\n",
      "saving dir .\\features\\train\\babble\\5db\n",
      "saving dir .\\features\\train\\babble\\5db\n",
      "saving dir .\\features\\train\\babble\\5db\n",
      "saving dir .\\features\\train\\babble\\5db\n",
      "saving dir .\\features\\train\\babble\\5db\n",
      "saving dir .\\features\\train\\babble\\5db\n",
      "saving dir .\\features\\train\\babble\\5db\n"
     ]
    },
    {
     "name": "stderr",
     "output_type": "stream",
     "text": [
      "\r",
      "Converting train audios:  76%|███████████████████████████████████████▎            | 3497/4620 [00:32<00:09, 122.01it/s]"
     ]
    },
    {
     "name": "stdout",
     "output_type": "stream",
     "text": [
      "saving dir .\\features\\train\\babble\\5db\n",
      "saving dir .\\features\\train\\babble\\5db\n",
      "saving dir .\\features\\train\\babble\\5db\n",
      "saving dir .\\features\\train\\babble\\5db\n",
      "saving dir .\\features\\train\\babble\\5db\n",
      "saving dir .\\features\\train\\babble\\5db\n",
      "saving dir .\\features\\train\\babble\\5db\n",
      "saving dir .\\features\\train\\babble\\5db\n",
      "saving dir .\\features\\train\\babble\\5db\n",
      "saving dir .\\features\\train\\babble\\5db\n",
      "saving dir .\\features\\train\\babble\\5db\n",
      "saving dir .\\features\\train\\babble\\5db\n",
      "saving dir .\\features\\train\\babble\\5db\n"
     ]
    },
    {
     "name": "stderr",
     "output_type": "stream",
     "text": [
      "\r",
      "Converting train audios:  76%|███████████████████████████████████████▌            | 3510/4620 [00:32<00:09, 121.95it/s]"
     ]
    },
    {
     "name": "stdout",
     "output_type": "stream",
     "text": [
      "saving dir .\\features\\train\\babble\\5db\n",
      "saving dir .\\features\\train\\babble\\5db\n",
      "saving dir .\\features\\train\\babble\\5db\n",
      "saving dir .\\features\\train\\babble\\5db\n",
      "saving dir .\\features\\train\\babble\\5db\n",
      "saving dir .\\features\\train\\babble\\5db\n",
      "saving dir .\\features\\train\\babble\\5db\n",
      "saving dir .\\features\\train\\babble\\5db\n",
      "saving dir .\\features\\train\\babble\\5db\n",
      "saving dir .\\features\\train\\babble\\5db\n",
      "saving dir .\\features\\train\\babble\\5db\n",
      "saving dir .\\features\\train\\babble\\5db\n",
      "saving dir .\\features\\train\\babble\\5db\n"
     ]
    },
    {
     "name": "stderr",
     "output_type": "stream",
     "text": [
      "\r",
      "Converting train audios:  76%|███████████████████████████████████████▋            | 3523/4620 [00:33<00:08, 124.00it/s]"
     ]
    },
    {
     "name": "stdout",
     "output_type": "stream",
     "text": [
      "saving dir .\\features\\train\\babble\\5db\n",
      "saving dir .\\features\\train\\babble\\5db\n",
      "saving dir .\\features\\train\\babble\\5db\n",
      "saving dir .\\features\\train\\babble\\5db\n",
      "saving dir .\\features\\train\\babble\\5db\n",
      "saving dir .\\features\\train\\babble\\5db\n",
      "saving dir .\\features\\train\\babble\\5db\n",
      "saving dir .\\features\\train\\babble\\5db\n",
      "saving dir .\\features\\train\\babble\\5db\n",
      "saving dir .\\features\\train\\babble\\5db\n",
      "saving dir .\\features\\train\\babble\\5db\n",
      "saving dir .\\features\\train\\babble\\5db\n",
      "saving dir .\\features\\train\\babble\\5db\n"
     ]
    },
    {
     "name": "stderr",
     "output_type": "stream",
     "text": [
      "\r",
      "Converting train audios:  77%|███████████████████████████████████████▊            | 3536/4620 [00:33<00:08, 125.11it/s]"
     ]
    },
    {
     "name": "stdout",
     "output_type": "stream",
     "text": [
      "saving dir .\\features\\train\\babble\\5db\n",
      "saving dir .\\features\\train\\babble\\5db\n",
      "saving dir .\\features\\train\\babble\\5db\n",
      "saving dir .\\features\\train\\babble\\5db\n",
      "saving dir .\\features\\train\\babble\\5db\n",
      "saving dir .\\features\\train\\babble\\5db\n",
      "saving dir .\\features\\train\\babble\\5db\n",
      "saving dir .\\features\\train\\babble\\5db\n",
      "saving dir .\\features\\train\\babble\\5db\n",
      "saving dir .\\features\\train\\babble\\5db\n",
      "saving dir .\\features\\train\\babble\\5db\n",
      "saving dir .\\features\\train\\babble\\5db\n",
      "saving dir .\\features\\train\\babble\\5db\n"
     ]
    },
    {
     "name": "stderr",
     "output_type": "stream",
     "text": [
      "\r",
      "Converting train audios:  77%|███████████████████████████████████████▉            | 3549/4620 [00:33<00:08, 120.66it/s]"
     ]
    },
    {
     "name": "stdout",
     "output_type": "stream",
     "text": [
      "saving dir .\\features\\train\\babble\\5db\n",
      "saving dir .\\features\\train\\babble\\5db\n",
      "saving dir .\\features\\train\\babble\\5db\n",
      "saving dir .\\features\\train\\babble\\5db\n",
      "saving dir .\\features\\train\\babble\\5db\n",
      "saving dir .\\features\\train\\babble\\5db\n",
      "saving dir .\\features\\train\\babble\\5db\n",
      "saving dir .\\features\\train\\babble\\5db\n",
      "saving dir .\\features\\train\\babble\\5db\n",
      "saving dir .\\features\\train\\babble\\5db\n",
      "saving dir .\\features\\train\\babble\\5db\n",
      "saving dir .\\features\\train\\babble\\5db\n",
      "saving dir .\\features\\train\\babble\\5db\n"
     ]
    },
    {
     "name": "stderr",
     "output_type": "stream",
     "text": [
      "\r",
      "Converting train audios:  77%|████████████████████████████████████████            | 3562/4620 [00:33<00:09, 114.92it/s]"
     ]
    },
    {
     "name": "stdout",
     "output_type": "stream",
     "text": [
      "saving dir .\\features\\train\\babble\\5db\n",
      "saving dir .\\features\\train\\babble\\5db\n",
      "saving dir .\\features\\train\\babble\\5db\n",
      "saving dir .\\features\\train\\babble\\5db\n",
      "saving dir .\\features\\train\\babble\\5db\n",
      "saving dir .\\features\\train\\babble\\5db\n",
      "saving dir .\\features\\train\\babble\\5db\n",
      "saving dir .\\features\\train\\babble\\5db\n",
      "saving dir .\\features\\train\\babble\\5db\n",
      "saving dir .\\features\\train\\babble\\5db\n",
      "saving dir .\\features\\train\\babble\\5db\n",
      "saving dir .\\features\\train\\babble\\5db\n"
     ]
    },
    {
     "name": "stderr",
     "output_type": "stream",
     "text": [
      "\r",
      "Converting train audios:  77%|████████████████████████████████████████▏           | 3574/4620 [00:33<00:09, 113.85it/s]"
     ]
    },
    {
     "name": "stdout",
     "output_type": "stream",
     "text": [
      "saving dir .\\features\\train\\babble\\5db\n",
      "saving dir .\\features\\train\\babble\\5db\n",
      "saving dir .\\features\\train\\babble\\5db\n",
      "saving dir .\\features\\train\\babble\\5db\n",
      "saving dir .\\features\\train\\babble\\5db\n",
      "saving dir .\\features\\train\\babble\\5db\n",
      "saving dir .\\features\\train\\babble\\5db\n",
      "saving dir .\\features\\train\\babble\\5db\n",
      "saving dir .\\features\\train\\babble\\5db\n",
      "saving dir .\\features\\train\\babble\\5db\n",
      "saving dir .\\features\\train\\babble\\5db\n",
      "saving dir .\\features\\train\\babble\\5db\n"
     ]
    },
    {
     "name": "stderr",
     "output_type": "stream",
     "text": [
      "\r",
      "Converting train audios:  78%|████████████████████████████████████████▎           | 3586/4620 [00:33<00:09, 112.47it/s]"
     ]
    },
    {
     "name": "stdout",
     "output_type": "stream",
     "text": [
      "saving dir .\\features\\train\\babble\\5db\n",
      "saving dir .\\features\\train\\babble\\5db\n",
      "saving dir .\\features\\train\\babble\\5db\n",
      "saving dir .\\features\\train\\babble\\5db\n",
      "saving dir .\\features\\train\\babble\\5db\n",
      "saving dir .\\features\\train\\babble\\5db\n",
      "saving dir .\\features\\train\\babble\\5db\n",
      "saving dir .\\features\\train\\babble\\5db\n",
      "saving dir .\\features\\train\\babble\\5db\n",
      "saving dir .\\features\\train\\babble\\5db\n",
      "saving dir .\\features\\train\\babble\\5db\n",
      "saving dir .\\features\\train\\babble\\5db\n"
     ]
    },
    {
     "name": "stderr",
     "output_type": "stream",
     "text": [
      "\r",
      "Converting train audios:  78%|████████████████████████████████████████▍           | 3598/4620 [00:33<00:09, 113.42it/s]"
     ]
    },
    {
     "name": "stdout",
     "output_type": "stream",
     "text": [
      "saving dir .\\features\\train\\babble\\5db\n",
      "saving dir .\\features\\train\\babble\\5db\n",
      "saving dir .\\features\\train\\babble\\5db\n",
      "saving dir .\\features\\train\\babble\\5db\n",
      "saving dir .\\features\\train\\babble\\5db\n",
      "saving dir .\\features\\train\\babble\\5db\n",
      "saving dir .\\features\\train\\babble\\5db\n",
      "saving dir .\\features\\train\\babble\\5db\n",
      "saving dir .\\features\\train\\babble\\5db\n",
      "saving dir .\\features\\train\\babble\\5db\n",
      "saving dir .\\features\\train\\babble\\5db\n",
      "saving dir .\\features\\train\\babble\\5db\n"
     ]
    },
    {
     "name": "stderr",
     "output_type": "stream",
     "text": [
      "\r",
      "Converting train audios:  78%|████████████████████████████████████████▋           | 3610/4620 [00:33<00:08, 113.77it/s]"
     ]
    },
    {
     "name": "stdout",
     "output_type": "stream",
     "text": [
      "saving dir .\\features\\train\\babble\\5db\n",
      "saving dir .\\features\\train\\babble\\5db\n",
      "saving dir .\\features\\train\\babble\\5db\n",
      "saving dir .\\features\\train\\babble\\5db\n",
      "saving dir .\\features\\train\\babble\\5db\n",
      "saving dir .\\features\\train\\babble\\5db\n",
      "saving dir .\\features\\train\\babble\\5db\n",
      "saving dir .\\features\\train\\babble\\5db\n",
      "saving dir .\\features\\train\\babble\\5db\n",
      "saving dir .\\features\\train\\babble\\5db\n",
      "saving dir .\\features\\train\\babble\\5db\n",
      "saving dir .\\features\\train\\babble\\5db\n",
      "saving dir .\\features\\train\\babble\\5db\n"
     ]
    },
    {
     "name": "stderr",
     "output_type": "stream",
     "text": [
      "\r",
      "Converting train audios:  78%|████████████████████████████████████████▊           | 3623/4620 [00:33<00:08, 117.64it/s]"
     ]
    },
    {
     "name": "stdout",
     "output_type": "stream",
     "text": [
      "saving dir .\\features\\train\\babble\\5db\n",
      "saving dir .\\features\\train\\babble\\5db\n",
      "saving dir .\\features\\train\\babble\\5db\n",
      "saving dir .\\features\\train\\babble\\5db\n",
      "saving dir .\\features\\train\\babble\\5db\n",
      "saving dir .\\features\\train\\babble\\5db\n",
      "saving dir .\\features\\train\\babble\\5db\n",
      "saving dir .\\features\\train\\babble\\5db\n",
      "saving dir .\\features\\train\\babble\\5db\n",
      "saving dir .\\features\\train\\babble\\5db\n",
      "saving dir .\\features\\train\\babble\\5db\n",
      "saving dir .\\features\\train\\babble\\5db\n"
     ]
    },
    {
     "name": "stderr",
     "output_type": "stream",
     "text": [
      "\r",
      "Converting train audios:  79%|████████████████████████████████████████▉           | 3635/4620 [00:34<00:09, 107.05it/s]"
     ]
    },
    {
     "name": "stdout",
     "output_type": "stream",
     "text": [
      "saving dir .\\features\\train\\babble\\5db\n",
      "saving dir .\\features\\train\\babble\\5db\n",
      "saving dir .\\features\\train\\babble\\5db\n",
      "saving dir .\\features\\train\\babble\\5db\n",
      "saving dir .\\features\\train\\babble\\5db\n",
      "saving dir .\\features\\train\\babble\\5db\n",
      "saving dir .\\features\\train\\babble\\5db\n",
      "saving dir .\\features\\train\\babble\\5db\n",
      "saving dir .\\features\\train\\babble\\5db\n",
      "saving dir .\\features\\train\\babble\\5db\n",
      "saving dir .\\features\\train\\babble\\5db\n",
      "saving dir .\\features\\train\\babble\\5db\n",
      "saving dir .\\features\\train\\babble\\5db\n"
     ]
    },
    {
     "name": "stderr",
     "output_type": "stream",
     "text": [
      "\r",
      "Converting train audios:  79%|█████████████████████████████████████████           | 3648/4620 [00:34<00:08, 111.95it/s]"
     ]
    },
    {
     "name": "stdout",
     "output_type": "stream",
     "text": [
      "saving dir .\\features\\train\\babble\\5db\n",
      "saving dir .\\features\\train\\babble\\5db\n",
      "saving dir .\\features\\train\\babble\\5db\n",
      "saving dir .\\features\\train\\babble\\5db\n",
      "saving dir .\\features\\train\\babble\\5db\n",
      "saving dir .\\features\\train\\babble\\5db\n",
      "saving dir .\\features\\train\\babble\\5db\n",
      "saving dir .\\features\\train\\babble\\5db\n",
      "saving dir .\\features\\train\\babble\\5db\n",
      "saving dir .\\features\\train\\babble\\5db\n",
      "saving dir .\\features\\train\\babble\\5db\n",
      "saving dir .\\features\\train\\babble\\5db\n"
     ]
    },
    {
     "name": "stderr",
     "output_type": "stream",
     "text": [
      "\r",
      "Converting train audios:  79%|█████████████████████████████████████████▏          | 3660/4620 [00:34<00:08, 111.79it/s]"
     ]
    },
    {
     "name": "stdout",
     "output_type": "stream",
     "text": [
      "saving dir .\\features\\train\\babble\\5db\n",
      "saving dir .\\features\\train\\babble\\5db\n",
      "saving dir .\\features\\train\\babble\\5db\n",
      "saving dir .\\features\\train\\babble\\5db\n",
      "saving dir .\\features\\train\\babble\\5db\n",
      "saving dir .\\features\\train\\babble\\5db\n",
      "saving dir .\\features\\train\\babble\\5db\n",
      "saving dir .\\features\\train\\babble\\5db\n",
      "saving dir .\\features\\train\\babble\\5db\n",
      "saving dir .\\features\\train\\babble\\5db\n",
      "saving dir .\\features\\train\\babble\\5db\n",
      "saving dir .\\features\\train\\babble\\5db\n"
     ]
    },
    {
     "name": "stderr",
     "output_type": "stream",
     "text": [
      "\r",
      "Converting train audios:  79%|█████████████████████████████████████████▎          | 3672/4620 [00:34<00:08, 112.93it/s]"
     ]
    },
    {
     "name": "stdout",
     "output_type": "stream",
     "text": [
      "saving dir .\\features\\train\\babble\\5db\n",
      "saving dir .\\features\\train\\babble\\5db\n",
      "saving dir .\\features\\train\\babble\\5db\n",
      "saving dir .\\features\\train\\babble\\5db\n",
      "saving dir .\\features\\train\\babble\\5db\n",
      "saving dir .\\features\\train\\babble\\5db\n",
      "saving dir .\\features\\train\\babble\\5db\n",
      "saving dir .\\features\\train\\babble\\5db\n",
      "saving dir .\\features\\train\\babble\\5db\n",
      "saving dir .\\features\\train\\babble\\5db\n",
      "saving dir .\\features\\train\\babble\\5db\n",
      "saving dir .\\features\\train\\babble\\5db\n"
     ]
    },
    {
     "name": "stderr",
     "output_type": "stream",
     "text": [
      "\r",
      "Converting train audios:  80%|█████████████████████████████████████████▍          | 3684/4620 [00:34<00:08, 110.30it/s]"
     ]
    },
    {
     "name": "stdout",
     "output_type": "stream",
     "text": [
      "saving dir .\\features\\train\\babble\\5db\n",
      "saving dir .\\features\\train\\babble\\5db\n",
      "saving dir .\\features\\train\\babble\\5db\n",
      "saving dir .\\features\\train\\babble\\5db\n",
      "saving dir .\\features\\train\\babble\\5db\n",
      "saving dir .\\features\\train\\babble\\5db\n",
      "saving dir .\\features\\train\\babble\\5db\n",
      "saving dir .\\features\\train\\babble\\5db\n",
      "saving dir .\\features\\train\\babble\\5db\n",
      "saving dir .\\features\\train\\babble\\5db\n",
      "saving dir .\\features\\train\\babble\\5db\n",
      "saving dir .\\features\\train\\babble\\5db\n"
     ]
    },
    {
     "name": "stderr",
     "output_type": "stream",
     "text": [
      "\r",
      "Converting train audios:  80%|█████████████████████████████████████████▌          | 3696/4620 [00:34<00:08, 110.03it/s]"
     ]
    },
    {
     "name": "stdout",
     "output_type": "stream",
     "text": [
      "saving dir .\\features\\train\\babble\\5db\n",
      "saving dir .\\features\\train\\babble\\5db\n",
      "saving dir .\\features\\train\\babble\\5db\n",
      "saving dir .\\features\\train\\babble\\5db\n",
      "saving dir .\\features\\train\\babble\\5db\n",
      "saving dir .\\features\\train\\babble\\5db\n",
      "saving dir .\\features\\train\\babble\\5db\n",
      "saving dir .\\features\\train\\babble\\5db\n",
      "saving dir .\\features\\train\\babble\\5db\n",
      "saving dir .\\features\\train\\babble\\5db\n",
      "saving dir .\\features\\train\\babble\\5db\n",
      "saving dir .\\features\\train\\babble\\5db\n"
     ]
    },
    {
     "name": "stderr",
     "output_type": "stream",
     "text": [
      "\r",
      "Converting train audios:  80%|█████████████████████████████████████████▋          | 3708/4620 [00:34<00:08, 106.06it/s]"
     ]
    },
    {
     "name": "stdout",
     "output_type": "stream",
     "text": [
      "saving dir .\\features\\train\\babble\\5db\n",
      "saving dir .\\features\\train\\babble\\5db\n",
      "saving dir .\\features\\train\\babble\\5db\n",
      "saving dir .\\features\\train\\babble\\5db\n",
      "saving dir .\\features\\train\\babble\\5db\n",
      "saving dir .\\features\\train\\babble\\5db\n",
      "saving dir .\\features\\train\\babble\\5db\n",
      "saving dir .\\features\\train\\babble\\5db\n",
      "saving dir .\\features\\train\\babble\\5db\n",
      "saving dir .\\features\\train\\babble\\5db\n",
      "saving dir .\\features\\train\\babble\\5db\n"
     ]
    },
    {
     "name": "stderr",
     "output_type": "stream",
     "text": [
      "\r",
      "Converting train audios:  80%|█████████████████████████████████████████▊          | 3719/4620 [00:34<00:08, 106.06it/s]"
     ]
    },
    {
     "name": "stdout",
     "output_type": "stream",
     "text": [
      "saving dir .\\features\\train\\babble\\5db\n",
      "saving dir .\\features\\train\\babble\\5db\n",
      "saving dir .\\features\\train\\babble\\5db\n",
      "saving dir .\\features\\train\\babble\\5db\n",
      "saving dir .\\features\\train\\babble\\5db\n",
      "saving dir .\\features\\train\\babble\\5db\n",
      "saving dir .\\features\\train\\babble\\5db\n",
      "saving dir .\\features\\train\\babble\\5db\n",
      "saving dir .\\features\\train\\babble\\5db\n",
      "saving dir .\\features\\train\\babble\\5db\n",
      "saving dir .\\features\\train\\babble\\5db\n",
      "saving dir .\\features\\train\\babble\\5db\n",
      "saving dir .\\features\\train\\babble\\5db\n"
     ]
    },
    {
     "name": "stderr",
     "output_type": "stream",
     "text": [
      "\r",
      "Converting train audios:  81%|██████████████████████████████████████████          | 3732/4620 [00:34<00:08, 109.23it/s]"
     ]
    },
    {
     "name": "stdout",
     "output_type": "stream",
     "text": [
      "saving dir .\\features\\train\\babble\\5db\n",
      "saving dir .\\features\\train\\babble\\5db\n",
      "saving dir .\\features\\train\\babble\\5db\n",
      "saving dir .\\features\\train\\babble\\5db\n",
      "saving dir .\\features\\train\\babble\\5db\n",
      "saving dir .\\features\\train\\babble\\5db\n",
      "saving dir .\\features\\train\\babble\\5db\n",
      "saving dir .\\features\\train\\babble\\5db\n",
      "saving dir .\\features\\train\\babble\\5db\n",
      "saving dir .\\features\\train\\babble\\5db\n",
      "saving dir .\\features\\train\\babble\\5db\n",
      "saving dir .\\features\\train\\babble\\5db\n",
      "saving dir .\\features\\train\\babble\\5db\n"
     ]
    },
    {
     "name": "stderr",
     "output_type": "stream",
     "text": [
      "\r",
      "Converting train audios:  81%|██████████████████████████████████████████▏         | 3745/4620 [00:35<00:07, 114.21it/s]"
     ]
    },
    {
     "name": "stdout",
     "output_type": "stream",
     "text": [
      "saving dir .\\features\\train\\babble\\5db\n",
      "saving dir .\\features\\train\\babble\\5db\n",
      "saving dir .\\features\\train\\babble\\5db\n",
      "saving dir .\\features\\train\\babble\\5db\n",
      "saving dir .\\features\\train\\babble\\5db\n",
      "saving dir .\\features\\train\\babble\\5db\n",
      "saving dir .\\features\\train\\babble\\5db\n",
      "saving dir .\\features\\train\\babble\\5db\n",
      "saving dir .\\features\\train\\babble\\5db\n",
      "saving dir .\\features\\train\\babble\\5db\n",
      "saving dir .\\features\\train\\babble\\5db\n",
      "saving dir .\\features\\train\\babble\\5db\n"
     ]
    },
    {
     "name": "stderr",
     "output_type": "stream",
     "text": [
      "\r",
      "Converting train audios:  81%|███████████████████████████████████████████          | 3757/4620 [00:35<00:08, 99.07it/s]"
     ]
    },
    {
     "name": "stdout",
     "output_type": "stream",
     "text": [
      "saving dir .\\features\\train\\babble\\5db\n",
      "saving dir .\\features\\train\\babble\\5db\n",
      "saving dir .\\features\\train\\babble\\5db\n",
      "saving dir .\\features\\train\\babble\\5db\n",
      "saving dir .\\features\\train\\babble\\5db\n",
      "saving dir .\\features\\train\\babble\\5db\n",
      "saving dir .\\features\\train\\babble\\5db\n",
      "saving dir .\\features\\train\\babble\\5db\n",
      "saving dir .\\features\\train\\babble\\5db\n",
      "saving dir .\\features\\train\\babble\\5db\n",
      "saving dir .\\features\\train\\babble\\5db\n",
      "saving dir .\\features\\train\\babble\\5db\n"
     ]
    },
    {
     "name": "stderr",
     "output_type": "stream",
     "text": [
      "\r",
      "Converting train audios:  82%|██████████████████████████████████████████▍         | 3769/4620 [00:35<00:08, 104.07it/s]"
     ]
    },
    {
     "name": "stdout",
     "output_type": "stream",
     "text": [
      "saving dir .\\features\\train\\babble\\5db\n",
      "saving dir .\\features\\train\\babble\\5db\n",
      "saving dir .\\features\\train\\babble\\5db\n",
      "saving dir .\\features\\train\\babble\\5db\n",
      "saving dir .\\features\\train\\babble\\5db\n",
      "saving dir .\\features\\train\\babble\\5db\n",
      "saving dir .\\features\\train\\babble\\5db\n",
      "saving dir .\\features\\train\\babble\\5db\n",
      "saving dir .\\features\\train\\babble\\5db\n",
      "saving dir .\\features\\train\\babble\\5db\n",
      "saving dir .\\features\\train\\babble\\5db\n"
     ]
    },
    {
     "name": "stderr",
     "output_type": "stream",
     "text": [
      "\r",
      "Converting train audios:  82%|███████████████████████████████████████████▎         | 3780/4620 [00:35<00:08, 97.70it/s]"
     ]
    },
    {
     "name": "stdout",
     "output_type": "stream",
     "text": [
      "saving dir .\\features\\train\\babble\\5db\n",
      "saving dir .\\features\\train\\babble\\5db\n",
      "saving dir .\\features\\train\\babble\\5db\n",
      "saving dir .\\features\\train\\babble\\5db\n",
      "saving dir .\\features\\train\\babble\\5db\n",
      "saving dir .\\features\\train\\babble\\5db\n",
      "saving dir .\\features\\train\\babble\\5db\n",
      "saving dir .\\features\\train\\babble\\5db\n",
      "saving dir .\\features\\train\\babble\\5db\n",
      "saving dir .\\features\\train\\babble\\5db\n",
      "saving dir .\\features\\train\\babble\\5db\n",
      "saving dir .\\features\\train\\babble\\5db\n"
     ]
    },
    {
     "name": "stderr",
     "output_type": "stream",
     "text": [
      "\r",
      "Converting train audios:  82%|██████████████████████████████████████████▋         | 3792/4620 [00:35<00:08, 101.45it/s]"
     ]
    },
    {
     "name": "stdout",
     "output_type": "stream",
     "text": [
      "saving dir .\\features\\train\\babble\\5db\n",
      "saving dir .\\features\\train\\babble\\5db\n",
      "saving dir .\\features\\train\\babble\\5db\n",
      "saving dir .\\features\\train\\babble\\5db\n",
      "saving dir .\\features\\train\\babble\\5db\n",
      "saving dir .\\features\\train\\babble\\5db\n",
      "saving dir .\\features\\train\\babble\\5db\n",
      "saving dir .\\features\\train\\babble\\5db\n",
      "saving dir .\\features\\train\\babble\\5db\n",
      "saving dir .\\features\\train\\babble\\5db\n",
      "saving dir .\\features\\train\\babble\\5db\n",
      "saving dir .\\features\\train\\babble\\5db\n"
     ]
    },
    {
     "name": "stderr",
     "output_type": "stream",
     "text": [
      "\r",
      "Converting train audios:  82%|██████████████████████████████████████████▊         | 3804/4620 [00:35<00:07, 105.34it/s]"
     ]
    },
    {
     "name": "stdout",
     "output_type": "stream",
     "text": [
      "saving dir .\\features\\train\\babble\\5db\n",
      "saving dir .\\features\\train\\babble\\5db\n",
      "saving dir .\\features\\train\\babble\\5db\n",
      "saving dir .\\features\\train\\babble\\5db\n",
      "saving dir .\\features\\train\\babble\\5db\n",
      "saving dir .\\features\\train\\babble\\5db\n",
      "saving dir .\\features\\train\\babble\\5db\n",
      "saving dir .\\features\\train\\babble\\5db\n",
      "saving dir .\\features\\train\\babble\\5db\n",
      "saving dir .\\features\\train\\babble\\5db\n",
      "saving dir .\\features\\train\\babble\\5db\n",
      "saving dir .\\features\\train\\babble\\5db\n",
      "saving dir .\\features\\train\\babble\\5db\n"
     ]
    },
    {
     "name": "stderr",
     "output_type": "stream",
     "text": [
      "\r",
      "Converting train audios:  83%|██████████████████████████████████████████▉         | 3817/4620 [00:35<00:07, 108.97it/s]"
     ]
    },
    {
     "name": "stdout",
     "output_type": "stream",
     "text": [
      "saving dir .\\features\\train\\babble\\5db\n",
      "saving dir .\\features\\train\\babble\\5db\n",
      "saving dir .\\features\\train\\babble\\5db\n",
      "saving dir .\\features\\train\\babble\\5db\n",
      "saving dir .\\features\\train\\babble\\5db\n",
      "saving dir .\\features\\train\\babble\\5db\n",
      "saving dir .\\features\\train\\babble\\5db\n",
      "saving dir .\\features\\train\\babble\\5db\n",
      "saving dir .\\features\\train\\babble\\5db\n",
      "saving dir .\\features\\train\\babble\\5db\n",
      "saving dir .\\features\\train\\babble\\5db\n",
      "saving dir .\\features\\train\\babble\\5db\n"
     ]
    },
    {
     "name": "stderr",
     "output_type": "stream",
     "text": [
      "\r",
      "Converting train audios:  83%|███████████████████████████████████████████         | 3829/4620 [00:35<00:07, 111.83it/s]"
     ]
    },
    {
     "name": "stdout",
     "output_type": "stream",
     "text": [
      "saving dir .\\features\\train\\babble\\5db\n",
      "saving dir .\\features\\train\\babble\\5db\n",
      "saving dir .\\features\\train\\babble\\5db\n",
      "saving dir .\\features\\train\\babble\\5db\n",
      "saving dir .\\features\\train\\babble\\5db\n",
      "saving dir .\\features\\train\\babble\\5db\n",
      "saving dir .\\features\\train\\babble\\5db\n",
      "saving dir .\\features\\train\\babble\\5db\n",
      "saving dir .\\features\\train\\babble\\5db\n",
      "saving dir .\\features\\train\\babble\\5db\n",
      "saving dir .\\features\\train\\babble\\5db\n",
      "saving dir .\\features\\train\\babble\\5db\n",
      "saving dir .\\features\\train\\babble\\5db\n"
     ]
    },
    {
     "name": "stderr",
     "output_type": "stream",
     "text": [
      "\r",
      "Converting train audios:  83%|███████████████████████████████████████████▏        | 3842/4620 [00:35<00:06, 114.65it/s]"
     ]
    },
    {
     "name": "stdout",
     "output_type": "stream",
     "text": [
      "saving dir .\\features\\train\\babble\\5db\n",
      "saving dir .\\features\\train\\babble\\5db\n",
      "saving dir .\\features\\train\\babble\\5db\n",
      "saving dir .\\features\\train\\babble\\5db\n",
      "saving dir .\\features\\train\\babble\\5db\n",
      "saving dir .\\features\\train\\babble\\5db\n",
      "saving dir .\\features\\train\\babble\\5db\n",
      "saving dir .\\features\\train\\babble\\5db\n",
      "saving dir .\\features\\train\\babble\\5db\n",
      "saving dir .\\features\\train\\babble\\5db\n",
      "saving dir .\\features\\train\\babble\\5db\n",
      "saving dir .\\features\\train\\babble\\5db\n"
     ]
    },
    {
     "name": "stderr",
     "output_type": "stream",
     "text": [
      "\r",
      "Converting train audios:  83%|███████████████████████████████████████████▍        | 3854/4620 [00:36<00:06, 115.29it/s]"
     ]
    },
    {
     "name": "stdout",
     "output_type": "stream",
     "text": [
      "saving dir .\\features\\train\\babble\\5db\n",
      "saving dir .\\features\\train\\babble\\5db\n",
      "saving dir .\\features\\train\\babble\\5db\n",
      "saving dir .\\features\\train\\babble\\5db\n",
      "saving dir .\\features\\train\\babble\\5db\n",
      "saving dir .\\features\\train\\babble\\5db\n",
      "saving dir .\\features\\train\\babble\\5db\n",
      "saving dir .\\features\\train\\babble\\5db\n",
      "saving dir .\\features\\train\\babble\\5db\n",
      "saving dir .\\features\\train\\babble\\5db\n",
      "saving dir .\\features\\train\\babble\\5db\n",
      "saving dir .\\features\\train\\babble\\5db\n"
     ]
    },
    {
     "name": "stderr",
     "output_type": "stream",
     "text": [
      "\r",
      "Converting train audios:  84%|███████████████████████████████████████████▌        | 3866/4620 [00:36<00:06, 114.75it/s]"
     ]
    },
    {
     "name": "stdout",
     "output_type": "stream",
     "text": [
      "saving dir .\\features\\train\\babble\\5db\n",
      "saving dir .\\features\\train\\babble\\5db\n",
      "saving dir .\\features\\train\\babble\\5db\n",
      "saving dir .\\features\\train\\babble\\5db\n",
      "saving dir .\\features\\train\\babble\\5db\n",
      "saving dir .\\features\\train\\babble\\5db\n",
      "saving dir .\\features\\train\\babble\\5db\n",
      "saving dir .\\features\\train\\babble\\5db\n",
      "saving dir .\\features\\train\\babble\\5db\n",
      "saving dir .\\features\\train\\babble\\5db\n",
      "saving dir .\\features\\train\\babble\\5db\n",
      "saving dir .\\features\\train\\babble\\5db\n",
      "saving dir .\\features\\train\\babble\\5db\n"
     ]
    },
    {
     "name": "stderr",
     "output_type": "stream",
     "text": [
      "\r",
      "Converting train audios:  84%|███████████████████████████████████████████▋        | 3879/4620 [00:36<00:06, 116.16it/s]"
     ]
    },
    {
     "name": "stdout",
     "output_type": "stream",
     "text": [
      "saving dir .\\features\\train\\babble\\5db\n",
      "saving dir .\\features\\train\\babble\\5db\n",
      "saving dir .\\features\\train\\babble\\5db\n",
      "saving dir .\\features\\train\\babble\\5db\n",
      "saving dir .\\features\\train\\babble\\5db\n",
      "saving dir .\\features\\train\\babble\\5db\n",
      "saving dir .\\features\\train\\babble\\5db\n",
      "saving dir .\\features\\train\\babble\\5db\n",
      "saving dir .\\features\\train\\babble\\5db\n",
      "saving dir .\\features\\train\\babble\\5db\n",
      "saving dir .\\features\\train\\babble\\5db\n",
      "saving dir .\\features\\train\\babble\\5db\n"
     ]
    },
    {
     "name": "stderr",
     "output_type": "stream",
     "text": [
      "\r",
      "Converting train audios:  84%|███████████████████████████████████████████▊        | 3891/4620 [00:36<00:06, 114.37it/s]"
     ]
    },
    {
     "name": "stdout",
     "output_type": "stream",
     "text": [
      "saving dir .\\features\\train\\babble\\5db\n",
      "saving dir .\\features\\train\\babble\\5db\n",
      "saving dir .\\features\\train\\babble\\5db\n",
      "saving dir .\\features\\train\\babble\\5db\n",
      "saving dir .\\features\\train\\babble\\5db\n",
      "saving dir .\\features\\train\\babble\\5db\n",
      "saving dir .\\features\\train\\babble\\5db\n",
      "saving dir .\\features\\train\\babble\\5db\n",
      "saving dir .\\features\\train\\babble\\5db\n",
      "saving dir .\\features\\train\\babble\\5db\n",
      "saving dir .\\features\\train\\babble\\5db\n",
      "saving dir .\\features\\train\\babble\\5db\n",
      "saving dir .\\features\\train\\babble\\5db\n"
     ]
    },
    {
     "name": "stderr",
     "output_type": "stream",
     "text": [
      "\r",
      "Converting train audios:  85%|███████████████████████████████████████████▉        | 3904/4620 [00:36<00:06, 116.82it/s]"
     ]
    },
    {
     "name": "stdout",
     "output_type": "stream",
     "text": [
      "saving dir .\\features\\train\\babble\\5db\n",
      "saving dir .\\features\\train\\babble\\5db\n",
      "saving dir .\\features\\train\\babble\\5db\n",
      "saving dir .\\features\\train\\babble\\5db\n",
      "saving dir .\\features\\train\\babble\\5db\n",
      "saving dir .\\features\\train\\babble\\5db\n",
      "saving dir .\\features\\train\\babble\\5db\n",
      "saving dir .\\features\\train\\babble\\5db\n",
      "saving dir .\\features\\train\\babble\\5db\n",
      "saving dir .\\features\\train\\babble\\5db\n",
      "saving dir .\\features\\train\\babble\\5db\n",
      "saving dir .\\features\\train\\babble\\5db\n"
     ]
    },
    {
     "name": "stderr",
     "output_type": "stream",
     "text": [
      "\r",
      "Converting train audios:  85%|████████████████████████████████████████████        | 3916/4620 [00:36<00:06, 117.16it/s]"
     ]
    },
    {
     "name": "stdout",
     "output_type": "stream",
     "text": [
      "saving dir .\\features\\train\\babble\\5db\n",
      "saving dir .\\features\\train\\babble\\5db\n",
      "saving dir .\\features\\train\\babble\\5db\n",
      "saving dir .\\features\\train\\babble\\5db\n",
      "saving dir .\\features\\train\\babble\\5db\n",
      "saving dir .\\features\\train\\babble\\5db\n",
      "saving dir .\\features\\train\\babble\\5db\n",
      "saving dir .\\features\\train\\babble\\5db\n",
      "saving dir .\\features\\train\\babble\\5db\n",
      "saving dir .\\features\\train\\babble\\5db\n",
      "saving dir .\\features\\train\\babble\\5db\n",
      "saving dir .\\features\\train\\babble\\5db\n"
     ]
    },
    {
     "name": "stderr",
     "output_type": "stream",
     "text": [
      "\r",
      "Converting train audios:  85%|████████████████████████████████████████████▏       | 3928/4620 [00:36<00:06, 111.83it/s]"
     ]
    },
    {
     "name": "stdout",
     "output_type": "stream",
     "text": [
      "saving dir .\\features\\train\\babble\\5db\n",
      "saving dir .\\features\\train\\babble\\5db\n",
      "saving dir .\\features\\train\\babble\\5db\n",
      "saving dir .\\features\\train\\babble\\5db\n",
      "saving dir .\\features\\train\\babble\\5db\n",
      "saving dir .\\features\\train\\babble\\5db\n",
      "saving dir .\\features\\train\\babble\\5db\n",
      "saving dir .\\features\\train\\babble\\5db\n",
      "saving dir .\\features\\train\\babble\\5db\n",
      "saving dir .\\features\\train\\babble\\5db\n",
      "saving dir .\\features\\train\\babble\\5db\n",
      "saving dir .\\features\\train\\babble\\5db\n"
     ]
    },
    {
     "name": "stderr",
     "output_type": "stream",
     "text": [
      "\r",
      "Converting train audios:  85%|████████████████████████████████████████████▎       | 3940/4620 [00:36<00:06, 113.28it/s]"
     ]
    },
    {
     "name": "stdout",
     "output_type": "stream",
     "text": [
      "saving dir .\\features\\train\\babble\\5db\n",
      "saving dir .\\features\\train\\babble\\5db\n",
      "saving dir .\\features\\train\\babble\\5db\n",
      "saving dir .\\features\\train\\babble\\5db\n",
      "saving dir .\\features\\train\\babble\\5db\n",
      "saving dir .\\features\\train\\babble\\5db\n",
      "saving dir .\\features\\train\\babble\\5db\n",
      "saving dir .\\features\\train\\babble\\5db\n",
      "saving dir .\\features\\train\\babble\\5db\n",
      "saving dir .\\features\\train\\babble\\5db\n",
      "saving dir .\\features\\train\\babble\\5db\n",
      "saving dir .\\features\\train\\babble\\5db\n"
     ]
    },
    {
     "name": "stderr",
     "output_type": "stream",
     "text": [
      "\r",
      "Converting train audios:  86%|████████████████████████████████████████████▍       | 3952/4620 [00:36<00:05, 113.67it/s]"
     ]
    },
    {
     "name": "stdout",
     "output_type": "stream",
     "text": [
      "saving dir .\\features\\train\\babble\\5db\n",
      "saving dir .\\features\\train\\babble\\5db\n",
      "saving dir .\\features\\train\\babble\\5db\n",
      "saving dir .\\features\\train\\babble\\5db\n",
      "saving dir .\\features\\train\\babble\\5db\n",
      "saving dir .\\features\\train\\babble\\5db\n",
      "saving dir .\\features\\train\\babble\\5db\n",
      "saving dir .\\features\\train\\babble\\5db\n",
      "saving dir .\\features\\train\\babble\\5db\n",
      "saving dir .\\features\\train\\babble\\5db\n",
      "saving dir .\\features\\train\\babble\\5db\n",
      "saving dir .\\features\\train\\babble\\5db\n"
     ]
    },
    {
     "name": "stderr",
     "output_type": "stream",
     "text": [
      "\r",
      "Converting train audios:  86%|████████████████████████████████████████████▌       | 3964/4620 [00:37<00:05, 112.35it/s]"
     ]
    },
    {
     "name": "stdout",
     "output_type": "stream",
     "text": [
      "saving dir .\\features\\train\\babble\\5db\n",
      "saving dir .\\features\\train\\babble\\5db\n",
      "saving dir .\\features\\train\\babble\\5db\n",
      "saving dir .\\features\\train\\babble\\5db\n",
      "saving dir .\\features\\train\\babble\\5db\n",
      "saving dir .\\features\\train\\babble\\5db\n",
      "saving dir .\\features\\train\\babble\\5db\n",
      "saving dir .\\features\\train\\babble\\5db\n",
      "saving dir .\\features\\train\\babble\\5db\n",
      "saving dir .\\features\\train\\babble\\5db\n",
      "saving dir .\\features\\train\\babble\\5db\n",
      "saving dir .\\features\\train\\babble\\5db\n"
     ]
    },
    {
     "name": "stderr",
     "output_type": "stream",
     "text": [
      "\r",
      "Converting train audios:  86%|████████████████████████████████████████████▊       | 3976/4620 [00:37<00:05, 114.30it/s]"
     ]
    },
    {
     "name": "stdout",
     "output_type": "stream",
     "text": [
      "saving dir .\\features\\train\\babble\\5db\n",
      "saving dir .\\features\\train\\babble\\5db\n",
      "saving dir .\\features\\train\\babble\\5db\n",
      "saving dir .\\features\\train\\babble\\5db\n",
      "saving dir .\\features\\train\\babble\\5db\n",
      "saving dir .\\features\\train\\babble\\5db\n",
      "saving dir .\\features\\train\\babble\\5db\n",
      "saving dir .\\features\\train\\babble\\5db\n",
      "saving dir .\\features\\train\\babble\\5db\n",
      "saving dir .\\features\\train\\babble\\5db\n",
      "saving dir .\\features\\train\\babble\\5db\n",
      "saving dir .\\features\\train\\babble\\5db\n"
     ]
    },
    {
     "name": "stderr",
     "output_type": "stream",
     "text": [
      "\r",
      "Converting train audios:  86%|████████████████████████████████████████████▉       | 3988/4620 [00:37<00:05, 113.74it/s]"
     ]
    },
    {
     "name": "stdout",
     "output_type": "stream",
     "text": [
      "saving dir .\\features\\train\\babble\\5db\n",
      "saving dir .\\features\\train\\babble\\5db\n",
      "saving dir .\\features\\train\\babble\\5db\n",
      "saving dir .\\features\\train\\babble\\5db\n",
      "saving dir .\\features\\train\\babble\\5db\n",
      "saving dir .\\features\\train\\babble\\5db\n",
      "saving dir .\\features\\train\\babble\\5db\n",
      "saving dir .\\features\\train\\babble\\5db\n",
      "saving dir .\\features\\train\\babble\\5db\n",
      "saving dir .\\features\\train\\babble\\5db\n",
      "saving dir .\\features\\train\\babble\\5db\n",
      "saving dir .\\features\\train\\babble\\5db\n"
     ]
    },
    {
     "name": "stderr",
     "output_type": "stream",
     "text": [
      "\r",
      "Converting train audios:  87%|█████████████████████████████████████████████       | 4000/4620 [00:37<00:05, 114.97it/s]"
     ]
    },
    {
     "name": "stdout",
     "output_type": "stream",
     "text": [
      "saving dir .\\features\\train\\babble\\5db\n",
      "saving dir .\\features\\train\\babble\\5db\n",
      "saving dir .\\features\\train\\babble\\5db\n",
      "saving dir .\\features\\train\\babble\\5db\n",
      "saving dir .\\features\\train\\babble\\5db\n",
      "saving dir .\\features\\train\\babble\\5db\n",
      "saving dir .\\features\\train\\babble\\5db\n",
      "saving dir .\\features\\train\\babble\\5db\n",
      "saving dir .\\features\\train\\babble\\5db\n",
      "saving dir .\\features\\train\\babble\\5db\n",
      "saving dir .\\features\\train\\babble\\5db\n",
      "saving dir .\\features\\train\\babble\\5db\n",
      "saving dir .\\features\\train\\babble\\5db\n"
     ]
    },
    {
     "name": "stderr",
     "output_type": "stream",
     "text": [
      "\r",
      "Converting train audios:  87%|█████████████████████████████████████████████▏      | 4013/4620 [00:37<00:05, 116.63it/s]"
     ]
    },
    {
     "name": "stdout",
     "output_type": "stream",
     "text": [
      "saving dir .\\features\\train\\babble\\5db\n",
      "saving dir .\\features\\train\\babble\\5db\n",
      "saving dir .\\features\\train\\babble\\5db\n",
      "saving dir .\\features\\train\\babble\\5db\n",
      "saving dir .\\features\\train\\babble\\5db\n",
      "saving dir .\\features\\train\\babble\\5db\n",
      "saving dir .\\features\\train\\babble\\5db\n",
      "saving dir .\\features\\train\\babble\\5db\n",
      "saving dir .\\features\\train\\babble\\5db\n",
      "saving dir .\\features\\train\\babble\\5db\n",
      "saving dir .\\features\\train\\babble\\5db\n",
      "saving dir .\\features\\train\\babble\\5db\n",
      "saving dir .\\features\\train\\babble\\5db\n"
     ]
    },
    {
     "name": "stderr",
     "output_type": "stream",
     "text": [
      "\r",
      "Converting train audios:  87%|█████████████████████████████████████████████▎      | 4026/4620 [00:37<00:05, 118.46it/s]"
     ]
    },
    {
     "name": "stdout",
     "output_type": "stream",
     "text": [
      "saving dir .\\features\\train\\babble\\5db\n",
      "saving dir .\\features\\train\\babble\\5db\n",
      "saving dir .\\features\\train\\babble\\5db\n",
      "saving dir .\\features\\train\\babble\\5db\n",
      "saving dir .\\features\\train\\babble\\5db\n",
      "saving dir .\\features\\train\\babble\\5db\n",
      "saving dir .\\features\\train\\babble\\5db\n",
      "saving dir .\\features\\train\\babble\\5db\n",
      "saving dir .\\features\\train\\babble\\5db\n",
      "saving dir .\\features\\train\\babble\\5db\n",
      "saving dir .\\features\\train\\babble\\5db\n",
      "saving dir .\\features\\train\\babble\\5db\n"
     ]
    },
    {
     "name": "stderr",
     "output_type": "stream",
     "text": [
      "\r",
      "Converting train audios:  87%|█████████████████████████████████████████████▍      | 4038/4620 [00:37<00:04, 118.66it/s]"
     ]
    },
    {
     "name": "stdout",
     "output_type": "stream",
     "text": [
      "saving dir .\\features\\train\\babble\\5db\n",
      "saving dir .\\features\\train\\babble\\5db\n",
      "saving dir .\\features\\train\\babble\\5db\n",
      "saving dir .\\features\\train\\babble\\5db\n",
      "saving dir .\\features\\train\\babble\\5db\n",
      "saving dir .\\features\\train\\babble\\5db\n",
      "saving dir .\\features\\train\\babble\\5db\n",
      "saving dir .\\features\\train\\babble\\5db\n",
      "saving dir .\\features\\train\\babble\\5db\n",
      "saving dir .\\features\\train\\babble\\5db\n",
      "saving dir .\\features\\train\\babble\\5db\n",
      "saving dir .\\features\\train\\babble\\5db\n",
      "saving dir .\\features\\train\\babble\\5db\n"
     ]
    },
    {
     "name": "stderr",
     "output_type": "stream",
     "text": [
      "\r",
      "Converting train audios:  88%|█████████████████████████████████████████████▌      | 4051/4620 [00:37<00:04, 119.92it/s]"
     ]
    },
    {
     "name": "stdout",
     "output_type": "stream",
     "text": [
      "saving dir .\\features\\train\\babble\\5db\n",
      "saving dir .\\features\\train\\babble\\5db\n",
      "saving dir .\\features\\train\\babble\\5db\n",
      "saving dir .\\features\\train\\babble\\5db\n",
      "saving dir .\\features\\train\\babble\\5db\n",
      "saving dir .\\features\\train\\babble\\5db\n",
      "saving dir .\\features\\train\\babble\\5db\n",
      "saving dir .\\features\\train\\babble\\5db\n",
      "saving dir .\\features\\train\\babble\\5db\n",
      "saving dir .\\features\\train\\babble\\5db\n",
      "saving dir .\\features\\train\\babble\\5db\n",
      "saving dir .\\features\\train\\babble\\5db\n",
      "saving dir .\\features\\train\\babble\\5db\n"
     ]
    },
    {
     "name": "stderr",
     "output_type": "stream",
     "text": [
      "\r",
      "Converting train audios:  88%|█████████████████████████████████████████████▋      | 4064/4620 [00:37<00:04, 121.16it/s]"
     ]
    },
    {
     "name": "stdout",
     "output_type": "stream",
     "text": [
      "saving dir .\\features\\train\\babble\\5db\n",
      "saving dir .\\features\\train\\babble\\5db\n",
      "saving dir .\\features\\train\\babble\\5db\n",
      "saving dir .\\features\\train\\babble\\5db\n",
      "saving dir .\\features\\train\\babble\\5db\n",
      "saving dir .\\features\\train\\babble\\5db\n",
      "saving dir .\\features\\train\\babble\\5db\n",
      "saving dir .\\features\\train\\babble\\5db\n",
      "saving dir .\\features\\train\\babble\\5db\n",
      "saving dir .\\features\\train\\babble\\5db\n",
      "saving dir .\\features\\train\\babble\\5db\n",
      "saving dir .\\features\\train\\babble\\5db\n",
      "saving dir .\\features\\train\\babble\\5db\n"
     ]
    },
    {
     "name": "stderr",
     "output_type": "stream",
     "text": [
      "\r",
      "Converting train audios:  88%|█████████████████████████████████████████████▉      | 4077/4620 [00:38<00:04, 121.70it/s]"
     ]
    },
    {
     "name": "stdout",
     "output_type": "stream",
     "text": [
      "saving dir .\\features\\train\\babble\\5db\n",
      "saving dir .\\features\\train\\babble\\5db\n",
      "saving dir .\\features\\train\\babble\\5db\n",
      "saving dir .\\features\\train\\babble\\5db\n",
      "saving dir .\\features\\train\\babble\\5db\n",
      "saving dir .\\features\\train\\babble\\5db\n",
      "saving dir .\\features\\train\\babble\\5db\n",
      "saving dir .\\features\\train\\babble\\5db\n",
      "saving dir .\\features\\train\\babble\\5db\n",
      "saving dir .\\features\\train\\babble\\5db\n",
      "saving dir .\\features\\train\\babble\\5db\n",
      "saving dir .\\features\\train\\babble\\5db\n",
      "saving dir .\\features\\train\\babble\\5db\n"
     ]
    },
    {
     "name": "stderr",
     "output_type": "stream",
     "text": [
      "\r",
      "Converting train audios:  89%|██████████████████████████████████████████████      | 4090/4620 [00:38<00:04, 119.72it/s]"
     ]
    },
    {
     "name": "stdout",
     "output_type": "stream",
     "text": [
      "saving dir .\\features\\train\\babble\\5db\n",
      "saving dir .\\features\\train\\babble\\5db\n",
      "saving dir .\\features\\train\\babble\\5db\n",
      "saving dir .\\features\\train\\babble\\5db\n",
      "saving dir .\\features\\train\\babble\\5db\n",
      "saving dir .\\features\\train\\babble\\5db\n",
      "saving dir .\\features\\train\\babble\\5db\n",
      "saving dir .\\features\\train\\babble\\5db\n",
      "saving dir .\\features\\train\\babble\\5db\n",
      "saving dir .\\features\\train\\babble\\5db\n",
      "saving dir .\\features\\train\\babble\\5db\n",
      "saving dir .\\features\\train\\babble\\5db\n"
     ]
    },
    {
     "name": "stderr",
     "output_type": "stream",
     "text": [
      "\r",
      "Converting train audios:  89%|██████████████████████████████████████████████▏     | 4102/4620 [00:38<00:04, 114.43it/s]"
     ]
    },
    {
     "name": "stdout",
     "output_type": "stream",
     "text": [
      "saving dir .\\features\\train\\babble\\5db\n",
      "saving dir .\\features\\train\\babble\\5db\n",
      "saving dir .\\features\\train\\babble\\5db\n",
      "saving dir .\\features\\train\\babble\\5db\n",
      "saving dir .\\features\\train\\babble\\5db\n",
      "saving dir .\\features\\train\\babble\\5db\n",
      "saving dir .\\features\\train\\babble\\5db\n",
      "saving dir .\\features\\train\\babble\\5db\n",
      "saving dir .\\features\\train\\babble\\5db\n",
      "saving dir .\\features\\train\\babble\\5db\n",
      "saving dir .\\features\\train\\babble\\5db\n",
      "saving dir .\\features\\train\\babble\\5db\n"
     ]
    },
    {
     "name": "stderr",
     "output_type": "stream",
     "text": [
      "\r",
      "Converting train audios:  89%|██████████████████████████████████████████████▎     | 4114/4620 [00:38<00:04, 115.13it/s]"
     ]
    },
    {
     "name": "stdout",
     "output_type": "stream",
     "text": [
      "saving dir .\\features\\train\\babble\\5db\n",
      "saving dir .\\features\\train\\babble\\5db\n",
      "saving dir .\\features\\train\\babble\\5db\n",
      "saving dir .\\features\\train\\babble\\5db\n",
      "saving dir .\\features\\train\\babble\\5db\n",
      "saving dir .\\features\\train\\babble\\5db\n",
      "saving dir .\\features\\train\\babble\\5db\n",
      "saving dir .\\features\\train\\babble\\5db\n",
      "saving dir .\\features\\train\\babble\\5db\n",
      "saving dir .\\features\\train\\babble\\5db\n",
      "saving dir .\\features\\train\\babble\\5db\n",
      "saving dir .\\features\\train\\babble\\5db\n",
      "saving dir .\\features\\train\\babble\\5db\n"
     ]
    },
    {
     "name": "stderr",
     "output_type": "stream",
     "text": [
      "\r",
      "Converting train audios:  89%|██████████████████████████████████████████████▍     | 4127/4620 [00:38<00:04, 118.01it/s]"
     ]
    },
    {
     "name": "stdout",
     "output_type": "stream",
     "text": [
      "saving dir .\\features\\train\\babble\\5db\n",
      "saving dir .\\features\\train\\babble\\5db\n",
      "saving dir .\\features\\train\\babble\\5db\n",
      "saving dir .\\features\\train\\babble\\5db\n",
      "saving dir .\\features\\train\\babble\\5db\n",
      "saving dir .\\features\\train\\babble\\5db\n",
      "saving dir .\\features\\train\\babble\\5db\n",
      "saving dir .\\features\\train\\babble\\5db\n",
      "saving dir .\\features\\train\\babble\\5db\n",
      "saving dir .\\features\\train\\babble\\5db\n",
      "saving dir .\\features\\train\\babble\\5db\n",
      "saving dir .\\features\\train\\babble\\5db\n",
      "saving dir .\\features\\train\\babble\\5db\n"
     ]
    },
    {
     "name": "stderr",
     "output_type": "stream",
     "text": [
      "\r",
      "Converting train audios:  90%|██████████████████████████████████████████████▌     | 4140/4620 [00:38<00:04, 117.84it/s]"
     ]
    },
    {
     "name": "stdout",
     "output_type": "stream",
     "text": [
      "saving dir .\\features\\train\\babble\\5db\n",
      "saving dir .\\features\\train\\babble\\5db\n",
      "saving dir .\\features\\train\\babble\\5db\n",
      "saving dir .\\features\\train\\babble\\5db\n",
      "saving dir .\\features\\train\\babble\\5db\n",
      "saving dir .\\features\\train\\babble\\5db\n",
      "saving dir .\\features\\train\\babble\\5db\n",
      "saving dir .\\features\\train\\babble\\5db\n",
      "saving dir .\\features\\train\\babble\\5db\n",
      "saving dir .\\features\\train\\babble\\5db\n",
      "saving dir .\\features\\train\\babble\\5db\n",
      "saving dir .\\features\\train\\babble\\5db\n"
     ]
    },
    {
     "name": "stderr",
     "output_type": "stream",
     "text": [
      "\r",
      "Converting train audios:  90%|██████████████████████████████████████████████▋     | 4152/4620 [00:38<00:03, 117.19it/s]"
     ]
    },
    {
     "name": "stdout",
     "output_type": "stream",
     "text": [
      "saving dir .\\features\\train\\babble\\5db\n",
      "saving dir .\\features\\train\\babble\\5db\n",
      "saving dir .\\features\\train\\babble\\5db\n",
      "saving dir .\\features\\train\\babble\\5db\n",
      "saving dir .\\features\\train\\babble\\5db\n",
      "saving dir .\\features\\train\\babble\\5db\n",
      "saving dir .\\features\\train\\babble\\5db\n",
      "saving dir .\\features\\train\\babble\\5db\n",
      "saving dir .\\features\\train\\babble\\5db\n",
      "saving dir .\\features\\train\\babble\\5db\n",
      "saving dir .\\features\\train\\babble\\5db\n",
      "saving dir .\\features\\train\\babble\\5db\n"
     ]
    },
    {
     "name": "stderr",
     "output_type": "stream",
     "text": [
      "\r",
      "Converting train audios:  90%|███████████████████████████████████████████████▊     | 4164/4620 [00:38<00:05, 78.95it/s]"
     ]
    },
    {
     "name": "stdout",
     "output_type": "stream",
     "text": [
      "saving dir .\\features\\train\\babble\\5db\n",
      "saving dir .\\features\\train\\babble\\5db\n",
      "saving dir .\\features\\train\\babble\\5db\n",
      "saving dir .\\features\\train\\babble\\5db\n",
      "saving dir .\\features\\train\\babble\\5db\n",
      "saving dir .\\features\\train\\babble\\5db\n",
      "saving dir .\\features\\train\\babble\\5db\n",
      "saving dir .\\features\\train\\babble\\5db\n",
      "saving dir .\\features\\train\\babble\\5db\n",
      "saving dir .\\features\\train\\babble\\5db\n",
      "saving dir .\\features\\train\\babble\\5db\n",
      "saving dir .\\features\\train\\babble\\5db\n",
      "saving dir .\\features\\train\\babble\\5db\n"
     ]
    },
    {
     "name": "stderr",
     "output_type": "stream",
     "text": [
      "\r",
      "Converting train audios:  90%|███████████████████████████████████████████████▉     | 4177/4620 [00:39<00:05, 75.01it/s]"
     ]
    },
    {
     "name": "stdout",
     "output_type": "stream",
     "text": [
      "saving dir .\\features\\train\\babble\\5db\n",
      "saving dir .\\features\\train\\babble\\5db\n",
      "saving dir .\\features\\train\\babble\\5db\n",
      "saving dir .\\features\\train\\babble\\5db\n",
      "saving dir .\\features\\train\\babble\\5db\n",
      "saving dir .\\features\\train\\babble\\5db\n",
      "saving dir .\\features\\train\\babble\\5db\n",
      "saving dir .\\features\\train\\babble\\5db\n",
      "saving dir .\\features\\train\\babble\\5db\n",
      "saving dir .\\features\\train\\babble\\5db\n",
      "saving dir .\\features\\train\\babble\\5db\n",
      "saving dir .\\features\\train\\babble\\5db\n",
      "saving dir .\\features\\train\\babble\\5db\n"
     ]
    },
    {
     "name": "stderr",
     "output_type": "stream",
     "text": [
      "\r",
      "Converting train audios:  91%|████████████████████████████████████████████████     | 4190/4620 [00:39<00:05, 85.12it/s]"
     ]
    },
    {
     "name": "stdout",
     "output_type": "stream",
     "text": [
      "saving dir .\\features\\train\\babble\\5db\n",
      "saving dir .\\features\\train\\babble\\5db\n",
      "saving dir .\\features\\train\\babble\\5db\n",
      "saving dir .\\features\\train\\babble\\5db\n",
      "saving dir .\\features\\train\\babble\\5db\n",
      "saving dir .\\features\\train\\babble\\5db\n",
      "saving dir .\\features\\train\\babble\\5db\n",
      "saving dir .\\features\\train\\babble\\5db\n",
      "saving dir .\\features\\train\\babble\\5db\n",
      "saving dir .\\features\\train\\babble\\5db\n",
      "saving dir .\\features\\train\\babble\\5db\n",
      "saving dir .\\features\\train\\babble\\5db\n"
     ]
    },
    {
     "name": "stderr",
     "output_type": "stream",
     "text": [
      "\r",
      "Converting train audios:  91%|████████████████████████████████████████████████▏    | 4202/4620 [00:39<00:04, 92.88it/s]"
     ]
    },
    {
     "name": "stdout",
     "output_type": "stream",
     "text": [
      "saving dir .\\features\\train\\babble\\5db\n",
      "saving dir .\\features\\train\\babble\\5db\n",
      "saving dir .\\features\\train\\babble\\5db\n",
      "saving dir .\\features\\train\\babble\\5db\n",
      "saving dir .\\features\\train\\babble\\5db\n",
      "saving dir .\\features\\train\\babble\\5db\n",
      "saving dir .\\features\\train\\babble\\5db\n",
      "saving dir .\\features\\train\\babble\\5db\n",
      "saving dir .\\features\\train\\babble\\5db\n",
      "saving dir .\\features\\train\\babble\\5db\n",
      "saving dir .\\features\\train\\babble\\5db\n",
      "saving dir .\\features\\train\\babble\\5db\n"
     ]
    },
    {
     "name": "stderr",
     "output_type": "stream",
     "text": [
      "\r",
      "Converting train audios:  91%|████████████████████████████████████████████████▎    | 4214/4620 [00:39<00:04, 99.20it/s]"
     ]
    },
    {
     "name": "stdout",
     "output_type": "stream",
     "text": [
      "saving dir .\\features\\train\\babble\\5db\n",
      "saving dir .\\features\\train\\babble\\5db\n",
      "saving dir .\\features\\train\\babble\\5db\n",
      "saving dir .\\features\\train\\babble\\5db\n",
      "saving dir .\\features\\train\\babble\\5db\n",
      "saving dir .\\features\\train\\babble\\5db\n",
      "saving dir .\\features\\train\\babble\\5db\n",
      "saving dir .\\features\\train\\babble\\5db\n",
      "saving dir .\\features\\train\\babble\\5db\n",
      "saving dir .\\features\\train\\babble\\5db\n",
      "saving dir .\\features\\train\\babble\\5db\n",
      "saving dir .\\features\\train\\babble\\5db\n"
     ]
    },
    {
     "name": "stderr",
     "output_type": "stream",
     "text": [
      "\r",
      "Converting train audios:  91%|███████████████████████████████████████████████▌    | 4226/4620 [00:39<00:03, 102.58it/s]"
     ]
    },
    {
     "name": "stdout",
     "output_type": "stream",
     "text": [
      "saving dir .\\features\\train\\babble\\5db\n",
      "saving dir .\\features\\train\\babble\\5db\n",
      "saving dir .\\features\\train\\babble\\5db\n",
      "saving dir .\\features\\train\\babble\\5db\n",
      "saving dir .\\features\\train\\babble\\5db\n",
      "saving dir .\\features\\train\\babble\\5db\n",
      "saving dir .\\features\\train\\babble\\5db\n",
      "saving dir .\\features\\train\\babble\\5db\n",
      "saving dir .\\features\\train\\babble\\5db\n",
      "saving dir .\\features\\train\\babble\\5db\n",
      "saving dir .\\features\\train\\babble\\5db\n",
      "saving dir .\\features\\train\\babble\\5db\n",
      "saving dir .\\features\\train\\babble\\5db\n"
     ]
    },
    {
     "name": "stderr",
     "output_type": "stream",
     "text": [
      "\r",
      "Converting train audios:  92%|███████████████████████████████████████████████▋    | 4239/4620 [00:39<00:03, 107.41it/s]"
     ]
    },
    {
     "name": "stdout",
     "output_type": "stream",
     "text": [
      "saving dir .\\features\\train\\babble\\5db\n",
      "saving dir .\\features\\train\\babble\\5db\n",
      "saving dir .\\features\\train\\babble\\5db\n",
      "saving dir .\\features\\train\\babble\\5db\n",
      "saving dir .\\features\\train\\babble\\5db\n",
      "saving dir .\\features\\train\\babble\\5db\n",
      "saving dir .\\features\\train\\babble\\5db\n",
      "saving dir .\\features\\train\\babble\\5db\n",
      "saving dir .\\features\\train\\babble\\5db\n",
      "saving dir .\\features\\train\\babble\\5db\n",
      "saving dir .\\features\\train\\babble\\5db\n",
      "saving dir .\\features\\train\\babble\\5db\n",
      "saving dir .\\features\\train\\babble\\5db\n"
     ]
    },
    {
     "name": "stderr",
     "output_type": "stream",
     "text": [
      "\r",
      "Converting train audios:  92%|███████████████████████████████████████████████▊    | 4252/4620 [00:39<00:03, 111.94it/s]"
     ]
    },
    {
     "name": "stdout",
     "output_type": "stream",
     "text": [
      "saving dir .\\features\\train\\babble\\5db\n",
      "saving dir .\\features\\train\\babble\\5db\n",
      "saving dir .\\features\\train\\babble\\5db\n",
      "saving dir .\\features\\train\\babble\\5db\n",
      "saving dir .\\features\\train\\babble\\5db\n",
      "saving dir .\\features\\train\\babble\\5db\n",
      "saving dir .\\features\\train\\babble\\5db\n",
      "saving dir .\\features\\train\\babble\\5db\n",
      "saving dir .\\features\\train\\babble\\5db\n",
      "saving dir .\\features\\train\\babble\\5db\n",
      "saving dir .\\features\\train\\babble\\5db\n",
      "saving dir .\\features\\train\\babble\\5db\n",
      "saving dir .\\features\\train\\babble\\5db\n"
     ]
    },
    {
     "name": "stderr",
     "output_type": "stream",
     "text": [
      "\r",
      "Converting train audios:  92%|████████████████████████████████████████████████    | 4265/4620 [00:39<00:03, 112.94it/s]"
     ]
    },
    {
     "name": "stdout",
     "output_type": "stream",
     "text": [
      "saving dir .\\features\\train\\babble\\5db\n",
      "saving dir .\\features\\train\\babble\\5db\n",
      "saving dir .\\features\\train\\babble\\5db\n",
      "saving dir .\\features\\train\\babble\\5db\n",
      "saving dir .\\features\\train\\babble\\5db\n",
      "saving dir .\\features\\train\\babble\\5db\n",
      "saving dir .\\features\\train\\babble\\5db\n",
      "saving dir .\\features\\train\\babble\\5db\n",
      "saving dir .\\features\\train\\babble\\5db\n",
      "saving dir .\\features\\train\\babble\\5db\n",
      "saving dir .\\features\\train\\babble\\5db\n",
      "saving dir .\\features\\train\\babble\\5db\n"
     ]
    },
    {
     "name": "stderr",
     "output_type": "stream",
     "text": [
      "\r",
      "Converting train audios:  93%|████████████████████████████████████████████████▏   | 4277/4620 [00:39<00:03, 114.08it/s]"
     ]
    },
    {
     "name": "stdout",
     "output_type": "stream",
     "text": [
      "saving dir .\\features\\train\\babble\\5db\n",
      "saving dir .\\features\\train\\babble\\5db\n",
      "saving dir .\\features\\train\\babble\\5db\n",
      "saving dir .\\features\\train\\babble\\5db\n",
      "saving dir .\\features\\train\\babble\\5db\n",
      "saving dir .\\features\\train\\babble\\5db\n",
      "saving dir .\\features\\train\\babble\\5db\n",
      "saving dir .\\features\\train\\babble\\5db\n",
      "saving dir .\\features\\train\\babble\\5db\n",
      "saving dir .\\features\\train\\babble\\5db\n",
      "saving dir .\\features\\train\\babble\\5db\n",
      "saving dir .\\features\\train\\babble\\5db\n",
      "saving dir .\\features\\train\\babble\\5db\n"
     ]
    },
    {
     "name": "stderr",
     "output_type": "stream",
     "text": [
      "\r",
      "Converting train audios:  93%|████████████████████████████████████████████████▎   | 4290/4620 [00:40<00:02, 116.61it/s]"
     ]
    },
    {
     "name": "stdout",
     "output_type": "stream",
     "text": [
      "saving dir .\\features\\train\\babble\\5db\n",
      "saving dir .\\features\\train\\babble\\5db\n",
      "saving dir .\\features\\train\\babble\\5db\n",
      "saving dir .\\features\\train\\babble\\5db\n",
      "saving dir .\\features\\train\\babble\\5db\n",
      "saving dir .\\features\\train\\babble\\5db\n",
      "saving dir .\\features\\train\\babble\\5db\n",
      "saving dir .\\features\\train\\babble\\5db\n",
      "saving dir .\\features\\train\\babble\\5db\n",
      "saving dir .\\features\\train\\babble\\5db\n",
      "saving dir .\\features\\train\\babble\\5db\n",
      "saving dir .\\features\\train\\babble\\5db\n"
     ]
    },
    {
     "name": "stderr",
     "output_type": "stream",
     "text": [
      "\r",
      "Converting train audios:  93%|████████████████████████████████████████████████▍   | 4302/4620 [00:40<00:02, 117.01it/s]"
     ]
    },
    {
     "name": "stdout",
     "output_type": "stream",
     "text": [
      "saving dir .\\features\\train\\babble\\5db\n",
      "saving dir .\\features\\train\\babble\\5db\n",
      "saving dir .\\features\\train\\babble\\5db\n",
      "saving dir .\\features\\train\\babble\\5db\n",
      "saving dir .\\features\\train\\babble\\5db\n",
      "saving dir .\\features\\train\\babble\\5db\n",
      "saving dir .\\features\\train\\babble\\5db\n",
      "saving dir .\\features\\train\\babble\\5db\n",
      "saving dir .\\features\\train\\babble\\5db\n",
      "saving dir .\\features\\train\\babble\\5db\n",
      "saving dir .\\features\\train\\babble\\5db\n",
      "saving dir .\\features\\train\\babble\\5db\n",
      "saving dir .\\features\\train\\babble\\5db\n"
     ]
    },
    {
     "name": "stderr",
     "output_type": "stream",
     "text": [
      "\r",
      "Converting train audios:  93%|████████████████████████████████████████████████▌   | 4315/4620 [00:40<00:02, 120.38it/s]"
     ]
    },
    {
     "name": "stdout",
     "output_type": "stream",
     "text": [
      "saving dir .\\features\\train\\babble\\5db\n",
      "saving dir .\\features\\train\\babble\\5db\n",
      "saving dir .\\features\\train\\babble\\5db\n",
      "saving dir .\\features\\train\\babble\\5db\n",
      "saving dir .\\features\\train\\babble\\5db\n",
      "saving dir .\\features\\train\\babble\\5db\n",
      "saving dir .\\features\\train\\babble\\5db\n",
      "saving dir .\\features\\train\\babble\\5db\n",
      "saving dir .\\features\\train\\babble\\5db\n",
      "saving dir .\\features\\train\\babble\\5db\n",
      "saving dir .\\features\\train\\babble\\5db\n",
      "saving dir .\\features\\train\\babble\\5db\n",
      "saving dir .\\features\\train\\babble\\5db\n"
     ]
    },
    {
     "name": "stderr",
     "output_type": "stream",
     "text": [
      "\r",
      "Converting train audios:  94%|████████████████████████████████████████████████▋   | 4328/4620 [00:40<00:02, 119.81it/s]"
     ]
    },
    {
     "name": "stdout",
     "output_type": "stream",
     "text": [
      "saving dir .\\features\\train\\babble\\5db\n",
      "saving dir .\\features\\train\\babble\\5db\n",
      "saving dir .\\features\\train\\babble\\5db\n",
      "saving dir .\\features\\train\\babble\\5db\n",
      "saving dir .\\features\\train\\babble\\5db\n",
      "saving dir .\\features\\train\\babble\\5db\n",
      "saving dir .\\features\\train\\babble\\5db\n",
      "saving dir .\\features\\train\\babble\\5db\n",
      "saving dir .\\features\\train\\babble\\5db\n",
      "saving dir .\\features\\train\\babble\\5db\n",
      "saving dir .\\features\\train\\babble\\5db\n",
      "saving dir .\\features\\train\\babble\\5db\n",
      "saving dir .\\features\\train\\babble\\5db\n"
     ]
    },
    {
     "name": "stderr",
     "output_type": "stream",
     "text": [
      "\r",
      "Converting train audios:  94%|████████████████████████████████████████████████▊   | 4341/4620 [00:40<00:02, 118.76it/s]"
     ]
    },
    {
     "name": "stdout",
     "output_type": "stream",
     "text": [
      "saving dir .\\features\\train\\babble\\5db\n",
      "saving dir .\\features\\train\\babble\\5db\n",
      "saving dir .\\features\\train\\babble\\5db\n",
      "saving dir .\\features\\train\\babble\\5db\n",
      "saving dir .\\features\\train\\babble\\5db\n",
      "saving dir .\\features\\train\\babble\\5db\n",
      "saving dir .\\features\\train\\babble\\5db\n",
      "saving dir .\\features\\train\\babble\\5db\n",
      "saving dir .\\features\\train\\babble\\5db\n",
      "saving dir .\\features\\train\\babble\\5db\n",
      "saving dir .\\features\\train\\babble\\5db\n",
      "saving dir .\\features\\train\\babble\\5db\n"
     ]
    },
    {
     "name": "stderr",
     "output_type": "stream",
     "text": [
      "\r",
      "Converting train audios:  94%|█████████████████████████████████████████████████▉   | 4353/4620 [00:40<00:03, 73.54it/s]"
     ]
    },
    {
     "name": "stdout",
     "output_type": "stream",
     "text": [
      "saving dir .\\features\\train\\babble\\5db\n",
      "saving dir .\\features\\train\\babble\\5db\n",
      "saving dir .\\features\\train\\babble\\5db\n",
      "saving dir .\\features\\train\\babble\\5db\n",
      "saving dir .\\features\\train\\babble\\5db\n",
      "saving dir .\\features\\train\\babble\\5db\n",
      "saving dir .\\features\\train\\babble\\5db\n",
      "saving dir .\\features\\train\\babble\\5db\n",
      "saving dir .\\features\\train\\babble\\5db\n",
      "saving dir .\\features\\train\\babble\\5db\n"
     ]
    },
    {
     "name": "stderr",
     "output_type": "stream",
     "text": [
      "\r",
      "Converting train audios:  94%|██████████████████████████████████████████████████   | 4363/4620 [00:41<00:04, 55.51it/s]"
     ]
    },
    {
     "name": "stdout",
     "output_type": "stream",
     "text": [
      "saving dir .\\features\\train\\babble\\5db\n",
      "saving dir .\\features\\train\\babble\\5db\n",
      "saving dir .\\features\\train\\babble\\5db\n",
      "saving dir .\\features\\train\\babble\\5db\n",
      "saving dir .\\features\\train\\babble\\5db\n",
      "saving dir .\\features\\train\\babble\\5db\n",
      "saving dir .\\features\\train\\babble\\5db\n",
      "saving dir .\\features\\train\\babble\\5db\n",
      "saving dir .\\features\\train\\babble\\5db\n",
      "saving dir .\\features\\train\\babble\\5db\n",
      "saving dir .\\features\\train\\babble\\5db\n",
      "saving dir .\\features\\train\\babble\\5db\n",
      "saving dir .\\features\\train\\babble\\5db\n"
     ]
    },
    {
     "name": "stderr",
     "output_type": "stream",
     "text": [
      "\r",
      "Converting train audios:  95%|██████████████████████████████████████████████████▏  | 4376/4620 [00:41<00:03, 66.60it/s]"
     ]
    },
    {
     "name": "stdout",
     "output_type": "stream",
     "text": [
      "saving dir .\\features\\train\\babble\\5db\n",
      "saving dir .\\features\\train\\babble\\5db\n",
      "saving dir .\\features\\train\\babble\\5db\n",
      "saving dir .\\features\\train\\babble\\5db\n",
      "saving dir .\\features\\train\\babble\\5db\n",
      "saving dir .\\features\\train\\babble\\5db\n",
      "saving dir .\\features\\train\\babble\\5db\n",
      "saving dir .\\features\\train\\babble\\5db\n",
      "saving dir .\\features\\train\\babble\\5db\n",
      "saving dir .\\features\\train\\babble\\5db\n",
      "saving dir .\\features\\train\\babble\\5db\n",
      "saving dir .\\features\\train\\babble\\5db\n"
     ]
    },
    {
     "name": "stderr",
     "output_type": "stream",
     "text": [
      "\r",
      "Converting train audios:  95%|██████████████████████████████████████████████████▎  | 4388/4620 [00:41<00:03, 76.02it/s]"
     ]
    },
    {
     "name": "stdout",
     "output_type": "stream",
     "text": [
      "saving dir .\\features\\train\\babble\\5db\n",
      "saving dir .\\features\\train\\babble\\5db\n",
      "saving dir .\\features\\train\\babble\\5db\n",
      "saving dir .\\features\\train\\babble\\5db\n",
      "saving dir .\\features\\train\\babble\\5db\n",
      "saving dir .\\features\\train\\babble\\5db\n",
      "saving dir .\\features\\train\\babble\\5db\n",
      "saving dir .\\features\\train\\babble\\5db\n",
      "saving dir .\\features\\train\\babble\\5db\n",
      "saving dir .\\features\\train\\babble\\5db\n",
      "saving dir .\\features\\train\\babble\\5db\n"
     ]
    },
    {
     "name": "stderr",
     "output_type": "stream",
     "text": [
      "\r",
      "Converting train audios:  95%|██████████████████████████████████████████████████▍  | 4399/4620 [00:41<00:02, 82.52it/s]"
     ]
    },
    {
     "name": "stdout",
     "output_type": "stream",
     "text": [
      "saving dir .\\features\\train\\babble\\5db\n",
      "saving dir .\\features\\train\\babble\\5db\n",
      "saving dir .\\features\\train\\babble\\5db\n",
      "saving dir .\\features\\train\\babble\\5db\n",
      "saving dir .\\features\\train\\babble\\5db\n",
      "saving dir .\\features\\train\\babble\\5db\n",
      "saving dir .\\features\\train\\babble\\5db\n",
      "saving dir .\\features\\train\\babble\\5db\n",
      "saving dir .\\features\\train\\babble\\5db\n",
      "saving dir .\\features\\train\\babble\\5db\n",
      "saving dir .\\features\\train\\babble\\5db\n",
      "saving dir .\\features\\train\\babble\\5db\n"
     ]
    },
    {
     "name": "stderr",
     "output_type": "stream",
     "text": [
      "\r",
      "Converting train audios:  95%|██████████████████████████████████████████████████▌  | 4411/4620 [00:41<00:02, 90.29it/s]"
     ]
    },
    {
     "name": "stdout",
     "output_type": "stream",
     "text": [
      "saving dir .\\features\\train\\babble\\5db\n",
      "saving dir .\\features\\train\\babble\\5db\n",
      "saving dir .\\features\\train\\babble\\5db\n",
      "saving dir .\\features\\train\\babble\\5db\n",
      "saving dir .\\features\\train\\babble\\5db\n",
      "saving dir .\\features\\train\\babble\\5db\n",
      "saving dir .\\features\\train\\babble\\5db\n",
      "saving dir .\\features\\train\\babble\\5db\n",
      "saving dir .\\features\\train\\babble\\5db\n",
      "saving dir .\\features\\train\\babble\\5db\n",
      "saving dir .\\features\\train\\babble\\5db\n",
      "saving dir .\\features\\train\\babble\\5db\n",
      "saving dir .\\features\\train\\babble\\5db\n"
     ]
    },
    {
     "name": "stderr",
     "output_type": "stream",
     "text": [
      "\r",
      "Converting train audios:  96%|██████████████████████████████████████████████████▊  | 4424/4620 [00:41<00:01, 98.11it/s]"
     ]
    },
    {
     "name": "stdout",
     "output_type": "stream",
     "text": [
      "saving dir .\\features\\train\\babble\\5db\n",
      "saving dir .\\features\\train\\babble\\5db\n",
      "saving dir .\\features\\train\\babble\\5db\n",
      "saving dir .\\features\\train\\babble\\5db\n",
      "saving dir .\\features\\train\\babble\\5db\n",
      "saving dir .\\features\\train\\babble\\5db\n",
      "saving dir .\\features\\train\\babble\\5db\n",
      "saving dir .\\features\\train\\babble\\5db\n",
      "saving dir .\\features\\train\\babble\\5db\n",
      "saving dir .\\features\\train\\babble\\5db\n",
      "saving dir .\\features\\train\\babble\\5db\n",
      "saving dir .\\features\\train\\babble\\5db\n"
     ]
    },
    {
     "name": "stderr",
     "output_type": "stream",
     "text": [
      "\r",
      "Converting train audios:  96%|█████████████████████████████████████████████████▉  | 4436/4620 [00:41<00:01, 103.06it/s]"
     ]
    },
    {
     "name": "stdout",
     "output_type": "stream",
     "text": [
      "saving dir .\\features\\train\\babble\\5db\n",
      "saving dir .\\features\\train\\babble\\5db\n",
      "saving dir .\\features\\train\\babble\\5db\n",
      "saving dir .\\features\\train\\babble\\5db\n",
      "saving dir .\\features\\train\\babble\\5db\n",
      "saving dir .\\features\\train\\babble\\5db\n",
      "saving dir .\\features\\train\\babble\\5db\n",
      "saving dir .\\features\\train\\babble\\5db\n",
      "saving dir .\\features\\train\\babble\\5db\n",
      "saving dir .\\features\\train\\babble\\5db\n",
      "saving dir .\\features\\train\\babble\\5db\n",
      "saving dir .\\features\\train\\babble\\5db\n"
     ]
    },
    {
     "name": "stderr",
     "output_type": "stream",
     "text": [
      "\r",
      "Converting train audios:  96%|███████████████████████████████████████████████████  | 4448/4620 [00:41<00:02, 83.13it/s]"
     ]
    },
    {
     "name": "stdout",
     "output_type": "stream",
     "text": [
      "saving dir .\\features\\train\\babble\\5db\n",
      "saving dir .\\features\\train\\babble\\5db\n",
      "saving dir .\\features\\train\\babble\\5db\n",
      "saving dir .\\features\\train\\babble\\5db\n",
      "saving dir .\\features\\train\\babble\\5db\n",
      "saving dir .\\features\\train\\babble\\5db\n",
      "saving dir .\\features\\train\\babble\\5db\n",
      "saving dir .\\features\\train\\babble\\5db\n",
      "saving dir .\\features\\train\\babble\\5db\n",
      "saving dir .\\features\\train\\babble\\5db\n",
      "saving dir .\\features\\train\\babble\\5db\n",
      "saving dir .\\features\\train\\babble\\5db\n"
     ]
    },
    {
     "name": "stderr",
     "output_type": "stream",
     "text": [
      "\r",
      "Converting train audios:  97%|███████████████████████████████████████████████████▏ | 4460/4620 [00:42<00:01, 91.01it/s]"
     ]
    },
    {
     "name": "stdout",
     "output_type": "stream",
     "text": [
      "saving dir .\\features\\train\\babble\\5db\n",
      "saving dir .\\features\\train\\babble\\5db\n",
      "saving dir .\\features\\train\\babble\\5db\n",
      "saving dir .\\features\\train\\babble\\5db\n",
      "saving dir .\\features\\train\\babble\\5db\n",
      "saving dir .\\features\\train\\babble\\5db\n",
      "saving dir .\\features\\train\\babble\\5db\n",
      "saving dir .\\features\\train\\babble\\5db\n",
      "saving dir .\\features\\train\\babble\\5db\n",
      "saving dir .\\features\\train\\babble\\5db\n",
      "saving dir .\\features\\train\\babble\\5db\n",
      "saving dir .\\features\\train\\babble\\5db\n",
      "saving dir .\\features\\train\\babble\\5db\n"
     ]
    },
    {
     "name": "stderr",
     "output_type": "stream",
     "text": [
      "\r",
      "Converting train audios:  97%|███████████████████████████████████████████████████▎ | 4473/4620 [00:42<00:01, 98.48it/s]"
     ]
    },
    {
     "name": "stdout",
     "output_type": "stream",
     "text": [
      "saving dir .\\features\\train\\babble\\5db\n",
      "saving dir .\\features\\train\\babble\\5db\n",
      "saving dir .\\features\\train\\babble\\5db\n",
      "saving dir .\\features\\train\\babble\\5db\n",
      "saving dir .\\features\\train\\babble\\5db\n",
      "saving dir .\\features\\train\\babble\\5db\n",
      "saving dir .\\features\\train\\babble\\5db\n",
      "saving dir .\\features\\train\\babble\\5db\n",
      "saving dir .\\features\\train\\babble\\5db\n",
      "saving dir .\\features\\train\\babble\\5db\n",
      "saving dir .\\features\\train\\babble\\5db\n",
      "saving dir .\\features\\train\\babble\\5db\n",
      "saving dir .\\features\\train\\babble\\5db\n"
     ]
    },
    {
     "name": "stderr",
     "output_type": "stream",
     "text": [
      "\r",
      "Converting train audios:  97%|██████████████████████████████████████████████████▍ | 4486/4620 [00:42<00:01, 106.01it/s]"
     ]
    },
    {
     "name": "stdout",
     "output_type": "stream",
     "text": [
      "saving dir .\\features\\train\\babble\\5db\n",
      "saving dir .\\features\\train\\babble\\5db\n",
      "saving dir .\\features\\train\\babble\\5db\n",
      "saving dir .\\features\\train\\babble\\5db\n",
      "saving dir .\\features\\train\\babble\\5db\n",
      "saving dir .\\features\\train\\babble\\5db\n",
      "saving dir .\\features\\train\\babble\\5db\n",
      "saving dir .\\features\\train\\babble\\5db\n",
      "saving dir .\\features\\train\\babble\\5db\n",
      "saving dir .\\features\\train\\babble\\5db\n",
      "saving dir .\\features\\train\\babble\\5db\n",
      "saving dir .\\features\\train\\babble\\5db\n"
     ]
    },
    {
     "name": "stderr",
     "output_type": "stream",
     "text": [
      "\r",
      "Converting train audios:  97%|██████████████████████████████████████████████████▋ | 4498/4620 [00:42<00:01, 109.64it/s]"
     ]
    },
    {
     "name": "stdout",
     "output_type": "stream",
     "text": [
      "saving dir .\\features\\train\\babble\\5db\n",
      "saving dir .\\features\\train\\babble\\5db\n",
      "saving dir .\\features\\train\\babble\\5db\n",
      "saving dir .\\features\\train\\babble\\5db\n",
      "saving dir .\\features\\train\\babble\\5db\n",
      "saving dir .\\features\\train\\babble\\5db\n",
      "saving dir .\\features\\train\\babble\\5db\n",
      "saving dir .\\features\\train\\babble\\5db\n",
      "saving dir .\\features\\train\\babble\\5db\n",
      "saving dir .\\features\\train\\babble\\5db\n",
      "saving dir .\\features\\train\\babble\\5db\n",
      "saving dir .\\features\\train\\babble\\5db\n",
      "saving dir .\\features\\train\\babble\\5db\n"
     ]
    },
    {
     "name": "stderr",
     "output_type": "stream",
     "text": [
      "\r",
      "Converting train audios:  98%|██████████████████████████████████████████████████▊ | 4511/4620 [00:42<00:00, 113.62it/s]"
     ]
    },
    {
     "name": "stdout",
     "output_type": "stream",
     "text": [
      "saving dir .\\features\\train\\babble\\5db\n",
      "saving dir .\\features\\train\\babble\\5db\n",
      "saving dir .\\features\\train\\babble\\5db\n",
      "saving dir .\\features\\train\\babble\\5db\n",
      "saving dir .\\features\\train\\babble\\5db\n",
      "saving dir .\\features\\train\\babble\\5db\n",
      "saving dir .\\features\\train\\babble\\5db\n",
      "saving dir .\\features\\train\\babble\\5db\n",
      "saving dir .\\features\\train\\babble\\5db\n",
      "saving dir .\\features\\train\\babble\\5db\n",
      "saving dir .\\features\\train\\babble\\5db\n",
      "saving dir .\\features\\train\\babble\\5db\n",
      "saving dir .\\features\\train\\babble\\5db\n"
     ]
    },
    {
     "name": "stderr",
     "output_type": "stream",
     "text": [
      "\r",
      "Converting train audios:  98%|██████████████████████████████████████████████████▉ | 4524/4620 [00:42<00:00, 115.65it/s]"
     ]
    },
    {
     "name": "stdout",
     "output_type": "stream",
     "text": [
      "saving dir .\\features\\train\\babble\\5db\n",
      "saving dir .\\features\\train\\babble\\5db\n",
      "saving dir .\\features\\train\\babble\\5db\n",
      "saving dir .\\features\\train\\babble\\5db\n",
      "saving dir .\\features\\train\\babble\\5db\n",
      "saving dir .\\features\\train\\babble\\5db\n",
      "saving dir .\\features\\train\\babble\\5db\n",
      "saving dir .\\features\\train\\babble\\5db\n",
      "saving dir .\\features\\train\\babble\\5db\n",
      "saving dir .\\features\\train\\babble\\5db\n",
      "saving dir .\\features\\train\\babble\\5db\n",
      "saving dir .\\features\\train\\babble\\5db\n"
     ]
    },
    {
     "name": "stderr",
     "output_type": "stream",
     "text": [
      "\r",
      "Converting train audios:  98%|███████████████████████████████████████████████████ | 4536/4620 [00:42<00:00, 112.11it/s]"
     ]
    },
    {
     "name": "stdout",
     "output_type": "stream",
     "text": [
      "saving dir .\\features\\train\\babble\\5db\n",
      "saving dir .\\features\\train\\babble\\5db\n",
      "saving dir .\\features\\train\\babble\\5db\n",
      "saving dir .\\features\\train\\babble\\5db\n",
      "saving dir .\\features\\train\\babble\\5db\n",
      "saving dir .\\features\\train\\babble\\5db\n",
      "saving dir .\\features\\train\\babble\\5db\n",
      "saving dir .\\features\\train\\babble\\5db\n",
      "saving dir .\\features\\train\\babble\\5db\n",
      "saving dir .\\features\\train\\babble\\5db\n",
      "saving dir .\\features\\train\\babble\\5db\n",
      "saving dir .\\features\\train\\babble\\5db\n"
     ]
    },
    {
     "name": "stderr",
     "output_type": "stream",
     "text": [
      "\r",
      "Converting train audios:  98%|███████████████████████████████████████████████████▏| 4548/4620 [00:42<00:00, 113.80it/s]"
     ]
    },
    {
     "name": "stdout",
     "output_type": "stream",
     "text": [
      "saving dir .\\features\\train\\babble\\5db\n",
      "saving dir .\\features\\train\\babble\\5db\n",
      "saving dir .\\features\\train\\babble\\5db\n",
      "saving dir .\\features\\train\\babble\\5db\n",
      "saving dir .\\features\\train\\babble\\5db\n",
      "saving dir .\\features\\train\\babble\\5db\n",
      "saving dir .\\features\\train\\babble\\5db\n",
      "saving dir .\\features\\train\\babble\\5db\n",
      "saving dir .\\features\\train\\babble\\5db\n",
      "saving dir .\\features\\train\\babble\\5db\n",
      "saving dir .\\features\\train\\babble\\5db\n",
      "saving dir .\\features\\train\\babble\\5db\n",
      "saving dir .\\features\\train\\babble\\5db\n"
     ]
    },
    {
     "name": "stderr",
     "output_type": "stream",
     "text": [
      "\r",
      "Converting train audios:  99%|███████████████████████████████████████████████████▎| 4561/4620 [00:42<00:00, 115.79it/s]"
     ]
    },
    {
     "name": "stdout",
     "output_type": "stream",
     "text": [
      "saving dir .\\features\\train\\babble\\5db\n",
      "saving dir .\\features\\train\\babble\\5db\n",
      "saving dir .\\features\\train\\babble\\5db\n",
      "saving dir .\\features\\train\\babble\\5db\n",
      "saving dir .\\features\\train\\babble\\5db\n",
      "saving dir .\\features\\train\\babble\\5db\n",
      "saving dir .\\features\\train\\babble\\5db\n",
      "saving dir .\\features\\train\\babble\\5db\n",
      "saving dir .\\features\\train\\babble\\5db\n",
      "saving dir .\\features\\train\\babble\\5db\n",
      "saving dir .\\features\\train\\babble\\5db\n",
      "saving dir .\\features\\train\\babble\\5db\n",
      "saving dir .\\features\\train\\babble\\5db\n"
     ]
    },
    {
     "name": "stderr",
     "output_type": "stream",
     "text": [
      "\r",
      "Converting train audios:  99%|███████████████████████████████████████████████████▍| 4574/4620 [00:42<00:00, 117.85it/s]"
     ]
    },
    {
     "name": "stdout",
     "output_type": "stream",
     "text": [
      "saving dir .\\features\\train\\babble\\5db\n",
      "saving dir .\\features\\train\\babble\\5db\n",
      "saving dir .\\features\\train\\babble\\5db\n",
      "saving dir .\\features\\train\\babble\\5db\n",
      "saving dir .\\features\\train\\babble\\5db\n",
      "saving dir .\\features\\train\\babble\\5db\n",
      "saving dir .\\features\\train\\babble\\5db\n",
      "saving dir .\\features\\train\\babble\\5db\n",
      "saving dir .\\features\\train\\babble\\5db\n",
      "saving dir .\\features\\train\\babble\\5db\n",
      "saving dir .\\features\\train\\babble\\5db\n",
      "saving dir .\\features\\train\\babble\\5db\n",
      "saving dir .\\features\\train\\babble\\5db\n"
     ]
    },
    {
     "name": "stderr",
     "output_type": "stream",
     "text": [
      "\r",
      "Converting train audios:  99%|███████████████████████████████████████████████████▋| 4587/4620 [00:43<00:00, 120.33it/s]"
     ]
    },
    {
     "name": "stdout",
     "output_type": "stream",
     "text": [
      "saving dir .\\features\\train\\babble\\5db\n",
      "saving dir .\\features\\train\\babble\\5db\n",
      "saving dir .\\features\\train\\babble\\5db\n",
      "saving dir .\\features\\train\\babble\\5db\n",
      "saving dir .\\features\\train\\babble\\5db\n",
      "saving dir .\\features\\train\\babble\\5db\n",
      "saving dir .\\features\\train\\babble\\5db\n",
      "saving dir .\\features\\train\\babble\\5db\n",
      "saving dir .\\features\\train\\babble\\5db\n",
      "saving dir .\\features\\train\\babble\\5db\n",
      "saving dir .\\features\\train\\babble\\5db\n",
      "saving dir .\\features\\train\\babble\\5db\n",
      "saving dir .\\features\\train\\babble\\5db\n"
     ]
    },
    {
     "name": "stderr",
     "output_type": "stream",
     "text": [
      "\r",
      "Converting train audios: 100%|███████████████████████████████████████████████████▊| 4600/4620 [00:43<00:00, 121.11it/s]"
     ]
    },
    {
     "name": "stdout",
     "output_type": "stream",
     "text": [
      "saving dir .\\features\\train\\babble\\5db\n",
      "saving dir .\\features\\train\\babble\\5db\n",
      "saving dir .\\features\\train\\babble\\5db\n",
      "saving dir .\\features\\train\\babble\\5db\n",
      "saving dir .\\features\\train\\babble\\5db\n",
      "saving dir .\\features\\train\\babble\\5db\n",
      "saving dir .\\features\\train\\babble\\5db\n",
      "saving dir .\\features\\train\\babble\\5db\n",
      "saving dir .\\features\\train\\babble\\5db\n",
      "saving dir .\\features\\train\\babble\\5db\n",
      "saving dir .\\features\\train\\babble\\5db\n",
      "saving dir .\\features\\train\\babble\\5db\n",
      "saving dir .\\features\\train\\babble\\5db\n"
     ]
    },
    {
     "name": "stderr",
     "output_type": "stream",
     "text": [
      "\r",
      "Converting train audios: 100%|███████████████████████████████████████████████████▉| 4613/4620 [00:43<00:00, 119.32it/s]"
     ]
    },
    {
     "name": "stdout",
     "output_type": "stream",
     "text": [
      "saving dir .\\features\\train\\babble\\5db\n",
      "saving dir .\\features\\train\\babble\\5db\n",
      "saving dir .\\features\\train\\babble\\5db\n",
      "saving dir .\\features\\train\\babble\\5db\n",
      "saving dir .\\features\\train\\babble\\5db\n",
      "saving dir .\\features\\train\\babble\\5db\n",
      "saving dir .\\features\\train\\babble\\5db\n"
     ]
    },
    {
     "name": "stderr",
     "output_type": "stream",
     "text": [
      "Converting train audios: 100%|████████████████████████████████████████████████████| 4620/4620 [00:43<00:00, 106.57it/s]\n",
      "Converting train audios:   0%|                                                                | 0/4620 [00:00<?, ?it/s]"
     ]
    },
    {
     "name": "stdout",
     "output_type": "stream",
     "text": [
      "saving dir .\\features\\train\\white\\5db\n",
      "saving dir .\\features\\train\\white\\5db\n",
      "saving dir .\\features\\train\\white\\5db\n",
      "saving dir .\\features\\train\\white\\5db\n",
      "saving dir .\\features\\train\\white\\5db\n",
      "saving dir .\\features\\train\\white\\5db\n",
      "saving dir .\\features\\train\\white\\5db\n",
      "saving dir .\\features\\train\\white\\5db\n",
      "saving dir .\\features\\train\\white\\5db\n",
      "saving dir .\\features\\train\\white\\5db\n",
      "saving dir .\\features\\train\\white\\5db\n",
      "saving dir .\\features\\train\\white\\5db\n",
      "saving dir .\\features\\train\\white\\5db\n"
     ]
    },
    {
     "name": "stderr",
     "output_type": "stream",
     "text": [
      "\r",
      "Converting train audios:   0%|▏                                                      | 13/4620 [00:00<01:06, 69.70it/s]"
     ]
    },
    {
     "name": "stdout",
     "output_type": "stream",
     "text": [
      "saving dir .\\features\\train\\white\\5db\n",
      "saving dir .\\features\\train\\white\\5db\n",
      "saving dir .\\features\\train\\white\\5db\n",
      "saving dir .\\features\\train\\white\\5db\n",
      "saving dir .\\features\\train\\white\\5db\n",
      "saving dir .\\features\\train\\white\\5db\n",
      "saving dir .\\features\\train\\white\\5db\n",
      "saving dir .\\features\\train\\white\\5db\n",
      "saving dir .\\features\\train\\white\\5db\n",
      "saving dir .\\features\\train\\white\\5db\n",
      "saving dir .\\features\\train\\white\\5db\n",
      "saving dir .\\features\\train\\white\\5db\n",
      "saving dir .\\features\\train\\white\\5db\n",
      "saving dir .\\features\\train\\white\\5db\n"
     ]
    },
    {
     "name": "stderr",
     "output_type": "stream",
     "text": [
      "\r",
      "Converting train audios:   1%|▎                                                      | 27/4620 [00:00<00:56, 81.25it/s]"
     ]
    },
    {
     "name": "stdout",
     "output_type": "stream",
     "text": [
      "saving dir .\\features\\train\\white\\5db\n",
      "saving dir .\\features\\train\\white\\5db\n",
      "saving dir .\\features\\train\\white\\5db\n",
      "saving dir .\\features\\train\\white\\5db\n",
      "saving dir .\\features\\train\\white\\5db\n",
      "saving dir .\\features\\train\\white\\5db\n",
      "saving dir .\\features\\train\\white\\5db\n",
      "saving dir .\\features\\train\\white\\5db\n",
      "saving dir .\\features\\train\\white\\5db\n",
      "saving dir .\\features\\train\\white\\5db\n",
      "saving dir .\\features\\train\\white\\5db\n",
      "saving dir .\\features\\train\\white\\5db\n",
      "saving dir .\\features\\train\\white\\5db\n"
     ]
    },
    {
     "name": "stderr",
     "output_type": "stream",
     "text": [
      "\r",
      "Converting train audios:   1%|▍                                                      | 40/4620 [00:00<00:50, 90.08it/s]"
     ]
    },
    {
     "name": "stdout",
     "output_type": "stream",
     "text": [
      "saving dir .\\features\\train\\white\\5db\n",
      "saving dir .\\features\\train\\white\\5db\n",
      "saving dir .\\features\\train\\white\\5db\n",
      "saving dir .\\features\\train\\white\\5db\n",
      "saving dir .\\features\\train\\white\\5db\n",
      "saving dir .\\features\\train\\white\\5db\n",
      "saving dir .\\features\\train\\white\\5db\n",
      "saving dir .\\features\\train\\white\\5db\n",
      "saving dir .\\features\\train\\white\\5db\n",
      "saving dir .\\features\\train\\white\\5db\n",
      "saving dir .\\features\\train\\white\\5db\n",
      "saving dir .\\features\\train\\white\\5db\n"
     ]
    },
    {
     "name": "stderr",
     "output_type": "stream",
     "text": [
      "\r",
      "Converting train audios:   1%|▌                                                      | 52/4620 [00:00<00:47, 97.19it/s]"
     ]
    },
    {
     "name": "stdout",
     "output_type": "stream",
     "text": [
      "saving dir .\\features\\train\\white\\5db\n",
      "saving dir .\\features\\train\\white\\5db\n",
      "saving dir .\\features\\train\\white\\5db\n",
      "saving dir .\\features\\train\\white\\5db\n",
      "saving dir .\\features\\train\\white\\5db\n",
      "saving dir .\\features\\train\\white\\5db\n",
      "saving dir .\\features\\train\\white\\5db\n",
      "saving dir .\\features\\train\\white\\5db\n",
      "saving dir .\\features\\train\\white\\5db\n"
     ]
    },
    {
     "name": "stderr",
     "output_type": "stream",
     "text": [
      "\r",
      "Converting train audios:   1%|▋                                                      | 61/4620 [00:00<01:08, 66.75it/s]"
     ]
    },
    {
     "name": "stdout",
     "output_type": "stream",
     "text": [
      "saving dir .\\features\\train\\white\\5db\n",
      "saving dir .\\features\\train\\white\\5db\n",
      "saving dir .\\features\\train\\white\\5db\n",
      "saving dir .\\features\\train\\white\\5db\n",
      "saving dir .\\features\\train\\white\\5db\n",
      "saving dir .\\features\\train\\white\\5db\n",
      "saving dir .\\features\\train\\white\\5db\n",
      "saving dir .\\features\\train\\white\\5db\n",
      "saving dir .\\features\\train\\white\\5db\n",
      "saving dir .\\features\\train\\white\\5db\n",
      "saving dir .\\features\\train\\white\\5db\n",
      "saving dir .\\features\\train\\white\\5db\n",
      "saving dir .\\features\\train\\white\\5db\n"
     ]
    },
    {
     "name": "stderr",
     "output_type": "stream",
     "text": [
      "\r",
      "Converting train audios:   2%|▉                                                      | 74/4620 [00:00<00:58, 77.08it/s]"
     ]
    },
    {
     "name": "stdout",
     "output_type": "stream",
     "text": [
      "saving dir .\\features\\train\\white\\5db\n",
      "saving dir .\\features\\train\\white\\5db\n",
      "saving dir .\\features\\train\\white\\5db\n",
      "saving dir .\\features\\train\\white\\5db\n",
      "saving dir .\\features\\train\\white\\5db\n",
      "saving dir .\\features\\train\\white\\5db\n",
      "saving dir .\\features\\train\\white\\5db\n",
      "saving dir .\\features\\train\\white\\5db\n",
      "saving dir .\\features\\train\\white\\5db\n",
      "saving dir .\\features\\train\\white\\5db\n",
      "saving dir .\\features\\train\\white\\5db\n",
      "saving dir .\\features\\train\\white\\5db\n",
      "saving dir .\\features\\train\\white\\5db\n"
     ]
    },
    {
     "name": "stderr",
     "output_type": "stream",
     "text": [
      "\r",
      "Converting train audios:   2%|█                                                      | 87/4620 [00:00<00:52, 87.15it/s]"
     ]
    },
    {
     "name": "stdout",
     "output_type": "stream",
     "text": [
      "saving dir .\\features\\train\\white\\5db\n",
      "saving dir .\\features\\train\\white\\5db\n",
      "saving dir .\\features\\train\\white\\5db\n",
      "saving dir .\\features\\train\\white\\5db\n",
      "saving dir .\\features\\train\\white\\5db\n",
      "saving dir .\\features\\train\\white\\5db\n",
      "saving dir .\\features\\train\\white\\5db\n",
      "saving dir .\\features\\train\\white\\5db\n",
      "saving dir .\\features\\train\\white\\5db\n",
      "saving dir .\\features\\train\\white\\5db\n",
      "saving dir .\\features\\train\\white\\5db\n",
      "saving dir .\\features\\train\\white\\5db\n",
      "saving dir .\\features\\train\\white\\5db\n"
     ]
    },
    {
     "name": "stderr",
     "output_type": "stream",
     "text": [
      "\r",
      "Converting train audios:   2%|█▏                                                    | 100/4620 [00:01<00:46, 96.34it/s]"
     ]
    },
    {
     "name": "stdout",
     "output_type": "stream",
     "text": [
      "saving dir .\\features\\train\\white\\5db\n",
      "saving dir .\\features\\train\\white\\5db\n",
      "saving dir .\\features\\train\\white\\5db\n",
      "saving dir .\\features\\train\\white\\5db\n",
      "saving dir .\\features\\train\\white\\5db\n",
      "saving dir .\\features\\train\\white\\5db\n",
      "saving dir .\\features\\train\\white\\5db\n",
      "saving dir .\\features\\train\\white\\5db\n",
      "saving dir .\\features\\train\\white\\5db\n",
      "saving dir .\\features\\train\\white\\5db\n",
      "saving dir .\\features\\train\\white\\5db\n"
     ]
    },
    {
     "name": "stderr",
     "output_type": "stream",
     "text": [
      "\r",
      "Converting train audios:   2%|█▎                                                    | 111/4620 [00:01<00:45, 99.87it/s]"
     ]
    },
    {
     "name": "stdout",
     "output_type": "stream",
     "text": [
      "saving dir .\\features\\train\\white\\5db\n",
      "saving dir .\\features\\train\\white\\5db\n",
      "saving dir .\\features\\train\\white\\5db\n",
      "saving dir .\\features\\train\\white\\5db\n",
      "saving dir .\\features\\train\\white\\5db\n",
      "saving dir .\\features\\train\\white\\5db\n",
      "saving dir .\\features\\train\\white\\5db\n",
      "saving dir .\\features\\train\\white\\5db\n",
      "saving dir .\\features\\train\\white\\5db\n",
      "saving dir .\\features\\train\\white\\5db\n",
      "saving dir .\\features\\train\\white\\5db\n"
     ]
    },
    {
     "name": "stderr",
     "output_type": "stream",
     "text": [
      "\r",
      "Converting train audios:   3%|█▍                                                    | 122/4620 [00:01<00:51, 87.39it/s]"
     ]
    },
    {
     "name": "stdout",
     "output_type": "stream",
     "text": [
      "saving dir .\\features\\train\\white\\5db\n",
      "saving dir .\\features\\train\\white\\5db\n",
      "saving dir .\\features\\train\\white\\5db\n",
      "saving dir .\\features\\train\\white\\5db\n",
      "saving dir .\\features\\train\\white\\5db\n",
      "saving dir .\\features\\train\\white\\5db\n",
      "saving dir .\\features\\train\\white\\5db\n",
      "saving dir .\\features\\train\\white\\5db\n",
      "saving dir .\\features\\train\\white\\5db\n",
      "saving dir .\\features\\train\\white\\5db\n",
      "saving dir .\\features\\train\\white\\5db\n",
      "saving dir .\\features\\train\\white\\5db\n",
      "saving dir .\\features\\train\\white\\5db\n"
     ]
    },
    {
     "name": "stderr",
     "output_type": "stream",
     "text": [
      "\r",
      "Converting train audios:   3%|█▌                                                    | 135/4620 [00:01<00:47, 95.28it/s]"
     ]
    },
    {
     "name": "stdout",
     "output_type": "stream",
     "text": [
      "saving dir .\\features\\train\\white\\5db\n",
      "saving dir .\\features\\train\\white\\5db\n",
      "saving dir .\\features\\train\\white\\5db\n",
      "saving dir .\\features\\train\\white\\5db\n",
      "saving dir .\\features\\train\\white\\5db\n",
      "saving dir .\\features\\train\\white\\5db\n",
      "saving dir .\\features\\train\\white\\5db\n",
      "saving dir .\\features\\train\\white\\5db\n",
      "saving dir .\\features\\train\\white\\5db\n",
      "saving dir .\\features\\train\\white\\5db\n",
      "saving dir .\\features\\train\\white\\5db\n"
     ]
    },
    {
     "name": "stderr",
     "output_type": "stream",
     "text": [
      "\r",
      "Converting train audios:   3%|█▋                                                    | 146/4620 [00:01<00:50, 89.43it/s]"
     ]
    },
    {
     "name": "stdout",
     "output_type": "stream",
     "text": [
      "saving dir .\\features\\train\\white\\5db\n",
      "saving dir .\\features\\train\\white\\5db\n",
      "saving dir .\\features\\train\\white\\5db\n",
      "saving dir .\\features\\train\\white\\5db\n",
      "saving dir .\\features\\train\\white\\5db\n",
      "saving dir .\\features\\train\\white\\5db\n",
      "saving dir .\\features\\train\\white\\5db\n",
      "saving dir .\\features\\train\\white\\5db\n",
      "saving dir .\\features\\train\\white\\5db\n",
      "saving dir .\\features\\train\\white\\5db\n",
      "saving dir .\\features\\train\\white\\5db\n",
      "saving dir .\\features\\train\\white\\5db\n",
      "saving dir .\\features\\train\\white\\5db\n"
     ]
    },
    {
     "name": "stderr",
     "output_type": "stream",
     "text": [
      "\r",
      "Converting train audios:   3%|█▊                                                    | 159/4620 [00:01<00:45, 97.18it/s]"
     ]
    },
    {
     "name": "stdout",
     "output_type": "stream",
     "text": [
      "saving dir .\\features\\train\\white\\5db\n",
      "saving dir .\\features\\train\\white\\5db\n",
      "saving dir .\\features\\train\\white\\5db\n",
      "saving dir .\\features\\train\\white\\5db\n",
      "saving dir .\\features\\train\\white\\5db\n",
      "saving dir .\\features\\train\\white\\5db\n",
      "saving dir .\\features\\train\\white\\5db\n",
      "saving dir .\\features\\train\\white\\5db\n",
      "saving dir .\\features\\train\\white\\5db\n",
      "saving dir .\\features\\train\\white\\5db\n",
      "saving dir .\\features\\train\\white\\5db\n",
      "saving dir .\\features\\train\\white\\5db\n",
      "saving dir .\\features\\train\\white\\5db\n"
     ]
    },
    {
     "name": "stderr",
     "output_type": "stream",
     "text": [
      "\r",
      "Converting train audios:   4%|█▉                                                   | 172/4620 [00:01<00:42, 104.20it/s]"
     ]
    },
    {
     "name": "stdout",
     "output_type": "stream",
     "text": [
      "saving dir .\\features\\train\\white\\5db\n",
      "saving dir .\\features\\train\\white\\5db\n",
      "saving dir .\\features\\train\\white\\5db\n",
      "saving dir .\\features\\train\\white\\5db\n",
      "saving dir .\\features\\train\\white\\5db\n",
      "saving dir .\\features\\train\\white\\5db\n",
      "saving dir .\\features\\train\\white\\5db\n",
      "saving dir .\\features\\train\\white\\5db\n",
      "saving dir .\\features\\train\\white\\5db\n",
      "saving dir .\\features\\train\\white\\5db\n",
      "saving dir .\\features\\train\\white\\5db\n",
      "saving dir .\\features\\train\\white\\5db\n"
     ]
    },
    {
     "name": "stderr",
     "output_type": "stream",
     "text": [
      "\r",
      "Converting train audios:   4%|██▏                                                   | 184/4620 [00:02<01:03, 70.31it/s]"
     ]
    },
    {
     "name": "stdout",
     "output_type": "stream",
     "text": [
      "saving dir .\\features\\train\\white\\5db\n",
      "saving dir .\\features\\train\\white\\5db\n",
      "saving dir .\\features\\train\\white\\5db\n",
      "saving dir .\\features\\train\\white\\5db\n",
      "saving dir .\\features\\train\\white\\5db\n",
      "saving dir .\\features\\train\\white\\5db\n",
      "saving dir .\\features\\train\\white\\5db\n",
      "saving dir .\\features\\train\\white\\5db\n",
      "saving dir .\\features\\train\\white\\5db\n",
      "saving dir .\\features\\train\\white\\5db\n",
      "saving dir .\\features\\train\\white\\5db\n",
      "saving dir .\\features\\train\\white\\5db\n"
     ]
    },
    {
     "name": "stderr",
     "output_type": "stream",
     "text": [
      "\r",
      "Converting train audios:   4%|██▎                                                   | 196/4620 [00:02<00:55, 79.85it/s]"
     ]
    },
    {
     "name": "stdout",
     "output_type": "stream",
     "text": [
      "saving dir .\\features\\train\\white\\5db\n",
      "saving dir .\\features\\train\\white\\5db\n",
      "saving dir .\\features\\train\\white\\5db\n",
      "saving dir .\\features\\train\\white\\5db\n",
      "saving dir .\\features\\train\\white\\5db\n",
      "saving dir .\\features\\train\\white\\5db\n",
      "saving dir .\\features\\train\\white\\5db\n",
      "saving dir .\\features\\train\\white\\5db\n",
      "saving dir .\\features\\train\\white\\5db\n",
      "saving dir .\\features\\train\\white\\5db\n",
      "saving dir .\\features\\train\\white\\5db\n",
      "saving dir .\\features\\train\\white\\5db\n",
      "saving dir .\\features\\train\\white\\5db\n"
     ]
    },
    {
     "name": "stderr",
     "output_type": "stream",
     "text": [
      "\r",
      "Converting train audios:   5%|██▍                                                   | 209/4620 [00:02<00:49, 89.23it/s]"
     ]
    },
    {
     "name": "stdout",
     "output_type": "stream",
     "text": [
      "saving dir .\\features\\train\\white\\5db\n",
      "saving dir .\\features\\train\\white\\5db\n",
      "saving dir .\\features\\train\\white\\5db\n",
      "saving dir .\\features\\train\\white\\5db\n",
      "saving dir .\\features\\train\\white\\5db\n",
      "saving dir .\\features\\train\\white\\5db\n",
      "saving dir .\\features\\train\\white\\5db\n",
      "saving dir .\\features\\train\\white\\5db\n",
      "saving dir .\\features\\train\\white\\5db\n",
      "saving dir .\\features\\train\\white\\5db\n",
      "saving dir .\\features\\train\\white\\5db\n",
      "saving dir .\\features\\train\\white\\5db\n",
      "saving dir .\\features\\train\\white\\5db\n"
     ]
    },
    {
     "name": "stderr",
     "output_type": "stream",
     "text": [
      "\r",
      "Converting train audios:   5%|██▌                                                   | 222/4620 [00:02<00:45, 97.02it/s]"
     ]
    },
    {
     "name": "stdout",
     "output_type": "stream",
     "text": [
      "saving dir .\\features\\train\\white\\5db\n",
      "saving dir .\\features\\train\\white\\5db\n",
      "saving dir .\\features\\train\\white\\5db\n",
      "saving dir .\\features\\train\\white\\5db\n",
      "saving dir .\\features\\train\\white\\5db\n",
      "saving dir .\\features\\train\\white\\5db\n",
      "saving dir .\\features\\train\\white\\5db\n",
      "saving dir .\\features\\train\\white\\5db\n",
      "saving dir .\\features\\train\\white\\5db\n",
      "saving dir .\\features\\train\\white\\5db\n",
      "saving dir .\\features\\train\\white\\5db\n",
      "saving dir .\\features\\train\\white\\5db\n"
     ]
    },
    {
     "name": "stderr",
     "output_type": "stream",
     "text": [
      "\r",
      "Converting train audios:   5%|██▋                                                  | 234/4620 [00:02<00:43, 101.96it/s]"
     ]
    },
    {
     "name": "stdout",
     "output_type": "stream",
     "text": [
      "saving dir .\\features\\train\\white\\5db\n",
      "saving dir .\\features\\train\\white\\5db\n",
      "saving dir .\\features\\train\\white\\5db\n",
      "saving dir .\\features\\train\\white\\5db\n",
      "saving dir .\\features\\train\\white\\5db\n",
      "saving dir .\\features\\train\\white\\5db\n",
      "saving dir .\\features\\train\\white\\5db\n",
      "saving dir .\\features\\train\\white\\5db\n",
      "saving dir .\\features\\train\\white\\5db\n",
      "saving dir .\\features\\train\\white\\5db\n",
      "saving dir .\\features\\train\\white\\5db\n",
      "saving dir .\\features\\train\\white\\5db\n"
     ]
    },
    {
     "name": "stderr",
     "output_type": "stream",
     "text": [
      "\r",
      "Converting train audios:   5%|██▊                                                  | 246/4620 [00:02<00:41, 105.44it/s]"
     ]
    },
    {
     "name": "stdout",
     "output_type": "stream",
     "text": [
      "saving dir .\\features\\train\\white\\5db\n",
      "saving dir .\\features\\train\\white\\5db\n",
      "saving dir .\\features\\train\\white\\5db\n",
      "saving dir .\\features\\train\\white\\5db\n",
      "saving dir .\\features\\train\\white\\5db\n",
      "saving dir .\\features\\train\\white\\5db\n",
      "saving dir .\\features\\train\\white\\5db\n",
      "saving dir .\\features\\train\\white\\5db\n",
      "saving dir .\\features\\train\\white\\5db\n",
      "saving dir .\\features\\train\\white\\5db\n",
      "saving dir .\\features\\train\\white\\5db\n",
      "saving dir .\\features\\train\\white\\5db\n"
     ]
    },
    {
     "name": "stderr",
     "output_type": "stream",
     "text": [
      "\r",
      "Converting train audios:   6%|██▉                                                  | 258/4620 [00:02<00:40, 108.03it/s]"
     ]
    },
    {
     "name": "stdout",
     "output_type": "stream",
     "text": [
      "saving dir .\\features\\train\\white\\5db\n",
      "saving dir .\\features\\train\\white\\5db\n",
      "saving dir .\\features\\train\\white\\5db\n",
      "saving dir .\\features\\train\\white\\5db\n",
      "saving dir .\\features\\train\\white\\5db\n",
      "saving dir .\\features\\train\\white\\5db\n",
      "saving dir .\\features\\train\\white\\5db\n",
      "saving dir .\\features\\train\\white\\5db\n",
      "saving dir .\\features\\train\\white\\5db\n",
      "saving dir .\\features\\train\\white\\5db\n",
      "saving dir .\\features\\train\\white\\5db\n",
      "saving dir .\\features\\train\\white\\5db\n",
      "saving dir .\\features\\train\\white\\5db\n"
     ]
    },
    {
     "name": "stderr",
     "output_type": "stream",
     "text": [
      "\r",
      "Converting train audios:   6%|███▏                                                  | 271/4620 [00:02<00:46, 92.93it/s]"
     ]
    },
    {
     "name": "stdout",
     "output_type": "stream",
     "text": [
      "saving dir .\\features\\train\\white\\5db\n",
      "saving dir .\\features\\train\\white\\5db\n",
      "saving dir .\\features\\train\\white\\5db\n",
      "saving dir .\\features\\train\\white\\5db\n",
      "saving dir .\\features\\train\\white\\5db\n",
      "saving dir .\\features\\train\\white\\5db\n",
      "saving dir .\\features\\train\\white\\5db\n",
      "saving dir .\\features\\train\\white\\5db\n",
      "saving dir .\\features\\train\\white\\5db\n",
      "saving dir .\\features\\train\\white\\5db\n",
      "saving dir .\\features\\train\\white\\5db\n"
     ]
    },
    {
     "name": "stderr",
     "output_type": "stream",
     "text": [
      "\r",
      "Converting train audios:   6%|███▎                                                  | 282/4620 [00:02<00:44, 96.51it/s]"
     ]
    },
    {
     "name": "stdout",
     "output_type": "stream",
     "text": [
      "saving dir .\\features\\train\\white\\5db\n",
      "saving dir .\\features\\train\\white\\5db\n",
      "saving dir .\\features\\train\\white\\5db\n",
      "saving dir .\\features\\train\\white\\5db\n",
      "saving dir .\\features\\train\\white\\5db\n",
      "saving dir .\\features\\train\\white\\5db\n",
      "saving dir .\\features\\train\\white\\5db\n",
      "saving dir .\\features\\train\\white\\5db\n",
      "saving dir .\\features\\train\\white\\5db\n",
      "saving dir .\\features\\train\\white\\5db\n",
      "saving dir .\\features\\train\\white\\5db\n",
      "saving dir .\\features\\train\\white\\5db\n"
     ]
    },
    {
     "name": "stderr",
     "output_type": "stream",
     "text": [
      "\r",
      "Converting train audios:   6%|███▎                                                 | 294/4620 [00:03<00:42, 100.80it/s]"
     ]
    },
    {
     "name": "stdout",
     "output_type": "stream",
     "text": [
      "saving dir .\\features\\train\\white\\5db\n",
      "saving dir .\\features\\train\\white\\5db\n",
      "saving dir .\\features\\train\\white\\5db\n",
      "saving dir .\\features\\train\\white\\5db\n",
      "saving dir .\\features\\train\\white\\5db\n",
      "saving dir .\\features\\train\\white\\5db\n",
      "saving dir .\\features\\train\\white\\5db\n",
      "saving dir .\\features\\train\\white\\5db\n",
      "saving dir .\\features\\train\\white\\5db\n",
      "saving dir .\\features\\train\\white\\5db\n",
      "saving dir .\\features\\train\\white\\5db\n",
      "saving dir .\\features\\train\\white\\5db\n",
      "saving dir .\\features\\train\\white\\5db\n"
     ]
    },
    {
     "name": "stderr",
     "output_type": "stream",
     "text": [
      "\r",
      "Converting train audios:   7%|███▌                                                 | 307/4620 [00:03<00:40, 106.56it/s]"
     ]
    },
    {
     "name": "stdout",
     "output_type": "stream",
     "text": [
      "saving dir .\\features\\train\\white\\5db\n",
      "saving dir .\\features\\train\\white\\5db\n",
      "saving dir .\\features\\train\\white\\5db\n",
      "saving dir .\\features\\train\\white\\5db\n",
      "saving dir .\\features\\train\\white\\5db\n",
      "saving dir .\\features\\train\\white\\5db\n",
      "saving dir .\\features\\train\\white\\5db\n",
      "saving dir .\\features\\train\\white\\5db\n",
      "saving dir .\\features\\train\\white\\5db\n",
      "saving dir .\\features\\train\\white\\5db\n",
      "saving dir .\\features\\train\\white\\5db\n",
      "saving dir .\\features\\train\\white\\5db\n"
     ]
    },
    {
     "name": "stderr",
     "output_type": "stream",
     "text": [
      "\r",
      "Converting train audios:   7%|███▋                                                 | 319/4620 [00:03<00:40, 106.54it/s]"
     ]
    },
    {
     "name": "stdout",
     "output_type": "stream",
     "text": [
      "saving dir .\\features\\train\\white\\5db\n",
      "saving dir .\\features\\train\\white\\5db\n",
      "saving dir .\\features\\train\\white\\5db\n",
      "saving dir .\\features\\train\\white\\5db\n",
      "saving dir .\\features\\train\\white\\5db\n",
      "saving dir .\\features\\train\\white\\5db\n",
      "saving dir .\\features\\train\\white\\5db\n",
      "saving dir .\\features\\train\\white\\5db\n",
      "saving dir .\\features\\train\\white\\5db\n",
      "saving dir .\\features\\train\\white\\5db\n",
      "saving dir .\\features\\train\\white\\5db\n",
      "saving dir .\\features\\train\\white\\5db\n",
      "saving dir .\\features\\train\\white\\5db\n"
     ]
    },
    {
     "name": "stderr",
     "output_type": "stream",
     "text": [
      "\r",
      "Converting train audios:   7%|███▊                                                 | 332/4620 [00:03<00:38, 110.70it/s]"
     ]
    },
    {
     "name": "stdout",
     "output_type": "stream",
     "text": [
      "saving dir .\\features\\train\\white\\5db\n",
      "saving dir .\\features\\train\\white\\5db\n",
      "saving dir .\\features\\train\\white\\5db\n",
      "saving dir .\\features\\train\\white\\5db\n",
      "saving dir .\\features\\train\\white\\5db\n",
      "saving dir .\\features\\train\\white\\5db\n",
      "saving dir .\\features\\train\\white\\5db\n",
      "saving dir .\\features\\train\\white\\5db\n",
      "saving dir .\\features\\train\\white\\5db\n",
      "saving dir .\\features\\train\\white\\5db\n",
      "saving dir .\\features\\train\\white\\5db\n",
      "saving dir .\\features\\train\\white\\5db\n"
     ]
    },
    {
     "name": "stderr",
     "output_type": "stream",
     "text": [
      "\r",
      "Converting train audios:   7%|███▉                                                 | 344/4620 [00:03<00:39, 107.64it/s]"
     ]
    },
    {
     "name": "stdout",
     "output_type": "stream",
     "text": [
      "saving dir .\\features\\train\\white\\5db\n",
      "saving dir .\\features\\train\\white\\5db\n",
      "saving dir .\\features\\train\\white\\5db\n",
      "saving dir .\\features\\train\\white\\5db\n",
      "saving dir .\\features\\train\\white\\5db\n",
      "saving dir .\\features\\train\\white\\5db\n",
      "saving dir .\\features\\train\\white\\5db\n",
      "saving dir .\\features\\train\\white\\5db\n",
      "saving dir .\\features\\train\\white\\5db\n",
      "saving dir .\\features\\train\\white\\5db\n",
      "saving dir .\\features\\train\\white\\5db\n",
      "saving dir .\\features\\train\\white\\5db\n"
     ]
    },
    {
     "name": "stderr",
     "output_type": "stream",
     "text": [
      "\r",
      "Converting train audios:   8%|████                                                 | 356/4620 [00:03<00:39, 108.45it/s]"
     ]
    },
    {
     "name": "stdout",
     "output_type": "stream",
     "text": [
      "saving dir .\\features\\train\\white\\5db\n",
      "saving dir .\\features\\train\\white\\5db\n",
      "saving dir .\\features\\train\\white\\5db\n",
      "saving dir .\\features\\train\\white\\5db\n",
      "saving dir .\\features\\train\\white\\5db\n",
      "saving dir .\\features\\train\\white\\5db\n",
      "saving dir .\\features\\train\\white\\5db\n",
      "saving dir .\\features\\train\\white\\5db\n",
      "saving dir .\\features\\train\\white\\5db\n",
      "saving dir .\\features\\train\\white\\5db\n",
      "saving dir .\\features\\train\\white\\5db\n",
      "saving dir .\\features\\train\\white\\5db\n"
     ]
    },
    {
     "name": "stderr",
     "output_type": "stream",
     "text": [
      "\r",
      "Converting train audios:   8%|████▏                                                | 368/4620 [00:03<00:38, 109.92it/s]"
     ]
    },
    {
     "name": "stdout",
     "output_type": "stream",
     "text": [
      "saving dir .\\features\\train\\white\\5db\n",
      "saving dir .\\features\\train\\white\\5db\n",
      "saving dir .\\features\\train\\white\\5db\n",
      "saving dir .\\features\\train\\white\\5db\n",
      "saving dir .\\features\\train\\white\\5db\n",
      "saving dir .\\features\\train\\white\\5db\n",
      "saving dir .\\features\\train\\white\\5db\n",
      "saving dir .\\features\\train\\white\\5db\n",
      "saving dir .\\features\\train\\white\\5db\n",
      "saving dir .\\features\\train\\white\\5db\n",
      "saving dir .\\features\\train\\white\\5db\n",
      "saving dir .\\features\\train\\white\\5db\n"
     ]
    },
    {
     "name": "stderr",
     "output_type": "stream",
     "text": [
      "\r",
      "Converting train audios:   8%|████▎                                                | 380/4620 [00:03<00:38, 111.28it/s]"
     ]
    },
    {
     "name": "stdout",
     "output_type": "stream",
     "text": [
      "saving dir .\\features\\train\\white\\5db\n",
      "saving dir .\\features\\train\\white\\5db\n",
      "saving dir .\\features\\train\\white\\5db\n",
      "saving dir .\\features\\train\\white\\5db\n",
      "saving dir .\\features\\train\\white\\5db\n",
      "saving dir .\\features\\train\\white\\5db\n",
      "saving dir .\\features\\train\\white\\5db\n",
      "saving dir .\\features\\train\\white\\5db\n",
      "saving dir .\\features\\train\\white\\5db\n",
      "saving dir .\\features\\train\\white\\5db\n",
      "saving dir .\\features\\train\\white\\5db\n",
      "saving dir .\\features\\train\\white\\5db\n"
     ]
    },
    {
     "name": "stderr",
     "output_type": "stream",
     "text": [
      "\r",
      "Converting train audios:   8%|████▍                                                | 392/4620 [00:03<00:37, 111.94it/s]"
     ]
    },
    {
     "name": "stdout",
     "output_type": "stream",
     "text": [
      "saving dir .\\features\\train\\white\\5db\n",
      "saving dir .\\features\\train\\white\\5db\n",
      "saving dir .\\features\\train\\white\\5db\n",
      "saving dir .\\features\\train\\white\\5db\n",
      "saving dir .\\features\\train\\white\\5db\n",
      "saving dir .\\features\\train\\white\\5db\n",
      "saving dir .\\features\\train\\white\\5db\n",
      "saving dir .\\features\\train\\white\\5db\n",
      "saving dir .\\features\\train\\white\\5db\n",
      "saving dir .\\features\\train\\white\\5db\n",
      "saving dir .\\features\\train\\white\\5db\n",
      "saving dir .\\features\\train\\white\\5db\n",
      "saving dir .\\features\\train\\white\\5db\n"
     ]
    },
    {
     "name": "stderr",
     "output_type": "stream",
     "text": [
      "\r",
      "Converting train audios:   9%|████▋                                                | 405/4620 [00:04<00:36, 115.96it/s]"
     ]
    },
    {
     "name": "stdout",
     "output_type": "stream",
     "text": [
      "saving dir .\\features\\train\\white\\5db\n",
      "saving dir .\\features\\train\\white\\5db\n",
      "saving dir .\\features\\train\\white\\5db\n",
      "saving dir .\\features\\train\\white\\5db\n",
      "saving dir .\\features\\train\\white\\5db\n",
      "saving dir .\\features\\train\\white\\5db\n",
      "saving dir .\\features\\train\\white\\5db\n",
      "saving dir .\\features\\train\\white\\5db\n",
      "saving dir .\\features\\train\\white\\5db\n",
      "saving dir .\\features\\train\\white\\5db\n",
      "saving dir .\\features\\train\\white\\5db\n",
      "saving dir .\\features\\train\\white\\5db\n"
     ]
    },
    {
     "name": "stderr",
     "output_type": "stream",
     "text": [
      "\r",
      "Converting train audios:   9%|████▊                                                | 417/4620 [00:04<00:39, 106.35it/s]"
     ]
    },
    {
     "name": "stdout",
     "output_type": "stream",
     "text": [
      "saving dir .\\features\\train\\white\\5db\n",
      "saving dir .\\features\\train\\white\\5db\n",
      "saving dir .\\features\\train\\white\\5db\n",
      "saving dir .\\features\\train\\white\\5db\n",
      "saving dir .\\features\\train\\white\\5db\n",
      "saving dir .\\features\\train\\white\\5db\n",
      "saving dir .\\features\\train\\white\\5db\n",
      "saving dir .\\features\\train\\white\\5db\n",
      "saving dir .\\features\\train\\white\\5db\n",
      "saving dir .\\features\\train\\white\\5db\n",
      "saving dir .\\features\\train\\white\\5db\n",
      "saving dir .\\features\\train\\white\\5db\n"
     ]
    },
    {
     "name": "stderr",
     "output_type": "stream",
     "text": [
      "\r",
      "Converting train audios:   9%|████▉                                                | 429/4620 [00:04<00:38, 108.99it/s]"
     ]
    },
    {
     "name": "stdout",
     "output_type": "stream",
     "text": [
      "saving dir .\\features\\train\\white\\5db\n",
      "saving dir .\\features\\train\\white\\5db\n",
      "saving dir .\\features\\train\\white\\5db\n",
      "saving dir .\\features\\train\\white\\5db\n",
      "saving dir .\\features\\train\\white\\5db\n",
      "saving dir .\\features\\train\\white\\5db\n",
      "saving dir .\\features\\train\\white\\5db\n",
      "saving dir .\\features\\train\\white\\5db\n",
      "saving dir .\\features\\train\\white\\5db\n",
      "saving dir .\\features\\train\\white\\5db\n",
      "saving dir .\\features\\train\\white\\5db\n",
      "saving dir .\\features\\train\\white\\5db\n"
     ]
    },
    {
     "name": "stderr",
     "output_type": "stream",
     "text": [
      "\r",
      "Converting train audios:  10%|█████                                                | 441/4620 [00:04<00:37, 111.54it/s]"
     ]
    },
    {
     "name": "stdout",
     "output_type": "stream",
     "text": [
      "saving dir .\\features\\train\\white\\5db\n",
      "saving dir .\\features\\train\\white\\5db\n",
      "saving dir .\\features\\train\\white\\5db\n",
      "saving dir .\\features\\train\\white\\5db\n",
      "saving dir .\\features\\train\\white\\5db\n",
      "saving dir .\\features\\train\\white\\5db\n",
      "saving dir .\\features\\train\\white\\5db\n",
      "saving dir .\\features\\train\\white\\5db\n",
      "saving dir .\\features\\train\\white\\5db\n",
      "saving dir .\\features\\train\\white\\5db\n",
      "saving dir .\\features\\train\\white\\5db\n",
      "saving dir .\\features\\train\\white\\5db\n"
     ]
    },
    {
     "name": "stderr",
     "output_type": "stream",
     "text": [
      "\r",
      "Converting train audios:  10%|█████▎                                                | 453/4620 [00:04<00:47, 87.82it/s]"
     ]
    },
    {
     "name": "stdout",
     "output_type": "stream",
     "text": [
      "saving dir .\\features\\train\\white\\5db\n",
      "saving dir .\\features\\train\\white\\5db\n",
      "saving dir .\\features\\train\\white\\5db\n",
      "saving dir .\\features\\train\\white\\5db\n",
      "saving dir .\\features\\train\\white\\5db\n",
      "saving dir .\\features\\train\\white\\5db\n",
      "saving dir .\\features\\train\\white\\5db\n",
      "saving dir .\\features\\train\\white\\5db\n",
      "saving dir .\\features\\train\\white\\5db\n",
      "saving dir .\\features\\train\\white\\5db\n"
     ]
    },
    {
     "name": "stderr",
     "output_type": "stream",
     "text": [
      "\r",
      "Converting train audios:  10%|█████▍                                                | 463/4620 [00:04<00:45, 90.47it/s]"
     ]
    },
    {
     "name": "stdout",
     "output_type": "stream",
     "text": [
      "saving dir .\\features\\train\\white\\5db\n",
      "saving dir .\\features\\train\\white\\5db\n",
      "saving dir .\\features\\train\\white\\5db\n",
      "saving dir .\\features\\train\\white\\5db\n",
      "saving dir .\\features\\train\\white\\5db\n",
      "saving dir .\\features\\train\\white\\5db\n",
      "saving dir .\\features\\train\\white\\5db\n",
      "saving dir .\\features\\train\\white\\5db\n",
      "saving dir .\\features\\train\\white\\5db\n",
      "saving dir .\\features\\train\\white\\5db\n",
      "saving dir .\\features\\train\\white\\5db\n",
      "saving dir .\\features\\train\\white\\5db\n"
     ]
    },
    {
     "name": "stderr",
     "output_type": "stream",
     "text": [
      "\r",
      "Converting train audios:  10%|█████▌                                                | 475/4620 [00:04<00:42, 96.57it/s]"
     ]
    },
    {
     "name": "stdout",
     "output_type": "stream",
     "text": [
      "saving dir .\\features\\train\\white\\5db\n",
      "saving dir .\\features\\train\\white\\5db\n",
      "saving dir .\\features\\train\\white\\5db\n",
      "saving dir .\\features\\train\\white\\5db\n",
      "saving dir .\\features\\train\\white\\5db\n",
      "saving dir .\\features\\train\\white\\5db\n",
      "saving dir .\\features\\train\\white\\5db\n",
      "saving dir .\\features\\train\\white\\5db\n",
      "saving dir .\\features\\train\\white\\5db\n",
      "saving dir .\\features\\train\\white\\5db\n",
      "saving dir .\\features\\train\\white\\5db\n"
     ]
    },
    {
     "name": "stderr",
     "output_type": "stream",
     "text": [
      "\r",
      "Converting train audios:  11%|█████▋                                                | 486/4620 [00:05<00:53, 77.65it/s]"
     ]
    },
    {
     "name": "stdout",
     "output_type": "stream",
     "text": [
      "saving dir .\\features\\train\\white\\5db\n",
      "saving dir .\\features\\train\\white\\5db\n",
      "saving dir .\\features\\train\\white\\5db\n",
      "saving dir .\\features\\train\\white\\5db\n",
      "saving dir .\\features\\train\\white\\5db\n",
      "saving dir .\\features\\train\\white\\5db\n",
      "saving dir .\\features\\train\\white\\5db\n",
      "saving dir .\\features\\train\\white\\5db\n",
      "saving dir .\\features\\train\\white\\5db\n",
      "saving dir .\\features\\train\\white\\5db\n",
      "saving dir .\\features\\train\\white\\5db\n",
      "saving dir .\\features\\train\\white\\5db\n",
      "saving dir .\\features\\train\\white\\5db\n"
     ]
    },
    {
     "name": "stderr",
     "output_type": "stream",
     "text": [
      "\r",
      "Converting train audios:  11%|█████▊                                                | 499/4620 [00:05<00:47, 86.95it/s]"
     ]
    },
    {
     "name": "stdout",
     "output_type": "stream",
     "text": [
      "saving dir .\\features\\train\\white\\5db\n",
      "saving dir .\\features\\train\\white\\5db\n",
      "saving dir .\\features\\train\\white\\5db\n",
      "saving dir .\\features\\train\\white\\5db\n",
      "saving dir .\\features\\train\\white\\5db\n",
      "saving dir .\\features\\train\\white\\5db\n",
      "saving dir .\\features\\train\\white\\5db\n",
      "saving dir .\\features\\train\\white\\5db\n",
      "saving dir .\\features\\train\\white\\5db\n",
      "saving dir .\\features\\train\\white\\5db\n",
      "saving dir .\\features\\train\\white\\5db\n",
      "saving dir .\\features\\train\\white\\5db\n"
     ]
    },
    {
     "name": "stderr",
     "output_type": "stream",
     "text": [
      "\r",
      "Converting train audios:  11%|█████▉                                                | 511/4620 [00:05<00:43, 94.62it/s]"
     ]
    },
    {
     "name": "stdout",
     "output_type": "stream",
     "text": [
      "saving dir .\\features\\train\\white\\5db\n",
      "saving dir .\\features\\train\\white\\5db\n",
      "saving dir .\\features\\train\\white\\5db\n",
      "saving dir .\\features\\train\\white\\5db\n",
      "saving dir .\\features\\train\\white\\5db\n",
      "saving dir .\\features\\train\\white\\5db\n",
      "saving dir .\\features\\train\\white\\5db\n",
      "saving dir .\\features\\train\\white\\5db\n",
      "saving dir .\\features\\train\\white\\5db\n",
      "saving dir .\\features\\train\\white\\5db\n",
      "saving dir .\\features\\train\\white\\5db\n",
      "saving dir .\\features\\train\\white\\5db\n"
     ]
    },
    {
     "name": "stderr",
     "output_type": "stream",
     "text": [
      "\r",
      "Converting train audios:  11%|█████▉                                               | 523/4620 [00:05<00:40, 100.84it/s]"
     ]
    },
    {
     "name": "stdout",
     "output_type": "stream",
     "text": [
      "saving dir .\\features\\train\\white\\5db\n",
      "saving dir .\\features\\train\\white\\5db\n",
      "saving dir .\\features\\train\\white\\5db\n",
      "saving dir .\\features\\train\\white\\5db\n",
      "saving dir .\\features\\train\\white\\5db\n",
      "saving dir .\\features\\train\\white\\5db\n",
      "saving dir .\\features\\train\\white\\5db\n",
      "saving dir .\\features\\train\\white\\5db\n",
      "saving dir .\\features\\train\\white\\5db\n",
      "saving dir .\\features\\train\\white\\5db\n",
      "saving dir .\\features\\train\\white\\5db\n",
      "saving dir .\\features\\train\\white\\5db\n",
      "saving dir .\\features\\train\\white\\5db\n"
     ]
    },
    {
     "name": "stderr",
     "output_type": "stream",
     "text": [
      "\r",
      "Converting train audios:  12%|██████▏                                              | 536/4620 [00:05<00:39, 103.80it/s]"
     ]
    },
    {
     "name": "stdout",
     "output_type": "stream",
     "text": [
      "saving dir .\\features\\train\\white\\5db\n",
      "saving dir .\\features\\train\\white\\5db\n",
      "saving dir .\\features\\train\\white\\5db\n",
      "saving dir .\\features\\train\\white\\5db\n",
      "saving dir .\\features\\train\\white\\5db\n",
      "saving dir .\\features\\train\\white\\5db\n",
      "saving dir .\\features\\train\\white\\5db\n",
      "saving dir .\\features\\train\\white\\5db\n",
      "saving dir .\\features\\train\\white\\5db\n",
      "saving dir .\\features\\train\\white\\5db\n",
      "saving dir .\\features\\train\\white\\5db\n",
      "saving dir .\\features\\train\\white\\5db\n",
      "saving dir .\\features\\train\\white\\5db\n"
     ]
    },
    {
     "name": "stderr",
     "output_type": "stream",
     "text": [
      "\r",
      "Converting train audios:  12%|██████▎                                              | 549/4620 [00:05<00:36, 110.27it/s]"
     ]
    },
    {
     "name": "stdout",
     "output_type": "stream",
     "text": [
      "saving dir .\\features\\train\\white\\5db\n",
      "saving dir .\\features\\train\\white\\5db\n",
      "saving dir .\\features\\train\\white\\5db\n",
      "saving dir .\\features\\train\\white\\5db\n",
      "saving dir .\\features\\train\\white\\5db\n",
      "saving dir .\\features\\train\\white\\5db\n",
      "saving dir .\\features\\train\\white\\5db\n",
      "saving dir .\\features\\train\\white\\5db\n",
      "saving dir .\\features\\train\\white\\5db\n",
      "saving dir .\\features\\train\\white\\5db\n",
      "saving dir .\\features\\train\\white\\5db\n",
      "saving dir .\\features\\train\\white\\5db\n",
      "saving dir .\\features\\train\\white\\5db\n"
     ]
    },
    {
     "name": "stderr",
     "output_type": "stream",
     "text": [
      "\r",
      "Converting train audios:  12%|██████▍                                              | 562/4620 [00:05<00:35, 114.40it/s]"
     ]
    },
    {
     "name": "stdout",
     "output_type": "stream",
     "text": [
      "saving dir .\\features\\train\\white\\5db\n",
      "saving dir .\\features\\train\\white\\5db\n",
      "saving dir .\\features\\train\\white\\5db\n",
      "saving dir .\\features\\train\\white\\5db\n",
      "saving dir .\\features\\train\\white\\5db\n",
      "saving dir .\\features\\train\\white\\5db\n",
      "saving dir .\\features\\train\\white\\5db\n",
      "saving dir .\\features\\train\\white\\5db\n",
      "saving dir .\\features\\train\\white\\5db\n",
      "saving dir .\\features\\train\\white\\5db\n",
      "saving dir .\\features\\train\\white\\5db\n",
      "saving dir .\\features\\train\\white\\5db\n"
     ]
    },
    {
     "name": "stderr",
     "output_type": "stream",
     "text": [
      "\r",
      "Converting train audios:  12%|██████▋                                               | 574/4620 [00:05<00:42, 95.62it/s]"
     ]
    },
    {
     "name": "stdout",
     "output_type": "stream",
     "text": [
      "saving dir .\\features\\train\\white\\5db\n",
      "saving dir .\\features\\train\\white\\5db\n",
      "saving dir .\\features\\train\\white\\5db\n",
      "saving dir .\\features\\train\\white\\5db\n",
      "saving dir .\\features\\train\\white\\5db\n",
      "saving dir .\\features\\train\\white\\5db\n",
      "saving dir .\\features\\train\\white\\5db\n",
      "saving dir .\\features\\train\\white\\5db\n",
      "saving dir .\\features\\train\\white\\5db\n",
      "saving dir .\\features\\train\\white\\5db\n",
      "saving dir .\\features\\train\\white\\5db\n",
      "saving dir .\\features\\train\\white\\5db\n"
     ]
    },
    {
     "name": "stderr",
     "output_type": "stream",
     "text": [
      "\r",
      "Converting train audios:  13%|██████▋                                              | 586/4620 [00:05<00:39, 101.64it/s]"
     ]
    },
    {
     "name": "stdout",
     "output_type": "stream",
     "text": [
      "saving dir .\\features\\train\\white\\5db\n",
      "saving dir .\\features\\train\\white\\5db\n",
      "saving dir .\\features\\train\\white\\5db\n",
      "saving dir .\\features\\train\\white\\5db\n",
      "saving dir .\\features\\train\\white\\5db\n",
      "saving dir .\\features\\train\\white\\5db\n",
      "saving dir .\\features\\train\\white\\5db\n",
      "saving dir .\\features\\train\\white\\5db\n",
      "saving dir .\\features\\train\\white\\5db\n",
      "saving dir .\\features\\train\\white\\5db\n",
      "saving dir .\\features\\train\\white\\5db\n",
      "saving dir .\\features\\train\\white\\5db\n",
      "saving dir .\\features\\train\\white\\5db\n"
     ]
    },
    {
     "name": "stderr",
     "output_type": "stream",
     "text": [
      "\r",
      "Converting train audios:  13%|██████▊                                              | 599/4620 [00:06<00:37, 107.22it/s]"
     ]
    },
    {
     "name": "stdout",
     "output_type": "stream",
     "text": [
      "saving dir .\\features\\train\\white\\5db\n",
      "saving dir .\\features\\train\\white\\5db\n",
      "saving dir .\\features\\train\\white\\5db\n",
      "saving dir .\\features\\train\\white\\5db\n",
      "saving dir .\\features\\train\\white\\5db\n",
      "saving dir .\\features\\train\\white\\5db\n",
      "saving dir .\\features\\train\\white\\5db\n",
      "saving dir .\\features\\train\\white\\5db\n",
      "saving dir .\\features\\train\\white\\5db\n",
      "saving dir .\\features\\train\\white\\5db\n",
      "saving dir .\\features\\train\\white\\5db\n",
      "saving dir .\\features\\train\\white\\5db\n"
     ]
    },
    {
     "name": "stderr",
     "output_type": "stream",
     "text": [
      "\r",
      "Converting train audios:  13%|███████                                              | 611/4620 [00:06<00:37, 107.00it/s]"
     ]
    },
    {
     "name": "stdout",
     "output_type": "stream",
     "text": [
      "saving dir .\\features\\train\\white\\5db\n",
      "saving dir .\\features\\train\\white\\5db\n",
      "saving dir .\\features\\train\\white\\5db\n",
      "saving dir .\\features\\train\\white\\5db\n",
      "saving dir .\\features\\train\\white\\5db\n",
      "saving dir .\\features\\train\\white\\5db\n",
      "saving dir .\\features\\train\\white\\5db\n",
      "saving dir .\\features\\train\\white\\5db\n",
      "saving dir .\\features\\train\\white\\5db\n",
      "saving dir .\\features\\train\\white\\5db\n",
      "saving dir .\\features\\train\\white\\5db\n",
      "saving dir .\\features\\train\\white\\5db\n"
     ]
    },
    {
     "name": "stderr",
     "output_type": "stream",
     "text": [
      "\r",
      "Converting train audios:  13%|███████▏                                             | 623/4620 [00:06<00:36, 110.07it/s]"
     ]
    },
    {
     "name": "stdout",
     "output_type": "stream",
     "text": [
      "saving dir .\\features\\train\\white\\5db\n",
      "saving dir .\\features\\train\\white\\5db\n",
      "saving dir .\\features\\train\\white\\5db\n",
      "saving dir .\\features\\train\\white\\5db\n",
      "saving dir .\\features\\train\\white\\5db\n",
      "saving dir .\\features\\train\\white\\5db\n",
      "saving dir .\\features\\train\\white\\5db\n",
      "saving dir .\\features\\train\\white\\5db\n",
      "saving dir .\\features\\train\\white\\5db\n",
      "saving dir .\\features\\train\\white\\5db\n",
      "saving dir .\\features\\train\\white\\5db\n",
      "saving dir .\\features\\train\\white\\5db\n"
     ]
    },
    {
     "name": "stderr",
     "output_type": "stream",
     "text": [
      "\r",
      "Converting train audios:  14%|███████▎                                             | 635/4620 [00:06<00:35, 112.64it/s]"
     ]
    },
    {
     "name": "stdout",
     "output_type": "stream",
     "text": [
      "saving dir .\\features\\train\\white\\5db\n",
      "saving dir .\\features\\train\\white\\5db\n",
      "saving dir .\\features\\train\\white\\5db\n",
      "saving dir .\\features\\train\\white\\5db\n",
      "saving dir .\\features\\train\\white\\5db\n",
      "saving dir .\\features\\train\\white\\5db\n",
      "saving dir .\\features\\train\\white\\5db\n",
      "saving dir .\\features\\train\\white\\5db\n",
      "saving dir .\\features\\train\\white\\5db\n",
      "saving dir .\\features\\train\\white\\5db\n",
      "saving dir .\\features\\train\\white\\5db\n",
      "saving dir .\\features\\train\\white\\5db\n"
     ]
    },
    {
     "name": "stderr",
     "output_type": "stream",
     "text": [
      "\r",
      "Converting train audios:  14%|███████▍                                             | 647/4620 [00:06<00:35, 112.58it/s]"
     ]
    },
    {
     "name": "stdout",
     "output_type": "stream",
     "text": [
      "saving dir .\\features\\train\\white\\5db\n",
      "saving dir .\\features\\train\\white\\5db\n",
      "saving dir .\\features\\train\\white\\5db\n",
      "saving dir .\\features\\train\\white\\5db\n",
      "saving dir .\\features\\train\\white\\5db\n",
      "saving dir .\\features\\train\\white\\5db\n",
      "saving dir .\\features\\train\\white\\5db\n",
      "saving dir .\\features\\train\\white\\5db\n",
      "saving dir .\\features\\train\\white\\5db\n",
      "saving dir .\\features\\train\\white\\5db\n",
      "saving dir .\\features\\train\\white\\5db\n",
      "saving dir .\\features\\train\\white\\5db\n"
     ]
    },
    {
     "name": "stderr",
     "output_type": "stream",
     "text": [
      "\r",
      "Converting train audios:  14%|███████▌                                             | 659/4620 [00:06<00:34, 113.82it/s]"
     ]
    },
    {
     "name": "stdout",
     "output_type": "stream",
     "text": [
      "saving dir .\\features\\train\\white\\5db\n",
      "saving dir .\\features\\train\\white\\5db\n",
      "saving dir .\\features\\train\\white\\5db\n",
      "saving dir .\\features\\train\\white\\5db\n",
      "saving dir .\\features\\train\\white\\5db\n",
      "saving dir .\\features\\train\\white\\5db\n",
      "saving dir .\\features\\train\\white\\5db\n",
      "saving dir .\\features\\train\\white\\5db\n",
      "saving dir .\\features\\train\\white\\5db\n",
      "saving dir .\\features\\train\\white\\5db\n",
      "saving dir .\\features\\train\\white\\5db\n",
      "saving dir .\\features\\train\\white\\5db\n"
     ]
    },
    {
     "name": "stderr",
     "output_type": "stream",
     "text": [
      "\r",
      "Converting train audios:  15%|███████▋                                             | 671/4620 [00:06<00:36, 107.91it/s]"
     ]
    },
    {
     "name": "stdout",
     "output_type": "stream",
     "text": [
      "saving dir .\\features\\train\\white\\5db\n",
      "saving dir .\\features\\train\\white\\5db\n",
      "saving dir .\\features\\train\\white\\5db\n",
      "saving dir .\\features\\train\\white\\5db\n",
      "saving dir .\\features\\train\\white\\5db\n",
      "saving dir .\\features\\train\\white\\5db\n",
      "saving dir .\\features\\train\\white\\5db\n",
      "saving dir .\\features\\train\\white\\5db\n",
      "saving dir .\\features\\train\\white\\5db\n",
      "saving dir .\\features\\train\\white\\5db\n",
      "saving dir .\\features\\train\\white\\5db\n",
      "saving dir .\\features\\train\\white\\5db\n"
     ]
    },
    {
     "name": "stderr",
     "output_type": "stream",
     "text": [
      "\r",
      "Converting train audios:  15%|███████▊                                             | 683/4620 [00:06<00:35, 111.05it/s]"
     ]
    },
    {
     "name": "stdout",
     "output_type": "stream",
     "text": [
      "saving dir .\\features\\train\\white\\5db\n",
      "saving dir .\\features\\train\\white\\5db\n",
      "saving dir .\\features\\train\\white\\5db\n",
      "saving dir .\\features\\train\\white\\5db\n",
      "saving dir .\\features\\train\\white\\5db\n",
      "saving dir .\\features\\train\\white\\5db\n",
      "saving dir .\\features\\train\\white\\5db\n",
      "saving dir .\\features\\train\\white\\5db\n",
      "saving dir .\\features\\train\\white\\5db\n",
      "saving dir .\\features\\train\\white\\5db\n",
      "saving dir .\\features\\train\\white\\5db\n",
      "saving dir .\\features\\train\\white\\5db\n",
      "saving dir .\\features\\train\\white\\5db\n"
     ]
    },
    {
     "name": "stderr",
     "output_type": "stream",
     "text": [
      "\r",
      "Converting train audios:  15%|███████▉                                             | 696/4620 [00:06<00:34, 114.98it/s]"
     ]
    },
    {
     "name": "stdout",
     "output_type": "stream",
     "text": [
      "saving dir .\\features\\train\\white\\5db\n",
      "saving dir .\\features\\train\\white\\5db\n",
      "saving dir .\\features\\train\\white\\5db\n",
      "saving dir .\\features\\train\\white\\5db\n",
      "saving dir .\\features\\train\\white\\5db\n",
      "saving dir .\\features\\train\\white\\5db\n",
      "saving dir .\\features\\train\\white\\5db\n",
      "saving dir .\\features\\train\\white\\5db\n",
      "saving dir .\\features\\train\\white\\5db\n",
      "saving dir .\\features\\train\\white\\5db\n",
      "saving dir .\\features\\train\\white\\5db\n",
      "saving dir .\\features\\train\\white\\5db\n",
      "saving dir .\\features\\train\\white\\5db\n"
     ]
    },
    {
     "name": "stderr",
     "output_type": "stream",
     "text": [
      "\r",
      "Converting train audios:  15%|████████▏                                            | 709/4620 [00:06<00:33, 116.64it/s]"
     ]
    },
    {
     "name": "stdout",
     "output_type": "stream",
     "text": [
      "saving dir .\\features\\train\\white\\5db\n",
      "saving dir .\\features\\train\\white\\5db\n",
      "saving dir .\\features\\train\\white\\5db\n",
      "saving dir .\\features\\train\\white\\5db\n",
      "saving dir .\\features\\train\\white\\5db\n",
      "saving dir .\\features\\train\\white\\5db\n",
      "saving dir .\\features\\train\\white\\5db\n",
      "saving dir .\\features\\train\\white\\5db\n",
      "saving dir .\\features\\train\\white\\5db\n",
      "saving dir .\\features\\train\\white\\5db\n",
      "saving dir .\\features\\train\\white\\5db\n",
      "saving dir .\\features\\train\\white\\5db\n"
     ]
    },
    {
     "name": "stderr",
     "output_type": "stream",
     "text": [
      "\r",
      "Converting train audios:  16%|████████▎                                            | 721/4620 [00:07<00:33, 115.35it/s]"
     ]
    },
    {
     "name": "stdout",
     "output_type": "stream",
     "text": [
      "saving dir .\\features\\train\\white\\5db\n",
      "saving dir .\\features\\train\\white\\5db\n",
      "saving dir .\\features\\train\\white\\5db\n",
      "saving dir .\\features\\train\\white\\5db\n",
      "saving dir .\\features\\train\\white\\5db\n",
      "saving dir .\\features\\train\\white\\5db\n",
      "saving dir .\\features\\train\\white\\5db\n",
      "saving dir .\\features\\train\\white\\5db\n",
      "saving dir .\\features\\train\\white\\5db\n",
      "saving dir .\\features\\train\\white\\5db\n",
      "saving dir .\\features\\train\\white\\5db\n",
      "saving dir .\\features\\train\\white\\5db\n",
      "saving dir .\\features\\train\\white\\5db\n"
     ]
    },
    {
     "name": "stderr",
     "output_type": "stream",
     "text": [
      "\r",
      "Converting train audios:  16%|████████▍                                            | 734/4620 [00:07<00:33, 116.90it/s]"
     ]
    },
    {
     "name": "stdout",
     "output_type": "stream",
     "text": [
      "saving dir .\\features\\train\\white\\5db\n",
      "saving dir .\\features\\train\\white\\5db\n",
      "saving dir .\\features\\train\\white\\5db\n",
      "saving dir .\\features\\train\\white\\5db\n",
      "saving dir .\\features\\train\\white\\5db\n",
      "saving dir .\\features\\train\\white\\5db\n",
      "saving dir .\\features\\train\\white\\5db\n",
      "saving dir .\\features\\train\\white\\5db\n",
      "saving dir .\\features\\train\\white\\5db\n",
      "saving dir .\\features\\train\\white\\5db\n",
      "saving dir .\\features\\train\\white\\5db\n",
      "saving dir .\\features\\train\\white\\5db\n",
      "saving dir .\\features\\train\\white\\5db\n"
     ]
    },
    {
     "name": "stderr",
     "output_type": "stream",
     "text": [
      "\r",
      "Converting train audios:  16%|████████▌                                            | 747/4620 [00:07<00:32, 120.30it/s]"
     ]
    },
    {
     "name": "stdout",
     "output_type": "stream",
     "text": [
      "saving dir .\\features\\train\\white\\5db\n",
      "saving dir .\\features\\train\\white\\5db\n",
      "saving dir .\\features\\train\\white\\5db\n",
      "saving dir .\\features\\train\\white\\5db\n",
      "saving dir .\\features\\train\\white\\5db\n",
      "saving dir .\\features\\train\\white\\5db\n",
      "saving dir .\\features\\train\\white\\5db\n",
      "saving dir .\\features\\train\\white\\5db\n",
      "saving dir .\\features\\train\\white\\5db\n",
      "saving dir .\\features\\train\\white\\5db\n",
      "saving dir .\\features\\train\\white\\5db\n",
      "saving dir .\\features\\train\\white\\5db\n",
      "saving dir .\\features\\train\\white\\5db\n"
     ]
    },
    {
     "name": "stderr",
     "output_type": "stream",
     "text": [
      "\r",
      "Converting train audios:  16%|████████▋                                            | 760/4620 [00:07<00:32, 119.75it/s]"
     ]
    },
    {
     "name": "stdout",
     "output_type": "stream",
     "text": [
      "saving dir .\\features\\train\\white\\5db\n",
      "saving dir .\\features\\train\\white\\5db\n",
      "saving dir .\\features\\train\\white\\5db\n",
      "saving dir .\\features\\train\\white\\5db\n",
      "saving dir .\\features\\train\\white\\5db\n",
      "saving dir .\\features\\train\\white\\5db\n",
      "saving dir .\\features\\train\\white\\5db\n",
      "saving dir .\\features\\train\\white\\5db\n",
      "saving dir .\\features\\train\\white\\5db\n",
      "saving dir .\\features\\train\\white\\5db\n",
      "saving dir .\\features\\train\\white\\5db\n",
      "saving dir .\\features\\train\\white\\5db\n",
      "saving dir .\\features\\train\\white\\5db\n"
     ]
    },
    {
     "name": "stderr",
     "output_type": "stream",
     "text": [
      "\r",
      "Converting train audios:  17%|████████▊                                            | 773/4620 [00:07<00:32, 120.03it/s]"
     ]
    },
    {
     "name": "stdout",
     "output_type": "stream",
     "text": [
      "saving dir .\\features\\train\\white\\5db\n",
      "saving dir .\\features\\train\\white\\5db\n",
      "saving dir .\\features\\train\\white\\5db\n",
      "saving dir .\\features\\train\\white\\5db\n",
      "saving dir .\\features\\train\\white\\5db\n",
      "saving dir .\\features\\train\\white\\5db\n",
      "saving dir .\\features\\train\\white\\5db\n",
      "saving dir .\\features\\train\\white\\5db\n",
      "saving dir .\\features\\train\\white\\5db\n",
      "saving dir .\\features\\train\\white\\5db\n",
      "saving dir .\\features\\train\\white\\5db\n",
      "saving dir .\\features\\train\\white\\5db\n",
      "saving dir .\\features\\train\\white\\5db\n"
     ]
    },
    {
     "name": "stderr",
     "output_type": "stream",
     "text": [
      "\r",
      "Converting train audios:  17%|█████████                                            | 786/4620 [00:07<00:32, 119.24it/s]"
     ]
    },
    {
     "name": "stdout",
     "output_type": "stream",
     "text": [
      "saving dir .\\features\\train\\white\\5db\n",
      "saving dir .\\features\\train\\white\\5db\n",
      "saving dir .\\features\\train\\white\\5db\n",
      "saving dir .\\features\\train\\white\\5db\n",
      "saving dir .\\features\\train\\white\\5db\n",
      "saving dir .\\features\\train\\white\\5db\n",
      "saving dir .\\features\\train\\white\\5db\n",
      "saving dir .\\features\\train\\white\\5db\n",
      "saving dir .\\features\\train\\white\\5db\n",
      "saving dir .\\features\\train\\white\\5db\n",
      "saving dir .\\features\\train\\white\\5db\n",
      "saving dir .\\features\\train\\white\\5db\n",
      "saving dir .\\features\\train\\white\\5db\n"
     ]
    },
    {
     "name": "stderr",
     "output_type": "stream",
     "text": [
      "\r",
      "Converting train audios:  17%|█████████▏                                           | 799/4620 [00:07<00:31, 120.34it/s]"
     ]
    },
    {
     "name": "stdout",
     "output_type": "stream",
     "text": [
      "saving dir .\\features\\train\\white\\5db\n",
      "saving dir .\\features\\train\\white\\5db\n",
      "saving dir .\\features\\train\\white\\5db\n",
      "saving dir .\\features\\train\\white\\5db\n",
      "saving dir .\\features\\train\\white\\5db\n",
      "saving dir .\\features\\train\\white\\5db\n",
      "saving dir .\\features\\train\\white\\5db\n",
      "saving dir .\\features\\train\\white\\5db\n",
      "saving dir .\\features\\train\\white\\5db\n",
      "saving dir .\\features\\train\\white\\5db\n",
      "saving dir .\\features\\train\\white\\5db\n",
      "saving dir .\\features\\train\\white\\5db\n",
      "saving dir .\\features\\train\\white\\5db\n",
      "saving dir .\\features\\train\\white\\5db\n"
     ]
    },
    {
     "name": "stderr",
     "output_type": "stream",
     "text": [
      "\r",
      "Converting train audios:  18%|█████████▎                                           | 813/4620 [00:07<00:30, 123.07it/s]"
     ]
    },
    {
     "name": "stdout",
     "output_type": "stream",
     "text": [
      "saving dir .\\features\\train\\white\\5db\n",
      "saving dir .\\features\\train\\white\\5db\n",
      "saving dir .\\features\\train\\white\\5db\n",
      "saving dir .\\features\\train\\white\\5db\n",
      "saving dir .\\features\\train\\white\\5db\n",
      "saving dir .\\features\\train\\white\\5db\n",
      "saving dir .\\features\\train\\white\\5db\n",
      "saving dir .\\features\\train\\white\\5db\n",
      "saving dir .\\features\\train\\white\\5db\n",
      "saving dir .\\features\\train\\white\\5db\n",
      "saving dir .\\features\\train\\white\\5db\n",
      "saving dir .\\features\\train\\white\\5db\n",
      "saving dir .\\features\\train\\white\\5db\n"
     ]
    },
    {
     "name": "stderr",
     "output_type": "stream",
     "text": [
      "\r",
      "Converting train audios:  18%|█████████▍                                           | 826/4620 [00:07<00:31, 122.01it/s]"
     ]
    },
    {
     "name": "stdout",
     "output_type": "stream",
     "text": [
      "saving dir .\\features\\train\\white\\5db\n",
      "saving dir .\\features\\train\\white\\5db\n",
      "saving dir .\\features\\train\\white\\5db\n",
      "saving dir .\\features\\train\\white\\5db\n",
      "saving dir .\\features\\train\\white\\5db\n",
      "saving dir .\\features\\train\\white\\5db\n",
      "saving dir .\\features\\train\\white\\5db\n",
      "saving dir .\\features\\train\\white\\5db\n",
      "saving dir .\\features\\train\\white\\5db\n",
      "saving dir .\\features\\train\\white\\5db\n",
      "saving dir .\\features\\train\\white\\5db\n",
      "saving dir .\\features\\train\\white\\5db\n",
      "saving dir .\\features\\train\\white\\5db\n"
     ]
    },
    {
     "name": "stderr",
     "output_type": "stream",
     "text": [
      "\r",
      "Converting train audios:  18%|█████████▌                                           | 839/4620 [00:08<00:31, 120.93it/s]"
     ]
    },
    {
     "name": "stdout",
     "output_type": "stream",
     "text": [
      "saving dir .\\features\\train\\white\\5db\n",
      "saving dir .\\features\\train\\white\\5db\n",
      "saving dir .\\features\\train\\white\\5db\n",
      "saving dir .\\features\\train\\white\\5db\n",
      "saving dir .\\features\\train\\white\\5db\n",
      "saving dir .\\features\\train\\white\\5db\n",
      "saving dir .\\features\\train\\white\\5db\n",
      "saving dir .\\features\\train\\white\\5db\n",
      "saving dir .\\features\\train\\white\\5db\n",
      "saving dir .\\features\\train\\white\\5db\n",
      "saving dir .\\features\\train\\white\\5db\n",
      "saving dir .\\features\\train\\white\\5db\n",
      "saving dir .\\features\\train\\white\\5db\n"
     ]
    },
    {
     "name": "stderr",
     "output_type": "stream",
     "text": [
      "\r",
      "Converting train audios:  18%|█████████▊                                           | 852/4620 [00:08<00:30, 122.22it/s]"
     ]
    },
    {
     "name": "stdout",
     "output_type": "stream",
     "text": [
      "saving dir .\\features\\train\\white\\5db\n",
      "saving dir .\\features\\train\\white\\5db\n",
      "saving dir .\\features\\train\\white\\5db\n",
      "saving dir .\\features\\train\\white\\5db\n",
      "saving dir .\\features\\train\\white\\5db\n",
      "saving dir .\\features\\train\\white\\5db\n",
      "saving dir .\\features\\train\\white\\5db\n",
      "saving dir .\\features\\train\\white\\5db\n",
      "saving dir .\\features\\train\\white\\5db\n",
      "saving dir .\\features\\train\\white\\5db\n",
      "saving dir .\\features\\train\\white\\5db\n",
      "saving dir .\\features\\train\\white\\5db\n",
      "saving dir .\\features\\train\\white\\5db\n"
     ]
    },
    {
     "name": "stderr",
     "output_type": "stream",
     "text": [
      "\r",
      "Converting train audios:  19%|█████████▉                                           | 865/4620 [00:08<00:31, 120.41it/s]"
     ]
    },
    {
     "name": "stdout",
     "output_type": "stream",
     "text": [
      "saving dir .\\features\\train\\white\\5db\n",
      "saving dir .\\features\\train\\white\\5db\n",
      "saving dir .\\features\\train\\white\\5db\n",
      "saving dir .\\features\\train\\white\\5db\n",
      "saving dir .\\features\\train\\white\\5db\n",
      "saving dir .\\features\\train\\white\\5db\n",
      "saving dir .\\features\\train\\white\\5db\n",
      "saving dir .\\features\\train\\white\\5db\n",
      "saving dir .\\features\\train\\white\\5db\n",
      "saving dir .\\features\\train\\white\\5db\n",
      "saving dir .\\features\\train\\white\\5db\n",
      "saving dir .\\features\\train\\white\\5db\n",
      "saving dir .\\features\\train\\white\\5db\n",
      "saving dir .\\features\\train\\white\\5db\n"
     ]
    },
    {
     "name": "stderr",
     "output_type": "stream",
     "text": [
      "\r",
      "Converting train audios:  19%|██████████                                           | 879/4620 [00:08<00:30, 123.45it/s]"
     ]
    },
    {
     "name": "stdout",
     "output_type": "stream",
     "text": [
      "saving dir .\\features\\train\\white\\5db\n",
      "saving dir .\\features\\train\\white\\5db\n",
      "saving dir .\\features\\train\\white\\5db\n",
      "saving dir .\\features\\train\\white\\5db\n",
      "saving dir .\\features\\train\\white\\5db\n",
      "saving dir .\\features\\train\\white\\5db\n",
      "saving dir .\\features\\train\\white\\5db\n",
      "saving dir .\\features\\train\\white\\5db\n",
      "saving dir .\\features\\train\\white\\5db\n",
      "saving dir .\\features\\train\\white\\5db\n",
      "saving dir .\\features\\train\\white\\5db\n",
      "saving dir .\\features\\train\\white\\5db\n",
      "saving dir .\\features\\train\\white\\5db\n"
     ]
    },
    {
     "name": "stderr",
     "output_type": "stream",
     "text": [
      "\r",
      "Converting train audios:  19%|██████████▏                                          | 892/4620 [00:08<00:31, 118.92it/s]"
     ]
    },
    {
     "name": "stdout",
     "output_type": "stream",
     "text": [
      "saving dir .\\features\\train\\white\\5db\n",
      "saving dir .\\features\\train\\white\\5db\n",
      "saving dir .\\features\\train\\white\\5db\n",
      "saving dir .\\features\\train\\white\\5db\n",
      "saving dir .\\features\\train\\white\\5db\n",
      "saving dir .\\features\\train\\white\\5db\n",
      "saving dir .\\features\\train\\white\\5db\n",
      "saving dir .\\features\\train\\white\\5db\n",
      "saving dir .\\features\\train\\white\\5db\n",
      "saving dir .\\features\\train\\white\\5db\n",
      "saving dir .\\features\\train\\white\\5db\n",
      "saving dir .\\features\\train\\white\\5db\n",
      "saving dir .\\features\\train\\white\\5db\n"
     ]
    },
    {
     "name": "stderr",
     "output_type": "stream",
     "text": [
      "\r",
      "Converting train audios:  20%|██████████▍                                          | 905/4620 [00:08<00:30, 121.11it/s]"
     ]
    },
    {
     "name": "stdout",
     "output_type": "stream",
     "text": [
      "saving dir .\\features\\train\\white\\5db\n",
      "saving dir .\\features\\train\\white\\5db\n",
      "saving dir .\\features\\train\\white\\5db\n",
      "saving dir .\\features\\train\\white\\5db\n",
      "saving dir .\\features\\train\\white\\5db\n",
      "saving dir .\\features\\train\\white\\5db\n",
      "saving dir .\\features\\train\\white\\5db\n",
      "saving dir .\\features\\train\\white\\5db\n",
      "saving dir .\\features\\train\\white\\5db\n",
      "saving dir .\\features\\train\\white\\5db\n",
      "saving dir .\\features\\train\\white\\5db\n",
      "saving dir .\\features\\train\\white\\5db\n",
      "saving dir .\\features\\train\\white\\5db\n"
     ]
    },
    {
     "name": "stderr",
     "output_type": "stream",
     "text": [
      "\r",
      "Converting train audios:  20%|██████████▌                                          | 918/4620 [00:08<00:30, 122.35it/s]"
     ]
    },
    {
     "name": "stdout",
     "output_type": "stream",
     "text": [
      "saving dir .\\features\\train\\white\\5db\n",
      "saving dir .\\features\\train\\white\\5db\n",
      "saving dir .\\features\\train\\white\\5db\n",
      "saving dir .\\features\\train\\white\\5db\n",
      "saving dir .\\features\\train\\white\\5db\n",
      "saving dir .\\features\\train\\white\\5db\n",
      "saving dir .\\features\\train\\white\\5db\n",
      "saving dir .\\features\\train\\white\\5db\n",
      "saving dir .\\features\\train\\white\\5db\n",
      "saving dir .\\features\\train\\white\\5db\n",
      "saving dir .\\features\\train\\white\\5db\n",
      "saving dir .\\features\\train\\white\\5db\n",
      "saving dir .\\features\\train\\white\\5db\n"
     ]
    },
    {
     "name": "stderr",
     "output_type": "stream",
     "text": [
      "\r",
      "Converting train audios:  20%|██████████▋                                          | 931/4620 [00:08<00:29, 124.29it/s]"
     ]
    },
    {
     "name": "stdout",
     "output_type": "stream",
     "text": [
      "saving dir .\\features\\train\\white\\5db\n",
      "saving dir .\\features\\train\\white\\5db\n",
      "saving dir .\\features\\train\\white\\5db\n",
      "saving dir .\\features\\train\\white\\5db\n",
      "saving dir .\\features\\train\\white\\5db\n",
      "saving dir .\\features\\train\\white\\5db\n",
      "saving dir .\\features\\train\\white\\5db\n",
      "saving dir .\\features\\train\\white\\5db\n",
      "saving dir .\\features\\train\\white\\5db\n",
      "saving dir .\\features\\train\\white\\5db\n",
      "saving dir .\\features\\train\\white\\5db\n",
      "saving dir .\\features\\train\\white\\5db\n",
      "saving dir .\\features\\train\\white\\5db\n"
     ]
    },
    {
     "name": "stderr",
     "output_type": "stream",
     "text": [
      "\r",
      "Converting train audios:  20%|██████████▊                                          | 944/4620 [00:08<00:30, 122.49it/s]"
     ]
    },
    {
     "name": "stdout",
     "output_type": "stream",
     "text": [
      "saving dir .\\features\\train\\white\\5db\n",
      "saving dir .\\features\\train\\white\\5db\n",
      "saving dir .\\features\\train\\white\\5db\n",
      "saving dir .\\features\\train\\white\\5db\n",
      "saving dir .\\features\\train\\white\\5db\n",
      "saving dir .\\features\\train\\white\\5db\n",
      "saving dir .\\features\\train\\white\\5db\n",
      "saving dir .\\features\\train\\white\\5db\n",
      "saving dir .\\features\\train\\white\\5db\n",
      "saving dir .\\features\\train\\white\\5db\n",
      "saving dir .\\features\\train\\white\\5db\n",
      "saving dir .\\features\\train\\white\\5db\n",
      "saving dir .\\features\\train\\white\\5db\n"
     ]
    },
    {
     "name": "stderr",
     "output_type": "stream",
     "text": [
      "\r",
      "Converting train audios:  21%|██████████▉                                          | 957/4620 [00:09<00:30, 121.60it/s]"
     ]
    },
    {
     "name": "stdout",
     "output_type": "stream",
     "text": [
      "saving dir .\\features\\train\\white\\5db\n",
      "saving dir .\\features\\train\\white\\5db\n",
      "saving dir .\\features\\train\\white\\5db\n",
      "saving dir .\\features\\train\\white\\5db\n",
      "saving dir .\\features\\train\\white\\5db\n",
      "saving dir .\\features\\train\\white\\5db\n",
      "saving dir .\\features\\train\\white\\5db\n",
      "saving dir .\\features\\train\\white\\5db\n",
      "saving dir .\\features\\train\\white\\5db\n",
      "saving dir .\\features\\train\\white\\5db\n",
      "saving dir .\\features\\train\\white\\5db\n",
      "saving dir .\\features\\train\\white\\5db\n",
      "saving dir .\\features\\train\\white\\5db\n"
     ]
    },
    {
     "name": "stderr",
     "output_type": "stream",
     "text": [
      "\r",
      "Converting train audios:  21%|███████████▏                                         | 970/4620 [00:09<00:29, 121.67it/s]"
     ]
    },
    {
     "name": "stdout",
     "output_type": "stream",
     "text": [
      "saving dir .\\features\\train\\white\\5db\n",
      "saving dir .\\features\\train\\white\\5db\n",
      "saving dir .\\features\\train\\white\\5db\n",
      "saving dir .\\features\\train\\white\\5db\n",
      "saving dir .\\features\\train\\white\\5db\n",
      "saving dir .\\features\\train\\white\\5db\n",
      "saving dir .\\features\\train\\white\\5db\n",
      "saving dir .\\features\\train\\white\\5db\n",
      "saving dir .\\features\\train\\white\\5db\n",
      "saving dir .\\features\\train\\white\\5db\n",
      "saving dir .\\features\\train\\white\\5db\n",
      "saving dir .\\features\\train\\white\\5db\n",
      "saving dir .\\features\\train\\white\\5db\n"
     ]
    },
    {
     "name": "stderr",
     "output_type": "stream",
     "text": [
      "\r",
      "Converting train audios:  21%|███████████▎                                         | 983/4620 [00:09<00:29, 122.75it/s]"
     ]
    },
    {
     "name": "stdout",
     "output_type": "stream",
     "text": [
      "saving dir .\\features\\train\\white\\5db\n",
      "saving dir .\\features\\train\\white\\5db\n",
      "saving dir .\\features\\train\\white\\5db\n",
      "saving dir .\\features\\train\\white\\5db\n",
      "saving dir .\\features\\train\\white\\5db\n",
      "saving dir .\\features\\train\\white\\5db\n",
      "saving dir .\\features\\train\\white\\5db\n",
      "saving dir .\\features\\train\\white\\5db\n",
      "saving dir .\\features\\train\\white\\5db\n",
      "saving dir .\\features\\train\\white\\5db\n",
      "saving dir .\\features\\train\\white\\5db\n",
      "saving dir .\\features\\train\\white\\5db\n",
      "saving dir .\\features\\train\\white\\5db\n"
     ]
    },
    {
     "name": "stderr",
     "output_type": "stream",
     "text": [
      "\r",
      "Converting train audios:  22%|███████████▍                                         | 996/4620 [00:09<00:30, 119.44it/s]"
     ]
    },
    {
     "name": "stdout",
     "output_type": "stream",
     "text": [
      "saving dir .\\features\\train\\white\\5db\n",
      "saving dir .\\features\\train\\white\\5db\n",
      "saving dir .\\features\\train\\white\\5db\n",
      "saving dir .\\features\\train\\white\\5db\n",
      "saving dir .\\features\\train\\white\\5db\n",
      "saving dir .\\features\\train\\white\\5db\n",
      "saving dir .\\features\\train\\white\\5db\n",
      "saving dir .\\features\\train\\white\\5db\n",
      "saving dir .\\features\\train\\white\\5db\n",
      "saving dir .\\features\\train\\white\\5db\n",
      "saving dir .\\features\\train\\white\\5db\n",
      "saving dir .\\features\\train\\white\\5db\n",
      "saving dir .\\features\\train\\white\\5db\n"
     ]
    },
    {
     "name": "stderr",
     "output_type": "stream",
     "text": [
      "\r",
      "Converting train audios:  22%|███████████▎                                        | 1009/4620 [00:09<00:29, 120.48it/s]"
     ]
    },
    {
     "name": "stdout",
     "output_type": "stream",
     "text": [
      "saving dir .\\features\\train\\white\\5db\n",
      "saving dir .\\features\\train\\white\\5db\n",
      "saving dir .\\features\\train\\white\\5db\n",
      "saving dir .\\features\\train\\white\\5db\n",
      "saving dir .\\features\\train\\white\\5db\n",
      "saving dir .\\features\\train\\white\\5db\n",
      "saving dir .\\features\\train\\white\\5db\n",
      "saving dir .\\features\\train\\white\\5db\n",
      "saving dir .\\features\\train\\white\\5db\n",
      "saving dir .\\features\\train\\white\\5db\n",
      "saving dir .\\features\\train\\white\\5db\n",
      "saving dir .\\features\\train\\white\\5db\n",
      "saving dir .\\features\\train\\white\\5db\n"
     ]
    },
    {
     "name": "stderr",
     "output_type": "stream",
     "text": [
      "\r",
      "Converting train audios:  22%|███████████▌                                        | 1022/4620 [00:09<00:29, 122.58it/s]"
     ]
    },
    {
     "name": "stdout",
     "output_type": "stream",
     "text": [
      "saving dir .\\features\\train\\white\\5db\n",
      "saving dir .\\features\\train\\white\\5db\n",
      "saving dir .\\features\\train\\white\\5db\n",
      "saving dir .\\features\\train\\white\\5db\n",
      "saving dir .\\features\\train\\white\\5db\n",
      "saving dir .\\features\\train\\white\\5db\n",
      "saving dir .\\features\\train\\white\\5db\n",
      "saving dir .\\features\\train\\white\\5db\n",
      "saving dir .\\features\\train\\white\\5db\n",
      "saving dir .\\features\\train\\white\\5db\n",
      "saving dir .\\features\\train\\white\\5db\n",
      "saving dir .\\features\\train\\white\\5db\n",
      "saving dir .\\features\\train\\white\\5db\n"
     ]
    },
    {
     "name": "stderr",
     "output_type": "stream",
     "text": [
      "\r",
      "Converting train audios:  22%|███████████▋                                        | 1035/4620 [00:09<00:29, 121.67it/s]"
     ]
    },
    {
     "name": "stdout",
     "output_type": "stream",
     "text": [
      "saving dir .\\features\\train\\white\\5db\n",
      "saving dir .\\features\\train\\white\\5db\n",
      "saving dir .\\features\\train\\white\\5db\n",
      "saving dir .\\features\\train\\white\\5db\n",
      "saving dir .\\features\\train\\white\\5db\n",
      "saving dir .\\features\\train\\white\\5db\n",
      "saving dir .\\features\\train\\white\\5db\n",
      "saving dir .\\features\\train\\white\\5db\n",
      "saving dir .\\features\\train\\white\\5db\n",
      "saving dir .\\features\\train\\white\\5db\n",
      "saving dir .\\features\\train\\white\\5db\n",
      "saving dir .\\features\\train\\white\\5db\n",
      "saving dir .\\features\\train\\white\\5db\n"
     ]
    },
    {
     "name": "stderr",
     "output_type": "stream",
     "text": [
      "\r",
      "Converting train audios:  23%|████████████                                         | 1048/4620 [00:09<00:39, 89.40it/s]"
     ]
    },
    {
     "name": "stdout",
     "output_type": "stream",
     "text": [
      "saving dir .\\features\\train\\white\\5db\n",
      "saving dir .\\features\\train\\white\\5db\n",
      "saving dir .\\features\\train\\white\\5db\n",
      "saving dir .\\features\\train\\white\\5db\n",
      "saving dir .\\features\\train\\white\\5db\n",
      "saving dir .\\features\\train\\white\\5db\n",
      "saving dir .\\features\\train\\white\\5db\n",
      "saving dir .\\features\\train\\white\\5db\n",
      "saving dir .\\features\\train\\white\\5db\n",
      "saving dir .\\features\\train\\white\\5db\n",
      "saving dir .\\features\\train\\white\\5db\n",
      "saving dir .\\features\\train\\white\\5db\n"
     ]
    },
    {
     "name": "stderr",
     "output_type": "stream",
     "text": [
      "\r",
      "Converting train audios:  23%|████████████▏                                        | 1060/4620 [00:10<00:37, 95.72it/s]"
     ]
    },
    {
     "name": "stdout",
     "output_type": "stream",
     "text": [
      "saving dir .\\features\\train\\white\\5db\n",
      "saving dir .\\features\\train\\white\\5db\n",
      "saving dir .\\features\\train\\white\\5db\n",
      "saving dir .\\features\\train\\white\\5db\n",
      "saving dir .\\features\\train\\white\\5db\n",
      "saving dir .\\features\\train\\white\\5db\n",
      "saving dir .\\features\\train\\white\\5db\n",
      "saving dir .\\features\\train\\white\\5db\n",
      "saving dir .\\features\\train\\white\\5db\n",
      "saving dir .\\features\\train\\white\\5db\n",
      "saving dir .\\features\\train\\white\\5db\n",
      "saving dir .\\features\\train\\white\\5db\n"
     ]
    },
    {
     "name": "stderr",
     "output_type": "stream",
     "text": [
      "\r",
      "Converting train audios:  23%|████████████▎                                        | 1072/4620 [00:10<00:37, 94.08it/s]"
     ]
    },
    {
     "name": "stdout",
     "output_type": "stream",
     "text": [
      "saving dir .\\features\\train\\white\\5db\n",
      "saving dir .\\features\\train\\white\\5db\n",
      "saving dir .\\features\\train\\white\\5db\n",
      "saving dir .\\features\\train\\white\\5db\n",
      "saving dir .\\features\\train\\white\\5db\n",
      "saving dir .\\features\\train\\white\\5db\n",
      "saving dir .\\features\\train\\white\\5db\n",
      "saving dir .\\features\\train\\white\\5db\n",
      "saving dir .\\features\\train\\white\\5db\n",
      "saving dir .\\features\\train\\white\\5db\n",
      "saving dir .\\features\\train\\white\\5db\n",
      "saving dir .\\features\\train\\white\\5db\n",
      "saving dir .\\features\\train\\white\\5db\n",
      "saving dir .\\features\\train\\white\\5db\n"
     ]
    },
    {
     "name": "stderr",
     "output_type": "stream",
     "text": [
      "\r",
      "Converting train audios:  24%|████████████▏                                       | 1086/4620 [00:10<00:34, 101.91it/s]"
     ]
    },
    {
     "name": "stdout",
     "output_type": "stream",
     "text": [
      "saving dir .\\features\\train\\white\\5db\n",
      "saving dir .\\features\\train\\white\\5db\n",
      "saving dir .\\features\\train\\white\\5db\n",
      "saving dir .\\features\\train\\white\\5db\n",
      "saving dir .\\features\\train\\white\\5db\n",
      "saving dir .\\features\\train\\white\\5db\n",
      "saving dir .\\features\\train\\white\\5db\n",
      "saving dir .\\features\\train\\white\\5db\n",
      "saving dir .\\features\\train\\white\\5db\n",
      "saving dir .\\features\\train\\white\\5db\n",
      "saving dir .\\features\\train\\white\\5db\n",
      "saving dir .\\features\\train\\white\\5db\n"
     ]
    },
    {
     "name": "stderr",
     "output_type": "stream",
     "text": [
      "\r",
      "Converting train audios:  24%|████████████▎                                       | 1098/4620 [00:10<00:33, 104.58it/s]"
     ]
    },
    {
     "name": "stdout",
     "output_type": "stream",
     "text": [
      "saving dir .\\features\\train\\white\\5db\n",
      "saving dir .\\features\\train\\white\\5db\n",
      "saving dir .\\features\\train\\white\\5db\n",
      "saving dir .\\features\\train\\white\\5db\n",
      "saving dir .\\features\\train\\white\\5db\n",
      "saving dir .\\features\\train\\white\\5db\n",
      "saving dir .\\features\\train\\white\\5db\n",
      "saving dir .\\features\\train\\white\\5db\n",
      "saving dir .\\features\\train\\white\\5db\n",
      "saving dir .\\features\\train\\white\\5db\n",
      "saving dir .\\features\\train\\white\\5db\n",
      "saving dir .\\features\\train\\white\\5db\n",
      "saving dir .\\features\\train\\white\\5db\n",
      "saving dir .\\features\\train\\white\\5db\n"
     ]
    },
    {
     "name": "stderr",
     "output_type": "stream",
     "text": [
      "\r",
      "Converting train audios:  24%|████████████▌                                       | 1112/4620 [00:10<00:31, 111.36it/s]"
     ]
    },
    {
     "name": "stdout",
     "output_type": "stream",
     "text": [
      "saving dir .\\features\\train\\white\\5db\n",
      "saving dir .\\features\\train\\white\\5db\n",
      "saving dir .\\features\\train\\white\\5db\n",
      "saving dir .\\features\\train\\white\\5db\n",
      "saving dir .\\features\\train\\white\\5db\n",
      "saving dir .\\features\\train\\white\\5db\n",
      "saving dir .\\features\\train\\white\\5db\n",
      "saving dir .\\features\\train\\white\\5db\n",
      "saving dir .\\features\\train\\white\\5db\n",
      "saving dir .\\features\\train\\white\\5db\n",
      "saving dir .\\features\\train\\white\\5db\n",
      "saving dir .\\features\\train\\white\\5db\n",
      "saving dir .\\features\\train\\white\\5db\n"
     ]
    },
    {
     "name": "stderr",
     "output_type": "stream",
     "text": [
      "\r",
      "Converting train audios:  24%|████████████▋                                       | 1125/4620 [00:10<00:30, 114.00it/s]"
     ]
    },
    {
     "name": "stdout",
     "output_type": "stream",
     "text": [
      "saving dir .\\features\\train\\white\\5db\n",
      "saving dir .\\features\\train\\white\\5db\n",
      "saving dir .\\features\\train\\white\\5db\n",
      "saving dir .\\features\\train\\white\\5db\n",
      "saving dir .\\features\\train\\white\\5db\n",
      "saving dir .\\features\\train\\white\\5db\n",
      "saving dir .\\features\\train\\white\\5db\n",
      "saving dir .\\features\\train\\white\\5db\n",
      "saving dir .\\features\\train\\white\\5db\n",
      "saving dir .\\features\\train\\white\\5db\n",
      "saving dir .\\features\\train\\white\\5db\n",
      "saving dir .\\features\\train\\white\\5db\n"
     ]
    },
    {
     "name": "stderr",
     "output_type": "stream",
     "text": [
      "\r",
      "Converting train audios:  25%|█████████████                                        | 1137/4620 [00:10<00:39, 89.07it/s]"
     ]
    },
    {
     "name": "stdout",
     "output_type": "stream",
     "text": [
      "saving dir .\\features\\train\\white\\5db\n",
      "saving dir .\\features\\train\\white\\5db\n",
      "saving dir .\\features\\train\\white\\5db\n",
      "saving dir .\\features\\train\\white\\5db\n",
      "saving dir .\\features\\train\\white\\5db\n",
      "saving dir .\\features\\train\\white\\5db\n",
      "saving dir .\\features\\train\\white\\5db\n",
      "saving dir .\\features\\train\\white\\5db\n",
      "saving dir .\\features\\train\\white\\5db\n",
      "saving dir .\\features\\train\\white\\5db\n",
      "saving dir .\\features\\train\\white\\5db\n",
      "saving dir .\\features\\train\\white\\5db\n"
     ]
    },
    {
     "name": "stderr",
     "output_type": "stream",
     "text": [
      "\r",
      "Converting train audios:  25%|█████████████▏                                       | 1149/4620 [00:10<00:36, 95.68it/s]"
     ]
    },
    {
     "name": "stdout",
     "output_type": "stream",
     "text": [
      "saving dir .\\features\\train\\white\\5db\n",
      "saving dir .\\features\\train\\white\\5db\n",
      "saving dir .\\features\\train\\white\\5db\n",
      "saving dir .\\features\\train\\white\\5db\n",
      "saving dir .\\features\\train\\white\\5db\n",
      "saving dir .\\features\\train\\white\\5db\n",
      "saving dir .\\features\\train\\white\\5db\n",
      "saving dir .\\features\\train\\white\\5db\n",
      "saving dir .\\features\\train\\white\\5db\n",
      "saving dir .\\features\\train\\white\\5db\n",
      "saving dir .\\features\\train\\white\\5db\n"
     ]
    },
    {
     "name": "stderr",
     "output_type": "stream",
     "text": [
      "\r",
      "Converting train audios:  25%|█████████████▎                                       | 1160/4620 [00:10<00:35, 98.31it/s]"
     ]
    },
    {
     "name": "stdout",
     "output_type": "stream",
     "text": [
      "saving dir .\\features\\train\\white\\5db\n",
      "saving dir .\\features\\train\\white\\5db\n",
      "saving dir .\\features\\train\\white\\5db\n",
      "saving dir .\\features\\train\\white\\5db\n",
      "saving dir .\\features\\train\\white\\5db\n",
      "saving dir .\\features\\train\\white\\5db\n",
      "saving dir .\\features\\train\\white\\5db\n",
      "saving dir .\\features\\train\\white\\5db\n",
      "saving dir .\\features\\train\\white\\5db\n",
      "saving dir .\\features\\train\\white\\5db\n",
      "saving dir .\\features\\train\\white\\5db\n",
      "saving dir .\\features\\train\\white\\5db\n",
      "saving dir .\\features\\train\\white\\5db\n"
     ]
    },
    {
     "name": "stderr",
     "output_type": "stream",
     "text": [
      "\r",
      "Converting train audios:  25%|█████████████▏                                      | 1173/4620 [00:11<00:32, 104.60it/s]"
     ]
    },
    {
     "name": "stdout",
     "output_type": "stream",
     "text": [
      "saving dir .\\features\\train\\white\\5db\n",
      "saving dir .\\features\\train\\white\\5db\n",
      "saving dir .\\features\\train\\white\\5db\n",
      "saving dir .\\features\\train\\white\\5db\n",
      "saving dir .\\features\\train\\white\\5db\n",
      "saving dir .\\features\\train\\white\\5db\n",
      "saving dir .\\features\\train\\white\\5db\n",
      "saving dir .\\features\\train\\white\\5db\n",
      "saving dir .\\features\\train\\white\\5db\n",
      "saving dir .\\features\\train\\white\\5db\n",
      "saving dir .\\features\\train\\white\\5db\n",
      "saving dir .\\features\\train\\white\\5db\n",
      "saving dir .\\features\\train\\white\\5db\n"
     ]
    },
    {
     "name": "stderr",
     "output_type": "stream",
     "text": [
      "\r",
      "Converting train audios:  26%|█████████████▎                                      | 1186/4620 [00:11<00:31, 110.34it/s]"
     ]
    },
    {
     "name": "stdout",
     "output_type": "stream",
     "text": [
      "saving dir .\\features\\train\\white\\5db\n",
      "saving dir .\\features\\train\\white\\5db\n",
      "saving dir .\\features\\train\\white\\5db\n",
      "saving dir .\\features\\train\\white\\5db\n",
      "saving dir .\\features\\train\\white\\5db\n",
      "saving dir .\\features\\train\\white\\5db\n",
      "saving dir .\\features\\train\\white\\5db\n",
      "saving dir .\\features\\train\\white\\5db\n",
      "saving dir .\\features\\train\\white\\5db\n",
      "saving dir .\\features\\train\\white\\5db\n",
      "saving dir .\\features\\train\\white\\5db\n",
      "saving dir .\\features\\train\\white\\5db\n",
      "saving dir .\\features\\train\\white\\5db\n"
     ]
    },
    {
     "name": "stderr",
     "output_type": "stream",
     "text": [
      "\r",
      "Converting train audios:  26%|█████████████▍                                      | 1199/4620 [00:11<00:30, 113.26it/s]"
     ]
    },
    {
     "name": "stdout",
     "output_type": "stream",
     "text": [
      "saving dir .\\features\\train\\white\\5db\n",
      "saving dir .\\features\\train\\white\\5db\n",
      "saving dir .\\features\\train\\white\\5db\n",
      "saving dir .\\features\\train\\white\\5db\n",
      "saving dir .\\features\\train\\white\\5db\n",
      "saving dir .\\features\\train\\white\\5db\n",
      "saving dir .\\features\\train\\white\\5db\n",
      "saving dir .\\features\\train\\white\\5db\n",
      "saving dir .\\features\\train\\white\\5db\n",
      "saving dir .\\features\\train\\white\\5db\n",
      "saving dir .\\features\\train\\white\\5db\n",
      "saving dir .\\features\\train\\white\\5db\n",
      "saving dir .\\features\\train\\white\\5db\n"
     ]
    },
    {
     "name": "stderr",
     "output_type": "stream",
     "text": [
      "\r",
      "Converting train audios:  26%|█████████████▋                                      | 1212/4620 [00:11<00:29, 116.32it/s]"
     ]
    },
    {
     "name": "stdout",
     "output_type": "stream",
     "text": [
      "saving dir .\\features\\train\\white\\5db\n",
      "saving dir .\\features\\train\\white\\5db\n",
      "saving dir .\\features\\train\\white\\5db\n",
      "saving dir .\\features\\train\\white\\5db\n",
      "saving dir .\\features\\train\\white\\5db\n",
      "saving dir .\\features\\train\\white\\5db\n",
      "saving dir .\\features\\train\\white\\5db\n",
      "saving dir .\\features\\train\\white\\5db\n",
      "saving dir .\\features\\train\\white\\5db\n",
      "saving dir .\\features\\train\\white\\5db\n",
      "saving dir .\\features\\train\\white\\5db\n",
      "saving dir .\\features\\train\\white\\5db\n"
     ]
    },
    {
     "name": "stderr",
     "output_type": "stream",
     "text": [
      "\r",
      "Converting train audios:  26%|█████████████▊                                      | 1224/4620 [00:11<00:29, 116.12it/s]"
     ]
    },
    {
     "name": "stdout",
     "output_type": "stream",
     "text": [
      "saving dir .\\features\\train\\white\\5db\n",
      "saving dir .\\features\\train\\white\\5db\n",
      "saving dir .\\features\\train\\white\\5db\n",
      "saving dir .\\features\\train\\white\\5db\n",
      "saving dir .\\features\\train\\white\\5db\n",
      "saving dir .\\features\\train\\white\\5db\n",
      "saving dir .\\features\\train\\white\\5db\n",
      "saving dir .\\features\\train\\white\\5db\n",
      "saving dir .\\features\\train\\white\\5db\n",
      "saving dir .\\features\\train\\white\\5db\n",
      "saving dir .\\features\\train\\white\\5db\n",
      "saving dir .\\features\\train\\white\\5db\n"
     ]
    },
    {
     "name": "stderr",
     "output_type": "stream",
     "text": [
      "\r",
      "Converting train audios:  27%|█████████████▉                                      | 1236/4620 [00:11<00:29, 116.67it/s]"
     ]
    },
    {
     "name": "stdout",
     "output_type": "stream",
     "text": [
      "saving dir .\\features\\train\\white\\5db\n",
      "saving dir .\\features\\train\\white\\5db\n",
      "saving dir .\\features\\train\\white\\5db\n",
      "saving dir .\\features\\train\\white\\5db\n",
      "saving dir .\\features\\train\\white\\5db\n",
      "saving dir .\\features\\train\\white\\5db\n",
      "saving dir .\\features\\train\\white\\5db\n",
      "saving dir .\\features\\train\\white\\5db\n",
      "saving dir .\\features\\train\\white\\5db\n",
      "saving dir .\\features\\train\\white\\5db\n",
      "saving dir .\\features\\train\\white\\5db\n",
      "saving dir .\\features\\train\\white\\5db\n"
     ]
    },
    {
     "name": "stderr",
     "output_type": "stream",
     "text": [
      "\r",
      "Converting train audios:  27%|██████████████                                      | 1248/4620 [00:11<00:28, 117.05it/s]"
     ]
    },
    {
     "name": "stdout",
     "output_type": "stream",
     "text": [
      "saving dir .\\features\\train\\white\\5db\n",
      "saving dir .\\features\\train\\white\\5db\n",
      "saving dir .\\features\\train\\white\\5db\n",
      "saving dir .\\features\\train\\white\\5db\n",
      "saving dir .\\features\\train\\white\\5db\n",
      "saving dir .\\features\\train\\white\\5db\n",
      "saving dir .\\features\\train\\white\\5db\n",
      "saving dir .\\features\\train\\white\\5db\n",
      "saving dir .\\features\\train\\white\\5db\n",
      "saving dir .\\features\\train\\white\\5db\n",
      "saving dir .\\features\\train\\white\\5db\n",
      "saving dir .\\features\\train\\white\\5db\n"
     ]
    },
    {
     "name": "stderr",
     "output_type": "stream",
     "text": [
      "\r",
      "Converting train audios:  27%|██████████████▏                                     | 1260/4620 [00:11<00:28, 117.67it/s]"
     ]
    },
    {
     "name": "stdout",
     "output_type": "stream",
     "text": [
      "saving dir .\\features\\train\\white\\5db\n",
      "saving dir .\\features\\train\\white\\5db\n",
      "saving dir .\\features\\train\\white\\5db\n",
      "saving dir .\\features\\train\\white\\5db\n",
      "saving dir .\\features\\train\\white\\5db\n",
      "saving dir .\\features\\train\\white\\5db\n",
      "saving dir .\\features\\train\\white\\5db\n",
      "saving dir .\\features\\train\\white\\5db\n",
      "saving dir .\\features\\train\\white\\5db\n",
      "saving dir .\\features\\train\\white\\5db\n",
      "saving dir .\\features\\train\\white\\5db\n",
      "saving dir .\\features\\train\\white\\5db\n",
      "saving dir .\\features\\train\\white\\5db\n"
     ]
    },
    {
     "name": "stderr",
     "output_type": "stream",
     "text": [
      "\r",
      "Converting train audios:  28%|██████████████▎                                     | 1273/4620 [00:11<00:27, 119.87it/s]"
     ]
    },
    {
     "name": "stdout",
     "output_type": "stream",
     "text": [
      "saving dir .\\features\\train\\white\\5db\n",
      "saving dir .\\features\\train\\white\\5db\n",
      "saving dir .\\features\\train\\white\\5db\n",
      "saving dir .\\features\\train\\white\\5db\n",
      "saving dir .\\features\\train\\white\\5db\n",
      "saving dir .\\features\\train\\white\\5db\n",
      "saving dir .\\features\\train\\white\\5db\n",
      "saving dir .\\features\\train\\white\\5db\n",
      "saving dir .\\features\\train\\white\\5db\n",
      "saving dir .\\features\\train\\white\\5db\n",
      "saving dir .\\features\\train\\white\\5db\n",
      "saving dir .\\features\\train\\white\\5db\n",
      "saving dir .\\features\\train\\white\\5db\n"
     ]
    },
    {
     "name": "stderr",
     "output_type": "stream",
     "text": [
      "\r",
      "Converting train audios:  28%|██████████████▍                                     | 1286/4620 [00:12<00:28, 115.64it/s]"
     ]
    },
    {
     "name": "stdout",
     "output_type": "stream",
     "text": [
      "saving dir .\\features\\train\\white\\5db\n",
      "saving dir .\\features\\train\\white\\5db\n",
      "saving dir .\\features\\train\\white\\5db\n",
      "saving dir .\\features\\train\\white\\5db\n",
      "saving dir .\\features\\train\\white\\5db\n",
      "saving dir .\\features\\train\\white\\5db\n",
      "saving dir .\\features\\train\\white\\5db\n",
      "saving dir .\\features\\train\\white\\5db\n",
      "saving dir .\\features\\train\\white\\5db\n",
      "saving dir .\\features\\train\\white\\5db\n",
      "saving dir .\\features\\train\\white\\5db\n",
      "saving dir .\\features\\train\\white\\5db\n",
      "saving dir .\\features\\train\\white\\5db\n"
     ]
    },
    {
     "name": "stderr",
     "output_type": "stream",
     "text": [
      "\r",
      "Converting train audios:  28%|██████████████▌                                     | 1299/4620 [00:12<00:28, 118.06it/s]"
     ]
    },
    {
     "name": "stdout",
     "output_type": "stream",
     "text": [
      "saving dir .\\features\\train\\white\\5db\n",
      "saving dir .\\features\\train\\white\\5db\n",
      "saving dir .\\features\\train\\white\\5db\n",
      "saving dir .\\features\\train\\white\\5db\n",
      "saving dir .\\features\\train\\white\\5db\n",
      "saving dir .\\features\\train\\white\\5db\n",
      "saving dir .\\features\\train\\white\\5db\n",
      "saving dir .\\features\\train\\white\\5db\n",
      "saving dir .\\features\\train\\white\\5db\n",
      "saving dir .\\features\\train\\white\\5db\n",
      "saving dir .\\features\\train\\white\\5db\n",
      "saving dir .\\features\\train\\white\\5db\n"
     ]
    },
    {
     "name": "stderr",
     "output_type": "stream",
     "text": [
      "\r",
      "Converting train audios:  28%|██████████████▊                                     | 1311/4620 [00:12<00:29, 113.36it/s]"
     ]
    },
    {
     "name": "stdout",
     "output_type": "stream",
     "text": [
      "saving dir .\\features\\train\\white\\5db\n",
      "saving dir .\\features\\train\\white\\5db\n",
      "saving dir .\\features\\train\\white\\5db\n",
      "saving dir .\\features\\train\\white\\5db\n",
      "saving dir .\\features\\train\\white\\5db\n",
      "saving dir .\\features\\train\\white\\5db\n",
      "saving dir .\\features\\train\\white\\5db\n",
      "saving dir .\\features\\train\\white\\5db\n",
      "saving dir .\\features\\train\\white\\5db\n",
      "saving dir .\\features\\train\\white\\5db\n",
      "saving dir .\\features\\train\\white\\5db\n",
      "saving dir .\\features\\train\\white\\5db\n",
      "saving dir .\\features\\train\\white\\5db\n"
     ]
    },
    {
     "name": "stderr",
     "output_type": "stream",
     "text": [
      "\r",
      "Converting train audios:  29%|██████████████▉                                     | 1324/4620 [00:12<00:28, 115.77it/s]"
     ]
    },
    {
     "name": "stdout",
     "output_type": "stream",
     "text": [
      "saving dir .\\features\\train\\white\\5db\n",
      "saving dir .\\features\\train\\white\\5db\n",
      "saving dir .\\features\\train\\white\\5db\n",
      "saving dir .\\features\\train\\white\\5db\n",
      "saving dir .\\features\\train\\white\\5db\n",
      "saving dir .\\features\\train\\white\\5db\n",
      "saving dir .\\features\\train\\white\\5db\n",
      "saving dir .\\features\\train\\white\\5db\n",
      "saving dir .\\features\\train\\white\\5db\n",
      "saving dir .\\features\\train\\white\\5db\n",
      "saving dir .\\features\\train\\white\\5db\n",
      "saving dir .\\features\\train\\white\\5db\n"
     ]
    },
    {
     "name": "stderr",
     "output_type": "stream",
     "text": [
      "\r",
      "Converting train audios:  29%|███████████████                                     | 1336/4620 [00:12<00:28, 115.09it/s]"
     ]
    },
    {
     "name": "stdout",
     "output_type": "stream",
     "text": [
      "saving dir .\\features\\train\\white\\5db\n",
      "saving dir .\\features\\train\\white\\5db\n",
      "saving dir .\\features\\train\\white\\5db\n",
      "saving dir .\\features\\train\\white\\5db\n",
      "saving dir .\\features\\train\\white\\5db\n",
      "saving dir .\\features\\train\\white\\5db\n",
      "saving dir .\\features\\train\\white\\5db\n",
      "saving dir .\\features\\train\\white\\5db\n",
      "saving dir .\\features\\train\\white\\5db\n",
      "saving dir .\\features\\train\\white\\5db\n",
      "saving dir .\\features\\train\\white\\5db\n",
      "saving dir .\\features\\train\\white\\5db\n"
     ]
    },
    {
     "name": "stderr",
     "output_type": "stream",
     "text": [
      "\r",
      "Converting train audios:  29%|███████████████▏                                    | 1348/4620 [00:12<00:29, 110.20it/s]"
     ]
    },
    {
     "name": "stdout",
     "output_type": "stream",
     "text": [
      "saving dir .\\features\\train\\white\\5db\n",
      "saving dir .\\features\\train\\white\\5db\n",
      "saving dir .\\features\\train\\white\\5db\n",
      "saving dir .\\features\\train\\white\\5db\n",
      "saving dir .\\features\\train\\white\\5db\n",
      "saving dir .\\features\\train\\white\\5db\n",
      "saving dir .\\features\\train\\white\\5db\n",
      "saving dir .\\features\\train\\white\\5db\n",
      "saving dir .\\features\\train\\white\\5db\n",
      "saving dir .\\features\\train\\white\\5db\n",
      "saving dir .\\features\\train\\white\\5db\n",
      "saving dir .\\features\\train\\white\\5db\n",
      "saving dir .\\features\\train\\white\\5db\n"
     ]
    },
    {
     "name": "stderr",
     "output_type": "stream",
     "text": [
      "\r",
      "Converting train audios:  29%|███████████████▎                                    | 1361/4620 [00:12<00:28, 113.45it/s]"
     ]
    },
    {
     "name": "stdout",
     "output_type": "stream",
     "text": [
      "saving dir .\\features\\train\\white\\5db\n",
      "saving dir .\\features\\train\\white\\5db\n",
      "saving dir .\\features\\train\\white\\5db\n",
      "saving dir .\\features\\train\\white\\5db\n",
      "saving dir .\\features\\train\\white\\5db\n",
      "saving dir .\\features\\train\\white\\5db\n",
      "saving dir .\\features\\train\\white\\5db\n",
      "saving dir .\\features\\train\\white\\5db\n",
      "saving dir .\\features\\train\\white\\5db\n",
      "saving dir .\\features\\train\\white\\5db\n",
      "saving dir .\\features\\train\\white\\5db\n",
      "saving dir .\\features\\train\\white\\5db\n"
     ]
    },
    {
     "name": "stderr",
     "output_type": "stream",
     "text": [
      "\r",
      "Converting train audios:  30%|███████████████▍                                    | 1373/4620 [00:12<00:28, 113.47it/s]"
     ]
    },
    {
     "name": "stdout",
     "output_type": "stream",
     "text": [
      "saving dir .\\features\\train\\white\\5db\n",
      "saving dir .\\features\\train\\white\\5db\n",
      "saving dir .\\features\\train\\white\\5db\n",
      "saving dir .\\features\\train\\white\\5db\n",
      "saving dir .\\features\\train\\white\\5db\n",
      "saving dir .\\features\\train\\white\\5db\n",
      "saving dir .\\features\\train\\white\\5db\n",
      "saving dir .\\features\\train\\white\\5db\n",
      "saving dir .\\features\\train\\white\\5db\n",
      "saving dir .\\features\\train\\white\\5db\n",
      "saving dir .\\features\\train\\white\\5db\n",
      "saving dir .\\features\\train\\white\\5db\n"
     ]
    },
    {
     "name": "stderr",
     "output_type": "stream",
     "text": [
      "\r",
      "Converting train audios:  30%|███████████████▉                                     | 1385/4620 [00:12<00:33, 95.62it/s]"
     ]
    },
    {
     "name": "stdout",
     "output_type": "stream",
     "text": [
      "saving dir .\\features\\train\\white\\5db\n",
      "saving dir .\\features\\train\\white\\5db\n",
      "saving dir .\\features\\train\\white\\5db\n",
      "saving dir .\\features\\train\\white\\5db\n",
      "saving dir .\\features\\train\\white\\5db\n",
      "saving dir .\\features\\train\\white\\5db\n",
      "saving dir .\\features\\train\\white\\5db\n",
      "saving dir .\\features\\train\\white\\5db\n",
      "saving dir .\\features\\train\\white\\5db\n",
      "saving dir .\\features\\train\\white\\5db\n",
      "saving dir .\\features\\train\\white\\5db\n",
      "saving dir .\\features\\train\\white\\5db\n"
     ]
    },
    {
     "name": "stderr",
     "output_type": "stream",
     "text": [
      "\r",
      "Converting train audios:  30%|███████████████▋                                    | 1397/4620 [00:13<00:32, 100.62it/s]"
     ]
    },
    {
     "name": "stdout",
     "output_type": "stream",
     "text": [
      "saving dir .\\features\\train\\white\\5db\n",
      "saving dir .\\features\\train\\white\\5db\n",
      "saving dir .\\features\\train\\white\\5db\n",
      "saving dir .\\features\\train\\white\\5db\n",
      "saving dir .\\features\\train\\white\\5db\n",
      "saving dir .\\features\\train\\white\\5db\n",
      "saving dir .\\features\\train\\white\\5db\n",
      "saving dir .\\features\\train\\white\\5db\n",
      "saving dir .\\features\\train\\white\\5db\n",
      "saving dir .\\features\\train\\white\\5db\n",
      "saving dir .\\features\\train\\white\\5db\n",
      "saving dir .\\features\\train\\white\\5db\n"
     ]
    },
    {
     "name": "stderr",
     "output_type": "stream",
     "text": [
      "\r",
      "Converting train audios:  30%|███████████████▊                                    | 1409/4620 [00:13<00:30, 105.26it/s]"
     ]
    },
    {
     "name": "stdout",
     "output_type": "stream",
     "text": [
      "saving dir .\\features\\train\\white\\5db\n",
      "saving dir .\\features\\train\\white\\5db\n",
      "saving dir .\\features\\train\\white\\5db\n",
      "saving dir .\\features\\train\\white\\5db\n",
      "saving dir .\\features\\train\\white\\5db\n",
      "saving dir .\\features\\train\\white\\5db\n",
      "saving dir .\\features\\train\\white\\5db\n",
      "saving dir .\\features\\train\\white\\5db\n",
      "saving dir .\\features\\train\\white\\5db\n",
      "saving dir .\\features\\train\\white\\5db\n",
      "saving dir .\\features\\train\\white\\5db\n",
      "saving dir .\\features\\train\\white\\5db\n",
      "saving dir .\\features\\train\\white\\5db\n"
     ]
    },
    {
     "name": "stderr",
     "output_type": "stream",
     "text": [
      "\r",
      "Converting train audios:  31%|████████████████                                    | 1422/4620 [00:13<00:28, 111.14it/s]"
     ]
    },
    {
     "name": "stdout",
     "output_type": "stream",
     "text": [
      "saving dir .\\features\\train\\white\\5db\n",
      "saving dir .\\features\\train\\white\\5db\n",
      "saving dir .\\features\\train\\white\\5db\n",
      "saving dir .\\features\\train\\white\\5db\n",
      "saving dir .\\features\\train\\white\\5db\n",
      "saving dir .\\features\\train\\white\\5db\n",
      "saving dir .\\features\\train\\white\\5db\n",
      "saving dir .\\features\\train\\white\\5db\n",
      "saving dir .\\features\\train\\white\\5db\n",
      "saving dir .\\features\\train\\white\\5db\n",
      "saving dir .\\features\\train\\white\\5db\n",
      "saving dir .\\features\\train\\white\\5db\n",
      "saving dir .\\features\\train\\white\\5db\n"
     ]
    },
    {
     "name": "stderr",
     "output_type": "stream",
     "text": [
      "\r",
      "Converting train audios:  31%|████████████████▏                                   | 1435/4620 [00:13<00:28, 113.55it/s]"
     ]
    },
    {
     "name": "stdout",
     "output_type": "stream",
     "text": [
      "saving dir .\\features\\train\\white\\5db\n",
      "saving dir .\\features\\train\\white\\5db\n",
      "saving dir .\\features\\train\\white\\5db\n",
      "saving dir .\\features\\train\\white\\5db\n",
      "saving dir .\\features\\train\\white\\5db\n",
      "saving dir .\\features\\train\\white\\5db\n",
      "saving dir .\\features\\train\\white\\5db\n",
      "saving dir .\\features\\train\\white\\5db\n",
      "saving dir .\\features\\train\\white\\5db\n",
      "saving dir .\\features\\train\\white\\5db\n",
      "saving dir .\\features\\train\\white\\5db\n",
      "saving dir .\\features\\train\\white\\5db\n",
      "saving dir .\\features\\train\\white\\5db\n"
     ]
    },
    {
     "name": "stderr",
     "output_type": "stream",
     "text": [
      "\r",
      "Converting train audios:  31%|████████████████▎                                   | 1448/4620 [00:13<00:27, 115.60it/s]"
     ]
    },
    {
     "name": "stdout",
     "output_type": "stream",
     "text": [
      "saving dir .\\features\\train\\white\\5db\n",
      "saving dir .\\features\\train\\white\\5db\n",
      "saving dir .\\features\\train\\white\\5db\n",
      "saving dir .\\features\\train\\white\\5db\n",
      "saving dir .\\features\\train\\white\\5db\n",
      "saving dir .\\features\\train\\white\\5db\n",
      "saving dir .\\features\\train\\white\\5db\n",
      "saving dir .\\features\\train\\white\\5db\n",
      "saving dir .\\features\\train\\white\\5db\n",
      "saving dir .\\features\\train\\white\\5db\n",
      "saving dir .\\features\\train\\white\\5db\n",
      "saving dir .\\features\\train\\white\\5db\n",
      "saving dir .\\features\\train\\white\\5db\n"
     ]
    },
    {
     "name": "stderr",
     "output_type": "stream",
     "text": [
      "\r",
      "Converting train audios:  32%|████████████████▍                                   | 1461/4620 [00:13<00:26, 119.01it/s]"
     ]
    },
    {
     "name": "stdout",
     "output_type": "stream",
     "text": [
      "saving dir .\\features\\train\\white\\5db\n",
      "saving dir .\\features\\train\\white\\5db\n",
      "saving dir .\\features\\train\\white\\5db\n",
      "saving dir .\\features\\train\\white\\5db\n",
      "saving dir .\\features\\train\\white\\5db\n",
      "saving dir .\\features\\train\\white\\5db\n",
      "saving dir .\\features\\train\\white\\5db\n",
      "saving dir .\\features\\train\\white\\5db\n",
      "saving dir .\\features\\train\\white\\5db\n",
      "saving dir .\\features\\train\\white\\5db\n",
      "saving dir .\\features\\train\\white\\5db\n",
      "saving dir .\\features\\train\\white\\5db\n",
      "saving dir .\\features\\train\\white\\5db\n"
     ]
    },
    {
     "name": "stderr",
     "output_type": "stream",
     "text": [
      "\r",
      "Converting train audios:  32%|████████████████▌                                   | 1474/4620 [00:13<00:28, 110.68it/s]"
     ]
    },
    {
     "name": "stdout",
     "output_type": "stream",
     "text": [
      "saving dir .\\features\\train\\white\\5db\n",
      "saving dir .\\features\\train\\white\\5db\n",
      "saving dir .\\features\\train\\white\\5db\n",
      "saving dir .\\features\\train\\white\\5db\n",
      "saving dir .\\features\\train\\white\\5db\n",
      "saving dir .\\features\\train\\white\\5db\n",
      "saving dir .\\features\\train\\white\\5db\n",
      "saving dir .\\features\\train\\white\\5db\n",
      "saving dir .\\features\\train\\white\\5db\n",
      "saving dir .\\features\\train\\white\\5db\n",
      "saving dir .\\features\\train\\white\\5db\n",
      "saving dir .\\features\\train\\white\\5db\n",
      "saving dir .\\features\\train\\white\\5db\n"
     ]
    },
    {
     "name": "stderr",
     "output_type": "stream",
     "text": [
      "\r",
      "Converting train audios:  32%|████████████████▋                                   | 1487/4620 [00:13<00:27, 113.80it/s]"
     ]
    },
    {
     "name": "stdout",
     "output_type": "stream",
     "text": [
      "saving dir .\\features\\train\\white\\5db\n",
      "saving dir .\\features\\train\\white\\5db\n",
      "saving dir .\\features\\train\\white\\5db\n",
      "saving dir .\\features\\train\\white\\5db\n",
      "saving dir .\\features\\train\\white\\5db\n",
      "saving dir .\\features\\train\\white\\5db\n",
      "saving dir .\\features\\train\\white\\5db\n",
      "saving dir .\\features\\train\\white\\5db\n",
      "saving dir .\\features\\train\\white\\5db\n",
      "saving dir .\\features\\train\\white\\5db\n",
      "saving dir .\\features\\train\\white\\5db\n",
      "saving dir .\\features\\train\\white\\5db\n"
     ]
    },
    {
     "name": "stderr",
     "output_type": "stream",
     "text": [
      "\r",
      "Converting train audios:  32%|████████████████▊                                   | 1499/4620 [00:13<00:27, 112.12it/s]"
     ]
    },
    {
     "name": "stdout",
     "output_type": "stream",
     "text": [
      "saving dir .\\features\\train\\white\\5db\n",
      "saving dir .\\features\\train\\white\\5db\n",
      "saving dir .\\features\\train\\white\\5db\n",
      "saving dir .\\features\\train\\white\\5db\n",
      "saving dir .\\features\\train\\white\\5db\n",
      "saving dir .\\features\\train\\white\\5db\n",
      "saving dir .\\features\\train\\white\\5db\n",
      "saving dir .\\features\\train\\white\\5db\n",
      "saving dir .\\features\\train\\white\\5db\n",
      "saving dir .\\features\\train\\white\\5db\n",
      "saving dir .\\features\\train\\white\\5db\n",
      "saving dir .\\features\\train\\white\\5db\n"
     ]
    },
    {
     "name": "stderr",
     "output_type": "stream",
     "text": [
      "\r",
      "Converting train audios:  33%|█████████████████                                   | 1511/4620 [00:14<00:27, 113.81it/s]"
     ]
    },
    {
     "name": "stdout",
     "output_type": "stream",
     "text": [
      "saving dir .\\features\\train\\white\\5db\n",
      "saving dir .\\features\\train\\white\\5db\n",
      "saving dir .\\features\\train\\white\\5db\n",
      "saving dir .\\features\\train\\white\\5db\n",
      "saving dir .\\features\\train\\white\\5db\n",
      "saving dir .\\features\\train\\white\\5db\n",
      "saving dir .\\features\\train\\white\\5db\n",
      "saving dir .\\features\\train\\white\\5db\n",
      "saving dir .\\features\\train\\white\\5db\n",
      "saving dir .\\features\\train\\white\\5db\n",
      "saving dir .\\features\\train\\white\\5db\n",
      "saving dir .\\features\\train\\white\\5db\n",
      "saving dir .\\features\\train\\white\\5db\n"
     ]
    },
    {
     "name": "stderr",
     "output_type": "stream",
     "text": [
      "\r",
      "Converting train audios:  33%|█████████████████▏                                  | 1524/4620 [00:14<00:26, 117.36it/s]"
     ]
    },
    {
     "name": "stdout",
     "output_type": "stream",
     "text": [
      "saving dir .\\features\\train\\white\\5db\n",
      "saving dir .\\features\\train\\white\\5db\n",
      "saving dir .\\features\\train\\white\\5db\n",
      "saving dir .\\features\\train\\white\\5db\n",
      "saving dir .\\features\\train\\white\\5db\n",
      "saving dir .\\features\\train\\white\\5db\n",
      "saving dir .\\features\\train\\white\\5db\n",
      "saving dir .\\features\\train\\white\\5db\n",
      "saving dir .\\features\\train\\white\\5db\n",
      "saving dir .\\features\\train\\white\\5db\n",
      "saving dir .\\features\\train\\white\\5db\n",
      "saving dir .\\features\\train\\white\\5db\n",
      "saving dir .\\features\\train\\white\\5db\n"
     ]
    },
    {
     "name": "stderr",
     "output_type": "stream",
     "text": [
      "\r",
      "Converting train audios:  33%|█████████████████▎                                  | 1537/4620 [00:14<00:25, 118.99it/s]"
     ]
    },
    {
     "name": "stdout",
     "output_type": "stream",
     "text": [
      "saving dir .\\features\\train\\white\\5db\n",
      "saving dir .\\features\\train\\white\\5db\n",
      "saving dir .\\features\\train\\white\\5db\n",
      "saving dir .\\features\\train\\white\\5db\n",
      "saving dir .\\features\\train\\white\\5db\n",
      "saving dir .\\features\\train\\white\\5db\n",
      "saving dir .\\features\\train\\white\\5db\n",
      "saving dir .\\features\\train\\white\\5db\n",
      "saving dir .\\features\\train\\white\\5db\n",
      "saving dir .\\features\\train\\white\\5db\n",
      "saving dir .\\features\\train\\white\\5db\n",
      "saving dir .\\features\\train\\white\\5db\n",
      "saving dir .\\features\\train\\white\\5db\n"
     ]
    },
    {
     "name": "stderr",
     "output_type": "stream",
     "text": [
      "\r",
      "Converting train audios:  34%|█████████████████▍                                  | 1550/4620 [00:14<00:25, 120.15it/s]"
     ]
    },
    {
     "name": "stdout",
     "output_type": "stream",
     "text": [
      "saving dir .\\features\\train\\white\\5db\n",
      "saving dir .\\features\\train\\white\\5db\n",
      "saving dir .\\features\\train\\white\\5db\n",
      "saving dir .\\features\\train\\white\\5db\n",
      "saving dir .\\features\\train\\white\\5db\n",
      "saving dir .\\features\\train\\white\\5db\n",
      "saving dir .\\features\\train\\white\\5db\n",
      "saving dir .\\features\\train\\white\\5db\n",
      "saving dir .\\features\\train\\white\\5db\n",
      "saving dir .\\features\\train\\white\\5db\n",
      "saving dir .\\features\\train\\white\\5db\n",
      "saving dir .\\features\\train\\white\\5db\n",
      "saving dir .\\features\\train\\white\\5db\n"
     ]
    },
    {
     "name": "stderr",
     "output_type": "stream",
     "text": [
      "\r",
      "Converting train audios:  34%|█████████████████▌                                  | 1563/4620 [00:14<00:25, 118.81it/s]"
     ]
    },
    {
     "name": "stdout",
     "output_type": "stream",
     "text": [
      "saving dir .\\features\\train\\white\\5db\n",
      "saving dir .\\features\\train\\white\\5db\n",
      "saving dir .\\features\\train\\white\\5db\n",
      "saving dir .\\features\\train\\white\\5db\n",
      "saving dir .\\features\\train\\white\\5db\n",
      "saving dir .\\features\\train\\white\\5db\n",
      "saving dir .\\features\\train\\white\\5db\n",
      "saving dir .\\features\\train\\white\\5db\n",
      "saving dir .\\features\\train\\white\\5db\n",
      "saving dir .\\features\\train\\white\\5db\n",
      "saving dir .\\features\\train\\white\\5db\n",
      "saving dir .\\features\\train\\white\\5db\n",
      "saving dir .\\features\\train\\white\\5db\n"
     ]
    },
    {
     "name": "stderr",
     "output_type": "stream",
     "text": [
      "\r",
      "Converting train audios:  34%|█████████████████▋                                  | 1576/4620 [00:14<00:25, 121.03it/s]"
     ]
    },
    {
     "name": "stdout",
     "output_type": "stream",
     "text": [
      "saving dir .\\features\\train\\white\\5db\n",
      "saving dir .\\features\\train\\white\\5db\n",
      "saving dir .\\features\\train\\white\\5db\n",
      "saving dir .\\features\\train\\white\\5db\n",
      "saving dir .\\features\\train\\white\\5db\n",
      "saving dir .\\features\\train\\white\\5db\n",
      "saving dir .\\features\\train\\white\\5db\n",
      "saving dir .\\features\\train\\white\\5db\n",
      "saving dir .\\features\\train\\white\\5db\n",
      "saving dir .\\features\\train\\white\\5db\n",
      "saving dir .\\features\\train\\white\\5db\n",
      "saving dir .\\features\\train\\white\\5db\n",
      "saving dir .\\features\\train\\white\\5db\n"
     ]
    },
    {
     "name": "stderr",
     "output_type": "stream",
     "text": [
      "\r",
      "Converting train audios:  34%|█████████████████▉                                  | 1589/4620 [00:14<00:28, 108.00it/s]"
     ]
    },
    {
     "name": "stdout",
     "output_type": "stream",
     "text": [
      "saving dir .\\features\\train\\white\\5db\n",
      "saving dir .\\features\\train\\white\\5db\n",
      "saving dir .\\features\\train\\white\\5db\n",
      "saving dir .\\features\\train\\white\\5db\n",
      "saving dir .\\features\\train\\white\\5db\n",
      "saving dir .\\features\\train\\white\\5db\n",
      "saving dir .\\features\\train\\white\\5db\n",
      "saving dir .\\features\\train\\white\\5db\n",
      "saving dir .\\features\\train\\white\\5db\n",
      "saving dir .\\features\\train\\white\\5db\n",
      "saving dir .\\features\\train\\white\\5db\n",
      "saving dir .\\features\\train\\white\\5db\n"
     ]
    },
    {
     "name": "stderr",
     "output_type": "stream",
     "text": [
      "\r",
      "Converting train audios:  35%|██████████████████                                  | 1601/4620 [00:14<00:30, 100.28it/s]"
     ]
    },
    {
     "name": "stdout",
     "output_type": "stream",
     "text": [
      "saving dir .\\features\\train\\white\\5db\n",
      "saving dir .\\features\\train\\white\\5db\n",
      "saving dir .\\features\\train\\white\\5db\n",
      "saving dir .\\features\\train\\white\\5db\n",
      "saving dir .\\features\\train\\white\\5db\n",
      "saving dir .\\features\\train\\white\\5db\n",
      "saving dir .\\features\\train\\white\\5db\n",
      "saving dir .\\features\\train\\white\\5db\n",
      "saving dir .\\features\\train\\white\\5db\n",
      "saving dir .\\features\\train\\white\\5db\n",
      "saving dir .\\features\\train\\white\\5db\n",
      "saving dir .\\features\\train\\white\\5db\n"
     ]
    },
    {
     "name": "stderr",
     "output_type": "stream",
     "text": [
      "\r",
      "Converting train audios:  35%|██████████████████▏                                 | 1613/4620 [00:14<00:28, 105.00it/s]"
     ]
    },
    {
     "name": "stdout",
     "output_type": "stream",
     "text": [
      "saving dir .\\features\\train\\white\\5db\n",
      "saving dir .\\features\\train\\white\\5db\n",
      "saving dir .\\features\\train\\white\\5db\n",
      "saving dir .\\features\\train\\white\\5db\n",
      "saving dir .\\features\\train\\white\\5db\n",
      "saving dir .\\features\\train\\white\\5db\n",
      "saving dir .\\features\\train\\white\\5db\n",
      "saving dir .\\features\\train\\white\\5db\n",
      "saving dir .\\features\\train\\white\\5db\n",
      "saving dir .\\features\\train\\white\\5db\n",
      "saving dir .\\features\\train\\white\\5db\n",
      "saving dir .\\features\\train\\white\\5db\n",
      "saving dir .\\features\\train\\white\\5db\n"
     ]
    },
    {
     "name": "stderr",
     "output_type": "stream",
     "text": [
      "\r",
      "Converting train audios:  35%|██████████████████▎                                 | 1626/4620 [00:15<00:26, 111.21it/s]"
     ]
    },
    {
     "name": "stdout",
     "output_type": "stream",
     "text": [
      "saving dir .\\features\\train\\white\\5db\n",
      "saving dir .\\features\\train\\white\\5db\n",
      "saving dir .\\features\\train\\white\\5db\n",
      "saving dir .\\features\\train\\white\\5db\n",
      "saving dir .\\features\\train\\white\\5db\n",
      "saving dir .\\features\\train\\white\\5db\n",
      "saving dir .\\features\\train\\white\\5db\n",
      "saving dir .\\features\\train\\white\\5db\n",
      "saving dir .\\features\\train\\white\\5db\n",
      "saving dir .\\features\\train\\white\\5db\n",
      "saving dir .\\features\\train\\white\\5db\n",
      "saving dir .\\features\\train\\white\\5db\n"
     ]
    },
    {
     "name": "stderr",
     "output_type": "stream",
     "text": [
      "\r",
      "Converting train audios:  35%|██████████████████▍                                 | 1638/4620 [00:15<00:27, 108.87it/s]"
     ]
    },
    {
     "name": "stdout",
     "output_type": "stream",
     "text": [
      "saving dir .\\features\\train\\white\\5db\n",
      "saving dir .\\features\\train\\white\\5db\n",
      "saving dir .\\features\\train\\white\\5db\n",
      "saving dir .\\features\\train\\white\\5db\n",
      "saving dir .\\features\\train\\white\\5db\n",
      "saving dir .\\features\\train\\white\\5db\n",
      "saving dir .\\features\\train\\white\\5db\n",
      "saving dir .\\features\\train\\white\\5db\n",
      "saving dir .\\features\\train\\white\\5db\n",
      "saving dir .\\features\\train\\white\\5db\n",
      "saving dir .\\features\\train\\white\\5db\n",
      "saving dir .\\features\\train\\white\\5db\n",
      "saving dir .\\features\\train\\white\\5db\n"
     ]
    },
    {
     "name": "stderr",
     "output_type": "stream",
     "text": [
      "\r",
      "Converting train audios:  36%|██████████████████▌                                 | 1651/4620 [00:15<00:26, 112.75it/s]"
     ]
    },
    {
     "name": "stdout",
     "output_type": "stream",
     "text": [
      "saving dir .\\features\\train\\white\\5db\n",
      "saving dir .\\features\\train\\white\\5db\n",
      "saving dir .\\features\\train\\white\\5db\n",
      "saving dir .\\features\\train\\white\\5db\n",
      "saving dir .\\features\\train\\white\\5db\n",
      "saving dir .\\features\\train\\white\\5db\n",
      "saving dir .\\features\\train\\white\\5db\n",
      "saving dir .\\features\\train\\white\\5db\n",
      "saving dir .\\features\\train\\white\\5db\n",
      "saving dir .\\features\\train\\white\\5db\n",
      "saving dir .\\features\\train\\white\\5db\n",
      "saving dir .\\features\\train\\white\\5db\n"
     ]
    },
    {
     "name": "stderr",
     "output_type": "stream",
     "text": [
      "\r",
      "Converting train audios:  36%|██████████████████▋                                 | 1663/4620 [00:15<00:26, 112.66it/s]"
     ]
    },
    {
     "name": "stdout",
     "output_type": "stream",
     "text": [
      "saving dir .\\features\\train\\white\\5db\n",
      "saving dir .\\features\\train\\white\\5db\n",
      "saving dir .\\features\\train\\white\\5db\n",
      "saving dir .\\features\\train\\white\\5db\n",
      "saving dir .\\features\\train\\white\\5db\n",
      "saving dir .\\features\\train\\white\\5db\n",
      "saving dir .\\features\\train\\white\\5db\n",
      "saving dir .\\features\\train\\white\\5db\n",
      "saving dir .\\features\\train\\white\\5db\n",
      "saving dir .\\features\\train\\white\\5db\n",
      "saving dir .\\features\\train\\white\\5db\n",
      "saving dir .\\features\\train\\white\\5db\n",
      "saving dir .\\features\\train\\white\\5db\n"
     ]
    },
    {
     "name": "stderr",
     "output_type": "stream",
     "text": [
      "\r",
      "Converting train audios:  36%|██████████████████▊                                 | 1676/4620 [00:15<00:25, 114.95it/s]"
     ]
    },
    {
     "name": "stdout",
     "output_type": "stream",
     "text": [
      "saving dir .\\features\\train\\white\\5db\n",
      "saving dir .\\features\\train\\white\\5db\n",
      "saving dir .\\features\\train\\white\\5db\n",
      "saving dir .\\features\\train\\white\\5db\n",
      "saving dir .\\features\\train\\white\\5db\n",
      "saving dir .\\features\\train\\white\\5db\n",
      "saving dir .\\features\\train\\white\\5db\n",
      "saving dir .\\features\\train\\white\\5db\n",
      "saving dir .\\features\\train\\white\\5db\n",
      "saving dir .\\features\\train\\white\\5db\n",
      "saving dir .\\features\\train\\white\\5db\n",
      "saving dir .\\features\\train\\white\\5db\n"
     ]
    },
    {
     "name": "stderr",
     "output_type": "stream",
     "text": [
      "\r",
      "Converting train audios:  37%|███████████████████▎                                 | 1688/4620 [00:15<00:44, 65.83it/s]"
     ]
    },
    {
     "name": "stdout",
     "output_type": "stream",
     "text": [
      "saving dir .\\features\\train\\white\\5db\n",
      "saving dir .\\features\\train\\white\\5db\n",
      "saving dir .\\features\\train\\white\\5db\n",
      "saving dir .\\features\\train\\white\\5db\n",
      "saving dir .\\features\\train\\white\\5db\n",
      "saving dir .\\features\\train\\white\\5db\n",
      "saving dir .\\features\\train\\white\\5db\n",
      "saving dir .\\features\\train\\white\\5db\n",
      "saving dir .\\features\\train\\white\\5db\n",
      "saving dir .\\features\\train\\white\\5db\n",
      "saving dir .\\features\\train\\white\\5db\n",
      "saving dir .\\features\\train\\white\\5db\n",
      "saving dir .\\features\\train\\white\\5db\n"
     ]
    },
    {
     "name": "stderr",
     "output_type": "stream",
     "text": [
      "\r",
      "Converting train audios:  37%|███████████████████▌                                 | 1701/4620 [00:15<00:38, 76.77it/s]"
     ]
    },
    {
     "name": "stdout",
     "output_type": "stream",
     "text": [
      "saving dir .\\features\\train\\white\\5db\n",
      "saving dir .\\features\\train\\white\\5db\n",
      "saving dir .\\features\\train\\white\\5db\n",
      "saving dir .\\features\\train\\white\\5db\n",
      "saving dir .\\features\\train\\white\\5db\n",
      "saving dir .\\features\\train\\white\\5db\n",
      "saving dir .\\features\\train\\white\\5db\n",
      "saving dir .\\features\\train\\white\\5db\n",
      "saving dir .\\features\\train\\white\\5db\n",
      "saving dir .\\features\\train\\white\\5db\n",
      "saving dir .\\features\\train\\white\\5db\n",
      "saving dir .\\features\\train\\white\\5db\n",
      "saving dir .\\features\\train\\white\\5db\n"
     ]
    },
    {
     "name": "stderr",
     "output_type": "stream",
     "text": [
      "\r",
      "Converting train audios:  37%|███████████████████▋                                 | 1714/4620 [00:16<00:33, 86.69it/s]"
     ]
    },
    {
     "name": "stdout",
     "output_type": "stream",
     "text": [
      "saving dir .\\features\\train\\white\\5db\n",
      "saving dir .\\features\\train\\white\\5db\n",
      "saving dir .\\features\\train\\white\\5db\n",
      "saving dir .\\features\\train\\white\\5db\n",
      "saving dir .\\features\\train\\white\\5db\n",
      "saving dir .\\features\\train\\white\\5db\n",
      "saving dir .\\features\\train\\white\\5db\n",
      "saving dir .\\features\\train\\white\\5db\n",
      "saving dir .\\features\\train\\white\\5db\n",
      "saving dir .\\features\\train\\white\\5db\n",
      "saving dir .\\features\\train\\white\\5db\n",
      "saving dir .\\features\\train\\white\\5db\n"
     ]
    },
    {
     "name": "stderr",
     "output_type": "stream",
     "text": [
      "\r",
      "Converting train audios:  37%|███████████████████▊                                 | 1726/4620 [00:16<00:31, 93.09it/s]"
     ]
    },
    {
     "name": "stdout",
     "output_type": "stream",
     "text": [
      "saving dir .\\features\\train\\white\\5db\n",
      "saving dir .\\features\\train\\white\\5db\n",
      "saving dir .\\features\\train\\white\\5db\n",
      "saving dir .\\features\\train\\white\\5db\n",
      "saving dir .\\features\\train\\white\\5db\n",
      "saving dir .\\features\\train\\white\\5db\n",
      "saving dir .\\features\\train\\white\\5db\n",
      "saving dir .\\features\\train\\white\\5db\n",
      "saving dir .\\features\\train\\white\\5db\n",
      "saving dir .\\features\\train\\white\\5db\n",
      "saving dir .\\features\\train\\white\\5db\n",
      "saving dir .\\features\\train\\white\\5db\n"
     ]
    },
    {
     "name": "stderr",
     "output_type": "stream",
     "text": [
      "\r",
      "Converting train audios:  38%|███████████████████▉                                 | 1738/4620 [00:16<00:29, 97.68it/s]"
     ]
    },
    {
     "name": "stdout",
     "output_type": "stream",
     "text": [
      "saving dir .\\features\\train\\white\\5db\n",
      "saving dir .\\features\\train\\white\\5db\n",
      "saving dir .\\features\\train\\white\\5db\n",
      "saving dir .\\features\\train\\white\\5db\n",
      "saving dir .\\features\\train\\white\\5db\n",
      "saving dir .\\features\\train\\white\\5db\n",
      "saving dir .\\features\\train\\white\\5db\n",
      "saving dir .\\features\\train\\white\\5db\n",
      "saving dir .\\features\\train\\white\\5db\n",
      "saving dir .\\features\\train\\white\\5db\n",
      "saving dir .\\features\\train\\white\\5db\n",
      "saving dir .\\features\\train\\white\\5db\n",
      "saving dir .\\features\\train\\white\\5db\n"
     ]
    },
    {
     "name": "stderr",
     "output_type": "stream",
     "text": [
      "\r",
      "Converting train audios:  38%|███████████████████▋                                | 1751/4620 [00:16<00:27, 105.11it/s]"
     ]
    },
    {
     "name": "stdout",
     "output_type": "stream",
     "text": [
      "saving dir .\\features\\train\\white\\5db\n",
      "saving dir .\\features\\train\\white\\5db\n",
      "saving dir .\\features\\train\\white\\5db\n",
      "saving dir .\\features\\train\\white\\5db\n",
      "saving dir .\\features\\train\\white\\5db\n",
      "saving dir .\\features\\train\\white\\5db\n",
      "saving dir .\\features\\train\\white\\5db\n",
      "saving dir .\\features\\train\\white\\5db\n",
      "saving dir .\\features\\train\\white\\5db\n",
      "saving dir .\\features\\train\\white\\5db\n",
      "saving dir .\\features\\train\\white\\5db\n",
      "saving dir .\\features\\train\\white\\5db\n"
     ]
    },
    {
     "name": "stderr",
     "output_type": "stream",
     "text": [
      "\r",
      "Converting train audios:  38%|███████████████████▊                                | 1763/4620 [00:16<00:28, 101.00it/s]"
     ]
    },
    {
     "name": "stdout",
     "output_type": "stream",
     "text": [
      "saving dir .\\features\\train\\white\\5db\n",
      "saving dir .\\features\\train\\white\\5db\n",
      "saving dir .\\features\\train\\white\\5db\n",
      "saving dir .\\features\\train\\white\\5db\n",
      "saving dir .\\features\\train\\white\\5db\n",
      "saving dir .\\features\\train\\white\\5db\n",
      "saving dir .\\features\\train\\white\\5db\n",
      "saving dir .\\features\\train\\white\\5db\n",
      "saving dir .\\features\\train\\white\\5db\n",
      "saving dir .\\features\\train\\white\\5db\n",
      "saving dir .\\features\\train\\white\\5db\n"
     ]
    },
    {
     "name": "stderr",
     "output_type": "stream",
     "text": [
      "\r",
      "Converting train audios:  38%|████████████████████▎                                | 1774/4620 [00:16<00:29, 98.09it/s]"
     ]
    },
    {
     "name": "stdout",
     "output_type": "stream",
     "text": [
      "saving dir .\\features\\train\\white\\5db\n",
      "saving dir .\\features\\train\\white\\5db\n",
      "saving dir .\\features\\train\\white\\5db\n",
      "saving dir .\\features\\train\\white\\5db\n",
      "saving dir .\\features\\train\\white\\5db\n",
      "saving dir .\\features\\train\\white\\5db\n",
      "saving dir .\\features\\train\\white\\5db\n",
      "saving dir .\\features\\train\\white\\5db\n",
      "saving dir .\\features\\train\\white\\5db\n",
      "saving dir .\\features\\train\\white\\5db\n",
      "saving dir .\\features\\train\\white\\5db\n"
     ]
    },
    {
     "name": "stderr",
     "output_type": "stream",
     "text": [
      "\r",
      "Converting train audios:  39%|████████████████████▍                                | 1785/4620 [00:16<00:29, 95.90it/s]"
     ]
    },
    {
     "name": "stdout",
     "output_type": "stream",
     "text": [
      "saving dir .\\features\\train\\white\\5db\n",
      "saving dir .\\features\\train\\white\\5db\n",
      "saving dir .\\features\\train\\white\\5db\n",
      "saving dir .\\features\\train\\white\\5db\n",
      "saving dir .\\features\\train\\white\\5db\n",
      "saving dir .\\features\\train\\white\\5db\n",
      "saving dir .\\features\\train\\white\\5db\n",
      "saving dir .\\features\\train\\white\\5db\n",
      "saving dir .\\features\\train\\white\\5db\n",
      "saving dir .\\features\\train\\white\\5db\n"
     ]
    },
    {
     "name": "stderr",
     "output_type": "stream",
     "text": [
      "\r",
      "Converting train audios:  39%|████████████████████▌                                | 1795/4620 [00:16<00:30, 92.34it/s]"
     ]
    },
    {
     "name": "stdout",
     "output_type": "stream",
     "text": [
      "saving dir .\\features\\train\\white\\5db\n",
      "saving dir .\\features\\train\\white\\5db\n",
      "saving dir .\\features\\train\\white\\5db\n",
      "saving dir .\\features\\train\\white\\5db\n",
      "saving dir .\\features\\train\\white\\5db\n",
      "saving dir .\\features\\train\\white\\5db\n",
      "saving dir .\\features\\train\\white\\5db\n",
      "saving dir .\\features\\train\\white\\5db\n",
      "saving dir .\\features\\train\\white\\5db\n",
      "saving dir .\\features\\train\\white\\5db\n"
     ]
    },
    {
     "name": "stderr",
     "output_type": "stream",
     "text": [
      "\r",
      "Converting train audios:  39%|████████████████████▋                                | 1805/4620 [00:17<00:30, 92.48it/s]"
     ]
    },
    {
     "name": "stdout",
     "output_type": "stream",
     "text": [
      "saving dir .\\features\\train\\white\\5db\n",
      "saving dir .\\features\\train\\white\\5db\n",
      "saving dir .\\features\\train\\white\\5db\n",
      "saving dir .\\features\\train\\white\\5db\n",
      "saving dir .\\features\\train\\white\\5db\n",
      "saving dir .\\features\\train\\white\\5db\n",
      "saving dir .\\features\\train\\white\\5db\n",
      "saving dir .\\features\\train\\white\\5db\n",
      "saving dir .\\features\\train\\white\\5db\n",
      "saving dir .\\features\\train\\white\\5db\n"
     ]
    },
    {
     "name": "stderr",
     "output_type": "stream",
     "text": [
      "\r",
      "Converting train audios:  39%|████████████████████▊                                | 1815/4620 [00:17<00:30, 92.34it/s]"
     ]
    },
    {
     "name": "stdout",
     "output_type": "stream",
     "text": [
      "saving dir .\\features\\train\\white\\5db\n",
      "saving dir .\\features\\train\\white\\5db\n",
      "saving dir .\\features\\train\\white\\5db\n",
      "saving dir .\\features\\train\\white\\5db\n",
      "saving dir .\\features\\train\\white\\5db\n",
      "saving dir .\\features\\train\\white\\5db\n",
      "saving dir .\\features\\train\\white\\5db\n",
      "saving dir .\\features\\train\\white\\5db\n",
      "saving dir .\\features\\train\\white\\5db\n",
      "saving dir .\\features\\train\\white\\5db\n"
     ]
    },
    {
     "name": "stderr",
     "output_type": "stream",
     "text": [
      "\r",
      "Converting train audios:  40%|████████████████████▉                                | 1825/4620 [00:17<00:30, 90.98it/s]"
     ]
    },
    {
     "name": "stdout",
     "output_type": "stream",
     "text": [
      "saving dir .\\features\\train\\white\\5db\n",
      "saving dir .\\features\\train\\white\\5db\n",
      "saving dir .\\features\\train\\white\\5db\n",
      "saving dir .\\features\\train\\white\\5db\n",
      "saving dir .\\features\\train\\white\\5db\n",
      "saving dir .\\features\\train\\white\\5db\n",
      "saving dir .\\features\\train\\white\\5db\n",
      "saving dir .\\features\\train\\white\\5db\n",
      "saving dir .\\features\\train\\white\\5db\n",
      "saving dir .\\features\\train\\white\\5db\n"
     ]
    },
    {
     "name": "stderr",
     "output_type": "stream",
     "text": [
      "\r",
      "Converting train audios:  40%|█████████████████████                                | 1835/4620 [00:17<00:30, 92.03it/s]"
     ]
    },
    {
     "name": "stdout",
     "output_type": "stream",
     "text": [
      "saving dir .\\features\\train\\white\\5db\n",
      "saving dir .\\features\\train\\white\\5db\n",
      "saving dir .\\features\\train\\white\\5db\n",
      "saving dir .\\features\\train\\white\\5db\n",
      "saving dir .\\features\\train\\white\\5db\n",
      "saving dir .\\features\\train\\white\\5db\n",
      "saving dir .\\features\\train\\white\\5db\n",
      "saving dir .\\features\\train\\white\\5db\n",
      "saving dir .\\features\\train\\white\\5db\n",
      "saving dir .\\features\\train\\white\\5db\n"
     ]
    },
    {
     "name": "stderr",
     "output_type": "stream",
     "text": [
      "\r",
      "Converting train audios:  40%|█████████████████████▏                               | 1845/4620 [00:17<00:30, 92.27it/s]"
     ]
    },
    {
     "name": "stdout",
     "output_type": "stream",
     "text": [
      "saving dir .\\features\\train\\white\\5db\n",
      "saving dir .\\features\\train\\white\\5db\n",
      "saving dir .\\features\\train\\white\\5db\n",
      "saving dir .\\features\\train\\white\\5db\n",
      "saving dir .\\features\\train\\white\\5db\n",
      "saving dir .\\features\\train\\white\\5db\n",
      "saving dir .\\features\\train\\white\\5db\n",
      "saving dir .\\features\\train\\white\\5db\n",
      "saving dir .\\features\\train\\white\\5db\n",
      "saving dir .\\features\\train\\white\\5db\n"
     ]
    },
    {
     "name": "stderr",
     "output_type": "stream",
     "text": [
      "\r",
      "Converting train audios:  40%|█████████████████████▎                               | 1855/4620 [00:17<00:30, 90.69it/s]"
     ]
    },
    {
     "name": "stdout",
     "output_type": "stream",
     "text": [
      "saving dir .\\features\\train\\white\\5db\n",
      "saving dir .\\features\\train\\white\\5db\n",
      "saving dir .\\features\\train\\white\\5db\n",
      "saving dir .\\features\\train\\white\\5db\n",
      "saving dir .\\features\\train\\white\\5db\n",
      "saving dir .\\features\\train\\white\\5db\n",
      "saving dir .\\features\\train\\white\\5db\n",
      "saving dir .\\features\\train\\white\\5db\n",
      "saving dir .\\features\\train\\white\\5db\n",
      "saving dir .\\features\\train\\white\\5db\n"
     ]
    },
    {
     "name": "stderr",
     "output_type": "stream",
     "text": [
      "\r",
      "Converting train audios:  40%|█████████████████████▍                               | 1865/4620 [00:17<00:30, 90.09it/s]"
     ]
    },
    {
     "name": "stdout",
     "output_type": "stream",
     "text": [
      "saving dir .\\features\\train\\white\\5db\n",
      "saving dir .\\features\\train\\white\\5db\n",
      "saving dir .\\features\\train\\white\\5db\n",
      "saving dir .\\features\\train\\white\\5db\n",
      "saving dir .\\features\\train\\white\\5db\n",
      "saving dir .\\features\\train\\white\\5db\n",
      "saving dir .\\features\\train\\white\\5db\n",
      "saving dir .\\features\\train\\white\\5db\n",
      "saving dir .\\features\\train\\white\\5db\n",
      "saving dir .\\features\\train\\white\\5db\n"
     ]
    },
    {
     "name": "stderr",
     "output_type": "stream",
     "text": [
      "\r",
      "Converting train audios:  41%|█████████████████████▌                               | 1875/4620 [00:17<00:30, 88.96it/s]"
     ]
    },
    {
     "name": "stdout",
     "output_type": "stream",
     "text": [
      "saving dir .\\features\\train\\white\\5db\n",
      "saving dir .\\features\\train\\white\\5db\n",
      "saving dir .\\features\\train\\white\\5db\n",
      "saving dir .\\features\\train\\white\\5db\n",
      "saving dir .\\features\\train\\white\\5db\n",
      "saving dir .\\features\\train\\white\\5db\n",
      "saving dir .\\features\\train\\white\\5db\n",
      "saving dir .\\features\\train\\white\\5db\n",
      "saving dir .\\features\\train\\white\\5db\n"
     ]
    },
    {
     "name": "stderr",
     "output_type": "stream",
     "text": [
      "\r",
      "Converting train audios:  41%|█████████████████████▌                               | 1884/4620 [00:17<00:32, 84.33it/s]"
     ]
    },
    {
     "name": "stdout",
     "output_type": "stream",
     "text": [
      "saving dir .\\features\\train\\white\\5db\n",
      "saving dir .\\features\\train\\white\\5db\n",
      "saving dir .\\features\\train\\white\\5db\n",
      "saving dir .\\features\\train\\white\\5db\n",
      "saving dir .\\features\\train\\white\\5db\n",
      "saving dir .\\features\\train\\white\\5db\n",
      "saving dir .\\features\\train\\white\\5db\n",
      "saving dir .\\features\\train\\white\\5db\n",
      "saving dir .\\features\\train\\white\\5db\n",
      "saving dir .\\features\\train\\white\\5db\n"
     ]
    },
    {
     "name": "stderr",
     "output_type": "stream",
     "text": [
      "\r",
      "Converting train audios:  41%|█████████████████████▋                               | 1894/4620 [00:18<00:31, 87.17it/s]"
     ]
    },
    {
     "name": "stdout",
     "output_type": "stream",
     "text": [
      "saving dir .\\features\\train\\white\\5db\n",
      "saving dir .\\features\\train\\white\\5db\n",
      "saving dir .\\features\\train\\white\\5db\n",
      "saving dir .\\features\\train\\white\\5db\n",
      "saving dir .\\features\\train\\white\\5db\n",
      "saving dir .\\features\\train\\white\\5db\n",
      "saving dir .\\features\\train\\white\\5db\n",
      "saving dir .\\features\\train\\white\\5db\n",
      "saving dir .\\features\\train\\white\\5db\n",
      "saving dir .\\features\\train\\white\\5db\n"
     ]
    },
    {
     "name": "stderr",
     "output_type": "stream",
     "text": [
      "\r",
      "Converting train audios:  41%|█████████████████████▊                               | 1904/4620 [00:18<00:30, 89.03it/s]"
     ]
    },
    {
     "name": "stdout",
     "output_type": "stream",
     "text": [
      "saving dir .\\features\\train\\white\\5db\n",
      "saving dir .\\features\\train\\white\\5db\n",
      "saving dir .\\features\\train\\white\\5db\n",
      "saving dir .\\features\\train\\white\\5db\n",
      "saving dir .\\features\\train\\white\\5db\n",
      "saving dir .\\features\\train\\white\\5db\n",
      "saving dir .\\features\\train\\white\\5db\n",
      "saving dir .\\features\\train\\white\\5db\n",
      "saving dir .\\features\\train\\white\\5db\n"
     ]
    },
    {
     "name": "stderr",
     "output_type": "stream",
     "text": [
      "\r",
      "Converting train audios:  41%|█████████████████████▉                               | 1913/4620 [00:18<00:39, 68.44it/s]"
     ]
    },
    {
     "name": "stdout",
     "output_type": "stream",
     "text": [
      "saving dir .\\features\\train\\white\\5db\n",
      "saving dir .\\features\\train\\white\\5db\n",
      "saving dir .\\features\\train\\white\\5db\n",
      "saving dir .\\features\\train\\white\\5db\n",
      "saving dir .\\features\\train\\white\\5db\n",
      "saving dir .\\features\\train\\white\\5db\n",
      "saving dir .\\features\\train\\white\\5db\n",
      "saving dir .\\features\\train\\white\\5db\n",
      "saving dir .\\features\\train\\white\\5db\n"
     ]
    },
    {
     "name": "stderr",
     "output_type": "stream",
     "text": [
      "\r",
      "Converting train audios:  42%|██████████████████████                               | 1922/4620 [00:18<00:37, 72.89it/s]"
     ]
    },
    {
     "name": "stdout",
     "output_type": "stream",
     "text": [
      "saving dir .\\features\\train\\white\\5db\n",
      "saving dir .\\features\\train\\white\\5db\n",
      "saving dir .\\features\\train\\white\\5db\n",
      "saving dir .\\features\\train\\white\\5db\n",
      "saving dir .\\features\\train\\white\\5db\n",
      "saving dir .\\features\\train\\white\\5db\n",
      "saving dir .\\features\\train\\white\\5db\n",
      "saving dir .\\features\\train\\white\\5db\n",
      "saving dir .\\features\\train\\white\\5db\n"
     ]
    },
    {
     "name": "stderr",
     "output_type": "stream",
     "text": [
      "\r",
      "Converting train audios:  42%|██████████████████████▏                              | 1931/4620 [00:18<00:35, 76.57it/s]"
     ]
    },
    {
     "name": "stdout",
     "output_type": "stream",
     "text": [
      "saving dir .\\features\\train\\white\\5db\n",
      "saving dir .\\features\\train\\white\\5db\n",
      "saving dir .\\features\\train\\white\\5db\n",
      "saving dir .\\features\\train\\white\\5db\n",
      "saving dir .\\features\\train\\white\\5db\n",
      "saving dir .\\features\\train\\white\\5db\n",
      "saving dir .\\features\\train\\white\\5db\n",
      "saving dir .\\features\\train\\white\\5db\n",
      "saving dir .\\features\\train\\white\\5db\n",
      "saving dir .\\features\\train\\white\\5db\n"
     ]
    },
    {
     "name": "stderr",
     "output_type": "stream",
     "text": [
      "\r",
      "Converting train audios:  42%|██████████████████████▎                              | 1941/4620 [00:18<00:32, 81.61it/s]"
     ]
    },
    {
     "name": "stdout",
     "output_type": "stream",
     "text": [
      "saving dir .\\features\\train\\white\\5db\n",
      "saving dir .\\features\\train\\white\\5db\n",
      "saving dir .\\features\\train\\white\\5db\n",
      "saving dir .\\features\\train\\white\\5db\n",
      "saving dir .\\features\\train\\white\\5db\n",
      "saving dir .\\features\\train\\white\\5db\n",
      "saving dir .\\features\\train\\white\\5db\n",
      "saving dir .\\features\\train\\white\\5db\n",
      "saving dir .\\features\\train\\white\\5db\n"
     ]
    },
    {
     "name": "stderr",
     "output_type": "stream",
     "text": [
      "\r",
      "Converting train audios:  42%|██████████████████████▎                              | 1950/4620 [00:18<00:32, 81.29it/s]"
     ]
    },
    {
     "name": "stdout",
     "output_type": "stream",
     "text": [
      "saving dir .\\features\\train\\white\\5db\n",
      "saving dir .\\features\\train\\white\\5db\n",
      "saving dir .\\features\\train\\white\\5db\n",
      "saving dir .\\features\\train\\white\\5db\n",
      "saving dir .\\features\\train\\white\\5db\n",
      "saving dir .\\features\\train\\white\\5db\n",
      "saving dir .\\features\\train\\white\\5db\n",
      "saving dir .\\features\\train\\white\\5db\n",
      "saving dir .\\features\\train\\white\\5db\n"
     ]
    },
    {
     "name": "stderr",
     "output_type": "stream",
     "text": [
      "\r",
      "Converting train audios:  42%|██████████████████████▍                              | 1959/4620 [00:18<00:31, 83.55it/s]"
     ]
    },
    {
     "name": "stdout",
     "output_type": "stream",
     "text": [
      "saving dir .\\features\\train\\white\\5db\n",
      "saving dir .\\features\\train\\white\\5db\n",
      "saving dir .\\features\\train\\white\\5db\n",
      "saving dir .\\features\\train\\white\\5db\n",
      "saving dir .\\features\\train\\white\\5db\n",
      "saving dir .\\features\\train\\white\\5db\n",
      "saving dir .\\features\\train\\white\\5db\n",
      "saving dir .\\features\\train\\white\\5db\n",
      "saving dir .\\features\\train\\white\\5db\n"
     ]
    },
    {
     "name": "stderr",
     "output_type": "stream",
     "text": [
      "\r",
      "Converting train audios:  43%|██████████████████████▌                              | 1968/4620 [00:18<00:31, 83.79it/s]"
     ]
    },
    {
     "name": "stdout",
     "output_type": "stream",
     "text": [
      "saving dir .\\features\\train\\white\\5db\n",
      "saving dir .\\features\\train\\white\\5db\n",
      "saving dir .\\features\\train\\white\\5db\n",
      "saving dir .\\features\\train\\white\\5db\n",
      "saving dir .\\features\\train\\white\\5db\n",
      "saving dir .\\features\\train\\white\\5db\n",
      "saving dir .\\features\\train\\white\\5db\n",
      "saving dir .\\features\\train\\white\\5db\n",
      "saving dir .\\features\\train\\white\\5db\n",
      "saving dir .\\features\\train\\white\\5db\n"
     ]
    },
    {
     "name": "stderr",
     "output_type": "stream",
     "text": [
      "\r",
      "Converting train audios:  43%|██████████████████████▋                              | 1978/4620 [00:19<00:30, 86.75it/s]"
     ]
    },
    {
     "name": "stdout",
     "output_type": "stream",
     "text": [
      "saving dir .\\features\\train\\white\\5db\n",
      "saving dir .\\features\\train\\white\\5db\n",
      "saving dir .\\features\\train\\white\\5db\n",
      "saving dir .\\features\\train\\white\\5db\n",
      "saving dir .\\features\\train\\white\\5db\n",
      "saving dir .\\features\\train\\white\\5db\n",
      "saving dir .\\features\\train\\white\\5db\n",
      "saving dir .\\features\\train\\white\\5db\n",
      "saving dir .\\features\\train\\white\\5db\n",
      "saving dir .\\features\\train\\white\\5db\n"
     ]
    },
    {
     "name": "stderr",
     "output_type": "stream",
     "text": [
      "\r",
      "Converting train audios:  43%|██████████████████████▊                              | 1988/4620 [00:19<00:29, 88.97it/s]"
     ]
    },
    {
     "name": "stdout",
     "output_type": "stream",
     "text": [
      "saving dir .\\features\\train\\white\\5db\n",
      "saving dir .\\features\\train\\white\\5db\n",
      "saving dir .\\features\\train\\white\\5db\n",
      "saving dir .\\features\\train\\white\\5db\n",
      "saving dir .\\features\\train\\white\\5db\n",
      "saving dir .\\features\\train\\white\\5db\n",
      "saving dir .\\features\\train\\white\\5db\n",
      "saving dir .\\features\\train\\white\\5db\n",
      "saving dir .\\features\\train\\white\\5db\n",
      "saving dir .\\features\\train\\white\\5db\n"
     ]
    },
    {
     "name": "stderr",
     "output_type": "stream",
     "text": [
      "\r",
      "Converting train audios:  43%|██████████████████████▉                              | 1998/4620 [00:19<00:29, 89.86it/s]"
     ]
    },
    {
     "name": "stdout",
     "output_type": "stream",
     "text": [
      "saving dir .\\features\\train\\white\\5db\n",
      "saving dir .\\features\\train\\white\\5db\n",
      "saving dir .\\features\\train\\white\\5db\n",
      "saving dir .\\features\\train\\white\\5db\n",
      "saving dir .\\features\\train\\white\\5db\n",
      "saving dir .\\features\\train\\white\\5db\n",
      "saving dir .\\features\\train\\white\\5db\n",
      "saving dir .\\features\\train\\white\\5db\n",
      "saving dir .\\features\\train\\white\\5db\n",
      "saving dir .\\features\\train\\white\\5db\n"
     ]
    },
    {
     "name": "stderr",
     "output_type": "stream",
     "text": [
      "\r",
      "Converting train audios:  43%|███████████████████████                              | 2008/4620 [00:19<00:28, 90.98it/s]"
     ]
    },
    {
     "name": "stdout",
     "output_type": "stream",
     "text": [
      "saving dir .\\features\\train\\white\\5db\n",
      "saving dir .\\features\\train\\white\\5db\n",
      "saving dir .\\features\\train\\white\\5db\n",
      "saving dir .\\features\\train\\white\\5db\n",
      "saving dir .\\features\\train\\white\\5db\n",
      "saving dir .\\features\\train\\white\\5db\n",
      "saving dir .\\features\\train\\white\\5db\n",
      "saving dir .\\features\\train\\white\\5db\n",
      "saving dir .\\features\\train\\white\\5db\n",
      "saving dir .\\features\\train\\white\\5db\n"
     ]
    },
    {
     "name": "stderr",
     "output_type": "stream",
     "text": [
      "\r",
      "Converting train audios:  44%|███████████████████████▏                             | 2018/4620 [00:19<00:28, 91.27it/s]"
     ]
    },
    {
     "name": "stdout",
     "output_type": "stream",
     "text": [
      "saving dir .\\features\\train\\white\\5db\n",
      "saving dir .\\features\\train\\white\\5db\n",
      "saving dir .\\features\\train\\white\\5db\n",
      "saving dir .\\features\\train\\white\\5db\n",
      "saving dir .\\features\\train\\white\\5db\n",
      "saving dir .\\features\\train\\white\\5db\n",
      "saving dir .\\features\\train\\white\\5db\n",
      "saving dir .\\features\\train\\white\\5db\n",
      "saving dir .\\features\\train\\white\\5db\n",
      "saving dir .\\features\\train\\white\\5db\n"
     ]
    },
    {
     "name": "stderr",
     "output_type": "stream",
     "text": [
      "\r",
      "Converting train audios:  44%|███████████████████████▎                             | 2028/4620 [00:19<00:28, 89.77it/s]"
     ]
    },
    {
     "name": "stdout",
     "output_type": "stream",
     "text": [
      "saving dir .\\features\\train\\white\\5db\n",
      "saving dir .\\features\\train\\white\\5db\n",
      "saving dir .\\features\\train\\white\\5db\n",
      "saving dir .\\features\\train\\white\\5db\n",
      "saving dir .\\features\\train\\white\\5db\n",
      "saving dir .\\features\\train\\white\\5db\n",
      "saving dir .\\features\\train\\white\\5db\n",
      "saving dir .\\features\\train\\white\\5db\n",
      "saving dir .\\features\\train\\white\\5db\n",
      "saving dir .\\features\\train\\white\\5db\n"
     ]
    },
    {
     "name": "stderr",
     "output_type": "stream",
     "text": [
      "\r",
      "Converting train audios:  44%|███████████████████████▍                             | 2038/4620 [00:19<00:38, 67.43it/s]"
     ]
    },
    {
     "name": "stdout",
     "output_type": "stream",
     "text": [
      "saving dir .\\features\\train\\white\\5db\n",
      "saving dir .\\features\\train\\white\\5db\n",
      "saving dir .\\features\\train\\white\\5db\n",
      "saving dir .\\features\\train\\white\\5db\n",
      "saving dir .\\features\\train\\white\\5db\n",
      "saving dir .\\features\\train\\white\\5db\n",
      "saving dir .\\features\\train\\white\\5db\n",
      "saving dir .\\features\\train\\white\\5db\n"
     ]
    },
    {
     "name": "stderr",
     "output_type": "stream",
     "text": [
      "\r",
      "Converting train audios:  44%|███████████████████████▍                             | 2046/4620 [00:20<00:42, 60.83it/s]"
     ]
    },
    {
     "name": "stdout",
     "output_type": "stream",
     "text": [
      "saving dir .\\features\\train\\white\\5db\n",
      "saving dir .\\features\\train\\white\\5db\n",
      "saving dir .\\features\\train\\white\\5db\n",
      "saving dir .\\features\\train\\white\\5db\n",
      "saving dir .\\features\\train\\white\\5db\n",
      "saving dir .\\features\\train\\white\\5db\n",
      "saving dir .\\features\\train\\white\\5db\n",
      "saving dir .\\features\\train\\white\\5db\n",
      "saving dir .\\features\\train\\white\\5db\n",
      "saving dir .\\features\\train\\white\\5db\n"
     ]
    },
    {
     "name": "stderr",
     "output_type": "stream",
     "text": [
      "\r",
      "Converting train audios:  45%|███████████████████████▌                             | 2056/4620 [00:20<00:37, 67.99it/s]"
     ]
    },
    {
     "name": "stdout",
     "output_type": "stream",
     "text": [
      "saving dir .\\features\\train\\white\\5db\n",
      "saving dir .\\features\\train\\white\\5db\n",
      "saving dir .\\features\\train\\white\\5db\n",
      "saving dir .\\features\\train\\white\\5db\n",
      "saving dir .\\features\\train\\white\\5db\n",
      "saving dir .\\features\\train\\white\\5db\n",
      "saving dir .\\features\\train\\white\\5db\n",
      "saving dir .\\features\\train\\white\\5db\n",
      "saving dir .\\features\\train\\white\\5db\n"
     ]
    },
    {
     "name": "stderr",
     "output_type": "stream",
     "text": [
      "\r",
      "Converting train audios:  45%|███████████████████████▋                             | 2065/4620 [00:20<00:35, 71.00it/s]"
     ]
    },
    {
     "name": "stdout",
     "output_type": "stream",
     "text": [
      "saving dir .\\features\\train\\white\\5db\n",
      "saving dir .\\features\\train\\white\\5db\n",
      "saving dir .\\features\\train\\white\\5db\n",
      "saving dir .\\features\\train\\white\\5db\n",
      "saving dir .\\features\\train\\white\\5db\n",
      "saving dir .\\features\\train\\white\\5db\n",
      "saving dir .\\features\\train\\white\\5db\n",
      "saving dir .\\features\\train\\white\\5db\n",
      "saving dir .\\features\\train\\white\\5db\n"
     ]
    },
    {
     "name": "stderr",
     "output_type": "stream",
     "text": [
      "\r",
      "Converting train audios:  45%|███████████████████████▊                             | 2074/4620 [00:20<00:34, 74.71it/s]"
     ]
    },
    {
     "name": "stdout",
     "output_type": "stream",
     "text": [
      "saving dir .\\features\\train\\white\\5db\n",
      "saving dir .\\features\\train\\white\\5db\n",
      "saving dir .\\features\\train\\white\\5db\n",
      "saving dir .\\features\\train\\white\\5db\n",
      "saving dir .\\features\\train\\white\\5db\n",
      "saving dir .\\features\\train\\white\\5db\n",
      "saving dir .\\features\\train\\white\\5db\n",
      "saving dir .\\features\\train\\white\\5db\n",
      "saving dir .\\features\\train\\white\\5db\n"
     ]
    },
    {
     "name": "stderr",
     "output_type": "stream",
     "text": [
      "\r",
      "Converting train audios:  45%|███████████████████████▉                             | 2083/4620 [00:20<00:32, 77.97it/s]"
     ]
    },
    {
     "name": "stdout",
     "output_type": "stream",
     "text": [
      "saving dir .\\features\\train\\white\\5db\n",
      "saving dir .\\features\\train\\white\\5db\n",
      "saving dir .\\features\\train\\white\\5db\n",
      "saving dir .\\features\\train\\white\\5db\n",
      "saving dir .\\features\\train\\white\\5db\n",
      "saving dir .\\features\\train\\white\\5db\n",
      "saving dir .\\features\\train\\white\\5db\n",
      "saving dir .\\features\\train\\white\\5db\n",
      "saving dir .\\features\\train\\white\\5db\n",
      "saving dir .\\features\\train\\white\\5db\n"
     ]
    },
    {
     "name": "stderr",
     "output_type": "stream",
     "text": [
      "\r",
      "Converting train audios:  45%|████████████████████████                             | 2093/4620 [00:20<00:31, 81.31it/s]"
     ]
    },
    {
     "name": "stdout",
     "output_type": "stream",
     "text": [
      "saving dir .\\features\\train\\white\\5db\n",
      "saving dir .\\features\\train\\white\\5db\n",
      "saving dir .\\features\\train\\white\\5db\n",
      "saving dir .\\features\\train\\white\\5db\n",
      "saving dir .\\features\\train\\white\\5db\n",
      "saving dir .\\features\\train\\white\\5db\n",
      "saving dir .\\features\\train\\white\\5db\n",
      "saving dir .\\features\\train\\white\\5db\n",
      "saving dir .\\features\\train\\white\\5db\n"
     ]
    },
    {
     "name": "stderr",
     "output_type": "stream",
     "text": [
      "\r",
      "Converting train audios:  45%|████████████████████████                             | 2102/4620 [00:20<00:30, 82.64it/s]"
     ]
    },
    {
     "name": "stdout",
     "output_type": "stream",
     "text": [
      "saving dir .\\features\\train\\white\\5db\n",
      "saving dir .\\features\\train\\white\\5db\n",
      "saving dir .\\features\\train\\white\\5db\n",
      "saving dir .\\features\\train\\white\\5db\n",
      "saving dir .\\features\\train\\white\\5db\n",
      "saving dir .\\features\\train\\white\\5db\n",
      "saving dir .\\features\\train\\white\\5db\n",
      "saving dir .\\features\\train\\white\\5db\n",
      "saving dir .\\features\\train\\white\\5db\n"
     ]
    },
    {
     "name": "stderr",
     "output_type": "stream",
     "text": [
      "\r",
      "Converting train audios:  46%|████████████████████████▏                            | 2111/4620 [00:20<00:30, 82.01it/s]"
     ]
    },
    {
     "name": "stdout",
     "output_type": "stream",
     "text": [
      "saving dir .\\features\\train\\white\\5db\n",
      "saving dir .\\features\\train\\white\\5db\n",
      "saving dir .\\features\\train\\white\\5db\n",
      "saving dir .\\features\\train\\white\\5db\n",
      "saving dir .\\features\\train\\white\\5db\n",
      "saving dir .\\features\\train\\white\\5db\n",
      "saving dir .\\features\\train\\white\\5db\n",
      "saving dir .\\features\\train\\white\\5db\n",
      "saving dir .\\features\\train\\white\\5db\n"
     ]
    },
    {
     "name": "stderr",
     "output_type": "stream",
     "text": [
      "\r",
      "Converting train audios:  46%|████████████████████████▎                            | 2120/4620 [00:20<00:29, 83.85it/s]"
     ]
    },
    {
     "name": "stdout",
     "output_type": "stream",
     "text": [
      "saving dir .\\features\\train\\white\\5db\n",
      "saving dir .\\features\\train\\white\\5db\n",
      "saving dir .\\features\\train\\white\\5db\n",
      "saving dir .\\features\\train\\white\\5db\n",
      "saving dir .\\features\\train\\white\\5db\n",
      "saving dir .\\features\\train\\white\\5db\n",
      "saving dir .\\features\\train\\white\\5db\n",
      "saving dir .\\features\\train\\white\\5db\n",
      "saving dir .\\features\\train\\white\\5db\n"
     ]
    },
    {
     "name": "stderr",
     "output_type": "stream",
     "text": [
      "\r",
      "Converting train audios:  46%|████████████████████████▍                            | 2129/4620 [00:20<00:29, 85.42it/s]"
     ]
    },
    {
     "name": "stdout",
     "output_type": "stream",
     "text": [
      "saving dir .\\features\\train\\white\\5db\n",
      "saving dir .\\features\\train\\white\\5db\n",
      "saving dir .\\features\\train\\white\\5db\n",
      "saving dir .\\features\\train\\white\\5db\n",
      "saving dir .\\features\\train\\white\\5db\n",
      "saving dir .\\features\\train\\white\\5db\n",
      "saving dir .\\features\\train\\white\\5db\n",
      "saving dir .\\features\\train\\white\\5db\n",
      "saving dir .\\features\\train\\white\\5db\n",
      "saving dir .\\features\\train\\white\\5db\n"
     ]
    },
    {
     "name": "stderr",
     "output_type": "stream",
     "text": [
      "\r",
      "Converting train audios:  46%|████████████████████████▌                            | 2139/4620 [00:21<00:28, 87.98it/s]"
     ]
    },
    {
     "name": "stdout",
     "output_type": "stream",
     "text": [
      "saving dir .\\features\\train\\white\\5db\n",
      "saving dir .\\features\\train\\white\\5db\n",
      "saving dir .\\features\\train\\white\\5db\n",
      "saving dir .\\features\\train\\white\\5db\n",
      "saving dir .\\features\\train\\white\\5db\n",
      "saving dir .\\features\\train\\white\\5db\n",
      "saving dir .\\features\\train\\white\\5db\n",
      "saving dir .\\features\\train\\white\\5db\n",
      "saving dir .\\features\\train\\white\\5db\n",
      "saving dir .\\features\\train\\white\\5db\n"
     ]
    },
    {
     "name": "stderr",
     "output_type": "stream",
     "text": [
      "\r",
      "Converting train audios:  47%|████████████████████████▋                            | 2149/4620 [00:21<00:27, 90.11it/s]"
     ]
    },
    {
     "name": "stdout",
     "output_type": "stream",
     "text": [
      "saving dir .\\features\\train\\white\\5db\n",
      "saving dir .\\features\\train\\white\\5db\n",
      "saving dir .\\features\\train\\white\\5db\n",
      "saving dir .\\features\\train\\white\\5db\n",
      "saving dir .\\features\\train\\white\\5db\n",
      "saving dir .\\features\\train\\white\\5db\n",
      "saving dir .\\features\\train\\white\\5db\n",
      "saving dir .\\features\\train\\white\\5db\n",
      "saving dir .\\features\\train\\white\\5db\n",
      "saving dir .\\features\\train\\white\\5db\n"
     ]
    },
    {
     "name": "stderr",
     "output_type": "stream",
     "text": [
      "\r",
      "Converting train audios:  47%|████████████████████████▊                            | 2159/4620 [00:21<00:33, 72.87it/s]"
     ]
    },
    {
     "name": "stdout",
     "output_type": "stream",
     "text": [
      "saving dir .\\features\\train\\white\\5db\n",
      "saving dir .\\features\\train\\white\\5db\n",
      "saving dir .\\features\\train\\white\\5db\n",
      "saving dir .\\features\\train\\white\\5db\n",
      "saving dir .\\features\\train\\white\\5db\n",
      "saving dir .\\features\\train\\white\\5db\n",
      "saving dir .\\features\\train\\white\\5db\n",
      "saving dir .\\features\\train\\white\\5db\n",
      "saving dir .\\features\\train\\white\\5db\n",
      "saving dir .\\features\\train\\white\\5db\n"
     ]
    },
    {
     "name": "stderr",
     "output_type": "stream",
     "text": [
      "\r",
      "Converting train audios:  47%|████████████████████████▉                            | 2169/4620 [00:21<00:31, 78.63it/s]"
     ]
    },
    {
     "name": "stdout",
     "output_type": "stream",
     "text": [
      "saving dir .\\features\\train\\white\\5db\n",
      "saving dir .\\features\\train\\white\\5db\n",
      "saving dir .\\features\\train\\white\\5db\n",
      "saving dir .\\features\\train\\white\\5db\n",
      "saving dir .\\features\\train\\white\\5db\n",
      "saving dir .\\features\\train\\white\\5db\n",
      "saving dir .\\features\\train\\white\\5db\n",
      "saving dir .\\features\\train\\white\\5db\n",
      "saving dir .\\features\\train\\white\\5db\n",
      "saving dir .\\features\\train\\white\\5db\n"
     ]
    },
    {
     "name": "stderr",
     "output_type": "stream",
     "text": [
      "\r",
      "Converting train audios:  47%|████████████████████████▉                            | 2179/4620 [00:21<00:29, 81.41it/s]"
     ]
    },
    {
     "name": "stdout",
     "output_type": "stream",
     "text": [
      "saving dir .\\features\\train\\white\\5db\n",
      "saving dir .\\features\\train\\white\\5db\n",
      "saving dir .\\features\\train\\white\\5db\n",
      "saving dir .\\features\\train\\white\\5db\n",
      "saving dir .\\features\\train\\white\\5db\n",
      "saving dir .\\features\\train\\white\\5db\n",
      "saving dir .\\features\\train\\white\\5db\n",
      "saving dir .\\features\\train\\white\\5db\n",
      "saving dir .\\features\\train\\white\\5db\n"
     ]
    },
    {
     "name": "stderr",
     "output_type": "stream",
     "text": [
      "\r",
      "Converting train audios:  47%|█████████████████████████                            | 2188/4620 [00:21<00:29, 82.72it/s]"
     ]
    },
    {
     "name": "stdout",
     "output_type": "stream",
     "text": [
      "saving dir .\\features\\train\\white\\5db\n",
      "saving dir .\\features\\train\\white\\5db\n",
      "saving dir .\\features\\train\\white\\5db\n",
      "saving dir .\\features\\train\\white\\5db\n",
      "saving dir .\\features\\train\\white\\5db\n",
      "saving dir .\\features\\train\\white\\5db\n",
      "saving dir .\\features\\train\\white\\5db\n",
      "saving dir .\\features\\train\\white\\5db\n",
      "saving dir .\\features\\train\\white\\5db\n",
      "saving dir .\\features\\train\\white\\5db\n"
     ]
    },
    {
     "name": "stderr",
     "output_type": "stream",
     "text": [
      "\r",
      "Converting train audios:  48%|█████████████████████████▏                           | 2198/4620 [00:21<00:28, 85.74it/s]"
     ]
    },
    {
     "name": "stdout",
     "output_type": "stream",
     "text": [
      "saving dir .\\features\\train\\white\\5db\n",
      "saving dir .\\features\\train\\white\\5db\n",
      "saving dir .\\features\\train\\white\\5db\n",
      "saving dir .\\features\\train\\white\\5db\n",
      "saving dir .\\features\\train\\white\\5db\n",
      "saving dir .\\features\\train\\white\\5db\n",
      "saving dir .\\features\\train\\white\\5db\n",
      "saving dir .\\features\\train\\white\\5db\n",
      "saving dir .\\features\\train\\white\\5db\n",
      "saving dir .\\features\\train\\white\\5db\n"
     ]
    },
    {
     "name": "stderr",
     "output_type": "stream",
     "text": [
      "\r",
      "Converting train audios:  48%|█████████████████████████▎                           | 2208/4620 [00:21<00:27, 87.75it/s]"
     ]
    },
    {
     "name": "stdout",
     "output_type": "stream",
     "text": [
      "saving dir .\\features\\train\\white\\5db\n",
      "saving dir .\\features\\train\\white\\5db\n",
      "saving dir .\\features\\train\\white\\5db\n",
      "saving dir .\\features\\train\\white\\5db\n",
      "saving dir .\\features\\train\\white\\5db\n",
      "saving dir .\\features\\train\\white\\5db\n",
      "saving dir .\\features\\train\\white\\5db\n",
      "saving dir .\\features\\train\\white\\5db\n",
      "saving dir .\\features\\train\\white\\5db\n"
     ]
    },
    {
     "name": "stderr",
     "output_type": "stream",
     "text": [
      "\r",
      "Converting train audios:  48%|█████████████████████████▍                           | 2217/4620 [00:22<00:27, 87.45it/s]"
     ]
    },
    {
     "name": "stdout",
     "output_type": "stream",
     "text": [
      "saving dir .\\features\\train\\white\\5db\n",
      "saving dir .\\features\\train\\white\\5db\n",
      "saving dir .\\features\\train\\white\\5db\n",
      "saving dir .\\features\\train\\white\\5db\n",
      "saving dir .\\features\\train\\white\\5db\n",
      "saving dir .\\features\\train\\white\\5db\n",
      "saving dir .\\features\\train\\white\\5db\n",
      "saving dir .\\features\\train\\white\\5db\n",
      "saving dir .\\features\\train\\white\\5db\n",
      "saving dir .\\features\\train\\white\\5db\n"
     ]
    },
    {
     "name": "stderr",
     "output_type": "stream",
     "text": [
      "\r",
      "Converting train audios:  48%|█████████████████████████▌                           | 2227/4620 [00:22<00:26, 89.48it/s]"
     ]
    },
    {
     "name": "stdout",
     "output_type": "stream",
     "text": [
      "saving dir .\\features\\train\\white\\5db\n",
      "saving dir .\\features\\train\\white\\5db\n",
      "saving dir .\\features\\train\\white\\5db\n",
      "saving dir .\\features\\train\\white\\5db\n",
      "saving dir .\\features\\train\\white\\5db\n",
      "saving dir .\\features\\train\\white\\5db\n",
      "saving dir .\\features\\train\\white\\5db\n",
      "saving dir .\\features\\train\\white\\5db\n",
      "saving dir .\\features\\train\\white\\5db\n",
      "saving dir .\\features\\train\\white\\5db\n"
     ]
    },
    {
     "name": "stderr",
     "output_type": "stream",
     "text": [
      "\r",
      "Converting train audios:  48%|█████████████████████████▋                           | 2237/4620 [00:22<00:26, 90.95it/s]"
     ]
    },
    {
     "name": "stdout",
     "output_type": "stream",
     "text": [
      "saving dir .\\features\\train\\white\\5db\n",
      "saving dir .\\features\\train\\white\\5db\n",
      "saving dir .\\features\\train\\white\\5db\n",
      "saving dir .\\features\\train\\white\\5db\n",
      "saving dir .\\features\\train\\white\\5db\n",
      "saving dir .\\features\\train\\white\\5db\n",
      "saving dir .\\features\\train\\white\\5db\n",
      "saving dir .\\features\\train\\white\\5db\n",
      "saving dir .\\features\\train\\white\\5db\n",
      "saving dir .\\features\\train\\white\\5db\n"
     ]
    },
    {
     "name": "stderr",
     "output_type": "stream",
     "text": [
      "\r",
      "Converting train audios:  49%|█████████████████████████▊                           | 2247/4620 [00:22<00:32, 72.00it/s]"
     ]
    },
    {
     "name": "stdout",
     "output_type": "stream",
     "text": [
      "saving dir .\\features\\train\\white\\5db\n",
      "saving dir .\\features\\train\\white\\5db\n",
      "saving dir .\\features\\train\\white\\5db\n",
      "saving dir .\\features\\train\\white\\5db\n",
      "saving dir .\\features\\train\\white\\5db\n",
      "saving dir .\\features\\train\\white\\5db\n",
      "saving dir .\\features\\train\\white\\5db\n",
      "saving dir .\\features\\train\\white\\5db\n",
      "saving dir .\\features\\train\\white\\5db\n",
      "saving dir .\\features\\train\\white\\5db\n"
     ]
    },
    {
     "name": "stderr",
     "output_type": "stream",
     "text": [
      "\r",
      "Converting train audios:  49%|█████████████████████████▉                           | 2257/4620 [00:22<00:30, 77.55it/s]"
     ]
    },
    {
     "name": "stdout",
     "output_type": "stream",
     "text": [
      "saving dir .\\features\\train\\white\\5db\n",
      "saving dir .\\features\\train\\white\\5db\n",
      "saving dir .\\features\\train\\white\\5db\n",
      "saving dir .\\features\\train\\white\\5db\n",
      "saving dir .\\features\\train\\white\\5db\n",
      "saving dir .\\features\\train\\white\\5db\n",
      "saving dir .\\features\\train\\white\\5db\n",
      "saving dir .\\features\\train\\white\\5db\n",
      "saving dir .\\features\\train\\white\\5db\n",
      "saving dir .\\features\\train\\white\\5db\n"
     ]
    },
    {
     "name": "stderr",
     "output_type": "stream",
     "text": [
      "\r",
      "Converting train audios:  49%|██████████████████████████                           | 2267/4620 [00:22<00:28, 81.79it/s]"
     ]
    },
    {
     "name": "stdout",
     "output_type": "stream",
     "text": [
      "saving dir .\\features\\train\\white\\5db\n",
      "saving dir .\\features\\train\\white\\5db\n",
      "saving dir .\\features\\train\\white\\5db\n",
      "saving dir .\\features\\train\\white\\5db\n",
      "saving dir .\\features\\train\\white\\5db\n",
      "saving dir .\\features\\train\\white\\5db\n",
      "saving dir .\\features\\train\\white\\5db\n",
      "saving dir .\\features\\train\\white\\5db\n",
      "saving dir .\\features\\train\\white\\5db\n",
      "saving dir .\\features\\train\\white\\5db\n"
     ]
    },
    {
     "name": "stderr",
     "output_type": "stream",
     "text": [
      "\r",
      "Converting train audios:  49%|██████████████████████████                           | 2277/4620 [00:22<00:27, 85.25it/s]"
     ]
    },
    {
     "name": "stdout",
     "output_type": "stream",
     "text": [
      "saving dir .\\features\\train\\white\\5db\n",
      "saving dir .\\features\\train\\white\\5db\n",
      "saving dir .\\features\\train\\white\\5db\n",
      "saving dir .\\features\\train\\white\\5db\n",
      "saving dir .\\features\\train\\white\\5db\n",
      "saving dir .\\features\\train\\white\\5db\n",
      "saving dir .\\features\\train\\white\\5db\n",
      "saving dir .\\features\\train\\white\\5db\n",
      "saving dir .\\features\\train\\white\\5db\n"
     ]
    },
    {
     "name": "stderr",
     "output_type": "stream",
     "text": [
      "\r",
      "Converting train audios:  49%|██████████████████████████▏                          | 2286/4620 [00:22<00:27, 86.19it/s]"
     ]
    },
    {
     "name": "stdout",
     "output_type": "stream",
     "text": [
      "saving dir .\\features\\train\\white\\5db\n",
      "saving dir .\\features\\train\\white\\5db\n",
      "saving dir .\\features\\train\\white\\5db\n",
      "saving dir .\\features\\train\\white\\5db\n",
      "saving dir .\\features\\train\\white\\5db\n",
      "saving dir .\\features\\train\\white\\5db\n",
      "saving dir .\\features\\train\\white\\5db\n",
      "saving dir .\\features\\train\\white\\5db\n",
      "saving dir .\\features\\train\\white\\5db\n"
     ]
    },
    {
     "name": "stderr",
     "output_type": "stream",
     "text": [
      "\r",
      "Converting train audios:  50%|██████████████████████████▎                          | 2295/4620 [00:23<00:39, 58.26it/s]"
     ]
    },
    {
     "name": "stdout",
     "output_type": "stream",
     "text": [
      "saving dir .\\features\\train\\white\\5db\n",
      "saving dir .\\features\\train\\white\\5db\n",
      "saving dir .\\features\\train\\white\\5db\n",
      "saving dir .\\features\\train\\white\\5db\n",
      "saving dir .\\features\\train\\white\\5db\n",
      "saving dir .\\features\\train\\white\\5db\n",
      "saving dir .\\features\\train\\white\\5db\n",
      "saving dir .\\features\\train\\white\\5db\n",
      "saving dir .\\features\\train\\white\\5db\n"
     ]
    },
    {
     "name": "stderr",
     "output_type": "stream",
     "text": [
      "\r",
      "Converting train audios:  50%|██████████████████████████▍                          | 2304/4620 [00:23<00:35, 64.49it/s]"
     ]
    },
    {
     "name": "stdout",
     "output_type": "stream",
     "text": [
      "saving dir .\\features\\train\\white\\5db\n",
      "saving dir .\\features\\train\\white\\5db\n",
      "saving dir .\\features\\train\\white\\5db\n",
      "saving dir .\\features\\train\\white\\5db\n",
      "saving dir .\\features\\train\\white\\5db\n",
      "saving dir .\\features\\train\\white\\5db\n",
      "saving dir .\\features\\train\\white\\5db\n",
      "saving dir .\\features\\train\\white\\5db\n"
     ]
    },
    {
     "name": "stderr",
     "output_type": "stream",
     "text": [
      "\r",
      "Converting train audios:  50%|██████████████████████████▌                          | 2312/4620 [00:23<00:44, 52.20it/s]"
     ]
    },
    {
     "name": "stdout",
     "output_type": "stream",
     "text": [
      "saving dir .\\features\\train\\white\\5db\n",
      "saving dir .\\features\\train\\white\\5db\n",
      "saving dir .\\features\\train\\white\\5db\n",
      "saving dir .\\features\\train\\white\\5db\n",
      "saving dir .\\features\\train\\white\\5db\n",
      "saving dir .\\features\\train\\white\\5db\n",
      "saving dir .\\features\\train\\white\\5db\n",
      "saving dir .\\features\\train\\white\\5db\n",
      "saving dir .\\features\\train\\white\\5db\n",
      "saving dir .\\features\\train\\white\\5db\n"
     ]
    },
    {
     "name": "stderr",
     "output_type": "stream",
     "text": [
      "\r",
      "Converting train audios:  50%|██████████████████████████▋                          | 2322/4620 [00:23<00:38, 60.09it/s]"
     ]
    },
    {
     "name": "stdout",
     "output_type": "stream",
     "text": [
      "saving dir .\\features\\train\\white\\5db\n",
      "saving dir .\\features\\train\\white\\5db\n",
      "saving dir .\\features\\train\\white\\5db\n",
      "saving dir .\\features\\train\\white\\5db\n",
      "saving dir .\\features\\train\\white\\5db\n",
      "saving dir .\\features\\train\\white\\5db\n",
      "saving dir .\\features\\train\\white\\5db\n",
      "saving dir .\\features\\train\\white\\5db\n",
      "saving dir .\\features\\train\\white\\5db\n",
      "saving dir .\\features\\train\\white\\5db\n"
     ]
    },
    {
     "name": "stderr",
     "output_type": "stream",
     "text": [
      "\r",
      "Converting train audios:  50%|██████████████████████████▊                          | 2332/4620 [00:23<00:34, 66.93it/s]"
     ]
    },
    {
     "name": "stdout",
     "output_type": "stream",
     "text": [
      "saving dir .\\features\\train\\white\\5db\n",
      "saving dir .\\features\\train\\white\\5db\n",
      "saving dir .\\features\\train\\white\\5db\n",
      "saving dir .\\features\\train\\white\\5db\n",
      "saving dir .\\features\\train\\white\\5db\n",
      "saving dir .\\features\\train\\white\\5db\n",
      "saving dir .\\features\\train\\white\\5db\n",
      "saving dir .\\features\\train\\white\\5db\n",
      "saving dir .\\features\\train\\white\\5db\n",
      "saving dir .\\features\\train\\white\\5db\n"
     ]
    },
    {
     "name": "stderr",
     "output_type": "stream",
     "text": [
      "\r",
      "Converting train audios:  51%|██████████████████████████▊                          | 2342/4620 [00:23<00:31, 73.37it/s]"
     ]
    },
    {
     "name": "stdout",
     "output_type": "stream",
     "text": [
      "saving dir .\\features\\train\\white\\5db\n",
      "saving dir .\\features\\train\\white\\5db\n",
      "saving dir .\\features\\train\\white\\5db\n",
      "saving dir .\\features\\train\\white\\5db\n",
      "saving dir .\\features\\train\\white\\5db\n",
      "saving dir .\\features\\train\\white\\5db\n",
      "saving dir .\\features\\train\\white\\5db\n",
      "saving dir .\\features\\train\\white\\5db\n",
      "saving dir .\\features\\train\\white\\5db\n"
     ]
    },
    {
     "name": "stderr",
     "output_type": "stream",
     "text": [
      "\r",
      "Converting train audios:  51%|██████████████████████████▉                          | 2351/4620 [00:23<00:29, 77.13it/s]"
     ]
    },
    {
     "name": "stdout",
     "output_type": "stream",
     "text": [
      "saving dir .\\features\\train\\white\\5db\n",
      "saving dir .\\features\\train\\white\\5db\n",
      "saving dir .\\features\\train\\white\\5db\n",
      "saving dir .\\features\\train\\white\\5db\n",
      "saving dir .\\features\\train\\white\\5db\n",
      "saving dir .\\features\\train\\white\\5db\n",
      "saving dir .\\features\\train\\white\\5db\n",
      "saving dir .\\features\\train\\white\\5db\n",
      "saving dir .\\features\\train\\white\\5db\n"
     ]
    },
    {
     "name": "stderr",
     "output_type": "stream",
     "text": [
      "\r",
      "Converting train audios:  51%|███████████████████████████                          | 2360/4620 [00:23<00:29, 77.93it/s]"
     ]
    },
    {
     "name": "stdout",
     "output_type": "stream",
     "text": [
      "saving dir .\\features\\train\\white\\5db\n",
      "saving dir .\\features\\train\\white\\5db\n",
      "saving dir .\\features\\train\\white\\5db\n",
      "saving dir .\\features\\train\\white\\5db\n",
      "saving dir .\\features\\train\\white\\5db\n",
      "saving dir .\\features\\train\\white\\5db\n",
      "saving dir .\\features\\train\\white\\5db\n",
      "saving dir .\\features\\train\\white\\5db\n",
      "saving dir .\\features\\train\\white\\5db\n"
     ]
    },
    {
     "name": "stderr",
     "output_type": "stream",
     "text": [
      "\r",
      "Converting train audios:  51%|███████████████████████████▏                         | 2369/4620 [00:24<00:28, 78.30it/s]"
     ]
    },
    {
     "name": "stdout",
     "output_type": "stream",
     "text": [
      "saving dir .\\features\\train\\white\\5db\n",
      "saving dir .\\features\\train\\white\\5db\n",
      "saving dir .\\features\\train\\white\\5db\n",
      "saving dir .\\features\\train\\white\\5db\n",
      "saving dir .\\features\\train\\white\\5db\n",
      "saving dir .\\features\\train\\white\\5db\n",
      "saving dir .\\features\\train\\white\\5db\n",
      "saving dir .\\features\\train\\white\\5db\n",
      "saving dir .\\features\\train\\white\\5db\n"
     ]
    },
    {
     "name": "stderr",
     "output_type": "stream",
     "text": [
      "\r",
      "Converting train audios:  51%|███████████████████████████▎                         | 2378/4620 [00:24<00:28, 78.14it/s]"
     ]
    },
    {
     "name": "stdout",
     "output_type": "stream",
     "text": [
      "saving dir .\\features\\train\\white\\5db\n",
      "saving dir .\\features\\train\\white\\5db\n",
      "saving dir .\\features\\train\\white\\5db\n",
      "saving dir .\\features\\train\\white\\5db\n",
      "saving dir .\\features\\train\\white\\5db\n",
      "saving dir .\\features\\train\\white\\5db\n",
      "saving dir .\\features\\train\\white\\5db\n",
      "saving dir .\\features\\train\\white\\5db\n",
      "saving dir .\\features\\train\\white\\5db\n",
      "saving dir .\\features\\train\\white\\5db\n"
     ]
    },
    {
     "name": "stderr",
     "output_type": "stream",
     "text": [
      "\r",
      "Converting train audios:  52%|███████████████████████████▍                         | 2388/4620 [00:24<00:27, 81.24it/s]"
     ]
    },
    {
     "name": "stdout",
     "output_type": "stream",
     "text": [
      "saving dir .\\features\\train\\white\\5db\n",
      "saving dir .\\features\\train\\white\\5db\n",
      "saving dir .\\features\\train\\white\\5db\n",
      "saving dir .\\features\\train\\white\\5db\n",
      "saving dir .\\features\\train\\white\\5db\n",
      "saving dir .\\features\\train\\white\\5db\n",
      "saving dir .\\features\\train\\white\\5db\n",
      "saving dir .\\features\\train\\white\\5db\n",
      "saving dir .\\features\\train\\white\\5db\n"
     ]
    },
    {
     "name": "stderr",
     "output_type": "stream",
     "text": [
      "\r",
      "Converting train audios:  52%|███████████████████████████▍                         | 2397/4620 [00:24<00:26, 82.83it/s]"
     ]
    },
    {
     "name": "stdout",
     "output_type": "stream",
     "text": [
      "saving dir .\\features\\train\\white\\5db\n",
      "saving dir .\\features\\train\\white\\5db\n",
      "saving dir .\\features\\train\\white\\5db\n",
      "saving dir .\\features\\train\\white\\5db\n",
      "saving dir .\\features\\train\\white\\5db\n",
      "saving dir .\\features\\train\\white\\5db\n",
      "saving dir .\\features\\train\\white\\5db\n",
      "saving dir .\\features\\train\\white\\5db\n",
      "saving dir .\\features\\train\\white\\5db\n",
      "saving dir .\\features\\train\\white\\5db\n"
     ]
    },
    {
     "name": "stderr",
     "output_type": "stream",
     "text": [
      "\r",
      "Converting train audios:  52%|███████████████████████████▌                         | 2407/4620 [00:24<00:25, 85.38it/s]"
     ]
    },
    {
     "name": "stdout",
     "output_type": "stream",
     "text": [
      "saving dir .\\features\\train\\white\\5db\n",
      "saving dir .\\features\\train\\white\\5db\n",
      "saving dir .\\features\\train\\white\\5db\n",
      "saving dir .\\features\\train\\white\\5db\n",
      "saving dir .\\features\\train\\white\\5db\n",
      "saving dir .\\features\\train\\white\\5db\n",
      "saving dir .\\features\\train\\white\\5db\n",
      "saving dir .\\features\\train\\white\\5db\n",
      "saving dir .\\features\\train\\white\\5db\n",
      "saving dir .\\features\\train\\white\\5db\n"
     ]
    },
    {
     "name": "stderr",
     "output_type": "stream",
     "text": [
      "\r",
      "Converting train audios:  52%|███████████████████████████▋                         | 2417/4620 [00:24<00:24, 89.12it/s]"
     ]
    },
    {
     "name": "stdout",
     "output_type": "stream",
     "text": [
      "saving dir .\\features\\train\\white\\5db\n",
      "saving dir .\\features\\train\\white\\5db\n",
      "saving dir .\\features\\train\\white\\5db\n",
      "saving dir .\\features\\train\\white\\5db\n",
      "saving dir .\\features\\train\\white\\5db\n",
      "saving dir .\\features\\train\\white\\5db\n",
      "saving dir .\\features\\train\\white\\5db\n",
      "saving dir .\\features\\train\\white\\5db\n",
      "saving dir .\\features\\train\\white\\5db\n",
      "saving dir .\\features\\train\\white\\5db\n"
     ]
    },
    {
     "name": "stderr",
     "output_type": "stream",
     "text": [
      "\r",
      "Converting train audios:  53%|███████████████████████████▊                         | 2427/4620 [00:24<00:24, 90.94it/s]"
     ]
    },
    {
     "name": "stdout",
     "output_type": "stream",
     "text": [
      "saving dir .\\features\\train\\white\\5db\n",
      "saving dir .\\features\\train\\white\\5db\n",
      "saving dir .\\features\\train\\white\\5db\n",
      "saving dir .\\features\\train\\white\\5db\n",
      "saving dir .\\features\\train\\white\\5db\n",
      "saving dir .\\features\\train\\white\\5db\n",
      "saving dir .\\features\\train\\white\\5db\n",
      "saving dir .\\features\\train\\white\\5db\n",
      "saving dir .\\features\\train\\white\\5db\n",
      "saving dir .\\features\\train\\white\\5db\n"
     ]
    },
    {
     "name": "stderr",
     "output_type": "stream",
     "text": [
      "\r",
      "Converting train audios:  53%|███████████████████████████▉                         | 2437/4620 [00:24<00:24, 90.76it/s]"
     ]
    },
    {
     "name": "stdout",
     "output_type": "stream",
     "text": [
      "saving dir .\\features\\train\\white\\5db\n",
      "saving dir .\\features\\train\\white\\5db\n",
      "saving dir .\\features\\train\\white\\5db\n",
      "saving dir .\\features\\train\\white\\5db\n",
      "saving dir .\\features\\train\\white\\5db\n",
      "saving dir .\\features\\train\\white\\5db\n",
      "saving dir .\\features\\train\\white\\5db\n",
      "saving dir .\\features\\train\\white\\5db\n",
      "saving dir .\\features\\train\\white\\5db\n",
      "saving dir .\\features\\train\\white\\5db\n"
     ]
    },
    {
     "name": "stderr",
     "output_type": "stream",
     "text": [
      "\r",
      "Converting train audios:  53%|████████████████████████████                         | 2447/4620 [00:24<00:24, 88.24it/s]"
     ]
    },
    {
     "name": "stdout",
     "output_type": "stream",
     "text": [
      "saving dir .\\features\\train\\white\\5db\n",
      "saving dir .\\features\\train\\white\\5db\n",
      "saving dir .\\features\\train\\white\\5db\n",
      "saving dir .\\features\\train\\white\\5db\n",
      "saving dir .\\features\\train\\white\\5db\n",
      "saving dir .\\features\\train\\white\\5db\n",
      "saving dir .\\features\\train\\white\\5db\n",
      "saving dir .\\features\\train\\white\\5db\n",
      "saving dir .\\features\\train\\white\\5db\n",
      "saving dir .\\features\\train\\white\\5db\n"
     ]
    },
    {
     "name": "stderr",
     "output_type": "stream",
     "text": [
      "\r",
      "Converting train audios:  53%|████████████████████████████▏                        | 2457/4620 [00:25<00:24, 89.81it/s]"
     ]
    },
    {
     "name": "stdout",
     "output_type": "stream",
     "text": [
      "saving dir .\\features\\train\\white\\5db\n",
      "saving dir .\\features\\train\\white\\5db\n",
      "saving dir .\\features\\train\\white\\5db\n",
      "saving dir .\\features\\train\\white\\5db\n",
      "saving dir .\\features\\train\\white\\5db\n",
      "saving dir .\\features\\train\\white\\5db\n",
      "saving dir .\\features\\train\\white\\5db\n",
      "saving dir .\\features\\train\\white\\5db\n",
      "saving dir .\\features\\train\\white\\5db\n",
      "saving dir .\\features\\train\\white\\5db\n"
     ]
    },
    {
     "name": "stderr",
     "output_type": "stream",
     "text": [
      "\r",
      "Converting train audios:  53%|████████████████████████████▎                        | 2467/4620 [00:25<00:23, 90.70it/s]"
     ]
    },
    {
     "name": "stdout",
     "output_type": "stream",
     "text": [
      "saving dir .\\features\\train\\white\\5db\n",
      "saving dir .\\features\\train\\white\\5db\n",
      "saving dir .\\features\\train\\white\\5db\n",
      "saving dir .\\features\\train\\white\\5db\n",
      "saving dir .\\features\\train\\white\\5db\n",
      "saving dir .\\features\\train\\white\\5db\n",
      "saving dir .\\features\\train\\white\\5db\n",
      "saving dir .\\features\\train\\white\\5db\n",
      "saving dir .\\features\\train\\white\\5db\n",
      "saving dir .\\features\\train\\white\\5db\n"
     ]
    },
    {
     "name": "stderr",
     "output_type": "stream",
     "text": [
      "\r",
      "Converting train audios:  54%|████████████████████████████▍                        | 2477/4620 [00:25<00:23, 89.37it/s]"
     ]
    },
    {
     "name": "stdout",
     "output_type": "stream",
     "text": [
      "saving dir .\\features\\train\\white\\5db\n",
      "saving dir .\\features\\train\\white\\5db\n",
      "saving dir .\\features\\train\\white\\5db\n",
      "saving dir .\\features\\train\\white\\5db\n",
      "saving dir .\\features\\train\\white\\5db\n",
      "saving dir .\\features\\train\\white\\5db\n",
      "saving dir .\\features\\train\\white\\5db\n",
      "saving dir .\\features\\train\\white\\5db\n",
      "saving dir .\\features\\train\\white\\5db\n",
      "saving dir .\\features\\train\\white\\5db\n"
     ]
    },
    {
     "name": "stderr",
     "output_type": "stream",
     "text": [
      "\r",
      "Converting train audios:  54%|████████████████████████████▌                        | 2487/4620 [00:25<00:23, 89.18it/s]"
     ]
    },
    {
     "name": "stdout",
     "output_type": "stream",
     "text": [
      "saving dir .\\features\\train\\white\\5db\n",
      "saving dir .\\features\\train\\white\\5db\n",
      "saving dir .\\features\\train\\white\\5db\n",
      "saving dir .\\features\\train\\white\\5db\n",
      "saving dir .\\features\\train\\white\\5db\n",
      "saving dir .\\features\\train\\white\\5db\n",
      "saving dir .\\features\\train\\white\\5db\n",
      "saving dir .\\features\\train\\white\\5db\n",
      "saving dir .\\features\\train\\white\\5db\n"
     ]
    },
    {
     "name": "stderr",
     "output_type": "stream",
     "text": [
      "\r",
      "Converting train audios:  54%|████████████████████████████▋                        | 2496/4620 [00:25<00:23, 88.97it/s]"
     ]
    },
    {
     "name": "stdout",
     "output_type": "stream",
     "text": [
      "saving dir .\\features\\train\\white\\5db\n",
      "saving dir .\\features\\train\\white\\5db\n",
      "saving dir .\\features\\train\\white\\5db\n",
      "saving dir .\\features\\train\\white\\5db\n",
      "saving dir .\\features\\train\\white\\5db\n",
      "saving dir .\\features\\train\\white\\5db\n",
      "saving dir .\\features\\train\\white\\5db\n",
      "saving dir .\\features\\train\\white\\5db\n",
      "saving dir .\\features\\train\\white\\5db\n",
      "saving dir .\\features\\train\\white\\5db\n"
     ]
    },
    {
     "name": "stderr",
     "output_type": "stream",
     "text": [
      "\r",
      "Converting train audios:  54%|████████████████████████████▋                        | 2506/4620 [00:25<00:23, 89.37it/s]"
     ]
    },
    {
     "name": "stdout",
     "output_type": "stream",
     "text": [
      "saving dir .\\features\\train\\white\\5db\n",
      "saving dir .\\features\\train\\white\\5db\n",
      "saving dir .\\features\\train\\white\\5db\n",
      "saving dir .\\features\\train\\white\\5db\n",
      "saving dir .\\features\\train\\white\\5db\n",
      "saving dir .\\features\\train\\white\\5db\n",
      "saving dir .\\features\\train\\white\\5db\n",
      "saving dir .\\features\\train\\white\\5db\n",
      "saving dir .\\features\\train\\white\\5db\n"
     ]
    },
    {
     "name": "stderr",
     "output_type": "stream",
     "text": [
      "\r",
      "Converting train audios:  54%|████████████████████████████▊                        | 2515/4620 [00:25<00:23, 89.37it/s]"
     ]
    },
    {
     "name": "stdout",
     "output_type": "stream",
     "text": [
      "saving dir .\\features\\train\\white\\5db\n",
      "saving dir .\\features\\train\\white\\5db\n",
      "saving dir .\\features\\train\\white\\5db\n",
      "saving dir .\\features\\train\\white\\5db\n",
      "saving dir .\\features\\train\\white\\5db\n",
      "saving dir .\\features\\train\\white\\5db\n",
      "saving dir .\\features\\train\\white\\5db\n",
      "saving dir .\\features\\train\\white\\5db\n",
      "saving dir .\\features\\train\\white\\5db\n",
      "saving dir .\\features\\train\\white\\5db\n"
     ]
    },
    {
     "name": "stderr",
     "output_type": "stream",
     "text": [
      "\r",
      "Converting train audios:  55%|████████████████████████████▉                        | 2525/4620 [00:25<00:23, 90.38it/s]"
     ]
    },
    {
     "name": "stdout",
     "output_type": "stream",
     "text": [
      "saving dir .\\features\\train\\white\\5db\n",
      "saving dir .\\features\\train\\white\\5db\n",
      "saving dir .\\features\\train\\white\\5db\n",
      "saving dir .\\features\\train\\white\\5db\n",
      "saving dir .\\features\\train\\white\\5db\n",
      "saving dir .\\features\\train\\white\\5db\n",
      "saving dir .\\features\\train\\white\\5db\n",
      "saving dir .\\features\\train\\white\\5db\n",
      "saving dir .\\features\\train\\white\\5db\n",
      "saving dir .\\features\\train\\white\\5db\n"
     ]
    },
    {
     "name": "stderr",
     "output_type": "stream",
     "text": [
      "\r",
      "Converting train audios:  55%|█████████████████████████████                        | 2535/4620 [00:25<00:23, 90.61it/s]"
     ]
    },
    {
     "name": "stdout",
     "output_type": "stream",
     "text": [
      "saving dir .\\features\\train\\white\\5db\n",
      "saving dir .\\features\\train\\white\\5db\n",
      "saving dir .\\features\\train\\white\\5db\n",
      "saving dir .\\features\\train\\white\\5db\n",
      "saving dir .\\features\\train\\white\\5db\n",
      "saving dir .\\features\\train\\white\\5db\n",
      "saving dir .\\features\\train\\white\\5db\n",
      "saving dir .\\features\\train\\white\\5db\n",
      "saving dir .\\features\\train\\white\\5db\n",
      "saving dir .\\features\\train\\white\\5db\n"
     ]
    },
    {
     "name": "stderr",
     "output_type": "stream",
     "text": [
      "\r",
      "Converting train audios:  55%|█████████████████████████████▏                       | 2545/4620 [00:26<00:22, 92.28it/s]"
     ]
    },
    {
     "name": "stdout",
     "output_type": "stream",
     "text": [
      "saving dir .\\features\\train\\white\\5db\n",
      "saving dir .\\features\\train\\white\\5db\n",
      "saving dir .\\features\\train\\white\\5db\n",
      "saving dir .\\features\\train\\white\\5db\n",
      "saving dir .\\features\\train\\white\\5db\n",
      "saving dir .\\features\\train\\white\\5db\n",
      "saving dir .\\features\\train\\white\\5db\n",
      "saving dir .\\features\\train\\white\\5db\n",
      "saving dir .\\features\\train\\white\\5db\n",
      "saving dir .\\features\\train\\white\\5db\n"
     ]
    },
    {
     "name": "stderr",
     "output_type": "stream",
     "text": [
      "\r",
      "Converting train audios:  55%|█████████████████████████████▎                       | 2555/4620 [00:26<00:22, 92.19it/s]"
     ]
    },
    {
     "name": "stdout",
     "output_type": "stream",
     "text": [
      "saving dir .\\features\\train\\white\\5db\n",
      "saving dir .\\features\\train\\white\\5db\n",
      "saving dir .\\features\\train\\white\\5db\n",
      "saving dir .\\features\\train\\white\\5db\n",
      "saving dir .\\features\\train\\white\\5db\n",
      "saving dir .\\features\\train\\white\\5db\n",
      "saving dir .\\features\\train\\white\\5db\n",
      "saving dir .\\features\\train\\white\\5db\n",
      "saving dir .\\features\\train\\white\\5db\n",
      "saving dir .\\features\\train\\white\\5db\n"
     ]
    },
    {
     "name": "stderr",
     "output_type": "stream",
     "text": [
      "\r",
      "Converting train audios:  56%|█████████████████████████████▍                       | 2565/4620 [00:26<00:22, 90.87it/s]"
     ]
    },
    {
     "name": "stdout",
     "output_type": "stream",
     "text": [
      "saving dir .\\features\\train\\white\\5db\n",
      "saving dir .\\features\\train\\white\\5db\n",
      "saving dir .\\features\\train\\white\\5db\n",
      "saving dir .\\features\\train\\white\\5db\n",
      "saving dir .\\features\\train\\white\\5db\n",
      "saving dir .\\features\\train\\white\\5db\n",
      "saving dir .\\features\\train\\white\\5db\n",
      "saving dir .\\features\\train\\white\\5db\n",
      "saving dir .\\features\\train\\white\\5db\n",
      "saving dir .\\features\\train\\white\\5db\n"
     ]
    },
    {
     "name": "stderr",
     "output_type": "stream",
     "text": [
      "\r",
      "Converting train audios:  56%|█████████████████████████████▌                       | 2575/4620 [00:26<00:22, 91.46it/s]"
     ]
    },
    {
     "name": "stdout",
     "output_type": "stream",
     "text": [
      "saving dir .\\features\\train\\white\\5db\n",
      "saving dir .\\features\\train\\white\\5db\n",
      "saving dir .\\features\\train\\white\\5db\n",
      "saving dir .\\features\\train\\white\\5db\n",
      "saving dir .\\features\\train\\white\\5db\n",
      "saving dir .\\features\\train\\white\\5db\n",
      "saving dir .\\features\\train\\white\\5db\n",
      "saving dir .\\features\\train\\white\\5db\n",
      "saving dir .\\features\\train\\white\\5db\n",
      "saving dir .\\features\\train\\white\\5db\n"
     ]
    },
    {
     "name": "stderr",
     "output_type": "stream",
     "text": [
      "\r",
      "Converting train audios:  56%|█████████████████████████████▋                       | 2585/4620 [00:26<00:22, 92.12it/s]"
     ]
    },
    {
     "name": "stdout",
     "output_type": "stream",
     "text": [
      "saving dir .\\features\\train\\white\\5db\n",
      "saving dir .\\features\\train\\white\\5db\n",
      "saving dir .\\features\\train\\white\\5db\n",
      "saving dir .\\features\\train\\white\\5db\n",
      "saving dir .\\features\\train\\white\\5db\n",
      "saving dir .\\features\\train\\white\\5db\n",
      "saving dir .\\features\\train\\white\\5db\n",
      "saving dir .\\features\\train\\white\\5db\n",
      "saving dir .\\features\\train\\white\\5db\n",
      "saving dir .\\features\\train\\white\\5db\n"
     ]
    },
    {
     "name": "stderr",
     "output_type": "stream",
     "text": [
      "\r",
      "Converting train audios:  56%|█████████████████████████████▊                       | 2595/4620 [00:26<00:22, 89.14it/s]"
     ]
    },
    {
     "name": "stdout",
     "output_type": "stream",
     "text": [
      "saving dir .\\features\\train\\white\\5db\n",
      "saving dir .\\features\\train\\white\\5db\n",
      "saving dir .\\features\\train\\white\\5db\n",
      "saving dir .\\features\\train\\white\\5db\n",
      "saving dir .\\features\\train\\white\\5db\n",
      "saving dir .\\features\\train\\white\\5db\n",
      "saving dir .\\features\\train\\white\\5db\n",
      "saving dir .\\features\\train\\white\\5db\n",
      "saving dir .\\features\\train\\white\\5db\n",
      "saving dir .\\features\\train\\white\\5db\n"
     ]
    },
    {
     "name": "stderr",
     "output_type": "stream",
     "text": [
      "\r",
      "Converting train audios:  56%|█████████████████████████████▉                       | 2605/4620 [00:26<00:22, 90.22it/s]"
     ]
    },
    {
     "name": "stdout",
     "output_type": "stream",
     "text": [
      "saving dir .\\features\\train\\white\\5db\n",
      "saving dir .\\features\\train\\white\\5db\n",
      "saving dir .\\features\\train\\white\\5db\n",
      "saving dir .\\features\\train\\white\\5db\n",
      "saving dir .\\features\\train\\white\\5db\n",
      "saving dir .\\features\\train\\white\\5db\n",
      "saving dir .\\features\\train\\white\\5db\n",
      "saving dir .\\features\\train\\white\\5db\n",
      "saving dir .\\features\\train\\white\\5db\n",
      "saving dir .\\features\\train\\white\\5db\n"
     ]
    },
    {
     "name": "stderr",
     "output_type": "stream",
     "text": [
      "\r",
      "Converting train audios:  57%|█████████████████████████████▉                       | 2615/4620 [00:26<00:23, 86.51it/s]"
     ]
    },
    {
     "name": "stdout",
     "output_type": "stream",
     "text": [
      "saving dir .\\features\\train\\white\\5db\n",
      "saving dir .\\features\\train\\white\\5db\n",
      "saving dir .\\features\\train\\white\\5db\n",
      "saving dir .\\features\\train\\white\\5db\n",
      "saving dir .\\features\\train\\white\\5db\n",
      "saving dir .\\features\\train\\white\\5db\n",
      "saving dir .\\features\\train\\white\\5db\n",
      "saving dir .\\features\\train\\white\\5db\n",
      "saving dir .\\features\\train\\white\\5db\n"
     ]
    },
    {
     "name": "stderr",
     "output_type": "stream",
     "text": [
      "\r",
      "Converting train audios:  57%|██████████████████████████████                       | 2624/4620 [00:26<00:23, 86.59it/s]"
     ]
    },
    {
     "name": "stdout",
     "output_type": "stream",
     "text": [
      "saving dir .\\features\\train\\white\\5db\n",
      "saving dir .\\features\\train\\white\\5db\n",
      "saving dir .\\features\\train\\white\\5db\n",
      "saving dir .\\features\\train\\white\\5db\n",
      "saving dir .\\features\\train\\white\\5db\n",
      "saving dir .\\features\\train\\white\\5db\n",
      "saving dir .\\features\\train\\white\\5db\n",
      "saving dir .\\features\\train\\white\\5db\n",
      "saving dir .\\features\\train\\white\\5db\n"
     ]
    },
    {
     "name": "stderr",
     "output_type": "stream",
     "text": [
      "\r",
      "Converting train audios:  57%|██████████████████████████████▏                      | 2633/4620 [00:27<00:23, 85.17it/s]"
     ]
    },
    {
     "name": "stdout",
     "output_type": "stream",
     "text": [
      "saving dir .\\features\\train\\white\\5db\n",
      "saving dir .\\features\\train\\white\\5db\n",
      "saving dir .\\features\\train\\white\\5db\n",
      "saving dir .\\features\\train\\white\\5db\n",
      "saving dir .\\features\\train\\white\\5db\n",
      "saving dir .\\features\\train\\white\\5db\n",
      "saving dir .\\features\\train\\white\\5db\n",
      "saving dir .\\features\\train\\white\\5db\n",
      "saving dir .\\features\\train\\white\\5db\n",
      "saving dir .\\features\\train\\white\\5db\n"
     ]
    },
    {
     "name": "stderr",
     "output_type": "stream",
     "text": [
      "\r",
      "Converting train audios:  57%|██████████████████████████████▎                      | 2643/4620 [00:27<00:22, 87.34it/s]"
     ]
    },
    {
     "name": "stdout",
     "output_type": "stream",
     "text": [
      "saving dir .\\features\\train\\white\\5db\n",
      "saving dir .\\features\\train\\white\\5db\n",
      "saving dir .\\features\\train\\white\\5db\n",
      "saving dir .\\features\\train\\white\\5db\n",
      "saving dir .\\features\\train\\white\\5db\n",
      "saving dir .\\features\\train\\white\\5db\n",
      "saving dir .\\features\\train\\white\\5db\n",
      "saving dir .\\features\\train\\white\\5db\n",
      "saving dir .\\features\\train\\white\\5db\n",
      "saving dir .\\features\\train\\white\\5db\n"
     ]
    },
    {
     "name": "stderr",
     "output_type": "stream",
     "text": [
      "\r",
      "Converting train audios:  57%|██████████████████████████████▍                      | 2653/4620 [00:27<00:22, 89.15it/s]"
     ]
    },
    {
     "name": "stdout",
     "output_type": "stream",
     "text": [
      "saving dir .\\features\\train\\white\\5db\n",
      "saving dir .\\features\\train\\white\\5db\n",
      "saving dir .\\features\\train\\white\\5db\n",
      "saving dir .\\features\\train\\white\\5db\n",
      "saving dir .\\features\\train\\white\\5db\n",
      "saving dir .\\features\\train\\white\\5db\n",
      "saving dir .\\features\\train\\white\\5db\n",
      "saving dir .\\features\\train\\white\\5db\n",
      "saving dir .\\features\\train\\white\\5db\n"
     ]
    },
    {
     "name": "stderr",
     "output_type": "stream",
     "text": [
      "\r",
      "Converting train audios:  58%|██████████████████████████████▌                      | 2662/4620 [00:27<00:22, 88.17it/s]"
     ]
    },
    {
     "name": "stdout",
     "output_type": "stream",
     "text": [
      "saving dir .\\features\\train\\white\\5db\n",
      "saving dir .\\features\\train\\white\\5db\n",
      "saving dir .\\features\\train\\white\\5db\n",
      "saving dir .\\features\\train\\white\\5db\n",
      "saving dir .\\features\\train\\white\\5db\n",
      "saving dir .\\features\\train\\white\\5db\n",
      "saving dir .\\features\\train\\white\\5db\n",
      "saving dir .\\features\\train\\white\\5db\n",
      "saving dir .\\features\\train\\white\\5db\n"
     ]
    },
    {
     "name": "stderr",
     "output_type": "stream",
     "text": [
      "\r",
      "Converting train audios:  58%|██████████████████████████████▋                      | 2671/4620 [00:27<00:25, 77.16it/s]"
     ]
    },
    {
     "name": "stdout",
     "output_type": "stream",
     "text": [
      "saving dir .\\features\\train\\white\\5db\n",
      "saving dir .\\features\\train\\white\\5db\n",
      "saving dir .\\features\\train\\white\\5db\n",
      "saving dir .\\features\\train\\white\\5db\n",
      "saving dir .\\features\\train\\white\\5db\n",
      "saving dir .\\features\\train\\white\\5db\n",
      "saving dir .\\features\\train\\white\\5db\n",
      "saving dir .\\features\\train\\white\\5db\n",
      "saving dir .\\features\\train\\white\\5db\n"
     ]
    },
    {
     "name": "stderr",
     "output_type": "stream",
     "text": [
      "\r",
      "Converting train audios:  58%|██████████████████████████████▋                      | 2680/4620 [00:27<00:24, 79.18it/s]"
     ]
    },
    {
     "name": "stdout",
     "output_type": "stream",
     "text": [
      "saving dir .\\features\\train\\white\\5db\n",
      "saving dir .\\features\\train\\white\\5db\n",
      "saving dir .\\features\\train\\white\\5db\n",
      "saving dir .\\features\\train\\white\\5db\n",
      "saving dir .\\features\\train\\white\\5db\n",
      "saving dir .\\features\\train\\white\\5db\n",
      "saving dir .\\features\\train\\white\\5db\n",
      "saving dir .\\features\\train\\white\\5db\n",
      "saving dir .\\features\\train\\white\\5db\n",
      "saving dir .\\features\\train\\white\\5db\n"
     ]
    },
    {
     "name": "stderr",
     "output_type": "stream",
     "text": [
      "\r",
      "Converting train audios:  58%|██████████████████████████████▊                      | 2690/4620 [00:27<00:23, 82.84it/s]"
     ]
    },
    {
     "name": "stdout",
     "output_type": "stream",
     "text": [
      "saving dir .\\features\\train\\white\\5db\n",
      "saving dir .\\features\\train\\white\\5db\n",
      "saving dir .\\features\\train\\white\\5db\n",
      "saving dir .\\features\\train\\white\\5db\n",
      "saving dir .\\features\\train\\white\\5db\n",
      "saving dir .\\features\\train\\white\\5db\n",
      "saving dir .\\features\\train\\white\\5db\n",
      "saving dir .\\features\\train\\white\\5db\n",
      "saving dir .\\features\\train\\white\\5db\n"
     ]
    },
    {
     "name": "stderr",
     "output_type": "stream",
     "text": [
      "\r",
      "Converting train audios:  58%|██████████████████████████████▉                      | 2699/4620 [00:27<00:22, 84.69it/s]"
     ]
    },
    {
     "name": "stdout",
     "output_type": "stream",
     "text": [
      "saving dir .\\features\\train\\white\\5db\n",
      "saving dir .\\features\\train\\white\\5db\n",
      "saving dir .\\features\\train\\white\\5db\n",
      "saving dir .\\features\\train\\white\\5db\n",
      "saving dir .\\features\\train\\white\\5db\n",
      "saving dir .\\features\\train\\white\\5db\n",
      "saving dir .\\features\\train\\white\\5db\n",
      "saving dir .\\features\\train\\white\\5db\n",
      "saving dir .\\features\\train\\white\\5db\n"
     ]
    },
    {
     "name": "stderr",
     "output_type": "stream",
     "text": [
      "\r",
      "Converting train audios:  59%|███████████████████████████████                      | 2708/4620 [00:27<00:24, 78.82it/s]"
     ]
    },
    {
     "name": "stdout",
     "output_type": "stream",
     "text": [
      "saving dir .\\features\\train\\white\\5db\n",
      "saving dir .\\features\\train\\white\\5db\n",
      "saving dir .\\features\\train\\white\\5db\n",
      "saving dir .\\features\\train\\white\\5db\n",
      "saving dir .\\features\\train\\white\\5db\n",
      "saving dir .\\features\\train\\white\\5db\n",
      "saving dir .\\features\\train\\white\\5db\n",
      "saving dir .\\features\\train\\white\\5db\n",
      "saving dir .\\features\\train\\white\\5db\n"
     ]
    },
    {
     "name": "stderr",
     "output_type": "stream",
     "text": [
      "\r",
      "Converting train audios:  59%|███████████████████████████████▏                     | 2717/4620 [00:28<00:23, 81.70it/s]"
     ]
    },
    {
     "name": "stdout",
     "output_type": "stream",
     "text": [
      "saving dir .\\features\\train\\white\\5db\n",
      "saving dir .\\features\\train\\white\\5db\n",
      "saving dir .\\features\\train\\white\\5db\n",
      "saving dir .\\features\\train\\white\\5db\n",
      "saving dir .\\features\\train\\white\\5db\n",
      "saving dir .\\features\\train\\white\\5db\n",
      "saving dir .\\features\\train\\white\\5db\n",
      "saving dir .\\features\\train\\white\\5db\n",
      "saving dir .\\features\\train\\white\\5db\n"
     ]
    },
    {
     "name": "stderr",
     "output_type": "stream",
     "text": [
      "\r",
      "Converting train audios:  59%|███████████████████████████████▎                     | 2726/4620 [00:28<00:22, 83.63it/s]"
     ]
    },
    {
     "name": "stdout",
     "output_type": "stream",
     "text": [
      "saving dir .\\features\\train\\white\\5db\n",
      "saving dir .\\features\\train\\white\\5db\n",
      "saving dir .\\features\\train\\white\\5db\n",
      "saving dir .\\features\\train\\white\\5db\n",
      "saving dir .\\features\\train\\white\\5db\n",
      "saving dir .\\features\\train\\white\\5db\n",
      "saving dir .\\features\\train\\white\\5db\n",
      "saving dir .\\features\\train\\white\\5db\n",
      "saving dir .\\features\\train\\white\\5db\n"
     ]
    },
    {
     "name": "stderr",
     "output_type": "stream",
     "text": [
      "\r",
      "Converting train audios:  59%|███████████████████████████████▍                     | 2735/4620 [00:28<00:22, 84.31it/s]"
     ]
    },
    {
     "name": "stdout",
     "output_type": "stream",
     "text": [
      "saving dir .\\features\\train\\white\\5db\n",
      "saving dir .\\features\\train\\white\\5db\n",
      "saving dir .\\features\\train\\white\\5db\n",
      "saving dir .\\features\\train\\white\\5db\n",
      "saving dir .\\features\\train\\white\\5db\n",
      "saving dir .\\features\\train\\white\\5db\n",
      "saving dir .\\features\\train\\white\\5db\n",
      "saving dir .\\features\\train\\white\\5db\n",
      "saving dir .\\features\\train\\white\\5db\n"
     ]
    },
    {
     "name": "stderr",
     "output_type": "stream",
     "text": [
      "\r",
      "Converting train audios:  59%|███████████████████████████████▍                     | 2744/4620 [00:28<00:25, 74.68it/s]"
     ]
    },
    {
     "name": "stdout",
     "output_type": "stream",
     "text": [
      "saving dir .\\features\\train\\white\\5db\n",
      "saving dir .\\features\\train\\white\\5db\n",
      "saving dir .\\features\\train\\white\\5db\n",
      "saving dir .\\features\\train\\white\\5db\n",
      "saving dir .\\features\\train\\white\\5db\n",
      "saving dir .\\features\\train\\white\\5db\n",
      "saving dir .\\features\\train\\white\\5db\n",
      "saving dir .\\features\\train\\white\\5db\n",
      "saving dir .\\features\\train\\white\\5db\n"
     ]
    },
    {
     "name": "stderr",
     "output_type": "stream",
     "text": [
      "\r",
      "Converting train audios:  60%|███████████████████████████████▌                     | 2753/4620 [00:28<00:23, 77.95it/s]"
     ]
    },
    {
     "name": "stdout",
     "output_type": "stream",
     "text": [
      "saving dir .\\features\\train\\white\\5db\n",
      "saving dir .\\features\\train\\white\\5db\n",
      "saving dir .\\features\\train\\white\\5db\n",
      "saving dir .\\features\\train\\white\\5db\n",
      "saving dir .\\features\\train\\white\\5db\n",
      "saving dir .\\features\\train\\white\\5db\n",
      "saving dir .\\features\\train\\white\\5db\n",
      "saving dir .\\features\\train\\white\\5db\n",
      "saving dir .\\features\\train\\white\\5db\n"
     ]
    },
    {
     "name": "stderr",
     "output_type": "stream",
     "text": [
      "\r",
      "Converting train audios:  60%|███████████████████████████████▋                     | 2762/4620 [00:28<00:23, 80.40it/s]"
     ]
    },
    {
     "name": "stdout",
     "output_type": "stream",
     "text": [
      "saving dir .\\features\\train\\white\\5db\n",
      "saving dir .\\features\\train\\white\\5db\n",
      "saving dir .\\features\\train\\white\\5db\n",
      "saving dir .\\features\\train\\white\\5db\n",
      "saving dir .\\features\\train\\white\\5db\n",
      "saving dir .\\features\\train\\white\\5db\n",
      "saving dir .\\features\\train\\white\\5db\n",
      "saving dir .\\features\\train\\white\\5db\n",
      "saving dir .\\features\\train\\white\\5db\n",
      "saving dir .\\features\\train\\white\\5db\n"
     ]
    },
    {
     "name": "stderr",
     "output_type": "stream",
     "text": [
      "\r",
      "Converting train audios:  60%|███████████████████████████████▊                     | 2772/4620 [00:28<00:22, 83.77it/s]"
     ]
    },
    {
     "name": "stdout",
     "output_type": "stream",
     "text": [
      "saving dir .\\features\\train\\white\\5db\n",
      "saving dir .\\features\\train\\white\\5db\n",
      "saving dir .\\features\\train\\white\\5db\n",
      "saving dir .\\features\\train\\white\\5db\n",
      "saving dir .\\features\\train\\white\\5db\n",
      "saving dir .\\features\\train\\white\\5db\n",
      "saving dir .\\features\\train\\white\\5db\n",
      "saving dir .\\features\\train\\white\\5db\n",
      "saving dir .\\features\\train\\white\\5db\n"
     ]
    },
    {
     "name": "stderr",
     "output_type": "stream",
     "text": [
      "\r",
      "Converting train audios:  60%|███████████████████████████████▉                     | 2781/4620 [00:28<00:21, 84.41it/s]"
     ]
    },
    {
     "name": "stdout",
     "output_type": "stream",
     "text": [
      "saving dir .\\features\\train\\white\\5db\n",
      "saving dir .\\features\\train\\white\\5db\n",
      "saving dir .\\features\\train\\white\\5db\n",
      "saving dir .\\features\\train\\white\\5db\n",
      "saving dir .\\features\\train\\white\\5db\n",
      "saving dir .\\features\\train\\white\\5db\n",
      "saving dir .\\features\\train\\white\\5db\n",
      "saving dir .\\features\\train\\white\\5db\n",
      "saving dir .\\features\\train\\white\\5db\n"
     ]
    },
    {
     "name": "stderr",
     "output_type": "stream",
     "text": [
      "\r",
      "Converting train audios:  60%|████████████████████████████████                     | 2790/4620 [00:29<00:25, 70.54it/s]"
     ]
    },
    {
     "name": "stdout",
     "output_type": "stream",
     "text": [
      "saving dir .\\features\\train\\white\\5db\n",
      "saving dir .\\features\\train\\white\\5db\n",
      "saving dir .\\features\\train\\white\\5db\n",
      "saving dir .\\features\\train\\white\\5db\n",
      "saving dir .\\features\\train\\white\\5db\n",
      "saving dir .\\features\\train\\white\\5db\n",
      "saving dir .\\features\\train\\white\\5db\n",
      "saving dir .\\features\\train\\white\\5db\n",
      "saving dir .\\features\\train\\white\\5db\n",
      "saving dir .\\features\\train\\white\\5db\n"
     ]
    },
    {
     "name": "stderr",
     "output_type": "stream",
     "text": [
      "\r",
      "Converting train audios:  61%|████████████████████████████████                     | 2800/4620 [00:29<00:23, 76.36it/s]"
     ]
    },
    {
     "name": "stdout",
     "output_type": "stream",
     "text": [
      "saving dir .\\features\\train\\white\\5db\n",
      "saving dir .\\features\\train\\white\\5db\n",
      "saving dir .\\features\\train\\white\\5db\n",
      "saving dir .\\features\\train\\white\\5db\n",
      "saving dir .\\features\\train\\white\\5db\n",
      "saving dir .\\features\\train\\white\\5db\n",
      "saving dir .\\features\\train\\white\\5db\n",
      "saving dir .\\features\\train\\white\\5db\n",
      "saving dir .\\features\\train\\white\\5db\n"
     ]
    },
    {
     "name": "stderr",
     "output_type": "stream",
     "text": [
      "\r",
      "Converting train audios:  61%|████████████████████████████████▏                    | 2809/4620 [00:29<00:23, 77.18it/s]"
     ]
    },
    {
     "name": "stdout",
     "output_type": "stream",
     "text": [
      "saving dir .\\features\\train\\white\\5db\n",
      "saving dir .\\features\\train\\white\\5db\n",
      "saving dir .\\features\\train\\white\\5db\n",
      "saving dir .\\features\\train\\white\\5db\n",
      "saving dir .\\features\\train\\white\\5db\n",
      "saving dir .\\features\\train\\white\\5db\n",
      "saving dir .\\features\\train\\white\\5db\n",
      "saving dir .\\features\\train\\white\\5db\n",
      "saving dir .\\features\\train\\white\\5db\n",
      "saving dir .\\features\\train\\white\\5db\n"
     ]
    },
    {
     "name": "stderr",
     "output_type": "stream",
     "text": [
      "\r",
      "Converting train audios:  61%|████████████████████████████████▎                    | 2819/4620 [00:29<00:21, 81.89it/s]"
     ]
    },
    {
     "name": "stdout",
     "output_type": "stream",
     "text": [
      "saving dir .\\features\\train\\white\\5db\n",
      "saving dir .\\features\\train\\white\\5db\n",
      "saving dir .\\features\\train\\white\\5db\n",
      "saving dir .\\features\\train\\white\\5db\n",
      "saving dir .\\features\\train\\white\\5db\n",
      "saving dir .\\features\\train\\white\\5db\n",
      "saving dir .\\features\\train\\white\\5db\n",
      "saving dir .\\features\\train\\white\\5db\n",
      "saving dir .\\features\\train\\white\\5db\n"
     ]
    },
    {
     "name": "stderr",
     "output_type": "stream",
     "text": [
      "\r",
      "Converting train audios:  61%|████████████████████████████████▍                    | 2828/4620 [00:29<00:21, 83.75it/s]"
     ]
    },
    {
     "name": "stdout",
     "output_type": "stream",
     "text": [
      "saving dir .\\features\\train\\white\\5db\n",
      "saving dir .\\features\\train\\white\\5db\n",
      "saving dir .\\features\\train\\white\\5db\n",
      "saving dir .\\features\\train\\white\\5db\n",
      "saving dir .\\features\\train\\white\\5db\n",
      "saving dir .\\features\\train\\white\\5db\n",
      "saving dir .\\features\\train\\white\\5db\n",
      "saving dir .\\features\\train\\white\\5db\n",
      "saving dir .\\features\\train\\white\\5db\n"
     ]
    },
    {
     "name": "stderr",
     "output_type": "stream",
     "text": [
      "\r",
      "Converting train audios:  61%|████████████████████████████████▌                    | 2837/4620 [00:29<00:21, 84.40it/s]"
     ]
    },
    {
     "name": "stdout",
     "output_type": "stream",
     "text": [
      "saving dir .\\features\\train\\white\\5db\n",
      "saving dir .\\features\\train\\white\\5db\n",
      "saving dir .\\features\\train\\white\\5db\n",
      "saving dir .\\features\\train\\white\\5db\n",
      "saving dir .\\features\\train\\white\\5db\n",
      "saving dir .\\features\\train\\white\\5db\n",
      "saving dir .\\features\\train\\white\\5db\n",
      "saving dir .\\features\\train\\white\\5db\n",
      "saving dir .\\features\\train\\white\\5db\n",
      "saving dir .\\features\\train\\white\\5db\n"
     ]
    },
    {
     "name": "stderr",
     "output_type": "stream",
     "text": [
      "\r",
      "Converting train audios:  62%|████████████████████████████████▋                    | 2847/4620 [00:29<00:20, 86.99it/s]"
     ]
    },
    {
     "name": "stdout",
     "output_type": "stream",
     "text": [
      "saving dir .\\features\\train\\white\\5db\n",
      "saving dir .\\features\\train\\white\\5db\n",
      "saving dir .\\features\\train\\white\\5db\n",
      "saving dir .\\features\\train\\white\\5db\n",
      "saving dir .\\features\\train\\white\\5db\n",
      "saving dir .\\features\\train\\white\\5db\n",
      "saving dir .\\features\\train\\white\\5db\n",
      "saving dir .\\features\\train\\white\\5db\n",
      "saving dir .\\features\\train\\white\\5db\n",
      "saving dir .\\features\\train\\white\\5db\n"
     ]
    },
    {
     "name": "stderr",
     "output_type": "stream",
     "text": [
      "\r",
      "Converting train audios:  62%|████████████████████████████████▊                    | 2857/4620 [00:29<00:19, 88.43it/s]"
     ]
    },
    {
     "name": "stdout",
     "output_type": "stream",
     "text": [
      "saving dir .\\features\\train\\white\\5db\n",
      "saving dir .\\features\\train\\white\\5db\n",
      "saving dir .\\features\\train\\white\\5db\n",
      "saving dir .\\features\\train\\white\\5db\n",
      "saving dir .\\features\\train\\white\\5db\n",
      "saving dir .\\features\\train\\white\\5db\n",
      "saving dir .\\features\\train\\white\\5db\n",
      "saving dir .\\features\\train\\white\\5db\n",
      "saving dir .\\features\\train\\white\\5db\n",
      "saving dir .\\features\\train\\white\\5db\n"
     ]
    },
    {
     "name": "stderr",
     "output_type": "stream",
     "text": [
      "\r",
      "Converting train audios:  62%|████████████████████████████████▉                    | 2867/4620 [00:29<00:19, 89.71it/s]"
     ]
    },
    {
     "name": "stdout",
     "output_type": "stream",
     "text": [
      "saving dir .\\features\\train\\white\\5db\n",
      "saving dir .\\features\\train\\white\\5db\n",
      "saving dir .\\features\\train\\white\\5db\n",
      "saving dir .\\features\\train\\white\\5db\n",
      "saving dir .\\features\\train\\white\\5db\n",
      "saving dir .\\features\\train\\white\\5db\n",
      "saving dir .\\features\\train\\white\\5db\n",
      "saving dir .\\features\\train\\white\\5db\n",
      "saving dir .\\features\\train\\white\\5db\n",
      "saving dir .\\features\\train\\white\\5db\n"
     ]
    },
    {
     "name": "stderr",
     "output_type": "stream",
     "text": [
      "\r",
      "Converting train audios:  62%|█████████████████████████████████                    | 2877/4620 [00:29<00:18, 92.38it/s]"
     ]
    },
    {
     "name": "stdout",
     "output_type": "stream",
     "text": [
      "saving dir .\\features\\train\\white\\5db\n",
      "saving dir .\\features\\train\\white\\5db\n",
      "saving dir .\\features\\train\\white\\5db\n",
      "saving dir .\\features\\train\\white\\5db\n",
      "saving dir .\\features\\train\\white\\5db\n",
      "saving dir .\\features\\train\\white\\5db\n",
      "saving dir .\\features\\train\\white\\5db\n",
      "saving dir .\\features\\train\\white\\5db\n",
      "saving dir .\\features\\train\\white\\5db\n",
      "saving dir .\\features\\train\\white\\5db\n"
     ]
    },
    {
     "name": "stderr",
     "output_type": "stream",
     "text": [
      "\r",
      "Converting train audios:  62%|█████████████████████████████████                    | 2887/4620 [00:30<00:18, 93.04it/s]"
     ]
    },
    {
     "name": "stdout",
     "output_type": "stream",
     "text": [
      "saving dir .\\features\\train\\white\\5db\n",
      "saving dir .\\features\\train\\white\\5db\n",
      "saving dir .\\features\\train\\white\\5db\n",
      "saving dir .\\features\\train\\white\\5db\n",
      "saving dir .\\features\\train\\white\\5db\n",
      "saving dir .\\features\\train\\white\\5db\n",
      "saving dir .\\features\\train\\white\\5db\n",
      "saving dir .\\features\\train\\white\\5db\n",
      "saving dir .\\features\\train\\white\\5db\n",
      "saving dir .\\features\\train\\white\\5db\n"
     ]
    },
    {
     "name": "stderr",
     "output_type": "stream",
     "text": [
      "\r",
      "Converting train audios:  63%|█████████████████████████████████▏                   | 2897/4620 [00:30<00:19, 87.15it/s]"
     ]
    },
    {
     "name": "stdout",
     "output_type": "stream",
     "text": [
      "saving dir .\\features\\train\\white\\5db\n",
      "saving dir .\\features\\train\\white\\5db\n",
      "saving dir .\\features\\train\\white\\5db\n",
      "saving dir .\\features\\train\\white\\5db\n",
      "saving dir .\\features\\train\\white\\5db\n",
      "saving dir .\\features\\train\\white\\5db\n",
      "saving dir .\\features\\train\\white\\5db\n",
      "saving dir .\\features\\train\\white\\5db\n",
      "saving dir .\\features\\train\\white\\5db\n"
     ]
    },
    {
     "name": "stderr",
     "output_type": "stream",
     "text": [
      "\r",
      "Converting train audios:  63%|█████████████████████████████████▎                   | 2906/4620 [00:30<00:19, 86.79it/s]"
     ]
    },
    {
     "name": "stdout",
     "output_type": "stream",
     "text": [
      "saving dir .\\features\\train\\white\\5db\n",
      "saving dir .\\features\\train\\white\\5db\n",
      "saving dir .\\features\\train\\white\\5db\n",
      "saving dir .\\features\\train\\white\\5db\n",
      "saving dir .\\features\\train\\white\\5db\n",
      "saving dir .\\features\\train\\white\\5db\n",
      "saving dir .\\features\\train\\white\\5db\n",
      "saving dir .\\features\\train\\white\\5db\n",
      "saving dir .\\features\\train\\white\\5db\n",
      "saving dir .\\features\\train\\white\\5db\n"
     ]
    },
    {
     "name": "stderr",
     "output_type": "stream",
     "text": [
      "\r",
      "Converting train audios:  63%|█████████████████████████████████▍                   | 2916/4620 [00:30<00:19, 88.52it/s]"
     ]
    },
    {
     "name": "stdout",
     "output_type": "stream",
     "text": [
      "saving dir .\\features\\train\\white\\5db\n",
      "saving dir .\\features\\train\\white\\5db\n",
      "saving dir .\\features\\train\\white\\5db\n",
      "saving dir .\\features\\train\\white\\5db\n",
      "saving dir .\\features\\train\\white\\5db\n",
      "saving dir .\\features\\train\\white\\5db\n",
      "saving dir .\\features\\train\\white\\5db\n",
      "saving dir .\\features\\train\\white\\5db\n",
      "saving dir .\\features\\train\\white\\5db\n",
      "saving dir .\\features\\train\\white\\5db\n"
     ]
    },
    {
     "name": "stderr",
     "output_type": "stream",
     "text": [
      "\r",
      "Converting train audios:  63%|█████████████████████████████████▌                   | 2926/4620 [00:30<00:19, 89.06it/s]"
     ]
    },
    {
     "name": "stdout",
     "output_type": "stream",
     "text": [
      "saving dir .\\features\\train\\white\\5db\n",
      "saving dir .\\features\\train\\white\\5db\n",
      "saving dir .\\features\\train\\white\\5db\n",
      "saving dir .\\features\\train\\white\\5db\n",
      "saving dir .\\features\\train\\white\\5db\n",
      "saving dir .\\features\\train\\white\\5db\n",
      "saving dir .\\features\\train\\white\\5db\n",
      "saving dir .\\features\\train\\white\\5db\n",
      "saving dir .\\features\\train\\white\\5db\n",
      "saving dir .\\features\\train\\white\\5db\n"
     ]
    },
    {
     "name": "stderr",
     "output_type": "stream",
     "text": [
      "\r",
      "Converting train audios:  64%|█████████████████████████████████▋                   | 2936/4620 [00:30<00:18, 91.39it/s]"
     ]
    },
    {
     "name": "stdout",
     "output_type": "stream",
     "text": [
      "saving dir .\\features\\train\\white\\5db\n",
      "saving dir .\\features\\train\\white\\5db\n",
      "saving dir .\\features\\train\\white\\5db\n",
      "saving dir .\\features\\train\\white\\5db\n",
      "saving dir .\\features\\train\\white\\5db\n",
      "saving dir .\\features\\train\\white\\5db\n",
      "saving dir .\\features\\train\\white\\5db\n",
      "saving dir .\\features\\train\\white\\5db\n",
      "saving dir .\\features\\train\\white\\5db\n",
      "saving dir .\\features\\train\\white\\5db\n"
     ]
    },
    {
     "name": "stderr",
     "output_type": "stream",
     "text": [
      "\r",
      "Converting train audios:  64%|█████████████████████████████████▊                   | 2946/4620 [00:30<00:18, 90.58it/s]"
     ]
    },
    {
     "name": "stdout",
     "output_type": "stream",
     "text": [
      "saving dir .\\features\\train\\white\\5db\n",
      "saving dir .\\features\\train\\white\\5db\n",
      "saving dir .\\features\\train\\white\\5db\n",
      "saving dir .\\features\\train\\white\\5db\n",
      "saving dir .\\features\\train\\white\\5db\n",
      "saving dir .\\features\\train\\white\\5db\n",
      "saving dir .\\features\\train\\white\\5db\n",
      "saving dir .\\features\\train\\white\\5db\n",
      "saving dir .\\features\\train\\white\\5db\n",
      "saving dir .\\features\\train\\white\\5db\n"
     ]
    },
    {
     "name": "stderr",
     "output_type": "stream",
     "text": [
      "\r",
      "Converting train audios:  64%|█████████████████████████████████▉                   | 2956/4620 [00:30<00:18, 90.26it/s]"
     ]
    },
    {
     "name": "stdout",
     "output_type": "stream",
     "text": [
      "saving dir .\\features\\train\\white\\5db\n",
      "saving dir .\\features\\train\\white\\5db\n",
      "saving dir .\\features\\train\\white\\5db\n",
      "saving dir .\\features\\train\\white\\5db\n",
      "saving dir .\\features\\train\\white\\5db\n",
      "saving dir .\\features\\train\\white\\5db\n",
      "saving dir .\\features\\train\\white\\5db\n",
      "saving dir .\\features\\train\\white\\5db\n",
      "saving dir .\\features\\train\\white\\5db\n",
      "saving dir .\\features\\train\\white\\5db\n"
     ]
    },
    {
     "name": "stderr",
     "output_type": "stream",
     "text": [
      "\r",
      "Converting train audios:  64%|██████████████████████████████████                   | 2966/4620 [00:30<00:18, 90.77it/s]"
     ]
    },
    {
     "name": "stdout",
     "output_type": "stream",
     "text": [
      "saving dir .\\features\\train\\white\\5db\n",
      "saving dir .\\features\\train\\white\\5db\n",
      "saving dir .\\features\\train\\white\\5db\n",
      "saving dir .\\features\\train\\white\\5db\n",
      "saving dir .\\features\\train\\white\\5db\n",
      "saving dir .\\features\\train\\white\\5db\n",
      "saving dir .\\features\\train\\white\\5db\n",
      "saving dir .\\features\\train\\white\\5db\n",
      "saving dir .\\features\\train\\white\\5db\n",
      "saving dir .\\features\\train\\white\\5db\n"
     ]
    },
    {
     "name": "stderr",
     "output_type": "stream",
     "text": [
      "\r",
      "Converting train audios:  64%|██████████████████████████████████▏                  | 2976/4620 [00:31<00:18, 90.15it/s]"
     ]
    },
    {
     "name": "stdout",
     "output_type": "stream",
     "text": [
      "saving dir .\\features\\train\\white\\5db\n",
      "saving dir .\\features\\train\\white\\5db\n",
      "saving dir .\\features\\train\\white\\5db\n",
      "saving dir .\\features\\train\\white\\5db\n",
      "saving dir .\\features\\train\\white\\5db\n",
      "saving dir .\\features\\train\\white\\5db\n",
      "saving dir .\\features\\train\\white\\5db\n",
      "saving dir .\\features\\train\\white\\5db\n",
      "saving dir .\\features\\train\\white\\5db\n",
      "saving dir .\\features\\train\\white\\5db\n"
     ]
    },
    {
     "name": "stderr",
     "output_type": "stream",
     "text": [
      "\r",
      "Converting train audios:  65%|██████████████████████████████████▎                  | 2986/4620 [00:31<00:19, 85.58it/s]"
     ]
    },
    {
     "name": "stdout",
     "output_type": "stream",
     "text": [
      "saving dir .\\features\\train\\white\\5db\n",
      "saving dir .\\features\\train\\white\\5db\n",
      "saving dir .\\features\\train\\white\\5db\n",
      "saving dir .\\features\\train\\white\\5db\n",
      "saving dir .\\features\\train\\white\\5db\n",
      "saving dir .\\features\\train\\white\\5db\n",
      "saving dir .\\features\\train\\white\\5db\n",
      "saving dir .\\features\\train\\white\\5db\n",
      "saving dir .\\features\\train\\white\\5db\n",
      "saving dir .\\features\\train\\white\\5db\n"
     ]
    },
    {
     "name": "stderr",
     "output_type": "stream",
     "text": [
      "\r",
      "Converting train audios:  65%|██████████████████████████████████▎                  | 2996/4620 [00:31<00:18, 88.79it/s]"
     ]
    },
    {
     "name": "stdout",
     "output_type": "stream",
     "text": [
      "saving dir .\\features\\train\\white\\5db\n",
      "saving dir .\\features\\train\\white\\5db\n",
      "saving dir .\\features\\train\\white\\5db\n",
      "saving dir .\\features\\train\\white\\5db\n",
      "saving dir .\\features\\train\\white\\5db\n",
      "saving dir .\\features\\train\\white\\5db\n",
      "saving dir .\\features\\train\\white\\5db\n",
      "saving dir .\\features\\train\\white\\5db\n",
      "saving dir .\\features\\train\\white\\5db\n",
      "saving dir .\\features\\train\\white\\5db\n"
     ]
    },
    {
     "name": "stderr",
     "output_type": "stream",
     "text": [
      "\r",
      "Converting train audios:  65%|██████████████████████████████████▍                  | 3006/4620 [00:31<00:17, 89.98it/s]"
     ]
    },
    {
     "name": "stdout",
     "output_type": "stream",
     "text": [
      "saving dir .\\features\\train\\white\\5db\n",
      "saving dir .\\features\\train\\white\\5db\n",
      "saving dir .\\features\\train\\white\\5db\n",
      "saving dir .\\features\\train\\white\\5db\n",
      "saving dir .\\features\\train\\white\\5db\n",
      "saving dir .\\features\\train\\white\\5db\n",
      "saving dir .\\features\\train\\white\\5db\n",
      "saving dir .\\features\\train\\white\\5db\n",
      "saving dir .\\features\\train\\white\\5db\n",
      "saving dir .\\features\\train\\white\\5db\n"
     ]
    },
    {
     "name": "stderr",
     "output_type": "stream",
     "text": [
      "\r",
      "Converting train audios:  65%|██████████████████████████████████▌                  | 3016/4620 [00:31<00:18, 85.04it/s]"
     ]
    },
    {
     "name": "stdout",
     "output_type": "stream",
     "text": [
      "saving dir .\\features\\train\\white\\5db\n",
      "saving dir .\\features\\train\\white\\5db\n",
      "saving dir .\\features\\train\\white\\5db\n",
      "saving dir .\\features\\train\\white\\5db\n",
      "saving dir .\\features\\train\\white\\5db\n",
      "saving dir .\\features\\train\\white\\5db\n",
      "saving dir .\\features\\train\\white\\5db\n",
      "saving dir .\\features\\train\\white\\5db\n",
      "saving dir .\\features\\train\\white\\5db\n",
      "saving dir .\\features\\train\\white\\5db\n"
     ]
    },
    {
     "name": "stderr",
     "output_type": "stream",
     "text": [
      "\r",
      "Converting train audios:  65%|██████████████████████████████████▋                  | 3026/4620 [00:31<00:18, 87.93it/s]"
     ]
    },
    {
     "name": "stdout",
     "output_type": "stream",
     "text": [
      "saving dir .\\features\\train\\white\\5db\n",
      "saving dir .\\features\\train\\white\\5db\n",
      "saving dir .\\features\\train\\white\\5db\n",
      "saving dir .\\features\\train\\white\\5db\n",
      "saving dir .\\features\\train\\white\\5db\n",
      "saving dir .\\features\\train\\white\\5db\n",
      "saving dir .\\features\\train\\white\\5db\n",
      "saving dir .\\features\\train\\white\\5db\n",
      "saving dir .\\features\\train\\white\\5db\n",
      "saving dir .\\features\\train\\white\\5db\n"
     ]
    },
    {
     "name": "stderr",
     "output_type": "stream",
     "text": [
      "\r",
      "Converting train audios:  66%|██████████████████████████████████▊                  | 3036/4620 [00:31<00:17, 90.31it/s]"
     ]
    },
    {
     "name": "stdout",
     "output_type": "stream",
     "text": [
      "saving dir .\\features\\train\\white\\5db\n",
      "saving dir .\\features\\train\\white\\5db\n",
      "saving dir .\\features\\train\\white\\5db\n",
      "saving dir .\\features\\train\\white\\5db\n",
      "saving dir .\\features\\train\\white\\5db\n",
      "saving dir .\\features\\train\\white\\5db\n",
      "saving dir .\\features\\train\\white\\5db\n",
      "saving dir .\\features\\train\\white\\5db\n",
      "saving dir .\\features\\train\\white\\5db\n",
      "saving dir .\\features\\train\\white\\5db\n"
     ]
    },
    {
     "name": "stderr",
     "output_type": "stream",
     "text": [
      "\r",
      "Converting train audios:  66%|██████████████████████████████████▉                  | 3046/4620 [00:31<00:17, 91.81it/s]"
     ]
    },
    {
     "name": "stdout",
     "output_type": "stream",
     "text": [
      "saving dir .\\features\\train\\white\\5db\n",
      "saving dir .\\features\\train\\white\\5db\n",
      "saving dir .\\features\\train\\white\\5db\n",
      "saving dir .\\features\\train\\white\\5db\n",
      "saving dir .\\features\\train\\white\\5db\n",
      "saving dir .\\features\\train\\white\\5db\n",
      "saving dir .\\features\\train\\white\\5db\n",
      "saving dir .\\features\\train\\white\\5db\n",
      "saving dir .\\features\\train\\white\\5db\n",
      "saving dir .\\features\\train\\white\\5db\n"
     ]
    },
    {
     "name": "stderr",
     "output_type": "stream",
     "text": [
      "\r",
      "Converting train audios:  66%|███████████████████████████████████                  | 3056/4620 [00:32<00:17, 87.99it/s]"
     ]
    },
    {
     "name": "stdout",
     "output_type": "stream",
     "text": [
      "saving dir .\\features\\train\\white\\5db\n",
      "saving dir .\\features\\train\\white\\5db\n",
      "saving dir .\\features\\train\\white\\5db\n",
      "saving dir .\\features\\train\\white\\5db\n",
      "saving dir .\\features\\train\\white\\5db\n",
      "saving dir .\\features\\train\\white\\5db\n",
      "saving dir .\\features\\train\\white\\5db\n",
      "saving dir .\\features\\train\\white\\5db\n",
      "saving dir .\\features\\train\\white\\5db\n"
     ]
    },
    {
     "name": "stderr",
     "output_type": "stream",
     "text": [
      "\r",
      "Converting train audios:  66%|███████████████████████████████████▏                 | 3065/4620 [00:32<00:17, 86.61it/s]"
     ]
    },
    {
     "name": "stdout",
     "output_type": "stream",
     "text": [
      "saving dir .\\features\\train\\white\\5db\n",
      "saving dir .\\features\\train\\white\\5db\n",
      "saving dir .\\features\\train\\white\\5db\n",
      "saving dir .\\features\\train\\white\\5db\n",
      "saving dir .\\features\\train\\white\\5db\n",
      "saving dir .\\features\\train\\white\\5db\n",
      "saving dir .\\features\\train\\white\\5db\n",
      "saving dir .\\features\\train\\white\\5db\n",
      "saving dir .\\features\\train\\white\\5db\n"
     ]
    },
    {
     "name": "stderr",
     "output_type": "stream",
     "text": [
      "\r",
      "Converting train audios:  67%|███████████████████████████████████▎                 | 3074/4620 [00:32<00:17, 87.16it/s]"
     ]
    },
    {
     "name": "stdout",
     "output_type": "stream",
     "text": [
      "saving dir .\\features\\train\\white\\5db\n",
      "saving dir .\\features\\train\\white\\5db\n",
      "saving dir .\\features\\train\\white\\5db\n",
      "saving dir .\\features\\train\\white\\5db\n",
      "saving dir .\\features\\train\\white\\5db\n",
      "saving dir .\\features\\train\\white\\5db\n",
      "saving dir .\\features\\train\\white\\5db\n",
      "saving dir .\\features\\train\\white\\5db\n",
      "saving dir .\\features\\train\\white\\5db\n"
     ]
    },
    {
     "name": "stderr",
     "output_type": "stream",
     "text": [
      "\r",
      "Converting train audios:  67%|███████████████████████████████████▎                 | 3083/4620 [00:32<00:17, 85.80it/s]"
     ]
    },
    {
     "name": "stdout",
     "output_type": "stream",
     "text": [
      "saving dir .\\features\\train\\white\\5db\n",
      "saving dir .\\features\\train\\white\\5db\n",
      "saving dir .\\features\\train\\white\\5db\n",
      "saving dir .\\features\\train\\white\\5db\n",
      "saving dir .\\features\\train\\white\\5db\n",
      "saving dir .\\features\\train\\white\\5db\n",
      "saving dir .\\features\\train\\white\\5db\n",
      "saving dir .\\features\\train\\white\\5db\n",
      "saving dir .\\features\\train\\white\\5db\n"
     ]
    },
    {
     "name": "stderr",
     "output_type": "stream",
     "text": [
      "\r",
      "Converting train audios:  67%|███████████████████████████████████▍                 | 3092/4620 [00:32<00:17, 86.33it/s]"
     ]
    },
    {
     "name": "stdout",
     "output_type": "stream",
     "text": [
      "saving dir .\\features\\train\\white\\5db\n",
      "saving dir .\\features\\train\\white\\5db\n",
      "saving dir .\\features\\train\\white\\5db\n",
      "saving dir .\\features\\train\\white\\5db\n",
      "saving dir .\\features\\train\\white\\5db\n",
      "saving dir .\\features\\train\\white\\5db\n",
      "saving dir .\\features\\train\\white\\5db\n",
      "saving dir .\\features\\train\\white\\5db\n",
      "saving dir .\\features\\train\\white\\5db\n"
     ]
    },
    {
     "name": "stderr",
     "output_type": "stream",
     "text": [
      "\r",
      "Converting train audios:  67%|███████████████████████████████████▌                 | 3101/4620 [00:32<00:18, 82.22it/s]"
     ]
    },
    {
     "name": "stdout",
     "output_type": "stream",
     "text": [
      "saving dir .\\features\\train\\white\\5db\n",
      "saving dir .\\features\\train\\white\\5db\n",
      "saving dir .\\features\\train\\white\\5db\n",
      "saving dir .\\features\\train\\white\\5db\n",
      "saving dir .\\features\\train\\white\\5db\n",
      "saving dir .\\features\\train\\white\\5db\n",
      "saving dir .\\features\\train\\white\\5db\n",
      "saving dir .\\features\\train\\white\\5db\n",
      "saving dir .\\features\\train\\white\\5db\n",
      "saving dir .\\features\\train\\white\\5db\n"
     ]
    },
    {
     "name": "stderr",
     "output_type": "stream",
     "text": [
      "\r",
      "Converting train audios:  67%|███████████████████████████████████▋                 | 3111/4620 [00:32<00:17, 85.14it/s]"
     ]
    },
    {
     "name": "stdout",
     "output_type": "stream",
     "text": [
      "saving dir .\\features\\train\\white\\5db\n",
      "saving dir .\\features\\train\\white\\5db\n",
      "saving dir .\\features\\train\\white\\5db\n",
      "saving dir .\\features\\train\\white\\5db\n",
      "saving dir .\\features\\train\\white\\5db\n",
      "saving dir .\\features\\train\\white\\5db\n",
      "saving dir .\\features\\train\\white\\5db\n",
      "saving dir .\\features\\train\\white\\5db\n",
      "saving dir .\\features\\train\\white\\5db\n"
     ]
    },
    {
     "name": "stderr",
     "output_type": "stream",
     "text": [
      "\r",
      "Converting train audios:  68%|███████████████████████████████████▊                 | 3120/4620 [00:32<00:17, 84.18it/s]"
     ]
    },
    {
     "name": "stdout",
     "output_type": "stream",
     "text": [
      "saving dir .\\features\\train\\white\\5db\n",
      "saving dir .\\features\\train\\white\\5db\n",
      "saving dir .\\features\\train\\white\\5db\n",
      "saving dir .\\features\\train\\white\\5db\n",
      "saving dir .\\features\\train\\white\\5db\n",
      "saving dir .\\features\\train\\white\\5db\n",
      "saving dir .\\features\\train\\white\\5db\n",
      "saving dir .\\features\\train\\white\\5db\n",
      "saving dir .\\features\\train\\white\\5db\n"
     ]
    },
    {
     "name": "stderr",
     "output_type": "stream",
     "text": [
      "\r",
      "Converting train audios:  68%|███████████████████████████████████▉                 | 3129/4620 [00:32<00:17, 85.67it/s]"
     ]
    },
    {
     "name": "stdout",
     "output_type": "stream",
     "text": [
      "saving dir .\\features\\train\\white\\5db\n",
      "saving dir .\\features\\train\\white\\5db\n",
      "saving dir .\\features\\train\\white\\5db\n",
      "saving dir .\\features\\train\\white\\5db\n",
      "saving dir .\\features\\train\\white\\5db\n",
      "saving dir .\\features\\train\\white\\5db\n",
      "saving dir .\\features\\train\\white\\5db\n",
      "saving dir .\\features\\train\\white\\5db\n",
      "saving dir .\\features\\train\\white\\5db\n"
     ]
    },
    {
     "name": "stderr",
     "output_type": "stream",
     "text": [
      "\r",
      "Converting train audios:  68%|███████████████████████████████████▉                 | 3138/4620 [00:32<00:17, 86.49it/s]"
     ]
    },
    {
     "name": "stdout",
     "output_type": "stream",
     "text": [
      "saving dir .\\features\\train\\white\\5db\n",
      "saving dir .\\features\\train\\white\\5db\n",
      "saving dir .\\features\\train\\white\\5db\n",
      "saving dir .\\features\\train\\white\\5db\n",
      "saving dir .\\features\\train\\white\\5db\n",
      "saving dir .\\features\\train\\white\\5db\n",
      "saving dir .\\features\\train\\white\\5db\n",
      "saving dir .\\features\\train\\white\\5db\n",
      "saving dir .\\features\\train\\white\\5db\n"
     ]
    },
    {
     "name": "stderr",
     "output_type": "stream",
     "text": [
      "\r",
      "Converting train audios:  68%|████████████████████████████████████                 | 3147/4620 [00:33<00:16, 86.83it/s]"
     ]
    },
    {
     "name": "stdout",
     "output_type": "stream",
     "text": [
      "saving dir .\\features\\train\\white\\5db\n",
      "saving dir .\\features\\train\\white\\5db\n",
      "saving dir .\\features\\train\\white\\5db\n",
      "saving dir .\\features\\train\\white\\5db\n",
      "saving dir .\\features\\train\\white\\5db\n",
      "saving dir .\\features\\train\\white\\5db\n",
      "saving dir .\\features\\train\\white\\5db\n",
      "saving dir .\\features\\train\\white\\5db\n",
      "saving dir .\\features\\train\\white\\5db\n",
      "saving dir .\\features\\train\\white\\5db\n"
     ]
    },
    {
     "name": "stderr",
     "output_type": "stream",
     "text": [
      "\r",
      "Converting train audios:  68%|████████████████████████████████████▏                | 3157/4620 [00:33<00:16, 89.26it/s]"
     ]
    },
    {
     "name": "stdout",
     "output_type": "stream",
     "text": [
      "saving dir .\\features\\train\\white\\5db\n",
      "saving dir .\\features\\train\\white\\5db\n",
      "saving dir .\\features\\train\\white\\5db\n",
      "saving dir .\\features\\train\\white\\5db\n",
      "saving dir .\\features\\train\\white\\5db\n",
      "saving dir .\\features\\train\\white\\5db\n",
      "saving dir .\\features\\train\\white\\5db\n",
      "saving dir .\\features\\train\\white\\5db\n",
      "saving dir .\\features\\train\\white\\5db\n"
     ]
    },
    {
     "name": "stderr",
     "output_type": "stream",
     "text": [
      "\r",
      "Converting train audios:  69%|████████████████████████████████████▎                | 3166/4620 [00:33<00:16, 88.76it/s]"
     ]
    },
    {
     "name": "stdout",
     "output_type": "stream",
     "text": [
      "saving dir .\\features\\train\\white\\5db\n",
      "saving dir .\\features\\train\\white\\5db\n",
      "saving dir .\\features\\train\\white\\5db\n",
      "saving dir .\\features\\train\\white\\5db\n",
      "saving dir .\\features\\train\\white\\5db\n",
      "saving dir .\\features\\train\\white\\5db\n",
      "saving dir .\\features\\train\\white\\5db\n",
      "saving dir .\\features\\train\\white\\5db\n",
      "saving dir .\\features\\train\\white\\5db\n",
      "saving dir .\\features\\train\\white\\5db\n"
     ]
    },
    {
     "name": "stderr",
     "output_type": "stream",
     "text": [
      "\r",
      "Converting train audios:  69%|████████████████████████████████████▍                | 3176/4620 [00:33<00:15, 90.92it/s]"
     ]
    },
    {
     "name": "stdout",
     "output_type": "stream",
     "text": [
      "saving dir .\\features\\train\\white\\5db\n",
      "saving dir .\\features\\train\\white\\5db\n",
      "saving dir .\\features\\train\\white\\5db\n",
      "saving dir .\\features\\train\\white\\5db\n",
      "saving dir .\\features\\train\\white\\5db\n",
      "saving dir .\\features\\train\\white\\5db\n",
      "saving dir .\\features\\train\\white\\5db\n",
      "saving dir .\\features\\train\\white\\5db\n",
      "saving dir .\\features\\train\\white\\5db\n",
      "saving dir .\\features\\train\\white\\5db\n"
     ]
    },
    {
     "name": "stderr",
     "output_type": "stream",
     "text": [
      "\r",
      "Converting train audios:  69%|████████████████████████████████████▌                | 3186/4620 [00:33<00:16, 89.29it/s]"
     ]
    },
    {
     "name": "stdout",
     "output_type": "stream",
     "text": [
      "saving dir .\\features\\train\\white\\5db\n",
      "saving dir .\\features\\train\\white\\5db\n",
      "saving dir .\\features\\train\\white\\5db\n",
      "saving dir .\\features\\train\\white\\5db\n",
      "saving dir .\\features\\train\\white\\5db\n",
      "saving dir .\\features\\train\\white\\5db\n",
      "saving dir .\\features\\train\\white\\5db\n",
      "saving dir .\\features\\train\\white\\5db\n",
      "saving dir .\\features\\train\\white\\5db\n"
     ]
    },
    {
     "name": "stderr",
     "output_type": "stream",
     "text": [
      "\r",
      "Converting train audios:  69%|████████████████████████████████████▋                | 3195/4620 [00:33<00:16, 86.23it/s]"
     ]
    },
    {
     "name": "stdout",
     "output_type": "stream",
     "text": [
      "saving dir .\\features\\train\\white\\5db\n",
      "saving dir .\\features\\train\\white\\5db\n",
      "saving dir .\\features\\train\\white\\5db\n",
      "saving dir .\\features\\train\\white\\5db\n",
      "saving dir .\\features\\train\\white\\5db\n",
      "saving dir .\\features\\train\\white\\5db\n",
      "saving dir .\\features\\train\\white\\5db\n",
      "saving dir .\\features\\train\\white\\5db\n",
      "saving dir .\\features\\train\\white\\5db\n",
      "saving dir .\\features\\train\\white\\5db\n"
     ]
    },
    {
     "name": "stderr",
     "output_type": "stream",
     "text": [
      "\r",
      "Converting train audios:  69%|████████████████████████████████████▊                | 3205/4620 [00:33<00:15, 89.05it/s]"
     ]
    },
    {
     "name": "stdout",
     "output_type": "stream",
     "text": [
      "saving dir .\\features\\train\\white\\5db\n",
      "saving dir .\\features\\train\\white\\5db\n",
      "saving dir .\\features\\train\\white\\5db\n",
      "saving dir .\\features\\train\\white\\5db\n",
      "saving dir .\\features\\train\\white\\5db\n",
      "saving dir .\\features\\train\\white\\5db\n",
      "saving dir .\\features\\train\\white\\5db\n",
      "saving dir .\\features\\train\\white\\5db\n",
      "saving dir .\\features\\train\\white\\5db\n",
      "saving dir .\\features\\train\\white\\5db\n"
     ]
    },
    {
     "name": "stderr",
     "output_type": "stream",
     "text": [
      "\r",
      "Converting train audios:  70%|████████████████████████████████████▉                | 3215/4620 [00:33<00:15, 90.16it/s]"
     ]
    },
    {
     "name": "stdout",
     "output_type": "stream",
     "text": [
      "saving dir .\\features\\train\\white\\5db\n",
      "saving dir .\\features\\train\\white\\5db\n",
      "saving dir .\\features\\train\\white\\5db\n",
      "saving dir .\\features\\train\\white\\5db\n",
      "saving dir .\\features\\train\\white\\5db\n",
      "saving dir .\\features\\train\\white\\5db\n",
      "saving dir .\\features\\train\\white\\5db\n",
      "saving dir .\\features\\train\\white\\5db\n",
      "saving dir .\\features\\train\\white\\5db\n",
      "saving dir .\\features\\train\\white\\5db\n"
     ]
    },
    {
     "name": "stderr",
     "output_type": "stream",
     "text": [
      "\r",
      "Converting train audios:  70%|████████████████████████████████████▉                | 3225/4620 [00:33<00:15, 89.48it/s]"
     ]
    },
    {
     "name": "stdout",
     "output_type": "stream",
     "text": [
      "saving dir .\\features\\train\\white\\5db\n",
      "saving dir .\\features\\train\\white\\5db\n",
      "saving dir .\\features\\train\\white\\5db\n",
      "saving dir .\\features\\train\\white\\5db\n",
      "saving dir .\\features\\train\\white\\5db\n",
      "saving dir .\\features\\train\\white\\5db\n",
      "saving dir .\\features\\train\\white\\5db\n",
      "saving dir .\\features\\train\\white\\5db\n",
      "saving dir .\\features\\train\\white\\5db\n",
      "saving dir .\\features\\train\\white\\5db\n"
     ]
    },
    {
     "name": "stderr",
     "output_type": "stream",
     "text": [
      "\r",
      "Converting train audios:  70%|█████████████████████████████████████                | 3235/4620 [00:34<00:15, 90.95it/s]"
     ]
    },
    {
     "name": "stdout",
     "output_type": "stream",
     "text": [
      "saving dir .\\features\\train\\white\\5db\n",
      "saving dir .\\features\\train\\white\\5db\n",
      "saving dir .\\features\\train\\white\\5db\n",
      "saving dir .\\features\\train\\white\\5db\n",
      "saving dir .\\features\\train\\white\\5db\n",
      "saving dir .\\features\\train\\white\\5db\n",
      "saving dir .\\features\\train\\white\\5db\n",
      "saving dir .\\features\\train\\white\\5db\n",
      "saving dir .\\features\\train\\white\\5db\n",
      "saving dir .\\features\\train\\white\\5db\n"
     ]
    },
    {
     "name": "stderr",
     "output_type": "stream",
     "text": [
      "\r",
      "Converting train audios:  70%|█████████████████████████████████████▏               | 3245/4620 [00:34<00:15, 90.53it/s]"
     ]
    },
    {
     "name": "stdout",
     "output_type": "stream",
     "text": [
      "saving dir .\\features\\train\\white\\5db\n",
      "saving dir .\\features\\train\\white\\5db\n",
      "saving dir .\\features\\train\\white\\5db\n",
      "saving dir .\\features\\train\\white\\5db\n",
      "saving dir .\\features\\train\\white\\5db\n",
      "saving dir .\\features\\train\\white\\5db\n",
      "saving dir .\\features\\train\\white\\5db\n",
      "saving dir .\\features\\train\\white\\5db\n",
      "saving dir .\\features\\train\\white\\5db\n",
      "saving dir .\\features\\train\\white\\5db\n"
     ]
    },
    {
     "name": "stderr",
     "output_type": "stream",
     "text": [
      "\r",
      "Converting train audios:  70%|█████████████████████████████████████▎               | 3255/4620 [00:34<00:14, 91.20it/s]"
     ]
    },
    {
     "name": "stdout",
     "output_type": "stream",
     "text": [
      "saving dir .\\features\\train\\white\\5db\n",
      "saving dir .\\features\\train\\white\\5db\n",
      "saving dir .\\features\\train\\white\\5db\n",
      "saving dir .\\features\\train\\white\\5db\n",
      "saving dir .\\features\\train\\white\\5db\n",
      "saving dir .\\features\\train\\white\\5db\n",
      "saving dir .\\features\\train\\white\\5db\n",
      "saving dir .\\features\\train\\white\\5db\n",
      "saving dir .\\features\\train\\white\\5db\n",
      "saving dir .\\features\\train\\white\\5db\n"
     ]
    },
    {
     "name": "stderr",
     "output_type": "stream",
     "text": [
      "\r",
      "Converting train audios:  71%|█████████████████████████████████████▍               | 3265/4620 [00:34<00:14, 92.97it/s]"
     ]
    },
    {
     "name": "stdout",
     "output_type": "stream",
     "text": [
      "saving dir .\\features\\train\\white\\5db\n",
      "saving dir .\\features\\train\\white\\5db\n",
      "saving dir .\\features\\train\\white\\5db\n",
      "saving dir .\\features\\train\\white\\5db\n",
      "saving dir .\\features\\train\\white\\5db\n",
      "saving dir .\\features\\train\\white\\5db\n",
      "saving dir .\\features\\train\\white\\5db\n",
      "saving dir .\\features\\train\\white\\5db\n",
      "saving dir .\\features\\train\\white\\5db\n",
      "saving dir .\\features\\train\\white\\5db\n"
     ]
    },
    {
     "name": "stderr",
     "output_type": "stream",
     "text": [
      "\r",
      "Converting train audios:  71%|█████████████████████████████████████▌               | 3275/4620 [00:34<00:14, 91.15it/s]"
     ]
    },
    {
     "name": "stdout",
     "output_type": "stream",
     "text": [
      "saving dir .\\features\\train\\white\\5db\n",
      "saving dir .\\features\\train\\white\\5db\n",
      "saving dir .\\features\\train\\white\\5db\n",
      "saving dir .\\features\\train\\white\\5db\n",
      "saving dir .\\features\\train\\white\\5db\n",
      "saving dir .\\features\\train\\white\\5db\n",
      "saving dir .\\features\\train\\white\\5db\n",
      "saving dir .\\features\\train\\white\\5db\n",
      "saving dir .\\features\\train\\white\\5db\n",
      "saving dir .\\features\\train\\white\\5db\n"
     ]
    },
    {
     "name": "stderr",
     "output_type": "stream",
     "text": [
      "\r",
      "Converting train audios:  71%|█████████████████████████████████████▋               | 3285/4620 [00:34<00:15, 85.12it/s]"
     ]
    },
    {
     "name": "stdout",
     "output_type": "stream",
     "text": [
      "saving dir .\\features\\train\\white\\5db\n",
      "saving dir .\\features\\train\\white\\5db\n",
      "saving dir .\\features\\train\\white\\5db\n",
      "saving dir .\\features\\train\\white\\5db\n",
      "saving dir .\\features\\train\\white\\5db\n",
      "saving dir .\\features\\train\\white\\5db\n",
      "saving dir .\\features\\train\\white\\5db\n",
      "saving dir .\\features\\train\\white\\5db\n",
      "saving dir .\\features\\train\\white\\5db\n",
      "saving dir .\\features\\train\\white\\5db\n"
     ]
    },
    {
     "name": "stderr",
     "output_type": "stream",
     "text": [
      "\r",
      "Converting train audios:  71%|█████████████████████████████████████▊               | 3295/4620 [00:34<00:15, 86.84it/s]"
     ]
    },
    {
     "name": "stdout",
     "output_type": "stream",
     "text": [
      "saving dir .\\features\\train\\white\\5db\n",
      "saving dir .\\features\\train\\white\\5db\n",
      "saving dir .\\features\\train\\white\\5db\n",
      "saving dir .\\features\\train\\white\\5db\n",
      "saving dir .\\features\\train\\white\\5db\n",
      "saving dir .\\features\\train\\white\\5db\n",
      "saving dir .\\features\\train\\white\\5db\n",
      "saving dir .\\features\\train\\white\\5db\n",
      "saving dir .\\features\\train\\white\\5db\n"
     ]
    },
    {
     "name": "stderr",
     "output_type": "stream",
     "text": [
      "\r",
      "Converting train audios:  72%|█████████████████████████████████████▉               | 3304/4620 [00:34<00:15, 86.32it/s]"
     ]
    },
    {
     "name": "stdout",
     "output_type": "stream",
     "text": [
      "saving dir .\\features\\train\\white\\5db\n",
      "saving dir .\\features\\train\\white\\5db\n",
      "saving dir .\\features\\train\\white\\5db\n",
      "saving dir .\\features\\train\\white\\5db\n",
      "saving dir .\\features\\train\\white\\5db\n",
      "saving dir .\\features\\train\\white\\5db\n",
      "saving dir .\\features\\train\\white\\5db\n",
      "saving dir .\\features\\train\\white\\5db\n",
      "saving dir .\\features\\train\\white\\5db\n",
      "saving dir .\\features\\train\\white\\5db\n"
     ]
    },
    {
     "name": "stderr",
     "output_type": "stream",
     "text": [
      "\r",
      "Converting train audios:  72%|██████████████████████████████████████               | 3314/4620 [00:34<00:14, 87.72it/s]"
     ]
    },
    {
     "name": "stdout",
     "output_type": "stream",
     "text": [
      "saving dir .\\features\\train\\white\\5db\n",
      "saving dir .\\features\\train\\white\\5db\n",
      "saving dir .\\features\\train\\white\\5db\n",
      "saving dir .\\features\\train\\white\\5db\n",
      "saving dir .\\features\\train\\white\\5db\n",
      "saving dir .\\features\\train\\white\\5db\n",
      "saving dir .\\features\\train\\white\\5db\n",
      "saving dir .\\features\\train\\white\\5db\n",
      "saving dir .\\features\\train\\white\\5db\n"
     ]
    },
    {
     "name": "stderr",
     "output_type": "stream",
     "text": [
      "\r",
      "Converting train audios:  72%|██████████████████████████████████████               | 3323/4620 [00:35<00:14, 87.43it/s]"
     ]
    },
    {
     "name": "stdout",
     "output_type": "stream",
     "text": [
      "saving dir .\\features\\train\\white\\5db\n",
      "saving dir .\\features\\train\\white\\5db\n",
      "saving dir .\\features\\train\\white\\5db\n",
      "saving dir .\\features\\train\\white\\5db\n",
      "saving dir .\\features\\train\\white\\5db\n",
      "saving dir .\\features\\train\\white\\5db\n",
      "saving dir .\\features\\train\\white\\5db\n",
      "saving dir .\\features\\train\\white\\5db\n",
      "saving dir .\\features\\train\\white\\5db\n",
      "saving dir .\\features\\train\\white\\5db\n"
     ]
    },
    {
     "name": "stderr",
     "output_type": "stream",
     "text": [
      "\r",
      "Converting train audios:  72%|██████████████████████████████████████▏              | 3333/4620 [00:35<00:14, 88.98it/s]"
     ]
    },
    {
     "name": "stdout",
     "output_type": "stream",
     "text": [
      "saving dir .\\features\\train\\white\\5db\n",
      "saving dir .\\features\\train\\white\\5db\n",
      "saving dir .\\features\\train\\white\\5db\n",
      "saving dir .\\features\\train\\white\\5db\n",
      "saving dir .\\features\\train\\white\\5db\n",
      "saving dir .\\features\\train\\white\\5db\n",
      "saving dir .\\features\\train\\white\\5db\n",
      "saving dir .\\features\\train\\white\\5db\n",
      "saving dir .\\features\\train\\white\\5db\n",
      "saving dir .\\features\\train\\white\\5db\n"
     ]
    },
    {
     "name": "stderr",
     "output_type": "stream",
     "text": [
      "\r",
      "Converting train audios:  72%|██████████████████████████████████████▎              | 3343/4620 [00:35<00:14, 89.14it/s]"
     ]
    },
    {
     "name": "stdout",
     "output_type": "stream",
     "text": [
      "saving dir .\\features\\train\\white\\5db\n",
      "saving dir .\\features\\train\\white\\5db\n",
      "saving dir .\\features\\train\\white\\5db\n",
      "saving dir .\\features\\train\\white\\5db\n",
      "saving dir .\\features\\train\\white\\5db\n",
      "saving dir .\\features\\train\\white\\5db\n",
      "saving dir .\\features\\train\\white\\5db\n",
      "saving dir .\\features\\train\\white\\5db\n",
      "saving dir .\\features\\train\\white\\5db\n",
      "saving dir .\\features\\train\\white\\5db\n"
     ]
    },
    {
     "name": "stderr",
     "output_type": "stream",
     "text": [
      "\r",
      "Converting train audios:  73%|██████████████████████████████████████▍              | 3353/4620 [00:35<00:14, 89.98it/s]"
     ]
    },
    {
     "name": "stdout",
     "output_type": "stream",
     "text": [
      "saving dir .\\features\\train\\white\\5db\n",
      "saving dir .\\features\\train\\white\\5db\n",
      "saving dir .\\features\\train\\white\\5db\n",
      "saving dir .\\features\\train\\white\\5db\n",
      "saving dir .\\features\\train\\white\\5db\n",
      "saving dir .\\features\\train\\white\\5db\n",
      "saving dir .\\features\\train\\white\\5db\n",
      "saving dir .\\features\\train\\white\\5db\n",
      "saving dir .\\features\\train\\white\\5db\n",
      "saving dir .\\features\\train\\white\\5db\n"
     ]
    },
    {
     "name": "stderr",
     "output_type": "stream",
     "text": [
      "\r",
      "Converting train audios:  73%|██████████████████████████████████████▌              | 3363/4620 [00:35<00:17, 73.13it/s]"
     ]
    },
    {
     "name": "stdout",
     "output_type": "stream",
     "text": [
      "saving dir .\\features\\train\\white\\5db\n",
      "saving dir .\\features\\train\\white\\5db\n",
      "saving dir .\\features\\train\\white\\5db\n",
      "saving dir .\\features\\train\\white\\5db\n",
      "saving dir .\\features\\train\\white\\5db\n",
      "saving dir .\\features\\train\\white\\5db\n",
      "saving dir .\\features\\train\\white\\5db\n",
      "saving dir .\\features\\train\\white\\5db\n",
      "saving dir .\\features\\train\\white\\5db\n"
     ]
    },
    {
     "name": "stderr",
     "output_type": "stream",
     "text": [
      "\r",
      "Converting train audios:  73%|██████████████████████████████████████▋              | 3372/4620 [00:35<00:16, 75.22it/s]"
     ]
    },
    {
     "name": "stdout",
     "output_type": "stream",
     "text": [
      "saving dir .\\features\\train\\white\\5db\n",
      "saving dir .\\features\\train\\white\\5db\n",
      "saving dir .\\features\\train\\white\\5db\n",
      "saving dir .\\features\\train\\white\\5db\n",
      "saving dir .\\features\\train\\white\\5db\n",
      "saving dir .\\features\\train\\white\\5db\n",
      "saving dir .\\features\\train\\white\\5db\n",
      "saving dir .\\features\\train\\white\\5db\n",
      "saving dir .\\features\\train\\white\\5db\n",
      "saving dir .\\features\\train\\white\\5db\n"
     ]
    },
    {
     "name": "stderr",
     "output_type": "stream",
     "text": [
      "\r",
      "Converting train audios:  73%|██████████████████████████████████████▊              | 3382/4620 [00:35<00:15, 79.76it/s]"
     ]
    },
    {
     "name": "stdout",
     "output_type": "stream",
     "text": [
      "saving dir .\\features\\train\\white\\5db\n",
      "saving dir .\\features\\train\\white\\5db\n",
      "saving dir .\\features\\train\\white\\5db\n",
      "saving dir .\\features\\train\\white\\5db\n",
      "saving dir .\\features\\train\\white\\5db\n",
      "saving dir .\\features\\train\\white\\5db\n",
      "saving dir .\\features\\train\\white\\5db\n",
      "saving dir .\\features\\train\\white\\5db\n",
      "saving dir .\\features\\train\\white\\5db\n"
     ]
    },
    {
     "name": "stderr",
     "output_type": "stream",
     "text": [
      "\r",
      "Converting train audios:  73%|██████████████████████████████████████▉              | 3391/4620 [00:36<00:20, 61.14it/s]"
     ]
    },
    {
     "name": "stdout",
     "output_type": "stream",
     "text": [
      "saving dir .\\features\\train\\white\\5db\n",
      "saving dir .\\features\\train\\white\\5db\n",
      "saving dir .\\features\\train\\white\\5db\n",
      "saving dir .\\features\\train\\white\\5db\n",
      "saving dir .\\features\\train\\white\\5db\n",
      "saving dir .\\features\\train\\white\\5db\n",
      "saving dir .\\features\\train\\white\\5db\n",
      "saving dir .\\features\\train\\white\\5db\n",
      "saving dir .\\features\\train\\white\\5db\n"
     ]
    },
    {
     "name": "stderr",
     "output_type": "stream",
     "text": [
      "\r",
      "Converting train audios:  74%|███████████████████████████████████████              | 3400/4620 [00:36<00:18, 67.53it/s]"
     ]
    },
    {
     "name": "stdout",
     "output_type": "stream",
     "text": [
      "saving dir .\\features\\train\\white\\5db\n",
      "saving dir .\\features\\train\\white\\5db\n",
      "saving dir .\\features\\train\\white\\5db\n",
      "saving dir .\\features\\train\\white\\5db\n",
      "saving dir .\\features\\train\\white\\5db\n",
      "saving dir .\\features\\train\\white\\5db\n",
      "saving dir .\\features\\train\\white\\5db\n",
      "saving dir .\\features\\train\\white\\5db\n",
      "saving dir .\\features\\train\\white\\5db\n",
      "saving dir .\\features\\train\\white\\5db\n"
     ]
    },
    {
     "name": "stderr",
     "output_type": "stream",
     "text": [
      "\r",
      "Converting train audios:  74%|███████████████████████████████████████              | 3410/4620 [00:36<00:16, 74.37it/s]"
     ]
    },
    {
     "name": "stdout",
     "output_type": "stream",
     "text": [
      "saving dir .\\features\\train\\white\\5db\n",
      "saving dir .\\features\\train\\white\\5db\n",
      "saving dir .\\features\\train\\white\\5db\n",
      "saving dir .\\features\\train\\white\\5db\n",
      "saving dir .\\features\\train\\white\\5db\n",
      "saving dir .\\features\\train\\white\\5db\n",
      "saving dir .\\features\\train\\white\\5db\n",
      "saving dir .\\features\\train\\white\\5db\n",
      "saving dir .\\features\\train\\white\\5db\n"
     ]
    },
    {
     "name": "stderr",
     "output_type": "stream",
     "text": [
      "\r",
      "Converting train audios:  74%|███████████████████████████████████████▏             | 3419/4620 [00:36<00:15, 78.30it/s]"
     ]
    },
    {
     "name": "stdout",
     "output_type": "stream",
     "text": [
      "saving dir .\\features\\train\\white\\5db\n",
      "saving dir .\\features\\train\\white\\5db\n",
      "saving dir .\\features\\train\\white\\5db\n",
      "saving dir .\\features\\train\\white\\5db\n",
      "saving dir .\\features\\train\\white\\5db\n",
      "saving dir .\\features\\train\\white\\5db\n",
      "saving dir .\\features\\train\\white\\5db\n",
      "saving dir .\\features\\train\\white\\5db\n",
      "saving dir .\\features\\train\\white\\5db\n"
     ]
    },
    {
     "name": "stderr",
     "output_type": "stream",
     "text": [
      "\r",
      "Converting train audios:  74%|███████████████████████████████████████▎             | 3428/4620 [00:36<00:14, 80.45it/s]"
     ]
    },
    {
     "name": "stdout",
     "output_type": "stream",
     "text": [
      "saving dir .\\features\\train\\white\\5db\n",
      "saving dir .\\features\\train\\white\\5db\n",
      "saving dir .\\features\\train\\white\\5db\n",
      "saving dir .\\features\\train\\white\\5db\n",
      "saving dir .\\features\\train\\white\\5db\n",
      "saving dir .\\features\\train\\white\\5db\n",
      "saving dir .\\features\\train\\white\\5db\n",
      "saving dir .\\features\\train\\white\\5db\n",
      "saving dir .\\features\\train\\white\\5db\n"
     ]
    },
    {
     "name": "stderr",
     "output_type": "stream",
     "text": [
      "\r",
      "Converting train audios:  74%|███████████████████████████████████████▍             | 3437/4620 [00:36<00:17, 68.88it/s]"
     ]
    },
    {
     "name": "stdout",
     "output_type": "stream",
     "text": [
      "saving dir .\\features\\train\\white\\5db\n",
      "saving dir .\\features\\train\\white\\5db\n",
      "saving dir .\\features\\train\\white\\5db\n",
      "saving dir .\\features\\train\\white\\5db\n",
      "saving dir .\\features\\train\\white\\5db\n",
      "saving dir .\\features\\train\\white\\5db\n",
      "saving dir .\\features\\train\\white\\5db\n",
      "saving dir .\\features\\train\\white\\5db\n",
      "saving dir .\\features\\train\\white\\5db\n"
     ]
    },
    {
     "name": "stderr",
     "output_type": "stream",
     "text": [
      "\r",
      "Converting train audios:  75%|███████████████████████████████████████▌             | 3446/4620 [00:36<00:16, 72.88it/s]"
     ]
    },
    {
     "name": "stdout",
     "output_type": "stream",
     "text": [
      "saving dir .\\features\\train\\white\\5db\n",
      "saving dir .\\features\\train\\white\\5db\n",
      "saving dir .\\features\\train\\white\\5db\n",
      "saving dir .\\features\\train\\white\\5db\n",
      "saving dir .\\features\\train\\white\\5db\n",
      "saving dir .\\features\\train\\white\\5db\n",
      "saving dir .\\features\\train\\white\\5db\n",
      "saving dir .\\features\\train\\white\\5db\n",
      "saving dir .\\features\\train\\white\\5db\n",
      "saving dir .\\features\\train\\white\\5db\n"
     ]
    },
    {
     "name": "stderr",
     "output_type": "stream",
     "text": [
      "\r",
      "Converting train audios:  75%|███████████████████████████████████████▋             | 3456/4620 [00:36<00:15, 77.37it/s]"
     ]
    },
    {
     "name": "stdout",
     "output_type": "stream",
     "text": [
      "saving dir .\\features\\train\\white\\5db\n",
      "saving dir .\\features\\train\\white\\5db\n",
      "saving dir .\\features\\train\\white\\5db\n",
      "saving dir .\\features\\train\\white\\5db\n",
      "saving dir .\\features\\train\\white\\5db\n",
      "saving dir .\\features\\train\\white\\5db\n",
      "saving dir .\\features\\train\\white\\5db\n",
      "saving dir .\\features\\train\\white\\5db\n",
      "saving dir .\\features\\train\\white\\5db\n",
      "saving dir .\\features\\train\\white\\5db\n"
     ]
    },
    {
     "name": "stderr",
     "output_type": "stream",
     "text": [
      "\r",
      "Converting train audios:  75%|███████████████████████████████████████▊             | 3466/4620 [00:36<00:14, 81.84it/s]"
     ]
    },
    {
     "name": "stdout",
     "output_type": "stream",
     "text": [
      "saving dir .\\features\\train\\white\\5db\n",
      "saving dir .\\features\\train\\white\\5db\n",
      "saving dir .\\features\\train\\white\\5db\n",
      "saving dir .\\features\\train\\white\\5db\n",
      "saving dir .\\features\\train\\white\\5db\n",
      "saving dir .\\features\\train\\white\\5db\n",
      "saving dir .\\features\\train\\white\\5db\n",
      "saving dir .\\features\\train\\white\\5db\n",
      "saving dir .\\features\\train\\white\\5db\n",
      "saving dir .\\features\\train\\white\\5db\n"
     ]
    },
    {
     "name": "stderr",
     "output_type": "stream",
     "text": [
      "\r",
      "Converting train audios:  75%|███████████████████████████████████████▉             | 3476/4620 [00:37<00:13, 84.64it/s]"
     ]
    },
    {
     "name": "stdout",
     "output_type": "stream",
     "text": [
      "saving dir .\\features\\train\\white\\5db\n",
      "saving dir .\\features\\train\\white\\5db\n",
      "saving dir .\\features\\train\\white\\5db\n",
      "saving dir .\\features\\train\\white\\5db\n",
      "saving dir .\\features\\train\\white\\5db\n",
      "saving dir .\\features\\train\\white\\5db\n",
      "saving dir .\\features\\train\\white\\5db\n",
      "saving dir .\\features\\train\\white\\5db\n",
      "saving dir .\\features\\train\\white\\5db\n"
     ]
    },
    {
     "name": "stderr",
     "output_type": "stream",
     "text": [
      "\r",
      "Converting train audios:  75%|███████████████████████████████████████▉             | 3485/4620 [00:37<00:13, 84.31it/s]"
     ]
    },
    {
     "name": "stdout",
     "output_type": "stream",
     "text": [
      "saving dir .\\features\\train\\white\\5db\n",
      "saving dir .\\features\\train\\white\\5db\n",
      "saving dir .\\features\\train\\white\\5db\n",
      "saving dir .\\features\\train\\white\\5db\n",
      "saving dir .\\features\\train\\white\\5db\n",
      "saving dir .\\features\\train\\white\\5db\n",
      "saving dir .\\features\\train\\white\\5db\n",
      "saving dir .\\features\\train\\white\\5db\n",
      "saving dir .\\features\\train\\white\\5db\n",
      "saving dir .\\features\\train\\white\\5db\n"
     ]
    },
    {
     "name": "stderr",
     "output_type": "stream",
     "text": [
      "\r",
      "Converting train audios:  76%|████████████████████████████████████████             | 3495/4620 [00:37<00:13, 86.48it/s]"
     ]
    },
    {
     "name": "stdout",
     "output_type": "stream",
     "text": [
      "saving dir .\\features\\train\\white\\5db\n",
      "saving dir .\\features\\train\\white\\5db\n",
      "saving dir .\\features\\train\\white\\5db\n",
      "saving dir .\\features\\train\\white\\5db\n",
      "saving dir .\\features\\train\\white\\5db\n",
      "saving dir .\\features\\train\\white\\5db\n",
      "saving dir .\\features\\train\\white\\5db\n",
      "saving dir .\\features\\train\\white\\5db\n",
      "saving dir .\\features\\train\\white\\5db\n"
     ]
    },
    {
     "name": "stderr",
     "output_type": "stream",
     "text": [
      "\r",
      "Converting train audios:  76%|████████████████████████████████████████▏            | 3504/4620 [00:37<00:12, 87.07it/s]"
     ]
    },
    {
     "name": "stdout",
     "output_type": "stream",
     "text": [
      "saving dir .\\features\\train\\white\\5db\n",
      "saving dir .\\features\\train\\white\\5db\n",
      "saving dir .\\features\\train\\white\\5db\n",
      "saving dir .\\features\\train\\white\\5db\n",
      "saving dir .\\features\\train\\white\\5db\n",
      "saving dir .\\features\\train\\white\\5db\n",
      "saving dir .\\features\\train\\white\\5db\n",
      "saving dir .\\features\\train\\white\\5db\n",
      "saving dir .\\features\\train\\white\\5db\n",
      "saving dir .\\features\\train\\white\\5db\n"
     ]
    },
    {
     "name": "stderr",
     "output_type": "stream",
     "text": [
      "\r",
      "Converting train audios:  76%|████████████████████████████████████████▎            | 3514/4620 [00:37<00:12, 89.19it/s]"
     ]
    },
    {
     "name": "stdout",
     "output_type": "stream",
     "text": [
      "saving dir .\\features\\train\\white\\5db\n",
      "saving dir .\\features\\train\\white\\5db\n",
      "saving dir .\\features\\train\\white\\5db\n",
      "saving dir .\\features\\train\\white\\5db\n",
      "saving dir .\\features\\train\\white\\5db\n",
      "saving dir .\\features\\train\\white\\5db\n",
      "saving dir .\\features\\train\\white\\5db\n",
      "saving dir .\\features\\train\\white\\5db\n",
      "saving dir .\\features\\train\\white\\5db\n",
      "saving dir .\\features\\train\\white\\5db\n"
     ]
    },
    {
     "name": "stderr",
     "output_type": "stream",
     "text": [
      "\r",
      "Converting train audios:  76%|████████████████████████████████████████▍            | 3524/4620 [00:37<00:18, 59.33it/s]"
     ]
    },
    {
     "name": "stdout",
     "output_type": "stream",
     "text": [
      "saving dir .\\features\\train\\white\\5db\n",
      "saving dir .\\features\\train\\white\\5db\n",
      "saving dir .\\features\\train\\white\\5db\n",
      "saving dir .\\features\\train\\white\\5db\n",
      "saving dir .\\features\\train\\white\\5db\n",
      "saving dir .\\features\\train\\white\\5db\n",
      "saving dir .\\features\\train\\white\\5db\n",
      "saving dir .\\features\\train\\white\\5db\n",
      "saving dir .\\features\\train\\white\\5db\n",
      "saving dir .\\features\\train\\white\\5db\n"
     ]
    },
    {
     "name": "stderr",
     "output_type": "stream",
     "text": [
      "\r",
      "Converting train audios:  76%|████████████████████████████████████████▌            | 3534/4620 [00:37<00:16, 66.67it/s]"
     ]
    },
    {
     "name": "stdout",
     "output_type": "stream",
     "text": [
      "saving dir .\\features\\train\\white\\5db\n",
      "saving dir .\\features\\train\\white\\5db\n",
      "saving dir .\\features\\train\\white\\5db\n",
      "saving dir .\\features\\train\\white\\5db\n",
      "saving dir .\\features\\train\\white\\5db\n",
      "saving dir .\\features\\train\\white\\5db\n",
      "saving dir .\\features\\train\\white\\5db\n",
      "saving dir .\\features\\train\\white\\5db\n",
      "saving dir .\\features\\train\\white\\5db\n"
     ]
    },
    {
     "name": "stderr",
     "output_type": "stream",
     "text": [
      "\r",
      "Converting train audios:  77%|████████████████████████████████████████▋            | 3543/4620 [00:37<00:14, 71.82it/s]"
     ]
    },
    {
     "name": "stdout",
     "output_type": "stream",
     "text": [
      "saving dir .\\features\\train\\white\\5db\n",
      "saving dir .\\features\\train\\white\\5db\n",
      "saving dir .\\features\\train\\white\\5db\n",
      "saving dir .\\features\\train\\white\\5db\n",
      "saving dir .\\features\\train\\white\\5db\n",
      "saving dir .\\features\\train\\white\\5db\n",
      "saving dir .\\features\\train\\white\\5db\n",
      "saving dir .\\features\\train\\white\\5db\n",
      "saving dir .\\features\\train\\white\\5db\n",
      "saving dir .\\features\\train\\white\\5db\n"
     ]
    },
    {
     "name": "stderr",
     "output_type": "stream",
     "text": [
      "\r",
      "Converting train audios:  77%|████████████████████████████████████████▊            | 3553/4620 [00:38<00:13, 76.88it/s]"
     ]
    },
    {
     "name": "stdout",
     "output_type": "stream",
     "text": [
      "saving dir .\\features\\train\\white\\5db\n",
      "saving dir .\\features\\train\\white\\5db\n",
      "saving dir .\\features\\train\\white\\5db\n",
      "saving dir .\\features\\train\\white\\5db\n",
      "saving dir .\\features\\train\\white\\5db\n",
      "saving dir .\\features\\train\\white\\5db\n",
      "saving dir .\\features\\train\\white\\5db\n",
      "saving dir .\\features\\train\\white\\5db\n",
      "saving dir .\\features\\train\\white\\5db\n"
     ]
    },
    {
     "name": "stderr",
     "output_type": "stream",
     "text": [
      "\r",
      "Converting train audios:  77%|████████████████████████████████████████▊            | 3562/4620 [00:38<00:16, 65.54it/s]"
     ]
    },
    {
     "name": "stdout",
     "output_type": "stream",
     "text": [
      "saving dir .\\features\\train\\white\\5db\n",
      "saving dir .\\features\\train\\white\\5db\n",
      "saving dir .\\features\\train\\white\\5db\n",
      "saving dir .\\features\\train\\white\\5db\n",
      "saving dir .\\features\\train\\white\\5db\n",
      "saving dir .\\features\\train\\white\\5db\n",
      "saving dir .\\features\\train\\white\\5db\n",
      "saving dir .\\features\\train\\white\\5db\n"
     ]
    },
    {
     "name": "stderr",
     "output_type": "stream",
     "text": [
      "\r",
      "Converting train audios:  77%|████████████████████████████████████████▉            | 3570/4620 [00:38<00:15, 69.17it/s]"
     ]
    },
    {
     "name": "stdout",
     "output_type": "stream",
     "text": [
      "saving dir .\\features\\train\\white\\5db\n",
      "saving dir .\\features\\train\\white\\5db\n",
      "saving dir .\\features\\train\\white\\5db\n",
      "saving dir .\\features\\train\\white\\5db\n",
      "saving dir .\\features\\train\\white\\5db\n",
      "saving dir .\\features\\train\\white\\5db\n",
      "saving dir .\\features\\train\\white\\5db\n",
      "saving dir .\\features\\train\\white\\5db\n",
      "saving dir .\\features\\train\\white\\5db\n"
     ]
    },
    {
     "name": "stderr",
     "output_type": "stream",
     "text": [
      "\r",
      "Converting train audios:  77%|█████████████████████████████████████████            | 3579/4620 [00:38<00:14, 73.83it/s]"
     ]
    },
    {
     "name": "stdout",
     "output_type": "stream",
     "text": [
      "saving dir .\\features\\train\\white\\5db\n",
      "saving dir .\\features\\train\\white\\5db\n",
      "saving dir .\\features\\train\\white\\5db\n",
      "saving dir .\\features\\train\\white\\5db\n",
      "saving dir .\\features\\train\\white\\5db\n",
      "saving dir .\\features\\train\\white\\5db\n",
      "saving dir .\\features\\train\\white\\5db\n",
      "saving dir .\\features\\train\\white\\5db\n",
      "saving dir .\\features\\train\\white\\5db\n",
      "saving dir .\\features\\train\\white\\5db\n"
     ]
    },
    {
     "name": "stderr",
     "output_type": "stream",
     "text": [
      "\r",
      "Converting train audios:  78%|█████████████████████████████████████████▏           | 3589/4620 [00:38<00:13, 78.85it/s]"
     ]
    },
    {
     "name": "stdout",
     "output_type": "stream",
     "text": [
      "saving dir .\\features\\train\\white\\5db\n",
      "saving dir .\\features\\train\\white\\5db\n",
      "saving dir .\\features\\train\\white\\5db\n",
      "saving dir .\\features\\train\\white\\5db\n",
      "saving dir .\\features\\train\\white\\5db\n",
      "saving dir .\\features\\train\\white\\5db\n",
      "saving dir .\\features\\train\\white\\5db\n",
      "saving dir .\\features\\train\\white\\5db\n",
      "saving dir .\\features\\train\\white\\5db\n"
     ]
    },
    {
     "name": "stderr",
     "output_type": "stream",
     "text": [
      "\r",
      "Converting train audios:  78%|█████████████████████████████████████████▎           | 3598/4620 [00:38<00:12, 80.21it/s]"
     ]
    },
    {
     "name": "stdout",
     "output_type": "stream",
     "text": [
      "saving dir .\\features\\train\\white\\5db\n",
      "saving dir .\\features\\train\\white\\5db\n",
      "saving dir .\\features\\train\\white\\5db\n",
      "saving dir .\\features\\train\\white\\5db\n",
      "saving dir .\\features\\train\\white\\5db\n",
      "saving dir .\\features\\train\\white\\5db\n",
      "saving dir .\\features\\train\\white\\5db\n",
      "saving dir .\\features\\train\\white\\5db\n",
      "saving dir .\\features\\train\\white\\5db\n",
      "saving dir .\\features\\train\\white\\5db\n"
     ]
    },
    {
     "name": "stderr",
     "output_type": "stream",
     "text": [
      "\r",
      "Converting train audios:  78%|█████████████████████████████████████████▍           | 3608/4620 [00:38<00:12, 83.83it/s]"
     ]
    },
    {
     "name": "stdout",
     "output_type": "stream",
     "text": [
      "saving dir .\\features\\train\\white\\5db\n",
      "saving dir .\\features\\train\\white\\5db\n",
      "saving dir .\\features\\train\\white\\5db\n",
      "saving dir .\\features\\train\\white\\5db\n",
      "saving dir .\\features\\train\\white\\5db\n",
      "saving dir .\\features\\train\\white\\5db\n",
      "saving dir .\\features\\train\\white\\5db\n",
      "saving dir .\\features\\train\\white\\5db\n",
      "saving dir .\\features\\train\\white\\5db\n",
      "saving dir .\\features\\train\\white\\5db\n"
     ]
    },
    {
     "name": "stderr",
     "output_type": "stream",
     "text": [
      "\r",
      "Converting train audios:  78%|█████████████████████████████████████████▌           | 3618/4620 [00:38<00:11, 86.79it/s]"
     ]
    },
    {
     "name": "stdout",
     "output_type": "stream",
     "text": [
      "saving dir .\\features\\train\\white\\5db\n",
      "saving dir .\\features\\train\\white\\5db\n",
      "saving dir .\\features\\train\\white\\5db\n",
      "saving dir .\\features\\train\\white\\5db\n",
      "saving dir .\\features\\train\\white\\5db\n",
      "saving dir .\\features\\train\\white\\5db\n",
      "saving dir .\\features\\train\\white\\5db\n",
      "saving dir .\\features\\train\\white\\5db\n",
      "saving dir .\\features\\train\\white\\5db\n"
     ]
    },
    {
     "name": "stderr",
     "output_type": "stream",
     "text": [
      "\r",
      "Converting train audios:  79%|█████████████████████████████████████████▌           | 3627/4620 [00:39<00:11, 84.59it/s]"
     ]
    },
    {
     "name": "stdout",
     "output_type": "stream",
     "text": [
      "saving dir .\\features\\train\\white\\5db\n",
      "saving dir .\\features\\train\\white\\5db\n",
      "saving dir .\\features\\train\\white\\5db\n",
      "saving dir .\\features\\train\\white\\5db\n",
      "saving dir .\\features\\train\\white\\5db\n",
      "saving dir .\\features\\train\\white\\5db\n",
      "saving dir .\\features\\train\\white\\5db\n",
      "saving dir .\\features\\train\\white\\5db\n",
      "saving dir .\\features\\train\\white\\5db\n"
     ]
    },
    {
     "name": "stderr",
     "output_type": "stream",
     "text": [
      "\r",
      "Converting train audios:  79%|█████████████████████████████████████████▋           | 3636/4620 [00:39<00:11, 85.96it/s]"
     ]
    },
    {
     "name": "stdout",
     "output_type": "stream",
     "text": [
      "saving dir .\\features\\train\\white\\5db\n",
      "saving dir .\\features\\train\\white\\5db\n",
      "saving dir .\\features\\train\\white\\5db\n",
      "saving dir .\\features\\train\\white\\5db\n",
      "saving dir .\\features\\train\\white\\5db\n",
      "saving dir .\\features\\train\\white\\5db\n",
      "saving dir .\\features\\train\\white\\5db\n",
      "saving dir .\\features\\train\\white\\5db\n",
      "saving dir .\\features\\train\\white\\5db\n",
      "saving dir .\\features\\train\\white\\5db\n"
     ]
    },
    {
     "name": "stderr",
     "output_type": "stream",
     "text": [
      "\r",
      "Converting train audios:  79%|█████████████████████████████████████████▊           | 3646/4620 [00:39<00:10, 89.09it/s]"
     ]
    },
    {
     "name": "stdout",
     "output_type": "stream",
     "text": [
      "saving dir .\\features\\train\\white\\5db\n",
      "saving dir .\\features\\train\\white\\5db\n",
      "saving dir .\\features\\train\\white\\5db\n",
      "saving dir .\\features\\train\\white\\5db\n",
      "saving dir .\\features\\train\\white\\5db\n",
      "saving dir .\\features\\train\\white\\5db\n",
      "saving dir .\\features\\train\\white\\5db\n",
      "saving dir .\\features\\train\\white\\5db\n",
      "saving dir .\\features\\train\\white\\5db\n",
      "saving dir .\\features\\train\\white\\5db\n"
     ]
    },
    {
     "name": "stderr",
     "output_type": "stream",
     "text": [
      "\r",
      "Converting train audios:  79%|█████████████████████████████████████████▉           | 3656/4620 [00:39<00:11, 85.35it/s]"
     ]
    },
    {
     "name": "stdout",
     "output_type": "stream",
     "text": [
      "saving dir .\\features\\train\\white\\5db\n",
      "saving dir .\\features\\train\\white\\5db\n",
      "saving dir .\\features\\train\\white\\5db\n",
      "saving dir .\\features\\train\\white\\5db\n",
      "saving dir .\\features\\train\\white\\5db\n",
      "saving dir .\\features\\train\\white\\5db\n",
      "saving dir .\\features\\train\\white\\5db\n",
      "saving dir .\\features\\train\\white\\5db\n",
      "saving dir .\\features\\train\\white\\5db\n",
      "saving dir .\\features\\train\\white\\5db\n"
     ]
    },
    {
     "name": "stderr",
     "output_type": "stream",
     "text": [
      "\r",
      "Converting train audios:  79%|██████████████████████████████████████████           | 3666/4620 [00:39<00:10, 87.69it/s]"
     ]
    },
    {
     "name": "stdout",
     "output_type": "stream",
     "text": [
      "saving dir .\\features\\train\\white\\5db\n",
      "saving dir .\\features\\train\\white\\5db\n",
      "saving dir .\\features\\train\\white\\5db\n",
      "saving dir .\\features\\train\\white\\5db\n",
      "saving dir .\\features\\train\\white\\5db\n",
      "saving dir .\\features\\train\\white\\5db\n",
      "saving dir .\\features\\train\\white\\5db\n",
      "saving dir .\\features\\train\\white\\5db\n",
      "saving dir .\\features\\train\\white\\5db\n",
      "saving dir .\\features\\train\\white\\5db\n"
     ]
    },
    {
     "name": "stderr",
     "output_type": "stream",
     "text": [
      "\r",
      "Converting train audios:  80%|██████████████████████████████████████████▏          | 3676/4620 [00:39<00:10, 90.63it/s]"
     ]
    },
    {
     "name": "stdout",
     "output_type": "stream",
     "text": [
      "saving dir .\\features\\train\\white\\5db\n",
      "saving dir .\\features\\train\\white\\5db\n",
      "saving dir .\\features\\train\\white\\5db\n",
      "saving dir .\\features\\train\\white\\5db\n",
      "saving dir .\\features\\train\\white\\5db\n",
      "saving dir .\\features\\train\\white\\5db\n",
      "saving dir .\\features\\train\\white\\5db\n",
      "saving dir .\\features\\train\\white\\5db\n",
      "saving dir .\\features\\train\\white\\5db\n",
      "saving dir .\\features\\train\\white\\5db\n"
     ]
    },
    {
     "name": "stderr",
     "output_type": "stream",
     "text": [
      "\r",
      "Converting train audios:  80%|██████████████████████████████████████████▎          | 3686/4620 [00:39<00:10, 90.54it/s]"
     ]
    },
    {
     "name": "stdout",
     "output_type": "stream",
     "text": [
      "saving dir .\\features\\train\\white\\5db\n",
      "saving dir .\\features\\train\\white\\5db\n",
      "saving dir .\\features\\train\\white\\5db\n",
      "saving dir .\\features\\train\\white\\5db\n",
      "saving dir .\\features\\train\\white\\5db\n",
      "saving dir .\\features\\train\\white\\5db\n",
      "saving dir .\\features\\train\\white\\5db\n",
      "saving dir .\\features\\train\\white\\5db\n",
      "saving dir .\\features\\train\\white\\5db\n",
      "saving dir .\\features\\train\\white\\5db\n"
     ]
    },
    {
     "name": "stderr",
     "output_type": "stream",
     "text": [
      "\r",
      "Converting train audios:  80%|██████████████████████████████████████████▍          | 3696/4620 [00:39<00:10, 90.48it/s]"
     ]
    },
    {
     "name": "stdout",
     "output_type": "stream",
     "text": [
      "saving dir .\\features\\train\\white\\5db\n",
      "saving dir .\\features\\train\\white\\5db\n",
      "saving dir .\\features\\train\\white\\5db\n",
      "saving dir .\\features\\train\\white\\5db\n",
      "saving dir .\\features\\train\\white\\5db\n",
      "saving dir .\\features\\train\\white\\5db\n",
      "saving dir .\\features\\train\\white\\5db\n",
      "saving dir .\\features\\train\\white\\5db\n",
      "saving dir .\\features\\train\\white\\5db\n",
      "saving dir .\\features\\train\\white\\5db\n"
     ]
    },
    {
     "name": "stderr",
     "output_type": "stream",
     "text": [
      "\r",
      "Converting train audios:  80%|██████████████████████████████████████████▌          | 3706/4620 [00:39<00:10, 90.19it/s]"
     ]
    },
    {
     "name": "stdout",
     "output_type": "stream",
     "text": [
      "saving dir .\\features\\train\\white\\5db\n",
      "saving dir .\\features\\train\\white\\5db\n",
      "saving dir .\\features\\train\\white\\5db\n",
      "saving dir .\\features\\train\\white\\5db\n",
      "saving dir .\\features\\train\\white\\5db\n",
      "saving dir .\\features\\train\\white\\5db\n",
      "saving dir .\\features\\train\\white\\5db\n",
      "saving dir .\\features\\train\\white\\5db\n",
      "saving dir .\\features\\train\\white\\5db\n",
      "saving dir .\\features\\train\\white\\5db\n"
     ]
    },
    {
     "name": "stderr",
     "output_type": "stream",
     "text": [
      "\r",
      "Converting train audios:  80%|██████████████████████████████████████████▋          | 3716/4620 [00:39<00:09, 91.22it/s]"
     ]
    },
    {
     "name": "stdout",
     "output_type": "stream",
     "text": [
      "saving dir .\\features\\train\\white\\5db\n",
      "saving dir .\\features\\train\\white\\5db\n",
      "saving dir .\\features\\train\\white\\5db\n",
      "saving dir .\\features\\train\\white\\5db\n",
      "saving dir .\\features\\train\\white\\5db\n",
      "saving dir .\\features\\train\\white\\5db\n",
      "saving dir .\\features\\train\\white\\5db\n",
      "saving dir .\\features\\train\\white\\5db\n",
      "saving dir .\\features\\train\\white\\5db\n",
      "saving dir .\\features\\train\\white\\5db\n"
     ]
    },
    {
     "name": "stderr",
     "output_type": "stream",
     "text": [
      "\r",
      "Converting train audios:  81%|██████████████████████████████████████████▋          | 3726/4620 [00:40<00:09, 89.49it/s]"
     ]
    },
    {
     "name": "stdout",
     "output_type": "stream",
     "text": [
      "saving dir .\\features\\train\\white\\5db\n",
      "saving dir .\\features\\train\\white\\5db\n",
      "saving dir .\\features\\train\\white\\5db\n",
      "saving dir .\\features\\train\\white\\5db\n",
      "saving dir .\\features\\train\\white\\5db\n",
      "saving dir .\\features\\train\\white\\5db\n",
      "saving dir .\\features\\train\\white\\5db\n",
      "saving dir .\\features\\train\\white\\5db\n",
      "saving dir .\\features\\train\\white\\5db\n"
     ]
    },
    {
     "name": "stderr",
     "output_type": "stream",
     "text": [
      "\r",
      "Converting train audios:  81%|██████████████████████████████████████████▊          | 3735/4620 [00:40<00:09, 88.65it/s]"
     ]
    },
    {
     "name": "stdout",
     "output_type": "stream",
     "text": [
      "saving dir .\\features\\train\\white\\5db\n",
      "saving dir .\\features\\train\\white\\5db\n",
      "saving dir .\\features\\train\\white\\5db\n",
      "saving dir .\\features\\train\\white\\5db\n",
      "saving dir .\\features\\train\\white\\5db\n",
      "saving dir .\\features\\train\\white\\5db\n",
      "saving dir .\\features\\train\\white\\5db\n",
      "saving dir .\\features\\train\\white\\5db\n",
      "saving dir .\\features\\train\\white\\5db\n",
      "saving dir .\\features\\train\\white\\5db\n"
     ]
    },
    {
     "name": "stderr",
     "output_type": "stream",
     "text": [
      "\r",
      "Converting train audios:  81%|██████████████████████████████████████████▉          | 3745/4620 [00:40<00:14, 60.89it/s]"
     ]
    },
    {
     "name": "stdout",
     "output_type": "stream",
     "text": [
      "saving dir .\\features\\train\\white\\5db\n",
      "saving dir .\\features\\train\\white\\5db\n",
      "saving dir .\\features\\train\\white\\5db\n",
      "saving dir .\\features\\train\\white\\5db\n",
      "saving dir .\\features\\train\\white\\5db\n",
      "saving dir .\\features\\train\\white\\5db\n",
      "saving dir .\\features\\train\\white\\5db\n",
      "saving dir .\\features\\train\\white\\5db\n",
      "saving dir .\\features\\train\\white\\5db\n",
      "saving dir .\\features\\train\\white\\5db\n"
     ]
    },
    {
     "name": "stderr",
     "output_type": "stream",
     "text": [
      "\r",
      "Converting train audios:  81%|███████████████████████████████████████████          | 3755/4620 [00:40<00:12, 68.88it/s]"
     ]
    },
    {
     "name": "stdout",
     "output_type": "stream",
     "text": [
      "saving dir .\\features\\train\\white\\5db\n",
      "saving dir .\\features\\train\\white\\5db\n",
      "saving dir .\\features\\train\\white\\5db\n",
      "saving dir .\\features\\train\\white\\5db\n",
      "saving dir .\\features\\train\\white\\5db\n",
      "saving dir .\\features\\train\\white\\5db\n",
      "saving dir .\\features\\train\\white\\5db\n",
      "saving dir .\\features\\train\\white\\5db\n",
      "saving dir .\\features\\train\\white\\5db\n"
     ]
    },
    {
     "name": "stderr",
     "output_type": "stream",
     "text": [
      "\r",
      "Converting train audios:  81%|███████████████████████████████████████████▏         | 3764/4620 [00:40<00:11, 72.36it/s]"
     ]
    },
    {
     "name": "stdout",
     "output_type": "stream",
     "text": [
      "saving dir .\\features\\train\\white\\5db\n",
      "saving dir .\\features\\train\\white\\5db\n",
      "saving dir .\\features\\train\\white\\5db\n",
      "saving dir .\\features\\train\\white\\5db\n",
      "saving dir .\\features\\train\\white\\5db\n",
      "saving dir .\\features\\train\\white\\5db\n",
      "saving dir .\\features\\train\\white\\5db\n",
      "saving dir .\\features\\train\\white\\5db\n",
      "saving dir .\\features\\train\\white\\5db\n"
     ]
    },
    {
     "name": "stderr",
     "output_type": "stream",
     "text": [
      "\r",
      "Converting train audios:  82%|███████████████████████████████████████████▎         | 3773/4620 [00:40<00:12, 66.40it/s]"
     ]
    },
    {
     "name": "stdout",
     "output_type": "stream",
     "text": [
      "saving dir .\\features\\train\\white\\5db\n",
      "saving dir .\\features\\train\\white\\5db\n",
      "saving dir .\\features\\train\\white\\5db\n",
      "saving dir .\\features\\train\\white\\5db\n",
      "saving dir .\\features\\train\\white\\5db\n",
      "saving dir .\\features\\train\\white\\5db\n",
      "saving dir .\\features\\train\\white\\5db\n",
      "saving dir .\\features\\train\\white\\5db\n",
      "saving dir .\\features\\train\\white\\5db\n",
      "saving dir .\\features\\train\\white\\5db\n"
     ]
    },
    {
     "name": "stderr",
     "output_type": "stream",
     "text": [
      "\r",
      "Converting train audios:  82%|███████████████████████████████████████████▍         | 3783/4620 [00:40<00:11, 73.57it/s]"
     ]
    },
    {
     "name": "stdout",
     "output_type": "stream",
     "text": [
      "saving dir .\\features\\train\\white\\5db\n",
      "saving dir .\\features\\train\\white\\5db\n",
      "saving dir .\\features\\train\\white\\5db\n",
      "saving dir .\\features\\train\\white\\5db\n",
      "saving dir .\\features\\train\\white\\5db\n",
      "saving dir .\\features\\train\\white\\5db\n",
      "saving dir .\\features\\train\\white\\5db\n",
      "saving dir .\\features\\train\\white\\5db\n",
      "saving dir .\\features\\train\\white\\5db\n"
     ]
    },
    {
     "name": "stderr",
     "output_type": "stream",
     "text": [
      "\r",
      "Converting train audios:  82%|███████████████████████████████████████████▌         | 3792/4620 [00:41<00:10, 77.68it/s]"
     ]
    },
    {
     "name": "stdout",
     "output_type": "stream",
     "text": [
      "saving dir .\\features\\train\\white\\5db\n",
      "saving dir .\\features\\train\\white\\5db\n",
      "saving dir .\\features\\train\\white\\5db\n",
      "saving dir .\\features\\train\\white\\5db\n",
      "saving dir .\\features\\train\\white\\5db\n",
      "saving dir .\\features\\train\\white\\5db\n",
      "saving dir .\\features\\train\\white\\5db\n",
      "saving dir .\\features\\train\\white\\5db\n",
      "saving dir .\\features\\train\\white\\5db\n",
      "saving dir .\\features\\train\\white\\5db\n"
     ]
    },
    {
     "name": "stderr",
     "output_type": "stream",
     "text": [
      "\r",
      "Converting train audios:  82%|███████████████████████████████████████████▌         | 3802/4620 [00:41<00:09, 81.88it/s]"
     ]
    },
    {
     "name": "stdout",
     "output_type": "stream",
     "text": [
      "saving dir .\\features\\train\\white\\5db\n",
      "saving dir .\\features\\train\\white\\5db\n",
      "saving dir .\\features\\train\\white\\5db\n",
      "saving dir .\\features\\train\\white\\5db\n",
      "saving dir .\\features\\train\\white\\5db\n",
      "saving dir .\\features\\train\\white\\5db\n",
      "saving dir .\\features\\train\\white\\5db\n",
      "saving dir .\\features\\train\\white\\5db\n",
      "saving dir .\\features\\train\\white\\5db\n",
      "saving dir .\\features\\train\\white\\5db\n"
     ]
    },
    {
     "name": "stderr",
     "output_type": "stream",
     "text": [
      "\r",
      "Converting train audios:  83%|███████████████████████████████████████████▋         | 3812/4620 [00:41<00:09, 85.32it/s]"
     ]
    },
    {
     "name": "stdout",
     "output_type": "stream",
     "text": [
      "saving dir .\\features\\train\\white\\5db\n",
      "saving dir .\\features\\train\\white\\5db\n",
      "saving dir .\\features\\train\\white\\5db\n",
      "saving dir .\\features\\train\\white\\5db\n",
      "saving dir .\\features\\train\\white\\5db\n",
      "saving dir .\\features\\train\\white\\5db\n",
      "saving dir .\\features\\train\\white\\5db\n",
      "saving dir .\\features\\train\\white\\5db\n",
      "saving dir .\\features\\train\\white\\5db\n",
      "saving dir .\\features\\train\\white\\5db\n"
     ]
    },
    {
     "name": "stderr",
     "output_type": "stream",
     "text": [
      "\r",
      "Converting train audios:  83%|███████████████████████████████████████████▊         | 3822/4620 [00:41<00:09, 87.22it/s]"
     ]
    },
    {
     "name": "stdout",
     "output_type": "stream",
     "text": [
      "saving dir .\\features\\train\\white\\5db\n",
      "saving dir .\\features\\train\\white\\5db\n",
      "saving dir .\\features\\train\\white\\5db\n",
      "saving dir .\\features\\train\\white\\5db\n",
      "saving dir .\\features\\train\\white\\5db\n",
      "saving dir .\\features\\train\\white\\5db\n",
      "saving dir .\\features\\train\\white\\5db\n",
      "saving dir .\\features\\train\\white\\5db\n",
      "saving dir .\\features\\train\\white\\5db\n",
      "saving dir .\\features\\train\\white\\5db\n"
     ]
    },
    {
     "name": "stderr",
     "output_type": "stream",
     "text": [
      "\r",
      "Converting train audios:  83%|███████████████████████████████████████████▉         | 3832/4620 [00:41<00:08, 89.31it/s]"
     ]
    },
    {
     "name": "stdout",
     "output_type": "stream",
     "text": [
      "saving dir .\\features\\train\\white\\5db\n",
      "saving dir .\\features\\train\\white\\5db\n",
      "saving dir .\\features\\train\\white\\5db\n",
      "saving dir .\\features\\train\\white\\5db\n",
      "saving dir .\\features\\train\\white\\5db\n",
      "saving dir .\\features\\train\\white\\5db\n",
      "saving dir .\\features\\train\\white\\5db\n",
      "saving dir .\\features\\train\\white\\5db\n",
      "saving dir .\\features\\train\\white\\5db\n",
      "saving dir .\\features\\train\\white\\5db\n"
     ]
    },
    {
     "name": "stderr",
     "output_type": "stream",
     "text": [
      "\r",
      "Converting train audios:  83%|████████████████████████████████████████████         | 3842/4620 [00:41<00:08, 89.13it/s]"
     ]
    },
    {
     "name": "stdout",
     "output_type": "stream",
     "text": [
      "saving dir .\\features\\train\\white\\5db\n",
      "saving dir .\\features\\train\\white\\5db\n",
      "saving dir .\\features\\train\\white\\5db\n",
      "saving dir .\\features\\train\\white\\5db\n",
      "saving dir .\\features\\train\\white\\5db\n",
      "saving dir .\\features\\train\\white\\5db\n",
      "saving dir .\\features\\train\\white\\5db\n",
      "saving dir .\\features\\train\\white\\5db\n",
      "saving dir .\\features\\train\\white\\5db\n",
      "saving dir .\\features\\train\\white\\5db\n"
     ]
    },
    {
     "name": "stderr",
     "output_type": "stream",
     "text": [
      "\r",
      "Converting train audios:  83%|████████████████████████████████████████████▏        | 3852/4620 [00:41<00:08, 89.73it/s]"
     ]
    },
    {
     "name": "stdout",
     "output_type": "stream",
     "text": [
      "saving dir .\\features\\train\\white\\5db\n",
      "saving dir .\\features\\train\\white\\5db\n",
      "saving dir .\\features\\train\\white\\5db\n",
      "saving dir .\\features\\train\\white\\5db\n",
      "saving dir .\\features\\train\\white\\5db\n",
      "saving dir .\\features\\train\\white\\5db\n",
      "saving dir .\\features\\train\\white\\5db\n",
      "saving dir .\\features\\train\\white\\5db\n",
      "saving dir .\\features\\train\\white\\5db\n",
      "saving dir .\\features\\train\\white\\5db\n"
     ]
    },
    {
     "name": "stderr",
     "output_type": "stream",
     "text": [
      "\r",
      "Converting train audios:  84%|████████████████████████████████████████████▎        | 3862/4620 [00:41<00:08, 90.64it/s]"
     ]
    },
    {
     "name": "stdout",
     "output_type": "stream",
     "text": [
      "saving dir .\\features\\train\\white\\5db\n",
      "saving dir .\\features\\train\\white\\5db\n",
      "saving dir .\\features\\train\\white\\5db\n",
      "saving dir .\\features\\train\\white\\5db\n",
      "saving dir .\\features\\train\\white\\5db\n",
      "saving dir .\\features\\train\\white\\5db\n",
      "saving dir .\\features\\train\\white\\5db\n",
      "saving dir .\\features\\train\\white\\5db\n",
      "saving dir .\\features\\train\\white\\5db\n",
      "saving dir .\\features\\train\\white\\5db\n"
     ]
    },
    {
     "name": "stderr",
     "output_type": "stream",
     "text": [
      "\r",
      "Converting train audios:  84%|████████████████████████████████████████████▍        | 3872/4620 [00:41<00:09, 78.43it/s]"
     ]
    },
    {
     "name": "stdout",
     "output_type": "stream",
     "text": [
      "saving dir .\\features\\train\\white\\5db\n",
      "saving dir .\\features\\train\\white\\5db\n",
      "saving dir .\\features\\train\\white\\5db\n",
      "saving dir .\\features\\train\\white\\5db\n",
      "saving dir .\\features\\train\\white\\5db\n",
      "saving dir .\\features\\train\\white\\5db\n",
      "saving dir .\\features\\train\\white\\5db\n",
      "saving dir .\\features\\train\\white\\5db\n",
      "saving dir .\\features\\train\\white\\5db\n"
     ]
    },
    {
     "name": "stderr",
     "output_type": "stream",
     "text": [
      "\r",
      "Converting train audios:  84%|████████████████████████████████████████████▌        | 3881/4620 [00:42<00:09, 81.42it/s]"
     ]
    },
    {
     "name": "stdout",
     "output_type": "stream",
     "text": [
      "saving dir .\\features\\train\\white\\5db\n",
      "saving dir .\\features\\train\\white\\5db\n",
      "saving dir .\\features\\train\\white\\5db\n"
     ]
    },
    {
     "ename": "KeyboardInterrupt",
     "evalue": "",
     "output_type": "error",
     "traceback": [
      "\u001b[1;31m---------------------------------------------------------------------------\u001b[0m",
      "\u001b[1;31mKeyboardInterrupt\u001b[0m                         Traceback (most recent call last)",
      "\u001b[1;32m<ipython-input-6-0b9bcdd547f4>\u001b[0m in \u001b[0;36m<module>\u001b[1;34m()\u001b[0m\n\u001b[1;32m----> 1\u001b[1;33m \u001b[0mprocessData\u001b[0m\u001b[1;33m(\u001b[0m\u001b[1;34m'train'\u001b[0m\u001b[1;33m)\u001b[0m\u001b[1;33m\u001b[0m\u001b[0m\n\u001b[0m",
      "\u001b[1;32m<ipython-input-5-97970395752b>\u001b[0m in \u001b[0;36mprocessData\u001b[1;34m(data_type)\u001b[0m\n\u001b[0;32m    137\u001b[0m                     \u001b[1;32mif\u001b[0m \u001b[1;34m'.wav'\u001b[0m \u001b[1;32min\u001b[0m \u001b[0mfilename\u001b[0m\u001b[1;33m:\u001b[0m\u001b[1;33m\u001b[0m\u001b[0m\n\u001b[0;32m    138\u001b[0m                         \u001b[0mnoisy_file\u001b[0m \u001b[1;33m=\u001b[0m \u001b[0mos\u001b[0m\u001b[1;33m.\u001b[0m\u001b[0mpath\u001b[0m\u001b[1;33m.\u001b[0m\u001b[0mjoin\u001b[0m\u001b[1;33m(\u001b[0m\u001b[0mnoisy_folder\u001b[0m\u001b[1;33m,\u001b[0m \u001b[0mfilename\u001b[0m\u001b[1;33m)\u001b[0m\u001b[1;33m\u001b[0m\u001b[0m\n\u001b[1;32m--> 139\u001b[1;33m                         \u001b[0mconverted_noisy\u001b[0m\u001b[1;33m=\u001b[0m\u001b[0msaveConvert_data\u001b[0m\u001b[1;33m(\u001b[0m\u001b[0mnoisy_file\u001b[0m\u001b[1;33m)\u001b[0m\u001b[1;33m\u001b[0m\u001b[0m\n\u001b[0m\u001b[0;32m    140\u001b[0m \u001b[1;33m\u001b[0m\u001b[0m\n\u001b[0;32m    141\u001b[0m                         \u001b[1;31m#get the mean\u001b[0m\u001b[1;33m\u001b[0m\u001b[1;33m\u001b[0m\u001b[0m\n",
      "\u001b[1;32m<ipython-input-5-97970395752b>\u001b[0m in \u001b[0;36msaveConvert_data\u001b[1;34m(file)\u001b[0m\n\u001b[0;32m     65\u001b[0m     \u001b[0mD_a\u001b[0m \u001b[1;33m=\u001b[0m \u001b[0mnp\u001b[0m\u001b[1;33m.\u001b[0m\u001b[0mabs\u001b[0m\u001b[1;33m(\u001b[0m\u001b[0mx\u001b[0m\u001b[1;33m[\u001b[0m\u001b[1;36m2\u001b[0m\u001b[1;33m]\u001b[0m\u001b[1;33m)\u001b[0m\u001b[1;33m\u001b[0m\u001b[0m\n\u001b[0;32m     66\u001b[0m \u001b[1;33m\u001b[0m\u001b[0m\n\u001b[1;32m---> 67\u001b[1;33m     \u001b[0mD_db\u001b[0m \u001b[1;33m=\u001b[0m \u001b[0mlibrosa\u001b[0m\u001b[1;33m.\u001b[0m\u001b[0mcore\u001b[0m\u001b[1;33m.\u001b[0m\u001b[0mamplitude_to_db\u001b[0m\u001b[1;33m(\u001b[0m\u001b[0mD_a\u001b[0m\u001b[1;33m,\u001b[0m \u001b[0mref\u001b[0m\u001b[1;33m=\u001b[0m\u001b[0mnp\u001b[0m\u001b[1;33m.\u001b[0m\u001b[0mmax\u001b[0m\u001b[1;33m)\u001b[0m\u001b[1;33m\u001b[0m\u001b[0m\n\u001b[0m\u001b[0;32m     68\u001b[0m     \u001b[1;32mreturn\u001b[0m \u001b[0mD_db\u001b[0m\u001b[1;33m\u001b[0m\u001b[0m\n\u001b[0;32m     69\u001b[0m \u001b[1;33m\u001b[0m\u001b[0m\n",
      "\u001b[1;32mD:\\Users\\ericl\\Anaconda3\\lib\\site-packages\\librosa\\core\\spectrum.py\u001b[0m in \u001b[0;36mamplitude_to_db\u001b[1;34m(S, ref, amin, top_db)\u001b[0m\n\u001b[0;32m    996\u001b[0m \u001b[1;33m\u001b[0m\u001b[0m\n\u001b[0;32m    997\u001b[0m     return power_to_db(power, ref=ref_value**2, amin=amin**2,\n\u001b[1;32m--> 998\u001b[1;33m                        top_db=top_db)\n\u001b[0m\u001b[0;32m    999\u001b[0m \u001b[1;33m\u001b[0m\u001b[0m\n\u001b[0;32m   1000\u001b[0m \u001b[1;33m\u001b[0m\u001b[0m\n",
      "\u001b[1;32mD:\\Users\\ericl\\Anaconda3\\lib\\site-packages\\librosa\\core\\spectrum.py\u001b[0m in \u001b[0;36mpower_to_db\u001b[1;34m(S, ref, amin, top_db)\u001b[0m\n\u001b[0;32m    905\u001b[0m         \u001b[1;32mif\u001b[0m \u001b[0mtop_db\u001b[0m \u001b[1;33m<\u001b[0m \u001b[1;36m0\u001b[0m\u001b[1;33m:\u001b[0m\u001b[1;33m\u001b[0m\u001b[0m\n\u001b[0;32m    906\u001b[0m             \u001b[1;32mraise\u001b[0m \u001b[0mParameterError\u001b[0m\u001b[1;33m(\u001b[0m\u001b[1;34m'top_db must be non-negative'\u001b[0m\u001b[1;33m)\u001b[0m\u001b[1;33m\u001b[0m\u001b[0m\n\u001b[1;32m--> 907\u001b[1;33m         \u001b[0mlog_spec\u001b[0m \u001b[1;33m=\u001b[0m \u001b[0mnp\u001b[0m\u001b[1;33m.\u001b[0m\u001b[0mmaximum\u001b[0m\u001b[1;33m(\u001b[0m\u001b[0mlog_spec\u001b[0m\u001b[1;33m,\u001b[0m \u001b[0mlog_spec\u001b[0m\u001b[1;33m.\u001b[0m\u001b[0mmax\u001b[0m\u001b[1;33m(\u001b[0m\u001b[1;33m)\u001b[0m \u001b[1;33m-\u001b[0m \u001b[0mtop_db\u001b[0m\u001b[1;33m)\u001b[0m\u001b[1;33m\u001b[0m\u001b[0m\n\u001b[0m\u001b[0;32m    908\u001b[0m \u001b[1;33m\u001b[0m\u001b[0m\n\u001b[0;32m    909\u001b[0m     \u001b[1;32mreturn\u001b[0m \u001b[0mlog_spec\u001b[0m\u001b[1;33m\u001b[0m\u001b[0m\n",
      "\u001b[1;31mKeyboardInterrupt\u001b[0m: "
     ]
    }
   ],
   "source": [
    "processData('train')"
   ]
  },
  {
   "cell_type": "code",
   "execution_count": 2,
   "metadata": {},
   "outputs": [],
   "source": [
    "\n",
    "#get the mean and std for each feature, and then feed in normalized ones only in the traininig process, done by pytorch\n",
    "def get_std(data_type):\n",
    "    \"\"\"\n",
    "    Serialize, down-sample the sliced signals and save on separate folder.\n",
    "    \"\"\"\n",
    "    data=np.array([])\n",
    "    for snr in SNRs:\n",
    "        for noise in noisy_types:\n",
    "            #max_idxs=[]\n",
    "            \n",
    "            if data_type == 'train':\n",
    "                clean_folder = clean_train_folder\n",
    "                noisy_folder = noisy_train_folder+noise+snr\n",
    "                serialized_folder = serialized_train_folder+noise+snr\n",
    "            else:\n",
    "                clean_folder = clean_test_folder\n",
    "                noisy_folder = noisy_test_folder+noise+snr\n",
    "                serialized_folder = serialized_test_folder+noise+snr\n",
    "            if not os.path.exists(serialized_folder):\n",
    "                os.makedirs(serialized_folder)\n",
    "            \n",
    "            #clean_folder = clean_test_folder\n",
    "            #noisy_folder = noisy_test_folder+noise+snr\n",
    "            phase_max=0\n",
    "            phase_min=0\n",
    "            \n",
    "            for root, dirs, files in os.walk(clean_folder):\n",
    "                if len(files) == 0:\n",
    "                    continue\n",
    "                #print('current folder',dirs)\n",
    "                for filename in tqdm(files, desc='Converting {} audios'.format(data_type)):\n",
    "                    noisy_file = os.path.join(noisy_folder, filename)\n",
    "                    if '.wav' in filename:\n",
    "                    #[phase,mean,std,max_value]\n",
    "                        if len(data)==0:\n",
    "                            data=saveConvert_data(noisy_file)\n",
    "                        else:\n",
    "                            data=np.hstack((data,saveConvert_data(noisy_file)))\n",
    "\n",
    "\n",
    "\n",
    "    return data\n"
   ]
  },
  {
   "cell_type": "code",
   "execution_count": 97,
   "metadata": {},
   "outputs": [
    {
     "name": "stderr",
     "output_type": "stream",
     "text": [
      "Converting s audios: 100%|██████████████████████████████████████████████████████████| 201/201 [00:01<00:00, 159.55it/s]\n",
      "Converting s audios: 100%|███████████████████████████████████████████████████████████| 201/201 [00:03<00:00, 54.32it/s]\n",
      "Converting s audios: 100%|███████████████████████████████████████████████████████████| 201/201 [00:05<00:00, 36.27it/s]\n",
      "Converting s audios: 100%|███████████████████████████████████████████████████████████| 201/201 [00:07<00:00, 27.62it/s]\n",
      "Converting s audios: 100%|███████████████████████████████████████████████████████████| 201/201 [00:08<00:00, 22.49it/s]\n",
      "Converting s audios: 100%|███████████████████████████████████████████████████████████| 201/201 [00:10<00:00, 18.56it/s]\n",
      "Converting s audios: 100%|███████████████████████████████████████████████████████████| 201/201 [00:12<00:00, 15.78it/s]\n",
      "Converting s audios: 100%|███████████████████████████████████████████████████████████| 201/201 [00:14<00:00, 13.92it/s]\n",
      "Converting s audios: 100%|███████████████████████████████████████████████████████████| 201/201 [00:16<00:00, 12.32it/s]\n",
      "Converting s audios: 100%|███████████████████████████████████████████████████████████| 201/201 [00:23<00:00,  8.64it/s]\n",
      "Converting s audios: 100%|███████████████████████████████████████████████████████████| 201/201 [00:19<00:00, 10.15it/s]\n",
      "Converting s audios: 100%|███████████████████████████████████████████████████████████| 201/201 [00:24<00:00,  8.22it/s]\n",
      "Converting s audios: 100%|███████████████████████████████████████████████████████████| 201/201 [00:24<00:00,  8.27it/s]\n",
      "Converting s audios: 100%|███████████████████████████████████████████████████████████| 201/201 [00:25<00:00,  8.03it/s]\n",
      "Converting s audios: 100%|███████████████████████████████████████████████████████████| 201/201 [00:26<00:00,  7.49it/s]\n",
      "Converting s audios: 100%|███████████████████████████████████████████████████████████| 201/201 [00:28<00:00,  7.12it/s]\n",
      "Converting s audios: 100%|███████████████████████████████████████████████████████████| 201/201 [00:29<00:00,  6.79it/s]\n",
      "Converting s audios: 100%|███████████████████████████████████████████████████████████| 201/201 [00:31<00:00,  6.39it/s]\n",
      "Converting s audios: 100%|███████████████████████████████████████████████████████████| 201/201 [00:33<00:00,  6.05it/s]\n",
      "Converting s audios: 100%|███████████████████████████████████████████████████████████| 201/201 [00:34<00:00,  5.75it/s]\n",
      "Converting s audios: 100%|███████████████████████████████████████████████████████████| 201/201 [00:36<00:00,  5.50it/s]\n",
      "Converting s audios: 100%|███████████████████████████████████████████████████████████| 201/201 [00:38<00:00,  5.24it/s]\n",
      "Converting s audios: 100%|███████████████████████████████████████████████████████████| 201/201 [00:40<00:00,  5.02it/s]\n",
      "Converting s audios: 100%|███████████████████████████████████████████████████████████| 201/201 [00:41<00:00,  4.80it/s]\n",
      "Converting s audios: 100%|███████████████████████████████████████████████████████████| 201/201 [00:43<00:00,  4.58it/s]\n",
      "Converting s audios: 100%|███████████████████████████████████████████████████████████| 201/201 [00:45<00:00,  4.43it/s]\n",
      "Converting s audios: 100%|███████████████████████████████████████████████████████████| 201/201 [00:47<00:00,  4.26it/s]\n",
      "Converting s audios: 100%|███████████████████████████████████████████████████████████| 201/201 [00:49<00:00,  4.07it/s]\n",
      "Converting s audios: 100%|███████████████████████████████████████████████████████████| 201/201 [00:50<00:00,  4.01it/s]\n",
      "Converting s audios: 100%|███████████████████████████████████████████████████████████| 201/201 [00:51<00:00,  3.88it/s]\n",
      "Converting s audios: 100%|███████████████████████████████████████████████████████████| 201/201 [00:53<00:00,  3.77it/s]\n",
      "Converting s audios: 100%|███████████████████████████████████████████████████████████| 201/201 [00:54<00:00,  3.66it/s]\n",
      "Converting s audios: 100%|███████████████████████████████████████████████████████████| 201/201 [00:57<00:00,  3.48it/s]\n",
      "Converting s audios: 100%|███████████████████████████████████████████████████████████| 201/201 [01:00<00:00,  3.30it/s]\n",
      "Converting s audios: 100%|███████████████████████████████████████████████████████████| 201/201 [01:01<00:00,  3.27it/s]\n",
      "Converting s audios: 100%|███████████████████████████████████████████████████████████| 201/201 [01:02<00:00,  3.20it/s]\n"
     ]
    }
   ],
   "source": [
    "data=get_std('s')"
   ]
  }
 ],
 "metadata": {
  "kernelspec": {
   "display_name": "Python 3",
   "language": "python",
   "name": "python3"
  },
  "language_info": {
   "codemirror_mode": {
    "name": "ipython",
    "version": 3
   },
   "file_extension": ".py",
   "mimetype": "text/x-python",
   "name": "python",
   "nbconvert_exporter": "python",
   "pygments_lexer": "ipython3",
   "version": "3.6.5"
  }
 },
 "nbformat": 4,
 "nbformat_minor": 2
}
